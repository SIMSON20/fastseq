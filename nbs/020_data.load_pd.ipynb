{
 "cells": [
  {
   "cell_type": "code",
   "execution_count": 86,
   "metadata": {
    "Collapsed": "false"
   },
   "outputs": [],
   "source": [
    "# default_exp data.load_pd"
   ]
  },
  {
   "cell_type": "code",
   "execution_count": 87,
   "metadata": {
    "Collapsed": "false"
   },
   "outputs": [],
   "source": [
    "# hide\n",
    "import sys\n",
    "\n",
    "sys.path.append(\"..\")\n",
    "import pandas as pd"
   ]
  },
  {
   "cell_type": "code",
   "execution_count": 88,
   "metadata": {
    "Collapsed": "false"
   },
   "outputs": [],
   "source": [
    "# export\n",
    "from fastseq.core import *\n",
    "from fastseq.data.external import *\n",
    "from fastcore.utils import *\n",
    "from fastcore.imports import *\n",
    "from fastai2.basics import *\n",
    "from fastai2.data.transforms import *\n",
    "from fastai2.tabular.core import *"
   ]
  },
  {
   "cell_type": "code",
   "execution_count": 89,
   "metadata": {
    "Collapsed": "false"
   },
   "outputs": [],
   "source": [
    "# hide\n",
    "from nbdev.showdoc import *"
   ]
  },
  {
   "cell_type": "markdown",
   "metadata": {
    "Collapsed": "false"
   },
   "source": [
    "# Data Load Dataframe\n",
    "\n",
    "\n",
    "> Using the fastai2 `Datasets` to make an time series dataset.\n",
    "\n",
    "A multivaraite time-series dataloader. \n",
    "\n",
    "TODO reduce mem: https://forums.fast.ai/t/how-to-handle-dataframes-too-large-to-fit-in-memory/39208/19"
   ]
  },
  {
   "cell_type": "code",
   "execution_count": 90,
   "metadata": {
    "Collapsed": "false"
   },
   "outputs": [],
   "source": [
    "# export\n",
    "import numpy as np\n",
    "import pandas as pd"
   ]
  },
  {
   "cell_type": "code",
   "execution_count": 91,
   "metadata": {
    "Collapsed": "false"
   },
   "outputs": [],
   "source": [
    "# export\n",
    "class TSMulti(MultiTuple):pass"
   ]
  },
  {
   "cell_type": "code",
   "execution_count": 92,
   "metadata": {
    "Collapsed": "false"
   },
   "outputs": [
    {
     "data": {
      "text/html": [
       "<div>\n",
       "<style scoped>\n",
       "    .dataframe tbody tr th:only-of-type {\n",
       "        vertical-align: middle;\n",
       "    }\n",
       "\n",
       "    .dataframe tbody tr th {\n",
       "        vertical-align: top;\n",
       "    }\n",
       "\n",
       "    .dataframe thead th {\n",
       "        text-align: right;\n",
       "    }\n",
       "</style>\n",
       "<table border=\"1\" class=\"dataframe\">\n",
       "  <thead>\n",
       "    <tr style=\"text-align: right;\">\n",
       "      <th></th>\n",
       "      <th>x</th>\n",
       "      <th>con_ts_1</th>\n",
       "      <th>con_ts_0</th>\n",
       "      <th>cat_ts_1</th>\n",
       "      <th>cat_ts_0</th>\n",
       "      <th>con_0</th>\n",
       "      <th>con_1</th>\n",
       "      <th>cat_0</th>\n",
       "      <th>cat_1</th>\n",
       "    </tr>\n",
       "  </thead>\n",
       "  <tbody>\n",
       "    <tr>\n",
       "      <th>0</th>\n",
       "      <td>[0, 1, 2, 3, 4, 5, 6, 7, 8, 9]</td>\n",
       "      <td>0    1.178776\n",
       "1    1.394467\n",
       "2    1.970620\n",
       "3    3.056866\n",
       "4    3.848589\n",
       "5    5.560003\n",
       "6    5.735694\n",
       "7    6.633312\n",
       "8    7.880141\n",
       "9    9.888608\n",
       "dtype: float64</td>\n",
       "      <td>[[1.0, 1.0, 1.0, 1.0, 1.0, 1.0, 1.0, 1.0, 1.0, 1.0]]</td>\n",
       "      <td>[david, john, david, john, david, john, david, john, david, john]</td>\n",
       "      <td>[a, b, a, b, a, b, a, b, a, b]</td>\n",
       "      <td>-0.833942</td>\n",
       "      <td>6.910812</td>\n",
       "      <td>a</td>\n",
       "      <td>adam</td>\n",
       "    </tr>\n",
       "    <tr>\n",
       "      <th>1</th>\n",
       "      <td>[0, 1, 2, 3, 4, 5, 6, 7, 8, 9, 10, 11]</td>\n",
       "      <td>0      0.257757\n",
       "1     -0.163927\n",
       "2      2.212884\n",
       "3      1.746133\n",
       "4      4.347487\n",
       "5      5.066963\n",
       "6      7.341525\n",
       "7      8.181653\n",
       "8      9.111848\n",
       "9      9.764725\n",
       "10    10.138601\n",
       "11    10.612840\n",
       "dtype: float64</td>\n",
       "      <td>[[1.0, 1.0, 1.0, 1.0, 1.0, 1.0, 1.0, 1.0, 1.0, 1.0, 1.0, 1.0]]</td>\n",
       "      <td>[david, john, david, john, david, john, david, john, david, john, david, john]</td>\n",
       "      <td>[a, b, a, b, a, b, a, b, a, b, a, b]</td>\n",
       "      <td>-2.246322</td>\n",
       "      <td>6.217016</td>\n",
       "      <td>b</td>\n",
       "      <td>rdam</td>\n",
       "    </tr>\n",
       "    <tr>\n",
       "      <th>2</th>\n",
       "      <td>[0, 1, 2, 3, 4, 5]</td>\n",
       "      <td>0   -0.887072\n",
       "1    0.195432\n",
       "2    4.327739\n",
       "3    2.483894\n",
       "4    3.305407\n",
       "5    4.886566\n",
       "dtype: float64</td>\n",
       "      <td>[[1.0, 1.0, 1.0, 1.0, 1.0, 1.0]]</td>\n",
       "      <td>[david, john, david, john, david, john]</td>\n",
       "      <td>[a, b, a, b, a, b]</td>\n",
       "      <td>1.359215</td>\n",
       "      <td>11.352575</td>\n",
       "      <td>a</td>\n",
       "      <td>adam</td>\n",
       "    </tr>\n",
       "  </tbody>\n",
       "</table>\n",
       "</div>"
      ],
      "text/plain": [
       "                                        x  \\\n",
       "0          [0, 1, 2, 3, 4, 5, 6, 7, 8, 9]   \n",
       "1  [0, 1, 2, 3, 4, 5, 6, 7, 8, 9, 10, 11]   \n",
       "2                      [0, 1, 2, 3, 4, 5]   \n",
       "\n",
       "                                                                                                                                                                                                         con_ts_1  \\\n",
       "0                                                      0    1.178776\n",
       "1    1.394467\n",
       "2    1.970620\n",
       "3    3.056866\n",
       "4    3.848589\n",
       "5    5.560003\n",
       "6    5.735694\n",
       "7    6.633312\n",
       "8    7.880141\n",
       "9    9.888608\n",
       "dtype: float64   \n",
       "1  0      0.257757\n",
       "1     -0.163927\n",
       "2      2.212884\n",
       "3      1.746133\n",
       "4      4.347487\n",
       "5      5.066963\n",
       "6      7.341525\n",
       "7      8.181653\n",
       "8      9.111848\n",
       "9      9.764725\n",
       "10    10.138601\n",
       "11    10.612840\n",
       "dtype: float64   \n",
       "2                                                                                                              0   -0.887072\n",
       "1    0.195432\n",
       "2    4.327739\n",
       "3    2.483894\n",
       "4    3.305407\n",
       "5    4.886566\n",
       "dtype: float64   \n",
       "\n",
       "                                                         con_ts_0  \\\n",
       "0            [[1.0, 1.0, 1.0, 1.0, 1.0, 1.0, 1.0, 1.0, 1.0, 1.0]]   \n",
       "1  [[1.0, 1.0, 1.0, 1.0, 1.0, 1.0, 1.0, 1.0, 1.0, 1.0, 1.0, 1.0]]   \n",
       "2                                [[1.0, 1.0, 1.0, 1.0, 1.0, 1.0]]   \n",
       "\n",
       "                                                                         cat_ts_1  \\\n",
       "0               [david, john, david, john, david, john, david, john, david, john]   \n",
       "1  [david, john, david, john, david, john, david, john, david, john, david, john]   \n",
       "2                                         [david, john, david, john, david, john]   \n",
       "\n",
       "                               cat_ts_0     con_0      con_1 cat_0 cat_1  \n",
       "0        [a, b, a, b, a, b, a, b, a, b] -0.833942   6.910812     a  adam  \n",
       "1  [a, b, a, b, a, b, a, b, a, b, a, b] -2.246322   6.217016     b  rdam  \n",
       "2                    [a, b, a, b, a, b]  1.359215  11.352575     a  adam  "
      ]
     },
     "execution_count": 92,
     "metadata": {},
     "output_type": "execute_result"
    }
   ],
   "source": [
    "def get_df(length = [100,120]):\n",
    "    dct = {'x':[],'con_ts_1':[],'con_ts_0':[],'cat_ts_1':[],'cat_ts_0':[],'con_0':[],'con_1':[], 'cat_0':[],'cat_1':[]}\n",
    "    for i, l in enumerate(length):\n",
    "        assert int(l/2) == l/2\n",
    "        dct['x'].append(np.arange(l))\n",
    "        dct['con_ts_0'].append(np.ones(l)[None,:])\n",
    "        dct['con_ts_1'].append(pd.Series(np.arange(l)+np.random.randn(l)))\n",
    "        dct['con_0'].append(np.random.randn())\n",
    "        dct['con_1'].append(10+np.random.randn()*2)\n",
    "        dct['cat_ts_0'].append(L(['a','b']*int(l/2)))\n",
    "        dct['cat_ts_1'].append(L(['david','john']*int(l/2)))\n",
    "        dct['cat_0'].append(['a','b'][i%2])\n",
    "        dct['cat_1'].append(['adam','rdam'][i%2])\n",
    "    return pd.DataFrame(data=dct)\n",
    "df = get_df([10,12,6])\n",
    "df"
   ]
  },
  {
   "cell_type": "markdown",
   "metadata": {
    "Collapsed": "false"
   },
   "source": [
    "## Transform catagorical data"
   ]
  },
  {
   "cell_type": "code",
   "execution_count": 93,
   "metadata": {
    "Collapsed": "false"
   },
   "outputs": [],
   "source": [
    "# export\n",
    "class TensorCatI(TensorBase):pass\n",
    "class CatSeqI(TensorSeqs):pass\n",
    "def unpack_list(o, r=None):\n",
    "    r = ifnone(r,L())\n",
    "    for a in o:\n",
    "        if isinstance(a,list) or isinstance(a,L):\n",
    "            r = unpack_list(a, r)\n",
    "        else:\n",
    "            r.append(a)\n",
    "    return r\n",
    "            \n",
    "class CatTfm(Transform):\n",
    "    def __init__(self, df, cat_cols:[]): # maybe change to proccs\n",
    "        self.vocab,self.o2i = {},{}\n",
    "        for i, col in enumerate(L(cat_cols)):\n",
    "            r = unpack_list(list(df[col]))\n",
    "            self.vocab[col], self.o2i[col] = uniqueify(r, sort=True, bidir=True)\n",
    "        \n",
    "    def encodes(self, x:TensorCat):\n",
    "        r = []\n",
    "        for i, (o, key) in enumerate(zip(x.o, x._meta['label'])):\n",
    "            r.append(self.o2i[key][o])#TensorCat   \n",
    "        return TensorCatI(r, label = x._meta['label'])\n",
    "    \n",
    "    def decodes(self, x:TensorCatI): \n",
    "        r = []\n",
    "        for i,(o, key) in enumerate(zip(x,x._meta['label'])):\n",
    "            r.append(self.vocab[key][o]) #TensorCat   \n",
    "        return TensorCat(r, label = x._meta['label'])\n",
    "    \n",
    "    def encodes(self, x:CatSeq):\n",
    "        r = []\n",
    "        for i,(o, key) in enumerate(zip(x.o,x._meta['label'])):\n",
    "            r.append([])\n",
    "            for a in o: \n",
    "                r[i].append(self.o2i[key][a]) #CatSeq        \n",
    "        return CatSeqI(r, label = x._meta['label'])\n",
    "    \n",
    "    def decodes(self, x:CatSeqI):\n",
    "        r = []        \n",
    "        for i, (o, key) in enumerate(zip(x,x._meta['label'])):\n",
    "            r.append([])\n",
    "            for a in o:\n",
    "                r[i].append(self.vocab[key][a])  \n",
    "        return CatSeq(r, label = x._meta.get('label',None))\n",
    "    \n",
    "    "
   ]
  },
  {
   "cell_type": "code",
   "execution_count": 94,
   "metadata": {
    "Collapsed": "false"
   },
   "outputs": [
    {
     "data": {
      "text/plain": [
       "TensorCatI([0, 1])"
      ]
     },
     "execution_count": 94,
     "metadata": {},
     "output_type": "execute_result"
    }
   ],
   "source": [
    "o = CatSeq([['y','z','z','z'],['adam','rdam','adam','rdam']], label = ['cat_ts_1', 'cat_ts_0'])\n",
    "df = pd.DataFrame({'cat_ts_1':[[i] for i in 'xzy'],'cat_ts_0':[[i] for i in ['adam','rdam','adam']],\n",
    "                   'cat':['john','john','david'], 'cat1':['_john','_john','_david']})\n",
    "tmf = CatTfm(df, ['cat_ts_0','cat_ts_1','cat','cat1'])\n",
    "tmf(o)\n",
    "o = TensorCat(['david','_john'], label = ['cat','cat1'])\n",
    "tmf(o)\n"
   ]
  },
  {
   "cell_type": "code",
   "execution_count": 95,
   "metadata": {
    "Collapsed": "false"
   },
   "outputs": [
    {
     "data": {
      "text/plain": [
       "CatSeq([['a', 'b', 'a', 'a']], label = ['a'])"
      ]
     },
     "execution_count": 95,
     "metadata": {},
     "output_type": "execute_result"
    }
   ],
   "source": [
    "df = pd.DataFrame({'a':[[i,'a'] for i in 'aabb']})\n",
    "tmf = CatTfm(df, ['a'])\n",
    "o = CatSeq([['a','b','a','a']], label='a')\n",
    "o_tmf = tmf(o)\n",
    "test_eq(o_tmf, TensorCatI([[0, 1, 0, 0]]))\n",
    "test_eq(o_tmf._meta['label'], 'a')\n",
    "dec_o = tmf.decode(o_tmf)\n",
    "test_eq(dec_o,o)\n",
    "dec_o"
   ]
  },
  {
   "cell_type": "code",
   "execution_count": 96,
   "metadata": {
    "Collapsed": "false"
   },
   "outputs": [],
   "source": [
    "df = pd.DataFrame({'a':[i for i in 'aabb']})\n",
    "tmf = CatTfm(df, ['a'])\n",
    "o_tmf = tmf(TensorCat(['a'], label='a'))\n",
    "test_eq_type(o_tmf,TensorCatI([0]))\n",
    "test_eq(tmf.decode(o_tmf),TensorCat(['a'],label = 'a'))\n",
    "\n",
    "o_tmf = tmf(TensorCat(['b'], label='a'))\n",
    "test_eq_type(o_tmf,TensorCatI([1]))\n",
    "test_eq(tmf.decode(o_tmf),TensorCat(['b'],label='a'))"
   ]
  },
  {
   "cell_type": "code",
   "execution_count": 97,
   "metadata": {
    "Collapsed": "false"
   },
   "outputs": [],
   "source": [
    "df = pd.DataFrame({'a':[i for i in 'aabb'], 'a_2':[i for i in 'bccb'],})\n",
    "tmf = CatTfm(df, ['a','a_2'])\n",
    "o_tmf = tmf(TensorCat(['a','b'], label = ['a','a_2']))\n",
    "test_eq_type(o_tmf,TensorCatI([0,0]))\n",
    "test_eq(tmf.decode(o_tmf),TensorCat(['a','b'],label = 'a'))"
   ]
  },
  {
   "cell_type": "code",
   "execution_count": 98,
   "metadata": {
    "Collapsed": "false"
   },
   "outputs": [
    {
     "name": "stdout",
     "output_type": "stream",
     "text": [
      "CatSeqI([[0, 1, 0, 0],\n",
      "        [0, 0, 1, 1]])\n"
     ]
    },
    {
     "data": {
      "text/plain": [
       "CatSeq([['a', 'b', 'a', 'a'], ['b', 'b', 'c', 'c']], label = ['a', 'a_2'])"
      ]
     },
     "execution_count": 98,
     "metadata": {},
     "output_type": "execute_result"
    }
   ],
   "source": [
    "df = pd.DataFrame({'a':[i for i in 'aabb'], 'a_2':[i for i in 'bccb'],})\n",
    "tmf = CatTfm(df, ['a','a_2'])\n",
    "o = CatSeq([['a','b','a','a'],['b','b','c','c']], label=['a','a_2'])\n",
    "o_tmf = tmf(o)\n",
    "print(o_tmf)\n",
    "test_eq(o_tmf, CatSeqI([[0, 1, 0, 0],\n",
    "                        [0, 0, 1, 1]]))\n",
    "test_eq(o_tmf._meta['label'], ['a','a_2'])\n",
    "dec_o = tmf.decode(o_tmf)\n",
    "test_eq(dec_o,o)\n",
    "dec_o"
   ]
  },
  {
   "cell_type": "code",
   "execution_count": 99,
   "metadata": {
    "Collapsed": "false"
   },
   "outputs": [],
   "source": [
    "# export\n",
    "class TSMulti_(Tuple):pass\n",
    "\n",
    "class CatMultiTfm(ItemTransform):\n",
    "    @delegates(CatTfm.__init__)\n",
    "    def __init__(self, *args, **kwargs): # maybe change to proccs\n",
    "        self.f = CatTfm(*args, **kwargs)\n",
    "        \n",
    "    def encodes(self, o:TSMulti):\n",
    "        return TSMulti_(self.f(a) for a in o)\n",
    "    \n",
    "    def decodes(self, o:TSMulti_): \n",
    "        return TSMulti(self.f.decode(a) for a in o)\n",
    "    "
   ]
  },
  {
   "cell_type": "code",
   "execution_count": 100,
   "metadata": {
    "Collapsed": "false"
   },
   "outputs": [
    {
     "data": {
      "text/html": [
       "<div>\n",
       "<style scoped>\n",
       "    .dataframe tbody tr th:only-of-type {\n",
       "        vertical-align: middle;\n",
       "    }\n",
       "\n",
       "    .dataframe tbody tr th {\n",
       "        vertical-align: top;\n",
       "    }\n",
       "\n",
       "    .dataframe thead th {\n",
       "        text-align: right;\n",
       "    }\n",
       "</style>\n",
       "<table border=\"1\" class=\"dataframe\">\n",
       "  <thead>\n",
       "    <tr style=\"text-align: right;\">\n",
       "      <th></th>\n",
       "      <th>x</th>\n",
       "      <th>con_ts_1</th>\n",
       "      <th>con_ts_0</th>\n",
       "      <th>cat_ts_1</th>\n",
       "      <th>cat_ts_0</th>\n",
       "      <th>con_0</th>\n",
       "      <th>con_1</th>\n",
       "      <th>cat_0</th>\n",
       "      <th>cat_1</th>\n",
       "    </tr>\n",
       "  </thead>\n",
       "  <tbody>\n",
       "    <tr>\n",
       "      <th>0</th>\n",
       "      <td>[0, 1, 2, 3, 4, 5, 6, 7, 8, 9, 10, 11, 12, 13]</td>\n",
       "      <td>0     -0.442256\n",
       "1     -0.247668\n",
       "2      0.521699\n",
       "3      2.013369\n",
       "4      4.387965\n",
       "5      4.340233\n",
       "6      8.634326\n",
       "7      6.803151\n",
       "8      7.199226\n",
       "9      8.936580\n",
       "10    10.944547\n",
       "11     9.741305\n",
       "12    12.240018\n",
       "13    12.647314\n",
       "dtype: float64</td>\n",
       "      <td>[[1.0, 1.0, 1.0, 1.0, 1.0, 1.0, 1.0, 1.0, 1.0, 1.0, 1.0, 1.0, 1.0, 1.0]]</td>\n",
       "      <td>[david, john, david, john, david, john, david, john, david, john, david, john, david, john]</td>\n",
       "      <td>[a, b, a, b, a, b, a, b, a, b, a, b, a, b]</td>\n",
       "      <td>-0.976412</td>\n",
       "      <td>8.747173</td>\n",
       "      <td>a</td>\n",
       "      <td>adam</td>\n",
       "    </tr>\n",
       "    <tr>\n",
       "      <th>1</th>\n",
       "      <td>[0, 1, 2, 3, 4, 5, 6, 7, 8, 9, 10, 11, 12, 13]</td>\n",
       "      <td>0      0.416248\n",
       "1     -0.004078\n",
       "2      3.354975\n",
       "3      4.876158\n",
       "4      4.960925\n",
       "5      3.654858\n",
       "6      4.634195\n",
       "7      7.777974\n",
       "8      8.100709\n",
       "9      9.803136\n",
       "10    10.220005\n",
       "11    11.470603\n",
       "12    11.829595\n",
       "13    13.581765\n",
       "dtype: float64</td>\n",
       "      <td>[[1.0, 1.0, 1.0, 1.0, 1.0, 1.0, 1.0, 1.0, 1.0, 1.0, 1.0, 1.0, 1.0, 1.0]]</td>\n",
       "      <td>[david, john, david, john, david, john, david, john, david, john, david, john, david, john]</td>\n",
       "      <td>[a, b, a, b, a, b, a, b, a, b, a, b, a, b]</td>\n",
       "      <td>0.100681</td>\n",
       "      <td>5.834008</td>\n",
       "      <td>b</td>\n",
       "      <td>rdam</td>\n",
       "    </tr>\n",
       "  </tbody>\n",
       "</table>\n",
       "</div>"
      ],
      "text/plain": [
       "                                                x  \\\n",
       "0  [0, 1, 2, 3, 4, 5, 6, 7, 8, 9, 10, 11, 12, 13]   \n",
       "1  [0, 1, 2, 3, 4, 5, 6, 7, 8, 9, 10, 11, 12, 13]   \n",
       "\n",
       "                                                                                                                                                                                                                                         con_ts_1  \\\n",
       "0  0     -0.442256\n",
       "1     -0.247668\n",
       "2      0.521699\n",
       "3      2.013369\n",
       "4      4.387965\n",
       "5      4.340233\n",
       "6      8.634326\n",
       "7      6.803151\n",
       "8      7.199226\n",
       "9      8.936580\n",
       "10    10.944547\n",
       "11     9.741305\n",
       "12    12.240018\n",
       "13    12.647314\n",
       "dtype: float64   \n",
       "1  0      0.416248\n",
       "1     -0.004078\n",
       "2      3.354975\n",
       "3      4.876158\n",
       "4      4.960925\n",
       "5      3.654858\n",
       "6      4.634195\n",
       "7      7.777974\n",
       "8      8.100709\n",
       "9      9.803136\n",
       "10    10.220005\n",
       "11    11.470603\n",
       "12    11.829595\n",
       "13    13.581765\n",
       "dtype: float64   \n",
       "\n",
       "                                                                   con_ts_0  \\\n",
       "0  [[1.0, 1.0, 1.0, 1.0, 1.0, 1.0, 1.0, 1.0, 1.0, 1.0, 1.0, 1.0, 1.0, 1.0]]   \n",
       "1  [[1.0, 1.0, 1.0, 1.0, 1.0, 1.0, 1.0, 1.0, 1.0, 1.0, 1.0, 1.0, 1.0, 1.0]]   \n",
       "\n",
       "                                                                                      cat_ts_1  \\\n",
       "0  [david, john, david, john, david, john, david, john, david, john, david, john, david, john]   \n",
       "1  [david, john, david, john, david, john, david, john, david, john, david, john, david, john]   \n",
       "\n",
       "                                     cat_ts_0     con_0     con_1 cat_0 cat_1  \n",
       "0  [a, b, a, b, a, b, a, b, a, b, a, b, a, b] -0.976412  8.747173     a  adam  \n",
       "1  [a, b, a, b, a, b, a, b, a, b, a, b, a, b]  0.100681  5.834008     b  rdam  "
      ]
     },
     "execution_count": 100,
     "metadata": {},
     "output_type": "execute_result"
    }
   ],
   "source": [
    "df = get_df([14,14])\n",
    "tmf = CatMultiTfm(df,['cat_ts_1', 'cat_ts_0', 'cat_0','cat_1'])\n",
    "df"
   ]
  },
  {
   "cell_type": "code",
   "execution_count": 101,
   "metadata": {
    "Collapsed": "false"
   },
   "outputs": [],
   "source": [
    "o = TSMulti(TensorBase([1]), TensorCat(['adam','b'],label=['cat_1','cat_0']), \n",
    "            CatSeq([['david','david'],['a','b']], label=['cat_ts_1','cat_ts_0']))\n",
    "o_tmf = tmf(o)\n",
    "test_eq(o_tmf,(TensorBase([1]), TensorCatI([0,1]), CatSeqI([[0,0],[0,1]])))\n",
    "o_b =tmf.decode(o_tmf)\n",
    "test_eq(o_b, o)\n",
    "test_eq(type(o_b), type(TSMulti(1)))"
   ]
  },
  {
   "cell_type": "markdown",
   "metadata": {
    "Collapsed": "false"
   },
   "source": [
    "# Dataloader"
   ]
  },
  {
   "cell_type": "markdown",
   "metadata": {
    "Collapsed": "false"
   },
   "source": [
    "## pred"
   ]
  },
  {
   "cell_type": "code",
   "execution_count": 102,
   "metadata": {
    "Collapsed": "false"
   },
   "outputs": [],
   "source": [
    "# export\n",
    "def array2series(o):\n",
    "    return pd.Series(o.flatten())\n",
    "def arrays2series(s:pd.Series):\n",
    "    return pd.Series([array2series(o) for o in s])"
   ]
  },
  {
   "cell_type": "code",
   "execution_count": 103,
   "metadata": {
    "Collapsed": "false"
   },
   "outputs": [],
   "source": [
    "df = pd.DataFrame(data={'x':  [np.arange(10.),\n",
    "                               np.arange(12.)],\n",
    "                       'ts_0':[np.ones(10)[None,:],\n",
    "                               np.ones(12)[None,:]],\n",
    "                       })\n",
    "df['x'] = arrays2series(df['x'])\n",
    "df['ts_0'] = arrays2series(df['ts_0'])\n",
    "test_eq(type(df['ts_0']), pd.Series)\n",
    "test_eq(type(df['x']), pd.Series)"
   ]
  },
  {
   "cell_type": "code",
   "execution_count": 104,
   "metadata": {
    "Collapsed": "false"
   },
   "outputs": [],
   "source": [
    "# hide\n",
    "df = pd.DataFrame(data={'x':  [np.arange(10.)]*100,\n",
    "                       'ts_0':[np.ones(10)[None,:]]*100,\n",
    "                       })\n",
    "df['x'] = arrays2series(df['x'])\n",
    "df['ts_0'] = arrays2series(df['ts_0'])\n",
    "test_eq(type(df['ts_0']), pd.Series)\n",
    "test_eq(type(df['x']), pd.Series)"
   ]
  },
  {
   "cell_type": "code",
   "execution_count": 105,
   "metadata": {
    "Collapsed": "false"
   },
   "outputs": [],
   "source": [
    "# export\n",
    "def reconize_cols(dataset):\n",
    "    con_names, cat_names, con_ts_names, cat_ts_names, classes = L(), L(), L(), L(), {}\n",
    "    for col in dataset.columns:\n",
    "        t = type(dataset[col].iloc[0])\n",
    "        if t is pd.core.series.Series:\n",
    "            con_ts_names.append(col)\n",
    "        elif t is np.ndarray:\n",
    "            o = arrays2series(dataset[col])\n",
    "            dataset[col] = o\n",
    "            con_ts_names.append(col)\n",
    "        elif isinstance(dataset[col].iloc[0], str):\n",
    "            cat_names.append(col)\n",
    "            classes[col] = uniqueify(list(dataset[col].values))\n",
    "        elif isinstance(dataset[col].iloc[0], float) or isinstance(dataset[col].iloc[0], int) or t is np.int64:\n",
    "            con_names.append(col)            \n",
    "        elif isinstance(dataset[col].iloc[0], L) or isinstance(dataset[col].iloc[0],list):\n",
    "            cat_ts_names.append(col)\n",
    "            classes[col] = uniqueify(unpack_list(list(dataset[col])))\n",
    "        else:\n",
    "            raise Exception(t)\n",
    "    return con_names, cat_names, con_ts_names, cat_ts_names, classes, dataset"
   ]
  },
  {
   "cell_type": "code",
   "execution_count": 107,
   "metadata": {
    "Collapsed": "false"
   },
   "outputs": [
    {
     "data": {
      "text/plain": [
       "((#2) ['con_0','con_1'],\n",
       " (#2) ['cat_0','cat_1'],\n",
       " (#3) ['x','con_ts_1','con_ts_0'],\n",
       " (#2) ['cat_ts_1','cat_ts_0'])"
      ]
     },
     "execution_count": 107,
     "metadata": {},
     "output_type": "execute_result"
    }
   ],
   "source": [
    "df = get_df()\n",
    "con_names, cat_names, con_ts_names, cat_ts_names, classes, dataset = reconize_cols(df)\n",
    "test_eq(con_names, ['con_0','con_1'])\n",
    "test_eq(cat_names, ['cat_0','cat_1'])\n",
    "test_eq(set(con_ts_names), set(['x','con_ts_0','con_ts_1']))\n",
    "test_eq(set(cat_ts_names), set(['cat_ts_0','cat_ts_1']))\n",
    "test_eq(classes, {'cat_ts_0': ['a','b'],\n",
    "                  'cat_ts_1': ['david','john'],\n",
    "                  'cat_0': ['a','b'],\n",
    "                  'cat_1': ['adam','rdam']\n",
    "                 })\n",
    "con_names, cat_names, con_ts_names, cat_ts_names"
   ]
  },
  {
   "cell_type": "code",
   "execution_count": 108,
   "metadata": {
    "Collapsed": "false"
   },
   "outputs": [
    {
     "data": {
      "text/plain": [
       "[(#2) [(#100) ['a','b','a','b','a','b','a','b','a','b'...],(#100) ['david','john','david','john','david','john','david','john','david','john'...]],\n",
       " (#2) [(#120) ['a','b','a','b','a','b','a','b','a','b'...],(#120) ['david','john','david','john','david','john','david','john','david','john'...]]]"
      ]
     },
     "execution_count": 108,
     "metadata": {},
     "output_type": "execute_result"
    }
   ],
   "source": [
    "list([L([a for a in o]) for o in df[['cat_ts_0','cat_ts_1']].values])"
   ]
  },
  {
   "cell_type": "code",
   "execution_count": 109,
   "metadata": {
    "Collapsed": "false"
   },
   "outputs": [],
   "source": [
    "# export\n",
    "class PrepDF(TabularProc):\n",
    "    def setup(self, dl, train_setup):\n",
    "        # speed up retrival\n",
    "        dl.con = dl.dataset.loc[:,dl.con_names].values.astype(float)\n",
    "        dl.cat = [list(dl.dataset.loc[i,dl.cat_names]) for i in range(dl.dataset.shape[0])]\n",
    "        if len(dl.con_ts_names):\n",
    "            dl.tsx_con = [np.concatenate([o[None,:] for o in dl.dataset.loc[i,dl.con_ts_names].values]) for i in range(dl.dataset.shape[0])]\n",
    "        else:\n",
    "            dl.tsx_con = [np.empty([0,0]) for i in range(dl.dataset.shape[0])]\n",
    "            \n",
    "        if len(dl.cat_ts_names):\n",
    "            dl.tsx_cat = list([L([a for a in o]) for o in df[dl.cat_ts_names].values])\n",
    "        else:\n",
    "            dl.tsx_cat = ['']*dl.dataset.shape[0]   \n",
    "        assert len(dl.cat) == len(dl.tsx_con) == dl.con.shape[0] == len(dl.tsx_cat), f\"{len(dl.cat)} == {len(dl.tsx_con)} == {dl.con.shape[0]} == {len(dl.tsx_cat)}\"\n",
    "        return dl"
   ]
  },
  {
   "cell_type": "code",
   "execution_count": 114,
   "metadata": {
    "Collapsed": "false"
   },
   "outputs": [
    {
     "data": {
      "text/plain": [
       "[(#2) [(#100) ['david','john','david','john','david','john','david','john','david','john'...],(#100) ['a','b','a','b','a','b','a','b','a','b'...]],\n",
       " (#2) [(#120) ['david','john','david','john','david','john','david','john','david','john'...],(#120) ['a','b','a','b','a','b','a','b','a','b'...]]]"
      ]
     },
     "execution_count": 114,
     "metadata": {},
     "output_type": "execute_result"
    }
   ],
   "source": [
    "class test_dl(TfmdDL):    \n",
    "    def __init__(self, dataset:pd.DataFrame, y_name, lookback = 10, horizon=3,step=1,min_seq_len=None):\n",
    "        con_names, cat_names, con_ts_names, cat_ts_names, classes, dataset = reconize_cols(dataset)  \n",
    "        store_attr(self,'lookback,horizon,step,y_name,con_names,cat_names,con_ts_names,cat_ts_names,classes,dataset')     \n",
    "        assert y_name in self.con_ts_names, {k:getattr(self,k) for k in 'con_names,cat_names,con_ts_names,cat_ts_names'.split(',')}\n",
    "        self.con_ts_names.remove(y_name) \n",
    "        PrepDF().setup(self, True)    \n",
    "        self.min_seq_len = ifnone(min_seq_len, lookback)\n",
    "        \n",
    "df = get_df()\n",
    "dl = test_dl(df, 'x')\n",
    "test_eq(dl.cat,[['a', 'adam'], ['b', 'rdam']])\n",
    "test_eq(dl.con.shape,(2,2))\n",
    "test_eq(dl.tsx_con[0].shape, [2,100])\n",
    "test_eq(len(dl.tsx_cat), 2)\n",
    "test_eq(len(dl.tsx_cat[0]), 2)\n",
    "test_eq(len(dl.tsx_cat[0][0]), 100)\n",
    "dl.tsx_cat"
   ]
  },
  {
   "cell_type": "code",
   "execution_count": 115,
   "metadata": {
    "Collapsed": "false"
   },
   "outputs": [
    {
     "name": "stdout",
     "output_type": "stream",
     "text": [
      "['x']\n",
      "['x', 'cat_ts_0']\n",
      "['x', 'con_ts_1']\n",
      "['x', 'cat_1']\n",
      "['x', 'con_0']\n"
     ]
    }
   ],
   "source": [
    "for cols in [['x'],['x','cat_ts_0'],['x','con_ts_1'],['x','cat_1'],['x','con_0']]:\n",
    "    print(cols)\n",
    "    df = get_df()[cols]\n",
    "    dl = test_dl(df, 'x')\n"
   ]
  },
  {
   "cell_type": "code",
   "execution_count": 116,
   "metadata": {
    "Collapsed": "false"
   },
   "outputs": [],
   "source": [
    "# export\n",
    "def same_size_ts(ts:pd.Series, ts_names, _raise = True):\n",
    "    shapes = {k:ts[k].shape if hasattr(ts[k],'shape') else (len(ts[k]),) for k in ts_names}\n",
    "    all_same = [[(shapes[c] == shapes[a]) for c in ts_names] for a in ts_names]\n",
    "    mask = np.array(all_same)\n",
    "    if _raise:\n",
    "        assert np.sum(mask) == len(ts_names)**2, shapes\n",
    "    return np.sum(mask) == len(ts_names)**2\n",
    "    "
   ]
  },
  {
   "cell_type": "code",
   "execution_count": 117,
   "metadata": {
    "Collapsed": "false"
   },
   "outputs": [
    {
     "data": {
      "text/plain": [
       "True"
      ]
     },
     "execution_count": 117,
     "metadata": {},
     "output_type": "execute_result"
    }
   ],
   "source": [
    "df = get_df()\n",
    "con_names, cat_names, con_ts_names, cat_ts_names, classes, dataset = reconize_cols(df)\n",
    "same_size_ts(dataset.iloc[0,:], ['x','con_ts_0','con_ts_1','cat_ts_0'])"
   ]
  },
  {
   "cell_type": "code",
   "execution_count": 118,
   "metadata": {
    "Collapsed": "false"
   },
   "outputs": [],
   "source": [
    "# hide\n",
    "df = pd.DataFrame(data={'ts_0':[pd.Series(np.arange(10)),\n",
    "                           pd.Series(np.arange(10))],\n",
    "                   'ts_1':[pd.Series(np.arange(1,11)),\n",
    "                           pd.Series(np.arange(1,12))],\n",
    "                   'var_0':[0.,1.],\n",
    "                   'con_0':[0,1]})\n",
    "for i, row in df.iterrows():\n",
    "    if i == 0:\n",
    "        test_eq(same_size_ts(row,['ts_0','ts_1'], False),True)\n",
    "    if i == 1:\n",
    "        test_eq(same_size_ts(row,['ts_0','ts_1'], False),False)"
   ]
  },
  {
   "cell_type": "code",
   "execution_count": 119,
   "metadata": {
    "Collapsed": "false"
   },
   "outputs": [],
   "source": [
    "# export\n",
    "def make_ids(dl):\n",
    "    \"\"\"Make ids if the sequence is shorter than `min_seq_len`, it will drop that sequence.\"\"\"\n",
    "    # Slice each time series into examples, assigning IDs to each\n",
    "    last_id = 0\n",
    "    n_dropped = 0\n",
    "    n_needs_padding = 0\n",
    "    dl._ids = {}\n",
    "    for i, ts in dl.dataset.iterrows():\n",
    "        same_size_ts(ts, dl.con_ts_names + dl.cat_ts_names)\n",
    "        num_examples = (ts[dl.y_name].shape[-1] - dl.lookback - dl.horizon + dl.step) // dl.step\n",
    "        # Time series shorter than the forecast horizon need to be dropped.\n",
    "        if ts[dl.y_name].shape[-1] < dl.min_seq_len:\n",
    "            n_dropped += 1\n",
    "            continue\n",
    "        # For short time series zero pad the input\n",
    "        if ts[dl.y_name].shape[-1] < dl.lookback + dl.horizon:\n",
    "            n_needs_padding += 1\n",
    "            num_examples = 1\n",
    "        for j in range(num_examples):\n",
    "            dl._ids[last_id + j] = (i, j * dl.step)\n",
    "        last_id += num_examples\n",
    "\n",
    "    # Inform user about time series that were too short\n",
    "    if n_dropped > 0:\n",
    "        print(\"Dropped {}/{} time series due to length.\".format(\n",
    "                n_dropped, len(dl.dataset)))\n",
    "\n",
    "    # Inform user about time series that were short\n",
    "    if n_needs_padding > 0:\n",
    "        print(\"Need to pad {}/{} time series due to length.\".format(\n",
    "                n_needs_padding, len(dl.dataset)))\n",
    "    # Store the number of training examples\n",
    "    dl.n = int(dl._ids.__len__() )\n",
    "    return dl, int(dl._ids.__len__() )\n",
    "    "
   ]
  },
  {
   "cell_type": "code",
   "execution_count": 120,
   "metadata": {
    "Collapsed": "false"
   },
   "outputs": [],
   "source": [
    "df = get_df([14,14,16])\n",
    "dl = test_dl(df, 'x', lookback= 10,horizon = 2)\n",
    "dl, n = make_ids(dl)\n",
    "test_eq(dl._ids,{0: (0, 0),\n",
    "                 1: (0, 1),\n",
    "                 2: (0, 2),\n",
    "                 3: (1, 0),\n",
    "                 4: (1, 1),\n",
    "                 5: (1, 2),\n",
    "                 6: (2, 0),\n",
    "                 7: (2, 1),\n",
    "                 8: (2, 2),\n",
    "                 9: (2, 3),\n",
    "                 10: (2, 4)\n",
    "                })"
   ]
  },
  {
   "cell_type": "code",
   "execution_count": 121,
   "metadata": {
    "Collapsed": "false"
   },
   "outputs": [],
   "source": [
    "# export\n",
    "@typedispatch\n",
    "def get_part_of_ts(x, lookback_id, length, pad=np.mean, t = tensor, **kwargs):\n",
    "#     if len(x.shape) == 1:\n",
    "#         x = x[None,:]\n",
    "#     if isinstance(x[0,0],int):\n",
    "#         x = x.astype(float)\n",
    "    if x.shape[-1] < length:\n",
    "        # If the time series is too short, we pad\n",
    "        padding = pad(x, -1)\n",
    "        x = t(np.pad(\n",
    "            x, # report issue https://github.com/numpy/numpy/issues/15606\n",
    "            pad_width=((0, 0), (length - x.shape[-1], 0)),\n",
    "            mode='constant',\n",
    "            constant_values=padding\n",
    "        ), **kwargs).float()\n",
    "        assert x.shape == (x.shape[0],length), f\"{x.shape}\\t,{lookback_id}, 'tsshape':{x.shape}\"\n",
    "    else:\n",
    "        x = t(x[:,lookback_id:lookback_id + length], **kwargs).float()\n",
    "    return x\n"
   ]
  },
  {
   "cell_type": "code",
   "execution_count": 122,
   "metadata": {
    "Collapsed": "false"
   },
   "outputs": [],
   "source": [
    "x = np.vstack([np.arange(10.)]*2)\n",
    "test_eq(get_part_of_ts(x, 2, 5), torch.cat([torch.arange(2,7.)[None,:]]*2))\n",
    "test_eq(get_part_of_ts(x, 0, 11), tensor([[4.5, 0, 1, 2, 3, 4, 5, 6, 7, 8, 9],\n",
    "                                          [4.5, 0, 1, 2, 3, 4, 5, 6, 7, 8, 9]]))\n",
    "\n",
    "# report issue https://github.com/numpy/numpy/issues/15606\n",
    "x = np.arange(10.)[None,:]\n",
    "test_eq(get_part_of_ts(x, 0, 11), tensor([[4.5, 0, 1, 2, 3, 4, 5, 6, 7, 8, 9]]))"
   ]
  },
  {
   "cell_type": "code",
   "execution_count": 123,
   "metadata": {
    "Collapsed": "false"
   },
   "outputs": [],
   "source": [
    "# hide\n",
    "x = np.arange(10.)[None,:]\n",
    "o =get_part_of_ts(x, 0, 11, t = TensorBase, label='a')\n",
    "test_eq_type(o, TensorBase([[4.5, 0, 1, 2, 3, 4, 5, 6, 7, 8, 9]])) \n",
    "test_eq(o._meta, {'label':'a'})"
   ]
  },
  {
   "cell_type": "code",
   "execution_count": 124,
   "metadata": {
    "Collapsed": "false"
   },
   "outputs": [],
   "source": [
    "# export\n",
    "@typedispatch\n",
    "def get_part_of_ts(x:L, lookback_id, length, t = L, **kwargs):\n",
    "    if len(x[0]) < length:\n",
    "        # If the time series is too short, we pad\n",
    "        padding = [o[-1] for o in x]\n",
    "        pad_len = length - len(x[0])\n",
    "        x = t(L(o[lookback_id:lookback_id + length] + [padding[i]]*pad_len) for i,o in enumerate(x))\n",
    "    else:\n",
    "        x = t([o[lookback_id:lookback_id + length] for o in x], **kwargs)\n",
    "    return x"
   ]
  },
  {
   "cell_type": "code",
   "execution_count": 125,
   "metadata": {
    "Collapsed": "false"
   },
   "outputs": [],
   "source": [
    "x = L(['a','b']*5,['z','x']*5)\n",
    "o =get_part_of_ts(x, 1, 5)\n",
    "test_eq(len(o), 2)\n",
    "for a in o:\n",
    "    test_eq(len(a),5)\n",
    "test_eq(type(o),L)"
   ]
  },
  {
   "cell_type": "code",
   "execution_count": 126,
   "metadata": {
    "Collapsed": "false"
   },
   "outputs": [],
   "source": [
    "x = L(['a','b']*2, ['z','x']*2)\n",
    "o =get_part_of_ts(x, 0, 5)\n",
    "test_eq(len(o), 2)\n",
    "for a in o:\n",
    "    test_eq(len(a),5)\n",
    "test_eq(type(o),L)"
   ]
  },
  {
   "cell_type": "code",
   "execution_count": 127,
   "metadata": {
    "Collapsed": "false"
   },
   "outputs": [],
   "source": [
    "# export\n",
    "from fastseq.core import *\n",
    "def get_id(dl, ts_id, lookback_id):\n",
    "    y = get_part_of_ts(dl.dataset.loc[ts_id, dl.y_name].values[None,:], lookback_id, dl.lookback + dl.horizon,\n",
    "                       t = TensorSeqs, label=[dl.y_name + '_y'], m=['g'])\n",
    "    x = TensorSeqs(y[:,:dl.lookback], label=[dl.y_name + '_x'], m=['g'])\n",
    "    if len(dl.con_ts_names):\n",
    "        tsx_con = get_part_of_ts(dl.tsx_con[ts_id], lookback_id, dl.lookback + dl.horizon,\n",
    "                             t = TensorSeqs, label=dl.con_ts_names)\n",
    "    else: tsx_con = TensorSeqs(np.empty([0]), label=[dl.con_ts_names])\n",
    "    if len(dl.cat_ts_names):\n",
    "        tsx_cat = get_part_of_ts(dl.tsx_cat[ts_id], lookback_id, dl.lookback + dl.horizon,\n",
    "                             t = CatSeq, label=dl.cat_ts_names)\n",
    "    else: tsx_cat = CatSeq('', label=dl.cat_ts_names)\n",
    "        \n",
    "    r = [x, tsx_con, tsx_cat]\n",
    "    r.append(TensorCat(dl.cat[ts_id], label=dl.cat_names))\n",
    "    r.append(TensorCon(dl.con[ts_id,:], label=dl.con_names))      \n",
    "    r.append(y)\n",
    "    return tuple(r)"
   ]
  },
  {
   "cell_type": "code",
   "execution_count": 128,
   "metadata": {
    "Collapsed": "false"
   },
   "outputs": [],
   "source": [
    "df = get_df([14,14,16])\n",
    "dl = test_dl(df, 'x', lookback= 10,horizon = 2)\n",
    "dl, n = make_ids(dl)\n",
    "for k, (ts_id, lookback_id) in dl._ids.items():\n",
    "    r = get_id(dl, ts_id, lookback_id)"
   ]
  },
  {
   "cell_type": "code",
   "execution_count": 129,
   "metadata": {
    "Collapsed": "false"
   },
   "outputs": [],
   "source": [
    "df = get_df([14,14,16])\n",
    "dl = test_dl(df.loc[:,['x']], 'x', lookback= 10,horizon = 2)\n",
    "dl, n = make_ids(dl)\n",
    "for k, (ts_id, lookback_id) in dl._ids.items():\n",
    "    r = get_id(dl, ts_id, lookback_id)"
   ]
  },
  {
   "cell_type": "markdown",
   "metadata": {
    "Collapsed": "false"
   },
   "source": [
    "## TfmDL"
   ]
  },
  {
   "cell_type": "code",
   "execution_count": 130,
   "metadata": {
    "Collapsed": "false"
   },
   "outputs": [],
   "source": [
    "# export\n",
    "@delegates()\n",
    "class DfDataLoader(TfmdDL):\n",
    "    def __init__(self, dataset:pd.DataFrame, y_name:str, horizon:int, lookback=72, step=1,\n",
    "                 min_seq_len=None, procs = None, train = True, **kwargs):\n",
    "        con_names, cat_names, con_ts_names, cat_ts_names, classes, dataset = reconize_cols(dataset)  \n",
    "        store_attr(self,'horizon,lookback,step,y_name,con_names,cat_names,con_ts_names,cat_ts_names,classes,dataset')     \n",
    "        assert y_name in self.con_ts_names, {k:getattr(self,k) for k in 'con_names,cat_names,con_ts_names,cat_ts_names'.split(',')}\n",
    "        self.con_ts_names.remove(y_name)         \n",
    "        self.min_seq_len = ifnone(min_seq_len, lookback)\n",
    "        self, n = make_ids(self)\n",
    "        kwargs['after_item'] = kwargs.get('after_item', CatMultiTfm(dataset, self.cat_names+self.cat_ts_names))\n",
    "        super().__init__(dataset=self.dataset, **kwargs)\n",
    "        self.n = n\n",
    "        self.procs = Pipeline(PrepDF() +L(procs), as_item=True)\n",
    "        self.procs.setup(self, train)            \n",
    "\n",
    "    @delegates(TfmdDL.new)\n",
    "    def new(self, dataset=None, cls=None, **kwargs):\n",
    "        for k,v in {k:getattr(self,k) for k in ['horizon', 'lookback', 'step']}.items():\n",
    "            if k not in kwargs:\n",
    "                kwargs[k] = v\n",
    "        res = super().new(dataset = dataset,cls= cls, y_name= self.y_name, **kwargs)\n",
    "        res, n = make_ids(res)\n",
    "        res.n = n\n",
    "        return res    \n",
    "    \n",
    "    def create_item(self, idx):\n",
    "        if idx>=self.n:\n",
    "            raise IndexError\n",
    "        ts_id, lookback_id = self._ids[idx]\n",
    "        r  = get_id(self, ts_id, lookback_id) \n",
    "        return TSMulti(r)    "
   ]
  },
  {
   "cell_type": "code",
   "execution_count": 131,
   "metadata": {
    "Collapsed": "false"
   },
   "outputs": [
    {
     "data": {
      "text/html": [
       "<div>\n",
       "<style scoped>\n",
       "    .dataframe tbody tr th:only-of-type {\n",
       "        vertical-align: middle;\n",
       "    }\n",
       "\n",
       "    .dataframe tbody tr th {\n",
       "        vertical-align: top;\n",
       "    }\n",
       "\n",
       "    .dataframe thead th {\n",
       "        text-align: right;\n",
       "    }\n",
       "</style>\n",
       "<table border=\"1\" class=\"dataframe\">\n",
       "  <thead>\n",
       "    <tr style=\"text-align: right;\">\n",
       "      <th></th>\n",
       "      <th>x</th>\n",
       "      <th>con_ts_1</th>\n",
       "      <th>con_ts_0</th>\n",
       "      <th>cat_ts_1</th>\n",
       "      <th>cat_ts_0</th>\n",
       "      <th>con_0</th>\n",
       "      <th>con_1</th>\n",
       "      <th>cat_0</th>\n",
       "      <th>cat_1</th>\n",
       "    </tr>\n",
       "  </thead>\n",
       "  <tbody>\n",
       "    <tr>\n",
       "      <th>0</th>\n",
       "      <td>[0, 1, 2, 3, 4, 5, 6, 7, 8, 9, 10, 11, 12, 13, 14, 15, 16, 17, 18, 19, 20, 21, 22, 23, 24, 25, 26, 27, 28, 29, 30, 31, 32, 33, 34, 35, 36, 37, 38, 39, 40, 41, 42, 43, 44, 45, 46, 47, 48, 49, 50, 51, 52, 53, 54, 55, 56, 57, 58, 59, 60, 61, 62, 63, 64, 65, 66, 67, 68, 69, 70, 71, 72, 73, 74, 75, 76, 77, 78, 79, 80, 81, 82, 83, 84, 85, 86, 87, 88, 89, 90, 91, 92, 93, 94, 95, 96, 97, 98, 99]</td>\n",
       "      <td>0      1.228721\n",
       "1      3.023268\n",
       "2      1.694121\n",
       "3      4.430776\n",
       "4      4.438542\n",
       "        ...    \n",
       "95    95.339467\n",
       "96    97.026025\n",
       "97    97.059578\n",
       "98    96.455276\n",
       "99    99.929771\n",
       "Length: 100, dtype: float64</td>\n",
       "      <td>[[1.0, 1.0, 1.0, 1.0, 1.0, 1.0, 1.0, 1.0, 1.0, 1.0, 1.0, 1.0, 1.0, 1.0, 1.0, 1.0, 1.0, 1.0, 1.0, 1.0, 1.0, 1.0, 1.0, 1.0, 1.0, 1.0, 1.0, 1.0, 1.0, 1.0, 1.0, 1.0, 1.0, 1.0, 1.0, 1.0, 1.0, 1.0, 1.0, 1.0, 1.0, 1.0, 1.0, 1.0, 1.0, 1.0, 1.0, 1.0, 1.0, 1.0, 1.0, 1.0, 1.0, 1.0, 1.0, 1.0, 1.0, 1.0, 1.0, 1.0, 1.0, 1.0, 1.0, 1.0, 1.0, 1.0, 1.0, 1.0, 1.0, 1.0, 1.0, 1.0, 1.0, 1.0, 1.0, 1.0, 1.0, 1.0, 1.0, 1.0, 1.0, 1.0, 1.0, 1.0, 1.0, 1.0, 1.0, 1.0, 1.0, 1.0, 1.0, 1.0, 1.0, 1.0, 1.0, 1.0, 1.0, 1.0, 1.0, 1.0]]</td>\n",
       "      <td>[david, john, david, john, david, john, david, john, david, john, david, john, david, john, david, john, david, john, david, john, david, john, david, john, david, john, david, john, david, john, david, john, david, john, david, john, david, john, david, john, david, john, david, john, david, john, david, john, david, john, david, john, david, john, david, john, david, john, david, john, david, john, david, john, david, john, david, john, david, john, david, john, david, john, david, john, david, john, david, john, david, john, david, john, david, john, david, john, david, john, david, joh...</td>\n",
       "      <td>[a, b, a, b, a, b, a, b, a, b, a, b, a, b, a, b, a, b, a, b, a, b, a, b, a, b, a, b, a, b, a, b, a, b, a, b, a, b, a, b, a, b, a, b, a, b, a, b, a, b, a, b, a, b, a, b, a, b, a, b, a, b, a, b, a, b, a, b, a, b, a, b, a, b, a, b, a, b, a, b, a, b, a, b, a, b, a, b, a, b, a, b, a, b, a, b, a, b, a, b]</td>\n",
       "      <td>0.853663</td>\n",
       "      <td>8.390213</td>\n",
       "      <td>a</td>\n",
       "      <td>adam</td>\n",
       "    </tr>\n",
       "    <tr>\n",
       "      <th>1</th>\n",
       "      <td>[0, 1, 2, 3, 4, 5, 6, 7, 8, 9, 10, 11, 12, 13, 14, 15, 16, 17, 18, 19, 20, 21, 22, 23, 24, 25, 26, 27, 28, 29, 30, 31, 32, 33, 34, 35, 36, 37, 38, 39, 40, 41, 42, 43, 44, 45, 46, 47, 48, 49, 50, 51, 52, 53, 54, 55, 56, 57, 58, 59, 60, 61, 62, 63, 64, 65, 66, 67, 68, 69, 70, 71, 72, 73, 74, 75, 76, 77, 78, 79, 80, 81, 82, 83, 84, 85, 86, 87, 88, 89, 90, 91, 92, 93, 94, 95, 96, 97, 98, 99, ...]</td>\n",
       "      <td>0       -0.603985\n",
       "1        1.163938\n",
       "2        2.973484\n",
       "3        3.262006\n",
       "4        3.895994\n",
       "          ...    \n",
       "115    113.952772\n",
       "116    116.611679\n",
       "117    117.180299\n",
       "118    117.128739\n",
       "119    118.827487\n",
       "Length: 120, dtype: float64</td>\n",
       "      <td>[[1.0, 1.0, 1.0, 1.0, 1.0, 1.0, 1.0, 1.0, 1.0, 1.0, 1.0, 1.0, 1.0, 1.0, 1.0, 1.0, 1.0, 1.0, 1.0, 1.0, 1.0, 1.0, 1.0, 1.0, 1.0, 1.0, 1.0, 1.0, 1.0, 1.0, 1.0, 1.0, 1.0, 1.0, 1.0, 1.0, 1.0, 1.0, 1.0, 1.0, 1.0, 1.0, 1.0, 1.0, 1.0, 1.0, 1.0, 1.0, 1.0, 1.0, 1.0, 1.0, 1.0, 1.0, 1.0, 1.0, 1.0, 1.0, 1.0, 1.0, 1.0, 1.0, 1.0, 1.0, 1.0, 1.0, 1.0, 1.0, 1.0, 1.0, 1.0, 1.0, 1.0, 1.0, 1.0, 1.0, 1.0, 1.0, 1.0, 1.0, 1.0, 1.0, 1.0, 1.0, 1.0, 1.0, 1.0, 1.0, 1.0, 1.0, 1.0, 1.0, 1.0, 1.0, 1.0, 1.0, 1.0, 1.0, 1.0, 1.0, ...]]</td>\n",
       "      <td>[david, john, david, john, david, john, david, john, david, john, david, john, david, john, david, john, david, john, david, john, david, john, david, john, david, john, david, john, david, john, david, john, david, john, david, john, david, john, david, john, david, john, david, john, david, john, david, john, david, john, david, john, david, john, david, john, david, john, david, john, david, john, david, john, david, john, david, john, david, john, david, john, david, john, david, john, david, john, david, john, david, john, david, john, david, john, david, john, david, john, david, joh...</td>\n",
       "      <td>[a, b, a, b, a, b, a, b, a, b, a, b, a, b, a, b, a, b, a, b, a, b, a, b, a, b, a, b, a, b, a, b, a, b, a, b, a, b, a, b, a, b, a, b, a, b, a, b, a, b, a, b, a, b, a, b, a, b, a, b, a, b, a, b, a, b, a, b, a, b, a, b, a, b, a, b, a, b, a, b, a, b, a, b, a, b, a, b, a, b, a, b, a, b, a, b, a, b, a, b, ...]</td>\n",
       "      <td>0.317433</td>\n",
       "      <td>9.790606</td>\n",
       "      <td>b</td>\n",
       "      <td>rdam</td>\n",
       "    </tr>\n",
       "  </tbody>\n",
       "</table>\n",
       "</div>"
      ],
      "text/plain": [
       "                                                                                                                                                                                                                                                                                                                                                                                                             x  \\\n",
       "0       [0, 1, 2, 3, 4, 5, 6, 7, 8, 9, 10, 11, 12, 13, 14, 15, 16, 17, 18, 19, 20, 21, 22, 23, 24, 25, 26, 27, 28, 29, 30, 31, 32, 33, 34, 35, 36, 37, 38, 39, 40, 41, 42, 43, 44, 45, 46, 47, 48, 49, 50, 51, 52, 53, 54, 55, 56, 57, 58, 59, 60, 61, 62, 63, 64, 65, 66, 67, 68, 69, 70, 71, 72, 73, 74, 75, 76, 77, 78, 79, 80, 81, 82, 83, 84, 85, 86, 87, 88, 89, 90, 91, 92, 93, 94, 95, 96, 97, 98, 99]   \n",
       "1  [0, 1, 2, 3, 4, 5, 6, 7, 8, 9, 10, 11, 12, 13, 14, 15, 16, 17, 18, 19, 20, 21, 22, 23, 24, 25, 26, 27, 28, 29, 30, 31, 32, 33, 34, 35, 36, 37, 38, 39, 40, 41, 42, 43, 44, 45, 46, 47, 48, 49, 50, 51, 52, 53, 54, 55, 56, 57, 58, 59, 60, 61, 62, 63, 64, 65, 66, 67, 68, 69, 70, 71, 72, 73, 74, 75, 76, 77, 78, 79, 80, 81, 82, 83, 84, 85, 86, 87, 88, 89, 90, 91, 92, 93, 94, 95, 96, 97, 98, 99, ...]   \n",
       "\n",
       "                                                                                                                                                                                                                            con_ts_1  \\\n",
       "0                        0      1.228721\n",
       "1      3.023268\n",
       "2      1.694121\n",
       "3      4.430776\n",
       "4      4.438542\n",
       "        ...    \n",
       "95    95.339467\n",
       "96    97.026025\n",
       "97    97.059578\n",
       "98    96.455276\n",
       "99    99.929771\n",
       "Length: 100, dtype: float64   \n",
       "1  0       -0.603985\n",
       "1        1.163938\n",
       "2        2.973484\n",
       "3        3.262006\n",
       "4        3.895994\n",
       "          ...    \n",
       "115    113.952772\n",
       "116    116.611679\n",
       "117    117.180299\n",
       "118    117.128739\n",
       "119    118.827487\n",
       "Length: 120, dtype: float64   \n",
       "\n",
       "                                                                                                                                                                                                                                                                                                                                                                                                                                                                                                                      con_ts_0  \\\n",
       "0       [[1.0, 1.0, 1.0, 1.0, 1.0, 1.0, 1.0, 1.0, 1.0, 1.0, 1.0, 1.0, 1.0, 1.0, 1.0, 1.0, 1.0, 1.0, 1.0, 1.0, 1.0, 1.0, 1.0, 1.0, 1.0, 1.0, 1.0, 1.0, 1.0, 1.0, 1.0, 1.0, 1.0, 1.0, 1.0, 1.0, 1.0, 1.0, 1.0, 1.0, 1.0, 1.0, 1.0, 1.0, 1.0, 1.0, 1.0, 1.0, 1.0, 1.0, 1.0, 1.0, 1.0, 1.0, 1.0, 1.0, 1.0, 1.0, 1.0, 1.0, 1.0, 1.0, 1.0, 1.0, 1.0, 1.0, 1.0, 1.0, 1.0, 1.0, 1.0, 1.0, 1.0, 1.0, 1.0, 1.0, 1.0, 1.0, 1.0, 1.0, 1.0, 1.0, 1.0, 1.0, 1.0, 1.0, 1.0, 1.0, 1.0, 1.0, 1.0, 1.0, 1.0, 1.0, 1.0, 1.0, 1.0, 1.0, 1.0, 1.0]]   \n",
       "1  [[1.0, 1.0, 1.0, 1.0, 1.0, 1.0, 1.0, 1.0, 1.0, 1.0, 1.0, 1.0, 1.0, 1.0, 1.0, 1.0, 1.0, 1.0, 1.0, 1.0, 1.0, 1.0, 1.0, 1.0, 1.0, 1.0, 1.0, 1.0, 1.0, 1.0, 1.0, 1.0, 1.0, 1.0, 1.0, 1.0, 1.0, 1.0, 1.0, 1.0, 1.0, 1.0, 1.0, 1.0, 1.0, 1.0, 1.0, 1.0, 1.0, 1.0, 1.0, 1.0, 1.0, 1.0, 1.0, 1.0, 1.0, 1.0, 1.0, 1.0, 1.0, 1.0, 1.0, 1.0, 1.0, 1.0, 1.0, 1.0, 1.0, 1.0, 1.0, 1.0, 1.0, 1.0, 1.0, 1.0, 1.0, 1.0, 1.0, 1.0, 1.0, 1.0, 1.0, 1.0, 1.0, 1.0, 1.0, 1.0, 1.0, 1.0, 1.0, 1.0, 1.0, 1.0, 1.0, 1.0, 1.0, 1.0, 1.0, 1.0, ...]]   \n",
       "\n",
       "                                                                                                                                                                                                                                                                                                                                                                                                                                                                                                                                                                                                                  cat_ts_1  \\\n",
       "0  [david, john, david, john, david, john, david, john, david, john, david, john, david, john, david, john, david, john, david, john, david, john, david, john, david, john, david, john, david, john, david, john, david, john, david, john, david, john, david, john, david, john, david, john, david, john, david, john, david, john, david, john, david, john, david, john, david, john, david, john, david, john, david, john, david, john, david, john, david, john, david, john, david, john, david, john, david, john, david, john, david, john, david, john, david, john, david, john, david, john, david, joh...   \n",
       "1  [david, john, david, john, david, john, david, john, david, john, david, john, david, john, david, john, david, john, david, john, david, john, david, john, david, john, david, john, david, john, david, john, david, john, david, john, david, john, david, john, david, john, david, john, david, john, david, john, david, john, david, john, david, john, david, john, david, john, david, john, david, john, david, john, david, john, david, john, david, john, david, john, david, john, david, john, david, john, david, john, david, john, david, john, david, john, david, john, david, john, david, joh...   \n",
       "\n",
       "                                                                                                                                                                                                                                                                                                            cat_ts_0  \\\n",
       "0       [a, b, a, b, a, b, a, b, a, b, a, b, a, b, a, b, a, b, a, b, a, b, a, b, a, b, a, b, a, b, a, b, a, b, a, b, a, b, a, b, a, b, a, b, a, b, a, b, a, b, a, b, a, b, a, b, a, b, a, b, a, b, a, b, a, b, a, b, a, b, a, b, a, b, a, b, a, b, a, b, a, b, a, b, a, b, a, b, a, b, a, b, a, b, a, b, a, b, a, b]   \n",
       "1  [a, b, a, b, a, b, a, b, a, b, a, b, a, b, a, b, a, b, a, b, a, b, a, b, a, b, a, b, a, b, a, b, a, b, a, b, a, b, a, b, a, b, a, b, a, b, a, b, a, b, a, b, a, b, a, b, a, b, a, b, a, b, a, b, a, b, a, b, a, b, a, b, a, b, a, b, a, b, a, b, a, b, a, b, a, b, a, b, a, b, a, b, a, b, a, b, a, b, a, b, ...]   \n",
       "\n",
       "      con_0     con_1 cat_0 cat_1  \n",
       "0  0.853663  8.390213     a  adam  \n",
       "1  0.317433  9.790606     b  rdam  "
      ]
     },
     "execution_count": 131,
     "metadata": {},
     "output_type": "execute_result"
    }
   ],
   "source": [
    "df = get_df()\n",
    "df"
   ]
  },
  {
   "cell_type": "code",
   "execution_count": 132,
   "metadata": {
    "Collapsed": "false"
   },
   "outputs": [],
   "source": [
    "horizon,lookback = 2,4\n",
    "dl = DfDataLoader(df, 'x', horizon = horizon, lookback = lookback, num_workers=0)\n",
    "for o in dl:\n",
    "    pass"
   ]
  },
  {
   "cell_type": "code",
   "execution_count": 133,
   "metadata": {
    "Collapsed": "false"
   },
   "outputs": [
    {
     "name": "stdout",
     "output_type": "stream",
     "text": [
      "0.24936199188232422\n"
     ]
    }
   ],
   "source": [
    "def get_all():\n",
    "    for o in dl:\n",
    "        pass\n",
    "import time\n",
    "st = time.time()\n",
    "get_all()\n",
    "tot_time = time.time()-st\n",
    "test_eq(tot_time<.265, True)\n",
    "print(tot_time)"
   ]
  },
  {
   "cell_type": "code",
   "execution_count": 134,
   "metadata": {
    "Collapsed": "false"
   },
   "outputs": [],
   "source": [
    "horizon,lookback = 2,9\n",
    "dl = DfDataLoader(df, 'x', horizon = horizon, lookback = lookback, num_workers = 0)\n",
    "\n",
    "for o in dl:\n",
    "    test_eq(type(o), TSMulti_)\n",
    "    test_eq(len(o),6)\n",
    "    dct = {k:v for k,v in zip(['x','tsx','tsx_cat','cat','con','y'], o)}\n",
    "    test_eq(type(o), TSMulti_)\n",
    "    test_eq(dct['x'].shape[1:], (1,lookback))\n",
    "    test_eq(dct['y'].shape[1:], (1,lookback+horizon))\n",
    "    test_eq(dct['tsx'].shape[1:], (2,lookback+horizon))\n",
    "    test_eq(dct['tsx_cat'].shape[1:], (2,lookback+horizon))\n",
    "    break\n",
    "dl.classes['cat_0'] = L('a','b')"
   ]
  },
  {
   "cell_type": "code",
   "execution_count": 135,
   "metadata": {
    "Collapsed": "false"
   },
   "outputs": [],
   "source": [
    "# hide\n",
    "# without cat or con\n",
    "horizon,lookback = 3,5\n",
    "df = get_df()\n",
    "dl = DfDataLoader(df.loc[:,['x','con_ts_0']], 'x', horizon = horizon, lookback = lookback)\n",
    "\n",
    "\n",
    "for o in dl:\n",
    "    test_eq(type(o), TSMulti_)\n",
    "    test_eq(len(o),6)\n",
    "    dct = {k:v for k,v in zip(['x','tsx','tsx_cat','cat','con','y'], o)}\n",
    "    test_eq(type(o), TSMulti_)\n",
    "    test_eq(dct['x'].shape[1:], (1,lookback))\n",
    "    test_eq(dct['y'].shape[1:], (1,lookback+horizon))\n",
    "    test_eq(dct['cat'].shape[1:], ([0]))\n",
    "    test_eq(dct['con'].shape[1:], ([0]))\n",
    "    test_eq(dct['tsx'].shape[1:], (1,lookback+horizon))\n",
    "    test_eq(dct['tsx_cat'].shape[1:], [0])\n",
    "    \n",
    "test_eq(first(dl), dl.one_batch())"
   ]
  },
  {
   "cell_type": "code",
   "execution_count": 136,
   "metadata": {
    "Collapsed": "false"
   },
   "outputs": [],
   "source": [
    "# hide\n",
    "# without tsx\n",
    "horizon,lookback = 3,5\n",
    "df = get_df()\n",
    "dl = DfDataLoader(df.loc[:, ['x','cat_0','con_0']], 'x', horizon = horizon, lookback = lookback, num_workers = 0)\n",
    "\n",
    "\n",
    "for o in dl:\n",
    "    test_eq(type(o), TSMulti_)\n",
    "    test_eq(len(o),6)\n",
    "    dct = {k:v for k,v in zip(['x','tsx','tsx_cat','cat','con','y'], o)}\n",
    "    test_eq(type(o), TSMulti_)\n",
    "    test_eq(dct['x'].shape[1:], (1,lookback))\n",
    "    test_eq(dct['y'].shape[1:], (1,lookback+horizon))\n",
    "    test_eq(dct['cat'].shape[1:], ([1]))\n",
    "    test_eq(dct['con'].shape[1:], ([1]))\n",
    "    test_eq(dct['tsx'].shape[1:], ([0]))\n",
    "    test_eq(dct['tsx_cat'].shape[1:], [0])\n",
    "    \n",
    "test_eq(first(dl), dl.one_batch())"
   ]
  },
  {
   "cell_type": "code",
   "execution_count": 137,
   "metadata": {
    "Collapsed": "false"
   },
   "outputs": [
    {
     "data": {
      "text/plain": [
       "<__main__.DfDataLoader at 0x7f252576c0d0>"
      ]
     },
     "execution_count": 137,
     "metadata": {},
     "output_type": "execute_result"
    }
   ],
   "source": [
    "# hide\n",
    "# test self.new\n",
    "dl.new()"
   ]
  },
  {
   "cell_type": "markdown",
   "metadata": {
    "Collapsed": "false"
   },
   "source": [
    "# Showing"
   ]
  },
  {
   "cell_type": "code",
   "execution_count": 138,
   "metadata": {
    "Collapsed": "false"
   },
   "outputs": [],
   "source": [
    "# export\n",
    "\n",
    "def _show_batch_class(self, b=None, max_n=9, ctxs=None, show=True, **kwargs):\n",
    "    if b is None: b = self.one_batch()\n",
    "    x, y, its = self._pre_show_batch(b, max_n=max_n)\n",
    "    x = self.after_item.decode(TSMulti_(x))\n",
    "    if not show: return x, y, its\n",
    "    show_batch(x,y,its, ctxs=ctxs, max_n=max_n, **kwargs)\n",
    "\n",
    "DfDataLoader.show_batch = _show_batch_class"
   ]
  },
  {
   "cell_type": "code",
   "execution_count": 139,
   "metadata": {
    "Collapsed": "false"
   },
   "outputs": [],
   "source": [
    "# export\n",
    "from fastai2.vision.data import get_grid\n",
    "@typedispatch\n",
    "def show_batch(x:TSMulti, y:TensorSeqs, its, *args, ctxs=None, max_n=10, rows=None, cols=None, figsize=None, **kwargs):\n",
    "    if ctxs is None: ctxs = get_grid(min(x[0].shape[0], max_n), add_vert=1, figsize=figsize, **kwargs)\n",
    "    for i, ctx in enumerate(ctxs):  \n",
    "        o = TSMulti([type(o)(o,**o._meta) for o in its[i] if o.shape[-1] > 0])\n",
    "        ctx = o.show(ctx=ctx)\n",
    "    return ctxs\n",
    "\n",
    "@typedispatch\n",
    "def show_batch(x:TSMulti, y:None, its, *args, ctxs=None, max_n=10, rows=None, cols=None, figsize=None, **kwargs):\n",
    "    if ctxs is None: ctxs = get_grid(min(x[0].shape[0], max_n), add_vert=1, figsize=figsize, **kwargs)\n",
    "    for i, ctx in enumerate(ctxs):  \n",
    "        o = TSMulti([type(o)(o[i],**o[i]._meta) for o in x if o.shape[-1] > 0])\n",
    "        ctx = o.show(ctx=ctx)\n",
    "    return ctxs"
   ]
  },
  {
   "cell_type": "code",
   "execution_count": 140,
   "metadata": {
    "Collapsed": "false"
   },
   "outputs": [
    {
     "data": {
      "text/plain": [
       "(TSMulti,NoneType) -> show_batch\n",
       "(TSMulti,TensorSeqs) -> show_batch\n",
       "(TensorImage,TensorImage) -> show_batch\n",
       "(TensorImage,object) -> show_batch\n",
       "(Tabular,object) -> show_batch\n",
       "(object,object) -> show_batch"
      ]
     },
     "execution_count": 140,
     "metadata": {},
     "output_type": "execute_result"
    }
   ],
   "source": [
    "show_batch"
   ]
  },
  {
   "cell_type": "code",
   "execution_count": 141,
   "metadata": {
    "Collapsed": "false"
   },
   "outputs": [
    {
     "data": {
      "image/png": "[encoded data removed]",
      "text/plain": [
       "<Figure size 648x720 with 9 Axes>"
      ]
     },
     "metadata": {
      "needs_background": "light"
     },
     "output_type": "display_data"
    }
   ],
   "source": [
    "horizon,lookback = 2,9\n",
    "df = get_df()\n",
    "dl = DfDataLoader(df, 'x', horizon = horizon, lookback = lookback)\n",
    "dl.show_batch()"
   ]
  },
  {
   "cell_type": "code",
   "execution_count": 142,
   "metadata": {
    "Collapsed": "false"
   },
   "outputs": [
    {
     "data": {
      "image/png": "[encoded data removed]",
      "text/plain": [
       "<Figure size 648x720 with 9 Axes>"
      ]
     },
     "metadata": {
      "needs_background": "light"
     },
     "output_type": "display_data"
    }
   ],
   "source": [
    "# hide\n",
    "horizon,lookback = 2,9\n",
    "df = get_df()\n",
    "dl = DfDataLoader(df.loc[:,['x','con_0']], 'x', horizon = horizon, lookback = lookback)\n",
    "dl.show_batch()"
   ]
  },
  {
   "cell_type": "code",
   "execution_count": 143,
   "metadata": {
    "Collapsed": "false"
   },
   "outputs": [],
   "source": [
    "# export\n",
    "\n",
    "# def _show_results_class(self, b, out, max_n=9, ctxs=None, show=True, **kwargs):\n",
    "#     x,y,its = self.show_batch(b, max_n=max_n, show=False,)\n",
    "#     x = self.after_item.decode(b)\n",
    "#     b_out = b[:self.n_inp] + (tuple(out) if is_listy(out) else (out,))\n",
    "#     x1,y1,outs = self.show_batch(b_out, max_n=max_n, show=False)\n",
    "#     res = (x,x1,None,None) if its is None else (x, y, its, outs.itemgot(slice(self.n_inp,None)))\n",
    "#     if not show: return res\n",
    "#     show_results(*res, ctxs=ctxs, max_n=max_n, **kwargs)\n",
    "    \n",
    "# DfDataLoader.show_results = _show_results_class"
   ]
  },
  {
   "cell_type": "code",
   "execution_count": 144,
   "metadata": {
    "Collapsed": "false"
   },
   "outputs": [],
   "source": [
    "#export\n",
    "# from fastseq.data.load_pd import *\n",
    "\n",
    "@typedispatch\n",
    "def show_results(x:TSMulti, y, its, outs, ctxs=None, max_n=9,rows=None, cols=None, figsize=None, **kwargs):\n",
    "    if ctxs is None: ctxs = get_grid(min(x[0].shape[0], max_n), add_vert=1, figsize=figsize, **kwargs)\n",
    "    for i, ctx in enumerate(ctxs):  \n",
    "        r = [type(o)(o,**o._meta) for o in its[i] if o.shape[-1] > 0] \n",
    "        r.append(type(its[i][-1])(outs[i][0], label=['pred_y'], m=['r']))\n",
    "        o = TSMulti(r)        \n",
    "        ctx = o.show(ctx=ctx) \n"
   ]
  },
  {
   "cell_type": "code",
   "execution_count": 145,
   "metadata": {
    "Collapsed": "false"
   },
   "outputs": [
    {
     "data": {
      "text/plain": [
       "(TSMulti,object) -> show_results\n",
       "(object,object) -> show_results"
      ]
     },
     "execution_count": 145,
     "metadata": {},
     "output_type": "execute_result"
    }
   ],
   "source": [
    "show_results"
   ]
  },
  {
   "cell_type": "code",
   "execution_count": 146,
   "metadata": {
    "Collapsed": "false"
   },
   "outputs": [
    {
     "data": {
      "text/plain": [
       "{'label': ['a']}"
      ]
     },
     "execution_count": 146,
     "metadata": {},
     "output_type": "execute_result"
    }
   ],
   "source": [
    "a = TensorSeqs([0], label = ['a'])\n",
    "a._meta"
   ]
  },
  {
   "cell_type": "code",
   "execution_count": 147,
   "metadata": {
    "Collapsed": "false"
   },
   "outputs": [
    {
     "name": "stdout",
     "output_type": "stream",
     "text": [
      "(#4) [0,47028040.0,17769381888.0,'00:00']\n"
     ]
    },
    {
     "data": {
      "image/png": "[encoded data removed]",
      "text/plain": [
       "<Figure size 648x720 with 9 Axes>"
      ]
     },
     "metadata": {
      "needs_background": "light"
     },
     "output_type": "display_data"
    }
   ],
   "source": [
    "class RegModel(Module):\n",
    "    def __init__(self, in_f, out_f): \n",
    "        self.a,self.b = nn.Parameter(torch.randn(in_f,in_f+out_f)),nn.Parameter(torch.randn(in_f+out_f))\n",
    "    def forward(self, x, *args): return (torch.mm(x[:,0,:],self.a) + self.b)[:,None,:]\n",
    "    \n",
    "def synth_learner(lookback, horizon, cuda=False, lr=1e-3, data=None, **kwargs):\n",
    "    return Learner(data, RegModel(lookback,horizon), lr=lr, loss_func=MSELossFlat(),\n",
    "                   opt_func=partial(SGD, mom=0.9), **kwargs)\n",
    "horizon,lookback = 2,9\n",
    "dl = DfDataLoader(df, 'x', horizon = horizon, lookback = lookback)\n",
    "learn = synth_learner(lookback, horizon, data=DataLoaders(dl, dl))\n",
    "\n",
    "learn.fit(1)\n",
    "\n",
    "learn.show_results(max_n=9)"
   ]
  },
  {
   "cell_type": "code",
   "execution_count": 148,
   "metadata": {
    "Collapsed": "false"
   },
   "outputs": [
    {
     "name": "stdout",
     "output_type": "stream",
     "text": [
      "(#4) [0,40304084.0,15226955776.0,'00:00']\n"
     ]
    },
    {
     "data": {
      "image/png": "[encoded data removed]",
      "text/plain": [
       "<Figure size 648x720 with 9 Axes>"
      ]
     },
     "metadata": {
      "needs_background": "light"
     },
     "output_type": "display_data"
    }
   ],
   "source": [
    "# hide\n",
    "# wo tsx\n",
    "class RegModel(Module):\n",
    "    def __init__(self, in_f, out_f): \n",
    "        self.a,self.b = nn.Parameter(torch.randn(in_f,in_f+out_f)),nn.Parameter(torch.randn(in_f+out_f))\n",
    "    def forward(self, x, *args): return (torch.mm(x[:,0,:],self.a) + self.b)[:,None,:]\n",
    "    \n",
    "def synth_learner(lookback, horizon, cuda=False, lr=1e-3, data=None, **kwargs):\n",
    "    return Learner(data, RegModel(lookback,horizon), lr=lr, loss_func=MSELossFlat(),\n",
    "                   opt_func=partial(SGD, mom=0.9), **kwargs)\n",
    "horizon,lookback = 2,9\n",
    "df = get_df()\n",
    "dl = DfDataLoader(df.loc[:,['x','con_0']], 'x', horizon = horizon, lookback = lookback)\n",
    "learn = synth_learner(lookback, horizon, data=DataLoaders(dl, dl))\n",
    "\n",
    "learn.fit(1)\n",
    "\n",
    "learn.show_results(max_n=9)"
   ]
  },
  {
   "cell_type": "markdown",
   "metadata": {
    "Collapsed": "false"
   },
   "source": [
    "# Intergration Example"
   ]
  },
  {
   "cell_type": "code",
   "execution_count": 149,
   "metadata": {
    "Collapsed": "false"
   },
   "outputs": [],
   "source": [
    "from fastseq.data.external import *"
   ]
  },
  {
   "cell_type": "code",
   "execution_count": 150,
   "metadata": {
    "Collapsed": "false"
   },
   "outputs": [
    {
     "data": {
      "text/html": [
       "<div>\n",
       "<style scoped>\n",
       "    .dataframe tbody tr th:only-of-type {\n",
       "        vertical-align: middle;\n",
       "    }\n",
       "\n",
       "    .dataframe tbody tr th {\n",
       "        vertical-align: top;\n",
       "    }\n",
       "\n",
       "    .dataframe thead th {\n",
       "        text-align: right;\n",
       "    }\n",
       "</style>\n",
       "<table border=\"1\" class=\"dataframe\">\n",
       "  <thead>\n",
       "    <tr style=\"text-align: right;\">\n",
       "      <th></th>\n",
       "      <th>x</th>\n",
       "      <th>weather</th>\n",
       "      <th>city</th>\n",
       "      <th>cont</th>\n",
       "    </tr>\n",
       "  </thead>\n",
       "  <tbody>\n",
       "    <tr>\n",
       "      <th>0</th>\n",
       "      <td>[[-0.7717276864080614, -1.223526375195569, -0.8780412019161242, -0.9861616973893212, -1.1031286323458094, -0.866905243852955, -0.8089235600302759, -0.7869854887902612, -0.5010213262556296, 0.16553235702230815, 0.6529730414404956, 1.3371096459568321, 1.335827631535526, 1.2038029373426449, 0.840594208128666, 0.45650517497946447, -0.46461533826598006, -0.577715572609377, -0.4396958543696435, -0.6888259453434503, -0.686657194168092, -0.8167078673918938, -1.0567725990797334, -1.0818294858106985, -0.5641131364487163, -0.14405132588347966, 0.4264851246226336, 1.1981667630356636, 1.659254304299435...</td>\n",
       "      <td>[[3.3034192069237545, 3.898538690375676, 5.013702277098824, 5.846744860454411, 5.936053285857787, 5.4660336798869285, 4.932451343033787, 4.682950175924118, 4.818416671167298, 5.338850828763325, 6.1433661561028, 6.884318752560024, 7.065943317643008, 6.503833724773786, 5.659603128536988, 5.335416635571425, 3.3034192069237545, 3.898538690375676, 5.013702277098824, 5.846744860454411, 5.936053285857787, 5.4660336798869285, 4.932451343033787, 4.682950175924118, 4.818416671167298, 5.338850828763325, 6.1433661561028, 6.884318752560024, 7.065943317643008, 6.503833724773786, 5.659603128536988, 5.335...</td>\n",
       "      <td>adam</td>\n",
       "      <td>-0.742868</td>\n",
       "    </tr>\n",
       "    <tr>\n",
       "      <th>1</th>\n",
       "      <td>[[1.3033240596490054, 1.18251489494989, 1.2867631337539176, 1.219398615457929, 1.2760968962192938, 1.3864634262535036, 1.2691159653481752, 1.1652839226160594, 0.8782944365091063, 0.5872798914916905, 0.4120640171937822, 0.045254222370460236, -0.07875198331432608, -0.30206911048252594, -0.3904767112468464, -0.02780898505359927, 0.14102978568564264, 0.425012536686812, 0.6156727695475614, 0.4815495189243571, 0.13864512612193697, -0.34027281034616946, -0.8816912209099272, -1.4780132605312613, -1.697728083487296, -1.651115691119055, -1.343502745593384, -1.1795460568347826, -0.9947704307243003, -...</td>\n",
       "      <td>[[-1.6186931578534427, -1.2019879538025604, -0.37219644295844967, 0.39306465119921596, 0.6588808848716119, 0.3208398505518666, -0.32587508305423907, -0.7818190554614118, -0.6737877506968601, -0.0017811687605862048, 0.8609963743745933, 1.4151000182234497, 1.3653463940801456, 0.8161479094515915, 0.20241900813657143, 0.0017764136147868648, -1.6186931578534427, -1.2019879538025604, -0.37219644295844967, 0.39306465119921596, 0.6588808848716119, 0.3208398505518666, -0.32587508305423907, -0.7818190554614118, -0.6737877506968601, -0.0017811687605862048, 0.8609963743745933, 1.4151000182234497, 1.36...</td>\n",
       "      <td>adam</td>\n",
       "      <td>-2.149846</td>\n",
       "    </tr>\n",
       "    <tr>\n",
       "      <th>2</th>\n",
       "      <td>[[-1.9237789894619723, -1.8140153969201536, -1.4337043179526885, -1.2986092199656802, -0.8125259015425671, -0.7762085554192872, -1.0582376483058298, -0.6538785344889303, -0.6184594213629706, -0.37690091890390487, -0.6317766931299739, -0.7310207031343778, -0.7843772514209876, -0.3860207473549458, -0.08998345814844858, -0.37735513849645524, -0.07122979930549145, -0.011696431227504474, 0.16321904509656768, 0.6173392630537429, 0.9369164249080363, 0.7544310282126843, 0.6573027344446908, 0.7882825623179711, 1.097301638809276, 0.8930944919682889, 1.0481972618859854, 0.9933316142731438, 0.95837690...</td>\n",
       "      <td>[[4.599702729011811, 4.1298911131642155, 4.949819092669101, 6.428437758337198, 6.894064464687844, 5.887663992603388, 4.772673393516303, 4.8628575732214525, 5.6533469550292175, 5.591442698096662, 4.309324479326164, 3.218103453369315, 3.6274345508869446, 4.977264793740922, 5.61818022476125, 5.060836611886807, 4.599702729011811, 4.1298911131642155, 4.949819092669101, 6.428437758337198, 6.894064464687844, 5.887663992603388, 4.772673393516303, 4.8628575732214525, 5.6533469550292175, 5.591442698096662, 4.309324479326164, 3.218103453369315, 3.6274345508869446, 4.977264793740922, 5.61818022476125,...</td>\n",
       "      <td>adam</td>\n",
       "      <td>-0.064870</td>\n",
       "    </tr>\n",
       "    <tr>\n",
       "      <th>3</th>\n",
       "      <td>[[-1.3032743433940353, -1.6253673680286949, -1.5996614332276908, -1.3225851508652138, -1.0136480874719325, -0.007442288053019791, 0.6100676749875991, 0.5649379507059895, 0.7754673927583353, -0.08067277028879477, 0.20495145349231142, -0.2805000454347197, -0.8536657814805355, -0.3552164020907629, 0.008996124816275161, 0.625109746430853, -0.011448205875071603, 0.28721077487712376, 0.32337549568618845, 0.4694644732082258, 0.32418643837757727, 0.02479782231462032, -0.4439212775279843, -1.2171551763333919, -1.344683229990953, -0.9199687106203228, -0.17544894528732594, 0.8737189579788192, 1.69738...</td>\n",
       "      <td>[[1.1910625498572842, 0.7993384516338563, 0.6693566912677147, 1.3277187217305886, 2.488071061383378, 3.232188595180104, 2.916645856445681, 1.8001090657410188, 0.7229631467748117, 0.2954145657331202, 0.528840724146828, 1.1482591307575847, 1.9705329331132924, 2.8457690680793393, 3.4501145511086957, 3.473323782170728, 1.1910625498572842, 0.7993384516338563, 0.6693566912677147, 1.3277187217305886, 2.488071061383378, 3.232188595180104, 2.916645856445681, 1.8001090657410188, 0.7229631467748117, 0.2954145657331202, 0.528840724146828, 1.1482591307575847, 1.9705329331132924, 2.8457690680793393, 3.4...</td>\n",
       "      <td>adam</td>\n",
       "      <td>0.282450</td>\n",
       "    </tr>\n",
       "    <tr>\n",
       "      <th>4</th>\n",
       "      <td>[[-1.5619384483806609, -1.477826759869398, -1.5262014984687435, -1.4554973386425734, -0.7669605162514473, -0.6779337616568419, -0.2625452872351447, -0.08745261231597642, 0.14682805896342926, -0.11323323932601025, -0.3632799349785737, -0.5649497656634438, -1.0871107530376907, -1.2546272836059629, -1.448433266610516, -0.885804951557676, -0.4981012418368357, 0.2811489136857136, 0.8007645509673406, 1.1983074921141816, 1.5265802269843651, 1.5104834914988823, 1.1050685046822553, 0.5142123150146766, 0.2056357482200997, 0.4894416579097695, 0.5590679653501285, 0.9622751036175821, 0.9904044338945349...</td>\n",
       "      <td>[[8.383926148235549, 8.290204498539183, 8.239552773485698, 8.630448389313171, 9.225832344882573, 9.309980357605978, 8.63661984049898, 7.885151727913606, 7.917810822480813, 8.734597124200592, 9.473275830441974, 9.454446006852988, 8.924380240417966, 8.598802813724912, 8.714772727912797, 8.87381256674356, 8.383926148235549, 8.290204498539183, 8.239552773485698, 8.630448389313171, 9.225832344882573, 9.309980357605978, 8.63661984049898, 7.885151727913606, 7.917810822480813, 8.734597124200592, 9.473275830441974, 9.454446006852988, 8.924380240417966, 8.598802813724912, 8.714772727912797, 8.873812...</td>\n",
       "      <td>adam</td>\n",
       "      <td>0.153711</td>\n",
       "    </tr>\n",
       "  </tbody>\n",
       "</table>\n",
       "</div>"
      ],
      "text/plain": [
       "                                                                                                                                                                                                                                                                                                                                                                                                                                                                                                                                                                                                                         x  \\\n",
       "0  [[-0.7717276864080614, -1.223526375195569, -0.8780412019161242, -0.9861616973893212, -1.1031286323458094, -0.866905243852955, -0.8089235600302759, -0.7869854887902612, -0.5010213262556296, 0.16553235702230815, 0.6529730414404956, 1.3371096459568321, 1.335827631535526, 1.2038029373426449, 0.840594208128666, 0.45650517497946447, -0.46461533826598006, -0.577715572609377, -0.4396958543696435, -0.6888259453434503, -0.686657194168092, -0.8167078673918938, -1.0567725990797334, -1.0818294858106985, -0.5641131364487163, -0.14405132588347966, 0.4264851246226336, 1.1981667630356636, 1.659254304299435...   \n",
       "1  [[1.3033240596490054, 1.18251489494989, 1.2867631337539176, 1.219398615457929, 1.2760968962192938, 1.3864634262535036, 1.2691159653481752, 1.1652839226160594, 0.8782944365091063, 0.5872798914916905, 0.4120640171937822, 0.045254222370460236, -0.07875198331432608, -0.30206911048252594, -0.3904767112468464, -0.02780898505359927, 0.14102978568564264, 0.425012536686812, 0.6156727695475614, 0.4815495189243571, 0.13864512612193697, -0.34027281034616946, -0.8816912209099272, -1.4780132605312613, -1.697728083487296, -1.651115691119055, -1.343502745593384, -1.1795460568347826, -0.9947704307243003, -...   \n",
       "2  [[-1.9237789894619723, -1.8140153969201536, -1.4337043179526885, -1.2986092199656802, -0.8125259015425671, -0.7762085554192872, -1.0582376483058298, -0.6538785344889303, -0.6184594213629706, -0.37690091890390487, -0.6317766931299739, -0.7310207031343778, -0.7843772514209876, -0.3860207473549458, -0.08998345814844858, -0.37735513849645524, -0.07122979930549145, -0.011696431227504474, 0.16321904509656768, 0.6173392630537429, 0.9369164249080363, 0.7544310282126843, 0.6573027344446908, 0.7882825623179711, 1.097301638809276, 0.8930944919682889, 1.0481972618859854, 0.9933316142731438, 0.95837690...   \n",
       "3  [[-1.3032743433940353, -1.6253673680286949, -1.5996614332276908, -1.3225851508652138, -1.0136480874719325, -0.007442288053019791, 0.6100676749875991, 0.5649379507059895, 0.7754673927583353, -0.08067277028879477, 0.20495145349231142, -0.2805000454347197, -0.8536657814805355, -0.3552164020907629, 0.008996124816275161, 0.625109746430853, -0.011448205875071603, 0.28721077487712376, 0.32337549568618845, 0.4694644732082258, 0.32418643837757727, 0.02479782231462032, -0.4439212775279843, -1.2171551763333919, -1.344683229990953, -0.9199687106203228, -0.17544894528732594, 0.8737189579788192, 1.69738...   \n",
       "4  [[-1.5619384483806609, -1.477826759869398, -1.5262014984687435, -1.4554973386425734, -0.7669605162514473, -0.6779337616568419, -0.2625452872351447, -0.08745261231597642, 0.14682805896342926, -0.11323323932601025, -0.3632799349785737, -0.5649497656634438, -1.0871107530376907, -1.2546272836059629, -1.448433266610516, -0.885804951557676, -0.4981012418368357, 0.2811489136857136, 0.8007645509673406, 1.1983074921141816, 1.5265802269843651, 1.5104834914988823, 1.1050685046822553, 0.5142123150146766, 0.2056357482200997, 0.4894416579097695, 0.5590679653501285, 0.9622751036175821, 0.9904044338945349...   \n",
       "\n",
       "                                                                                                                                                                                                                                                                                                                                                                                                                                                                                                                                                                                                                   weather  \\\n",
       "0  [[3.3034192069237545, 3.898538690375676, 5.013702277098824, 5.846744860454411, 5.936053285857787, 5.4660336798869285, 4.932451343033787, 4.682950175924118, 4.818416671167298, 5.338850828763325, 6.1433661561028, 6.884318752560024, 7.065943317643008, 6.503833724773786, 5.659603128536988, 5.335416635571425, 3.3034192069237545, 3.898538690375676, 5.013702277098824, 5.846744860454411, 5.936053285857787, 5.4660336798869285, 4.932451343033787, 4.682950175924118, 4.818416671167298, 5.338850828763325, 6.1433661561028, 6.884318752560024, 7.065943317643008, 6.503833724773786, 5.659603128536988, 5.335...   \n",
       "1  [[-1.6186931578534427, -1.2019879538025604, -0.37219644295844967, 0.39306465119921596, 0.6588808848716119, 0.3208398505518666, -0.32587508305423907, -0.7818190554614118, -0.6737877506968601, -0.0017811687605862048, 0.8609963743745933, 1.4151000182234497, 1.3653463940801456, 0.8161479094515915, 0.20241900813657143, 0.0017764136147868648, -1.6186931578534427, -1.2019879538025604, -0.37219644295844967, 0.39306465119921596, 0.6588808848716119, 0.3208398505518666, -0.32587508305423907, -0.7818190554614118, -0.6737877506968601, -0.0017811687605862048, 0.8609963743745933, 1.4151000182234497, 1.36...   \n",
       "2  [[4.599702729011811, 4.1298911131642155, 4.949819092669101, 6.428437758337198, 6.894064464687844, 5.887663992603388, 4.772673393516303, 4.8628575732214525, 5.6533469550292175, 5.591442698096662, 4.309324479326164, 3.218103453369315, 3.6274345508869446, 4.977264793740922, 5.61818022476125, 5.060836611886807, 4.599702729011811, 4.1298911131642155, 4.949819092669101, 6.428437758337198, 6.894064464687844, 5.887663992603388, 4.772673393516303, 4.8628575732214525, 5.6533469550292175, 5.591442698096662, 4.309324479326164, 3.218103453369315, 3.6274345508869446, 4.977264793740922, 5.61818022476125,...   \n",
       "3  [[1.1910625498572842, 0.7993384516338563, 0.6693566912677147, 1.3277187217305886, 2.488071061383378, 3.232188595180104, 2.916645856445681, 1.8001090657410188, 0.7229631467748117, 0.2954145657331202, 0.528840724146828, 1.1482591307575847, 1.9705329331132924, 2.8457690680793393, 3.4501145511086957, 3.473323782170728, 1.1910625498572842, 0.7993384516338563, 0.6693566912677147, 1.3277187217305886, 2.488071061383378, 3.232188595180104, 2.916645856445681, 1.8001090657410188, 0.7229631467748117, 0.2954145657331202, 0.528840724146828, 1.1482591307575847, 1.9705329331132924, 2.8457690680793393, 3.4...   \n",
       "4  [[8.383926148235549, 8.290204498539183, 8.239552773485698, 8.630448389313171, 9.225832344882573, 9.309980357605978, 8.63661984049898, 7.885151727913606, 7.917810822480813, 8.734597124200592, 9.473275830441974, 9.454446006852988, 8.924380240417966, 8.598802813724912, 8.714772727912797, 8.87381256674356, 8.383926148235549, 8.290204498539183, 8.239552773485698, 8.630448389313171, 9.225832344882573, 9.309980357605978, 8.63661984049898, 7.885151727913606, 7.917810822480813, 8.734597124200592, 9.473275830441974, 9.454446006852988, 8.924380240417966, 8.598802813724912, 8.714772727912797, 8.873812...   \n",
       "\n",
       "   city      cont  \n",
       "0  adam -0.742868  \n",
       "1  adam -2.149846  \n",
       "2  adam -0.064870  \n",
       "3  adam  0.282450  \n",
       "4  adam  0.153711  "
      ]
     },
     "execution_count": 150,
     "metadata": {},
     "output_type": "execute_result"
    }
   ],
   "source": [
    "horizon,lookback = 5,10\n",
    "df = dummy_data_generator_multi(32)\n",
    "df['city'] = df['city']\n",
    "df.head()"
   ]
  },
  {
   "cell_type": "code",
   "execution_count": 151,
   "metadata": {
    "Collapsed": "false"
   },
   "outputs": [
    {
     "data": {
      "image/png": "[encoded data removed]",
      "text/plain": [
       "<Figure size 648x720 with 9 Axes>"
      ]
     },
     "metadata": {
      "needs_background": "light"
     },
     "output_type": "display_data"
    }
   ],
   "source": [
    "dl = DfDataLoader(df, 'x', horizon = horizon, lookback = lookback, step=3, bs=32)\n",
    "dl.show_batch(max_n=9)"
   ]
  },
  {
   "cell_type": "code",
   "execution_count": 152,
   "metadata": {
    "Collapsed": "false"
   },
   "outputs": [
    {
     "data": {
      "image/png": "[encoded data removed]",
      "text/plain": [
       "<Figure size 648x720 with 9 Axes>"
      ]
     },
     "metadata": {
      "needs_background": "light"
     },
     "output_type": "display_data"
    }
   ],
   "source": [
    "# hide\n",
    "from fastseq.data.load import *\n",
    "horizon,lookback = 2,5\n",
    "t = np.arange(-5,5.)\n",
    "a = np.sin(t)\n",
    "df = pd.DataFrame({'x':[i + (i*.6)*a*-.5 for i in range(1,5)],\n",
    "                   'a':[i+a for i in range(1,5)],\n",
    "                   'b':[i+torch.randn(1).numpy()[0] for i in range(1,5)],\n",
    "                   'cat':[i for i in 'aabb'],                  \n",
    "                  })\n",
    "dl = DfDataLoader(df, 'x', horizon = horizon, lookback = lookback, \n",
    "#                   after_batch = NormalizeTSMulti(),\n",
    "                  num_workers = 1)\n",
    "dl.show_batch()"
   ]
  },
  {
   "cell_type": "markdown",
   "metadata": {
    "Collapsed": "false"
   },
   "source": [
    "# M5 Example"
   ]
  },
  {
   "cell_type": "code",
   "execution_count": 153,
   "metadata": {
    "Collapsed": "false"
   },
   "outputs": [
    {
     "data": {
      "text/plain": [
       "(#4) [Path('../data/m5_tiny/sales_train_validation.csv'),Path('../data/m5_tiny/sample_submission.csv'),Path('../data/m5_tiny/calendar.csv'),Path('../data/m5_tiny/sell_prices.csv')]"
      ]
     },
     "execution_count": 153,
     "metadata": {},
     "output_type": "execute_result"
    }
   ],
   "source": [
    "path = Path('../data/m5_tiny')\n",
    "path.ls()"
   ]
  },
  {
   "cell_type": "code",
   "execution_count": 154,
   "metadata": {
    "Collapsed": "false"
   },
   "outputs": [
    {
     "data": {
      "text/html": [
       "<div>\n",
       "<style scoped>\n",
       "    .dataframe tbody tr th:only-of-type {\n",
       "        vertical-align: middle;\n",
       "    }\n",
       "\n",
       "    .dataframe tbody tr th {\n",
       "        vertical-align: top;\n",
       "    }\n",
       "\n",
       "    .dataframe thead th {\n",
       "        text-align: right;\n",
       "    }\n",
       "</style>\n",
       "<table border=\"1\" class=\"dataframe\">\n",
       "  <thead>\n",
       "    <tr style=\"text-align: right;\">\n",
       "      <th></th>\n",
       "      <th>date</th>\n",
       "      <th>wm_yr_wk</th>\n",
       "      <th>weekday</th>\n",
       "      <th>wday</th>\n",
       "      <th>month</th>\n",
       "      <th>year</th>\n",
       "      <th>d</th>\n",
       "      <th>event_name_1</th>\n",
       "      <th>event_type_1</th>\n",
       "      <th>event_name_2</th>\n",
       "      <th>event_type_2</th>\n",
       "      <th>snap_CA</th>\n",
       "      <th>snap_TX</th>\n",
       "      <th>snap_WI</th>\n",
       "    </tr>\n",
       "  </thead>\n",
       "  <tbody>\n",
       "    <tr>\n",
       "      <th>0</th>\n",
       "      <td>2011-01-29</td>\n",
       "      <td>11101</td>\n",
       "      <td>Saturday</td>\n",
       "      <td>1</td>\n",
       "      <td>1</td>\n",
       "      <td>2011</td>\n",
       "      <td>d_1</td>\n",
       "      <td>NaN</td>\n",
       "      <td>NaN</td>\n",
       "      <td>NaN</td>\n",
       "      <td>NaN</td>\n",
       "      <td>0</td>\n",
       "      <td>0</td>\n",
       "      <td>0</td>\n",
       "    </tr>\n",
       "    <tr>\n",
       "      <th>1</th>\n",
       "      <td>2011-01-30</td>\n",
       "      <td>11101</td>\n",
       "      <td>Sunday</td>\n",
       "      <td>2</td>\n",
       "      <td>1</td>\n",
       "      <td>2011</td>\n",
       "      <td>d_2</td>\n",
       "      <td>NaN</td>\n",
       "      <td>NaN</td>\n",
       "      <td>NaN</td>\n",
       "      <td>NaN</td>\n",
       "      <td>0</td>\n",
       "      <td>0</td>\n",
       "      <td>0</td>\n",
       "    </tr>\n",
       "    <tr>\n",
       "      <th>2</th>\n",
       "      <td>2011-01-31</td>\n",
       "      <td>11101</td>\n",
       "      <td>Monday</td>\n",
       "      <td>3</td>\n",
       "      <td>1</td>\n",
       "      <td>2011</td>\n",
       "      <td>d_3</td>\n",
       "      <td>NaN</td>\n",
       "      <td>NaN</td>\n",
       "      <td>NaN</td>\n",
       "      <td>NaN</td>\n",
       "      <td>0</td>\n",
       "      <td>0</td>\n",
       "      <td>0</td>\n",
       "    </tr>\n",
       "    <tr>\n",
       "      <th>3</th>\n",
       "      <td>2011-02-01</td>\n",
       "      <td>11101</td>\n",
       "      <td>Tuesday</td>\n",
       "      <td>4</td>\n",
       "      <td>2</td>\n",
       "      <td>2011</td>\n",
       "      <td>d_4</td>\n",
       "      <td>NaN</td>\n",
       "      <td>NaN</td>\n",
       "      <td>NaN</td>\n",
       "      <td>NaN</td>\n",
       "      <td>1</td>\n",
       "      <td>1</td>\n",
       "      <td>0</td>\n",
       "    </tr>\n",
       "    <tr>\n",
       "      <th>4</th>\n",
       "      <td>2011-02-02</td>\n",
       "      <td>11101</td>\n",
       "      <td>Wednesday</td>\n",
       "      <td>5</td>\n",
       "      <td>2</td>\n",
       "      <td>2011</td>\n",
       "      <td>d_5</td>\n",
       "      <td>NaN</td>\n",
       "      <td>NaN</td>\n",
       "      <td>NaN</td>\n",
       "      <td>NaN</td>\n",
       "      <td>1</td>\n",
       "      <td>0</td>\n",
       "      <td>1</td>\n",
       "    </tr>\n",
       "    <tr>\n",
       "      <th>...</th>\n",
       "      <td>...</td>\n",
       "      <td>...</td>\n",
       "      <td>...</td>\n",
       "      <td>...</td>\n",
       "      <td>...</td>\n",
       "      <td>...</td>\n",
       "      <td>...</td>\n",
       "      <td>...</td>\n",
       "      <td>...</td>\n",
       "      <td>...</td>\n",
       "      <td>...</td>\n",
       "      <td>...</td>\n",
       "      <td>...</td>\n",
       "      <td>...</td>\n",
       "    </tr>\n",
       "    <tr>\n",
       "      <th>1964</th>\n",
       "      <td>2016-06-15</td>\n",
       "      <td>11620</td>\n",
       "      <td>Wednesday</td>\n",
       "      <td>5</td>\n",
       "      <td>6</td>\n",
       "      <td>2016</td>\n",
       "      <td>d_1965</td>\n",
       "      <td>NaN</td>\n",
       "      <td>NaN</td>\n",
       "      <td>NaN</td>\n",
       "      <td>NaN</td>\n",
       "      <td>0</td>\n",
       "      <td>1</td>\n",
       "      <td>1</td>\n",
       "    </tr>\n",
       "    <tr>\n",
       "      <th>1965</th>\n",
       "      <td>2016-06-16</td>\n",
       "      <td>11620</td>\n",
       "      <td>Thursday</td>\n",
       "      <td>6</td>\n",
       "      <td>6</td>\n",
       "      <td>2016</td>\n",
       "      <td>d_1966</td>\n",
       "      <td>NaN</td>\n",
       "      <td>NaN</td>\n",
       "      <td>NaN</td>\n",
       "      <td>NaN</td>\n",
       "      <td>0</td>\n",
       "      <td>0</td>\n",
       "      <td>0</td>\n",
       "    </tr>\n",
       "    <tr>\n",
       "      <th>1966</th>\n",
       "      <td>2016-06-17</td>\n",
       "      <td>11620</td>\n",
       "      <td>Friday</td>\n",
       "      <td>7</td>\n",
       "      <td>6</td>\n",
       "      <td>2016</td>\n",
       "      <td>d_1967</td>\n",
       "      <td>NaN</td>\n",
       "      <td>NaN</td>\n",
       "      <td>NaN</td>\n",
       "      <td>NaN</td>\n",
       "      <td>0</td>\n",
       "      <td>0</td>\n",
       "      <td>0</td>\n",
       "    </tr>\n",
       "    <tr>\n",
       "      <th>1967</th>\n",
       "      <td>2016-06-18</td>\n",
       "      <td>11621</td>\n",
       "      <td>Saturday</td>\n",
       "      <td>1</td>\n",
       "      <td>6</td>\n",
       "      <td>2016</td>\n",
       "      <td>d_1968</td>\n",
       "      <td>NaN</td>\n",
       "      <td>NaN</td>\n",
       "      <td>NaN</td>\n",
       "      <td>NaN</td>\n",
       "      <td>0</td>\n",
       "      <td>0</td>\n",
       "      <td>0</td>\n",
       "    </tr>\n",
       "    <tr>\n",
       "      <th>1968</th>\n",
       "      <td>2016-06-19</td>\n",
       "      <td>11621</td>\n",
       "      <td>Sunday</td>\n",
       "      <td>2</td>\n",
       "      <td>6</td>\n",
       "      <td>2016</td>\n",
       "      <td>d_1969</td>\n",
       "      <td>NBAFinalsEnd</td>\n",
       "      <td>Sporting</td>\n",
       "      <td>Father's day</td>\n",
       "      <td>Cultural</td>\n",
       "      <td>0</td>\n",
       "      <td>0</td>\n",
       "      <td>0</td>\n",
       "    </tr>\n",
       "  </tbody>\n",
       "</table>\n",
       "<p>1969 rows × 14 columns</p>\n",
       "</div>"
      ],
      "text/plain": [
       "            date  wm_yr_wk    weekday  wday  month  year       d  \\\n",
       "0     2011-01-29     11101   Saturday     1      1  2011     d_1   \n",
       "1     2011-01-30     11101     Sunday     2      1  2011     d_2   \n",
       "2     2011-01-31     11101     Monday     3      1  2011     d_3   \n",
       "3     2011-02-01     11101    Tuesday     4      2  2011     d_4   \n",
       "4     2011-02-02     11101  Wednesday     5      2  2011     d_5   \n",
       "...          ...       ...        ...   ...    ...   ...     ...   \n",
       "1964  2016-06-15     11620  Wednesday     5      6  2016  d_1965   \n",
       "1965  2016-06-16     11620   Thursday     6      6  2016  d_1966   \n",
       "1966  2016-06-17     11620     Friday     7      6  2016  d_1967   \n",
       "1967  2016-06-18     11621   Saturday     1      6  2016  d_1968   \n",
       "1968  2016-06-19     11621     Sunday     2      6  2016  d_1969   \n",
       "\n",
       "      event_name_1 event_type_1  event_name_2 event_type_2  snap_CA  snap_TX  \\\n",
       "0              NaN          NaN           NaN          NaN        0        0   \n",
       "1              NaN          NaN           NaN          NaN        0        0   \n",
       "2              NaN          NaN           NaN          NaN        0        0   \n",
       "3              NaN          NaN           NaN          NaN        1        1   \n",
       "4              NaN          NaN           NaN          NaN        1        0   \n",
       "...            ...          ...           ...          ...      ...      ...   \n",
       "1964           NaN          NaN           NaN          NaN        0        1   \n",
       "1965           NaN          NaN           NaN          NaN        0        0   \n",
       "1966           NaN          NaN           NaN          NaN        0        0   \n",
       "1967           NaN          NaN           NaN          NaN        0        0   \n",
       "1968  NBAFinalsEnd     Sporting  Father's day     Cultural        0        0   \n",
       "\n",
       "      snap_WI  \n",
       "0           0  \n",
       "1           0  \n",
       "2           0  \n",
       "3           0  \n",
       "4           1  \n",
       "...       ...  \n",
       "1964        1  \n",
       "1965        0  \n",
       "1966        0  \n",
       "1967        0  \n",
       "1968        0  \n",
       "\n",
       "[1969 rows x 14 columns]"
      ]
     },
     "execution_count": 154,
     "metadata": {},
     "output_type": "execute_result"
    }
   ],
   "source": [
    "df_cal = pd.read_csv(path / 'calendar.csv')\n",
    "df_cal"
   ]
  },
  {
   "cell_type": "code",
   "execution_count": 155,
   "metadata": {
    "Collapsed": "false"
   },
   "outputs": [
    {
     "data": {
      "text/html": [
       "<div>\n",
       "<style scoped>\n",
       "    .dataframe tbody tr th:only-of-type {\n",
       "        vertical-align: middle;\n",
       "    }\n",
       "\n",
       "    .dataframe tbody tr th {\n",
       "        vertical-align: top;\n",
       "    }\n",
       "\n",
       "    .dataframe thead th {\n",
       "        text-align: right;\n",
       "    }\n",
       "</style>\n",
       "<table border=\"1\" class=\"dataframe\">\n",
       "  <thead>\n",
       "    <tr style=\"text-align: right;\">\n",
       "      <th></th>\n",
       "      <th>date</th>\n",
       "      <th>wm_yr_wk</th>\n",
       "      <th>weekday</th>\n",
       "      <th>wday</th>\n",
       "      <th>month</th>\n",
       "      <th>year</th>\n",
       "      <th>d</th>\n",
       "      <th>snap_CA</th>\n",
       "      <th>snap_TX</th>\n",
       "      <th>snap_WI</th>\n",
       "    </tr>\n",
       "  </thead>\n",
       "  <tbody>\n",
       "    <tr>\n",
       "      <th>0</th>\n",
       "      <td>2011-01-29</td>\n",
       "      <td>11101</td>\n",
       "      <td>Saturday</td>\n",
       "      <td>1</td>\n",
       "      <td>1</td>\n",
       "      <td>2011</td>\n",
       "      <td>d_1</td>\n",
       "      <td>0</td>\n",
       "      <td>0</td>\n",
       "      <td>0</td>\n",
       "    </tr>\n",
       "    <tr>\n",
       "      <th>1</th>\n",
       "      <td>2011-01-30</td>\n",
       "      <td>11101</td>\n",
       "      <td>Sunday</td>\n",
       "      <td>2</td>\n",
       "      <td>1</td>\n",
       "      <td>2011</td>\n",
       "      <td>d_2</td>\n",
       "      <td>0</td>\n",
       "      <td>0</td>\n",
       "      <td>0</td>\n",
       "    </tr>\n",
       "    <tr>\n",
       "      <th>2</th>\n",
       "      <td>2011-01-31</td>\n",
       "      <td>11101</td>\n",
       "      <td>Monday</td>\n",
       "      <td>3</td>\n",
       "      <td>1</td>\n",
       "      <td>2011</td>\n",
       "      <td>d_3</td>\n",
       "      <td>0</td>\n",
       "      <td>0</td>\n",
       "      <td>0</td>\n",
       "    </tr>\n",
       "    <tr>\n",
       "      <th>3</th>\n",
       "      <td>2011-02-01</td>\n",
       "      <td>11101</td>\n",
       "      <td>Tuesday</td>\n",
       "      <td>4</td>\n",
       "      <td>2</td>\n",
       "      <td>2011</td>\n",
       "      <td>d_4</td>\n",
       "      <td>1</td>\n",
       "      <td>1</td>\n",
       "      <td>0</td>\n",
       "    </tr>\n",
       "    <tr>\n",
       "      <th>4</th>\n",
       "      <td>2011-02-02</td>\n",
       "      <td>11101</td>\n",
       "      <td>Wednesday</td>\n",
       "      <td>5</td>\n",
       "      <td>2</td>\n",
       "      <td>2011</td>\n",
       "      <td>d_5</td>\n",
       "      <td>1</td>\n",
       "      <td>0</td>\n",
       "      <td>1</td>\n",
       "    </tr>\n",
       "    <tr>\n",
       "      <th>...</th>\n",
       "      <td>...</td>\n",
       "      <td>...</td>\n",
       "      <td>...</td>\n",
       "      <td>...</td>\n",
       "      <td>...</td>\n",
       "      <td>...</td>\n",
       "      <td>...</td>\n",
       "      <td>...</td>\n",
       "      <td>...</td>\n",
       "      <td>...</td>\n",
       "    </tr>\n",
       "    <tr>\n",
       "      <th>1964</th>\n",
       "      <td>2016-06-15</td>\n",
       "      <td>11620</td>\n",
       "      <td>Wednesday</td>\n",
       "      <td>5</td>\n",
       "      <td>6</td>\n",
       "      <td>2016</td>\n",
       "      <td>d_1965</td>\n",
       "      <td>0</td>\n",
       "      <td>1</td>\n",
       "      <td>1</td>\n",
       "    </tr>\n",
       "    <tr>\n",
       "      <th>1965</th>\n",
       "      <td>2016-06-16</td>\n",
       "      <td>11620</td>\n",
       "      <td>Thursday</td>\n",
       "      <td>6</td>\n",
       "      <td>6</td>\n",
       "      <td>2016</td>\n",
       "      <td>d_1966</td>\n",
       "      <td>0</td>\n",
       "      <td>0</td>\n",
       "      <td>0</td>\n",
       "    </tr>\n",
       "    <tr>\n",
       "      <th>1966</th>\n",
       "      <td>2016-06-17</td>\n",
       "      <td>11620</td>\n",
       "      <td>Friday</td>\n",
       "      <td>7</td>\n",
       "      <td>6</td>\n",
       "      <td>2016</td>\n",
       "      <td>d_1967</td>\n",
       "      <td>0</td>\n",
       "      <td>0</td>\n",
       "      <td>0</td>\n",
       "    </tr>\n",
       "    <tr>\n",
       "      <th>1967</th>\n",
       "      <td>2016-06-18</td>\n",
       "      <td>11621</td>\n",
       "      <td>Saturday</td>\n",
       "      <td>1</td>\n",
       "      <td>6</td>\n",
       "      <td>2016</td>\n",
       "      <td>d_1968</td>\n",
       "      <td>0</td>\n",
       "      <td>0</td>\n",
       "      <td>0</td>\n",
       "    </tr>\n",
       "    <tr>\n",
       "      <th>1968</th>\n",
       "      <td>2016-06-19</td>\n",
       "      <td>11621</td>\n",
       "      <td>Sunday</td>\n",
       "      <td>2</td>\n",
       "      <td>6</td>\n",
       "      <td>2016</td>\n",
       "      <td>d_1969</td>\n",
       "      <td>0</td>\n",
       "      <td>0</td>\n",
       "      <td>0</td>\n",
       "    </tr>\n",
       "  </tbody>\n",
       "</table>\n",
       "<p>1969 rows × 10 columns</p>\n",
       "</div>"
      ],
      "text/plain": [
       "            date  wm_yr_wk    weekday  wday  month  year       d  snap_CA  \\\n",
       "0     2011-01-29     11101   Saturday     1      1  2011     d_1        0   \n",
       "1     2011-01-30     11101     Sunday     2      1  2011     d_2        0   \n",
       "2     2011-01-31     11101     Monday     3      1  2011     d_3        0   \n",
       "3     2011-02-01     11101    Tuesday     4      2  2011     d_4        1   \n",
       "4     2011-02-02     11101  Wednesday     5      2  2011     d_5        1   \n",
       "...          ...       ...        ...   ...    ...   ...     ...      ...   \n",
       "1964  2016-06-15     11620  Wednesday     5      6  2016  d_1965        0   \n",
       "1965  2016-06-16     11620   Thursday     6      6  2016  d_1966        0   \n",
       "1966  2016-06-17     11620     Friday     7      6  2016  d_1967        0   \n",
       "1967  2016-06-18     11621   Saturday     1      6  2016  d_1968        0   \n",
       "1968  2016-06-19     11621     Sunday     2      6  2016  d_1969        0   \n",
       "\n",
       "      snap_TX  snap_WI  \n",
       "0           0        0  \n",
       "1           0        0  \n",
       "2           0        0  \n",
       "3           1        0  \n",
       "4           0        1  \n",
       "...       ...      ...  \n",
       "1964        1        1  \n",
       "1965        0        0  \n",
       "1966        0        0  \n",
       "1967        0        0  \n",
       "1968        0        0  \n",
       "\n",
       "[1969 rows x 10 columns]"
      ]
     },
     "execution_count": 155,
     "metadata": {},
     "output_type": "execute_result"
    }
   ],
   "source": [
    "df_cal[[c for c in df_cal if 'event' not in c]]"
   ]
  },
  {
   "cell_type": "code",
   "execution_count": null,
   "metadata": {
    "Collapsed": "false"
   },
   "outputs": [],
   "source": []
  },
  {
   "cell_type": "code",
   "execution_count": 156,
   "metadata": {
    "Collapsed": "false"
   },
   "outputs": [],
   "source": [
    "df_sales = pd.read_csv(path / 'sales_train_validation.csv',).iloc[:100,:]"
   ]
  },
  {
   "cell_type": "code",
   "execution_count": 157,
   "metadata": {
    "Collapsed": "false"
   },
   "outputs": [],
   "source": [
    "# export\n",
    "def _to_series(df, s_slice=None, add_zeros = 28*2):\n",
    "    s_slice = ifnone(s_slice, slice(6,None))\n",
    "    r = []\n",
    "    for i in range(df.shape[0]):\n",
    "        r.append(pd.Series(np.concatenate([df.iloc[i, s_slice].values.astype(float),[0]*add_zeros]) ))\n",
    "    return r\n",
    "\n",
    "@delegates(_to_series)\n",
    "def to_contained_series(df, **kwargs):    \n",
    "    data={k:v for k,v in dict(df).items() if ('d_' not in k and 'F' not in k)}\n",
    "    data['sales'] = pd.Series(_to_series(df, **kwargs))\n",
    "    \n",
    "    df = pd.DataFrame(data=data)\n",
    "    return df"
   ]
  },
  {
   "cell_type": "code",
   "execution_count": 297,
   "metadata": {
    "Collapsed": "false"
   },
   "outputs": [],
   "source": [
    "df_sales_s = to_contained_series(df_sales)"
   ]
  },
  {
   "cell_type": "code",
   "execution_count": 298,
   "metadata": {
    "Collapsed": "false"
   },
   "outputs": [
    {
     "data": {
      "text/html": [
       "<div>\n",
       "<style scoped>\n",
       "    .dataframe tbody tr th:only-of-type {\n",
       "        vertical-align: middle;\n",
       "    }\n",
       "\n",
       "    .dataframe tbody tr th {\n",
       "        vertical-align: top;\n",
       "    }\n",
       "\n",
       "    .dataframe thead th {\n",
       "        text-align: right;\n",
       "    }\n",
       "</style>\n",
       "<table border=\"1\" class=\"dataframe\">\n",
       "  <thead>\n",
       "    <tr style=\"text-align: right;\">\n",
       "      <th></th>\n",
       "      <th>id</th>\n",
       "      <th>sales</th>\n",
       "      <th>d</th>\n",
       "    </tr>\n",
       "  </thead>\n",
       "  <tbody>\n",
       "    <tr>\n",
       "      <th>0</th>\n",
       "      <td>HOBBIES_1_001_CA_1_validation</td>\n",
       "      <td>0     0.0\n",
       "1     0.0\n",
       "2     0.0\n",
       "3     0.0\n",
       "4     0.0\n",
       "5     0.0\n",
       "6     0.0\n",
       "7     0.0\n",
       "8     0.0\n",
       "9     0.0\n",
       "10    0.0\n",
       "11    0.0\n",
       "12    0.0\n",
       "13    0.0\n",
       "14    0.0\n",
       "15    0.0\n",
       "16    0.0\n",
       "17    0.0\n",
       "18    0.0\n",
       "19    0.0\n",
       "20    0.0\n",
       "21    0.0\n",
       "22    0.0\n",
       "23    0.0\n",
       "24    0.0\n",
       "25    0.0\n",
       "26    0.0\n",
       "27    0.0\n",
       "dtype: float64</td>\n",
       "      <td>F1</td>\n",
       "    </tr>\n",
       "    <tr>\n",
       "      <th>1</th>\n",
       "      <td>HOBBIES_1_002_CA_1_validation</td>\n",
       "      <td>0     0.0\n",
       "1     0.0\n",
       "2     0.0\n",
       "3     0.0\n",
       "4     0.0\n",
       "5     0.0\n",
       "6     0.0\n",
       "7     0.0\n",
       "8     0.0\n",
       "9     0.0\n",
       "10    0.0\n",
       "11    0.0\n",
       "12    0.0\n",
       "13    0.0\n",
       "14    0.0\n",
       "15    0.0\n",
       "16    0.0\n",
       "17    0.0\n",
       "18    0.0\n",
       "19    0.0\n",
       "20    0.0\n",
       "21    0.0\n",
       "22    0.0\n",
       "23    0.0\n",
       "24    0.0\n",
       "25    0.0\n",
       "26    0.0\n",
       "27    0.0\n",
       "dtype: float64</td>\n",
       "      <td>F2</td>\n",
       "    </tr>\n",
       "    <tr>\n",
       "      <th>2</th>\n",
       "      <td>HOBBIES_1_003_CA_1_validation</td>\n",
       "      <td>0     0.0\n",
       "1     0.0\n",
       "2     0.0\n",
       "3     0.0\n",
       "4     0.0\n",
       "5     0.0\n",
       "6     0.0\n",
       "7     0.0\n",
       "8     0.0\n",
       "9     0.0\n",
       "10    0.0\n",
       "11    0.0\n",
       "12    0.0\n",
       "13    0.0\n",
       "14    0.0\n",
       "15    0.0\n",
       "16    0.0\n",
       "17    0.0\n",
       "18    0.0\n",
       "19    0.0\n",
       "20    0.0\n",
       "21    0.0\n",
       "22    0.0\n",
       "23    0.0\n",
       "24    0.0\n",
       "25    0.0\n",
       "26    0.0\n",
       "27    0.0\n",
       "dtype: float64</td>\n",
       "      <td>F3</td>\n",
       "    </tr>\n",
       "    <tr>\n",
       "      <th>3</th>\n",
       "      <td>HOBBIES_1_004_CA_1_validation</td>\n",
       "      <td>0     0.0\n",
       "1     0.0\n",
       "2     0.0\n",
       "3     0.0\n",
       "4     0.0\n",
       "5     0.0\n",
       "6     0.0\n",
       "7     0.0\n",
       "8     0.0\n",
       "9     0.0\n",
       "10    0.0\n",
       "11    0.0\n",
       "12    0.0\n",
       "13    0.0\n",
       "14    0.0\n",
       "15    0.0\n",
       "16    0.0\n",
       "17    0.0\n",
       "18    0.0\n",
       "19    0.0\n",
       "20    0.0\n",
       "21    0.0\n",
       "22    0.0\n",
       "23    0.0\n",
       "24    0.0\n",
       "25    0.0\n",
       "26    0.0\n",
       "27    0.0\n",
       "dtype: float64</td>\n",
       "      <td>F4</td>\n",
       "    </tr>\n",
       "    <tr>\n",
       "      <th>4</th>\n",
       "      <td>HOBBIES_1_005_CA_1_validation</td>\n",
       "      <td>0     0.0\n",
       "1     0.0\n",
       "2     0.0\n",
       "3     0.0\n",
       "4     0.0\n",
       "5     0.0\n",
       "6     0.0\n",
       "7     0.0\n",
       "8     0.0\n",
       "9     0.0\n",
       "10    0.0\n",
       "11    0.0\n",
       "12    0.0\n",
       "13    0.0\n",
       "14    0.0\n",
       "15    0.0\n",
       "16    0.0\n",
       "17    0.0\n",
       "18    0.0\n",
       "19    0.0\n",
       "20    0.0\n",
       "21    0.0\n",
       "22    0.0\n",
       "23    0.0\n",
       "24    0.0\n",
       "25    0.0\n",
       "26    0.0\n",
       "27    0.0\n",
       "dtype: float64</td>\n",
       "      <td>F5</td>\n",
       "    </tr>\n",
       "  </tbody>\n",
       "</table>\n",
       "</div>"
      ],
      "text/plain": [
       "                              id  \\\n",
       "0  HOBBIES_1_001_CA_1_validation   \n",
       "1  HOBBIES_1_002_CA_1_validation   \n",
       "2  HOBBIES_1_003_CA_1_validation   \n",
       "3  HOBBIES_1_004_CA_1_validation   \n",
       "4  HOBBIES_1_005_CA_1_validation   \n",
       "\n",
       "                                                                                                                                                                                                                                                                                                    sales  \\\n",
       "0  0     0.0\n",
       "1     0.0\n",
       "2     0.0\n",
       "3     0.0\n",
       "4     0.0\n",
       "5     0.0\n",
       "6     0.0\n",
       "7     0.0\n",
       "8     0.0\n",
       "9     0.0\n",
       "10    0.0\n",
       "11    0.0\n",
       "12    0.0\n",
       "13    0.0\n",
       "14    0.0\n",
       "15    0.0\n",
       "16    0.0\n",
       "17    0.0\n",
       "18    0.0\n",
       "19    0.0\n",
       "20    0.0\n",
       "21    0.0\n",
       "22    0.0\n",
       "23    0.0\n",
       "24    0.0\n",
       "25    0.0\n",
       "26    0.0\n",
       "27    0.0\n",
       "dtype: float64   \n",
       "1  0     0.0\n",
       "1     0.0\n",
       "2     0.0\n",
       "3     0.0\n",
       "4     0.0\n",
       "5     0.0\n",
       "6     0.0\n",
       "7     0.0\n",
       "8     0.0\n",
       "9     0.0\n",
       "10    0.0\n",
       "11    0.0\n",
       "12    0.0\n",
       "13    0.0\n",
       "14    0.0\n",
       "15    0.0\n",
       "16    0.0\n",
       "17    0.0\n",
       "18    0.0\n",
       "19    0.0\n",
       "20    0.0\n",
       "21    0.0\n",
       "22    0.0\n",
       "23    0.0\n",
       "24    0.0\n",
       "25    0.0\n",
       "26    0.0\n",
       "27    0.0\n",
       "dtype: float64   \n",
       "2  0     0.0\n",
       "1     0.0\n",
       "2     0.0\n",
       "3     0.0\n",
       "4     0.0\n",
       "5     0.0\n",
       "6     0.0\n",
       "7     0.0\n",
       "8     0.0\n",
       "9     0.0\n",
       "10    0.0\n",
       "11    0.0\n",
       "12    0.0\n",
       "13    0.0\n",
       "14    0.0\n",
       "15    0.0\n",
       "16    0.0\n",
       "17    0.0\n",
       "18    0.0\n",
       "19    0.0\n",
       "20    0.0\n",
       "21    0.0\n",
       "22    0.0\n",
       "23    0.0\n",
       "24    0.0\n",
       "25    0.0\n",
       "26    0.0\n",
       "27    0.0\n",
       "dtype: float64   \n",
       "3  0     0.0\n",
       "1     0.0\n",
       "2     0.0\n",
       "3     0.0\n",
       "4     0.0\n",
       "5     0.0\n",
       "6     0.0\n",
       "7     0.0\n",
       "8     0.0\n",
       "9     0.0\n",
       "10    0.0\n",
       "11    0.0\n",
       "12    0.0\n",
       "13    0.0\n",
       "14    0.0\n",
       "15    0.0\n",
       "16    0.0\n",
       "17    0.0\n",
       "18    0.0\n",
       "19    0.0\n",
       "20    0.0\n",
       "21    0.0\n",
       "22    0.0\n",
       "23    0.0\n",
       "24    0.0\n",
       "25    0.0\n",
       "26    0.0\n",
       "27    0.0\n",
       "dtype: float64   \n",
       "4  0     0.0\n",
       "1     0.0\n",
       "2     0.0\n",
       "3     0.0\n",
       "4     0.0\n",
       "5     0.0\n",
       "6     0.0\n",
       "7     0.0\n",
       "8     0.0\n",
       "9     0.0\n",
       "10    0.0\n",
       "11    0.0\n",
       "12    0.0\n",
       "13    0.0\n",
       "14    0.0\n",
       "15    0.0\n",
       "16    0.0\n",
       "17    0.0\n",
       "18    0.0\n",
       "19    0.0\n",
       "20    0.0\n",
       "21    0.0\n",
       "22    0.0\n",
       "23    0.0\n",
       "24    0.0\n",
       "25    0.0\n",
       "26    0.0\n",
       "27    0.0\n",
       "dtype: float64   \n",
       "\n",
       "    d  \n",
       "0  F1  \n",
       "1  F2  \n",
       "2  F3  \n",
       "3  F4  \n",
       "4  F5  "
      ]
     },
     "execution_count": 298,
     "metadata": {},
     "output_type": "execute_result"
    }
   ],
   "source": [
    "df_validation = to_contained_series(pd.read_csv(path / 'sample_submission.csv'),\n",
    "                                    s_slice=slice(1,None), add_zeros = 0) \n",
    "df_validation.head()"
   ]
  },
  {
   "cell_type": "code",
   "execution_count": 291,
   "metadata": {
    "Collapsed": "false"
   },
   "outputs": [
    {
     "data": {
      "text/html": [
       "<div>\n",
       "<style scoped>\n",
       "    .dataframe tbody tr th:only-of-type {\n",
       "        vertical-align: middle;\n",
       "    }\n",
       "\n",
       "    .dataframe tbody tr th {\n",
       "        vertical-align: top;\n",
       "    }\n",
       "\n",
       "    .dataframe thead th {\n",
       "        text-align: right;\n",
       "    }\n",
       "</style>\n",
       "<table border=\"1\" class=\"dataframe\">\n",
       "  <thead>\n",
       "    <tr style=\"text-align: right;\">\n",
       "      <th></th>\n",
       "      <th>id</th>\n",
       "      <th>item_id</th>\n",
       "      <th>dept_id</th>\n",
       "      <th>cat_id</th>\n",
       "      <th>store_id</th>\n",
       "      <th>state_id</th>\n",
       "      <th>sales</th>\n",
       "    </tr>\n",
       "  </thead>\n",
       "  <tbody>\n",
       "    <tr>\n",
       "      <th>0</th>\n",
       "      <td>HOBBIES_1_001_CA_1_validation</td>\n",
       "      <td>HOBBIES_1_001</td>\n",
       "      <td>HOBBIES_1</td>\n",
       "      <td>HOBBIES</td>\n",
       "      <td>CA_1</td>\n",
       "      <td>CA</td>\n",
       "      <td>0      0.0\n",
       "1      2.0\n",
       "2      0.0\n",
       "3      1.0\n",
       "4      1.0\n",
       "      ... \n",
       "107    0.0\n",
       "108    0.0\n",
       "109    0.0\n",
       "110    0.0\n",
       "111    0.0\n",
       "Length: 112, dtype: float64</td>\n",
       "    </tr>\n",
       "    <tr>\n",
       "      <th>1</th>\n",
       "      <td>HOBBIES_1_002_CA_1_validation</td>\n",
       "      <td>HOBBIES_1_002</td>\n",
       "      <td>HOBBIES_1</td>\n",
       "      <td>HOBBIES</td>\n",
       "      <td>CA_1</td>\n",
       "      <td>CA</td>\n",
       "      <td>0      0.0\n",
       "1      0.0\n",
       "2      0.0\n",
       "3      1.0\n",
       "4      0.0\n",
       "      ... \n",
       "107    0.0\n",
       "108    0.0\n",
       "109    0.0\n",
       "110    0.0\n",
       "111    0.0\n",
       "Length: 112, dtype: float64</td>\n",
       "    </tr>\n",
       "    <tr>\n",
       "      <th>2</th>\n",
       "      <td>HOBBIES_1_003_CA_1_validation</td>\n",
       "      <td>HOBBIES_1_003</td>\n",
       "      <td>HOBBIES_1</td>\n",
       "      <td>HOBBIES</td>\n",
       "      <td>CA_1</td>\n",
       "      <td>CA</td>\n",
       "      <td>0      0.0\n",
       "1      0.0\n",
       "2      0.0\n",
       "3      0.0\n",
       "4      0.0\n",
       "      ... \n",
       "107    0.0\n",
       "108    0.0\n",
       "109    0.0\n",
       "110    0.0\n",
       "111    0.0\n",
       "Length: 112, dtype: float64</td>\n",
       "    </tr>\n",
       "    <tr>\n",
       "      <th>3</th>\n",
       "      <td>HOBBIES_1_004_CA_1_validation</td>\n",
       "      <td>HOBBIES_1_004</td>\n",
       "      <td>HOBBIES_1</td>\n",
       "      <td>HOBBIES</td>\n",
       "      <td>CA_1</td>\n",
       "      <td>CA</td>\n",
       "      <td>0      0.0\n",
       "1      0.0\n",
       "2      0.0\n",
       "3      1.0\n",
       "4      0.0\n",
       "      ... \n",
       "107    0.0\n",
       "108    0.0\n",
       "109    0.0\n",
       "110    0.0\n",
       "111    0.0\n",
       "Length: 112, dtype: float64</td>\n",
       "    </tr>\n",
       "    <tr>\n",
       "      <th>4</th>\n",
       "      <td>HOBBIES_1_005_CA_1_validation</td>\n",
       "      <td>HOBBIES_1_005</td>\n",
       "      <td>HOBBIES_1</td>\n",
       "      <td>HOBBIES</td>\n",
       "      <td>CA_1</td>\n",
       "      <td>CA</td>\n",
       "      <td>0      1.0\n",
       "1      2.0\n",
       "2      1.0\n",
       "3      0.0\n",
       "4      0.0\n",
       "      ... \n",
       "107    0.0\n",
       "108    0.0\n",
       "109    0.0\n",
       "110    0.0\n",
       "111    0.0\n",
       "Length: 112, dtype: float64</td>\n",
       "    </tr>\n",
       "  </tbody>\n",
       "</table>\n",
       "</div>"
      ],
      "text/plain": [
       "                              id        item_id    dept_id   cat_id store_id  \\\n",
       "0  HOBBIES_1_001_CA_1_validation  HOBBIES_1_001  HOBBIES_1  HOBBIES     CA_1   \n",
       "1  HOBBIES_1_002_CA_1_validation  HOBBIES_1_002  HOBBIES_1  HOBBIES     CA_1   \n",
       "2  HOBBIES_1_003_CA_1_validation  HOBBIES_1_003  HOBBIES_1  HOBBIES     CA_1   \n",
       "3  HOBBIES_1_004_CA_1_validation  HOBBIES_1_004  HOBBIES_1  HOBBIES     CA_1   \n",
       "4  HOBBIES_1_005_CA_1_validation  HOBBIES_1_005  HOBBIES_1  HOBBIES     CA_1   \n",
       "\n",
       "  state_id  \\\n",
       "0       CA   \n",
       "1       CA   \n",
       "2       CA   \n",
       "3       CA   \n",
       "4       CA   \n",
       "\n",
       "                                                                                                                                                  sales  \n",
       "0  0      0.0\n",
       "1      2.0\n",
       "2      0.0\n",
       "3      1.0\n",
       "4      1.0\n",
       "      ... \n",
       "107    0.0\n",
       "108    0.0\n",
       "109    0.0\n",
       "110    0.0\n",
       "111    0.0\n",
       "Length: 112, dtype: float64  \n",
       "1  0      0.0\n",
       "1      0.0\n",
       "2      0.0\n",
       "3      1.0\n",
       "4      0.0\n",
       "      ... \n",
       "107    0.0\n",
       "108    0.0\n",
       "109    0.0\n",
       "110    0.0\n",
       "111    0.0\n",
       "Length: 112, dtype: float64  \n",
       "2  0      0.0\n",
       "1      0.0\n",
       "2      0.0\n",
       "3      0.0\n",
       "4      0.0\n",
       "      ... \n",
       "107    0.0\n",
       "108    0.0\n",
       "109    0.0\n",
       "110    0.0\n",
       "111    0.0\n",
       "Length: 112, dtype: float64  \n",
       "3  0      0.0\n",
       "1      0.0\n",
       "2      0.0\n",
       "3      1.0\n",
       "4      0.0\n",
       "      ... \n",
       "107    0.0\n",
       "108    0.0\n",
       "109    0.0\n",
       "110    0.0\n",
       "111    0.0\n",
       "Length: 112, dtype: float64  \n",
       "4  0      1.0\n",
       "1      2.0\n",
       "2      1.0\n",
       "3      0.0\n",
       "4      0.0\n",
       "      ... \n",
       "107    0.0\n",
       "108    0.0\n",
       "109    0.0\n",
       "110    0.0\n",
       "111    0.0\n",
       "Length: 112, dtype: float64  "
      ]
     },
     "execution_count": 291,
     "metadata": {},
     "output_type": "execute_result"
    }
   ],
   "source": [
    "lookback, horizon = 28*2, 28\n",
    "def _id(row):\n",
    "    return '_'.join(str(row['id']).split('_')[:-1])\n",
    "\n",
    "df_sales_s_last = to_contained_series(pd.read_csv(path / 'sales_train_validation.csv'),\n",
    "                                    s_slice=slice(-lookback,None), add_zeros = 28*2)  \n",
    "df_sales_s_last['sales'] = pd.Series(np.concatenate([df_sales_s_last['sales'].values,[0]*28]))\n",
    "df_sales_s_last['sales'] = pd.Series(np.concatenate([df_sales_s_last['sales'].values,[0]*28]))\n",
    "df_sales_s_last.head()"
   ]
  },
  {
   "cell_type": "code",
   "execution_count": 267,
   "metadata": {
    "Collapsed": "false"
   },
   "outputs": [
    {
     "ename": "SyntaxError",
     "evalue": "invalid syntax (<ipython-input-267-21cf22f71cf6>, line 9)",
     "output_type": "error",
     "traceback": [
      "\u001b[0;36m  File \u001b[0;32m\"<ipython-input-267-21cf22f71cf6>\"\u001b[0;36m, line \u001b[0;32m9\u001b[0m\n\u001b[0;31m    df_sales_s['id'].\u001b[0m\n\u001b[0m                     ^\u001b[0m\n\u001b[0;31mSyntaxError\u001b[0m\u001b[0;31m:\u001b[0m invalid syntax\n"
     ]
    }
   ],
   "source": [
    "for i,row in df_validation.iterrows():\n",
    "    id = '_'.join(str(row['id']).split('_')[:-1])\n",
    "    c_row = df_sales_s[df_sales]\n",
    "    break"
   ]
  },
  {
   "cell_type": "code",
   "execution_count": 234,
   "metadata": {
    "Collapsed": "false"
   },
   "outputs": [
    {
     "data": {
      "image/png": "[encoded data removed]",
      "text/plain": [
       "<Figure size 648x720 with 9 Axes>"
      ]
     },
     "metadata": {
      "needs_background": "light"
     },
     "output_type": "display_data"
    }
   ],
   "source": [
    "dl =  DfDataLoader(df_sales_s.loc[:,['sales','item_id']], 'sales', horizon = 28, lookback=28*2, step=7)\n",
    "dl.show_batch(max_n=9)"
   ]
  },
  {
   "cell_type": "markdown",
   "metadata": {
    "Collapsed": "false"
   },
   "source": [
    "The data will be stored in pandas DataFrames. This can be use for time series by nesting series into a cell. An example is shown below: "
   ]
  },
  {
   "cell_type": "code",
   "execution_count": null,
   "metadata": {
    "Collapsed": "false"
   },
   "outputs": [
    {
     "name": "stdout",
     "output_type": "stream",
     "text": [
      "Converted 00_core.ipynb.\n",
      "Converted 01_data.external.ipynb.\n",
      "Converted 020_data.load_pd.ipynb.\n",
      "Converted 02_data.load.ipynb.\n",
      "Converted 030_data.core_pd.ipynb.\n",
      "Converted 03_data.core.ipynb.\n"
     ]
    }
   ],
   "source": [
    "# hide\n",
    "from nbdev.export import *\n",
    "notebook2script()"
   ]
  },
  {
   "cell_type": "code",
   "execution_count": 62,
   "metadata": {
    "Collapsed": "false"
   },
   "outputs": [
    {
     "name": "stdout",
     "output_type": "stream",
     "text": [
      "Converted 020_data.load_pd.ipynb.\n"
     ]
    },
    {
     "data": {
      "text/plain": [
       "['/home/tako/dev/fastseq/fastseq/data/load_pd.py',\n",
       " '/home/tako/dev/fastseq/nbs/020_data.load_pd.ipynb']"
      ]
     },
     "execution_count": 62,
     "metadata": {},
     "output_type": "execute_result"
    }
   ],
   "source": [
    "git_add('020_data.load_pd.ipynb')"
   ]
  },
  {
   "cell_type": "code",
   "execution_count": null,
   "metadata": {
    "Collapsed": "false"
   },
   "outputs": [],
   "source": []
  }
 ],
 "metadata": {
  "kernelspec": {
   "display_name": "env37",
   "language": "python",
   "name": "env37"
  },
  "language_info": {
   "codemirror_mode": {
    "name": "ipython",
    "version": 3
   },
   "file_extension": ".py",
   "mimetype": "text/x-python",
   "name": "python",
   "nbconvert_exporter": "python",
   "pygments_lexer": "ipython3",
   "version": "3.7.4"
  }
 },
 "nbformat": 4,
 "nbformat_minor": 4
}
