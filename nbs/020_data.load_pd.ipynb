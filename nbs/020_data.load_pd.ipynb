{
 "cells": [
  {
   "cell_type": "code",
   "execution_count": 1,
   "metadata": {},
   "outputs": [],
   "source": [
    "# default_exp data.load_pd"
   ]
  },
  {
   "cell_type": "code",
   "execution_count": 2,
   "metadata": {},
   "outputs": [
    {
     "name": "stderr",
     "output_type": "stream",
     "text": [
      "/home/tako/dev/env37/lib/python3.7/site-packages/pandas/compat/__init__.py:117: UserWarning: Could not import the lzma module. Your installed Python is incomplete. Attempting to use lzma compression will result in a RuntimeError.\n",
      "  warnings.warn(msg)\n"
     ]
    }
   ],
   "source": [
    "# hide\n",
    "import sys\n",
    "\n",
    "sys.path.append(\"..\")\n",
    "import pandas as pd"
   ]
  },
  {
   "cell_type": "code",
   "execution_count": 3,
   "metadata": {},
   "outputs": [],
   "source": [
    "# export\n",
    "from fastseq.core import *\n",
    "from fastseq.data.external import *\n",
    "from fastcore.utils import *\n",
    "from fastcore.imports import *\n",
    "from fastai2.basics import *\n",
    "from fastai2.data.transforms import *\n",
    "from fastai2.tabular.core import *"
   ]
  },
  {
   "cell_type": "code",
   "execution_count": 4,
   "metadata": {},
   "outputs": [],
   "source": [
    "# hide\n",
    "from nbdev.showdoc import *"
   ]
  },
  {
   "cell_type": "markdown",
   "metadata": {},
   "source": [
    "# Data Load Dataframe\n",
    "\n",
    "\n",
    "> Using the fastai2 `Datasets` to make an time series dataset.\n",
    "\n",
    "A multivaraite time-series dataloader. \n",
    "\n",
    "TODO reduce mem: https://forums.fast.ai/t/how-to-handle-dataframes-too-large-to-fit-in-memory/39208/19"
   ]
  },
  {
   "cell_type": "code",
   "execution_count": null,
   "metadata": {},
   "outputs": [],
   "source": []
  },
  {
   "cell_type": "code",
   "execution_count": 5,
   "metadata": {},
   "outputs": [],
   "source": [
    "# export\n",
    "import numpy as np\n",
    "import pandas as pd"
   ]
  },
  {
   "cell_type": "code",
   "execution_count": 6,
   "metadata": {},
   "outputs": [],
   "source": [
    "class TSeries(TensorBase):pass"
   ]
  },
  {
   "cell_type": "code",
   "execution_count": 7,
   "metadata": {},
   "outputs": [],
   "source": [
    "def no_emp_dim(x):\n",
    "    if len(x.shape)==1 :\n",
    "        x = x[None,:]\n",
    "    return np.vstack(x)\n",
    "\n",
    "def show_graph(array, ax=None, figsize=None, title=None, ctx=None, tx=None, **kwargs):\n",
    "    \"Show an array on `ax`.\"\n",
    "    if hasattrs(array, ('data','cpu','permute')):\n",
    "        array = array.data.cpu()\n",
    "    elif not isinstance(array,np.ndarray):\n",
    "        array=array(array)\n",
    "    arrays = no_emp_dim(array)\n",
    "    ax = ifnone(ax,ctx)\n",
    "    if figsize is None: figsize = (5,5)\n",
    "    if ax is None: _,ax = plt.subplots(figsize=figsize)\n",
    "    tx = ifnone(tx,np.arange(arrays[0].shape[0]))\n",
    "    label = kwargs.pop('label', 'x')\n",
    "    for a, c in zip(arrays, ['b', 'c', 'm', 'y', 'k',]):\n",
    "        ax.plot(tx, a, '-*'+c,label=label, **kwargs)\n",
    "\n",
    "    if title is not None: ax.set_title(title)\n",
    "\n",
    "    ax.legend()\n",
    "#     ax.axis('off')\n",
    "    return ax"
   ]
  },
  {
   "cell_type": "code",
   "execution_count": 8,
   "metadata": {},
   "outputs": [],
   "source": [
    "# export\n",
    "class TensorSeqs(TSeries):\n",
    "    \n",
    "    def show(self, ax = None, ctx=None, **kwargs):\n",
    "        ctx = ifnone(ctx, ax)\n",
    "        if ctx is None: _, ctx = plt.subplots(figsize=(5,5))\n",
    "        array = np.array(self.cpu())\n",
    "        arrays = no_emp_dim(array)\n",
    "        m = self._meta.get('m',['b', 'c', 'm', 'y', 'k',][:len(arrays)])\n",
    "        labels = self._meta.get('label',['x']*len(arrays))\n",
    "        t = np.arange(array.shape[1])\n",
    "        \n",
    "        for a, c, label in zip(arrays, m, labels):            \n",
    "            mark = '-' if 'y' not in label else ''                \n",
    "            ctx.plot(t, a, mark + '*' +c, **kwargs, label=label)            #\n",
    "        ctx.legend()\n",
    "        return ctx\n",
    "    "
   ]
  },
  {
   "cell_type": "code",
   "execution_count": 9,
   "metadata": {},
   "outputs": [],
   "source": [
    "a = torch.cat([i+torch.arange(10)[None,:] for i in [0,2]])"
   ]
  },
  {
   "cell_type": "code",
   "execution_count": 10,
   "metadata": {},
   "outputs": [
    {
     "data": {
      "image/png": "[encoded data removed]",
      "text/plain": [
       "<Figure size 360x360 with 1 Axes>"
      ]
     },
     "metadata": {
      "needs_background": "light"
     },
     "output_type": "display_data"
    }
   ],
   "source": [
    "_, ctx = plt.subplots(figsize=[5,5])\n",
    "ax = TensorSeqs(a, m=['b','k'], label = ['x1','x2y']).show(ctx=ctx)"
   ]
  },
  {
   "cell_type": "code",
   "execution_count": 11,
   "metadata": {},
   "outputs": [
    {
     "data": {
      "image/png": "[encoded data removed]",
      "text/plain": [
       "<Figure size 360x360 with 1 Axes>"
      ]
     },
     "metadata": {
      "needs_background": "light"
     },
     "output_type": "display_data"
    }
   ],
   "source": [
    "ax = TensorSeqs(torch.arange(10)[None,:], m=['b','k'], label = ['x1','x2']).show()"
   ]
  },
  {
   "cell_type": "code",
   "execution_count": 12,
   "metadata": {},
   "outputs": [],
   "source": [
    "class TensorCon(TSeries):\n",
    "    def show(self, ax = None, ctx=None):\n",
    "        ax = ifnone(ax,ctx)\n",
    "        if ax is None:\n",
    "            _, ax = plt.subplots(figsize=(5,5))\n",
    "        ax.set_title(ax.title._text +f\" {self._meta.get('label','con')}: {str(self.data.item())}\")\n",
    "        return ax"
   ]
  },
  {
   "cell_type": "code",
   "execution_count": 13,
   "metadata": {},
   "outputs": [
    {
     "data": {
      "text/plain": [
       "<matplotlib.axes._subplots.AxesSubplot at 0x7ff7388b4710>"
      ]
     },
     "execution_count": 13,
     "metadata": {},
     "output_type": "execute_result"
    },
    {
     "data": {
      "image/png": "[encoded data removed]",
      "text/plain": [
       "<Figure size 360x360 with 1 Axes>"
      ]
     },
     "metadata": {
      "needs_background": "light"
     },
     "output_type": "display_data"
    }
   ],
   "source": [
    "TensorCon(1).show()"
   ]
  },
  {
   "cell_type": "markdown",
   "metadata": {},
   "source": [
    "## Utils"
   ]
  },
  {
   "cell_type": "code",
   "execution_count": 14,
   "metadata": {},
   "outputs": [],
   "source": [
    "# export\n",
    "from typing import List\n",
    "def same_size_ts(ts:pd.Series, ts_names:List[str]):    \n",
    "    all_same = [[(ts[c].shape == ts[a].shape) for c in ts_names] for a in ts_names]\n",
    "    mask = np.array(all_same)    \n",
    "    return np.sum(mask) == len(ts_names)**2\n",
    "    "
   ]
  },
  {
   "cell_type": "code",
   "execution_count": 15,
   "metadata": {},
   "outputs": [],
   "source": [
    "df = pd.DataFrame(data={'ts_0':[pd.Series(np.arange(10)),\n",
    "                           pd.Series(np.arange(10))],\n",
    "                   'ts_1':[pd.Series(np.arange(1,11)),\n",
    "                           pd.Series(np.arange(1,12))],\n",
    "                   'var_0':[0.,1.],\n",
    "                   'con_0':[0,1]})\n",
    "for i, row in df.iterrows():\n",
    "    if i == 0:\n",
    "        test_eq(same_size_ts(row,['ts_0','ts_1']),True)\n",
    "    if i == 1:\n",
    "        test_eq(same_size_ts(row,['ts_0','ts_1']),False)"
   ]
  },
  {
   "cell_type": "code",
   "execution_count": 16,
   "metadata": {},
   "outputs": [],
   "source": [
    "# export\n",
    "def get_part_of_ts(x, lookback_id, length, pad=np.mean):\n",
    "    if len(x.shape) == 1:\n",
    "        x = x[None,:]\n",
    "    if isinstance(x[0,0],int):\n",
    "        x = x.astype(float)\n",
    "    if x.shape[-1] < length:\n",
    "        # If the time series is too short, we pad\n",
    "        padding = pad(x, -1)\n",
    "        x = tensor(np.pad(\n",
    "            x, # report issue https://github.com/numpy/numpy/issues/15606\n",
    "            pad_width=((0, 0), (length - x.shape[-1], 0)),\n",
    "            mode='constant',\n",
    "            constant_values=padding\n",
    "        )).float()\n",
    "        assert x.shape == (x.shape[0],length), f\"{x.shape}\\t,{lookback_id}, 'tsshape':{x.shape}\"\n",
    "    else:\n",
    "        x = tensor(x[:,lookback_id:lookback_id + length]).float()\n",
    "    return x\n"
   ]
  },
  {
   "cell_type": "code",
   "execution_count": 17,
   "metadata": {},
   "outputs": [],
   "source": [
    "x = np.arange(10)\n",
    "test_eq(get_part_of_ts(x, 2, 5), torch.arange(2,7.)[None,:])\n",
    "x = np.arange(10)[None,:]\n",
    "test_eq(get_part_of_ts(x, 2, 5), torch.arange(2,7.)[None,:])\n",
    "test_eq(get_part_of_ts(x, 0, 11), tensor([[4., 0, 1, 2, 3, 4, 5, 6, 7, 8, 9]]))\n",
    "x = np.vstack([np.arange(10)]*2)\n",
    "test_eq(get_part_of_ts(x, 2, 5), torch.cat([torch.arange(2,7.)[None,:]]*2))\n",
    "test_eq(get_part_of_ts(x, 0, 11), tensor([[4., 0, 1, 2, 3, 4, 5, 6, 7, 8, 9],\n",
    "                                          [4, 0, 1, 2, 3, 4, 5, 6, 7, 8, 9]]))\n",
    "\n",
    "# report issue https://github.com/numpy/numpy/issues/15606\n",
    "x = np.arange(10)[None,:]\n",
    "# test_eq(get_part_of_ts(x, 0, 11), tensor([[4.5, 0, 1, 2, 3, 4, 5, 6, 7, 8, 9]]))"
   ]
  },
  {
   "cell_type": "markdown",
   "metadata": {},
   "source": [
    "# Dataloader"
   ]
  },
  {
   "cell_type": "code",
   "execution_count": 111,
   "metadata": {},
   "outputs": [],
   "source": [
    "# export\n",
    "@delegates()\n",
    "class DfDataLoader(TfmdDL):\n",
    "    def __init__(self, dataset:pd.DataFrame, y_name, horizon, lookback=72, step=1, min_seq_len=None, max_std= 2, norm=True, **kwargs):\n",
    "        store_attr(self,'horizon,lookback,step,max_std,norm,y_name')\n",
    "        self.min_seq_len = ifnone(min_seq_len, lookback)\n",
    "        self.dataset = dataset\n",
    "        self.con_names, self.cat_names, self.ts_names = L(), L(), L()\n",
    "        for col in dataset.columns:\n",
    "            t = type(dataset[col].iloc[0])\n",
    "            if t is pd.core.series.Series:\n",
    "                self.ts_names.append(col)\n",
    "            elif t is np.ndarray:\n",
    "                self.dataset[col] = pd.Series([pd.Series(o.flatten()) for o in self.dataset[col]])\n",
    "                self.ts_names.append(col)\n",
    "            elif isinstance(dataset[col].iloc[0], int) or t is np.int64:\n",
    "                self.con_names.append(col)\n",
    "            elif isinstance(dataset[col].iloc[0], float):\n",
    "                self.cat_names.append(col)\n",
    "            else:\n",
    "                raise Exception(t) \n",
    "        assert y_name in self.ts_names\n",
    "        self.ts_names.remove(y_name)\n",
    "        n = self.make_ids()\n",
    "        super().__init__(dataset=self.dataset, **kwargs)\n",
    "        self.n = n\n",
    "        self.skipped= []\n",
    "        self.ms = {}        \n",
    "\n",
    "    @delegates(TfmdDL.new)\n",
    "    def new(self, dataset=None, cls=None, **kwargs):\n",
    "        res = super().new(dataset, cls, horizon=self.horizon, lookback=self.lookback, step=self.step , **kwargs)\n",
    "        res.make_ids()\n",
    "        return res\n",
    "\n",
    "    def make_ids(self):\n",
    "        \"\"\"Make ids if the sequence is shorter than `min_seq_len`, it will drop that sequence.\"\"\"\n",
    "        # Slice each time series into examples, assigning IDs to each\n",
    "        last_id = 0\n",
    "        n_dropped = 0\n",
    "        n_needs_padding = 0\n",
    "        self._ids = {}\n",
    "        for i, ts in self.dataset.iterrows(): \n",
    "            assert same_size_ts(ts, self.ts_names), f\"row {i} are not all the time series the same length\"\n",
    "            num_examples = (ts[self.y_name].shape[-1] - self.lookback - self.horizon + self.step) // self.step\n",
    "            # Time series shorter than the forecast horizon need to be dropped.\n",
    "            if ts[self.y_name].shape[-1] < self.min_seq_len:\n",
    "                n_dropped += 1\n",
    "                continue\n",
    "            # For short time series zero pad the input\n",
    "            if ts[self.y_name].shape[-1] < self.lookback + self.horizon:\n",
    "                n_needs_padding += 1\n",
    "                num_examples = 1\n",
    "            for j in range(num_examples):\n",
    "                self._ids[last_id + j] = (i, j * self.step)\n",
    "            last_id += num_examples\n",
    "\n",
    "        # Inform user about time series that were too short\n",
    "        if n_dropped > 0:\n",
    "            print(\"Dropped {}/{} time series due to length.\".format(\n",
    "                    n_dropped, len(self.dataset)))\n",
    "\n",
    "        # Inform user about time series that were short\n",
    "        if n_needs_padding > 0:\n",
    "            print(\"Need to pad {}/{} time series due to length.\".format(\n",
    "                    n_needs_padding, len(self.dataset)))\n",
    "        # Store the number of training examples\n",
    "        return int(self._ids.__len__() )\n",
    "    \n",
    "        def shuffle_fn(self, idxs):\n",
    "#         self.dataset.shuffle()        \n",
    "            return idxs\n",
    "\n",
    "    def get_id(self, idx):\n",
    "        ts_id, lookback_id = self._ids[idx]\n",
    "        row = self.dataset.iloc[ts_id, :]\n",
    "        x = get_part_of_ts(row[self.y_name].values, lookback_id, self.lookback)        \n",
    "        y = get_part_of_ts(row[self.y_name].values, lookback_id, self.lookback + self.horizon)\n",
    "        tsx = np.concatenate([o[None,:] for o in row[self.ts_names].to_numpy()])\n",
    "        tsx = get_part_of_ts(tsx, lookback_id, self.lookback + self.horizon)\n",
    "        cat, con = row[self.cat_names].to_numpy().astype(int), row[self.con_names].to_numpy().astype(float)\n",
    "        return x, tsx, cat, con, y\n",
    "\n",
    "    def create_item(self, idx):\n",
    "        if idx>=self.n:\n",
    "            raise IndexError\n",
    "        x, tsx, cat, con, y  = self.get_id(idx)\n",
    "        if (y/(x.std()+1e-7)).std() > self.max_std:\n",
    "            if idx not in self.skipped:\n",
    "#                 print(f\"idx: {idx};y.std to high: {(y/x.std()).std()} > {self.max_std}\")\n",
    "                self.skipped.append(idx)\n",
    "            raise SkipItemException()\n",
    "        \n",
    "#         print({k:(o,o.dtype,o.shape) for k,o in zip(['x','tsx','cat','con','y'],[x,tsx,cat,con,y])})        \n",
    "        return (\n",
    "            TensorSeqs(x, label=[self.y_name + '_x'], m=['g']),\n",
    "            TensorSeqs(tsx,label=self.ts_names),\n",
    "            TensorCon(cat,label=self.cat_names).long(),\n",
    "            TensorCon(con,label=self.con_names),\n",
    "            TensorSeqs(y, label=[self.y_name+ '_y'], m=['r'])\n",
    "        )\n",
    "\n",
    "    "
   ]
  },
  {
   "cell_type": "markdown",
   "metadata": {},
   "source": [
    "The data will be stored in pandas DataFrames. This can be use for time series by nesting series into a cell. An example is shown below: "
   ]
  },
  {
   "cell_type": "code",
   "execution_count": 112,
   "metadata": {},
   "outputs": [
    {
     "data": {
      "text/html": [
       "<div>\n",
       "<style scoped>\n",
       "    .dataframe tbody tr th:only-of-type {\n",
       "        vertical-align: middle;\n",
       "    }\n",
       "\n",
       "    .dataframe tbody tr th {\n",
       "        vertical-align: top;\n",
       "    }\n",
       "\n",
       "    .dataframe thead th {\n",
       "        text-align: right;\n",
       "    }\n",
       "</style>\n",
       "<table border=\"1\" class=\"dataframe\">\n",
       "  <thead>\n",
       "    <tr style=\"text-align: right;\">\n",
       "      <th></th>\n",
       "      <th>pred</th>\n",
       "      <th>ts_0</th>\n",
       "      <th>ts_1</th>\n",
       "      <th>var_0</th>\n",
       "      <th>con_0</th>\n",
       "    </tr>\n",
       "  </thead>\n",
       "  <tbody>\n",
       "    <tr>\n",
       "      <th>0</th>\n",
       "      <td>[0.0, 1.0, 2.0, 3.0, 4.0, 5.0, 6.0, 7.0, 8.0, 9.0]</td>\n",
       "      <td>[[1.0, 1.0, 1.0, 1.0, 1.0, 1.0, 1.0, 1.0, 1.0, 1.0]]</td>\n",
       "      <td>0   -0.047360\n",
       "1    2.432810\n",
       "2    1.853505\n",
       "3    4.041274\n",
       "4    4.546992\n",
       "5    7.184111\n",
       "6    8.470761\n",
       "7    8.079718\n",
       "8    9.194248\n",
       "9    9.550473\n",
       "dtype: float64</td>\n",
       "      <td>0.0</td>\n",
       "      <td>0</td>\n",
       "    </tr>\n",
       "    <tr>\n",
       "      <th>1</th>\n",
       "      <td>[0.0, 1.0, 2.0, 3.0, 4.0, 5.0, 6.0, 7.0, 8.0, 9.0, 10.0, 11.0]</td>\n",
       "      <td>[[1.0, 1.0, 1.0, 1.0, 1.0, 1.0, 1.0, 1.0, 1.0, 1.0, 1.0, 1.0]]</td>\n",
       "      <td>0      1.349989\n",
       "1      3.404112\n",
       "2      3.454652\n",
       "3      2.733100\n",
       "4      5.572483\n",
       "5      6.424255\n",
       "6      6.766699\n",
       "7      7.691938\n",
       "8      8.562481\n",
       "9      8.869173\n",
       "10    10.953326\n",
       "11    13.768112\n",
       "dtype: float64</td>\n",
       "      <td>1.0</td>\n",
       "      <td>1</td>\n",
       "    </tr>\n",
       "  </tbody>\n",
       "</table>\n",
       "</div>"
      ],
      "text/plain": [
       "                                                             pred  \\\n",
       "0              [0.0, 1.0, 2.0, 3.0, 4.0, 5.0, 6.0, 7.0, 8.0, 9.0]   \n",
       "1  [0.0, 1.0, 2.0, 3.0, 4.0, 5.0, 6.0, 7.0, 8.0, 9.0, 10.0, 11.0]   \n",
       "\n",
       "                                                             ts_0  \\\n",
       "0            [[1.0, 1.0, 1.0, 1.0, 1.0, 1.0, 1.0, 1.0, 1.0, 1.0]]   \n",
       "1  [[1.0, 1.0, 1.0, 1.0, 1.0, 1.0, 1.0, 1.0, 1.0, 1.0, 1.0, 1.0]]   \n",
       "\n",
       "                                                                                                                                                                                                             ts_1  \\\n",
       "0                                                      0   -0.047360\n",
       "1    2.432810\n",
       "2    1.853505\n",
       "3    4.041274\n",
       "4    4.546992\n",
       "5    7.184111\n",
       "6    8.470761\n",
       "7    8.079718\n",
       "8    9.194248\n",
       "9    9.550473\n",
       "dtype: float64   \n",
       "1  0      1.349989\n",
       "1      3.404112\n",
       "2      3.454652\n",
       "3      2.733100\n",
       "4      5.572483\n",
       "5      6.424255\n",
       "6      6.766699\n",
       "7      7.691938\n",
       "8      8.562481\n",
       "9      8.869173\n",
       "10    10.953326\n",
       "11    13.768112\n",
       "dtype: float64   \n",
       "\n",
       "   var_0  con_0  \n",
       "0    0.0      0  \n",
       "1    1.0      1  "
      ]
     },
     "execution_count": 112,
     "metadata": {},
     "output_type": "execute_result"
    }
   ],
   "source": [
    "df = pd.DataFrame(data={'pred':[np.arange(10.),\n",
    "                           np.arange(12.)],\n",
    "                   'ts_0':[np.ones(10)[None,:],\n",
    "                           np.ones(12)[None,:]],\n",
    "                   'ts_1':[pd.Series(np.arange(1,11)+np.random.randn(10)),\n",
    "                           pd.Series(np.arange(1,13)+np.random.randn(12))],\n",
    "                   'var_0':[0.,1.],\n",
    "                   'con_0':[0,1]})\n",
    "df"
   ]
  },
  {
   "cell_type": "code",
   "execution_count": 113,
   "metadata": {},
   "outputs": [
    {
     "name": "stdout",
     "output_type": "stream",
     "text": [
      "Need to pad 1/2 time series due to length.\n"
     ]
    }
   ],
   "source": [
    "horizon,lookback = 2,9\n",
    "dl = DfDataLoader(df, 'pred', horizon = horizon, lookback = lookback)\n"
   ]
  },
  {
   "cell_type": "code",
   "execution_count": 114,
   "metadata": {},
   "outputs": [
    {
     "name": "stdout",
     "output_type": "stream",
     "text": [
      "{'x': torch.Size([3, 1, 9]), 'tsx': torch.Size([3, 2, 11]), 'cat': torch.Size([3, 1]), 'con': torch.Size([3, 1]), 'y': torch.Size([3, 1, 11])}\n"
     ]
    },
    {
     "data": {
      "text/plain": [
       "(#2) ['ts_0','ts_1']"
      ]
     },
     "execution_count": 114,
     "metadata": {},
     "output_type": "execute_result"
    }
   ],
   "source": [
    "for o in dl:\n",
    "    dct = {k:v for k,v in zip(['x','tsx','cat','con','y'],o)}\n",
    "    print({k:v.shape for k,v in dct.items()})\n",
    "    test_eq(dct['x'].shape,(3,1,9))\n",
    "    break\n",
    "dl.ts_names"
   ]
  },
  {
   "cell_type": "code",
   "execution_count": 115,
   "metadata": {},
   "outputs": [
    {
     "data": {
      "image/png": "[encoded data removed]",
      "text/plain": [
       "<Figure size 360x360 with 1 Axes>"
      ]
     },
     "metadata": {
      "needs_background": "light"
     },
     "output_type": "display_data"
    },
    {
     "name": "stderr",
     "output_type": "stream",
     "text": [
      "Exception ignored in: <function _MultiProcessingDataLoaderIter.__del__ at 0x7ff762d6bef0>\n",
      "Traceback (most recent call last):\n",
      "  File \"/home/tako/dev/env37/lib/python3.7/site-packages/torch/utils/data/dataloader.py\", line 926, in __del__\n",
      "    self._shutdown_workers()\n",
      "  File \"/home/tako/dev/env37/lib/python3.7/site-packages/torch/utils/data/dataloader.py\", line 906, in _shutdown_workers\n",
      "    w.join()\n",
      "  File \"/usr/local/lib/python3.7/multiprocessing/process.py\", line 140, in join\n",
      "    res = self._popen.wait(timeout)\n",
      "  File \"/usr/local/lib/python3.7/multiprocessing/popen_fork.py\", line 48, in wait\n",
      "    return self.poll(os.WNOHANG if timeout == 0.0 else 0)\n",
      "  File \"/usr/local/lib/python3.7/multiprocessing/popen_fork.py\", line 28, in poll\n",
      "    pid, sts = os.waitpid(self.pid, flag)\n",
      "KeyboardInterrupt: \n"
     ]
    },
    {
     "data": {
      "image/png": "[encoded data removed]",
      "text/plain": [
       "<Figure size 360x360 with 1 Axes>"
      ]
     },
     "metadata": {
      "needs_background": "light"
     },
     "output_type": "display_data"
    },
    {
     "data": {
      "image/png": "[encoded data removed]",
      "text/plain": [
       "<Figure size 360x360 with 1 Axes>"
      ]
     },
     "metadata": {
      "needs_background": "light"
     },
     "output_type": "display_data"
    }
   ],
   "source": [
    "dl.show_batch(max_n=3)"
   ]
  },
  {
   "cell_type": "markdown",
   "metadata": {},
   "source": [
    "# Intergration Example"
   ]
  },
  {
   "cell_type": "code",
   "execution_count": 116,
   "metadata": {},
   "outputs": [],
   "source": [
    "from fastseq.data.external import *"
   ]
  },
  {
   "cell_type": "code",
   "execution_count": 135,
   "metadata": {},
   "outputs": [
    {
     "data": {
      "text/html": [
       "<div>\n",
       "<style scoped>\n",
       "    .dataframe tbody tr th:only-of-type {\n",
       "        vertical-align: middle;\n",
       "    }\n",
       "\n",
       "    .dataframe tbody tr th {\n",
       "        vertical-align: top;\n",
       "    }\n",
       "\n",
       "    .dataframe thead th {\n",
       "        text-align: right;\n",
       "    }\n",
       "</style>\n",
       "<table border=\"1\" class=\"dataframe\">\n",
       "  <thead>\n",
       "    <tr style=\"text-align: right;\">\n",
       "      <th></th>\n",
       "      <th>x</th>\n",
       "      <th>weather</th>\n",
       "      <th>city</th>\n",
       "      <th>cont</th>\n",
       "    </tr>\n",
       "  </thead>\n",
       "  <tbody>\n",
       "    <tr>\n",
       "      <th>0</th>\n",
       "      <td>[[-1.8382546902713643, -1.6631399960143547, -1.9269190696561027, -1.3043245146851685, -0.9945664020313525, -0.623055579599974, -0.49676895891149697, -0.5300527532488936, -0.7925425012995, -0.6392606259327083, -0.677009977561514, -0.6324498396256508, -0.24224935251459798, -0.05129699841714007, 0.27492936339390606, 0.24134425015090763, 0.4091425979615187, 0.18827121398452276, 0.05885085453932435, -0.05821117654895804, -0.301235683661033, -0.27600700215860174, 0.2534368586438282, 0.6363672381149441, 0.8964870570527448, 1.1068896697035449, 1.5382836362017105, 1.573542702381081, 1.7009023678139...</td>\n",
       "      <td>[[1.4447736304789591, 1.3762639218226413, 1.6468268245574393, 2.1406273119430814, 2.680899562293949, 3.097668954472762, 3.288463383246069, 3.250024436155506, 3.0702455794161714, 2.8845554618823295, 2.814234925962636, 2.9108617191447173, 3.12877381393802, 3.3369708699699965, 3.3670540807571827, 3.080057780644699, 2.4274116020939474, 1.4826539214252012, 0.43051595792556796, -0.4848952609526269, -1.0362564420502067, -1.0877630654385173, -0.6424651280935996, 0.15478850512072095, 1.0607016286702908, 1.809166690823516, 2.1940271362547863, 2.1313596310107537, 1.680782786083435, 1.0194633400277393...</td>\n",
       "      <td>0</td>\n",
       "      <td>0.034548</td>\n",
       "    </tr>\n",
       "    <tr>\n",
       "      <th>1</th>\n",
       "      <td>[[1.2122562262508338, 0.9757247259588766, 1.1824319388541376, 1.0081959871381956, 0.8291513391714501, 1.4985224177488876, 1.5490802510253858, 1.1957540973819145, 1.1958886455614508, 0.7536429774286688, 0.10501360894302618, -0.3862315751086253, -0.8235685862274607, -1.1560113519056445, -0.8022291693804803, -0.3990190017868308, 0.28108284056401617, 0.8137943975634478, 0.7306925691001112, 0.44722962374170394, -0.012429321995965407, -0.46539133035943964, -1.1348899815968978, -1.6648249763087766, -1.885070977134012, -1.8384283726167583, -1.3749112250868372, -0.7149242083491835, -0.3962097365377...</td>\n",
       "      <td>[[8.662013618271937, 8.333734389983075, 8.237401950047783, 8.487612892273411, 9.074812613799741, 9.863832539383758, 10.637334619131394, 11.169160021571496, 11.301833186118557, 11.000876586145337, 10.366732717394733, 9.600074910458362, 8.932777505664792, 8.548930891005153, 8.52371409047188, 8.801469008142991, 9.220283691637533, 9.573814562968696, 9.687885387898692, 9.48429662586887, 9.009060880514113, 8.41520249482587, 7.90666283375002, 7.66383974596102, 7.777840679660003, 8.217302978706728, 8.839807380346164, 9.443748879808492, 9.841857737884187, 9.929671705228746, 9.724001144154181, 9.357...</td>\n",
       "      <td>0</td>\n",
       "      <td>-0.338240</td>\n",
       "    </tr>\n",
       "    <tr>\n",
       "      <th>2</th>\n",
       "      <td>[[2.3986136309132675, 2.0531146337603756, 1.668033829367856, 1.5346151240099153, 1.1792728914306907, 1.296831430173458, 1.0955133504534842, 0.9852868061261609, 0.6830329058065346, 0.3187305146819001, 0.012757645356272277, -0.305221556447711, -0.5659353292688706, -0.669268713767279, -0.4819134213449456, -0.3503036627955537, -0.23298089628480936, -0.05534748959015042, -0.02792097005700998, -0.13314017616903312, -0.2478735416402717, -0.46316720104674497, -0.7935560412404196, -1.0053906105256987, -1.0431946831577086, -1.1684220966317844, -1.0507355059882642, -0.9231920275021446, -0.97306154609...</td>\n",
       "      <td>[[3.978643340829013, 3.945791927936596, 3.9827570971276014, 4.076838179656565, 4.208955439736811, 4.356435018996844, 4.49627117716086, 4.608353972323107, 4.678159743080302, 4.69849160336414, 4.670012962326325, 4.600513508433099, 4.503052278757441, 4.393303125434899, 4.286554858063285, 4.194871098800349, 4.1248850163710955, 4.076596610775521, 4.043372713288625, 4.013149701752663, 3.9706387665698117, 3.9001660556045303, 3.788672531783835, 3.6283685066414915, 3.418590571025781, 3.1665356110050427, 2.8867272879825276, 2.599275543863963, 2.3271861189252023, 2.093132871537757, 1.9161955374882271...</td>\n",
       "      <td>0</td>\n",
       "      <td>-2.683742</td>\n",
       "    </tr>\n",
       "    <tr>\n",
       "      <th>3</th>\n",
       "      <td>[[-1.5113468190366066, -1.4235026455248934, -1.5416581016384334, -1.6182637684252767, -0.9313976985549955, -0.43274947591052426, -0.456907736118886, -0.008366046133229854, -0.22342582881392525, -0.16785388880451343, -0.6046606217439169, -0.8745346272285208, -1.139578571200989, -1.0176160792812772, -0.7239582725772113, -0.19485332923681342, 0.6351277641109124, 0.7786881748452597, 1.4405595689483197, 1.0091843686268351, 0.6567647191788955, 0.535030026402338, 0.12981615755444412, -0.38819192724303964, -0.1866036993392619, 0.1440102736127639, 0.46195379509624607, 1.0708241951419963, 1.47751747...</td>\n",
       "      <td>[[0.5750787969262294, 0.5824983464558442, 0.7072775981387315, 0.9623707519587056, 1.3332614244638599, 1.787001327321721, 2.2832159763368525, 2.7830209383944453, 3.253358023245857, 3.666613148965772, 3.9975557098442467, 4.220781000301384, 4.311501283995484, 4.250860467210691, 4.034614577555269, 3.6819744933246907, 3.2405158986777214, 2.7837771699346154, 2.400343474685114, 2.1761452964312973, 2.174351094240487, 2.4186211413846834, 2.885031149738979, 3.5057147075070847, 4.183887057273505, 4.816483378086145, 5.318298771083132, 5.641035922967605, 5.782215823693576, 5.78197887901107, 5.709390612...</td>\n",
       "      <td>0</td>\n",
       "      <td>0.050922</td>\n",
       "    </tr>\n",
       "    <tr>\n",
       "      <th>4</th>\n",
       "      <td>[[2.0578779846813897, 1.9557385613595029, 1.2796484732629245, 0.6658802174337141, -0.05403131883909344, -0.11344355732188349, 0.054161495185496546, 0.09670009463001156, 0.8773144642673095, 0.8851865201795649, 1.3068956983642386, 1.1873036404987056, 0.6775666505346375, 0.2709175085051948, -0.46684356574633884, -0.9195585482349274, -0.7809489029221643, -0.4898545651753475, -0.09308580671510212, 0.36567187616607494, 0.5895034332525709, 0.7785236229881113, 0.2209740073877037, -0.2232657501275391, -0.9802129363556975, -1.460891862784948, -1.6283801659724682, -1.7171693983389043, -1.370075118676...</td>\n",
       "      <td>[[6.3385757020438565, 6.017416166435517, 5.419129459120109, 4.672692190764107, 3.9462646636797936, 3.393815045331006, 3.107968740162642, 3.094681576827626, 3.277539069152027, 3.529097687454376, 3.7173931091778107, 3.7508100680409053, 3.6056239742237985, 3.3272004207031474, 3.0056066310005427, 2.73569461985274, 2.5772019105197805, 2.5301285030016603, 2.534736874038323, 2.496175008893072, 2.3243756840442615, 1.9739733065152532, 1.4686924661258813, 0.9001484291575995, 0.4003055181673102, 0.0966072628364012, 0.06546814933881706, 0.3009323490217024, 0.7103744574401173, 1.1398263071301284, 1.421...</td>\n",
       "      <td>0</td>\n",
       "      <td>0.371118</td>\n",
       "    </tr>\n",
       "  </tbody>\n",
       "</table>\n",
       "</div>"
      ],
      "text/plain": [
       "                                                                                                                                                                                                                                                                                                                                                                                                                                                                                                                                                                                                                         x  \\\n",
       "0  [[-1.8382546902713643, -1.6631399960143547, -1.9269190696561027, -1.3043245146851685, -0.9945664020313525, -0.623055579599974, -0.49676895891149697, -0.5300527532488936, -0.7925425012995, -0.6392606259327083, -0.677009977561514, -0.6324498396256508, -0.24224935251459798, -0.05129699841714007, 0.27492936339390606, 0.24134425015090763, 0.4091425979615187, 0.18827121398452276, 0.05885085453932435, -0.05821117654895804, -0.301235683661033, -0.27600700215860174, 0.2534368586438282, 0.6363672381149441, 0.8964870570527448, 1.1068896697035449, 1.5382836362017105, 1.573542702381081, 1.7009023678139...   \n",
       "1  [[1.2122562262508338, 0.9757247259588766, 1.1824319388541376, 1.0081959871381956, 0.8291513391714501, 1.4985224177488876, 1.5490802510253858, 1.1957540973819145, 1.1958886455614508, 0.7536429774286688, 0.10501360894302618, -0.3862315751086253, -0.8235685862274607, -1.1560113519056445, -0.8022291693804803, -0.3990190017868308, 0.28108284056401617, 0.8137943975634478, 0.7306925691001112, 0.44722962374170394, -0.012429321995965407, -0.46539133035943964, -1.1348899815968978, -1.6648249763087766, -1.885070977134012, -1.8384283726167583, -1.3749112250868372, -0.7149242083491835, -0.3962097365377...   \n",
       "2  [[2.3986136309132675, 2.0531146337603756, 1.668033829367856, 1.5346151240099153, 1.1792728914306907, 1.296831430173458, 1.0955133504534842, 0.9852868061261609, 0.6830329058065346, 0.3187305146819001, 0.012757645356272277, -0.305221556447711, -0.5659353292688706, -0.669268713767279, -0.4819134213449456, -0.3503036627955537, -0.23298089628480936, -0.05534748959015042, -0.02792097005700998, -0.13314017616903312, -0.2478735416402717, -0.46316720104674497, -0.7935560412404196, -1.0053906105256987, -1.0431946831577086, -1.1684220966317844, -1.0507355059882642, -0.9231920275021446, -0.97306154609...   \n",
       "3  [[-1.5113468190366066, -1.4235026455248934, -1.5416581016384334, -1.6182637684252767, -0.9313976985549955, -0.43274947591052426, -0.456907736118886, -0.008366046133229854, -0.22342582881392525, -0.16785388880451343, -0.6046606217439169, -0.8745346272285208, -1.139578571200989, -1.0176160792812772, -0.7239582725772113, -0.19485332923681342, 0.6351277641109124, 0.7786881748452597, 1.4405595689483197, 1.0091843686268351, 0.6567647191788955, 0.535030026402338, 0.12981615755444412, -0.38819192724303964, -0.1866036993392619, 0.1440102736127639, 0.46195379509624607, 1.0708241951419963, 1.47751747...   \n",
       "4  [[2.0578779846813897, 1.9557385613595029, 1.2796484732629245, 0.6658802174337141, -0.05403131883909344, -0.11344355732188349, 0.054161495185496546, 0.09670009463001156, 0.8773144642673095, 0.8851865201795649, 1.3068956983642386, 1.1873036404987056, 0.6775666505346375, 0.2709175085051948, -0.46684356574633884, -0.9195585482349274, -0.7809489029221643, -0.4898545651753475, -0.09308580671510212, 0.36567187616607494, 0.5895034332525709, 0.7785236229881113, 0.2209740073877037, -0.2232657501275391, -0.9802129363556975, -1.460891862784948, -1.6283801659724682, -1.7171693983389043, -1.370075118676...   \n",
       "\n",
       "                                                                                                                                                                                                                                                                                                                                                                                                                                                                                                                                                                                                                   weather  \\\n",
       "0  [[1.4447736304789591, 1.3762639218226413, 1.6468268245574393, 2.1406273119430814, 2.680899562293949, 3.097668954472762, 3.288463383246069, 3.250024436155506, 3.0702455794161714, 2.8845554618823295, 2.814234925962636, 2.9108617191447173, 3.12877381393802, 3.3369708699699965, 3.3670540807571827, 3.080057780644699, 2.4274116020939474, 1.4826539214252012, 0.43051595792556796, -0.4848952609526269, -1.0362564420502067, -1.0877630654385173, -0.6424651280935996, 0.15478850512072095, 1.0607016286702908, 1.809166690823516, 2.1940271362547863, 2.1313596310107537, 1.680782786083435, 1.0194633400277393...   \n",
       "1  [[8.662013618271937, 8.333734389983075, 8.237401950047783, 8.487612892273411, 9.074812613799741, 9.863832539383758, 10.637334619131394, 11.169160021571496, 11.301833186118557, 11.000876586145337, 10.366732717394733, 9.600074910458362, 8.932777505664792, 8.548930891005153, 8.52371409047188, 8.801469008142991, 9.220283691637533, 9.573814562968696, 9.687885387898692, 9.48429662586887, 9.009060880514113, 8.41520249482587, 7.90666283375002, 7.66383974596102, 7.777840679660003, 8.217302978706728, 8.839807380346164, 9.443748879808492, 9.841857737884187, 9.929671705228746, 9.724001144154181, 9.357...   \n",
       "2  [[3.978643340829013, 3.945791927936596, 3.9827570971276014, 4.076838179656565, 4.208955439736811, 4.356435018996844, 4.49627117716086, 4.608353972323107, 4.678159743080302, 4.69849160336414, 4.670012962326325, 4.600513508433099, 4.503052278757441, 4.393303125434899, 4.286554858063285, 4.194871098800349, 4.1248850163710955, 4.076596610775521, 4.043372713288625, 4.013149701752663, 3.9706387665698117, 3.9001660556045303, 3.788672531783835, 3.6283685066414915, 3.418590571025781, 3.1665356110050427, 2.8867272879825276, 2.599275543863963, 2.3271861189252023, 2.093132871537757, 1.9161955374882271...   \n",
       "3  [[0.5750787969262294, 0.5824983464558442, 0.7072775981387315, 0.9623707519587056, 1.3332614244638599, 1.787001327321721, 2.2832159763368525, 2.7830209383944453, 3.253358023245857, 3.666613148965772, 3.9975557098442467, 4.220781000301384, 4.311501283995484, 4.250860467210691, 4.034614577555269, 3.6819744933246907, 3.2405158986777214, 2.7837771699346154, 2.400343474685114, 2.1761452964312973, 2.174351094240487, 2.4186211413846834, 2.885031149738979, 3.5057147075070847, 4.183887057273505, 4.816483378086145, 5.318298771083132, 5.641035922967605, 5.782215823693576, 5.78197887901107, 5.709390612...   \n",
       "4  [[6.3385757020438565, 6.017416166435517, 5.419129459120109, 4.672692190764107, 3.9462646636797936, 3.393815045331006, 3.107968740162642, 3.094681576827626, 3.277539069152027, 3.529097687454376, 3.7173931091778107, 3.7508100680409053, 3.6056239742237985, 3.3272004207031474, 3.0056066310005427, 2.73569461985274, 2.5772019105197805, 2.5301285030016603, 2.534736874038323, 2.496175008893072, 2.3243756840442615, 1.9739733065152532, 1.4686924661258813, 0.9001484291575995, 0.4003055181673102, 0.0966072628364012, 0.06546814933881706, 0.3009323490217024, 0.7103744574401173, 1.1398263071301284, 1.421...   \n",
       "\n",
       "   city      cont  \n",
       "0     0  0.034548  \n",
       "1     0 -0.338240  \n",
       "2     0 -2.683742  \n",
       "3     0  0.050922  \n",
       "4     0  0.371118  "
      ]
     },
     "execution_count": 135,
     "metadata": {},
     "output_type": "execute_result"
    }
   ],
   "source": [
    "horizon,lookback = 5,10\n",
    "df = dummy_data_generator_multi(32)\n",
    "df.head()"
   ]
  },
  {
   "cell_type": "code",
   "execution_count": 136,
   "metadata": {},
   "outputs": [
    {
     "data": {
      "text/plain": [
       "dtype('float64')"
      ]
     },
     "execution_count": 136,
     "metadata": {},
     "output_type": "execute_result"
    }
   ],
   "source": [
    "pd.Series(np.ones(10)).dtype"
   ]
  },
  {
   "cell_type": "code",
   "execution_count": 137,
   "metadata": {},
   "outputs": [
    {
     "data": {
      "image/png": "[encoded data removed]",
      "text/plain": [
       "<Figure size 360x360 with 1 Axes>"
      ]
     },
     "metadata": {
      "needs_background": "light"
     },
     "output_type": "display_data"
    },
    {
     "data": {
      "image/png": "[encoded data removed]",
      "text/plain": [
       "<Figure size 360x360 with 1 Axes>"
      ]
     },
     "metadata": {
      "needs_background": "light"
     },
     "output_type": "display_data"
    },
    {
     "data": {
      "image/png": "[encoded data removed]",
      "text/plain": [
       "<Figure size 360x360 with 1 Axes>"
      ]
     },
     "metadata": {
      "needs_background": "light"
     },
     "output_type": "display_data"
    }
   ],
   "source": [
    "dl = DfDataLoader(df, 'x', horizon = horizon, lookback = lookback)\n",
    "dl.show_batch(max_n=3)"
   ]
  },
  {
   "cell_type": "code",
   "execution_count": 138,
   "metadata": {},
   "outputs": [
    {
     "name": "stdout",
     "output_type": "stream",
     "text": [
      "Converted 00_core.ipynb.\n",
      "Converted 01_data.external.ipynb.\n",
      "Converted 020_data.load_pd.ipynb.\n",
      "Converted 02_data.load.ipynb.\n",
      "Converted 03_data.core.ipynb.\n",
      "Converted 05_nbeats.models.ipynb.\n",
      "Converted 06_nbeats.callbacks.ipynb.\n",
      "Converted 07_nbeats.learner.ipynb.\n",
      "Converted 08_nbeats.interpret.ipynb.\n",
      "Converted 11_metrics.ipynb.\n",
      "Converted 12_compare.ipynb.\n",
      "Converted index.ipynb.\n"
     ]
    }
   ],
   "source": [
    "# hide\n",
    "from nbdev.export import *\n",
    "\n",
    "notebook2script()"
   ]
  },
  {
   "cell_type": "code",
   "execution_count": null,
   "metadata": {},
   "outputs": [],
   "source": []
  },
  {
   "cell_type": "code",
   "execution_count": null,
   "metadata": {},
   "outputs": [],
   "source": []
  }
 ],
 "metadata": {
  "kernelspec": {
   "display_name": "env37",
   "language": "python",
   "name": "env37"
  },
  "language_info": {
   "codemirror_mode": {
    "name": "ipython",
    "version": 3
   },
   "file_extension": ".py",
   "mimetype": "text/x-python",
   "name": "python",
   "nbconvert_exporter": "python",
   "pygments_lexer": "ipython3",
   "version": "3.7.4"
  }
 },
 "nbformat": 4,
 "nbformat_minor": 4
}
