{
 "cells": [
  {
   "cell_type": "code",
   "execution_count": 1,
   "metadata": {},
   "outputs": [],
   "source": [
    "# default_exp data.load_pd"
   ]
  },
  {
   "cell_type": "code",
   "execution_count": 2,
   "metadata": {},
   "outputs": [
    {
     "name": "stderr",
     "output_type": "stream",
     "text": [
      "/home/tako/dev/env37/lib/python3.7/site-packages/pandas/compat/__init__.py:117: UserWarning: Could not import the lzma module. Your installed Python is incomplete. Attempting to use lzma compression will result in a RuntimeError.\n",
      "  warnings.warn(msg)\n"
     ]
    }
   ],
   "source": [
    "# hide\n",
    "import sys\n",
    "\n",
    "sys.path.append(\"..\")\n",
    "import pandas as pd"
   ]
  },
  {
   "cell_type": "code",
   "execution_count": 3,
   "metadata": {},
   "outputs": [],
   "source": [
    "# export\n",
    "from fastseq.core import *\n",
    "from fastseq.data.external import *\n",
    "from fastcore.utils import *\n",
    "from fastcore.imports import *\n",
    "from fastai2.basics import *\n",
    "from fastai2.data.transforms import *\n",
    "from fastai2.tabular.core import *"
   ]
  },
  {
   "cell_type": "code",
   "execution_count": 4,
   "metadata": {},
   "outputs": [],
   "source": [
    "# hide\n",
    "from nbdev.showdoc import *"
   ]
  },
  {
   "cell_type": "markdown",
   "metadata": {},
   "source": [
    "# Data Load Dataframe\n",
    "\n",
    "\n",
    "> Using the fastai2 `Datasets` to make an time series dataset.\n",
    "\n",
    "A multivaraite time-series dataloader. \n",
    "\n",
    "TODO reduce mem: https://forums.fast.ai/t/how-to-handle-dataframes-too-large-to-fit-in-memory/39208/19"
   ]
  },
  {
   "cell_type": "code",
   "execution_count": null,
   "metadata": {},
   "outputs": [],
   "source": []
  },
  {
   "cell_type": "code",
   "execution_count": 5,
   "metadata": {},
   "outputs": [],
   "source": [
    "# export\n",
    "import numpy as np\n",
    "import pandas as pd"
   ]
  },
  {
   "cell_type": "code",
   "execution_count": 6,
   "metadata": {},
   "outputs": [],
   "source": [
    "class TSeries(TensorBase):pass"
   ]
  },
  {
   "cell_type": "code",
   "execution_count": 7,
   "metadata": {},
   "outputs": [],
   "source": [
    "def no_emp_dim(x):\n",
    "    if len(x.shape)==1 :\n",
    "        x = x[None,:]\n",
    "    return np.vstack(x)\n",
    "\n",
    "def show_graph(array, ax=None, figsize=None, title=None, ctx=None, tx=None, **kwargs):\n",
    "    \"Show an array on `ax`.\"\n",
    "    if hasattrs(array, ('data','cpu','permute')):\n",
    "        array = array.data.cpu()\n",
    "    elif not isinstance(array,np.ndarray):\n",
    "        array=array(array)\n",
    "    arrays = no_emp_dim(array)\n",
    "    ax = ifnone(ax,ctx)\n",
    "    if figsize is None: figsize = (5,5)\n",
    "    if ax is None: _,ax = plt.subplots(figsize=figsize)\n",
    "    tx = ifnone(tx,np.arange(arrays[0].shape[0]))\n",
    "    label = kwargs.pop('label', 'x')\n",
    "    for a, c in zip(arrays, ['b', 'c', 'm', 'y', 'k',]):\n",
    "        ax.plot(tx, a, '-*'+c,label=label, **kwargs)\n",
    "\n",
    "    if title is not None: ax.set_title(title)\n",
    "\n",
    "    ax.legend()\n",
    "#     ax.axis('off')\n",
    "    return ax"
   ]
  },
  {
   "cell_type": "code",
   "execution_count": 8,
   "metadata": {},
   "outputs": [],
   "source": [
    "# export\n",
    "class TensorSeqs(TSeries):\n",
    "    \n",
    "    def show(self, ax = None, ctx=None, **kwargs):\n",
    "        ctx = ifnone(ctx, ax)\n",
    "        if ctx is None: _, ctx = plt.subplots(figsize=(5,5))\n",
    "        array = np.array(self.cpu())\n",
    "        arrays = no_emp_dim(array)\n",
    "        m = self._meta.get('m',['b', 'c', 'm', 'y', 'k',][:len(arrays)])\n",
    "        labels = self._meta.get('label',['x']*len(arrays))\n",
    "        t = np.arange(array.shape[1])\n",
    "        \n",
    "        for a, c, label in zip(arrays, m, labels):            \n",
    "            mark = '-' if 'y' not in label else ''                \n",
    "            ctx.plot(t, a, mark + '*' +c, **kwargs, label=label)            #\n",
    "        ctx.legend()\n",
    "        return ctx\n",
    "    "
   ]
  },
  {
   "cell_type": "code",
   "execution_count": 9,
   "metadata": {},
   "outputs": [],
   "source": [
    "a = torch.cat([i+torch.arange(10)[None,:] for i in [0,2]])"
   ]
  },
  {
   "cell_type": "code",
   "execution_count": 10,
   "metadata": {},
   "outputs": [
    {
     "data": {
      "image/png": "[encoded data removed]",
      "text/plain": [
       "<Figure size 360x360 with 1 Axes>"
      ]
     },
     "metadata": {
      "needs_background": "light"
     },
     "output_type": "display_data"
    }
   ],
   "source": [
    "_, ctx = plt.subplots(figsize=[5,5])\n",
    "ax = TensorSeqs(a, m=['b','k'], label = ['x1','x2y']).show(ctx=ctx)"
   ]
  },
  {
   "cell_type": "code",
   "execution_count": 11,
   "metadata": {},
   "outputs": [
    {
     "data": {
      "image/png": "[encoded data removed]",
      "text/plain": [
       "<Figure size 360x360 with 1 Axes>"
      ]
     },
     "metadata": {
      "needs_background": "light"
     },
     "output_type": "display_data"
    }
   ],
   "source": [
    "ax = TensorSeqs(torch.arange(10)[None,:], m=['b','k'], label = ['x1','x2']).show()"
   ]
  },
  {
   "cell_type": "code",
   "execution_count": 153,
   "metadata": {},
   "outputs": [],
   "source": [
    "# export\n",
    "class TensorCon(TSeries):\n",
    "    def show(self, ax = None, ctx=None):\n",
    "        ax = ifnone(ax,ctx)\n",
    "        if ax is None:\n",
    "            _, ax = plt.subplots(figsize=(5,5))\n",
    "        ax.set_title(ax.title._text +f\" {self._meta.get('label','con')}: {str(self.data.item())}\")\n",
    "        return ax"
   ]
  },
  {
   "cell_type": "code",
   "execution_count": 13,
   "metadata": {},
   "outputs": [
    {
     "data": {
      "text/plain": [
       "<matplotlib.axes._subplots.AxesSubplot at 0x7ff7388b4710>"
      ]
     },
     "execution_count": 13,
     "metadata": {},
     "output_type": "execute_result"
    },
    {
     "data": {
      "image/png": "[encoded data removed]",
      "text/plain": [
       "<Figure size 360x360 with 1 Axes>"
      ]
     },
     "metadata": {
      "needs_background": "light"
     },
     "output_type": "display_data"
    }
   ],
   "source": [
    "TensorCon(1).show()"
   ]
  },
  {
   "cell_type": "markdown",
   "metadata": {},
   "source": [
    "## Utils"
   ]
  },
  {
   "cell_type": "code",
   "execution_count": 14,
   "metadata": {},
   "outputs": [],
   "source": [
    "# export\n",
    "from typing import List\n",
    "def same_size_ts(ts:pd.Series, ts_names:List[str]):    \n",
    "    all_same = [[(ts[c].shape == ts[a].shape) for c in ts_names] for a in ts_names]\n",
    "    mask = np.array(all_same)    \n",
    "    return np.sum(mask) == len(ts_names)**2\n",
    "    "
   ]
  },
  {
   "cell_type": "code",
   "execution_count": 15,
   "metadata": {},
   "outputs": [],
   "source": [
    "df = pd.DataFrame(data={'ts_0':[pd.Series(np.arange(10)),\n",
    "                           pd.Series(np.arange(10))],\n",
    "                   'ts_1':[pd.Series(np.arange(1,11)),\n",
    "                           pd.Series(np.arange(1,12))],\n",
    "                   'var_0':[0.,1.],\n",
    "                   'con_0':[0,1]})\n",
    "for i, row in df.iterrows():\n",
    "    if i == 0:\n",
    "        test_eq(same_size_ts(row,['ts_0','ts_1']),True)\n",
    "    if i == 1:\n",
    "        test_eq(same_size_ts(row,['ts_0','ts_1']),False)"
   ]
  },
  {
   "cell_type": "code",
   "execution_count": 16,
   "metadata": {},
   "outputs": [],
   "source": [
    "# export\n",
    "def get_part_of_ts(x, lookback_id, length, pad=np.mean):\n",
    "    if len(x.shape) == 1:\n",
    "        x = x[None,:]\n",
    "    if isinstance(x[0,0],int):\n",
    "        x = x.astype(float)\n",
    "    if x.shape[-1] < length:\n",
    "        # If the time series is too short, we pad\n",
    "        padding = pad(x, -1)\n",
    "        x = tensor(np.pad(\n",
    "            x, # report issue https://github.com/numpy/numpy/issues/15606\n",
    "            pad_width=((0, 0), (length - x.shape[-1], 0)),\n",
    "            mode='constant',\n",
    "            constant_values=padding\n",
    "        )).float()\n",
    "        assert x.shape == (x.shape[0],length), f\"{x.shape}\\t,{lookback_id}, 'tsshape':{x.shape}\"\n",
    "    else:\n",
    "        x = tensor(x[:,lookback_id:lookback_id + length]).float()\n",
    "    return x\n"
   ]
  },
  {
   "cell_type": "code",
   "execution_count": 17,
   "metadata": {},
   "outputs": [],
   "source": [
    "x = np.arange(10)\n",
    "test_eq(get_part_of_ts(x, 2, 5), torch.arange(2,7.)[None,:])\n",
    "x = np.arange(10)[None,:]\n",
    "test_eq(get_part_of_ts(x, 2, 5), torch.arange(2,7.)[None,:])\n",
    "test_eq(get_part_of_ts(x, 0, 11), tensor([[4., 0, 1, 2, 3, 4, 5, 6, 7, 8, 9]]))\n",
    "x = np.vstack([np.arange(10)]*2)\n",
    "test_eq(get_part_of_ts(x, 2, 5), torch.cat([torch.arange(2,7.)[None,:]]*2))\n",
    "test_eq(get_part_of_ts(x, 0, 11), tensor([[4., 0, 1, 2, 3, 4, 5, 6, 7, 8, 9],\n",
    "                                          [4, 0, 1, 2, 3, 4, 5, 6, 7, 8, 9]]))\n",
    "\n",
    "# report issue https://github.com/numpy/numpy/issues/15606\n",
    "x = np.arange(10)[None,:]\n",
    "# test_eq(get_part_of_ts(x, 0, 11), tensor([[4.5, 0, 1, 2, 3, 4, 5, 6, 7, 8, 9]]))"
   ]
  },
  {
   "cell_type": "markdown",
   "metadata": {},
   "source": [
    "# Dataloader"
   ]
  },
  {
   "cell_type": "code",
   "execution_count": 111,
   "metadata": {},
   "outputs": [],
   "source": [
    "# export\n",
    "@delegates()\n",
    "class DfDataLoader(TfmdDL):\n",
    "    def __init__(self, dataset:pd.DataFrame, y_name, horizon, lookback=72, step=1, min_seq_len=None, max_std= 2, norm=True, **kwargs):\n",
    "        store_attr(self,'horizon,lookback,step,max_std,norm,y_name')\n",
    "        self.min_seq_len = ifnone(min_seq_len, lookback)\n",
    "        self.dataset = dataset\n",
    "        self.con_names, self.cat_names, self.ts_names = L(), L(), L()\n",
    "        for col in dataset.columns:\n",
    "            t = type(dataset[col].iloc[0])\n",
    "            if t is pd.core.series.Series:\n",
    "                self.ts_names.append(col)\n",
    "            elif t is np.ndarray:\n",
    "                self.dataset[col] = pd.Series([pd.Series(o.flatten()) for o in self.dataset[col]])\n",
    "                self.ts_names.append(col)\n",
    "            elif isinstance(dataset[col].iloc[0], int) or t is np.int64:\n",
    "                self.con_names.append(col)\n",
    "            elif isinstance(dataset[col].iloc[0], float):\n",
    "                self.cat_names.append(col)\n",
    "            else:\n",
    "                raise Exception(t) \n",
    "        assert y_name in self.ts_names\n",
    "        self.ts_names.remove(y_name)\n",
    "        n = self.make_ids()\n",
    "        super().__init__(dataset=self.dataset, **kwargs)\n",
    "        self.n = n\n",
    "        self.skipped= []\n",
    "        self.ms = {}        \n",
    "\n",
    "    @delegates(TfmdDL.new)\n",
    "    def new(self, dataset=None, cls=None, **kwargs):\n",
    "        res = super().new(dataset, cls, horizon=self.horizon, lookback=self.lookback, step=self.step , **kwargs)\n",
    "        res.make_ids()\n",
    "        return res\n",
    "\n",
    "    def make_ids(self):\n",
    "        \"\"\"Make ids if the sequence is shorter than `min_seq_len`, it will drop that sequence.\"\"\"\n",
    "        # Slice each time series into examples, assigning IDs to each\n",
    "        last_id = 0\n",
    "        n_dropped = 0\n",
    "        n_needs_padding = 0\n",
    "        self._ids = {}\n",
    "        for i, ts in self.dataset.iterrows(): \n",
    "            assert same_size_ts(ts, self.ts_names), f\"row {i} are not all the time series the same length\"\n",
    "            num_examples = (ts[self.y_name].shape[-1] - self.lookback - self.horizon + self.step) // self.step\n",
    "            # Time series shorter than the forecast horizon need to be dropped.\n",
    "            if ts[self.y_name].shape[-1] < self.min_seq_len:\n",
    "                n_dropped += 1\n",
    "                continue\n",
    "            # For short time series zero pad the input\n",
    "            if ts[self.y_name].shape[-1] < self.lookback + self.horizon:\n",
    "                n_needs_padding += 1\n",
    "                num_examples = 1\n",
    "            for j in range(num_examples):\n",
    "                self._ids[last_id + j] = (i, j * self.step)\n",
    "            last_id += num_examples\n",
    "\n",
    "        # Inform user about time series that were too short\n",
    "        if n_dropped > 0:\n",
    "            print(\"Dropped {}/{} time series due to length.\".format(\n",
    "                    n_dropped, len(self.dataset)))\n",
    "\n",
    "        # Inform user about time series that were short\n",
    "        if n_needs_padding > 0:\n",
    "            print(\"Need to pad {}/{} time series due to length.\".format(\n",
    "                    n_needs_padding, len(self.dataset)))\n",
    "        # Store the number of training examples\n",
    "        return int(self._ids.__len__() )\n",
    "    \n",
    "        def shuffle_fn(self, idxs):\n",
    "#         self.dataset.shuffle()        \n",
    "            return idxs\n",
    "\n",
    "    def get_id(self, idx):\n",
    "        ts_id, lookback_id = self._ids[idx]\n",
    "        row = self.dataset.iloc[ts_id, :]\n",
    "        x = get_part_of_ts(row[self.y_name].values, lookback_id, self.lookback)        \n",
    "        y = get_part_of_ts(row[self.y_name].values, lookback_id, self.lookback + self.horizon)\n",
    "        tsx = np.concatenate([o[None,:] for o in row[self.ts_names].to_numpy()])\n",
    "        tsx = get_part_of_ts(tsx, lookback_id, self.lookback + self.horizon)\n",
    "        cat, con = row[self.cat_names].to_numpy().astype(int), row[self.con_names].to_numpy().astype(float)\n",
    "        return x, tsx, cat, con, y\n",
    "\n",
    "    def create_item(self, idx):\n",
    "        if idx>=self.n:\n",
    "            raise IndexError\n",
    "        x, tsx, cat, con, y  = self.get_id(idx)\n",
    "        if (y/(x.std()+1e-7)).std() > self.max_std:\n",
    "            if idx not in self.skipped:\n",
    "#                 print(f\"idx: {idx};y.std to high: {(y/x.std()).std()} > {self.max_std}\")\n",
    "                self.skipped.append(idx)\n",
    "            raise SkipItemException()\n",
    "        \n",
    "#         print({k:(o,o.dtype,o.shape) for k,o in zip(['x','tsx','cat','con','y'],[x,tsx,cat,con,y])})        \n",
    "        return (\n",
    "            TensorSeqs(x, label=[self.y_name + '_x'], m=['g']),\n",
    "            TensorSeqs(tsx,label=self.ts_names),\n",
    "            TensorCon(cat,label=self.cat_names).long(),\n",
    "            TensorCon(con,label=self.con_names),\n",
    "            TensorSeqs(y, label=[self.y_name+ '_y'], m=['r'])\n",
    "        )\n",
    "\n",
    "    "
   ]
  },
  {
   "cell_type": "markdown",
   "metadata": {},
   "source": [
    "The data will be stored in pandas DataFrames. This can be use for time series by nesting series into a cell. An example is shown below: "
   ]
  },
  {
   "cell_type": "code",
   "execution_count": 112,
   "metadata": {},
   "outputs": [
    {
     "data": {
      "text/html": [
       "<div>\n",
       "<style scoped>\n",
       "    .dataframe tbody tr th:only-of-type {\n",
       "        vertical-align: middle;\n",
       "    }\n",
       "\n",
       "    .dataframe tbody tr th {\n",
       "        vertical-align: top;\n",
       "    }\n",
       "\n",
       "    .dataframe thead th {\n",
       "        text-align: right;\n",
       "    }\n",
       "</style>\n",
       "<table border=\"1\" class=\"dataframe\">\n",
       "  <thead>\n",
       "    <tr style=\"text-align: right;\">\n",
       "      <th></th>\n",
       "      <th>pred</th>\n",
       "      <th>ts_0</th>\n",
       "      <th>ts_1</th>\n",
       "      <th>var_0</th>\n",
       "      <th>con_0</th>\n",
       "    </tr>\n",
       "  </thead>\n",
       "  <tbody>\n",
       "    <tr>\n",
       "      <th>0</th>\n",
       "      <td>[0.0, 1.0, 2.0, 3.0, 4.0, 5.0, 6.0, 7.0, 8.0, 9.0]</td>\n",
       "      <td>[[1.0, 1.0, 1.0, 1.0, 1.0, 1.0, 1.0, 1.0, 1.0, 1.0]]</td>\n",
       "      <td>0   -0.047360\n",
       "1    2.432810\n",
       "2    1.853505\n",
       "3    4.041274\n",
       "4    4.546992\n",
       "5    7.184111\n",
       "6    8.470761\n",
       "7    8.079718\n",
       "8    9.194248\n",
       "9    9.550473\n",
       "dtype: float64</td>\n",
       "      <td>0.0</td>\n",
       "      <td>0</td>\n",
       "    </tr>\n",
       "    <tr>\n",
       "      <th>1</th>\n",
       "      <td>[0.0, 1.0, 2.0, 3.0, 4.0, 5.0, 6.0, 7.0, 8.0, 9.0, 10.0, 11.0]</td>\n",
       "      <td>[[1.0, 1.0, 1.0, 1.0, 1.0, 1.0, 1.0, 1.0, 1.0, 1.0, 1.0, 1.0]]</td>\n",
       "      <td>0      1.349989\n",
       "1      3.404112\n",
       "2      3.454652\n",
       "3      2.733100\n",
       "4      5.572483\n",
       "5      6.424255\n",
       "6      6.766699\n",
       "7      7.691938\n",
       "8      8.562481\n",
       "9      8.869173\n",
       "10    10.953326\n",
       "11    13.768112\n",
       "dtype: float64</td>\n",
       "      <td>1.0</td>\n",
       "      <td>1</td>\n",
       "    </tr>\n",
       "  </tbody>\n",
       "</table>\n",
       "</div>"
      ],
      "text/plain": [
       "                                                             pred  \\\n",
       "0              [0.0, 1.0, 2.0, 3.0, 4.0, 5.0, 6.0, 7.0, 8.0, 9.0]   \n",
       "1  [0.0, 1.0, 2.0, 3.0, 4.0, 5.0, 6.0, 7.0, 8.0, 9.0, 10.0, 11.0]   \n",
       "\n",
       "                                                             ts_0  \\\n",
       "0            [[1.0, 1.0, 1.0, 1.0, 1.0, 1.0, 1.0, 1.0, 1.0, 1.0]]   \n",
       "1  [[1.0, 1.0, 1.0, 1.0, 1.0, 1.0, 1.0, 1.0, 1.0, 1.0, 1.0, 1.0]]   \n",
       "\n",
       "                                                                                                                                                                                                             ts_1  \\\n",
       "0                                                      0   -0.047360\n",
       "1    2.432810\n",
       "2    1.853505\n",
       "3    4.041274\n",
       "4    4.546992\n",
       "5    7.184111\n",
       "6    8.470761\n",
       "7    8.079718\n",
       "8    9.194248\n",
       "9    9.550473\n",
       "dtype: float64   \n",
       "1  0      1.349989\n",
       "1      3.404112\n",
       "2      3.454652\n",
       "3      2.733100\n",
       "4      5.572483\n",
       "5      6.424255\n",
       "6      6.766699\n",
       "7      7.691938\n",
       "8      8.562481\n",
       "9      8.869173\n",
       "10    10.953326\n",
       "11    13.768112\n",
       "dtype: float64   \n",
       "\n",
       "   var_0  con_0  \n",
       "0    0.0      0  \n",
       "1    1.0      1  "
      ]
     },
     "execution_count": 112,
     "metadata": {},
     "output_type": "execute_result"
    }
   ],
   "source": [
    "df = pd.DataFrame(data={'pred':[np.arange(10.),\n",
    "                           np.arange(12.)],\n",
    "                   'ts_0':[np.ones(10)[None,:],\n",
    "                           np.ones(12)[None,:]],\n",
    "                   'ts_1':[pd.Series(np.arange(1,11)+np.random.randn(10)),\n",
    "                           pd.Series(np.arange(1,13)+np.random.randn(12))],\n",
    "                   'var_0':[0.,1.],\n",
    "                   'con_0':[0,1]})\n",
    "df"
   ]
  },
  {
   "cell_type": "code",
   "execution_count": 113,
   "metadata": {},
   "outputs": [
    {
     "name": "stdout",
     "output_type": "stream",
     "text": [
      "Need to pad 1/2 time series due to length.\n"
     ]
    }
   ],
   "source": [
    "horizon,lookback = 2,9\n",
    "dl = DfDataLoader(df, 'pred', horizon = horizon, lookback = lookback)\n"
   ]
  },
  {
   "cell_type": "code",
   "execution_count": 114,
   "metadata": {},
   "outputs": [
    {
     "name": "stdout",
     "output_type": "stream",
     "text": [
      "{'x': torch.Size([3, 1, 9]), 'tsx': torch.Size([3, 2, 11]), 'cat': torch.Size([3, 1]), 'con': torch.Size([3, 1]), 'y': torch.Size([3, 1, 11])}\n"
     ]
    },
    {
     "data": {
      "text/plain": [
       "(#2) ['ts_0','ts_1']"
      ]
     },
     "execution_count": 114,
     "metadata": {},
     "output_type": "execute_result"
    }
   ],
   "source": [
    "for o in dl:\n",
    "    dct = {k:v for k,v in zip(['x','tsx','cat','con','y'],o)}\n",
    "    print({k:v.shape for k,v in dct.items()})\n",
    "    test_eq(dct['x'].shape,(3,1,9))\n",
    "    break\n",
    "dl.ts_names"
   ]
  },
  {
   "cell_type": "code",
   "execution_count": 115,
   "metadata": {},
   "outputs": [
    {
     "data": {
      "image/png": "[encoded data removed]",
      "text/plain": [
       "<Figure size 360x360 with 1 Axes>"
      ]
     },
     "metadata": {
      "needs_background": "light"
     },
     "output_type": "display_data"
    },
    {
     "name": "stderr",
     "output_type": "stream",
     "text": [
      "Exception ignored in: <function _MultiProcessingDataLoaderIter.__del__ at 0x7ff762d6bef0>\n",
      "Traceback (most recent call last):\n",
      "  File \"/home/tako/dev/env37/lib/python3.7/site-packages/torch/utils/data/dataloader.py\", line 926, in __del__\n",
      "    self._shutdown_workers()\n",
      "  File \"/home/tako/dev/env37/lib/python3.7/site-packages/torch/utils/data/dataloader.py\", line 906, in _shutdown_workers\n",
      "    w.join()\n",
      "  File \"/usr/local/lib/python3.7/multiprocessing/process.py\", line 140, in join\n",
      "    res = self._popen.wait(timeout)\n",
      "  File \"/usr/local/lib/python3.7/multiprocessing/popen_fork.py\", line 48, in wait\n",
      "    return self.poll(os.WNOHANG if timeout == 0.0 else 0)\n",
      "  File \"/usr/local/lib/python3.7/multiprocessing/popen_fork.py\", line 28, in poll\n",
      "    pid, sts = os.waitpid(self.pid, flag)\n",
      "KeyboardInterrupt: \n"
     ]
    },
    {
     "data": {
      "image/png": "[encoded data removed]",
      "text/plain": [
       "<Figure size 360x360 with 1 Axes>"
      ]
     },
     "metadata": {
      "needs_background": "light"
     },
     "output_type": "display_data"
    },
    {
     "data": {
      "image/png": "[encoded data removed]",
      "text/plain": [
       "<Figure size 360x360 with 1 Axes>"
      ]
     },
     "metadata": {
      "needs_background": "light"
     },
     "output_type": "display_data"
    }
   ],
   "source": [
    "dl.show_batch(max_n=3)"
   ]
  },
  {
   "cell_type": "markdown",
   "metadata": {},
   "source": [
    "# Intergration Example"
   ]
  },
  {
   "cell_type": "code",
   "execution_count": 116,
   "metadata": {},
   "outputs": [],
   "source": [
    "from fastseq.data.external import *"
   ]
  },
  {
   "cell_type": "code",
   "execution_count": 145,
   "metadata": {},
   "outputs": [
    {
     "data": {
      "text/html": [
       "<div>\n",
       "<style scoped>\n",
       "    .dataframe tbody tr th:only-of-type {\n",
       "        vertical-align: middle;\n",
       "    }\n",
       "\n",
       "    .dataframe tbody tr th {\n",
       "        vertical-align: top;\n",
       "    }\n",
       "\n",
       "    .dataframe thead th {\n",
       "        text-align: right;\n",
       "    }\n",
       "</style>\n",
       "<table border=\"1\" class=\"dataframe\">\n",
       "  <thead>\n",
       "    <tr style=\"text-align: right;\">\n",
       "      <th></th>\n",
       "      <th>x</th>\n",
       "      <th>weather</th>\n",
       "      <th>city</th>\n",
       "      <th>cont</th>\n",
       "    </tr>\n",
       "  </thead>\n",
       "  <tbody>\n",
       "    <tr>\n",
       "      <th>0</th>\n",
       "      <td>[[-1.575219656459134, -1.5103990108101646, -1.2460380531512467, -1.0865797902316918, -0.5457532451292991, -0.25967703161257094, 0.13267675667855972, 0.772689997310408, 1.2925678505801288, 1.7263461580246775, 1.6089514470275004, 1.497467027040739, 1.247495931741949, 0.41176172776227743, 0.5339717581734547, -0.16119570941999892, -0.7644889578369084, -1.211234269997831, -1.5517555804029914, -1.1436601922607368, -1.2007158679619931, -1.1401993155309416, -0.5151847052705447, -0.17785591649991644, 0.2585478058864358, 0.4714809936368415, 0.6322405490548414, 0.7264503607764277, 0.8534979963994288,...</td>\n",
       "      <td>[[4.448590316612798, 4.262652410102156, 3.7522115166768657, 3.0770620145936975, 2.443690600975246, 2.037381419514389, 1.9629309085108078, 2.214068154834008, 2.681410241611885, 3.1951757319725322, 3.586776928557424, 3.7470933889865146, 3.6608874148256767, 3.405786486614274, 3.117247700369831, 2.9332318496095104, 2.939517025123367, 3.1361032269113913, 3.437212364183514, 3.704883643422659, 3.8036599686112114, 3.6559138592098384, 3.276883013652638, 2.7756878743196833, 2.320916138569559, 2.0823492432740682, 2.169370105305328, 2.58824963779391, 3.234191402440096, 3.9219112555508993, 4.4449225000...</td>\n",
       "      <td>0</td>\n",
       "      <td>0.013956</td>\n",
       "    </tr>\n",
       "    <tr>\n",
       "      <th>1</th>\n",
       "      <td>[[-0.6501089886180599, -0.7789288361381788, -0.9328455673229038, -1.2307575252486413, -1.6001997978939493, -1.259261182181954, -0.7929186407295137, -0.089390692187658, 0.11498981440461772, 0.8584050212617325, 0.7982102255544556, 0.5013612814635569, -0.11214047425346209, -0.7522803393099489, -0.848579758594717, -1.1099862286660274, -0.6006122062156254, -0.6565413161295035, 0.05342980173425955, 0.5636634864649841, 0.7666983863439679, 0.48997374528027166, 0.4111481878506134, -0.41878044644443785, -0.622363146343603, -0.35991230214189074, -0.34187186071382525, 0.6508137424875908, 1.58546712124...</td>\n",
       "      <td>[[7.092031510117114, 6.697149090507281, 6.433076664296221, 6.439736339186216, 6.745195078915727, 7.258103180124517, 7.804035235423877, 8.191881924869085, 8.285671463595772, 8.055397184895645, 7.588213062662962, 7.0558965948001156, 6.650500842168427, 6.511822336249045, 6.67345169646696, 7.047587669916418, 7.454829583910004, 7.688833860460917, 7.592912985637824, 7.1210105758658155, 6.360727639347262, 5.5093823755835905, 4.810737428987904, 4.474086480923903, 4.603825501441349, 5.164120974481046, 5.991049861566832, 6.847957646402502, 7.504661947273114, 7.812881642951358, 7.751805529150673, 7.4...</td>\n",
       "      <td>0</td>\n",
       "      <td>-0.537845</td>\n",
       "    </tr>\n",
       "    <tr>\n",
       "      <th>2</th>\n",
       "      <td>[[0.9580197439614875, 0.26112223634171766, 0.9954489935199211, 0.14014937871114294, -0.15082179504506008, -0.6645366240166946, -1.1573071647555488, -1.1779943735571758, -1.6862618070268736, -1.2281619596318505, -0.8861007033170979, -0.29840539987713044, 0.3236190311141602, 0.695045467225018, 1.1493778298413482, 1.3081748333024112, 1.2230048933024058, 1.2140237811834316, 1.0543040402338564, 0.11366907063432195, -0.04828175689155736, -0.9827378709816442, -1.195895052103562, -1.7082062892521004, -1.2694067406093412, -0.938107329538784, -0.45678547636255984, -0.26283667396114263, 0.77992099056...</td>\n",
       "      <td>[[5.859750155674326, 5.77598780198016, 5.6500187360470395, 5.492406184278229, 5.31884228775722, 5.147604651340082, 4.996593829463796, 4.880431925936656, 4.808092579355595, 4.78144647648692, 4.794958143167708, 4.836583158185542, 4.889720365784178, 4.935902663647788, 4.95779023167035, 4.941981045890675, 4.8811831371934655, 4.775396505578727, 4.631913120161751, 4.464135004903715, 4.289401979910661, 4.126181147498412, 3.991073663423204, 3.896123948897463, 3.846867478084107, 3.841433564216824, 3.8708485686986864, 3.920490387721419, 3.972458466848014, 4.008475201222391, 4.012848449761103, 3.9750...</td>\n",
       "      <td>0</td>\n",
       "      <td>-0.067138</td>\n",
       "    </tr>\n",
       "    <tr>\n",
       "      <th>3</th>\n",
       "      <td>[[2.087067670655819, 1.7676328164909243, 1.395439090713326, 1.3053277245975559, 1.1314999816431703, 1.1503775375918048, 1.354417963248296, 1.4255754981171636, 1.0626868223753143, 0.9176548080514089, 0.43829627090607076, 0.13333752191707848, -0.15293227723955619, -0.5341726752629917, -0.6989507703226152, -0.767261791392032, -0.7024487446693563, -0.6923328678813009, -0.772984877528033, -0.8855266391310523, -1.0908721816567595, -1.1859662395942225, -1.2044672089561828, -1.2232402900597272, -1.0439293843364816, -0.9291237483568411, -0.6381845631235632, -0.4651746887655807, -0.3051447532573674,...</td>\n",
       "      <td>[[0.7519875512500429, 0.6624514662070391, 0.8684987005746985, 1.3557420917009324, 2.062261102075497, 2.8877607458694916, 3.709066409493612, 4.3994742708658565, 4.848846064666342, 4.981209239349196, 4.767020093305615, 4.228104308281554, 3.434467875469752, 2.493481044551277, 1.533166676466431, 0.6822733911388794, 0.05032962112050621, -0.28912625726846297, -0.30946182483137896, -0.034284339694273136, 0.4673078238780142, 1.0927485957605847, 1.7233199602941274, 2.243925118356474, 2.562092408431014, 2.6231154791862212, 2.418869506831431, 1.9888765670368955, 1.4134577791506295, 0.8001002464191279...</td>\n",
       "      <td>0</td>\n",
       "      <td>1.533865</td>\n",
       "    </tr>\n",
       "    <tr>\n",
       "      <th>4</th>\n",
       "      <td>[[-0.7129263368178147, -1.385634598615224, -1.4153357699938798, -1.087383767097592, -0.7645641576825731, 0.29894987754479085, 1.09424374077966, 1.7098596088070417, 1.4449285287198874, 1.2412012088355293, 0.8135416387598944, -0.17161737253956463, -0.14935855553411106, -0.36398284048154383, -0.035452491411058766, 0.2016382859166163, 0.7062347393990361, 1.4683108655984467, 1.2199577694391237, 1.436136681369817, 0.4122771322262992, -0.5719241295869726, -0.9588019066169567, -1.7938504580895058, -1.7477103813033539, -1.2458386078258656, -0.7035765158698823, -0.27547963590679125, 0.56382451237058...</td>\n",
       "      <td>[[4.121944847456886, 3.959266704393703, 4.0693485118126835, 4.4970140023920155, 5.16960427931927, 5.906618679058939, 6.471265628457552, 6.6475754411306065, 6.316691100789892, 5.505171093430071, 4.387065109194582, 3.237138230063929, 2.3494795834020303, 1.947898999014123, 2.1176673065106453, 2.781128839655507, 3.724926338055459, 4.669177847403427, 5.354991589725432, 5.621024232979378, 5.444272088506539, 4.93323587792812, 4.27835420362127, 3.6792042802477325, 3.275301724733526, 3.104926771193957, 3.105304701687195, 3.1518231127683904, 3.119519282728902, 2.9420709330992194, 2.6448435803591157,...</td>\n",
       "      <td>0</td>\n",
       "      <td>-0.561595</td>\n",
       "    </tr>\n",
       "  </tbody>\n",
       "</table>\n",
       "</div>"
      ],
      "text/plain": [
       "                                                                                                                                                                                                                                                                                                                                                                                                                                                                                                                                                                                                                         x  \\\n",
       "0  [[-1.575219656459134, -1.5103990108101646, -1.2460380531512467, -1.0865797902316918, -0.5457532451292991, -0.25967703161257094, 0.13267675667855972, 0.772689997310408, 1.2925678505801288, 1.7263461580246775, 1.6089514470275004, 1.497467027040739, 1.247495931741949, 0.41176172776227743, 0.5339717581734547, -0.16119570941999892, -0.7644889578369084, -1.211234269997831, -1.5517555804029914, -1.1436601922607368, -1.2007158679619931, -1.1401993155309416, -0.5151847052705447, -0.17785591649991644, 0.2585478058864358, 0.4714809936368415, 0.6322405490548414, 0.7264503607764277, 0.8534979963994288,...   \n",
       "1  [[-0.6501089886180599, -0.7789288361381788, -0.9328455673229038, -1.2307575252486413, -1.6001997978939493, -1.259261182181954, -0.7929186407295137, -0.089390692187658, 0.11498981440461772, 0.8584050212617325, 0.7982102255544556, 0.5013612814635569, -0.11214047425346209, -0.7522803393099489, -0.848579758594717, -1.1099862286660274, -0.6006122062156254, -0.6565413161295035, 0.05342980173425955, 0.5636634864649841, 0.7666983863439679, 0.48997374528027166, 0.4111481878506134, -0.41878044644443785, -0.622363146343603, -0.35991230214189074, -0.34187186071382525, 0.6508137424875908, 1.58546712124...   \n",
       "2  [[0.9580197439614875, 0.26112223634171766, 0.9954489935199211, 0.14014937871114294, -0.15082179504506008, -0.6645366240166946, -1.1573071647555488, -1.1779943735571758, -1.6862618070268736, -1.2281619596318505, -0.8861007033170979, -0.29840539987713044, 0.3236190311141602, 0.695045467225018, 1.1493778298413482, 1.3081748333024112, 1.2230048933024058, 1.2140237811834316, 1.0543040402338564, 0.11366907063432195, -0.04828175689155736, -0.9827378709816442, -1.195895052103562, -1.7082062892521004, -1.2694067406093412, -0.938107329538784, -0.45678547636255984, -0.26283667396114263, 0.77992099056...   \n",
       "3  [[2.087067670655819, 1.7676328164909243, 1.395439090713326, 1.3053277245975559, 1.1314999816431703, 1.1503775375918048, 1.354417963248296, 1.4255754981171636, 1.0626868223753143, 0.9176548080514089, 0.43829627090607076, 0.13333752191707848, -0.15293227723955619, -0.5341726752629917, -0.6989507703226152, -0.767261791392032, -0.7024487446693563, -0.6923328678813009, -0.772984877528033, -0.8855266391310523, -1.0908721816567595, -1.1859662395942225, -1.2044672089561828, -1.2232402900597272, -1.0439293843364816, -0.9291237483568411, -0.6381845631235632, -0.4651746887655807, -0.3051447532573674,...   \n",
       "4  [[-0.7129263368178147, -1.385634598615224, -1.4153357699938798, -1.087383767097592, -0.7645641576825731, 0.29894987754479085, 1.09424374077966, 1.7098596088070417, 1.4449285287198874, 1.2412012088355293, 0.8135416387598944, -0.17161737253956463, -0.14935855553411106, -0.36398284048154383, -0.035452491411058766, 0.2016382859166163, 0.7062347393990361, 1.4683108655984467, 1.2199577694391237, 1.436136681369817, 0.4122771322262992, -0.5719241295869726, -0.9588019066169567, -1.7938504580895058, -1.7477103813033539, -1.2458386078258656, -0.7035765158698823, -0.27547963590679125, 0.56382451237058...   \n",
       "\n",
       "                                                                                                                                                                                                                                                                                                                                                                                                                                                                                                                                                                                                                   weather  \\\n",
       "0  [[4.448590316612798, 4.262652410102156, 3.7522115166768657, 3.0770620145936975, 2.443690600975246, 2.037381419514389, 1.9629309085108078, 2.214068154834008, 2.681410241611885, 3.1951757319725322, 3.586776928557424, 3.7470933889865146, 3.6608874148256767, 3.405786486614274, 3.117247700369831, 2.9332318496095104, 2.939517025123367, 3.1361032269113913, 3.437212364183514, 3.704883643422659, 3.8036599686112114, 3.6559138592098384, 3.276883013652638, 2.7756878743196833, 2.320916138569559, 2.0823492432740682, 2.169370105305328, 2.58824963779391, 3.234191402440096, 3.9219112555508993, 4.4449225000...   \n",
       "1  [[7.092031510117114, 6.697149090507281, 6.433076664296221, 6.439736339186216, 6.745195078915727, 7.258103180124517, 7.804035235423877, 8.191881924869085, 8.285671463595772, 8.055397184895645, 7.588213062662962, 7.0558965948001156, 6.650500842168427, 6.511822336249045, 6.67345169646696, 7.047587669916418, 7.454829583910004, 7.688833860460917, 7.592912985637824, 7.1210105758658155, 6.360727639347262, 5.5093823755835905, 4.810737428987904, 4.474086480923903, 4.603825501441349, 5.164120974481046, 5.991049861566832, 6.847957646402502, 7.504661947273114, 7.812881642951358, 7.751805529150673, 7.4...   \n",
       "2  [[5.859750155674326, 5.77598780198016, 5.6500187360470395, 5.492406184278229, 5.31884228775722, 5.147604651340082, 4.996593829463796, 4.880431925936656, 4.808092579355595, 4.78144647648692, 4.794958143167708, 4.836583158185542, 4.889720365784178, 4.935902663647788, 4.95779023167035, 4.941981045890675, 4.8811831371934655, 4.775396505578727, 4.631913120161751, 4.464135004903715, 4.289401979910661, 4.126181147498412, 3.991073663423204, 3.896123948897463, 3.846867478084107, 3.841433564216824, 3.8708485686986864, 3.920490387721419, 3.972458466848014, 4.008475201222391, 4.012848449761103, 3.9750...   \n",
       "3  [[0.7519875512500429, 0.6624514662070391, 0.8684987005746985, 1.3557420917009324, 2.062261102075497, 2.8877607458694916, 3.709066409493612, 4.3994742708658565, 4.848846064666342, 4.981209239349196, 4.767020093305615, 4.228104308281554, 3.434467875469752, 2.493481044551277, 1.533166676466431, 0.6822733911388794, 0.05032962112050621, -0.28912625726846297, -0.30946182483137896, -0.034284339694273136, 0.4673078238780142, 1.0927485957605847, 1.7233199602941274, 2.243925118356474, 2.562092408431014, 2.6231154791862212, 2.418869506831431, 1.9888765670368955, 1.4134577791506295, 0.8001002464191279...   \n",
       "4  [[4.121944847456886, 3.959266704393703, 4.0693485118126835, 4.4970140023920155, 5.16960427931927, 5.906618679058939, 6.471265628457552, 6.6475754411306065, 6.316691100789892, 5.505171093430071, 4.387065109194582, 3.237138230063929, 2.3494795834020303, 1.947898999014123, 2.1176673065106453, 2.781128839655507, 3.724926338055459, 4.669177847403427, 5.354991589725432, 5.621024232979378, 5.444272088506539, 4.93323587792812, 4.27835420362127, 3.6792042802477325, 3.275301724733526, 3.104926771193957, 3.105304701687195, 3.1518231127683904, 3.119519282728902, 2.9420709330992194, 2.6448435803591157,...   \n",
       "\n",
       "   city      cont  \n",
       "0     0  0.013956  \n",
       "1     0 -0.537845  \n",
       "2     0 -0.067138  \n",
       "3     0  1.533865  \n",
       "4     0 -0.561595  "
      ]
     },
     "execution_count": 145,
     "metadata": {},
     "output_type": "execute_result"
    }
   ],
   "source": [
    "horizon,lookback = 5,10\n",
    "df = dummy_data_generator_multi(32)\n",
    "df.head()"
   ]
  },
  {
   "cell_type": "code",
   "execution_count": 146,
   "metadata": {},
   "outputs": [
    {
     "data": {
      "text/plain": [
       "dtype('float64')"
      ]
     },
     "execution_count": 146,
     "metadata": {},
     "output_type": "execute_result"
    }
   ],
   "source": [
    "pd.Series(np.ones(10)).dtype"
   ]
  },
  {
   "cell_type": "code",
   "execution_count": 149,
   "metadata": {},
   "outputs": [
    {
     "data": {
      "image/png": "[encoded data removed]",
      "text/plain": [
       "<Figure size 360x360 with 1 Axes>"
      ]
     },
     "metadata": {
      "needs_background": "light"
     },
     "output_type": "display_data"
    },
    {
     "data": {
      "image/png": "[encoded data removed]",
      "text/plain": [
       "<Figure size 360x360 with 1 Axes>"
      ]
     },
     "metadata": {
      "needs_background": "light"
     },
     "output_type": "display_data"
    },
    {
     "data": {
      "image/png": "[encoded data removed]",
      "text/plain": [
       "<Figure size 360x360 with 1 Axes>"
      ]
     },
     "metadata": {
      "needs_background": "light"
     },
     "output_type": "display_data"
    }
   ],
   "source": [
    "dl = DfDataLoader(df, 'x', horizon = horizon, lookback = lookback, step=3)\n",
    "dl.show_batch(max_n=3)"
   ]
  },
  {
   "cell_type": "code",
   "execution_count": 154,
   "metadata": {},
   "outputs": [
    {
     "name": "stdout",
     "output_type": "stream",
     "text": [
      "Converted 00_core.ipynb.\n",
      "Converted 01_data.external.ipynb.\n",
      "Converted 020_data.load_pd.ipynb.\n",
      "Converted 02_data.load.ipynb.\n",
      "Converted 03_data.core.ipynb.\n",
      "Converted 03_data.core_pd.ipynb.\n",
      "Converted 050_nbeats.models_multi.ipynb.\n",
      "Converted 05_nbeats.models.ipynb.\n",
      "Converted 06_nbeats.callbacks.ipynb.\n",
      "Converted 07_nbeats.learner.ipynb.\n",
      "Converted 08_nbeats.interpret.ipynb.\n",
      "Converted 11_metrics.ipynb.\n",
      "Converted 12_compare.ipynb.\n",
      "Converted index.ipynb.\n"
     ]
    }
   ],
   "source": [
    "# hide\n",
    "from nbdev.export import *\n",
    "\n",
    "notebook2script()"
   ]
  },
  {
   "cell_type": "code",
   "execution_count": null,
   "metadata": {},
   "outputs": [],
   "source": []
  },
  {
   "cell_type": "code",
   "execution_count": null,
   "metadata": {},
   "outputs": [],
   "source": []
  }
 ],
 "metadata": {
  "kernelspec": {
   "display_name": "env37",
   "language": "python",
   "name": "env37"
  },
  "language_info": {
   "codemirror_mode": {
    "name": "ipython",
    "version": 3
   },
   "file_extension": ".py",
   "mimetype": "text/x-python",
   "name": "python",
   "nbconvert_exporter": "python",
   "pygments_lexer": "ipython3",
   "version": "3.7.4"
  }
 },
 "nbformat": 4,
 "nbformat_minor": 4
}
