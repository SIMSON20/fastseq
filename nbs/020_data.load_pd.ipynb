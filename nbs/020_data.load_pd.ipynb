{
 "cells": [
  {
   "cell_type": "code",
   "execution_count": 1,
   "metadata": {},
   "outputs": [],
   "source": [
    "# default_exp data.load_pd"
   ]
  },
  {
   "cell_type": "code",
   "execution_count": 2,
   "metadata": {},
   "outputs": [
    {
     "name": "stderr",
     "output_type": "stream",
     "text": [
      "/home/tako/dev/env37/lib/python3.7/site-packages/pandas/compat/__init__.py:117: UserWarning: Could not import the lzma module. Your installed Python is incomplete. Attempting to use lzma compression will result in a RuntimeError.\n",
      "  warnings.warn(msg)\n"
     ]
    }
   ],
   "source": [
    "# hide\n",
    "import sys\n",
    "\n",
    "sys.path.append(\"..\")\n",
    "import pandas as pd"
   ]
  },
  {
   "cell_type": "code",
   "execution_count": 3,
   "metadata": {},
   "outputs": [],
   "source": [
    "# export\n",
    "from fastseq.core import *\n",
    "from fastseq.data.external import *\n",
    "from fastcore.utils import *\n",
    "from fastcore.imports import *\n",
    "from fastai2.basics import *\n",
    "from fastai2.data.transforms import *\n",
    "from fastai2.tabular.core import *"
   ]
  },
  {
   "cell_type": "code",
   "execution_count": 4,
   "metadata": {},
   "outputs": [],
   "source": [
    "# hide\n",
    "from nbdev.showdoc import *"
   ]
  },
  {
   "cell_type": "markdown",
   "metadata": {},
   "source": [
    "# Data Load Dataframe\n",
    "\n",
    "\n",
    "> Using the fastai2 `Datasets` to make an time series dataset.\n",
    "\n",
    "A multivaraite time-series dataloader. \n",
    "\n",
    "TODO reduce mem: https://forums.fast.ai/t/how-to-handle-dataframes-too-large-to-fit-in-memory/39208/19"
   ]
  },
  {
   "cell_type": "code",
   "execution_count": 5,
   "metadata": {},
   "outputs": [],
   "source": [
    "# export\n",
    "import numpy as np\n",
    "import pandas as pd"
   ]
  },
  {
   "cell_type": "code",
   "execution_count": 6,
   "metadata": {},
   "outputs": [],
   "source": [
    "class TSeries(TensorBase):pass"
   ]
  },
  {
   "cell_type": "code",
   "execution_count": 7,
   "metadata": {},
   "outputs": [],
   "source": [
    "def no_emp_dim(x):\n",
    "    if len(x.shape)==1 :\n",
    "        x = x[None,:]\n",
    "    return np.vstack(x)\n",
    "\n",
    "def show_graph(array, ax=None, figsize=None, title=None, ctx=None, tx=None, **kwargs):\n",
    "    \"Show an array on `ax`.\"\n",
    "    if hasattrs(array, ('data','cpu','permute')):\n",
    "        array = array.data.cpu()\n",
    "    elif not isinstance(array,np.ndarray):\n",
    "        array=array(array)\n",
    "    arrays = no_emp_dim(array)\n",
    "    ax = ifnone(ax,ctx)\n",
    "    if figsize is None: figsize = (5,5)\n",
    "    if ax is None: _,ax = plt.subplots(figsize=figsize)\n",
    "    tx = ifnone(tx,np.arange(arrays[0].shape[0]))\n",
    "    label = kwargs.pop('label', 'x')\n",
    "    for a, c in zip(arrays, ['b', 'c', 'm', 'y', 'k',]):\n",
    "        ax.plot(tx, a, '-*'+c,label=label, **kwargs)\n",
    "\n",
    "    if title is not None: ax.set_title(title)\n",
    "\n",
    "    ax.legend()\n",
    "#     ax.axis('off')\n",
    "    return ax"
   ]
  },
  {
   "cell_type": "code",
   "execution_count": 8,
   "metadata": {},
   "outputs": [],
   "source": [
    "# export\n",
    "class TensorSeqs(TSeries):\n",
    "    \n",
    "    def show(self, ax = None, ctx=None, **kwargs):\n",
    "        ctx = ifnone(ctx, ax)\n",
    "        if ctx is None: _, ctx = plt.subplots(figsize=(5,5))\n",
    "        array = np.array(self.cpu())\n",
    "        arrays = no_emp_dim(array)\n",
    "        m = self._meta.get('m',['b', 'c', 'm', 'y', 'k',][:len(arrays)])\n",
    "        labels = self._meta.get('label',['x']*len(arrays))\n",
    "        t = np.arange(array.shape[1])        \n",
    "        for a, c, label in zip(arrays, m, labels):            \n",
    "            mark = '-' if 'y' not in label else ''                \n",
    "            ctx.plot(t, a, mark + '*' +c, **kwargs, label=label)\n",
    "        ctx.legend()\n",
    "        return ctx\n",
    "    "
   ]
  },
  {
   "cell_type": "code",
   "execution_count": 9,
   "metadata": {},
   "outputs": [],
   "source": [
    "a = torch.cat([i+torch.arange(10)[None,:] for i in [0,2]])"
   ]
  },
  {
   "cell_type": "code",
   "execution_count": 10,
   "metadata": {},
   "outputs": [
    {
     "data": {
      "image/png": "[encoded data removed]",
      "text/plain": [
       "<Figure size 360x360 with 1 Axes>"
      ]
     },
     "metadata": {
      "needs_background": "light"
     },
     "output_type": "display_data"
    }
   ],
   "source": [
    "_, ctx = plt.subplots(figsize=[5,5])\n",
    "ax = TensorSeqs(a, m=['b','k'], label = ['x1','x2y']).show(ctx=ctx)"
   ]
  },
  {
   "cell_type": "code",
   "execution_count": 11,
   "metadata": {},
   "outputs": [
    {
     "data": {
      "image/png": "[encoded data removed]",
      "text/plain": [
       "<Figure size 360x360 with 1 Axes>"
      ]
     },
     "metadata": {
      "needs_background": "light"
     },
     "output_type": "display_data"
    }
   ],
   "source": [
    "ax = TensorSeqs(torch.arange(10)[None,:], m=['b','k'], label = ['x1','x2']).show()"
   ]
  },
  {
   "cell_type": "code",
   "execution_count": 12,
   "metadata": {},
   "outputs": [],
   "source": [
    "# export\n",
    "class TensorCon(TSeries):\n",
    "    def show(self, ax = None, ctx=None):\n",
    "        ax = ifnone(ax,ctx)\n",
    "        if ax is None:\n",
    "            _, ax = plt.subplots(figsize=(5,5))\n",
    "        ax.set_title(ax.title._text +f\" {self._meta.get('label','con')}: {str(self)}\")\n",
    "        return ax\n",
    "    \n",
    "class TensorCat(TSeries):\n",
    "    def show(self, ax = None, ctx=None):\n",
    "        ax = ifnone(ax,ctx)\n",
    "        if ax is None:\n",
    "            _, ax = plt.subplots(figsize=(5,5))\n",
    "        ax.set_title(ax.title._text +f\" {self._meta.get('label','cat')}: {str(self)}\")\n",
    "        return ax"
   ]
  },
  {
   "cell_type": "code",
   "execution_count": 13,
   "metadata": {},
   "outputs": [
    {
     "data": {
      "text/plain": [
       "<matplotlib.axes._subplots.AxesSubplot at 0x7f67bb492dd0>"
      ]
     },
     "execution_count": 13,
     "metadata": {},
     "output_type": "execute_result"
    },
    {
     "data": {
      "image/png": "[encoded data removed]",
      "text/plain": [
       "<Figure size 360x360 with 1 Axes>"
      ]
     },
     "metadata": {
      "needs_background": "light"
     },
     "output_type": "display_data"
    }
   ],
   "source": [
    "TensorCon(1).show()"
   ]
  },
  {
   "cell_type": "code",
   "execution_count": 244,
   "metadata": {},
   "outputs": [
    {
     "data": {
      "text/plain": [
       "<matplotlib.axes._subplots.AxesSubplot at 0x7f6858b7c510>"
      ]
     },
     "execution_count": 244,
     "metadata": {},
     "output_type": "execute_result"
    },
    {
     "data": {
      "image/png": "[encoded data removed]",
      "text/plain": [
       "<Figure size 360x360 with 1 Axes>"
      ]
     },
     "metadata": {
      "needs_background": "light"
     },
     "output_type": "display_data"
    }
   ],
   "source": [
    "TensorCat(1).show()"
   ]
  },
  {
   "cell_type": "code",
   "execution_count": 245,
   "metadata": {},
   "outputs": [],
   "source": [
    "# export\n",
    "class MultiTS(Tuple):pass"
   ]
  },
  {
   "cell_type": "markdown",
   "metadata": {},
   "source": [
    "## Utils"
   ]
  },
  {
   "cell_type": "code",
   "execution_count": 15,
   "metadata": {},
   "outputs": [],
   "source": [
    "# export\n",
    "from typing import List\n",
    "def same_size_ts(ts:pd.Series, ts_names:List[str]):    \n",
    "    all_same = [[(ts[c].shape == ts[a].shape) for c in ts_names] for a in ts_names]\n",
    "    mask = np.array(all_same)    \n",
    "    return np.sum(mask) == len(ts_names)**2\n",
    "    "
   ]
  },
  {
   "cell_type": "code",
   "execution_count": 16,
   "metadata": {},
   "outputs": [],
   "source": [
    "df = pd.DataFrame(data={'ts_0':[pd.Series(np.arange(10)),\n",
    "                           pd.Series(np.arange(10))],\n",
    "                   'ts_1':[pd.Series(np.arange(1,11)),\n",
    "                           pd.Series(np.arange(1,12))],\n",
    "                   'var_0':[0.,1.],\n",
    "                   'con_0':[0,1]})\n",
    "for i, row in df.iterrows():\n",
    "    if i == 0:\n",
    "        test_eq(same_size_ts(row,['ts_0','ts_1']),True)\n",
    "    if i == 1:\n",
    "        test_eq(same_size_ts(row,['ts_0','ts_1']),False)"
   ]
  },
  {
   "cell_type": "code",
   "execution_count": 17,
   "metadata": {},
   "outputs": [],
   "source": [
    "# export\n",
    "def get_part_of_ts(x, lookback_id, length, pad=np.mean):\n",
    "    if len(x.shape) == 1:\n",
    "        x = x[None,:]\n",
    "    if isinstance(x[0,0],int):\n",
    "        x = x.astype(float)\n",
    "    if x.shape[-1] < length:\n",
    "        # If the time series is too short, we pad\n",
    "        padding = pad(x, -1)\n",
    "        x = tensor(np.pad(\n",
    "            x, # report issue https://github.com/numpy/numpy/issues/15606\n",
    "            pad_width=((0, 0), (length - x.shape[-1], 0)),\n",
    "            mode='constant',\n",
    "            constant_values=padding\n",
    "        )).float()\n",
    "        assert x.shape == (x.shape[0],length), f\"{x.shape}\\t,{lookback_id}, 'tsshape':{x.shape}\"\n",
    "    else:\n",
    "        x = tensor(x[:,lookback_id:lookback_id + length]).float()\n",
    "    return x\n"
   ]
  },
  {
   "cell_type": "code",
   "execution_count": 18,
   "metadata": {},
   "outputs": [],
   "source": [
    "x = np.arange(10)\n",
    "test_eq(get_part_of_ts(x, 2, 5), torch.arange(2,7.)[None,:])\n",
    "x = np.arange(10)[None,:]\n",
    "test_eq(get_part_of_ts(x, 2, 5), torch.arange(2,7.)[None,:])\n",
    "test_eq(get_part_of_ts(x, 0, 11), tensor([[4., 0, 1, 2, 3, 4, 5, 6, 7, 8, 9]]))\n",
    "x = np.vstack([np.arange(10)]*2)\n",
    "test_eq(get_part_of_ts(x, 2, 5), torch.cat([torch.arange(2,7.)[None,:]]*2))\n",
    "test_eq(get_part_of_ts(x, 0, 11), tensor([[4., 0, 1, 2, 3, 4, 5, 6, 7, 8, 9],\n",
    "                                          [4, 0, 1, 2, 3, 4, 5, 6, 7, 8, 9]]))\n",
    "\n",
    "# report issue https://github.com/numpy/numpy/issues/15606\n",
    "x = np.arange(10)[None,:]\n",
    "# test_eq(get_part_of_ts(x, 0, 11), tensor([[4.5, 0, 1, 2, 3, 4, 5, 6, 7, 8, 9]]))"
   ]
  },
  {
   "cell_type": "markdown",
   "metadata": {},
   "source": [
    "# Dataloader"
   ]
  },
  {
   "cell_type": "code",
   "execution_count": 179,
   "metadata": {},
   "outputs": [],
   "source": [
    "# export\n",
    "@delegates()\n",
    "class DfDataLoader(TfmdDL):\n",
    "    def __init__(self, dataset:pd.DataFrame, y_name:str, horizon:int, lookback=72, step=1, min_seq_len=None, max_std= None, norm=True, **kwargs):\n",
    "        store_attr(self,'horizon,lookback,step,max_std,norm,y_name')\n",
    "        self.min_seq_len = ifnone(min_seq_len, lookback)\n",
    "        self.dataset = dataset\n",
    "        self.con_names, self.cat_names, self.ts_names = L(), L(), L()\n",
    "        for col in dataset.columns:\n",
    "            t = type(dataset[col].iloc[0])\n",
    "            if t is pd.core.series.Series:\n",
    "                self.ts_names.append(col)\n",
    "            elif t is np.ndarray:\n",
    "                self.dataset[col] = pd.Series([pd.Series(o.flatten()) for o in self.dataset[col]])\n",
    "                self.ts_names.append(col)\n",
    "            elif isinstance(dataset[col].iloc[0], int) or t is np.int64:\n",
    "                self.con_names.append(col)\n",
    "            elif isinstance(dataset[col].iloc[0], float):\n",
    "                self.cat_names.append(col)\n",
    "            else:\n",
    "                raise Exception(t) \n",
    "        assert y_name in self.ts_names\n",
    "        self.ts_names.remove(y_name)\n",
    "        n = self.make_ids()\n",
    "        super().__init__(dataset=self.dataset, **kwargs)\n",
    "        self.n = n\n",
    "        self.skipped= []      \n",
    "\n",
    "    @delegates(TfmdDL.new)\n",
    "    def new(self, dataset=None, cls=None, **kwargs):\n",
    "        for k,v in {k:getattr(self,k) for k in ['horizon', 'lookback', 'step']}.items():\n",
    "            if k not in kwargs:\n",
    "                kwargs[k] = v\n",
    "        res = super().new(dataset = dataset,cls= cls, y_name= self.y_name, **kwargs)\n",
    "        res.make_ids()\n",
    "        return res\n",
    "    \n",
    "    def check_std(self, r):  \n",
    "        if self.max_std is not None:\n",
    "            if (r[-1]/(r[0].std()+1e-7)).std() > self.max_std:\n",
    "                if idx not in self.skipped:\n",
    "                    self.skipped.append(idx)\n",
    "                raise SkipItemException()\n",
    "        \n",
    "    def make_ids(self):\n",
    "        \"\"\"Make ids if the sequence is shorter than `min_seq_len`, it will drop that sequence.\"\"\"\n",
    "        # Slice each time series into examples, assigning IDs to each\n",
    "        last_id = 0\n",
    "        n_dropped = 0\n",
    "        n_needs_padding = 0\n",
    "        self._ids = {}\n",
    "        for i, ts in self.dataset.iterrows(): \n",
    "            assert same_size_ts(ts, self.ts_names), f\"row {i} are not all the time series the same length\"\n",
    "            num_examples = (ts[self.y_name].shape[-1] - self.lookback - self.horizon + self.step) // self.step\n",
    "            # Time series shorter than the forecast horizon need to be dropped.\n",
    "            if ts[self.y_name].shape[-1] < self.min_seq_len:\n",
    "                n_dropped += 1\n",
    "                continue\n",
    "            # For short time series zero pad the input\n",
    "            if ts[self.y_name].shape[-1] < self.lookback + self.horizon:\n",
    "                n_needs_padding += 1\n",
    "                num_examples = 1\n",
    "            for j in range(num_examples):\n",
    "                self._ids[last_id + j] = (i, j * self.step)\n",
    "            last_id += num_examples\n",
    "\n",
    "        # Inform user about time series that were too short\n",
    "        if n_dropped > 0:\n",
    "            print(\"Dropped {}/{} time series due to length.\".format(\n",
    "                    n_dropped, len(self.dataset)))\n",
    "\n",
    "        # Inform user about time series that were short\n",
    "        if n_needs_padding > 0:\n",
    "            print(\"Need to pad {}/{} time series due to length.\".format(\n",
    "                    n_needs_padding, len(self.dataset)))\n",
    "        # Store the number of training examples\n",
    "        return int(self._ids.__len__() )\n",
    "    \n",
    "        def shuffle_fn(self, idxs):\n",
    "#         self.dataset.shuffle()        \n",
    "            return idxs\n",
    "\n",
    "    def get_id(self, idx):\n",
    "        ts_id, lookback_id = self._ids[idx]\n",
    "        row = self.dataset.iloc[ts_id, :]\n",
    "        x = get_part_of_ts(row[self.y_name].values, lookback_id, self.lookback)        \n",
    "        y = get_part_of_ts(row[self.y_name].values, lookback_id, self.lookback + self.horizon)\n",
    "        tsx = np.concatenate([o[None,:] for o in row[self.ts_names].to_numpy()])\n",
    "        tsx = get_part_of_ts(tsx, lookback_id, self.lookback + self.horizon)\n",
    "        r = [TensorSeqs(x, label=[self.y_name + '_x'], m=['g']), \n",
    "             TensorSeqs(tsx, label=self.ts_names)]\n",
    "        if len(self.cat_names):\n",
    "            r.append(TensorCon(row[self.cat_names].to_numpy().astype(float),label=self.cat_names))\n",
    "        if len(self.con_names):\n",
    "            # TODO make cat its own type\n",
    "            r.append(TensorCon(row[self.con_names].to_numpy().astype(float),label=self.con_names))            \n",
    "        # TODO make y its own type\n",
    "        r.append(TensorSeqs(y, label=[self.y_name+ '_y'], m=['g']))\n",
    "        return tuple(r)\n",
    "\n",
    "    def create_item(self, idx):\n",
    "        if idx>=self.n:\n",
    "            raise IndexError\n",
    "        r  = self.get_id(idx)\n",
    "        self.check_std(r)              \n",
    "        return MultiTS(r[:-1]),r[-1]\n",
    "    "
   ]
  },
  {
   "cell_type": "markdown",
   "metadata": {},
   "source": [
    "The data will be stored in pandas DataFrames. This can be use for time series by nesting series into a cell. An example is shown below: "
   ]
  },
  {
   "cell_type": "code",
   "execution_count": 180,
   "metadata": {},
   "outputs": [
    {
     "data": {
      "text/html": [
       "<div>\n",
       "<style scoped>\n",
       "    .dataframe tbody tr th:only-of-type {\n",
       "        vertical-align: middle;\n",
       "    }\n",
       "\n",
       "    .dataframe tbody tr th {\n",
       "        vertical-align: top;\n",
       "    }\n",
       "\n",
       "    .dataframe thead th {\n",
       "        text-align: right;\n",
       "    }\n",
       "</style>\n",
       "<table border=\"1\" class=\"dataframe\">\n",
       "  <thead>\n",
       "    <tr style=\"text-align: right;\">\n",
       "      <th></th>\n",
       "      <th>pred</th>\n",
       "      <th>ts_0</th>\n",
       "      <th>ts_1</th>\n",
       "      <th>var_0</th>\n",
       "      <th>con_0</th>\n",
       "    </tr>\n",
       "  </thead>\n",
       "  <tbody>\n",
       "    <tr>\n",
       "      <th>0</th>\n",
       "      <td>[0.0, 1.0, 2.0, 3.0, 4.0, 5.0, 6.0, 7.0, 8.0, 9.0]</td>\n",
       "      <td>[[1.0, 1.0, 1.0, 1.0, 1.0, 1.0, 1.0, 1.0, 1.0, 1.0]]</td>\n",
       "      <td>0    0.668125\n",
       "1    1.974872\n",
       "2    3.291853\n",
       "3    4.155591\n",
       "4    6.443194\n",
       "5    7.113063\n",
       "6    6.184216\n",
       "7    6.572185\n",
       "8    8.599825\n",
       "9    8.926087\n",
       "dtype: float64</td>\n",
       "      <td>0.0</td>\n",
       "      <td>0</td>\n",
       "    </tr>\n",
       "    <tr>\n",
       "      <th>1</th>\n",
       "      <td>[0.0, 1.0, 2.0, 3.0, 4.0, 5.0, 6.0, 7.0, 8.0, 9.0, 10.0, 11.0]</td>\n",
       "      <td>[[1.0, 1.0, 1.0, 1.0, 1.0, 1.0, 1.0, 1.0, 1.0, 1.0, 1.0, 1.0]]</td>\n",
       "      <td>0      0.165612\n",
       "1      2.441811\n",
       "2      3.821304\n",
       "3      4.685412\n",
       "4      5.732396\n",
       "5      7.103337\n",
       "6      5.262820\n",
       "7      8.308854\n",
       "8      9.503755\n",
       "9     10.453626\n",
       "10    11.079857\n",
       "11    10.555611\n",
       "dtype: float64</td>\n",
       "      <td>1.0</td>\n",
       "      <td>1</td>\n",
       "    </tr>\n",
       "  </tbody>\n",
       "</table>\n",
       "</div>"
      ],
      "text/plain": [
       "                                                             pred  \\\n",
       "0              [0.0, 1.0, 2.0, 3.0, 4.0, 5.0, 6.0, 7.0, 8.0, 9.0]   \n",
       "1  [0.0, 1.0, 2.0, 3.0, 4.0, 5.0, 6.0, 7.0, 8.0, 9.0, 10.0, 11.0]   \n",
       "\n",
       "                                                             ts_0  \\\n",
       "0            [[1.0, 1.0, 1.0, 1.0, 1.0, 1.0, 1.0, 1.0, 1.0, 1.0]]   \n",
       "1  [[1.0, 1.0, 1.0, 1.0, 1.0, 1.0, 1.0, 1.0, 1.0, 1.0, 1.0, 1.0]]   \n",
       "\n",
       "                                                                                                                                                                                                             ts_1  \\\n",
       "0                                                      0    0.668125\n",
       "1    1.974872\n",
       "2    3.291853\n",
       "3    4.155591\n",
       "4    6.443194\n",
       "5    7.113063\n",
       "6    6.184216\n",
       "7    6.572185\n",
       "8    8.599825\n",
       "9    8.926087\n",
       "dtype: float64   \n",
       "1  0      0.165612\n",
       "1      2.441811\n",
       "2      3.821304\n",
       "3      4.685412\n",
       "4      5.732396\n",
       "5      7.103337\n",
       "6      5.262820\n",
       "7      8.308854\n",
       "8      9.503755\n",
       "9     10.453626\n",
       "10    11.079857\n",
       "11    10.555611\n",
       "dtype: float64   \n",
       "\n",
       "   var_0  con_0  \n",
       "0    0.0      0  \n",
       "1    1.0      1  "
      ]
     },
     "execution_count": 180,
     "metadata": {},
     "output_type": "execute_result"
    }
   ],
   "source": [
    "df = pd.DataFrame(data={'pred':[np.arange(10.),\n",
    "                           np.arange(12.)],\n",
    "                   'ts_0':[np.ones(10)[None,:],\n",
    "                           np.ones(12)[None,:]],\n",
    "                   'ts_1':[pd.Series(np.arange(1,11)+np.random.randn(10)),\n",
    "                           pd.Series(np.arange(1,13)+np.random.randn(12))],\n",
    "                   'var_0':[0.,1.],\n",
    "                   'con_0':[0,1]})\n",
    "df"
   ]
  },
  {
   "cell_type": "code",
   "execution_count": 181,
   "metadata": {},
   "outputs": [
    {
     "name": "stdout",
     "output_type": "stream",
     "text": [
      "Need to pad 1/2 time series due to length.\n"
     ]
    }
   ],
   "source": [
    "horizon,lookback = 2,9\n",
    "dl = DfDataLoader(df, 'pred', horizon = horizon, lookback = lookback)\n"
   ]
  },
  {
   "cell_type": "code",
   "execution_count": 185,
   "metadata": {},
   "outputs": [
    {
     "name": "stdout",
     "output_type": "stream",
     "text": [
      "{'x': torch.Size([3, 1, 9]), 'tsx': torch.Size([3, 1, 11])}\n",
      "[<class '__main__.TensorSeqs'>, <class '__main__.TensorSeqs'>]\n"
     ]
    },
    {
     "data": {
      "text/plain": [
       "(#1) ['ts_0']"
      ]
     },
     "execution_count": 185,
     "metadata": {},
     "output_type": "execute_result"
    }
   ],
   "source": [
    "for o in dl:\n",
    "    dct = {k:v for k,v in zip(['x','tsx','cat','con','y'],o[0])}\n",
    "    print({k:v.shape for k,v in dct.items()})\n",
    "    test_eq(dct['x'].shape,(3,1,9))\n",
    "    test_eq(type(o), tuple)\n",
    "    print([type(v) for k,v in dct.items()])\n",
    "    break\n",
    "dl.ts_names"
   ]
  },
  {
   "cell_type": "code",
   "execution_count": 192,
   "metadata": {},
   "outputs": [
    {
     "name": "stdout",
     "output_type": "stream",
     "text": [
      "Need to pad 1/2 time series due to length.\n",
      "{'pred': (torch.Size([3, 1, 9]), <class '__main__.TensorSeqs'>), 'ts_0': (torch.Size([3, 1, 11]), <class '__main__.TensorSeqs'>)}\n"
     ]
    }
   ],
   "source": [
    "# hide\n",
    "# without cat or con\n",
    "horizon,lookback = 2,9\n",
    "dl = DfDataLoader(df[['pred','ts_0']], 'pred', horizon = horizon, lookback = lookback)\n",
    "\n",
    "\n",
    "for o in dl:\n",
    "    dct = {k:v for k,v in zip(['pred','ts_0'],o[0])}\n",
    "    print({k:(v.shape,type(v)) for k,v in dct.items()})\n",
    "    test_eq(dct['ts_0'].shape, o[-1].shape)\n",
    "    test_eq(dct['pred'].shape[1:],(1,9))\n",
    "    break\n"
   ]
  },
  {
   "cell_type": "code",
   "execution_count": 193,
   "metadata": {},
   "outputs": [
    {
     "name": "stdout",
     "output_type": "stream",
     "text": [
      "Need to pad 1/2 time series due to length.\n",
      "Need to pad 1/2 time series due to length.\n"
     ]
    },
    {
     "data": {
      "text/plain": [
       "<__main__.DfDataLoader at 0x7f6859f56790>"
      ]
     },
     "execution_count": 193,
     "metadata": {},
     "output_type": "execute_result"
    }
   ],
   "source": [
    "# hide\n",
    "# test self.new\n",
    "dl.new()"
   ]
  },
  {
   "cell_type": "markdown",
   "metadata": {},
   "source": [
    "# Showing"
   ]
  },
  {
   "cell_type": "code",
   "execution_count": 248,
   "metadata": {},
   "outputs": [],
   "source": [
    "# export\n",
    "\n",
    "from fastai2.vision.data import get_grid\n",
    "\n",
    "@typedispatch\n",
    "def show_batch(x:MultiTS, y:TensorSeqs, samples, ctxs=None, max_n=10,rows=None, cols=None, figsize=None, **kwargs):\n",
    "    if ctxs is None: ctxs = get_grid(min(len(samples), max_n), rows=rows, cols=cols, add_vert=1, figsize=figsize)\n",
    "    for i,(ctx, sample) in enumerate(zip(ctxs, samples)):\n",
    "        for o, _type, label, m in zip(sample[0], [TensorSeqs, TensorSeqs, TensorCon, TensorCat], ['x','xts', 'con','cat'],['g','b',None,None]):   \n",
    "            ctx = _type(o, label =label, m =m ).show(ctx=ctx)\n",
    "        ctx = TensorSeqs(y[i],label='y', m='g').show(ctx = ctx)\n",
    "    return ctxs\n"
   ]
  },
  {
   "cell_type": "markdown",
   "metadata": {},
   "source": [
    "# Intergration Example"
   ]
  },
  {
   "cell_type": "code",
   "execution_count": 249,
   "metadata": {},
   "outputs": [],
   "source": [
    "from fastseq.data.external import *"
   ]
  },
  {
   "cell_type": "code",
   "execution_count": 250,
   "metadata": {},
   "outputs": [
    {
     "data": {
      "text/html": [
       "<div>\n",
       "<style scoped>\n",
       "    .dataframe tbody tr th:only-of-type {\n",
       "        vertical-align: middle;\n",
       "    }\n",
       "\n",
       "    .dataframe tbody tr th {\n",
       "        vertical-align: top;\n",
       "    }\n",
       "\n",
       "    .dataframe thead th {\n",
       "        text-align: right;\n",
       "    }\n",
       "</style>\n",
       "<table border=\"1\" class=\"dataframe\">\n",
       "  <thead>\n",
       "    <tr style=\"text-align: right;\">\n",
       "      <th></th>\n",
       "      <th>x</th>\n",
       "      <th>weather</th>\n",
       "      <th>city</th>\n",
       "      <th>cont</th>\n",
       "    </tr>\n",
       "  </thead>\n",
       "  <tbody>\n",
       "    <tr>\n",
       "      <th>0</th>\n",
       "      <td>[[-0.8024669792693879, -0.8789204584461828, -1.1298152429390844, -0.838628338580094, 0.14368431400644696, -0.23326871405554112, -0.40596991851105296, -0.2035114791824274, 0.17910751690866467, 0.29472294706823676, -0.21460001024673686, -1.2763653462515334, -1.7415549666480419, -1.2759680439163588, -0.32844149997058725, 0.05805962763259887, 1.584574269409853, 1.898472449888363, 2.0853642670163093, 2.1577751464554593, 1.98324193319995, 0.9761877291687643, -0.27634921894356484, -0.7111854244799178, -0.6203103181951914, -0.026621142648322348, 0.10260786066020337, -0.37120927614428073, -0.711319...</td>\n",
       "      <td>[[5.056660134883732, 3.9536588420150833, 3.1583002673912204, 3.518706568163369, 3.720198292669317, 2.3452762648156877, 0.2683893006953184, -0.18473851952156028, 1.6316410113901456, 3.55462258640143, 3.2140057732603537, 1.0252588229406865, -0.38641277943007446, 0.44552012316640377, 2.1248468459277228, 2.4666962375111603, 5.056660134883732, 3.9536588420150833, 3.1583002673912204, 3.518706568163369, 3.720198292669317, 2.3452762648156877, 0.2683893006953184, -0.18473851952156028, 1.6316410113901456, 3.55462258640143, 3.2140057732603537, 1.0252588229406865, -0.38641277943007446, 0.4455201231664...</td>\n",
       "      <td>0</td>\n",
       "      <td>0.575178</td>\n",
       "    </tr>\n",
       "    <tr>\n",
       "      <th>1</th>\n",
       "      <td>[[0.6584180321179238, 0.5985199424353711, 0.9341134661820457, 1.4858938262116717, 1.6048347939503669, 1.514506787859161, 1.2142103144856773, 1.2742334144403644, 0.9771003442210596, 1.0088357770124436, 1.0040262747763162, 1.0044641395483405, 0.421120828286073, 0.04661922040235773, -0.49746483705133754, -0.9583028253501954, -0.6870994653083689, -0.6280466097907583, -0.2758925409632559, -0.08159271442133446, 0.05909756715258412, -0.16269683250029268, -0.2564412494944712, -0.7086699255319898, -0.9491945992755426, -0.8104330111738214, -0.8042715830506564, -0.6570377598020841, -1.003602469400799...</td>\n",
       "      <td>[[-0.15408773622635175, 0.45211777588578483, 2.0115603170813823, 3.422092614397859, 3.680107079070976, 2.5446618752312578, 0.6969214781775466, -0.7105962794467429, -0.8166859605485297, 0.37865243487218014, 2.014213469722249, 2.93747931135841, 2.4672854844816925, 0.8445738249616601, -0.9270480784375406, -1.7454329527532642, -0.15408773622635175, 0.45211777588578483, 2.0115603170813823, 3.422092614397859, 3.680107079070976, 2.5446618752312578, 0.6969214781775466, -0.7105962794467429, -0.8166859605485297, 0.37865243487218014, 2.014213469722249, 2.93747931135841, 2.4672854844816925, 0.84457382...</td>\n",
       "      <td>0</td>\n",
       "      <td>1.565212</td>\n",
       "    </tr>\n",
       "    <tr>\n",
       "      <th>2</th>\n",
       "      <td>[[-0.4540391522330465, -0.6986502905060152, -0.33978334637203794, -1.0980574837245591, -1.4961565787697446, -2.0754612646513118, -1.993056938343663, -1.0312848841820426, -0.3211491970228363, 0.2557774959740496, -0.08633379164269124, -0.5158150244998599, -0.5217203657671015, -0.178152555188975, -0.5932236484962977, -0.6580934420114888, -0.8638031206446888, -0.37229942700452, 0.24563620165476477, 0.8213461843632616, 0.8934223894034833, 0.6981786139320755, 0.3104917034349309, 1.1067722496004493, 1.305263256688293, 0.8084786925488624, 0.26947558029513013, 0.3274516135895125, 1.1764740430520735...</td>\n",
       "      <td>[[4.5801333624720595, 4.676394098753349, 5.659302069422344, 6.11512167338171, 4.908011793555525, 3.101735974399693, 2.906779862689573, 4.831844743713669, 6.83973324508663, 6.767540059779465, 4.928010335150714, 3.5536351170557317, 3.9335830599397044, 5.053120600271459, 5.337198718662452, 4.862804022018512, 4.5801333624720595, 4.676394098753349, 5.659302069422344, 6.11512167338171, 4.908011793555525, 3.101735974399693, 2.906779862689573, 4.831844743713669, 6.83973324508663, 6.767540059779465, 4.928010335150714, 3.5536351170557317, 3.9335830599397044, 5.053120600271459, 5.337198718662452, 4.8...</td>\n",
       "      <td>0</td>\n",
       "      <td>-0.149407</td>\n",
       "    </tr>\n",
       "    <tr>\n",
       "      <th>3</th>\n",
       "      <td>[[0.4705903199020001, 0.2678942547271723, 0.3062781654803187, 0.7040626223738288, 1.1238685220516318, 1.3028633374640015, 1.5706129546771224, 1.7622996496096006, 1.9369455148456476, 1.930481301723255, 1.1528044741189476, 0.2416387817094305, -0.1997793717665788, -0.33354828532860087, -0.10122662929761075, -0.2831373999744088, 0.03051228119243043, -0.02338001028108243, -0.11652452532015609, 0.15912746698343228, 0.040653013759003605, -0.6337340144624832, -1.0123258123686723, -1.192114568488443, -1.1140192887549456, -1.0602553011246878, -1.078975314033723, -1.1964340996918903, -1.1732879325373...</td>\n",
       "      <td>[[8.628819825148259, 8.012991440312577, 8.760125178839557, 10.50705966036888, 11.519425904260935, 10.955767529087803, 9.918821758598892, 9.860420349603146, 10.556686266803966, 10.454920669358419, 8.906310692775865, 7.18390064069381, 6.858045271456117, 7.751112769234995, 8.276375512019339, 7.676601738919091, 8.628819825148259, 8.012991440312577, 8.760125178839557, 10.50705966036888, 11.519425904260935, 10.955767529087803, 9.918821758598892, 9.860420349603146, 10.556686266803966, 10.454920669358419, 8.906310692775865, 7.18390064069381, 6.858045271456117, 7.751112769234995, 8.276375512019339,...</td>\n",
       "      <td>0</td>\n",
       "      <td>1.382705</td>\n",
       "    </tr>\n",
       "    <tr>\n",
       "      <th>4</th>\n",
       "      <td>[[-0.7399278050210384, -1.3896627705850617, -1.326481418134578, -0.6954303513579214, -0.42734562894419514, -0.5396605229863312, -0.11892492178561646, 0.2550584765928947, 0.2919658058816111, 0.18191409588237234, -0.29508599553672604, -0.6073116679049493, -0.7845523344913371, -0.27281461038443294, 0.011802472666026884, 0.6330161994984516, 0.5830131240925092, 0.5051243953984326, 1.1388753393974342, 0.7793233192692783, 0.203892310573293, -0.5206104829347847, -1.615947333683916, -1.5045715099497035, -1.127398068376264, -0.6086492703191277, -0.10514301858395365, 0.3672430116003865, 1.32780415868...</td>\n",
       "      <td>[[4.688700246219944, 4.132723937268328, 4.741789108063999, 6.046991453434767, 6.4709127696853885, 5.523966478002768, 4.486276846473558, 4.624817382114283, 5.431908389393031, 5.354851027466868, 4.028635092080464, 2.9111631366637485, 3.395402875223369, 4.951852689316642, 5.836834179988153, 5.398858511159698, 4.688700246219944, 4.132723937268328, 4.741789108063999, 6.046991453434767, 6.4709127696853885, 5.523966478002768, 4.486276846473558, 4.624817382114283, 5.431908389393031, 5.354851027466868, 4.028635092080464, 2.9111631366637485, 3.395402875223369, 4.951852689316642, 5.836834179988153, 5...</td>\n",
       "      <td>0</td>\n",
       "      <td>-0.229210</td>\n",
       "    </tr>\n",
       "  </tbody>\n",
       "</table>\n",
       "</div>"
      ],
      "text/plain": [
       "                                                                                                                                                                                                                                                                                                                                                                                                                                                                                                                                                                                                                         x  \\\n",
       "0  [[-0.8024669792693879, -0.8789204584461828, -1.1298152429390844, -0.838628338580094, 0.14368431400644696, -0.23326871405554112, -0.40596991851105296, -0.2035114791824274, 0.17910751690866467, 0.29472294706823676, -0.21460001024673686, -1.2763653462515334, -1.7415549666480419, -1.2759680439163588, -0.32844149997058725, 0.05805962763259887, 1.584574269409853, 1.898472449888363, 2.0853642670163093, 2.1577751464554593, 1.98324193319995, 0.9761877291687643, -0.27634921894356484, -0.7111854244799178, -0.6203103181951914, -0.026621142648322348, 0.10260786066020337, -0.37120927614428073, -0.711319...   \n",
       "1  [[0.6584180321179238, 0.5985199424353711, 0.9341134661820457, 1.4858938262116717, 1.6048347939503669, 1.514506787859161, 1.2142103144856773, 1.2742334144403644, 0.9771003442210596, 1.0088357770124436, 1.0040262747763162, 1.0044641395483405, 0.421120828286073, 0.04661922040235773, -0.49746483705133754, -0.9583028253501954, -0.6870994653083689, -0.6280466097907583, -0.2758925409632559, -0.08159271442133446, 0.05909756715258412, -0.16269683250029268, -0.2564412494944712, -0.7086699255319898, -0.9491945992755426, -0.8104330111738214, -0.8042715830506564, -0.6570377598020841, -1.003602469400799...   \n",
       "2  [[-0.4540391522330465, -0.6986502905060152, -0.33978334637203794, -1.0980574837245591, -1.4961565787697446, -2.0754612646513118, -1.993056938343663, -1.0312848841820426, -0.3211491970228363, 0.2557774959740496, -0.08633379164269124, -0.5158150244998599, -0.5217203657671015, -0.178152555188975, -0.5932236484962977, -0.6580934420114888, -0.8638031206446888, -0.37229942700452, 0.24563620165476477, 0.8213461843632616, 0.8934223894034833, 0.6981786139320755, 0.3104917034349309, 1.1067722496004493, 1.305263256688293, 0.8084786925488624, 0.26947558029513013, 0.3274516135895125, 1.1764740430520735...   \n",
       "3  [[0.4705903199020001, 0.2678942547271723, 0.3062781654803187, 0.7040626223738288, 1.1238685220516318, 1.3028633374640015, 1.5706129546771224, 1.7622996496096006, 1.9369455148456476, 1.930481301723255, 1.1528044741189476, 0.2416387817094305, -0.1997793717665788, -0.33354828532860087, -0.10122662929761075, -0.2831373999744088, 0.03051228119243043, -0.02338001028108243, -0.11652452532015609, 0.15912746698343228, 0.040653013759003605, -0.6337340144624832, -1.0123258123686723, -1.192114568488443, -1.1140192887549456, -1.0602553011246878, -1.078975314033723, -1.1964340996918903, -1.1732879325373...   \n",
       "4  [[-0.7399278050210384, -1.3896627705850617, -1.326481418134578, -0.6954303513579214, -0.42734562894419514, -0.5396605229863312, -0.11892492178561646, 0.2550584765928947, 0.2919658058816111, 0.18191409588237234, -0.29508599553672604, -0.6073116679049493, -0.7845523344913371, -0.27281461038443294, 0.011802472666026884, 0.6330161994984516, 0.5830131240925092, 0.5051243953984326, 1.1388753393974342, 0.7793233192692783, 0.203892310573293, -0.5206104829347847, -1.615947333683916, -1.5045715099497035, -1.127398068376264, -0.6086492703191277, -0.10514301858395365, 0.3672430116003865, 1.32780415868...   \n",
       "\n",
       "                                                                                                                                                                                                                                                                                                                                                                                                                                                                                                                                                                                                                   weather  \\\n",
       "0  [[5.056660134883732, 3.9536588420150833, 3.1583002673912204, 3.518706568163369, 3.720198292669317, 2.3452762648156877, 0.2683893006953184, -0.18473851952156028, 1.6316410113901456, 3.55462258640143, 3.2140057732603537, 1.0252588229406865, -0.38641277943007446, 0.44552012316640377, 2.1248468459277228, 2.4666962375111603, 5.056660134883732, 3.9536588420150833, 3.1583002673912204, 3.518706568163369, 3.720198292669317, 2.3452762648156877, 0.2683893006953184, -0.18473851952156028, 1.6316410113901456, 3.55462258640143, 3.2140057732603537, 1.0252588229406865, -0.38641277943007446, 0.4455201231664...   \n",
       "1  [[-0.15408773622635175, 0.45211777588578483, 2.0115603170813823, 3.422092614397859, 3.680107079070976, 2.5446618752312578, 0.6969214781775466, -0.7105962794467429, -0.8166859605485297, 0.37865243487218014, 2.014213469722249, 2.93747931135841, 2.4672854844816925, 0.8445738249616601, -0.9270480784375406, -1.7454329527532642, -0.15408773622635175, 0.45211777588578483, 2.0115603170813823, 3.422092614397859, 3.680107079070976, 2.5446618752312578, 0.6969214781775466, -0.7105962794467429, -0.8166859605485297, 0.37865243487218014, 2.014213469722249, 2.93747931135841, 2.4672854844816925, 0.84457382...   \n",
       "2  [[4.5801333624720595, 4.676394098753349, 5.659302069422344, 6.11512167338171, 4.908011793555525, 3.101735974399693, 2.906779862689573, 4.831844743713669, 6.83973324508663, 6.767540059779465, 4.928010335150714, 3.5536351170557317, 3.9335830599397044, 5.053120600271459, 5.337198718662452, 4.862804022018512, 4.5801333624720595, 4.676394098753349, 5.659302069422344, 6.11512167338171, 4.908011793555525, 3.101735974399693, 2.906779862689573, 4.831844743713669, 6.83973324508663, 6.767540059779465, 4.928010335150714, 3.5536351170557317, 3.9335830599397044, 5.053120600271459, 5.337198718662452, 4.8...   \n",
       "3  [[8.628819825148259, 8.012991440312577, 8.760125178839557, 10.50705966036888, 11.519425904260935, 10.955767529087803, 9.918821758598892, 9.860420349603146, 10.556686266803966, 10.454920669358419, 8.906310692775865, 7.18390064069381, 6.858045271456117, 7.751112769234995, 8.276375512019339, 7.676601738919091, 8.628819825148259, 8.012991440312577, 8.760125178839557, 10.50705966036888, 11.519425904260935, 10.955767529087803, 9.918821758598892, 9.860420349603146, 10.556686266803966, 10.454920669358419, 8.906310692775865, 7.18390064069381, 6.858045271456117, 7.751112769234995, 8.276375512019339,...   \n",
       "4  [[4.688700246219944, 4.132723937268328, 4.741789108063999, 6.046991453434767, 6.4709127696853885, 5.523966478002768, 4.486276846473558, 4.624817382114283, 5.431908389393031, 5.354851027466868, 4.028635092080464, 2.9111631366637485, 3.395402875223369, 4.951852689316642, 5.836834179988153, 5.398858511159698, 4.688700246219944, 4.132723937268328, 4.741789108063999, 6.046991453434767, 6.4709127696853885, 5.523966478002768, 4.486276846473558, 4.624817382114283, 5.431908389393031, 5.354851027466868, 4.028635092080464, 2.9111631366637485, 3.395402875223369, 4.951852689316642, 5.836834179988153, 5...   \n",
       "\n",
       "   city      cont  \n",
       "0     0  0.575178  \n",
       "1     0  1.565212  \n",
       "2     0 -0.149407  \n",
       "3     0  1.382705  \n",
       "4     0 -0.229210  "
      ]
     },
     "execution_count": 250,
     "metadata": {},
     "output_type": "execute_result"
    }
   ],
   "source": [
    "horizon,lookback = 5,10\n",
    "df = dummy_data_generator_multi(32)\n",
    "df.head()"
   ]
  },
  {
   "cell_type": "code",
   "execution_count": 252,
   "metadata": {},
   "outputs": [
    {
     "data": {
      "image/png": "[encoded data removed]",
      "text/plain": [
       "<Figure size 648x720 with 9 Axes>"
      ]
     },
     "metadata": {
      "needs_background": "light"
     },
     "output_type": "display_data"
    }
   ],
   "source": [
    "dl = DfDataLoader(df, 'x', horizon = horizon, lookback = lookback, step=3)\n",
    "dl.show_batch(max_n=9)"
   ]
  },
  {
   "cell_type": "code",
   "execution_count": 246,
   "metadata": {},
   "outputs": [
    {
     "name": "stdout",
     "output_type": "stream",
     "text": [
      "Converted 00_core.ipynb.\n",
      "Converted 01_data.external.ipynb.\n",
      "Converted 020_data.load_pd.ipynb.\n",
      "Converted 02_data.load.ipynb.\n",
      "Converted 03_data.core.ipynb.\n",
      "Converted 03_data.core_pd.ipynb.\n",
      "Converted 050_nbeats.models_multi.ipynb.\n",
      "Converted 05_nbeats.models.ipynb.\n",
      "Converted 06_nbeats.callbacks.ipynb.\n",
      "Converted 07_nbeats.learner.ipynb.\n",
      "Converted 08_nbeats.interpret.ipynb.\n",
      "Converted 11_metrics.ipynb.\n",
      "Converted 12_compare.ipynb.\n",
      "Converted index.ipynb.\n"
     ]
    }
   ],
   "source": [
    "# hide\n",
    "from nbdev.export import *\n",
    "\n",
    "notebook2script()"
   ]
  },
  {
   "cell_type": "code",
   "execution_count": null,
   "metadata": {},
   "outputs": [],
   "source": []
  },
  {
   "cell_type": "code",
   "execution_count": null,
   "metadata": {},
   "outputs": [],
   "source": []
  }
 ],
 "metadata": {
  "kernelspec": {
   "display_name": "env37",
   "language": "python",
   "name": "env37"
  },
  "language_info": {
   "codemirror_mode": {
    "name": "ipython",
    "version": 3
   },
   "file_extension": ".py",
   "mimetype": "text/x-python",
   "name": "python",
   "nbconvert_exporter": "python",
   "pygments_lexer": "ipython3",
   "version": "3.7.4"
  }
 },
 "nbformat": 4,
 "nbformat_minor": 4
}
