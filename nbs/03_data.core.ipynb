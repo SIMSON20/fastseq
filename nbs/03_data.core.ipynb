{
 "cells": [
  {
   "cell_type": "code",
   "execution_count": 1,
   "metadata": {},
   "outputs": [],
   "source": [
    "# default_exp data.core "
   ]
  },
  {
   "cell_type": "code",
   "execution_count": 1,
   "metadata": {},
   "outputs": [
    {
     "name": "stderr",
     "output_type": "stream",
     "text": [
      "/home/tako/dev/env37/lib/python3.7/site-packages/pandas/compat/__init__.py:117: UserWarning: Could not import the lzma module. Your installed Python is incomplete. Attempting to use lzma compression will result in a RuntimeError.\n",
      "  warnings.warn(msg)\n"
     ]
    }
   ],
   "source": [
    "# hide\n",
    "import sys\n",
    "\n",
    "sys.path.append(\"..\")\n",
    "import pandas as pd"
   ]
  },
  {
   "cell_type": "code",
   "execution_count": 2,
   "metadata": {},
   "outputs": [],
   "source": [
    "# hide\n",
    "from nbdev.showdoc import *"
   ]
  },
  {
   "cell_type": "markdown",
   "metadata": {},
   "source": [
    "# Data Core\n",
    "\n",
    "> Using the fastai2 `Datasets` to make an time series dataset.\n",
    "\n",
    "For now all is univerable but in the future I would also like to add multiplevariable. \n"
   ]
  },
  {
   "cell_type": "code",
   "execution_count": 3,
   "metadata": {},
   "outputs": [],
   "source": [
    "# export\n",
    "from fastseq.data.load import *\n",
    "from fastseq.core import *\n",
    "from fastcore.all import *\n",
    "from fastcore.imports import *\n",
    "from fastai2.basics import *\n",
    "from fastai2.data.transforms import *\n",
    "from fastai2.tabular.core import *"
   ]
  },
  {
   "cell_type": "code",
   "execution_count": 4,
   "metadata": {},
   "outputs": [],
   "source": [
    "# hide\n",
    "# just check previous nb still works. Sometimes import errors\n",
    "horizon,lookback = 2,5\n",
    "ints = L(np.arange(7)[None,:],np.arange(7,15)[None,:],np.arange(15,25)[None,:]).map(tensor)\n",
    "dl = TSDataLoader(ints, horizon = horizon, lookback = lookback, bs=2)\n",
    "test_eq(dl.n, len(dl._ids))\n",
    "test_eq(dl.n, 7)\n",
    "test_eq(len(dl),4)    \n",
    "\n",
    "for o in dl:pass"
   ]
  },
  {
   "cell_type": "markdown",
   "metadata": {},
   "source": [
    "# Transforms\n",
    "\n",
    "> Basic function to process time-series data before assembling it in a `DataLoaders`."
   ]
  },
  {
   "cell_type": "code",
   "execution_count": 31,
   "metadata": {},
   "outputs": [],
   "source": [
    "# export\n",
    "class NormalizeTS(ItemTransform):\n",
    "    \"Normalize the Time-Series.\"\n",
    "    def __init__(self, verbose=False, make_ones=True, eps=1e-7, mean = None):\n",
    "        \"\"\"\n",
    "        NOTE: is not used anymore due to problems when changing sizes.\n",
    "\n",
    "        `make_ones` will make the std 1 if the std is smaller than `10*eps`.\n",
    "        This is for blok seqences to not magnify the `y` part of the data.\n",
    "\n",
    "        `mean` will set a mean instead of the mean of the x value.\n",
    "        \"\"\"\n",
    "        store_attr(self,'verbose, make_ones, eps, mean')\n",
    "        self.m, self.s = 0, 0\n",
    "\n",
    "    def encodes(self, o):\n",
    "        self.m, self.s = torch.mean(o[0],-1,keepdim=True), o[0].std(-1,keepdim=True) +self.eps\n",
    "        if self.verbose:\n",
    "            print('encodes',type(o),[a.shape for a in o], self.m,self.s)\n",
    "        if self.mean:\n",
    "            self.m = o[0][self.mean]\n",
    "        if self.make_ones:\n",
    "            self.s[self.s < self.eps*10] = 1\n",
    "            if self.verbose:\n",
    "                print(o[0])\n",
    "                print(f\"made {self.s < self.eps*10} to ones due to setting `make_ones`\")\n",
    "                print(f\"m:{self.m}\\n s:{self.s}\")\n",
    "        return Tuple([(o[i]-self.m)/self.s for i in range(len(o))])\n",
    "\n",
    "    def decodes(self, o):\n",
    "        if o[0].is_cuda:\n",
    "            self.m, self.s = to_device(self.m,'cuda'), to_device(self.s,'cuda')\n",
    "            if sum([a.is_cuda for a in o]) != len(o):\n",
    "                o = Tuple([to_device(a,'cuda') for a in o])\n",
    "        else:\n",
    "            if sum([a.is_cuda==False for a in o]) != len(o):\n",
    "                o = Tuple([to_cpu(a) for a in o])\n",
    "            self.m, self.s = to_cpu(self.m), to_cpu(self.s)\n",
    "        if self.verbose:\n",
    "            print('decodes',type(o),[a.shape for a in o], 'shape m/s',self.m.shape)\n",
    "        return Tuple([(o[i]*self.s)+self.m for i in range(len(o))])"
   ]
  },
  {
   "cell_type": "code",
   "execution_count": 32,
   "metadata": {},
   "outputs": [
    {
     "data": {
      "image/png": "[encoded data removed]",
      "text/plain": [
       "<Figure size 360x360 with 1 Axes>"
      ]
     },
     "metadata": {
      "needs_background": "light"
     },
     "output_type": "display_data"
    },
    {
     "data": {
      "image/png": "[encoded data removed]",
      "text/plain": [
       "<Figure size 216x288 with 1 Axes>"
      ]
     },
     "metadata": {
      "needs_background": "light"
     },
     "output_type": "display_data"
    }
   ],
   "source": [
    "# hide\n",
    "# testing the flatline with a bumb (block sequence)\n",
    "from fastseq.data.load import *\n",
    "horizon,lookback = 2,5\n",
    "a = np.ones(7)[None,:]\n",
    "a[:,-3:] = 1000\n",
    "ints = L(a).map(tensor)\n",
    "\n",
    "dl = TSDataLoader(ints, horizon = horizon, lookback = lookback, norm=False, bs=16, after_batch=NormalizeTS(), min_seq_len=6, num_workers = 1)\n",
    "for o in dl:\n",
    "    test_close(o[0].mean(),0)\n",
    "    test_close(o[0].std(),1,.5)\n",
    "    test_eq(type(o),Tuple)\n",
    "    o[0].show()\n",
    "    o_new = dl.after_batch[0].decode(o)\n",
    "    test_eq(o_new[0].mean()!=0, True)\n",
    "    test_eq(o_new[0].std()!=1, True)\n",
    "    test_eq(type(o_new),Tuple)\n",
    "    \n",
    "test_eq(type(dl.one_batch()),Tuple)\n",
    "\n",
    "dl.show_batch()"
   ]
  },
  {
   "cell_type": "code",
   "execution_count": 8,
   "metadata": {},
   "outputs": [
    {
     "data": {
      "image/png": "[encoded data removed]",
      "text/plain": [
       "<Figure size 432x504 with 4 Axes>"
      ]
     },
     "metadata": {
      "needs_background": "light"
     },
     "output_type": "display_data"
    }
   ],
   "source": [
    "# hide\n",
    "from fastseq.data.load import *\n",
    "horizon,lookback = 2,5\n",
    "ints = L( np.arange(7)[None,:]*1+100, np.arange(8)[None,:]*100+1,).map(tensor)\n",
    "dl = TSDataLoader(ints, horizon = horizon, lookback = lookback, bs=16, norm=False, after_batch=NormalizeTS(), min_seq_len=6, num_workers = 1)\n",
    "for o in dl:\n",
    "    test_close(o[0].mean(),0)\n",
    "    test_close(o[0].std(),1,.5)\n",
    "    test_eq(type(o),Tuple)\n",
    "    \n",
    "    o_new = dl.after_batch[0].decode(o)\n",
    "    test_eq(o_new[0].mean()!=0, True)\n",
    "    test_eq(o_new[0].std()!=1, True)\n",
    "    test_eq(type(o_new),Tuple)\n",
    "    \n",
    "test_eq(type(dl.one_batch()),Tuple)\n",
    "\n",
    "dl.show_batch()"
   ]
  },
  {
   "cell_type": "code",
   "execution_count": 9,
   "metadata": {},
   "outputs": [
    {
     "data": {
      "text/plain": [
       "[<matplotlib.lines.Line2D at 0x7f27de1ecb50>]"
      ]
     },
     "execution_count": 9,
     "metadata": {},
     "output_type": "execute_result"
    },
    {
     "data": {
      "image/png": "[encoded data removed]",
      "text/plain": [
       "<Figure size 432x288 with 3 Axes>"
      ]
     },
     "metadata": {
      "needs_background": "light"
     },
     "output_type": "display_data"
    }
   ],
   "source": [
    "norm = NormalizeTS()\n",
    "o = (TSTensorSeq(torch.arange(10.)),TSTensorSeqy( torch.arange(10,15),x_len=10))\n",
    "o_en = norm(o)\n",
    "test_eq(o_en[0].mean(), 0)\n",
    "test_eq(o_en[1].mean()==0, False)\n",
    "dec_o = norm.decode(o_en)\n",
    "test_eq(dec_o[0],o[0])\n",
    "\n",
    "f,axs = plt.subplots(1,3, sharey=True)\n",
    "ax = o[0].show(axs[0])\n",
    "o[1].show(ax)\n",
    "ax.plot([0,15],[0,0],'--')\n",
    "ax = o_en[0].show(axs[1])\n",
    "o_en[1].show(ax)\n",
    "ax.plot([0,15],[0,0],'--')\n",
    "ax = dec_o[0].show(axs[2])\n",
    "dec_o[1].show(ax)\n",
    "ax.plot([0,15],[0,0],'--')\n"
   ]
  },
  {
   "cell_type": "code",
   "execution_count": 10,
   "metadata": {},
   "outputs": [
    {
     "data": {
      "text/plain": [
       "[<matplotlib.lines.Line2D at 0x7f27de054110>]"
      ]
     },
     "execution_count": 10,
     "metadata": {},
     "output_type": "execute_result"
    },
    {
     "data": {
      "image/png": "[encoded data removed]",
      "text/plain": [
       "<Figure size 432x288 with 3 Axes>"
      ]
     },
     "metadata": {
      "needs_background": "light"
     },
     "output_type": "display_data"
    }
   ],
   "source": [
    "norm = NormalizeTS(mean=9)\n",
    "o = (TSTensorSeq(torch.arange(10.)),TSTensorSeqy( torch.arange(10,15),x_len=10))\n",
    "o_en = norm(o)\n",
    "test_eq(o_en[0][-1], 0)\n",
    "test_eq(o_en[1][-1]==0, False)\n",
    "dec_o = norm.decode(o_en)\n",
    "test_eq(dec_o[0],o[0])\n",
    "\n",
    "f,axs = plt.subplots(1,3, sharey=True)\n",
    "ax = o[0].show(axs[0])\n",
    "o[1].show(ax)\n",
    "ax.plot([0,15],[0,0],'--')\n",
    "ax = o_en[0].show(axs[1])\n",
    "o_en[1].show(ax)\n",
    "ax.plot([0,15],[0,0],'--')\n",
    "ax = dec_o[0].show(axs[2])\n",
    "dec_o[1].show(ax)\n",
    "ax.plot([0,15],[0,0],'--')\n"
   ]
  },
  {
   "cell_type": "code",
   "execution_count": 11,
   "metadata": {},
   "outputs": [
    {
     "data": {
      "image/png": "[encoded data removed]",
      "text/plain": [
       "<Figure size 432x504 with 4 Axes>"
      ]
     },
     "metadata": {
      "needs_background": "light"
     },
     "output_type": "display_data"
    }
   ],
   "source": [
    "# hide\n",
    "if torch.cuda.is_available():\n",
    "    from fastseq.data.load import *\n",
    "    horizon,lookback = 2,5\n",
    "    ints = L(tensor(o) for o in  [ np.arange(7)[None,:]*1+100, np.arange(8)[None,:]*100+1,])\n",
    "\n",
    "    dl = TSDataLoader(ints, horizon = horizon, lookback = lookback, bs=16, after_batch=NormalizeTS(), num_workers = 1, device=torch.device('cuda'))    \n",
    "    for o in dl:\n",
    "#         test if data on cuda will will stay there\n",
    "        test_eq(o[0].is_cuda, True)\n",
    "        dec_o = dl.after_batch[0].decode(o)\n",
    "        test_eq(dec_o[0].is_cuda, True)  \n",
    "        \n",
    "#         test if o is already moved to cpu\n",
    "        dec_o = dl.after_batch[0].decode(to_cpu(o))\n",
    "        test_eq(dec_o[0].is_cuda, False)  \n",
    "        \n",
    "        \n",
    "    dl.show_batch()"
   ]
  },
  {
   "cell_type": "code",
   "execution_count": 12,
   "metadata": {},
   "outputs": [],
   "source": [
    "# hide\n",
    "# test if o is cuda but m,s are on cpu\n",
    "if torch.cuda.is_available():\n",
    "    norm = NormalizeTS()\n",
    "    o = (TSTensorSeq(torch.arange(10.)),TSTensorSeqy( torch.arange(10.,15),x_len=10))\n",
    "    o_en = norm(o)\n",
    "    test_eq(o_en[0].mean(), 0)\n",
    "    test_eq(o_en[1].mean()==0, False)\n",
    "    dec_o = norm.decode(to_device(o_en))\n",
    "    test_eq(dec_o[0],to_device(o[0]))\n",
    "\n",
    "    # test if o_enc[0] and o_enc[1] are on different devices\n",
    "    o_enc = Tuple([to_device(o_en[0],'cpu'),to_device(o_en[1],'cuda'),])\n",
    "    dec_o = norm.decode(o_enc)\n",
    "    test_eq(dec_o[0],o[0])\n",
    "\n",
    "    o_enc = Tuple([to_device(o_en[0],'cuda'),to_device(o_en[1],'cpu'),])\n",
    "    dec_o = norm.decode(o_enc)\n",
    "    test_eq(dec_o[0],to_device(o[0]))\n",
    "    \n",
    "    norm.m, norm.s = to_device(norm.m), to_device(norm.s)\n",
    "    o_enc = Tuple([to_device(o_en[0],'cuda'),to_device(o_en[1],'cpu'),])\n",
    "    dec_o = norm.decode(o_enc)\n",
    "    test_eq(dec_o[0],to_device(o[0]))"
   ]
  },
  {
   "cell_type": "markdown",
   "metadata": {},
   "source": [
    "# TSDataLoaders"
   ]
  },
  {
   "cell_type": "markdown",
   "metadata": {},
   "source": [
    "## Utils"
   ]
  },
  {
   "cell_type": "code",
   "execution_count": 13,
   "metadata": {},
   "outputs": [],
   "source": [
    "# export \n",
    "def concat_ts_list(train, val):\n",
    "    items=L()\n",
    "    assert len(train) == len(val)\n",
    "    for t, v in zip(train, val):\n",
    "        items.append(np.concatenate([t,v],1))\n",
    "    return items"
   ]
  },
  {
   "cell_type": "code",
   "execution_count": 14,
   "metadata": {},
   "outputs": [],
   "source": [
    "a = [np.random.randn(3,10)]*50\n",
    "b = [np.random.randn(3,5)]*50\n",
    "r = concat_ts_list(a,b)\n",
    "test_eq(r[0].shape,(3,15))\n",
    "test_eq(r[0], np.concatenate([a[0],b[0]],1))"
   ]
  },
  {
   "cell_type": "code",
   "execution_count": 15,
   "metadata": {},
   "outputs": [],
   "source": [
    "# export \n",
    "def make_test(items:L(), horizon:int, lookback:int, keep_lookback:bool = False):\n",
    "    \"\"\"Splits the every ts in `items` based on `horizon + lookback`*, where the last part will go into `val` and the first in `train`.\n",
    "\n",
    "    *if `keep_lookback`:\n",
    "        it will only remove `horizon` from `train` otherwise also lookback.\n",
    "    \"\"\"\n",
    "    train, val = L(), L()\n",
    "    for ts in items:\n",
    "        val.append(ts[:, -(horizon+lookback):])\n",
    "        if keep_lookback:\n",
    "            train.append(ts[:, :-(horizon)])\n",
    "        else:\n",
    "            train.append(ts[:, :-(horizon+lookback)])\n",
    "\n",
    "    return train, val\n",
    "\n",
    "def make_test_pct(items:L(), pct:float):\n",
    "    \"\"\"Splits the every ts in `items` based on `pct`(percentage) of the length of the timeserie, where the last part will go into `val` and the first in `train`.\n",
    "\n",
    "    \"\"\"\n",
    "    train, val = L(), L()\n",
    "    for ts in items:\n",
    "        split_idx = int((1-pct)*ts.shape[1])\n",
    "        train.append(ts[:,:split_idx])\n",
    "        val.append(ts[:,split_idx:])\n",
    "\n",
    "    return train, val"
   ]
  },
  {
   "cell_type": "code",
   "execution_count": 16,
   "metadata": {},
   "outputs": [],
   "source": [
    "a = [np.random.randn(3,15)]*50\n",
    "train, val = make_test(a,5,5)\n",
    "test_eq(train[0],a[0][:,:-10])\n",
    "test_eq(val[0],a[0][:,-10:])\n",
    "\n",
    "train, val = make_test(a,5,5,True)\n",
    "test_eq(train[0],a[0][:,:-5])\n",
    "test_eq(val[0],a[0][:,-10:])"
   ]
  },
  {
   "cell_type": "markdown",
   "metadata": {},
   "source": [
    "## Dataloaders"
   ]
  },
  {
   "cell_type": "code",
   "execution_count": 17,
   "metadata": {},
   "outputs": [],
   "source": [
    "#export\n",
    "class TSDataLoaders(DataLoaders):\n",
    "    @classmethod\n",
    "    @delegates(TSDataLoader.__init__)\n",
    "    def from_folder(cls, data_path:Path, valid_pct=.5, seed=None, horizon=None, lookback=None, step=1,\n",
    "                   nrows=None, skiprows=None, incl_test = True, path:Path='.', device=None, norm=True, **kwargs):\n",
    "        \"\"\"Create from M-compition style in `path` with `train`,`test` csv-files.\n",
    "\n",
    "        The `DataLoader` for the test set will be save as an attribute under `test`\n",
    "        \"\"\"\n",
    "        train, test = get_ts_files(data_path, nrows=nrows, skiprows=skiprows)\n",
    "        items = concat_ts_list(train, test).map(tensor)\n",
    "        horizon = ifnone(horizon, len(test[0]))\n",
    "        lookback = ifnone(lookback, horizon * 3)\n",
    "        return cls.from_items(items, horizon, lookback = lookback,  step = step, incl_test=incl_test, path=path, device=device, norm= norm,**kwargs)\n",
    "\n",
    "\n",
    "    @classmethod\n",
    "    @delegates(TSDataLoader.__init__)\n",
    "    def from_items(cls, items:L, horizon:int, valid_pct=1.5, seed=None, lookback=None, step=1,\n",
    "                   incl_test = True, path:Path='.', device=None, norm=True, **kwargs):\n",
    "        \"\"\"Create an list of time series.\n",
    "\n",
    "        The `DataLoader` for the test set will be save as an attribute under `test`\n",
    "        \"\"\"\n",
    "        if len(items[0].shape)==1:\n",
    "            items = [i[None,:] for i in items]\n",
    "        print(items[0].shape)\n",
    "        lookback = ifnone(lookback, horizon * 4)\n",
    "        device = ifnone(device, default_device())\n",
    "        if incl_test:\n",
    "            items, test = make_test(items, horizon, lookback, keep_lookback = True)\n",
    "        train, valid = make_test(items, horizon + int(valid_pct*horizon), lookback , keep_lookback = True)\n",
    "#         if norm:\n",
    "#             make_ones = kwargs.pop('make_ones',True)\n",
    "#             kwargs.update({'after_batch':L(kwargs.get('after_batch',None))+L(NormalizeTS(make_ones=make_ones))})\n",
    "        db = DataLoaders(*[TSDataLoader(items, horizon=horizon, lookback=lookback, step=step, device=device, norm = norm, **kwargs)\n",
    "                           for items in [train,valid]], path=path, device=device)\n",
    "        if incl_test:\n",
    "            db.test = TSDataLoader(test, horizon=horizon, lookback=lookback, step=step, name='test', device=device, **kwargs)\n",
    "\n",
    "            print(f\"Train:{db.train.n}; Valid: {db.valid.n}; Test {db.test.n}\")\n",
    "        else:\n",
    "            print(f\"Train:{db.train.n}; Valid: {db.valid.n}\")\n",
    "\n",
    "        return db"
   ]
  },
  {
   "cell_type": "code",
   "execution_count": 18,
   "metadata": {},
   "outputs": [
    {
     "name": "stdout",
     "output_type": "stream",
     "text": [
      "torch.Size([1, 105])\n",
      "Train:18; Valid: 9; Test 3\n"
     ]
    }
   ],
   "source": [
    "# hide\n",
    "# device `cpu`\n",
    "horizon, lookback = 7,10\n",
    "items = L(np.arange(-5,100)[None,:],np.arange(500,550)[None,:],np.arange(-110,-56)[None,:]).map(tensor)\n",
    "data = TSDataLoaders.from_items(items, horizon = horizon, lookback=lookback, step=5, device = torch.device('cpu'))\n",
    "test_eq(data.valid.dataset[0].shape[-1]>lookback+horizon, True)\n",
    "test_eq(hasattr(data,'test'),True)\n",
    "test_eq([o[0].device for o in data.train][0], torch.device('cpu'))\n",
    "test_eq([o[0].device for o in data.test][0], torch.device('cpu'))"
   ]
  },
  {
   "cell_type": "code",
   "execution_count": 19,
   "metadata": {},
   "outputs": [
    {
     "name": "stdout",
     "output_type": "stream",
     "text": [
      "torch.Size([1, 105])\n",
      "Train:18; Valid: 9; Test 3\n"
     ]
    }
   ],
   "source": [
    "# hide\n",
    "# default device\n",
    "horizon, lookback = 7,10\n",
    "items = L(np.arange(-5,100)[None,:],np.arange(500,550)[None,:],np.arange(-110,-56)[None,:]).map(tensor)\n",
    "data = TSDataLoaders.from_items(items, horizon = horizon, lookback=lookback, step=5)\n",
    "test_eq(data.valid.dataset[0].shape[-1]>lookback+horizon, True)\n",
    "test_eq(hasattr(data,'test'),True)\n",
    "test_eq([o[0].device for o in data.train][0], default_device())\n",
    "test_eq([o[0].device for o in data.test][0], default_device())"
   ]
  },
  {
   "cell_type": "code",
   "execution_count": 20,
   "metadata": {},
   "outputs": [
    {
     "name": "stdout",
     "output_type": "stream",
     "text": [
      "torch.Size([1, 20])\n",
      "Train:29; Valid: 12\n"
     ]
    }
   ],
   "source": [
    "# hide\n",
    "horizon,lookback = 2,5\n",
    "items = L(np.arange(20),np.arange(25,48),np.arange(8,27)).map(tensor)\n",
    "dbunch = TSDataLoaders.from_items(items, horizon=horizon, lookback = lookback, incl_test=False)\n",
    "test_eq(hasattr(dbunch,'test'),False)"
   ]
  },
  {
   "cell_type": "code",
   "execution_count": 21,
   "metadata": {},
   "outputs": [
    {
     "name": "stdout",
     "output_type": "stream",
     "text": [
      "torch.Size([1, 1020])\n",
      "Train:1255; Valid: 50; Test 10\n"
     ]
    }
   ],
   "source": [
    "# hide\n",
    "path = untar_data(URLs.m4_daily)\n",
    "if torch.cuda.is_available():\n",
    "    dbunch = TSDataLoaders.from_folder(path, horizon = 14, step=5, bs=64, nrows=10)\n",
    "    for o in dbunch.train.one_batch():\n",
    "        test_eq(o.is_cuda, True)\n",
    "        break\n",
    "    for o in dbunch.valid:\n",
    "        test_eq(o[0].is_cuda, True)\n",
    "        break"
   ]
  },
  {
   "cell_type": "code",
   "execution_count": 22,
   "metadata": {},
   "outputs": [
    {
     "name": "stdout",
     "output_type": "stream",
     "text": [
      "torch.Size([1, 1020])\n",
      "Train:1255; Valid: 50; Test 10\n"
     ]
    }
   ],
   "source": [
    "# hide\n",
    "dbunch = TSDataLoaders.from_folder(path, horizon = 14, step=5, bs=64, nrows=10, device = 'cpu')\n",
    "for o in dbunch.train:\n",
    "    test_eq(o[0].is_cuda, False)\n",
    "    break\n",
    "for o in dbunch.valid:\n",
    "    test_eq(o[0].is_cuda, False)\n",
    "    break\n",
    "    "
   ]
  },
  {
   "cell_type": "code",
   "execution_count": 23,
   "metadata": {},
   "outputs": [],
   "source": [
    "# hide\n",
    "test_eq(dbunch.train.n,1255)\n",
    "test_eq(dbunch.valid.n,50)\n",
    "test_eq(dbunch.test.n,10)"
   ]
  },
  {
   "cell_type": "code",
   "execution_count": 24,
   "metadata": {},
   "outputs": [],
   "source": [
    "# hide\n",
    "dl = dbunch.new(shuffle=True)"
   ]
  },
  {
   "cell_type": "code",
   "execution_count": 25,
   "metadata": {},
   "outputs": [
    {
     "name": "stdout",
     "output_type": "stream",
     "text": [
      "torch.Size([1, 1020])\n",
      "Train:1255; Valid: 50; Test 10\n"
     ]
    }
   ],
   "source": [
    "dbunch = TSDataLoaders.from_folder(path, horizon = 14, step=5, bs=64, nrows=10, device = 'cpu', after_batch=noop)\n",
    "for o in dbunch[0]:\n",
    "    test_close(o[0].mean(),0)\n",
    "    test_close(o[0].std(),1,eps=.1)    "
   ]
  },
  {
   "cell_type": "code",
   "execution_count": 26,
   "metadata": {},
   "outputs": [
    {
     "data": {
      "text/markdown": [
       "<h4 id=\"TSDataLoaders.from_items\" class=\"doc_header\"><code>TSDataLoaders.from_items</code><a href=\"__main__.py#L18\" class=\"source_link\" style=\"float:right\">[source]</a></h4>\n",
       "\n",
       "> <code>TSDataLoaders.from_items</code>(**`items`**:`L`, **`horizon`**:`int`, **`valid_pct`**=*`1.5`*, **`seed`**=*`None`*, **`lookback`**=*`None`*, **`step`**=*`1`*, **`incl_test`**=*`True`*, **`path`**:`Path`=*`'.'`*, **`device`**=*`None`*, **`norm`**=*`True`*, **`min_seq_len`**=*`None`*, **`max_std`**=*`2`*, **`bs`**=*`64`*, **`shuffle`**=*`False`*, **`num_workers`**=*`None`*, **`verbose`**=*`False`*, **`do_setup`**=*`True`*, **`pin_memory`**=*`False`*, **`timeout`**=*`0`*, **`batch_size`**=*`None`*, **`drop_last`**=*`False`*, **`indexed`**=*`None`*, **`n`**=*`None`*, **`wif`**=*`None`*, **`before_iter`**=*`None`*, **`after_item`**=*`None`*, **`before_batch`**=*`None`*, **`after_batch`**=*`None`*, **`after_iter`**=*`None`*, **`create_batches`**=*`None`*, **`create_item`**=*`None`*, **`create_batch`**=*`None`*, **`retain`**=*`None`*, **`get_idxs`**=*`None`*, **`sample`**=*`None`*, **`shuffle_fn`**=*`None`*, **`do_batch`**=*`None`*)\n",
       "\n",
       "Create an list of time series. \n",
       "\n",
       "The `DataLoader` for the test set will be save as an attribute under `test`"
      ],
      "text/plain": [
       "<IPython.core.display.Markdown object>"
      ]
     },
     "metadata": {},
     "output_type": "display_data"
    }
   ],
   "source": [
    "show_doc(TSDataLoaders.from_items, name='TSDataLoaders.from_items')"
   ]
  },
  {
   "cell_type": "code",
   "execution_count": 27,
   "metadata": {},
   "outputs": [
    {
     "data": {
      "text/markdown": [
       "<h4 id=\"TSDataLoaders.from_folder\" class=\"doc_header\"><code>TSDataLoaders.from_folder</code><a href=\"__main__.py#L3\" class=\"source_link\" style=\"float:right\">[source]</a></h4>\n",
       "\n",
       "> <code>TSDataLoaders.from_folder</code>(**`data_path`**:`Path`, **`valid_pct`**=*`0.5`*, **`seed`**=*`None`*, **`horizon`**=*`None`*, **`lookback`**=*`None`*, **`step`**=*`1`*, **`nrows`**=*`None`*, **`skiprows`**=*`None`*, **`incl_test`**=*`True`*, **`path`**:`Path`=*`'.'`*, **`device`**=*`None`*, **`norm`**=*`True`*, **`min_seq_len`**=*`None`*, **`max_std`**=*`2`*, **`bs`**=*`64`*, **`shuffle`**=*`False`*, **`num_workers`**=*`None`*, **`verbose`**=*`False`*, **`do_setup`**=*`True`*, **`pin_memory`**=*`False`*, **`timeout`**=*`0`*, **`batch_size`**=*`None`*, **`drop_last`**=*`False`*, **`indexed`**=*`None`*, **`n`**=*`None`*, **`wif`**=*`None`*, **`before_iter`**=*`None`*, **`after_item`**=*`None`*, **`before_batch`**=*`None`*, **`after_batch`**=*`None`*, **`after_iter`**=*`None`*, **`create_batches`**=*`None`*, **`create_item`**=*`None`*, **`create_batch`**=*`None`*, **`retain`**=*`None`*, **`get_idxs`**=*`None`*, **`sample`**=*`None`*, **`shuffle_fn`**=*`None`*, **`do_batch`**=*`None`*)\n",
       "\n",
       "Create from M-compition style in `path` with `train`,`test` csv-files. \n",
       "\n",
       "The `DataLoader` for the test set will be save as an attribute under `test`"
      ],
      "text/plain": [
       "<IPython.core.display.Markdown object>"
      ]
     },
     "metadata": {},
     "output_type": "display_data"
    }
   ],
   "source": [
    "show_doc(TSDataLoaders.from_folder, name='TSDataLoaders.from_folder')"
   ]
  },
  {
   "cell_type": "code",
   "execution_count": 28,
   "metadata": {},
   "outputs": [
    {
     "name": "stdout",
     "output_type": "stream",
     "text": [
      "torch.Size([1, 1020])\n",
      "Train:9408; Valid: 500; Test 100\n"
     ]
    },
    {
     "data": {
      "image/png": "[encoded data removed]",
      "text/plain": [
       "<Figure size 432x504 with 4 Axes>"
      ]
     },
     "metadata": {
      "needs_background": "light"
     },
     "output_type": "display_data"
    }
   ],
   "source": [
    "dbunch = TSDataLoaders.from_folder(path, horizon = 14, step=5, bs=64, nrows=100)\n",
    "dbunch.train.show_batch(max_n=4)"
   ]
  },
  {
   "cell_type": "code",
   "execution_count": 29,
   "metadata": {},
   "outputs": [
    {
     "data": {
      "image/png": "[encoded data removed]",
      "text/plain": [
       "<Figure size 432x504 with 4 Axes>"
      ]
     },
     "metadata": {
      "needs_background": "light"
     },
     "output_type": "display_data"
    }
   ],
   "source": [
    "dbunch.test.show_batch(max_n=4)"
   ]
  },
  {
   "cell_type": "code",
   "execution_count": 33,
   "metadata": {},
   "outputs": [
    {
     "name": "stdout",
     "output_type": "stream",
     "text": [
      "Converted 00_core.ipynb.\n",
      "Converted 01_data.external.ipynb.\n",
      "Converted 02_data.load.ipynb.\n",
      "Converted 03_data.core.ipynb.\n",
      "Converted 05_nbeats.models.ipynb.\n",
      "Converted 06_nbeats.callbacks.ipynb.\n",
      "Converted 07_nbeats.learner.ipynb.\n",
      "Converted 08_nbeats.interpret.ipynb.\n",
      "Converted 11_metrics.ipynb.\n",
      "Converted 12_compare.ipynb.\n",
      "Converted index.ipynb.\n",
      "Converted normalize batch in model.ipynb.\n"
     ]
    }
   ],
   "source": [
    "# hide\n",
    "from nbdev.export import *\n",
    "\n",
    "notebook2script()"
   ]
  },
  {
   "cell_type": "code",
   "execution_count": null,
   "metadata": {},
   "outputs": [],
   "source": []
  },
  {
   "cell_type": "code",
   "execution_count": null,
   "metadata": {},
   "outputs": [],
   "source": []
  }
 ],
 "metadata": {
  "kernelspec": {
   "display_name": "env37",
   "language": "python",
   "name": "env37"
  },
  "language_info": {
   "codemirror_mode": {
    "name": "ipython",
    "version": 3
   },
   "file_extension": ".py",
   "mimetype": "text/x-python",
   "name": "python",
   "nbconvert_exporter": "python",
   "pygments_lexer": "ipython3",
   "version": "3.7.4"
  }
 },
 "nbformat": 4,
 "nbformat_minor": 4
}
