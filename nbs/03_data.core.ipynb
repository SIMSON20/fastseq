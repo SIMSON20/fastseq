{
 "cells": [
  {
   "cell_type": "code",
   "execution_count": 1,
   "metadata": {
    "Collapsed": "false"
   },
   "outputs": [],
   "source": [
    "# default_exp data.core "
   ]
  },
  {
   "cell_type": "code",
   "execution_count": 2,
   "metadata": {
    "Collapsed": "false"
   },
   "outputs": [
    {
     "name": "stderr",
     "output_type": "stream",
     "text": [
      "/home/tako/dev/env37/lib/python3.7/site-packages/pandas/compat/__init__.py:117: UserWarning: Could not import the lzma module. Your installed Python is incomplete. Attempting to use lzma compression will result in a RuntimeError.\n",
      "  warnings.warn(msg)\n"
     ]
    }
   ],
   "source": [
    "# hide\n",
    "import sys\n",
    "\n",
    "sys.path.append(\"..\")\n",
    "import pandas as pd"
   ]
  },
  {
   "cell_type": "code",
   "execution_count": 3,
   "metadata": {
    "Collapsed": "false"
   },
   "outputs": [],
   "source": [
    "# hide\n",
    "from nbdev.showdoc import *"
   ]
  },
  {
   "cell_type": "markdown",
   "metadata": {
    "Collapsed": "false"
   },
   "source": [
    "# Data Core\n",
    "\n",
    "> Using the fastai2 `Datasets` to make an time series dataset.\n"
   ]
  },
  {
   "cell_type": "code",
   "execution_count": 150,
   "metadata": {
    "Collapsed": "false"
   },
   "outputs": [],
   "source": [
    "# export\n",
    "from fastseq.data.load import *\n",
    "from fastseq.core import *\n",
    "from fastcore.all import *\n",
    "from fastcore.imports import *\n",
    "from fastai2.basics import *\n",
    "from fastai2.data.transforms import *\n",
    "from fastai2.tabular.core import *\n",
    "from fastseq.data.load import *\n",
    "import orjson"
   ]
  },
  {
   "cell_type": "code",
   "execution_count": 8,
   "metadata": {
    "Collapsed": "false"
   },
   "outputs": [],
   "source": [
    "# hide\n",
    "# just check previous nb still works. Sometimes import errors\n",
    "horizon,lookback = 2,5\n",
    "df = get_df([160, 160, 160])\n",
    "path = Path('../data/test_data')\n",
    "save_df(df, path)\n",
    "dl = MTSDataLoader.from_path(path, y_name = 'x', lookback= lookback, horizon = horizon)\n",
    "test_eq(dl.n, len(dl._ids))\n",
    "test_eq(dl.n, 2456)\n",
    "test_eq(len(dl),39)\n",
    "for o in dl:pass"
   ]
  },
  {
   "cell_type": "markdown",
   "metadata": {
    "Collapsed": "false"
   },
   "source": [
    "# Transforms\n",
    "\n",
    "> Basic function to process time-series data before assembling it in a `DataLoaders`."
   ]
  },
  {
   "cell_type": "markdown",
   "metadata": {
    "Collapsed": "false"
   },
   "source": [
    "## Normalize"
   ]
  },
  {
   "cell_type": "code",
   "execution_count": 9,
   "metadata": {
    "Collapsed": "false"
   },
   "outputs": [],
   "source": [
    "# export\n",
    "def _zeros_2_ones(o, eps=1e-8):\n",
    "    nan_mask = o!=o\n",
    "    o[o < eps ] = 1    \n",
    "    o[nan_mask ] = 1    \n",
    "    return o\n",
    "    "
   ]
  },
  {
   "cell_type": "code",
   "execution_count": 10,
   "metadata": {
    "Collapsed": "false"
   },
   "outputs": [
    {
     "name": "stderr",
     "output_type": "stream",
     "text": [
      "/home/tako/dev/env37/lib/python3.7/site-packages/ipykernel_launcher.py:4: RuntimeWarning: invalid value encountered in less\n",
      "  after removing the cwd from sys.path.\n"
     ]
    }
   ],
   "source": [
    "o = np.arange(0,1,.1)\n",
    "test_close(list(_zeros_2_ones(o,.5)),[1. , 1. , 1. , 1. , 1. , 0.5, 0.6, 0.7, 0.8, 0.9])\n",
    "\n",
    "o = np.arange(0,1,.1)[None,:]\n",
    "test_close(list(_zeros_2_ones(o,.5)),[[1. , 1. , 1. , 1. , 1. , 0.5, 0.6, 0.7, 0.8, 0.9]])\n",
    "\n",
    "o = torch.arange(0,1,.1)[None,:]\n",
    "test_close(_zeros_2_ones(o,.5),tensor([[1. , 1. , 1. , 1. , 1. , 0.5, 0.6, 0.7, 0.8, 0.9]]))\n",
    "\n",
    "o = torch.arange(0,1,.1)[None,:]\n",
    "o[:,-1]= torch.tensor(float('nan'))\n",
    "test_close(_zeros_2_ones(o,.5),tensor([[1. , 1. , 1. , 1. , 1. , 0.5, 0.6, 0.7, 0.8, 1]]))\n",
    "\n",
    "o = np.arange(0,1,.1)[None,:]\n",
    "o[:,-1]= np.nan\n",
    "test_close(list(_zeros_2_ones(o,.5)),[[1. , 1. , 1. , 1. , 1. , 0.5, 0.6, 0.7, 0.8, 1]])"
   ]
  },
  {
   "cell_type": "markdown",
   "metadata": {
    "Collapsed": "false"
   },
   "source": [
    "### old"
   ]
  },
  {
   "cell_type": "code",
   "execution_count": 11,
   "metadata": {
    "Collapsed": "false"
   },
   "outputs": [],
   "source": [
    "import warnings\n",
    "class NormalizeTSMulti(ItemTransform):\n",
    "    \"Normalize the Time-Series.\"\n",
    "    def __init__(self, to_norm=['TensorCon','TensorSeq'], verbose=False, make_ones=True, eps=1e-7, mean = None):\n",
    "        \"\"\"\n",
    "        `make_ones` will make the std 1 if the std is smaller than `10*eps`.\n",
    "        This is for blok seqences to not magnify the `y` part of the data.\n",
    "\n",
    "        `mean` will set a mean instead of the mean of the x value.\n",
    "        (\n",
    "            TensorSeqs(x, label=[self.y_name + '_x'], m=['g']),\n",
    "            TensorSeqs(tsx,label=self.ts_names),\n",
    "            TensorCon(cat,label=self.cat_names).long(),\n",
    "            TensorCon(con,label=self.con_names),\n",
    "            TensorSeqs(y, label=[self.y_name+ '_y'], m=['r'])\n",
    "        )\n",
    "        \"\"\"\n",
    "        store_attr(self,'verbose, make_ones, eps, mean,to_norm')\n",
    "        self.m, self.s = {}, {}\n",
    "        warnings.warn(\"NormalizeTSMulti is depricated. Please use `NormalizeSeqsMulti`\")\n",
    "\n",
    "    def encodes(self, o):\n",
    "        for i in range(len(o)-1):\n",
    "            self.m[i], self.s[i] = 0, 1\n",
    "            if type(o[i]) == TensorCon and o[i].shape[-1]>0: # if tensor has shape (bs,0) than ignore\n",
    "                if 'TensorCon' in self.to_norm:\n",
    "                    self.m[i] = torch.mean(o[i])\n",
    "                    self.s[i] = torch.std(o[i]) + self.eps \n",
    "            elif type(o[i]) == TensorSeq:\n",
    "                if 'TensorSeq' in self.to_norm:\n",
    "                    self.m[i] = torch.mean(o[i], -1, keepdim=True)\n",
    "                    self.s[i] = torch.std(o[i],  -1, keepdim=True) +self.eps\n",
    "                    self.s[i] = _zeros_2_ones(self.s[i], self.eps*10)\n",
    "            elif self.verbose:\n",
    "                if o[i].shape[-1]>0 and not type(o[i]) == TensorCatI:\n",
    "                    print(f'NormalizeTSMulti:type {type(o[i])} on location:{i}/{len(o)} of tuple not found')\n",
    "                \n",
    "        # y must be scaled with m\n",
    "        self.m[len(o)-1], self.s[len(o)-1] = self.m[0],self.s[0] \n",
    "        # TODO make y its own type\n",
    "        if self.verbose:\n",
    "            print('encodes',[a.shape for a in o],'m shape', {k:o.shape for k,o in self.m.items()},'s shape',{k:o.shape for k,o in self.s.items()})\n",
    "        \n",
    "        return TSMulti_([(o[i]-self.m[i]) / self.s[i] for i in range(len(o))])       \n",
    "    \n",
    "    def decodes(self, o):\n",
    "        if o[0].is_cuda:\n",
    "            self.m, self.s = to_device(self.m,'cuda'), to_device(self.s,'cuda')\n",
    "            if sum([a.is_cuda for a in o]) != len(o):\n",
    "                o = Tuple([to_device(a,'cuda') for a in o])\n",
    "        else:\n",
    "            if sum([a.is_cuda==False for a in o]) != len(o):\n",
    "                o = Tuple([to_cpu(a) for a in o])\n",
    "            self.m, self.s = to_cpu(self.m), to_cpu(self.s)\n",
    "        if self.verbose:\n",
    "            print('decodes',[a.shape for a in o],  {k:o.shape for k,o in self.m.items()},'s shape',{k:o.shape for k,o in self.s.items()})\n",
    "        return TSMulti_([(o[i]*self.s[i])+self.m[i] for i in range(len(o))])"
   ]
  },
  {
   "cell_type": "code",
   "execution_count": 12,
   "metadata": {
    "Collapsed": "false"
   },
   "outputs": [
    {
     "name": "stderr",
     "output_type": "stream",
     "text": [
      "/home/tako/dev/env37/lib/python3.7/site-packages/ipykernel_launcher.py:21: UserWarning: NormalizeTSMulti is depricated. Please use `NormalizeSeqsMulti`\n"
     ]
    }
   ],
   "source": [
    "o = TSMulti_(TensorSeq(np.arange(12.)),1,2,TensorSeq(np.arange(-1,11.)))\n",
    "tmf = NormalizeTSMulti()\n",
    "o_tmf = tmf(o)\n"
   ]
  },
  {
   "cell_type": "code",
   "execution_count": 13,
   "metadata": {
    "Collapsed": "false"
   },
   "outputs": [
    {
     "name": "stdout",
     "output_type": "stream",
     "text": [
      "402 µs ± 6.82 µs per loop (mean ± std. dev. of 7 runs, 1000 loops each)\n"
     ]
    }
   ],
   "source": [
    "%%timeit\n",
    "o_tmf = tmf(o)"
   ]
  },
  {
   "cell_type": "markdown",
   "metadata": {
    "Collapsed": "false"
   },
   "source": [
    "### new"
   ]
  },
  {
   "cell_type": "code",
   "execution_count": 14,
   "metadata": {
    "Collapsed": "false"
   },
   "outputs": [],
   "source": [
    "# export\n",
    "class NormalizeSeq(Transform):\n",
    "    def __init__(self, verbose=False, make_ones=True, eps=1e-7, mean = None):\n",
    "        store_attr(self,'verbose, make_ones, eps, mean')\n",
    "        self.m, self.s = 0, 1\n",
    "        \n",
    "    def to_same_device(self, o):    \n",
    "        if o.is_cuda:\n",
    "            self.m, self.s = to_device(self.m,'cuda'), to_device(self.s,'cuda')\n",
    "        else:\n",
    "            self.m, self.s = to_cpu(self.m), to_cpu(self.s)     \n",
    "            \n",
    "    def encodes(self, o: TensorSeq):\n",
    "        self.m = torch.mean(o, -1, keepdim=True)\n",
    "        self.s = torch.std(o,  -1, keepdim=True) +self.eps\n",
    "        if (self.s < self.eps*10).sum():\n",
    "            self.s = _zeros_2_ones(self.s, self.eps*10)\n",
    "        if self.verbose:\n",
    "            print('encodes',[a.shape for a in o],\n",
    "                  'm shape', {k:o.shape for k,o in self.m.items()},\n",
    "                  's shape',{k:o.shape for k,o in self.s.items()})\n",
    "        \n",
    "        return self.norm(o)\n",
    "    \n",
    "    def norm(self, o):\n",
    "        return (o - self.m)/self.s\n",
    "    \n",
    "    def decodes(self, o: TensorSeq):\n",
    "        if self.verbose:\n",
    "            print('decodes',o.shape,  \n",
    "                  'm shape',self.m.shape,\n",
    "                  's shape',self.s.shape)\n",
    "        return self.denorm(o)\n",
    "    \n",
    "    def denorm(self, o):\n",
    "        self.to_same_device(o)\n",
    "        return (o*self.s)+self.m "
   ]
  },
  {
   "cell_type": "code",
   "execution_count": 15,
   "metadata": {
    "Collapsed": "false"
   },
   "outputs": [],
   "source": [
    "tmf = NormalizeSeq()\n",
    "o = TensorSeq(TensorSeq([np.arange(12.)]*16))\n",
    "o_tmf = tmf(o)\n",
    "test_close(o_tmf.mean(),0)\n",
    "test_eq(tmf.decode(o_tmf),TensorSeq([np.arange(12.)]*16))"
   ]
  },
  {
   "cell_type": "code",
   "execution_count": 17,
   "metadata": {
    "Collapsed": "false"
   },
   "outputs": [],
   "source": [
    "# export\n",
    "class NormalizeSeqMulti(ItemTransform):\n",
    "    \"\"\"A shell Transformer to normalize `TensorSeqs` inside `TSMulti_` with `NormalizeSeqs`. \"\"\"\n",
    "    @delegates(NormalizeSeq.__init__)\n",
    "    def __init__(self, n_its=5, **kwargs):\n",
    "        \"\"\"`n_its` does not include the ts to predict.\"\"\"\n",
    "        self.f = {i:NormalizeSeq(**kwargs) for i in range(n_its)}\n",
    "        self.n = n_its\n",
    "        \n",
    "    def encodes(self, o:TSMulti_):\n",
    "        r = L()\n",
    "        for i,a in enumerate(o):\n",
    "            if type(a) is not TensorSeq:\n",
    "                r.append(a)\n",
    "            elif i < (self.n-1):\n",
    "                r.append(self.f[i](a))\n",
    "            else:\n",
    "                r.append(self.f[0].norm(o[i]))\n",
    "        return TSMulti_(r)\n",
    "    \n",
    "    def decodes(self, o:TSMulti_): \n",
    "        r = L(self.f[i].decode(a) for i,a in enumerate(o[:-1]))\n",
    "        r.append(self.f[0].denorm(o[-1]))\n",
    "        return TSMulti_(r)\n",
    "    "
   ]
  },
  {
   "cell_type": "code",
   "execution_count": 18,
   "metadata": {
    "Collapsed": "false"
   },
   "outputs": [],
   "source": [
    "o = TSMulti_(TensorSeq([np.arange(12.)]*16),\n",
    "             [1]*16,\n",
    "             [2]*16,\n",
    "             TensorSeq([np.arange(-2,10.)]*16))\n",
    "tmf = NormalizeSeqMulti(len(o))\n",
    "o_tmf = tmf(o)\n",
    "test_close(o_tmf[0].mean(),0)\n",
    "test_eq(o_tmf[1], o[1])\n",
    "test_eq(torch.round(o_tmf[3].mean()), -1)"
   ]
  },
  {
   "cell_type": "code",
   "execution_count": 19,
   "metadata": {
    "Collapsed": "false"
   },
   "outputs": [],
   "source": [
    "o = TSMulti_(TensorSeq([[np.arange(12.)]]*16),\n",
    "             [1]*16,\n",
    "             [2]*16,\n",
    "             TensorSeq([[np.arange(-2,10.)]]*16))\n",
    "tmf = NormalizeSeqMulti(len(o))\n",
    "o_tmf = tmf(o)\n",
    "test_close(o_tmf[0].mean(),0)\n",
    "test_eq(o_tmf[1], o[1])\n",
    "test_eq(torch.round(o_tmf[3].mean()), -1)"
   ]
  },
  {
   "cell_type": "code",
   "execution_count": 20,
   "metadata": {
    "Collapsed": "false"
   },
   "outputs": [],
   "source": [
    "o = TSMulti_(TensorSeq(np.arange(12.)),1,2,TensorSeq(np.arange(-1,11.)))\n",
    "tmf = NormalizeSeqMulti(len(o))\n",
    "o_tmf = tmf(o)\n",
    "\n",
    "test_close(o_tmf[0].mean(),0);test_close(o_tmf[0].std(),1);\n",
    "test_eq(o_tmf[1],1)\n",
    "test_eq(o_tmf[2],2)\n",
    "# Note the y has not mean 0 because it is normalized with the stats of the first item in the tuple\n",
    "test_close(o_tmf[3].mean(),-0.27,.1); test_close(o_tmf[3].std(),1); \n",
    "test_eq(tmf.decode(o_tmf), o)\n",
    "def prof_func():\n",
    "    tmf(o)"
   ]
  },
  {
   "cell_type": "code",
   "execution_count": 36,
   "metadata": {
    "Collapsed": "false"
   },
   "outputs": [
    {
     "data": {
      "image/png": "[encoded data removed]",
      "text/plain": [
       "<Figure size 648x720 with 9 Axes>"
      ]
     },
     "metadata": {
      "needs_background": "light"
     },
     "output_type": "display_data"
    }
   ],
   "source": [
    "path = Path('../data/test_data')\n",
    "\n",
    "dl = MTSDataLoader.from_path(path, y_name = 'x', lookback = 20, horizon = 5, num_workers = 0,\n",
    "                            after_batch = NormalizeSeqMulti())\n",
    "dl.show_batch()"
   ]
  },
  {
   "cell_type": "code",
   "execution_count": 38,
   "metadata": {
    "Collapsed": "false"
   },
   "outputs": [],
   "source": [
    "# hide\n",
    "for o in dl:\n",
    "    for a in o[:-1]:\n",
    "        if a.shape[-1] > 0 and type(a) is TensorSeq:    \n",
    "            test_close(a.mean(-1), 0)\n",
    "            test_close(a.std(),1, .1)\n",
    "    test_close(o[0][:,:,:lookback],o[-1][:,:,:lookback],.1)\n",
    "    test_eq(type(o),TSMulti_)\n",
    "    o_new = dl.after_batch[0].decode(o)\n",
    "    test_eq(o_new[0].mean()!=0, True)\n",
    "    test_eq(o_new[0].std()!=1, True)\n",
    "    break\n",
    "    \n",
    "test_eq(type(dl.one_batch()), TSMulti_)"
   ]
  },
  {
   "cell_type": "markdown",
   "metadata": {
    "Collapsed": "false"
   },
   "source": [
    "# TSDataLoaders"
   ]
  },
  {
   "cell_type": "markdown",
   "metadata": {
    "Collapsed": "false"
   },
   "source": [
    "## Utils"
   ]
  },
  {
   "cell_type": "code",
   "execution_count": 128,
   "metadata": {
    "Collapsed": "false"
   },
   "outputs": [],
   "source": [
    "# export \n",
    "def make_test(ts:dict, horizon:int, lookback:int, keep_lookback:bool = False):\n",
    "    \"\"\"Splits the every ts in `items` based on `horizon + lookback`*, where the last part will go into `val` and the first in `train`.\n",
    "    *if `keep_lookback`:\n",
    "        it will only remove `horizon` from `train` otherwise will also remove lookback from `train`.\n",
    "    \"\"\"\n",
    "    train,val = {},{}\n",
    "    for k,v in ts.items():\n",
    "        if k in ['ts_con','ts_cat']:\n",
    "            if keep_lookback:\n",
    "                train[k] = [o[:-(horizon)] for o in v]\n",
    "            else:                    \n",
    "                train[k] = [o[:-(horizon+lookback)] for o in v]\n",
    "            val[k] = [o[-(horizon+lookback):] for o in v]                \n",
    "        elif k == '_length':\n",
    "            train[k] = {k: v - (horizon if keep_lookback else horizon+lookback)}\n",
    "            val[k] = {k:horizon+lookback}\n",
    "        else:\n",
    "            train[k] = v\n",
    "            val[k] = v   \n",
    "    return train, val"
   ]
  },
  {
   "cell_type": "code",
   "execution_count": 129,
   "metadata": {
    "Collapsed": "false"
   },
   "outputs": [],
   "source": [
    "horizon,lookback = 2,5\n",
    "df = get_df([14, 14, 16])\n",
    "path = Path('../data/test_data')\n",
    "save_df(df, path)\n",
    "ts = get_ts_datapoint(get_files(path, extensions='.json')[0])\n",
    "t, v = make_test(ts,horizon,lookback, True)\n",
    "for i in range(len(t['ts_con'])):\n",
    "    test_eq(t['ts_con'][i],ts['ts_con'][i][:-(horizon)])\n",
    "for i in range(len(t['ts_con'])):\n",
    "    test_eq(v['ts_con'][i],ts['ts_con'][i][-(horizon+lookback):])\n",
    "    \n",
    "t, v = make_test(ts,horizon,lookback, False)\n",
    "for i in range(len(t['ts_con'])):\n",
    "    test_eq(t['ts_con'][i],ts['ts_con'][i][:-(horizon+lookback)])\n",
    "for i in range(len(t['ts_con'])):\n",
    "    test_eq(v['ts_con'][i],ts['ts_con'][i][-(horizon+lookback):])"
   ]
  },
  {
   "cell_type": "code",
   "execution_count": 165,
   "metadata": {
    "Collapsed": "false"
   },
   "outputs": [],
   "source": [
    "# export\n",
    "@delegates(make_test)\n",
    "def split_file(file, clean=True, **kwargs):\n",
    "    ts = get_ts_datapoint(file)\n",
    "    t, v = make_test(ts, **kwargs)   \n",
    "    fs = []\n",
    "    for f, dct in zip(['train','val'], [t,v]):\n",
    "        new_f = Path(*str(file).split(os.sep)[:-1]) / f / str(file).split(os.sep)[-1]\n",
    "        if not new_f.parent.exists(): new_f.parent.mkdir()\n",
    "        open(new_f,'wb').write(orjson.dumps(t))\n",
    "        fs.append(new_f)\n",
    "    if clean:\n",
    "        os.remove(file)\n",
    "    return fs"
   ]
  },
  {
   "cell_type": "code",
   "execution_count": 168,
   "metadata": {
    "Collapsed": "false"
   },
   "outputs": [
    {
     "data": {
      "text/plain": [
       "[Path('../data/test_data/train/2.json'), Path('../data/test_data/val/2.json')]"
      ]
     },
     "execution_count": 168,
     "metadata": {},
     "output_type": "execute_result"
    }
   ],
   "source": [
    "horizon,lookback = 2,5\n",
    "df = get_df([14, 14, 16])\n",
    "path = Path('../data/test_data')\n",
    "save_df(df, path)\n",
    "split_file(get_files(path, extensions='.json')[0], horizon=horizon, lookback=lookback)"
   ]
  },
  {
   "cell_type": "markdown",
   "metadata": {
    "Collapsed": "false"
   },
   "source": [
    "## Dataloaders"
   ]
  },
  {
   "cell_type": "code",
   "execution_count": 28,
   "metadata": {
    "Collapsed": "false"
   },
   "outputs": [],
   "source": [
    "#export\n",
    "class DfDataLoaders(DataLoaders):\n",
    "    @classmethod\n",
    "    @delegates(DfDataLoader.__init__)\n",
    "    def from_df(cls, dataset:pd.DataFrame, y_name:str, horizon:int, valid_pct=1.5, seed=None, lookback=None, step=1,\n",
    "                   incl_test = True, path:Path='.', device=None, norm=True, **kwargs):\n",
    "        \"\"\"Create an list of time series.\n",
    "        The `DataLoader` for the test set will be save as an attribute under `test`\n",
    "        \"\"\"\n",
    "        lookback = ifnone(lookback, horizon * 4)\n",
    "        device = ifnone(device, default_device())\n",
    "        if incl_test:\n",
    "            dataset, test = make_test_df(dataset, horizon, lookback, keep_lookback = True)\n",
    "        train, valid = make_test_df(dataset, horizon + int(valid_pct*horizon), lookback , keep_lookback = True)\n",
    "        if norm and 'after_batch' not in kwargs:\n",
    "            kwargs.update({'after_batch':L(NormalizeSeqsMulti(n_its=4))})\n",
    "        db = DataLoaders(*[DfDataLoader(ds, y_name, horizon=horizon, lookback=lookback, step=step,\n",
    "                                        device=device, **kwargs)\n",
    "                           for ds in [train,valid]], path=path, device=device)\n",
    "        if incl_test:\n",
    "            db.test = DfDataLoader(test, y_name, horizon=horizon, lookback=lookback, step=step, device=device, **kwargs)\n",
    "\n",
    "            print(f\"Train:{db.train.n}; Valid: {db.valid.n}; Test {db.test.n}\")\n",
    "        else:\n",
    "            print(f\"Train:{db.train.n}; Valid: {db.valid.n}\")\n",
    "\n",
    "        return db"
   ]
  },
  {
   "cell_type": "code",
   "execution_count": 29,
   "metadata": {
    "Collapsed": "false"
   },
   "outputs": [
    {
     "data": {
      "text/html": [
       "<div>\n",
       "<style scoped>\n",
       "    .dataframe tbody tr th:only-of-type {\n",
       "        vertical-align: middle;\n",
       "    }\n",
       "\n",
       "    .dataframe tbody tr th {\n",
       "        vertical-align: top;\n",
       "    }\n",
       "\n",
       "    .dataframe thead th {\n",
       "        text-align: right;\n",
       "    }\n",
       "</style>\n",
       "<table border=\"1\" class=\"dataframe\">\n",
       "  <thead>\n",
       "    <tr style=\"text-align: right;\">\n",
       "      <th></th>\n",
       "      <th>pred</th>\n",
       "      <th>a</th>\n",
       "    </tr>\n",
       "  </thead>\n",
       "  <tbody>\n",
       "    <tr>\n",
       "      <th>0</th>\n",
       "      <td>0     0.712323\n",
       "1     0.772959\n",
       "2     1.042336\n",
       "3     1.272789\n",
       "4     1.252441\n",
       "5     1.000000\n",
       "6     0.747559\n",
       "7     0.727211\n",
       "8     0.957664\n",
       "9     1.227041\n",
       "10    1.287677\n",
       "11    1.083825\n",
       "12    0.802904\n",
       "13    0.703193\n",
       "14    0.876364\n",
       "15    1.163206\n",
       "16    1.299997\n",
       "17    1.160972\n",
       "18    0.873950\n",
       "19    0.702818\n",
       "20    0.804914\n",
       "21    1.086371\n",
       "22    1.288419\n",
       "23    1.225296\n",
       "24    0.955037\n",
       "25    0.726116\n",
       "26    0.749003\n",
       "27    1.002655\n",
       "28    1.253866\n",
       "29    1.271674\n",
       "dtype: float64</td>\n",
       "      <td>[1.9589242746631386, 1.7568024953079282, 0.8588799919401328, 0.09070257317431829, 0.1585290151921035, 1.0, 1.8414709848078965, 1.9092974268256817, 1.1411200080598671, 0.2431975046920718, 0.041075725336861546, 0.7205845018010741, 1.656986598718789, 1.989358246623382, 1.4121184852417565, 0.4559788891106302, 9.793449296524592e-06, 0.46342708199956506, 1.420167036826641, 1.9906073556948702, 1.6502878401571168, 0.7120966833349347, 0.03860250812044319, 0.24901275322832395, 1.1498772096629524, 1.9129452507276277, 1.836655638536056, 0.9911486907095961, 0.15377959582482936, 0.0944216379933761]</td>\n",
       "    </tr>\n",
       "  </tbody>\n",
       "</table>\n",
       "</div>"
      ],
      "text/plain": [
       "                                                                                                                                                                                                                                                                                                                                                                                                                                                                               pred  \\\n",
       "0  0     0.712323\n",
       "1     0.772959\n",
       "2     1.042336\n",
       "3     1.272789\n",
       "4     1.252441\n",
       "5     1.000000\n",
       "6     0.747559\n",
       "7     0.727211\n",
       "8     0.957664\n",
       "9     1.227041\n",
       "10    1.287677\n",
       "11    1.083825\n",
       "12    0.802904\n",
       "13    0.703193\n",
       "14    0.876364\n",
       "15    1.163206\n",
       "16    1.299997\n",
       "17    1.160972\n",
       "18    0.873950\n",
       "19    0.702818\n",
       "20    0.804914\n",
       "21    1.086371\n",
       "22    1.288419\n",
       "23    1.225296\n",
       "24    0.955037\n",
       "25    0.726116\n",
       "26    0.749003\n",
       "27    1.002655\n",
       "28    1.253866\n",
       "29    1.271674\n",
       "dtype: float64   \n",
       "\n",
       "                                                                                                                                                                                                                                                                                                                                                                                                                                                                                                                                                                                                                 a  \n",
       "0  [1.9589242746631386, 1.7568024953079282, 0.8588799919401328, 0.09070257317431829, 0.1585290151921035, 1.0, 1.8414709848078965, 1.9092974268256817, 1.1411200080598671, 0.2431975046920718, 0.041075725336861546, 0.7205845018010741, 1.656986598718789, 1.989358246623382, 1.4121184852417565, 0.4559788891106302, 9.793449296524592e-06, 0.46342708199956506, 1.420167036826641, 1.9906073556948702, 1.6502878401571168, 0.7120966833349347, 0.03860250812044319, 0.24901275322832395, 1.1498772096629524, 1.9129452507276277, 1.836655638536056, 0.9911486907095961, 0.15377959582482936, 0.0944216379933761]  "
      ]
     },
     "execution_count": 29,
     "metadata": {},
     "output_type": "execute_result"
    }
   ],
   "source": [
    "# hide\n",
    "# device series\n",
    "horizon,lookback = 2,5\n",
    "t = np.arange(-5,25)\n",
    "a = np.sin(t)\n",
    "df = pd.DataFrame({'pred':[pd.Series(i + (i*.6)*a*-.5) for i in range(1,100)],\n",
    "                   'a':[i+a for i in range(1,100)]})\n",
    "df.head(1)"
   ]
  },
  {
   "cell_type": "code",
   "execution_count": 169,
   "metadata": {
    "Collapsed": "false"
   },
   "outputs": [
    {
     "name": "stdout",
     "output_type": "stream",
     "text": [
      "Converted 00_core.ipynb.\n",
      "Converted 01_data.external.ipynb.\n",
      "Converted 02_data.load.ipynb.\n",
      "Converted 030_data.m5.ipynb.\n",
      "Converted 03_data.core.ipynb.\n",
      "Converted 050_nbeats.models_multi.ipynb.\n",
      "Converted 05_nbeats.models.ipynb.\n",
      "Converted 06_nbeats.callbacks.ipynb.\n",
      "Converted 07_nbeats.learner.ipynb.\n",
      "Converted 08_nbeats.interpret.ipynb.\n",
      "Converted 11_metrics.ipynb.\n",
      "Converted 12_compare.ipynb.\n",
      "Converted index.ipynb.\n",
      "Converted tab.model.ipynb.\n"
     ]
    }
   ],
   "source": [
    "# hide\n",
    "from nbdev.export import *\n",
    "\n",
    "notebook2script()"
   ]
  },
  {
   "cell_type": "code",
   "execution_count": 170,
   "metadata": {
    "Collapsed": "false"
   },
   "outputs": [
    {
     "name": "stdout",
     "output_type": "stream",
     "text": [
      "Converted 03_data.core.ipynb.\n"
     ]
    },
    {
     "data": {
      "text/plain": [
       "['/home/tako/dev/fastseq/fastseq/data/core.py',\n",
       " '/home/tako/dev/fastseq/nbs/03_data.core.ipynb']"
      ]
     },
     "execution_count": 170,
     "metadata": {},
     "output_type": "execute_result"
    }
   ],
   "source": [
    "git_add('03_data.core.ipynb', commit_msg='split ts_files')"
   ]
  },
  {
   "cell_type": "code",
   "execution_count": null,
   "metadata": {
    "Collapsed": "false"
   },
   "outputs": [],
   "source": []
  }
 ],
 "metadata": {
  "kernelspec": {
   "display_name": "env37",
   "language": "python",
   "name": "env37"
  },
  "language_info": {
   "codemirror_mode": {
    "name": "ipython",
    "version": 3
   },
   "file_extension": ".py",
   "mimetype": "text/x-python",
   "name": "python",
   "nbconvert_exporter": "python",
   "pygments_lexer": "ipython3",
   "version": "3.7.4"
  }
 },
 "nbformat": 4,
 "nbformat_minor": 4
}
