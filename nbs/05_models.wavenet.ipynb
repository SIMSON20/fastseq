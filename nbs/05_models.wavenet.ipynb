{
 "cells": [
  {
   "cell_type": "code",
   "execution_count": null,
   "metadata": {},
   "outputs": [],
   "source": [
    "# default_exp models.wavenet"
   ]
  },
  {
   "cell_type": "code",
   "execution_count": null,
   "metadata": {},
   "outputs": [],
   "source": [
    "# hide\n",
    "import sys\n",
    "\n",
    "sys.path.append(\"..\")"
   ]
  },
  {
   "cell_type": "markdown",
   "metadata": {},
   "source": [
    "# Wavenet model\n",
    "\n",
    "> The WaveNet` architecture for time series forecasting. <https://arxiv.org/pdf/1609.03499.pdf>\n",
    "\n",
    "Mostly copied from <https://github.com/MSRDL/Deep4Cast>"
   ]
  },
  {
   "cell_type": "code",
   "execution_count": null,
   "metadata": {},
   "outputs": [],
   "source": [
    "# hide\n",
    "from nbdev.showdoc import *\n",
    "from fastcore.test import *"
   ]
  },
  {
   "cell_type": "code",
   "execution_count": null,
   "metadata": {},
   "outputs": [
    {
     "name": "stderr",
     "output_type": "stream",
     "text": [
      "/home/tako/dev/env37/lib/python3.7/site-packages/pandas/compat/__init__.py:85: UserWarning: Could not import the lzma module. Your installed Python is incomplete. Attempting to use lzma compression will result in a RuntimeError.\n",
      "  warnings.warn(msg)\n"
     ]
    }
   ],
   "source": [
    "#export\n",
    "from fastcore.utils import *\n",
    "from fastcore.imports import *\n",
    "from fastai2.basics import *\n"
   ]
  },
  {
   "cell_type": "markdown",
   "metadata": {},
   "source": [
    "# Model"
   ]
  },
  {
   "cell_type": "code",
   "execution_count": null,
   "metadata": {},
   "outputs": [],
   "source": [
    "# export\n",
    "\n",
    "class ConcreteDropout(torch.nn.Module):\n",
    "    \"\"\"Applies Dropout to the input, even at prediction time and learns dropout probability\n",
    "    from the data.\n",
    "    \n",
    "    In convolutional neural networks, we can use dropout to drop entire channels using\n",
    "    the 'channel_wise' argument.\n",
    "    \n",
    "    Arguments:\n",
    "        * dropout_regularizer (float): Should  be set to 2 / N, where N is the number of training examples.\n",
    "        * init_range (tuple): Initial range for dropout probabilities.\n",
    "        * channel_wise (boolean): apply dropout over all input or across convolutional channels.\n",
    "    \"\"\"\n",
    "    def __init__(self,\n",
    "                 dropout_regularizer=1e-5,\n",
    "                 init_range=(0.1, 0.3),\n",
    "                 channel_wise=False):\n",
    "        super(ConcreteDropout, self).__init__()\n",
    "        self.dropout_regularizer = dropout_regularizer\n",
    "        self.init_range = init_range\n",
    "        self.channel_wise = channel_wise\n",
    "\n",
    "        # Initialize dropout probability\n",
    "        init_min = np.log(init_range[0]) - np.log(1. - init_range[0])\n",
    "        init_max = np.log(init_range[1]) - np.log(1. - init_range[1])\n",
    "        self.p_logit = torch.nn.Parameter(\n",
    "            torch.empty(1).uniform_(init_min, init_max))\n",
    "\n",
    "    def forward(self, x):\n",
    "        \"\"\"Returns input but with randomly dropped out values.\"\"\"\n",
    "        # Get the dropout probability\n",
    "        p = torch.sigmoid(self.p_logit)\n",
    "\n",
    "        # Apply Concrete Dropout to input\n",
    "        out = self._concrete_dropout(x, p)\n",
    "\n",
    "        # Regularization term for dropout parameters\n",
    "        dropout_regularizer = p * torch.log(p)\n",
    "        dropout_regularizer += (1. - p) * torch.log(1. - p)\n",
    "\n",
    "        # The size of the dropout regularization depends on the kind of input\n",
    "        if self.channel_wise:\n",
    "            # Dropout only applied to channel dimension\n",
    "            input_dim = x.shape[1]\n",
    "        else:\n",
    "            # Dropout applied to all dimensions\n",
    "            input_dim = np.prod(x.shape[1:])\n",
    "        dropout_regularizer *= self.dropout_regularizer * input_dim\n",
    "\n",
    "        return out, dropout_regularizer.mean()\n",
    "\n",
    "    def _concrete_dropout(self, x, p):\n",
    "        # Empirical parameters for the concrete distribution\n",
    "        eps = 1e-7\n",
    "        temp = 0.1\n",
    "\n",
    "        # Apply Concrete dropout channel wise or across all input\n",
    "        if self.channel_wise:\n",
    "            unif_noise = torch.rand_like(x[:, :, [0]])\n",
    "        else:\n",
    "            unif_noise = torch.rand_like(x)\n",
    "\n",
    "        drop_prob = (torch.log(p + eps)\n",
    "                     - torch.log(1 - p + eps)\n",
    "                     + torch.log(unif_noise + eps)\n",
    "                     - torch.log(1 - unif_noise + eps))\n",
    "        drop_prob = torch.sigmoid(drop_prob / temp)\n",
    "        random_tensor = 1 - drop_prob\n",
    "\n",
    "        # Need to make sure we have the right shape for the Dropout mask\n",
    "        if self.channel_wise:\n",
    "            random_tensor = random_tensor.repeat([1, 1, x.shape[2]])\n",
    "\n",
    "        # Drop weights\n",
    "        retain_prob = 1 - p\n",
    "        x = torch.mul(x, random_tensor)\n",
    "        x /= retain_prob\n",
    "\n",
    "        return x"
   ]
  },
  {
   "cell_type": "code",
   "execution_count": null,
   "metadata": {},
   "outputs": [],
   "source": [
    "# export\n",
    "class WaveNet(torch.nn.Module):\n",
    "    \"\"\"Implements `WaveNet` architecture for time series forecasting. Inherits \n",
    "    from pytorch `Module <https://pytorch.org/docs/stable/nn.html#torch.nn.Module>`_.\n",
    "    Vector forecasts are made via a fully-connected linear layer.\n",
    "    References:\n",
    "        - `WaveNet: A Generative Model for Raw Audio <https://arxiv.org/pdf/1609.03499.pdf>`_\n",
    "    \n",
    "    Arguments:\n",
    "        * input_channels (int): Number of covariates in input time series.\n",
    "        * output_channels (int): Number of target time series.\n",
    "        * horizon (int): Number of time steps to forecast.\n",
    "        * hidden_channels (int): Number of channels in convolutional hidden layers.\n",
    "        * skip_channels (int): Number of channels in convolutional layers for skip connections.\n",
    "        * n_layers (int): Number of layers per Wavenet block (determines receptive field size).\n",
    "        * n_blocks (int): Number of Wavenet blocks.\n",
    "        * dilation (int): Dilation factor for temporal convolution.\n",
    "    \"\"\"\n",
    "    def __init__(self,\n",
    "                 input_channels,\n",
    "                 output_channels,\n",
    "                 horizon,\n",
    "                 hidden_channels=64,\n",
    "                 skip_channels=64,\n",
    "                 n_layers=7,\n",
    "                 n_blocks=1,\n",
    "                 dilation=2):\n",
    "        \"\"\"Inititalize variables.\"\"\"\n",
    "        super(WaveNet, self).__init__()\n",
    "        self.output_channels = output_channels\n",
    "        self.horizon = horizon\n",
    "        self.hidden_channels = hidden_channels\n",
    "        self.skip_channels = skip_channels\n",
    "        self.n_layers = n_layers\n",
    "        self.n_blocks = n_blocks\n",
    "        self.dilation = dilation\n",
    "        self.dilations = [dilation**i for i in range(n_layers)] * n_blocks\n",
    "\n",
    "        # Set up first layer for input\n",
    "        self.do_conv_input = ConcreteDropout(channel_wise=True)\n",
    "        self.conv_input = torch.nn.Conv1d(\n",
    "            in_channels=input_channels,\n",
    "            out_channels=hidden_channels,\n",
    "            kernel_size=1\n",
    "        )\n",
    "\n",
    "        # Set up main WaveNet layers\n",
    "        self.do, self.conv, self.skip, self.resi = [], [], [], []\n",
    "        for d in self.dilations:\n",
    "            self.do.append(ConcreteDropout(channel_wise=True))\n",
    "            self.conv.append(torch.nn.Conv1d(in_channels=hidden_channels,\n",
    "                                             out_channels=hidden_channels,\n",
    "                                             kernel_size=2,\n",
    "                                             dilation=d))\n",
    "            self.skip.append(torch.nn.Conv1d(in_channels=hidden_channels,\n",
    "                                             out_channels=skip_channels,\n",
    "                                             kernel_size=1))\n",
    "            self.resi.append(torch.nn.Conv1d(in_channels=hidden_channels,\n",
    "                                             out_channels=hidden_channels,\n",
    "                                             kernel_size=1))\n",
    "        self.do = torch.nn.ModuleList(self.do)\n",
    "        self.conv = torch.nn.ModuleList(self.conv)\n",
    "        self.skip = torch.nn.ModuleList(self.skip)\n",
    "        self.resi = torch.nn.ModuleList(self.resi)\n",
    "\n",
    "        # Set up nonlinear output layers\n",
    "        self.do_conv_post = ConcreteDropout(channel_wise=True)\n",
    "        self.conv_post = torch.nn.Conv1d(\n",
    "            in_channels=skip_channels,\n",
    "            out_channels=skip_channels,\n",
    "            kernel_size=1\n",
    "        )\n",
    "        self.do_linear_mean = ConcreteDropout()\n",
    "        self.do_linear_std = ConcreteDropout()\n",
    "        self.do_linear_df = ConcreteDropout()\n",
    "        self.linear_mean = torch.nn.Linear(\n",
    "            skip_channels, horizon*output_channels)\n",
    "        self.linear_std = torch.nn.Linear(\n",
    "            skip_channels, horizon*output_channels)\n",
    "        self.linear_df = torch.nn.Linear(\n",
    "            skip_channels, horizon*output_channels)\n",
    "\n",
    "    def forward(self, inputs):\n",
    "        \"\"\"Forward function.\"\"\"\n",
    "        output, reg_e = self.encode(inputs)\n",
    "        output_df, reg_d = self.decode(output)\n",
    "\n",
    "        # Regularization\n",
    "        regularizer = reg_e + reg_d\n",
    "\n",
    "        return output_df # , 'loc': output_mean, 'scale': output_std, 'regularizer': regularizer}\n",
    "\n",
    "    def encode(self, inputs: torch.Tensor):\n",
    "        \"\"\"Returns embedding vectors.\n",
    "        \n",
    "        Arguments:\n",
    "            * inputs: time series input to make forecasts for\n",
    "        \"\"\"\n",
    "        # Input layer\n",
    "        output, res_conv_input = self.do_conv_input(inputs)\n",
    "        output = self.conv_input(output)\n",
    "\n",
    "        # Loop over WaveNet layers and blocks\n",
    "        regs, skip_connections = [], []\n",
    "        for do, conv, skip, resi in zip(self.do, self.conv, self.skip, self.resi):\n",
    "            layer_in = output\n",
    "            output, reg = do(layer_in)\n",
    "            output = conv(output)\n",
    "            output = torch.nn.functional.relu(output)\n",
    "            skip = skip(output)\n",
    "            output = resi(output)\n",
    "            output = output + layer_in[:, :, -output.size(2):]\n",
    "            regs.append(reg)\n",
    "            skip_connections.append(skip)\n",
    "\n",
    "        # Sum up regularizer terms and skip connections\n",
    "        regs = sum(r for r in regs)\n",
    "        output = sum([s[:, :, -output.size(2):] for s in skip_connections])\n",
    "\n",
    "        # Nonlinear output layers\n",
    "        output, res_conv_post = self.do_conv_post(output)\n",
    "        output = torch.nn.functional.relu(output)\n",
    "        output = self.conv_post(output)\n",
    "        output = torch.nn.functional.relu(output)\n",
    "        output = output[:, :, [-1]]\n",
    "        output = output.transpose(1, 2)\n",
    "\n",
    "        # Regularization terms\n",
    "        regularizer = res_conv_input \\\n",
    "            + regs \\\n",
    "            + res_conv_post\n",
    "\n",
    "        return output, regularizer\n",
    "\n",
    "    def decode(self, inputs: torch.Tensor):\n",
    "        \"\"\"Returns forecasts based on embedding vectors.\n",
    "        \n",
    "        Arguments:\n",
    "            * inputs: embedding vectors to generate forecasts for\n",
    "        \"\"\"\n",
    "        # Apply dense layer to match output length\n",
    "        output_mean, res_linear_mean = self.do_linear_mean(inputs)\n",
    "        output_std, res_linear_std = self.do_linear_std(inputs)\n",
    "        output_df, res_linear_df = self.do_linear_df(inputs)\n",
    "        output_mean = self.linear_mean(output_mean)\n",
    "        output_std = self.linear_std(output_std).exp()\n",
    "        output_df = self.linear_df(output_df).exp()\n",
    "\n",
    "        # Reshape the layer output to match targets\n",
    "        # Shape is (batch_size, output_channels, horizon)\n",
    "        batch_size = inputs.shape[0]\n",
    "        output_mean = output_mean.reshape(\n",
    "            (batch_size, self.output_channels, self.horizon)\n",
    "        )\n",
    "        output_std = output_std.reshape(\n",
    "            (batch_size, self.output_channels, self.horizon)\n",
    "        )\n",
    "        output_df = output_df.reshape(\n",
    "            (batch_size, self.output_channels, self.horizon)\n",
    "        )\n",
    "\n",
    "        # Regularization terms\n",
    "        regularizer = res_linear_mean + res_linear_std + res_linear_df\n",
    "\n",
    "        return output_df, regularizer\n",
    "\n",
    "    @property\n",
    "    def n_parameters(self):\n",
    "        \"\"\"Returns the number of model parameters.\"\"\"\n",
    "        par = list(self.parameters())\n",
    "        s = sum([np.prod(list(d.size())) for d in par])\n",
    "        return s\n",
    "\n",
    "    @property\n",
    "    def receptive_field_size(self):\n",
    "        \"\"\"Returns the length of the receptive field.\"\"\"\n",
    "        return self.dilation * max(self.dilations)"
   ]
  },
  {
   "cell_type": "code",
   "execution_count": null,
   "metadata": {},
   "outputs": [],
   "source": [
    "\n",
    "class LogTransform(Transform):\n",
    "    r\"\"\"Natural logarithm of target covariate + `offset`.\n",
    "    \n",
    "    .. math:: y_i = log_e ( x_i + \\mbox{offset} )\n",
    "    Args:\n",
    "        * offset (float): amount to add before taking the natural logarithm\n",
    "        * targets (list): list of indices to transform.\n",
    "    Example:\n",
    "        >>> transforms.LogTransform(targets=[0], offset=1.0)\n",
    "    \"\"\"\n",
    "\n",
    "    def __init__(self, target_dim=None, offset=0.0):\n",
    "        self.offset = offset\n",
    "        self.target_dim = target_dim\n",
    "\n",
    "    def encodes(self, sample):\n",
    "        X = sample[0]\n",
    "        y = sample[1]\n",
    "\n",
    "        if self.target_dim:\n",
    "            X[:,self.target_dim, :] = torch.log(self.offset + X[:,self.target_dim, :])\n",
    "            y[:,self.target_dim, :] = torch.log(self.offset + y[:,self.target_dim, :])\n",
    "        else:\n",
    "            X = torch.log(self.offset + X)\n",
    "            y = torch.log(self.offset + y)\n",
    "        return X,y\n",
    "\n",
    "    def decodes(self, sample):\n",
    "        X, y = sample[0], sample[1]\n",
    "\n",
    "        if self.target_dim:\n",
    "            X[:, self.target_dim, :] = torch.exp(X[:, self.target_dim, :]) - self.offset\n",
    "        else:\n",
    "            X = torch.exp(X) - self.offset\n",
    "            y = torch.exp(y) - self.offset\n",
    "\n",
    "        return X,y\n"
   ]
  },
  {
   "cell_type": "code",
   "execution_count": null,
   "metadata": {},
   "outputs": [],
   "source": [
    "tmf = LogTransform([0], offset=1.0)\n",
    "x, y = tensor([[[0.0,1.0,2.1]]]), torch.randn(1,1,3)\n",
    "_x,_y = tmf((x,y))\n",
    "test_eq(_x, torch.log(1.0 + tensor([[[0.0,1.0,2.1]]])))\n",
    "__a,_b = tmf.decode((_x,_y))"
   ]
  },
  {
   "cell_type": "markdown",
   "metadata": {},
   "source": [
    "# Learner"
   ]
  },
  {
   "cell_type": "code",
   "execution_count": null,
   "metadata": {},
   "outputs": [],
   "source": [
    "#export\n",
    "@delegates(WaveNet.__init__)\n",
    "def wavelet_learner(dbunch, output_channels=None, metrics=None, hidden_channels=89, skip_channels =199, **kwargs):\n",
    "    \"Build a dnn style learner\"\n",
    "    output_channels = ifnone(output_channels,dbunch.train[0][0].shape[0])\n",
    "    \n",
    "    model = WaveNet(input_channels=dbunch.train[0][0].shape[0],\n",
    "                    output_channels=output_channels, \n",
    "                    horizon = dbunch.train_dl.horizon,\n",
    "                    hidden_channels=hidden_channels,\n",
    "                    skip_channels=skip_channels,\n",
    "                    **kwargs\n",
    "                   )\n",
    "    dbunch.after_batch.add(LogTransform([0], offset=1.0))\n",
    "    learn = Learner(dbunch, model, loss_func=F.mse_loss, opt_func= Adam, metrics=L(metrics)+L(mae, smape))#\n",
    "    return learn"
   ]
  },
  {
   "cell_type": "code",
   "execution_count": null,
   "metadata": {},
   "outputs": [
    {
     "ename": "NameError",
     "evalue": "name 'Skip' is not defined",
     "output_type": "error",
     "traceback": [
      "\u001b[0;31m---------------------------------------------------------------------------\u001b[0m",
      "\u001b[0;31mNameError\u001b[0m                                 Traceback (most recent call last)",
      "\u001b[0;32m<ipython-input-10-92289923e4da>\u001b[0m in \u001b[0;36m<module>\u001b[0;34m\u001b[0m\n\u001b[1;32m      3\u001b[0m \u001b[0;34m\u001b[0m\u001b[0m\n\u001b[1;32m      4\u001b[0m \u001b[0mpath\u001b[0m \u001b[0;34m=\u001b[0m \u001b[0muntar_data\u001b[0m\u001b[0;34m(\u001b[0m\u001b[0mURLs\u001b[0m\u001b[0;34m.\u001b[0m\u001b[0mm4_daily\u001b[0m\u001b[0;34m)\u001b[0m\u001b[0;34m\u001b[0m\u001b[0;34m\u001b[0m\u001b[0m\n\u001b[0;32m----> 5\u001b[0;31m \u001b[0mdata\u001b[0m \u001b[0;34m=\u001b[0m \u001b[0mTSDataBunch\u001b[0m\u001b[0;34m.\u001b[0m\u001b[0mfrom_folder\u001b[0m\u001b[0;34m(\u001b[0m\u001b[0mpath\u001b[0m\u001b[0;34m,\u001b[0m \u001b[0mhorizon\u001b[0m \u001b[0;34m=\u001b[0m \u001b[0;36m14\u001b[0m\u001b[0;34m,\u001b[0m \u001b[0mlookback\u001b[0m \u001b[0;34m=\u001b[0m \u001b[0;36m128\u001b[0m\u001b[0;34m,\u001b[0m \u001b[0mskiprows\u001b[0m\u001b[0;34m=\u001b[0m\u001b[0mSkip\u001b[0m\u001b[0;34m(\u001b[0m\u001b[0;36m.9\u001b[0m\u001b[0;34m)\u001b[0m\u001b[0;34m)\u001b[0m\u001b[0;34m\u001b[0m\u001b[0;34m\u001b[0m\u001b[0m\n\u001b[0m\u001b[1;32m      6\u001b[0m \u001b[0mlen\u001b[0m\u001b[0;34m(\u001b[0m\u001b[0mdata\u001b[0m\u001b[0;34m.\u001b[0m\u001b[0mtrain_dl\u001b[0m\u001b[0;34m)\u001b[0m\u001b[0;34m\u001b[0m\u001b[0;34m\u001b[0m\u001b[0m\n",
      "\u001b[0;31mNameError\u001b[0m: name 'Skip' is not defined"
     ]
    }
   ],
   "source": [
    "from fastseq.all import *\n",
    "from fastai2.basics import *\n",
    "\n",
    "path = untar_data(URLs.m4_daily)\n",
    "data = TSDataBunch.from_folder(path, horizon = 14, lookback = 128, skiprows=Skip(.9))\n",
    "len(data.train_dl)"
   ]
  },
  {
   "cell_type": "code",
   "execution_count": null,
   "metadata": {},
   "outputs": [],
   "source": [
    "learn = wavelet_learner(data)"
   ]
  },
  {
   "cell_type": "code",
   "execution_count": null,
   "metadata": {},
   "outputs": [
    {
     "data": {
      "text/html": [],
      "text/plain": [
       "<IPython.core.display.HTML object>"
      ]
     },
     "metadata": {},
     "output_type": "display_data"
    },
    {
     "data": {
      "image/png": "[encoded data removed]",
      "text/plain": [
       "<Figure size 432x288 with 1 Axes>"
      ]
     },
     "metadata": {
      "needs_background": "light"
     },
     "output_type": "display_data"
    }
   ],
   "source": [
    "from fastai2.callback.all import *\n",
    "learn.lr_find()"
   ]
  },
  {
   "cell_type": "code",
   "execution_count": null,
   "metadata": {},
   "outputs": [
    {
     "data": {
      "text/html": [
       "<table border=\"1\" class=\"dataframe\">\n",
       "  <thead>\n",
       "    <tr style=\"text-align: left;\">\n",
       "      <th>epoch</th>\n",
       "      <th>train_loss</th>\n",
       "      <th>valid_loss</th>\n",
       "      <th>mae</th>\n",
       "      <th>smape</th>\n",
       "      <th>time</th>\n",
       "    </tr>\n",
       "  </thead>\n",
       "  <tbody>\n",
       "    <tr>\n",
       "      <td>0</td>\n",
       "      <td>7.405499</td>\n",
       "      <td>inf</td>\n",
       "      <td>inf</td>\n",
       "      <td>nan</td>\n",
       "      <td>00:26</td>\n",
       "    </tr>\n",
       "  </tbody>\n",
       "</table>"
      ],
      "text/plain": [
       "<IPython.core.display.HTML object>"
      ]
     },
     "metadata": {},
     "output_type": "display_data"
    }
   ],
   "source": [
    "learn.fit_one_cycle(1, 1e-5)"
   ]
  },
  {
   "cell_type": "code",
   "execution_count": null,
   "metadata": {},
   "outputs": [
    {
     "data": {
      "text/html": [],
      "text/plain": [
       "<IPython.core.display.HTML object>"
      ]
     },
     "metadata": {},
     "output_type": "display_data"
    },
    {
     "data": {
      "text/plain": [
       "(#3) [inf,inf,nan]"
      ]
     },
     "execution_count": null,
     "metadata": {},
     "output_type": "execute_result"
    }
   ],
   "source": [
    "learn.validate()"
   ]
  },
  {
   "cell_type": "code",
   "execution_count": null,
   "metadata": {},
   "outputs": [
    {
     "name": "stdout",
     "output_type": "stream",
     "text": [
      "Converted 00_core.ipynb.\n",
      "Converted 01_data.external.ipynb.\n",
      "This cell doesn't have an export destination and was ignored:\n",
      " \n",
      "Converted 02_deep4cast_m4_example.ipynb.\n",
      "Converted 03_data.load.ipynb.\n",
      "Converted 04_data.transforms.ipynb.\n",
      "Converted 05_models.wavenet.ipynb.\n",
      "Converted index.ipynb.\n"
     ]
    }
   ],
   "source": [
    "# hide\n",
    "from nbdev.export import *\n",
    "\n",
    "notebook2script()"
   ]
  },
  {
   "cell_type": "code",
   "execution_count": null,
   "metadata": {},
   "outputs": [],
   "source": []
  },
  {
   "cell_type": "code",
   "execution_count": null,
   "metadata": {},
   "outputs": [],
   "source": []
  }
 ],
 "metadata": {
  "kernelspec": {
   "display_name": "env37",
   "language": "python",
   "name": "env37"
  }
 },
 "nbformat": 4,
 "nbformat_minor": 4
}
