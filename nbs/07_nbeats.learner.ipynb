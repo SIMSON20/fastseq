{
 "cells": [
  {
   "cell_type": "code",
   "execution_count": null,
   "metadata": {},
   "outputs": [],
   "source": [
    "# default_exp nbeats.learner"
   ]
  },
  {
   "cell_type": "code",
   "execution_count": null,
   "metadata": {},
   "outputs": [
    {
     "name": "stderr",
     "output_type": "stream",
     "text": [
      "/home/tako/dev/env37/lib/python3.7/site-packages/pandas/compat/__init__.py:85: UserWarning: Could not import the lzma module. Your installed Python is incomplete. Attempting to use lzma compression will result in a RuntimeError.\n",
      "  warnings.warn(msg)\n",
      "/home/tako/dev/env37/lib/python3.7/site-packages/pandas/compat/__init__.py:85: UserWarning: Could not import the lzma module. Your installed Python is incomplete. Attempting to use lzma compression will result in a RuntimeError.\n",
      "  warnings.warn(msg)\n"
     ]
    }
   ],
   "source": [
    "# hide\n",
    "import sys\n",
    "\n",
    "sys.path.append(\"..\")\n",
    "import pandas as pd\n",
    "%load_ext autoreload\n",
    "%autoreload 2"
   ]
  },
  {
   "cell_type": "markdown",
   "metadata": {},
   "source": [
    "# N-Beats Learner\n",
    "\n",
    "> A basic architecture for time series forecasting.\n",
    "\n",
    "\n",
    "The approach is based on https://arxiv.org/abs/1905.10437\n"
   ]
  },
  {
   "cell_type": "code",
   "execution_count": null,
   "metadata": {},
   "outputs": [],
   "source": [
    "# hide\n",
    "from nbdev.showdoc import *\n",
    "from fastcore.test import *"
   ]
  },
  {
   "cell_type": "code",
   "execution_count": null,
   "metadata": {},
   "outputs": [],
   "source": [
    "#export\n",
    "from fastcore.utils import *\n",
    "from fastcore.imports import *\n",
    "from fastai2.basics import *\n",
    "from fastai2.callback.hook import num_features_model\n",
    "from fastai2.callback.all import *\n",
    "from fastai2.torch_core import *\n",
    "from torch.autograd import Variable\n",
    "from fastseq.all import *\n",
    "\n",
    "from fastseq.nbeats.metrics import *\n",
    "from fastseq.nbeats.model import *"
   ]
  },
  {
   "cell_type": "markdown",
   "metadata": {},
   "source": [
    "## Learner"
   ]
  },
  {
   "cell_type": "code",
   "execution_count": null,
   "metadata": {},
   "outputs": [],
   "source": [
    "# export\n",
    "# from fastai2.basics import *\n",
    "# from fastseq.all import *\n",
    "\n",
    "@delegates(NBeatsNet.__init__)\n",
    "def nbeats_learner(dbunch:TSDataLoaders, output_channels=None, metrics=None,cbs=None, b_loss=0., loss_func=None, **kwargs):\n",
    "    \"Build a N-Beats style learner\"  \n",
    "    dbunch.after_batch.add(NormalizeTS())\n",
    "    model = NBeatsNet(\n",
    "        device = dbunch.train.device,\n",
    "        horizon = dbunch.train.horizon,\n",
    "        lookback = dbunch.train.lookback, \n",
    "        **kwargs\n",
    "       )\n",
    "    \n",
    "    loss_func = ifnone(loss_func, F.mse_loss)\n",
    "    learn = Learner(dbunch, model, loss_func=loss_func, opt_func= Adam, \n",
    "                    metrics=L(metrics)+L(mae, smape, NBeatsBackwards(),NBeatsTheta()),\n",
    "                    cbs=L(NBeatsTrainer(),NBeatsAttention())+L(cbs)\n",
    "                   )\n",
    "    learn.lh = (dbunch.train.lookback/dbunch.train.horizon)\n",
    "    return learn"
   ]
  },
  {
   "cell_type": "markdown",
   "metadata": {},
   "source": [
    "# Example"
   ]
  },
  {
   "cell_type": "code",
   "execution_count": null,
   "metadata": {},
   "outputs": [
    {
     "name": "stdout",
     "output_type": "stream",
     "text": [
      "Train:16000; Valid: 16000; Test 1000\n"
     ]
    },
    {
     "ename": "TypeError",
     "evalue": "super(type, obj): obj must be an instance or subtype of type",
     "output_type": "error",
     "traceback": [
      "\u001b[0;31m---------------------------------------------------------------------------\u001b[0m",
      "\u001b[0;31mTypeError\u001b[0m                                 Traceback (most recent call last)",
      "\u001b[0;32m<ipython-input-28-edb059a7a446>\u001b[0m in \u001b[0;36m<module>\u001b[0;34m\u001b[0m\n\u001b[1;32m      2\u001b[0m \u001b[0mdata\u001b[0m \u001b[0;34m=\u001b[0m \u001b[0mTSDataLoaders\u001b[0m\u001b[0;34m.\u001b[0m\u001b[0mfrom_items\u001b[0m\u001b[0;34m(\u001b[0m\u001b[0mitems\u001b[0m\u001b[0;34m,\u001b[0m \u001b[0mhorizon\u001b[0m \u001b[0;34m=\u001b[0m \u001b[0;36m5\u001b[0m\u001b[0;34m,\u001b[0m\u001b[0mlookback\u001b[0m \u001b[0;34m=\u001b[0m \u001b[0;36m15\u001b[0m\u001b[0;34m)\u001b[0m\u001b[0;34m\u001b[0m\u001b[0;34m\u001b[0m\u001b[0m\n\u001b[1;32m      3\u001b[0m \u001b[0;34m\u001b[0m\u001b[0m\n\u001b[0;32m----> 4\u001b[0;31m \u001b[0mlearn\u001b[0m \u001b[0;34m=\u001b[0m \u001b[0mnbeats_learner\u001b[0m\u001b[0;34m(\u001b[0m\u001b[0mdata\u001b[0m\u001b[0;34m)\u001b[0m\u001b[0;34m\u001b[0m\u001b[0;34m\u001b[0m\u001b[0m\n\u001b[0m\u001b[1;32m      5\u001b[0m \u001b[0mlearn\u001b[0m\u001b[0;34m.\u001b[0m\u001b[0mlr_find\u001b[0m\u001b[0;34m(\u001b[0m\u001b[0;34m)\u001b[0m\u001b[0;34m\u001b[0m\u001b[0;34m\u001b[0m\u001b[0m\n",
      "\u001b[0;32m<ipython-input-27-ccdc2c1324c8>\u001b[0m in \u001b[0;36mnbeats_learner\u001b[0;34m(dbunch, output_channels, metrics, cbs, b_loss, loss_func, **kwargs)\u001b[0m\n\u001b[1;32m     11\u001b[0m         \u001b[0mhorizon\u001b[0m \u001b[0;34m=\u001b[0m \u001b[0mdbunch\u001b[0m\u001b[0;34m.\u001b[0m\u001b[0mtrain\u001b[0m\u001b[0;34m.\u001b[0m\u001b[0mhorizon\u001b[0m\u001b[0;34m,\u001b[0m\u001b[0;34m\u001b[0m\u001b[0;34m\u001b[0m\u001b[0m\n\u001b[1;32m     12\u001b[0m         \u001b[0mlookback\u001b[0m \u001b[0;34m=\u001b[0m \u001b[0mdbunch\u001b[0m\u001b[0;34m.\u001b[0m\u001b[0mtrain\u001b[0m\u001b[0;34m.\u001b[0m\u001b[0mlookback\u001b[0m\u001b[0;34m,\u001b[0m\u001b[0;34m\u001b[0m\u001b[0;34m\u001b[0m\u001b[0m\n\u001b[0;32m---> 13\u001b[0;31m         \u001b[0;34m**\u001b[0m\u001b[0mkwargs\u001b[0m\u001b[0;34m\u001b[0m\u001b[0;34m\u001b[0m\u001b[0m\n\u001b[0m\u001b[1;32m     14\u001b[0m        )\n\u001b[1;32m     15\u001b[0m \u001b[0;34m\u001b[0m\u001b[0m\n",
      "\u001b[0;32m~/dev/fastcore/fastcore/foundation.py\u001b[0m in \u001b[0;36m__call__\u001b[0;34m(cls, *args, **kwargs)\u001b[0m\n\u001b[1;32m     27\u001b[0m         \u001b[0;32mif\u001b[0m \u001b[0mtype\u001b[0m\u001b[0;34m(\u001b[0m\u001b[0mres\u001b[0m\u001b[0;34m)\u001b[0m\u001b[0;34m==\u001b[0m\u001b[0mcls\u001b[0m\u001b[0;34m:\u001b[0m\u001b[0;34m\u001b[0m\u001b[0;34m\u001b[0m\u001b[0m\n\u001b[1;32m     28\u001b[0m             \u001b[0;32mif\u001b[0m \u001b[0mhasattr\u001b[0m\u001b[0;34m(\u001b[0m\u001b[0mres\u001b[0m\u001b[0;34m,\u001b[0m\u001b[0;34m'__pre_init__'\u001b[0m\u001b[0;34m)\u001b[0m\u001b[0;34m:\u001b[0m \u001b[0mres\u001b[0m\u001b[0;34m.\u001b[0m\u001b[0m__pre_init__\u001b[0m\u001b[0;34m(\u001b[0m\u001b[0;34m*\u001b[0m\u001b[0margs\u001b[0m\u001b[0;34m,\u001b[0m\u001b[0;34m**\u001b[0m\u001b[0mkwargs\u001b[0m\u001b[0;34m)\u001b[0m\u001b[0;34m\u001b[0m\u001b[0;34m\u001b[0m\u001b[0m\n\u001b[0;32m---> 29\u001b[0;31m             \u001b[0mres\u001b[0m\u001b[0;34m.\u001b[0m\u001b[0m__init__\u001b[0m\u001b[0;34m(\u001b[0m\u001b[0;34m*\u001b[0m\u001b[0margs\u001b[0m\u001b[0;34m,\u001b[0m\u001b[0;34m**\u001b[0m\u001b[0mkwargs\u001b[0m\u001b[0;34m)\u001b[0m\u001b[0;34m\u001b[0m\u001b[0;34m\u001b[0m\u001b[0m\n\u001b[0m\u001b[1;32m     30\u001b[0m             \u001b[0;32mif\u001b[0m \u001b[0mhasattr\u001b[0m\u001b[0;34m(\u001b[0m\u001b[0mres\u001b[0m\u001b[0;34m,\u001b[0m\u001b[0;34m'__post_init__'\u001b[0m\u001b[0;34m)\u001b[0m\u001b[0;34m:\u001b[0m \u001b[0mres\u001b[0m\u001b[0;34m.\u001b[0m\u001b[0m__post_init__\u001b[0m\u001b[0;34m(\u001b[0m\u001b[0;34m*\u001b[0m\u001b[0margs\u001b[0m\u001b[0;34m,\u001b[0m\u001b[0;34m**\u001b[0m\u001b[0mkwargs\u001b[0m\u001b[0;34m)\u001b[0m\u001b[0;34m\u001b[0m\u001b[0;34m\u001b[0m\u001b[0m\n\u001b[1;32m     31\u001b[0m         \u001b[0;32mreturn\u001b[0m \u001b[0mres\u001b[0m\u001b[0;34m\u001b[0m\u001b[0;34m\u001b[0m\u001b[0m\n",
      "\u001b[0;32m~/dev/fastseq/fastseq/nbeats/model.py\u001b[0m in \u001b[0;36m__init__\u001b[0;34m(self, device, stack_types, nb_blocks_per_stack, horizon, lookback, thetas_dim, share_weights_in_stack, layers)\u001b[0m\n\u001b[1;32m    168\u001b[0m         \u001b[0mlayers\u001b[0m\u001b[0;34m=\u001b[0m \u001b[0;34m[\u001b[0m\u001b[0;36m200\u001b[0m\u001b[0;34m,\u001b[0m\u001b[0;36m100\u001b[0m\u001b[0;34m]\u001b[0m\u001b[0;34m,\u001b[0m\u001b[0;34m\u001b[0m\u001b[0;34m\u001b[0m\u001b[0m\n\u001b[1;32m    169\u001b[0m     ):\n\u001b[0;32m--> 170\u001b[0;31m         \u001b[0msuper\u001b[0m\u001b[0;34m(\u001b[0m\u001b[0mNBeatsNet\u001b[0m\u001b[0;34m,\u001b[0m \u001b[0mself\u001b[0m\u001b[0;34m)\u001b[0m\u001b[0;34m.\u001b[0m\u001b[0m__init__\u001b[0m\u001b[0;34m(\u001b[0m\u001b[0;34m)\u001b[0m\u001b[0;34m\u001b[0m\u001b[0;34m\u001b[0m\u001b[0m\n\u001b[0m\u001b[1;32m    171\u001b[0m         \u001b[0mthetas_dim\u001b[0m \u001b[0;34m=\u001b[0m \u001b[0mifnone\u001b[0m\u001b[0;34m(\u001b[0m\u001b[0mthetas_dim\u001b[0m\u001b[0;34m,\u001b[0m\u001b[0;34m[\u001b[0m\u001b[0;36m3\u001b[0m \u001b[0;32mif\u001b[0m \u001b[0;34m'bias'\u001b[0m \u001b[0;32mnot\u001b[0m \u001b[0;32min\u001b[0m \u001b[0mo\u001b[0m \u001b[0;32melse\u001b[0m \u001b[0;36m2\u001b[0m \u001b[0;32mfor\u001b[0m \u001b[0mo\u001b[0m \u001b[0;32min\u001b[0m \u001b[0mstack_types\u001b[0m  \u001b[0;34m]\u001b[0m\u001b[0;34m)\u001b[0m\u001b[0;34m\u001b[0m\u001b[0;34m\u001b[0m\u001b[0m\n\u001b[1;32m    172\u001b[0m         \u001b[0mstack_types\u001b[0m\u001b[0;34m=\u001b[0m \u001b[0mL\u001b[0m\u001b[0;34m(\u001b[0m\u001b[0mstack_types\u001b[0m\u001b[0;34m)\u001b[0m\u001b[0;34m\u001b[0m\u001b[0;34m\u001b[0m\u001b[0m\n",
      "\u001b[0;31mTypeError\u001b[0m: super(type, obj): obj must be an instance or subtype of type"
     ]
    }
   ],
   "source": [
    "items = dummy_data_generator(50, 10, nrows=1000)\n",
    "data = TSDataLoaders.from_items(items, horizon = 5,lookback = 15)\n",
    "\n",
    "learn = nbeats_learner(data)\n",
    "learn.lr_find()"
   ]
  },
  {
   "cell_type": "code",
   "execution_count": null,
   "metadata": {},
   "outputs": [
    {
     "data": {
      "text/html": [
       "<table border=\"1\" class=\"dataframe\">\n",
       "  <thead>\n",
       "    <tr style=\"text-align: left;\">\n",
       "      <th>epoch</th>\n",
       "      <th>train_loss</th>\n",
       "      <th>valid_loss</th>\n",
       "      <th>mae</th>\n",
       "      <th>smape</th>\n",
       "      <th>b_loss</th>\n",
       "      <th>theta</th>\n",
       "      <th>time</th>\n",
       "    </tr>\n",
       "  </thead>\n",
       "  <tbody>\n",
       "    <tr>\n",
       "      <td>0</td>\n",
       "      <td>2.695028</td>\n",
       "      <td>22.104868</td>\n",
       "      <td>3.926412</td>\n",
       "      <td>1.509487</td>\n",
       "      <td>32.058422</td>\n",
       "      <td>0.186987</td>\n",
       "      <td>00:02</td>\n",
       "    </tr>\n",
       "    <tr>\n",
       "      <td>1</td>\n",
       "      <td>2.293382</td>\n",
       "      <td>18.819773</td>\n",
       "      <td>3.546647</td>\n",
       "      <td>1.183575</td>\n",
       "      <td>10.040125</td>\n",
       "      <td>0.031602</td>\n",
       "      <td>00:02</td>\n",
       "    </tr>\n",
       "    <tr>\n",
       "      <td>2</td>\n",
       "      <td>2.058022</td>\n",
       "      <td>25.928452</td>\n",
       "      <td>4.254105</td>\n",
       "      <td>1.650460</td>\n",
       "      <td>23.722204</td>\n",
       "      <td>0.052308</td>\n",
       "      <td>00:02</td>\n",
       "    </tr>\n",
       "    <tr>\n",
       "      <td>3</td>\n",
       "      <td>1.939290</td>\n",
       "      <td>20.452597</td>\n",
       "      <td>3.746693</td>\n",
       "      <td>1.373732</td>\n",
       "      <td>11.569510</td>\n",
       "      <td>0.037095</td>\n",
       "      <td>00:02</td>\n",
       "    </tr>\n",
       "    <tr>\n",
       "      <td>4</td>\n",
       "      <td>1.921337</td>\n",
       "      <td>22.520237</td>\n",
       "      <td>3.861827</td>\n",
       "      <td>1.384198</td>\n",
       "      <td>26.532722</td>\n",
       "      <td>0.045978</td>\n",
       "      <td>00:02</td>\n",
       "    </tr>\n",
       "    <tr>\n",
       "      <td>5</td>\n",
       "      <td>1.880250</td>\n",
       "      <td>18.742224</td>\n",
       "      <td>3.589272</td>\n",
       "      <td>1.280421</td>\n",
       "      <td>31.501259</td>\n",
       "      <td>0.046139</td>\n",
       "      <td>00:02</td>\n",
       "    </tr>\n",
       "    <tr>\n",
       "      <td>6</td>\n",
       "      <td>1.928364</td>\n",
       "      <td>26.685980</td>\n",
       "      <td>4.343834</td>\n",
       "      <td>1.645334</td>\n",
       "      <td>32.036892</td>\n",
       "      <td>0.053017</td>\n",
       "      <td>00:02</td>\n",
       "    </tr>\n",
       "    <tr>\n",
       "      <td>7</td>\n",
       "      <td>1.962457</td>\n",
       "      <td>24.022364</td>\n",
       "      <td>4.089544</td>\n",
       "      <td>1.602092</td>\n",
       "      <td>28.050898</td>\n",
       "      <td>0.053552</td>\n",
       "      <td>00:02</td>\n",
       "    </tr>\n",
       "    <tr>\n",
       "      <td>8</td>\n",
       "      <td>1.944078</td>\n",
       "      <td>20.109560</td>\n",
       "      <td>3.654769</td>\n",
       "      <td>1.288025</td>\n",
       "      <td>24.209656</td>\n",
       "      <td>0.065232</td>\n",
       "      <td>00:02</td>\n",
       "    </tr>\n",
       "    <tr>\n",
       "      <td>9</td>\n",
       "      <td>1.899723</td>\n",
       "      <td>17.075315</td>\n",
       "      <td>3.357394</td>\n",
       "      <td>1.089626</td>\n",
       "      <td>3.443317</td>\n",
       "      <td>0.065634</td>\n",
       "      <td>00:02</td>\n",
       "    </tr>\n",
       "  </tbody>\n",
       "</table>"
      ],
      "text/plain": [
       "<IPython.core.display.HTML object>"
      ]
     },
     "metadata": {},
     "output_type": "display_data"
    },
    {
     "data": {
      "image/png": "[encoded data removed]",
      "text/plain": [
       "<Figure size 432x288 with 1 Axes>"
      ]
     },
     "metadata": {
      "needs_background": "light"
     },
     "output_type": "display_data"
    }
   ],
   "source": [
    "learn.fit(10,.1)\n",
    "learn.recorder.plot_loss()"
   ]
  },
  {
   "cell_type": "code",
   "execution_count": null,
   "metadata": {},
   "outputs": [
    {
     "data": {
      "text/html": [],
      "text/plain": [
       "<IPython.core.display.HTML object>"
      ]
     },
     "metadata": {},
     "output_type": "display_data"
    },
    {
     "data": {
      "image/png": "[encoded data removed]",
      "text/plain": [
       "<Figure size 648x720 with 9 Axes>"
      ]
     },
     "metadata": {
      "needs_background": "light"
     },
     "output_type": "display_data"
    }
   ],
   "source": [
    "learn.show_results(0)"
   ]
  },
  {
   "cell_type": "code",
   "execution_count": null,
   "metadata": {},
   "outputs": [
    {
     "data": {
      "text/html": [
       "<div>\n",
       "<style scoped>\n",
       "    .dataframe tbody tr th:only-of-type {\n",
       "        vertical-align: middle;\n",
       "    }\n",
       "\n",
       "    .dataframe tbody tr th {\n",
       "        vertical-align: top;\n",
       "    }\n",
       "\n",
       "    .dataframe thead th {\n",
       "        text-align: right;\n",
       "    }\n",
       "</style>\n",
       "<table border=\"1\" class=\"dataframe\">\n",
       "  <thead>\n",
       "    <tr style=\"text-align: right;\">\n",
       "      <th></th>\n",
       "      <th>trend0_0</th>\n",
       "      <th>trend0_1</th>\n",
       "      <th>trend0_2</th>\n",
       "      <th>seaonality1_0</th>\n",
       "      <th>seaonality1_1</th>\n",
       "      <th>seaonality1_2</th>\n",
       "    </tr>\n",
       "  </thead>\n",
       "  <tbody>\n",
       "    <tr>\n",
       "      <th>theta_0_mean</th>\n",
       "      <td>0.030158507</td>\n",
       "      <td>-0.09999994</td>\n",
       "      <td>-0.047407907</td>\n",
       "      <td>0.5340244</td>\n",
       "      <td>0.17172885</td>\n",
       "      <td>0.6847748</td>\n",
       "    </tr>\n",
       "    <tr>\n",
       "      <th>theta_0_std</th>\n",
       "      <td>0.095339455</td>\n",
       "      <td>0.0</td>\n",
       "      <td>0.049849797</td>\n",
       "      <td>0.49798036</td>\n",
       "      <td>0.37993252</td>\n",
       "      <td>0.46578795</td>\n",
       "    </tr>\n",
       "    <tr>\n",
       "      <th>theta_1_mean</th>\n",
       "      <td>0.026253056</td>\n",
       "      <td>-0.09999994</td>\n",
       "      <td>-0.047407962</td>\n",
       "      <td>-0.53402257</td>\n",
       "      <td>-0.17172885</td>\n",
       "      <td>-0.6847748</td>\n",
       "    </tr>\n",
       "    <tr>\n",
       "      <th>theta_1_std</th>\n",
       "      <td>0.09642725</td>\n",
       "      <td>0.0</td>\n",
       "      <td>0.049849838</td>\n",
       "      <td>0.49798062</td>\n",
       "      <td>0.37993252</td>\n",
       "      <td>0.46578795</td>\n",
       "    </tr>\n",
       "    <tr>\n",
       "      <th>theta_2_mean</th>\n",
       "      <td>0.028064737</td>\n",
       "      <td>-0.028125003</td>\n",
       "      <td>-0.047407962</td>\n",
       "      <td>-0.24722561</td>\n",
       "      <td>-0.17172885</td>\n",
       "      <td>0.6847748</td>\n",
       "    </tr>\n",
       "    <tr>\n",
       "      <th>theta_2_std</th>\n",
       "      <td>0.09667421</td>\n",
       "      <td>0.096722074</td>\n",
       "      <td>0.049849838</td>\n",
       "      <td>0.68963945</td>\n",
       "      <td>0.37993252</td>\n",
       "      <td>0.46578795</td>\n",
       "    </tr>\n",
       "    <tr>\n",
       "      <th>att_mean</th>\n",
       "      <td>1</td>\n",
       "      <td>1</td>\n",
       "      <td>0.478223</td>\n",
       "      <td>0.538746</td>\n",
       "      <td>0.171806</td>\n",
       "      <td>0.686099</td>\n",
       "    </tr>\n",
       "    <tr>\n",
       "      <th>att_std</th>\n",
       "      <td>0</td>\n",
       "      <td>0</td>\n",
       "      <td>0.495361</td>\n",
       "      <td>0.493738</td>\n",
       "      <td>0.37711</td>\n",
       "      <td>0.462647</td>\n",
       "    </tr>\n",
       "  </tbody>\n",
       "</table>\n",
       "</div>"
      ],
      "text/plain": [
       "                 trend0_0      trend0_1      trend0_2 seaonality1_0  \\\n",
       "theta_0_mean  0.030158507   -0.09999994  -0.047407907     0.5340244   \n",
       "theta_0_std   0.095339455           0.0   0.049849797    0.49798036   \n",
       "theta_1_mean  0.026253056   -0.09999994  -0.047407962   -0.53402257   \n",
       "theta_1_std    0.09642725           0.0   0.049849838    0.49798062   \n",
       "theta_2_mean  0.028064737  -0.028125003  -0.047407962   -0.24722561   \n",
       "theta_2_std    0.09667421   0.096722074   0.049849838    0.68963945   \n",
       "att_mean                1             1      0.478223      0.538746   \n",
       "att_std                 0             0      0.495361      0.493738   \n",
       "\n",
       "             seaonality1_1 seaonality1_2  \n",
       "theta_0_mean    0.17172885     0.6847748  \n",
       "theta_0_std     0.37993252    0.46578795  \n",
       "theta_1_mean   -0.17172885    -0.6847748  \n",
       "theta_1_std     0.37993252    0.46578795  \n",
       "theta_2_mean   -0.17172885     0.6847748  \n",
       "theta_2_std     0.37993252    0.46578795  \n",
       "att_mean          0.171806      0.686099  \n",
       "att_std            0.37711      0.462647  "
      ]
     },
     "execution_count": null,
     "metadata": {},
     "output_type": "execute_result"
    }
   ],
   "source": [
    "learn.n_beats_attention.means()"
   ]
  },
  {
   "cell_type": "code",
   "execution_count": null,
   "metadata": {},
   "outputs": [
    {
     "name": "stdout",
     "output_type": "stream",
     "text": [
      "Converted .ipynb.\n",
      "Converted 00_core.ipynb.\n",
      "Converted 01_data.external.ipynb.\n",
      "Converted 02_data.load.ipynb.\n",
      "Converted 03_data.core.ipynb.\n",
      "Converted 04_data.transforms.ipynb.\n",
      "Converted 05_nbeats.models.ipynb.\n",
      "Converted 06_nbeats.metrics.ipynb.\n",
      "Converted 07_nbeats.learner.ipynb.\n",
      "Converted 08_nbeats.interpret.ipynb.\n",
      "Converted 11_metrics.ipynb.\n",
      "Converted Untitled.ipynb.\n",
      "Converted index.ipynb.\n"
     ]
    }
   ],
   "source": [
    "# hide\n",
    "from nbdev.export import *\n",
    "notebook2script()"
   ]
  },
  {
   "cell_type": "code",
   "execution_count": null,
   "metadata": {},
   "outputs": [],
   "source": []
  }
 ],
 "metadata": {
  "kernelspec": {
   "display_name": "env37",
   "language": "python",
   "name": "env37"
  }
 },
 "nbformat": 4,
 "nbformat_minor": 4
}
