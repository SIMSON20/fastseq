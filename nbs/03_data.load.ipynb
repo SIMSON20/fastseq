{
 "cells": [
  {
   "cell_type": "code",
   "execution_count": null,
   "metadata": {},
   "outputs": [],
   "source": [
    "# default_exp data.load "
   ]
  },
  {
   "cell_type": "code",
   "execution_count": null,
   "metadata": {},
   "outputs": [],
   "source": [
    "# hide\n",
    "import sys\n",
    "\n",
    "sys.path.append(\"..\")"
   ]
  },
  {
   "cell_type": "code",
   "execution_count": null,
   "metadata": {},
   "outputs": [
    {
     "name": "stderr",
     "output_type": "stream",
     "text": [
      "/home/tako/dev/env37/lib/python3.7/site-packages/pandas/compat/__init__.py:85: UserWarning: Could not import the lzma module. Your installed Python is incomplete. Attempting to use lzma compression will result in a RuntimeError.\n",
      "  warnings.warn(msg)\n"
     ]
    }
   ],
   "source": [
    "# export\n",
    "from fastseq.core import *\n",
    "from fastseq.data.external import *\n",
    "from fastcore.utils import *\n",
    "from fastcore.imports import *\n",
    "from fastai2.basics import *\n",
    "from fastai2.data.transforms import *\n",
    "from fastai2.tabular.core import *\n",
    "from fastseq.data.transforms import *"
   ]
  },
  {
   "cell_type": "code",
   "execution_count": null,
   "metadata": {},
   "outputs": [],
   "source": [
    "from nbdev.showdoc import *"
   ]
  },
  {
   "cell_type": "markdown",
   "metadata": {},
   "source": [
    "# Data\n",
    "\n",
    "> Using the fastai2 `DataSource` to make an time series dataset.\n",
    "\n",
    "For now all is univerable but in the future I would also like to add multiplevariable. "
   ]
  },
  {
   "cell_type": "code",
   "execution_count": null,
   "metadata": {},
   "outputs": [],
   "source": [
    "# export\n",
    "import numpy as np\n",
    "import pandas as pd\n",
    "from torch.utils.data import Dataset, DataLoader"
   ]
  },
  {
   "cell_type": "markdown",
   "metadata": {},
   "source": [
    "# Dataloader"
   ]
  },
  {
   "cell_type": "code",
   "execution_count": null,
   "metadata": {},
   "outputs": [],
   "source": [
    "# export\n",
    "# TODO maybe incl. start where the last one ended and therefor keep hidden state\n",
    "@delegates()\n",
    "class TSDataLoader(TfmdDL):\n",
    "    def __init__(self, items, horizon, lookback=72, step=1, bs=64, norm=True,\n",
    "                 num_workers=0, after_batch=None, device=None, after_item = None, **kwargs):\n",
    "        self.horizon, self.lookback, self.step = horizon, lookback, step\n",
    "        self.items = self.norm_items(items, norm)\n",
    "        n = self.make_ids()        \n",
    "        after_batch = ifnone(after_batch, noop)\n",
    "        after_item = ifnone(after_item, noop)\n",
    "        super().__init__(dataset=items, bs=bs, num_workers=num_workers, after_batch=after_batch,\n",
    "                         after_item=after_item, **kwargs)\n",
    "        self.n = n\n",
    "        \n",
    "    def norm_items(self, items, norm):\n",
    "        items = items.map(tensor)\n",
    "        r=L()\n",
    "        for i,ts in enumerate(items):\n",
    "            ts = ts.float()\n",
    "            if norm:\n",
    "                ts = (ts - torch.mean(ts.float(), -1, keepdim = True))/(torch.std(ts.float(), -1, keepdim = True)+1e-8)\n",
    "            r.append(ts)\n",
    "        return r\n",
    "    \n",
    "    def make_ids(self):        \n",
    "        # Slice each time series into examples, assigning IDs to each\n",
    "        last_id = 0\n",
    "        n_dropped = 0\n",
    "        n_needs_padding = 0\n",
    "        self._ids = {}\n",
    "        for i, ts in enumerate(self.items):\n",
    "            if isinstance(ts,tuple):\n",
    "                ts = ts[0] # no idea why they become tuples \n",
    "            num_examples = (ts.shape[-1] - self.lookback - self.horizon + self.step) // self.step\n",
    "            # Time series shorter than the forecast horizon need to be dropped.\n",
    "            if ts.shape[-1] < self.horizon:\n",
    "                n_dropped += 1\n",
    "                continue\n",
    "            # For short time series zero pad the input\n",
    "            if ts.shape[-1] < self.lookback + self.horizon:\n",
    "                n_needs_padding += 1\n",
    "                num_examples = 1                \n",
    "            for j in range(num_examples):\n",
    "                self._ids[last_id + j] = (i, j * self.step)\n",
    "            last_id += num_examples\n",
    "\n",
    "        # Inform user about time series that were too short\n",
    "        if n_dropped > 0:\n",
    "            print(\"Dropped {}/{} time series due to length.\".format(\n",
    "                    n_dropped, len(self.items)))\n",
    "        \n",
    "        # Inform user about time series that were short\n",
    "        if n_needs_padding > 0:\n",
    "            print(\"Need to pad {}/{} time series due to length.\".format(\n",
    "                    n_needs_padding, len(self.items)))\n",
    "        # Store the number of training examples\n",
    "        return int(self._ids.__len__() )\n",
    "    \n",
    "    def get_id(self,idx):        \n",
    "        # Get time series\n",
    "        ts_id, lookback_id = self._ids[idx]\n",
    "        ts = self.items[ts_id]\n",
    "        if isinstance(ts,tuple):\n",
    "            ts = ts[0] # no idea why they become tuples \n",
    "        # Prepare input and target. Zero pad if necessary.\n",
    "        if ts.shape[-1] < self.lookback + self.horizon:\n",
    "            # If the time series is too short, we zero pad\n",
    "            x = ts[:, :-self.horizon]\n",
    "            x = np.pad(\n",
    "                x, \n",
    "                pad_width=((0, 0), (self.lookback - x.shape[-1], 0)), \n",
    "                mode='constant', \n",
    "                constant_values=0\n",
    "            )         \n",
    "            y = ts[:,-self.horizon:]\n",
    "        else:\n",
    "            x = ts[:,lookback_id:lookback_id + self.lookback]\n",
    "            y = ts[:,lookback_id + self.lookback:lookback_id + self.lookback + self.horizon]\n",
    "        return x, y\n",
    "        \n",
    "    def shuffle_fn(self, idxs):\n",
    "        self.items.shuffle()\n",
    "        return idxs\n",
    "\n",
    "    def create_item(self, idx):\n",
    "        if idx>=self.n: raise IndexError\n",
    "        x, y = self.get_id(idx)\n",
    "        return TSTensorSeq(x),TSTensorSeqy(y, x_len=x.shape[1], m='-*g')\n"
   ]
  },
  {
   "cell_type": "code",
   "execution_count": null,
   "metadata": {},
   "outputs": [],
   "source": [
    "# hide\n",
    "\n",
    "horizon,lookback = 2,5\n",
    "ints = L(np.arange(7)[None,:],np.arange(7,15)[None,:],np.arange(15,25)[None,:]).map(tensor)\n",
    "dl = TSDataLoader(ints, horizon, lookback, bs = 2)\n",
    "test_eq(dl.n, len(dl._ids))\n",
    "test_eq(dl.n, 7)\n",
    "test_eq(len(dl),4)    \n",
    "horizon,lookback = 2,5\n",
    "\n",
    "ints = L(np.arange(10)[None,:],np.arange(20,30)[None,:],np.arange(40,50)[None,:])\n",
    "dl = TSDataLoader(ints, horizon, lookback, bs=6, shuffle=True)\n",
    "\n",
    "test_eq(dl.n, len(dl._ids))\n",
    "test_eq(dl.n, 12)\n",
    "test_eq(len(dl), 2)"
   ]
  },
  {
   "cell_type": "code",
   "execution_count": null,
   "metadata": {},
   "outputs": [
    {
     "name": "stdout",
     "output_type": "stream",
     "text": [
      "Need to pad 1/4 time series due to length.\n"
     ]
    }
   ],
   "source": [
    "# hide\n",
    "horizon,lookback = 2,5\n",
    "ints = L(np.arange(7)[None,:],np.arange(7,15)[None,:],np.arange(15,20)[None,:],np.arange(20,29)[None,:]).map(tensor)\n",
    "dl = TSDataLoader(ints, horizon, lookback, norm=False)\n",
    "test_eq(\n",
    "    L(dl),\n",
    "    [(tensor([[[ 0.,  1.,  2.,  3.,  4.]],\n",
    "        [[ 7.,  8.,  9., 10., 11.]],\n",
    "        [[ 8.,  9., 10., 11., 12.]],\n",
    "        [[ 0.,  0., 15., 16., 17.]],\n",
    "        [[20., 21., 22., 23., 24.]],\n",
    "        [[21., 22., 23., 24., 25.]],\n",
    "        [[22., 23., 24., 25., 26.]]]), \n",
    "      tensor([[[ 5.,  6.]],\n",
    "              [[12., 13.]],\n",
    "              [[13., 14.]],\n",
    "              [[18., 19.]],\n",
    "              [[25., 26.]],\n",
    "              [[26., 27.]],\n",
    "              [[27., 28.]]\n",
    "             ]\n",
    "            ))])"
   ]
  },
  {
   "cell_type": "code",
   "execution_count": null,
   "metadata": {},
   "outputs": [
    {
     "data": {
      "text/plain": [
       "(#2) [tensor([[0, 1, 2, 3, 4, 5, 6, 7, 8]]),tensor([[ 9, 10, 11, 12, 13]])]"
      ]
     },
     "execution_count": null,
     "metadata": {},
     "output_type": "execute_result"
    }
   ],
   "source": [
    "horizon,lookback = 2,5\n",
    "ints = L(np.arange(9)[None,:],np.arange(9,14)[None,:]).map(tensor)\n",
    "ints"
   ]
  },
  {
   "cell_type": "code",
   "execution_count": null,
   "metadata": {},
   "outputs": [
    {
     "name": "stdout",
     "output_type": "stream",
     "text": [
      "Need to pad 1/2 time series due to length.\n"
     ]
    }
   ],
   "source": [
    "dl = TSDataLoader(ints, horizon, lookback, step=2, norm=False)\n",
    "test_eq(list(dl),[(tensor([[[ 0.,  1.,  2.,  3.,  4.]],\n",
    "                           [[ 2.,  3.,  4.,  5.,  6.]],\n",
    "                           [[ 0.,  0.,  9., 10., 11.]]]),\n",
    "                   tensor([[[ 5.,  6.]],\n",
    "                           [[ 7.,  8.]],\n",
    "                           [[12., 13.]]]))]\n",
    "       )"
   ]
  },
  {
   "cell_type": "markdown",
   "metadata": {},
   "source": [
    "The first sequence (0 to 7) is transformed in to two items. One with x from 0 to 5 and y from 6 to 7. \n",
    "The next one is shifted just two, because `step` == 2. Note the second sequence is not long enough and is therefore padded with `0`'s."
   ]
  },
  {
   "cell_type": "code",
   "execution_count": null,
   "metadata": {},
   "outputs": [],
   "source": [
    "# hide\n",
    "ints = L(np.arange(7)[None,:]).map(tensor)\n",
    "dl = TSDataLoader(ints, horizon, lookback, shuffle=True, norm=True)\n",
    "xy = tuple(dl)\n",
    "test_eq(type(xy[0][0]), TSTensorSeq)\n",
    "test_eq(xy[0][1].shape,(1,1,horizon))\n",
    "test_close(torch.cat([xy[0][0][0,0,:],xy[0][1][0,0,:]]).mean(),0)"
   ]
  },
  {
   "cell_type": "markdown",
   "metadata": {},
   "source": [
    "# Showing"
   ]
  },
  {
   "cell_type": "code",
   "execution_count": null,
   "metadata": {},
   "outputs": [],
   "source": [
    "# export\n",
    "\n",
    "from fastai2.vision.data import *\n",
    "\n",
    "@typedispatch\n",
    "def show_batch(x: TensorSeq, y, samples, ctxs=None, max_n=10,rows=None, cols=None, figsize=None, **kwargs):\n",
    "    if ctxs is None: ctxs = get_grid(min(len(samples), max_n), rows=rows, cols=cols, add_vert=1, figsize=figsize)\n",
    "    ctxs = show_batch[object](x, y, samples=samples, ctxs=ctxs, max_n=max_n, **kwargs)\n",
    "    return ctxs\n"
   ]
  },
  {
   "cell_type": "code",
   "execution_count": null,
   "metadata": {},
   "outputs": [],
   "source": [
    "#export\n",
    "@typedispatch\n",
    "def show_results(x: TensorSeq, y, samples, outs, ctxs=None, max_n=9,rows=None, cols=None, figsize=None, **kwargs):\n",
    "    if ctxs is None: ctxs = get_grid(min(len(samples), max_n), rows=rows, cols=cols, add_vert=1, figsize=figsize)\n",
    "    for i in range(len(samples[0])):\n",
    "        ctxs = [b.show(ctx=c, **kwargs) for b,c,_ in zip(samples.itemgot(i),ctxs,range(max_n))]\n",
    "    for i in range(len(outs[0])):\n",
    "        ctxs = [TSTensorSeqy(b ,m='*r', label='pred', x_len=x.shape[-1]).show(ctx=c, **kwargs) for b,c,_ in zip(outs.itemgot(i),ctxs,range(max_n))]\n",
    "    return ctxs"
   ]
  },
  {
   "cell_type": "markdown",
   "metadata": {},
   "source": [
    "# Intergration Example"
   ]
  },
  {
   "cell_type": "code",
   "execution_count": null,
   "metadata": {},
   "outputs": [],
   "source": [
    "from fastseq.core import *\n",
    "from fastai2.basics import *"
   ]
  },
  {
   "cell_type": "code",
   "execution_count": null,
   "metadata": {},
   "outputs": [
    {
     "data": {
      "text/html": [
       "<div>\n",
       "<style scoped>\n",
       "    .dataframe tbody tr th:only-of-type {\n",
       "        vertical-align: middle;\n",
       "    }\n",
       "\n",
       "    .dataframe tbody tr th {\n",
       "        vertical-align: top;\n",
       "    }\n",
       "\n",
       "    .dataframe thead th {\n",
       "        text-align: right;\n",
       "    }\n",
       "</style>\n",
       "<table border=\"1\" class=\"dataframe\">\n",
       "  <thead>\n",
       "    <tr style=\"text-align: right;\">\n",
       "      <th></th>\n",
       "      <th>V1</th>\n",
       "      <th>V2</th>\n",
       "      <th>V3</th>\n",
       "      <th>V4</th>\n",
       "      <th>V5</th>\n",
       "      <th>V6</th>\n",
       "      <th>V7</th>\n",
       "      <th>V8</th>\n",
       "      <th>V9</th>\n",
       "      <th>V10</th>\n",
       "      <th>V11</th>\n",
       "      <th>V12</th>\n",
       "      <th>V13</th>\n",
       "      <th>V14</th>\n",
       "      <th>V15</th>\n",
       "    </tr>\n",
       "  </thead>\n",
       "  <tbody>\n",
       "    <tr>\n",
       "      <th>0</th>\n",
       "      <td>D1</td>\n",
       "      <td>2039.20</td>\n",
       "      <td>2035.00</td>\n",
       "      <td>2051.80</td>\n",
       "      <td>2061.8</td>\n",
       "      <td>2063.50</td>\n",
       "      <td>2069.5</td>\n",
       "      <td>2054.00</td>\n",
       "      <td>2057.00</td>\n",
       "      <td>2062.80</td>\n",
       "      <td>2066.40</td>\n",
       "      <td>2067.40</td>\n",
       "      <td>2071.40</td>\n",
       "      <td>2083.80</td>\n",
       "      <td>2080.60</td>\n",
       "    </tr>\n",
       "    <tr>\n",
       "      <th>1</th>\n",
       "      <td>D2</td>\n",
       "      <td>2986.00</td>\n",
       "      <td>3001.20</td>\n",
       "      <td>2975.90</td>\n",
       "      <td>2996.1</td>\n",
       "      <td>2981.90</td>\n",
       "      <td>2985.5</td>\n",
       "      <td>2975.80</td>\n",
       "      <td>2956.20</td>\n",
       "      <td>2964.70</td>\n",
       "      <td>2989.00</td>\n",
       "      <td>2991.40</td>\n",
       "      <td>3024.90</td>\n",
       "      <td>3070.80</td>\n",
       "      <td>3076.90</td>\n",
       "    </tr>\n",
       "    <tr>\n",
       "      <th>2</th>\n",
       "      <td>D3</td>\n",
       "      <td>1120.70</td>\n",
       "      <td>1117.90</td>\n",
       "      <td>1115.10</td>\n",
       "      <td>1112.3</td>\n",
       "      <td>1109.50</td>\n",
       "      <td>1106.7</td>\n",
       "      <td>1103.90</td>\n",
       "      <td>1101.10</td>\n",
       "      <td>1098.30</td>\n",
       "      <td>1095.50</td>\n",
       "      <td>1092.70</td>\n",
       "      <td>1089.90</td>\n",
       "      <td>1087.10</td>\n",
       "      <td>1084.30</td>\n",
       "    </tr>\n",
       "    <tr>\n",
       "      <th>3</th>\n",
       "      <td>D4</td>\n",
       "      <td>1190.00</td>\n",
       "      <td>1162.00</td>\n",
       "      <td>1134.00</td>\n",
       "      <td>1106.0</td>\n",
       "      <td>1078.00</td>\n",
       "      <td>1050.0</td>\n",
       "      <td>1022.00</td>\n",
       "      <td>994.00</td>\n",
       "      <td>966.00</td>\n",
       "      <td>938.00</td>\n",
       "      <td>910.00</td>\n",
       "      <td>1428.00</td>\n",
       "      <td>1400.00</td>\n",
       "      <td>1372.00</td>\n",
       "    </tr>\n",
       "    <tr>\n",
       "      <th>4</th>\n",
       "      <td>D5</td>\n",
       "      <td>5904.67</td>\n",
       "      <td>5917.05</td>\n",
       "      <td>5922.58</td>\n",
       "      <td>5928.8</td>\n",
       "      <td>5935.29</td>\n",
       "      <td>6002.8</td>\n",
       "      <td>6009.47</td>\n",
       "      <td>6014.82</td>\n",
       "      <td>6020.19</td>\n",
       "      <td>6072.49</td>\n",
       "      <td>6077.72</td>\n",
       "      <td>6080.23</td>\n",
       "      <td>6082.75</td>\n",
       "      <td>6108.07</td>\n",
       "    </tr>\n",
       "  </tbody>\n",
       "</table>\n",
       "</div>"
      ],
      "text/plain": [
       "   V1       V2       V3       V4      V5       V6      V7       V8       V9  \\\n",
       "0  D1  2039.20  2035.00  2051.80  2061.8  2063.50  2069.5  2054.00  2057.00   \n",
       "1  D2  2986.00  3001.20  2975.90  2996.1  2981.90  2985.5  2975.80  2956.20   \n",
       "2  D3  1120.70  1117.90  1115.10  1112.3  1109.50  1106.7  1103.90  1101.10   \n",
       "3  D4  1190.00  1162.00  1134.00  1106.0  1078.00  1050.0  1022.00   994.00   \n",
       "4  D5  5904.67  5917.05  5922.58  5928.8  5935.29  6002.8  6009.47  6014.82   \n",
       "\n",
       "       V10      V11      V12      V13      V14      V15  \n",
       "0  2062.80  2066.40  2067.40  2071.40  2083.80  2080.60  \n",
       "1  2964.70  2989.00  2991.40  3024.90  3070.80  3076.90  \n",
       "2  1098.30  1095.50  1092.70  1089.90  1087.10  1084.30  \n",
       "3   966.00   938.00   910.00  1428.00  1400.00  1372.00  \n",
       "4  6020.19  6072.49  6077.72  6080.23  6082.75  6108.07  "
      ]
     },
     "execution_count": null,
     "metadata": {},
     "output_type": "execute_result"
    }
   ],
   "source": [
    "path = untar_data(URLs.m4_daily)\n",
    "df_train = pd.read_csv(path/'train.csv',nrows=100)\n",
    "df_test = pd.read_csv(path/'val.csv')\n",
    "df_test.head()"
   ]
  },
  {
   "cell_type": "code",
   "execution_count": null,
   "metadata": {},
   "outputs": [],
   "source": [
    "items = ts_lists(df_train.iloc[:,1:].values)"
   ]
  },
  {
   "cell_type": "code",
   "execution_count": null,
   "metadata": {},
   "outputs": [],
   "source": [
    "horizon = 14\n",
    "lookback = 128"
   ]
  },
  {
   "cell_type": "code",
   "execution_count": null,
   "metadata": {},
   "outputs": [],
   "source": [
    "splits = RandomSplitter()(items)"
   ]
  },
  {
   "cell_type": "code",
   "execution_count": null,
   "metadata": {},
   "outputs": [
    {
     "name": "stdout",
     "output_type": "stream",
     "text": [
      "Need to pad 6/80 time series due to length.\n",
      "Need to pad 2/20 time series due to length.\n"
     ]
    },
    {
     "data": {
      "image/png": "[encoded data removed]",
      "text/plain": [
       "<Figure size 432x720 with 6 Axes>"
      ]
     },
     "metadata": {
      "needs_background": "light"
     },
     "output_type": "display_data"
    }
   ],
   "source": [
    "dsrc = DataSource(items, splits=splits, dl_type=TSDataLoader)\n",
    "dbunch = dsrc.databunch(bs=16, horizon=horizon, lookback=lookback, step=10)\n",
    "dbunch.show_batch(max_n=6)"
   ]
  },
  {
   "cell_type": "markdown",
   "metadata": {},
   "source": [
    "# TSDataBunch"
   ]
  },
  {
   "cell_type": "code",
   "execution_count": null,
   "metadata": {},
   "outputs": [
    {
     "data": {
      "text/plain": [
       "(#2) [Path('/home/tako/.fastai/data/m4_daily/train.csv'),Path('/home/tako/.fastai/data/m4_daily/val.csv')]"
      ]
     },
     "execution_count": null,
     "metadata": {},
     "output_type": "execute_result"
    }
   ],
   "source": [
    "from fastseq.data.external import *\n",
    "from fastai2.basics import *\n",
    "path = untar_data(URLs.m4_daily)\n",
    "path.ls()"
   ]
  },
  {
   "cell_type": "code",
   "execution_count": null,
   "metadata": {},
   "outputs": [],
   "source": [
    "#export\n",
    "def TSBlock():\n",
    "    return TransformBlock(dl_type=TSDataLoader,)"
   ]
  },
  {
   "cell_type": "code",
   "execution_count": null,
   "metadata": {},
   "outputs": [],
   "source": [
    "# export \n",
    "def concat_ts_list(train, val):\n",
    "    items=L()\n",
    "    assert len(train) == len(val)\n",
    "    for t, v in zip(train, val):\n",
    "        items.append(np.concatenate([t,v],1))\n",
    "    return items"
   ]
  },
  {
   "cell_type": "code",
   "execution_count": null,
   "metadata": {},
   "outputs": [],
   "source": [
    "a = [np.random.randn(3,10)]*50\n",
    "b = [np.random.randn(3,5)]*50\n",
    "r = concat_ts_list(a,b)\n",
    "test_eq(r[0].shape,(3,15))\n",
    "test_eq(r[0], np.concatenate([a[0],b[0]],1))"
   ]
  },
  {
   "cell_type": "code",
   "execution_count": null,
   "metadata": {},
   "outputs": [],
   "source": [
    "# export \n",
    "def make_test(items:L(), horizon:int, lookback:int, keep_lookback:bool = False):\n",
    "    \"\"\"Splits the every ts in `items` based on `horizon + lookback`*, where the last part will go into `val` and the first in `train`.\n",
    "    \n",
    "    *if `keep_lookback`:\n",
    "        it will only remove `horizon` from `train` otherwise also lookback.\n",
    "    \"\"\"\n",
    "    train, val = L(), L()\n",
    "    for ts in items:        \n",
    "        val.append(ts[:, -(horizon+lookback):])\n",
    "        if keep_lookback:\n",
    "            train.append(ts[:, :-(horizon)])\n",
    "        else:\n",
    "            train.append(ts[:, :-(horizon+lookback)])\n",
    "            \n",
    "    return train, val\n",
    "\n",
    "def make_test_pct(items:L(), pct:float):\n",
    "    \"\"\"Splits the every ts in `items` based on `pct`(percentage) of the length of the timeserie, where the last part will go into `val` and the first in `train`.\n",
    "    \n",
    "    \"\"\"\n",
    "    train, val = L(), L()\n",
    "    for ts in items:        \n",
    "        split_idx = int((1-pct)*ts.shape[1])   \n",
    "        train.append(ts[:,:split_idx])\n",
    "        val.append(ts[:,split_idx:])\n",
    "            \n",
    "    return train, val"
   ]
  },
  {
   "cell_type": "code",
   "execution_count": null,
   "metadata": {},
   "outputs": [],
   "source": [
    "a = [np.random.randn(3,15)]*50\n",
    "train, val = make_test(a,5,5)\n",
    "test_eq(train[0],a[0][:,:-10])\n",
    "test_eq(val[0],a[0][:,-10:])\n",
    "\n",
    "train, val = make_test(a,5,5,True)\n",
    "test_eq(train[0],a[0][:,:-5])\n",
    "test_eq(val[0],a[0][:,-10:])"
   ]
  },
  {
   "cell_type": "code",
   "execution_count": null,
   "metadata": {},
   "outputs": [],
   "source": [
    "#export\n",
    "class TSDataBunch(DataBunch):\n",
    "    @classmethod\n",
    "    @delegates(DataBunch.__init__)\n",
    "    def from_folder(cls, path, valid_pct=.5, seed=None, horizon=None, lookback=None, step=1, device=None,\n",
    "                   nrows=None, skiprows=None, **kwargs):\n",
    "        \"\"\"Create from M-compition style in `path` with `train`,`test` csv-files. \n",
    "        \n",
    "        The `DataLoader` for the test set will be save as an attribute under `test_dl`\n",
    "        \"\"\"\n",
    "        train, test = get_ts_files(path, nrows=nrows, skiprows=skiprows)\n",
    "        items = concat_ts_list(train, test)\n",
    "        horizon = ifnone(horizon, len(test[0]))\n",
    "        lookback = ifnone(lookback, horizon * 3)\n",
    "        return cls.from_items(items, horizon, lookback = lookback, path=path, step = step, device = device, **kwargs)\n",
    "\n",
    "\n",
    "    @classmethod\n",
    "    @delegates(DataBunch.__init__)\n",
    "    def from_items(cls, items:L, horizon:int, path:Path='.', valid_pct=.5, seed=None, lookback=None, step=1,\n",
    "                   device=None, **kwargs):\n",
    "        \"\"\"Create an list of time series. \n",
    "\n",
    "        The `DataLoader` for the test set will be save as an attribute under `test_dl`\n",
    "        \"\"\"\n",
    "        lookback = ifnone(lookback, horizon * 4)\n",
    "        items, test = make_test(items, horizon, lookback, keep_lookback = True)\n",
    "        train, valid = make_test(items, int(lookback*valid_pct), lookback, keep_lookback = True)\n",
    "        items = L(*train,*valid,*test)\n",
    "        splits = IndexsSplitter(len(train),len(train)+len(valid), True)(items)\n",
    "        dsrc = DataSource(items, noop, splits=splits, dl_type = TSDataLoader)\n",
    "        db = dsrc.databunch(horizon=horizon, lookback=lookback, step=step, device=device, **kwargs)\n",
    "        db.test_dl = TSDataLoader(test, horizon=horizon, lookback=lookback, step=step, device=device)\n",
    "        print(f\"Train:{db.train_dl.n}; Valid: {db.valid_dl.n}; Test {db.test_dl.n}\")\n",
    "#         TODO add with test_dl, currently give buges \n",
    "        return db "
   ]
  },
  {
   "cell_type": "code",
   "execution_count": null,
   "metadata": {},
   "outputs": [
    {
     "name": "stdout",
     "output_type": "stream",
     "text": [
      "Train:4300; Valid: 1500; Test 100\n"
     ]
    }
   ],
   "source": [
    "# hide\n",
    "horizon = 14\n",
    "items = dummy_data_generator(horizon*10, horizon, nrows=100)\n",
    "dbunch = TSDataBunch.from_items(items, horizon)"
   ]
  },
  {
   "cell_type": "code",
   "execution_count": null,
   "metadata": {},
   "outputs": [],
   "source": [
    "# hide\n",
    "from fastseq.models.nbeats import *\n",
    "learn = nbeats_learner(dbunch)"
   ]
  },
  {
   "cell_type": "code",
   "execution_count": null,
   "metadata": {},
   "outputs": [
    {
     "data": {
      "text/html": [
       "<table border=\"1\" class=\"dataframe\">\n",
       "  <thead>\n",
       "    <tr style=\"text-align: left;\">\n",
       "      <th>epoch</th>\n",
       "      <th>train_loss</th>\n",
       "      <th>valid_loss</th>\n",
       "      <th>mae</th>\n",
       "      <th>smape</th>\n",
       "      <th>time</th>\n",
       "    </tr>\n",
       "  </thead>\n",
       "  <tbody>\n",
       "    <tr>\n",
       "      <td>0</td>\n",
       "      <td>311245.468750</td>\n",
       "      <td>6473.436523</td>\n",
       "      <td>50.895847</td>\n",
       "      <td>251124.312500</td>\n",
       "      <td>00:03</td>\n",
       "    </tr>\n",
       "  </tbody>\n",
       "</table>"
      ],
      "text/plain": [
       "<IPython.core.display.HTML object>"
      ]
     },
     "metadata": {},
     "output_type": "display_data"
    },
    {
     "data": {
      "text/html": [],
      "text/plain": [
       "<IPython.core.display.HTML object>"
      ]
     },
     "metadata": {},
     "output_type": "display_data"
    },
    {
     "data": {
      "image/png": "[encoded data removed]",
      "text/plain": [
       "<Figure size 648x720 with 9 Axes>"
      ]
     },
     "metadata": {
      "needs_background": "light"
     },
     "output_type": "display_data"
    }
   ],
   "source": [
    "# hide\n",
    "learn.fit(1,1e-4)\n",
    "learn.show_results(max_n=9)"
   ]
  },
  {
   "cell_type": "code",
   "execution_count": null,
   "metadata": {},
   "outputs": [
    {
     "name": "stdout",
     "output_type": "stream",
     "text": [
      "Train:9672; Valid: 200; Test 100\n"
     ]
    }
   ],
   "source": [
    "# hide\n",
    "dbunch = TSDataBunch.from_folder(path, horizon = 14, step=5, bs=64, nrows=100, device = 'cpu')\n",
    "for o in dbunch.train_dl:\n",
    "    test_eq(o[0].is_cuda, False)\n",
    "    break\n",
    "for o in dbunch.valid_dl:\n",
    "    test_eq(o[0].is_cuda, False)\n",
    "    break\n",
    "    "
   ]
  },
  {
   "cell_type": "code",
   "execution_count": null,
   "metadata": {},
   "outputs": [],
   "source": [
    "# hide\n",
    "test_eq(dbunch.train_dl.n,9672)\n",
    "test_eq(dbunch.valid_dl.n,200)\n",
    "test_eq(dbunch.test_dl.n,100)"
   ]
  },
  {
   "cell_type": "code",
   "execution_count": null,
   "metadata": {},
   "outputs": [
    {
     "data": {
      "text/markdown": [
       "<h4 id=\"TSDataBunch.from_items\" class=\"doc_header\"><code>TSDataBunch.from_items</code><a href=\"__main__.py#L18\" class=\"source_link\" style=\"float:right\">[source]</a></h4>\n",
       "\n",
       "> <code>TSDataBunch.from_items</code>(**`items`**:`L`, **`horizon`**:`int`, **`path`**:`Path`=*`'.'`*, **`valid_pct`**=*`0.5`*, **`seed`**=*`None`*, **`lookback`**=*`None`*, **`step`**=*`1`*, **`device`**=*`None`*)\n",
       "\n",
       "Create an list of time series. \n",
       "\n",
       "The `DataLoader` for the test set will be save as an attribute under `test_dl`"
      ],
      "text/plain": [
       "<IPython.core.display.Markdown object>"
      ]
     },
     "metadata": {},
     "output_type": "display_data"
    }
   ],
   "source": [
    "show_doc(TSDataBunch.from_items, name='TSDataBunch.from_items')"
   ]
  },
  {
   "cell_type": "code",
   "execution_count": null,
   "metadata": {},
   "outputs": [
    {
     "data": {
      "text/markdown": [
       "<h4 id=\"TSDataBunch.from_folder\" class=\"doc_header\"><code>TSDataBunch.from_folder</code><a href=\"__main__.py#L3\" class=\"source_link\" style=\"float:right\">[source]</a></h4>\n",
       "\n",
       "> <code>TSDataBunch.from_folder</code>(**`path`**, **`valid_pct`**=*`0.5`*, **`seed`**=*`None`*, **`horizon`**=*`None`*, **`lookback`**=*`None`*, **`step`**=*`1`*, **`device`**=*`None`*, **`nrows`**=*`None`*, **`skiprows`**=*`None`*)\n",
       "\n",
       "Create from M-compition style in `path` with `train`,`test` csv-files. \n",
       "\n",
       "The `DataLoader` for the test set will be save as an attribute under `test_dl`"
      ],
      "text/plain": [
       "<IPython.core.display.Markdown object>"
      ]
     },
     "metadata": {},
     "output_type": "display_data"
    }
   ],
   "source": [
    "show_doc(TSDataBunch.from_folder, name='TSDataBunch.from_folder')"
   ]
  },
  {
   "cell_type": "code",
   "execution_count": null,
   "metadata": {},
   "outputs": [
    {
     "name": "stdout",
     "output_type": "stream",
     "text": [
      "Train:9672; Valid: 200; Test 100\n"
     ]
    },
    {
     "data": {
      "image/png": "[encoded data removed]",
      "text/plain": [
       "<Figure size 432x504 with 4 Axes>"
      ]
     },
     "metadata": {
      "needs_background": "light"
     },
     "output_type": "display_data"
    }
   ],
   "source": [
    "dbunch = TSDataBunch.from_folder(path, horizon = 14, step=5, bs=64, nrows=100)\n",
    "dbunch.train_dl.show_batch(max_n=3)"
   ]
  },
  {
   "cell_type": "code",
   "execution_count": null,
   "metadata": {},
   "outputs": [
    {
     "data": {
      "image/png": "[encoded data removed]",
      "text/plain": [
       "<Figure size 432x504 with 4 Axes>"
      ]
     },
     "metadata": {
      "needs_background": "light"
     },
     "output_type": "display_data"
    }
   ],
   "source": [
    "dbunch.test_dl.show_batch(max_n=3)"
   ]
  },
  {
   "cell_type": "code",
   "execution_count": null,
   "metadata": {},
   "outputs": [
    {
     "name": "stdout",
     "output_type": "stream",
     "text": [
      "Converted 00_core.ipynb.\n",
      "Converted 01_data.external.ipynb.\n",
      "Converted 03_data.load.ipynb.\n",
      "Converted 04_data.transforms.ipynb.\n",
      "Converted 05_models.wavenet.ipynb.\n",
      "Converted 06_models.dnn.ipynb.\n",
      "Converted 07_interpret.ipynb.\n",
      "Converted 08_metrics.ipynb.\n",
      "Converted 09_learner.ipynb.\n",
      "Converted 10_models.nbeats.ipynb.\n",
      "Converted 20_models.cnn.learner.ipynb.\n",
      "Converted 21_models.cnn.transforms.ipynb.\n",
      "Converted index.ipynb.\n"
     ]
    }
   ],
   "source": [
    "# hide\n",
    "from nbdev.export import *\n",
    "\n",
    "notebook2script()"
   ]
  },
  {
   "cell_type": "code",
   "execution_count": null,
   "metadata": {},
   "outputs": [],
   "source": []
  }
 ],
 "metadata": {
  "kernelspec": {
   "display_name": "env37",
   "language": "python",
   "name": "env37"
  }
 },
 "nbformat": 4,
 "nbformat_minor": 4
}
