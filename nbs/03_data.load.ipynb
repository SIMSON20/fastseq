{
 "cells": [
  {
   "cell_type": "code",
   "execution_count": 1,
   "metadata": {},
   "outputs": [],
   "source": [
    "# default_exp data.load "
   ]
  },
  {
   "cell_type": "code",
   "execution_count": 1,
   "metadata": {
    "Collapsed": "false"
   },
   "outputs": [],
   "source": [
    "# hide\n",
    "import sys\n",
    "\n",
    "sys.path.append(\"..\")"
   ]
  },
  {
   "cell_type": "code",
   "execution_count": 2,
   "metadata": {},
   "outputs": [
    {
     "name": "stderr",
     "output_type": "stream",
     "text": [
      "/home/tako/dev/env3.7/lib/python3.7/site-packages/pandas/compat/__init__.py:85: UserWarning: Could not import the lzma module. Your installed Python is incomplete. Attempting to use lzma compression will result in a RuntimeError.\n",
      "  warnings.warn(msg)\n",
      "/home/tako/dev/env3.7/lib/python3.7/site-packages/pandas/compat/__init__.py:85: UserWarning: Could not import the lzma module. Your installed Python is incomplete. Attempting to use lzma compression will result in a RuntimeError.\n",
      "  warnings.warn(msg)\n"
     ]
    }
   ],
   "source": [
    "# export\n",
    "from fastseq.core import *\n",
    "from fastseq.data.external import *\n",
    "from fastcore.utils import *\n",
    "from fastcore.imports import *\n",
    "from fastai2.basics import *\n",
    "from fastai2.tabular.core import *"
   ]
  },
  {
   "cell_type": "code",
   "execution_count": null,
   "metadata": {
    "Collapsed": "false"
   },
   "outputs": [],
   "source": []
  },
  {
   "cell_type": "markdown",
   "metadata": {},
   "source": [
    "# Dataset"
   ]
  },
  {
   "cell_type": "code",
   "execution_count": 3,
   "metadata": {},
   "outputs": [],
   "source": [
    "# export\n",
    "import numpy as np\n",
    "import pandas as pd\n",
    "from torch.utils.data import Dataset, DataLoader"
   ]
  },
  {
   "cell_type": "code",
   "execution_count": 4,
   "metadata": {},
   "outputs": [],
   "source": [
    "# export\n",
    "def pad_zeros(X, lenght):\n",
    "    return  np.pad(\n",
    "                X, \n",
    "                pad_width=((0, 0), (lenght - X.shape[-1], 0)), \n",
    "                mode='constant', \n",
    "                constant_values=0\n",
    "            )"
   ]
  },
  {
   "cell_type": "code",
   "execution_count": 16,
   "metadata": {},
   "outputs": [],
   "source": [
    "# export\n",
    "class TimeSeriesDataset(Dataset):\n",
    "    \"\"\"Takes a list of time series and provides access to windowed subseries for\n",
    "    training.\n",
    "    Arguments:\n",
    "        * time_series (list): List of time series ``pandas`` DataFrames.\n",
    "        * lookback (int): Number of time steps used as input for forecasting.\n",
    "        * horizon (int): Number of time steps to forecast.\n",
    "        * step (int): Time step size between consecutive examples.\n",
    "        * cat_names (list): list of catigorical column names.\n",
    "        * cont_names (list): list of continues colomn names.\n",
    "        * y_names (list): list of names of the columns to predict.\n",
    "        * static_covs (list): Static covariates for each item in ``time_series`` list.\n",
    "        * thinning (float): Fraction of examples to include.\n",
    "    \n",
    "    \"\"\"\n",
    "    def __init__(self, \n",
    "                 time_series,\n",
    "                 lookback,\n",
    "                 horizon,\n",
    "                 step, \n",
    "                 static_covs=None,\n",
    "                 thinning=1.0,\n",
    "                 transform = None,\n",
    "                ):\n",
    "        self.time_series = time_series\n",
    "        self.lookback = lookback\n",
    "        self.horizon = horizon\n",
    "        self.step = step\n",
    "        self.transform = transform\n",
    "        self.static_covs = static_covs\n",
    "\n",
    "        # Slice each time series into examples, assigning IDs to each\n",
    "        last_id = 0\n",
    "        n_dropped = 0\n",
    "        self.example_ids = {}\n",
    "        for i, ts in enumerate(self.time_series):\n",
    "            num_examples = (ts.shape[-1] - self.lookback - self.horizon + self.step) // self.step\n",
    "            # Time series shorter than the forecast horizon need to be dropped.\n",
    "            if ts.shape[-1] < self.horizon:\n",
    "                n_dropped += 1\n",
    "                continue\n",
    "            # For short time series zero pad the input\n",
    "            if ts.shape[-1] < self.lookback + self.horizon:\n",
    "                num_examples = 1\n",
    "            for j in range(num_examples):\n",
    "                self.example_ids[last_id + j] = (i, j * self.step)\n",
    "            last_id += num_examples\n",
    "\n",
    "        # Inform user about time series that were too short\n",
    "        if n_dropped > 0:\n",
    "            print(\"Dropped {}/{} time series due to length.\".format(\n",
    "                    n_dropped, len(self.time_series)\n",
    "                    )\n",
    "                 )\n",
    "\n",
    "        # Store the number of training examples\n",
    "        self._len = int(self.example_ids.__len__() * thinning)\n",
    "\n",
    "    def __len__(self):\n",
    "        return self._len\n",
    "\n",
    "    def __getitem__(self, idx):\n",
    "        # Get time series\n",
    "        ts_id, lookback_id = self.example_ids[idx]\n",
    "        ts = self.time_series[ts_id]\n",
    "\n",
    "        # Prepare input and target. Zero pad if necessary.\n",
    "        if ts.shape[-1] < self.lookback + self.horizon:\n",
    "            # If the time series is too short, we zero pad\n",
    "            X = ts[:, :-self.horizon]\n",
    "            X = np.pad(\n",
    "                X, \n",
    "                pad_width=((0, 0), (self.lookback - X.shape[-1], 0)), \n",
    "                mode='constant', \n",
    "                constant_values=0\n",
    "            )         \n",
    "            y = ts[:,-self.horizon:]\n",
    "        else:\n",
    "            X = ts[:,lookback_id:lookback_id + self.lookback]\n",
    "            y = ts[:,lookback_id + self.lookback:lookback_id + self.lookback + self.horizon]\n",
    "\n",
    "        # Create the input and output for the sample\n",
    "        sample = {'X': X, 'y': y}\n",
    "        if self.transform is not None:\n",
    "            sample = self.transform(sample)\n",
    "\n",
    "        # Static covariates can be attached\n",
    "        if self.static_covs is not None:\n",
    "            sample['X_stat'] = self.static_covs[ts_id]\n",
    "\n",
    "        return sample\n",
    "    "
   ]
  },
  {
   "cell_type": "markdown",
   "metadata": {},
   "source": [
    "## Test"
   ]
  },
  {
   "cell_type": "code",
   "execution_count": 17,
   "metadata": {},
   "outputs": [],
   "source": [
    "horizon = 12\n",
    "lookback = 128"
   ]
  },
  {
   "cell_type": "code",
   "execution_count": 31,
   "metadata": {},
   "outputs": [
    {
     "name": "stdout",
     "output_type": "stream",
     "text": [
      "[(2, 20), (2, 10), (2, 140), (2, 140)]\n"
     ]
    }
   ],
   "source": [
    "t = np.arange(1000)\n",
    "lenghts = [20,10,140,140]\n",
    "data_train = [np.array([i+.5*np.sin(t[:l]),\n",
    "              t[:l]+(0.1*np.random.randn()),\n",
    "             ])\n",
    "              for i,l in enumerate(lenghts)]\n",
    "\n",
    "print([d.shape for d in data_train])"
   ]
  },
  {
   "cell_type": "code",
   "execution_count": 40,
   "metadata": {},
   "outputs": [
    {
     "name": "stdout",
     "output_type": "stream",
     "text": [
      "Dropped 1/4 time series due to length.\n"
     ]
    }
   ],
   "source": [
    "ts_ds = TimeSeriesDataset(\n",
    "    data_train,\n",
    "    lookback,\n",
    "    horizon,\n",
    "    step=1,\n",
    "    static_covs = [1,2,2,2]    \n",
    ")"
   ]
  },
  {
   "cell_type": "code",
   "execution_count": 41,
   "metadata": {},
   "outputs": [],
   "source": [
    "test_eq(ts_ds[0]['X'].shape, (2,lookback))\n",
    "test_eq(ts_ds[0]['y'].shape, (2,horizon))\n",
    "test_eq(ts_ds[2]['X_stat'], 2)\n",
    "test_eq(len(ts_ds),3)"
   ]
  },
  {
   "cell_type": "code",
   "execution_count": 42,
   "metadata": {
    "Collapsed": "false"
   },
   "outputs": [
    {
     "name": "stdout",
     "output_type": "stream",
     "text": [
      "Converted 00_core.ipynb.\n",
      "Converted 01_data.external.ipynb.\n",
      "This cell doesn't have an export destination and was ignored:\n",
      " \n",
      "Converted 02_deep4cast_m4_example.ipynb.\n",
      "Converted 03_data.load.ipynb.\n",
      "Converted index.ipynb.\n"
     ]
    }
   ],
   "source": [
    "# hide\n",
    "from nbdev.export import *\n",
    "\n",
    "notebook2script()"
   ]
  },
  {
   "cell_type": "code",
   "execution_count": null,
   "metadata": {},
   "outputs": [],
   "source": []
  }
 ],
 "metadata": {
  "kernelspec": {
   "display_name": "python37",
   "language": "python",
   "name": "python37"
  },
  "language_info": {
   "codemirror_mode": {
    "name": "ipython",
    "version": 3
   },
   "file_extension": ".py",
   "mimetype": "text/x-python",
   "name": "python",
   "nbconvert_exporter": "python",
   "pygments_lexer": "ipython3",
   "version": "3.7.3"
  }
 },
 "nbformat": 4,
 "nbformat_minor": 2
}
