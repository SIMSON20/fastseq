{
 "cells": [
  {
   "cell_type": "code",
   "execution_count": null,
   "metadata": {},
   "outputs": [],
   "source": [
    "# default_exp nbeats.model"
   ]
  },
  {
   "cell_type": "code",
   "execution_count": null,
   "metadata": {},
   "outputs": [
    {
     "name": "stderr",
     "output_type": "stream",
     "text": [
      "/home/tako/dev/env37/lib/python3.7/site-packages/pandas/compat/__init__.py:85: UserWarning: Could not import the lzma module. Your installed Python is incomplete. Attempting to use lzma compression will result in a RuntimeError.\n",
      "  warnings.warn(msg)\n",
      "/home/tako/dev/env37/lib/python3.7/site-packages/pandas/compat/__init__.py:85: UserWarning: Could not import the lzma module. Your installed Python is incomplete. Attempting to use lzma compression will result in a RuntimeError.\n",
      "  warnings.warn(msg)\n"
     ]
    }
   ],
   "source": [
    "# hide\n",
    "import sys\n",
    "\n",
    "sys.path.append(\"..\")\n",
    "import pandas as pd\n",
    "%load_ext autoreload\n",
    "%autoreload 2"
   ]
  },
  {
   "cell_type": "markdown",
   "metadata": {},
   "source": [
    "# N-Beats model\n",
    "\n",
    "> A basic architecture for time series forecasting.\n",
    "\n",
    "\n",
    "The approach is based on https://arxiv.org/abs/1905.10437\n"
   ]
  },
  {
   "cell_type": "code",
   "execution_count": null,
   "metadata": {},
   "outputs": [],
   "source": [
    "# hide\n",
    "from nbdev.showdoc import *\n",
    "from fastcore.test import *"
   ]
  },
  {
   "cell_type": "code",
   "execution_count": null,
   "metadata": {},
   "outputs": [],
   "source": [
    "#export\n",
    "from fastcore.utils import *\n",
    "from fastcore.imports import *\n",
    "from fastai2.basics import *\n",
    "from fastai2.callback.hook import num_features_model\n",
    "from fastai2.callback.all import *\n",
    "from fastai2.torch_core import *\n",
    "from torch.autograd import Variable\n",
    "from fastseq.all import *"
   ]
  },
  {
   "cell_type": "code",
   "execution_count": null,
   "metadata": {},
   "outputs": [],
   "source": [
    "# export\n",
    "\n",
    "def linspace(lookback, horizon):\n",
    "    lin_space = torch.linspace(\n",
    "        -lookback+1, horizon, lookback + horizon\n",
    "    )\n",
    "    b_ls = lin_space[:lookback]\n",
    "    f_ls = lin_space[lookback:]\n",
    "    return b_ls, f_ls"
   ]
  },
  {
   "cell_type": "code",
   "execution_count": null,
   "metadata": {},
   "outputs": [
    {
     "data": {
      "text/plain": [
       "(tensor([-9., -8., -7., -6., -5., -4., -3., -2., -1.,  0.]),\n",
       " tensor([1., 2., 3., 4., 5.]))"
      ]
     },
     "execution_count": null,
     "metadata": {},
     "output_type": "execute_result"
    }
   ],
   "source": [
    "linspace(10,5)"
   ]
  },
  {
   "cell_type": "code",
   "execution_count": null,
   "metadata": {},
   "outputs": [],
   "source": [
    "# hide\n",
    "device = default_device()"
   ]
  },
  {
   "cell_type": "code",
   "execution_count": null,
   "metadata": {},
   "outputs": [],
   "source": [
    "# export\n",
    "class Block(Module):\n",
    "    def __init__(self, fnc_f, fnc_b=None):\n",
    "        sizes = L(self.lookback) + self.layers\n",
    "        ps = ifnone(self.ps, L([0])*len(self.layers))\n",
    "        actns = [nn.ReLU(inplace=True) for _ in range(len(sizes)-1)] # TODO swish\n",
    "        _layers = [LinBnDrop(sizes[i], sizes[i+1], bn=self.use_bn, p=p, act=a)\n",
    "                       for i,(p,a) in enumerate(zip(ps, actns))]\n",
    "        self.layers = nn.Sequential(*_layers)\n",
    "        \n",
    "        self.att = LinBnDrop(sizes[-1], 1)\n",
    "        if self.share_thetas:\n",
    "            self.theta_fc = LinBnDrop(sizes[-1], self.thetas_dim)\n",
    "        else:\n",
    "            self.theta_b_fc = LinBnDrop(sizes[-1], self.thetas_dim)\n",
    "            self.theta_f_fc = LinBnDrop(sizes[-1], self.thetas_dim)\n",
    "            print('not going to share thetas')\n",
    "            \n",
    "        b, f = linspace(self.lookback, self.horizon)\n",
    "        self.backcast_linspace = Variable(b, requires_grad=False).to(self.device)\n",
    "        self.forecast_linspace = Variable(f, requires_grad=False).to(self.device)\n",
    "        self.fnc_f = fnc_f\n",
    "        self.fnc_b = ifnone(fnc_b, fnc_f)\n",
    "        self.to(self.device)\n",
    "        self.y_range = getattr(self,'y_range', None)\n",
    "        \n",
    "    def forward(self, x):\n",
    "        # trend\n",
    "        x = self.layers(x)\n",
    "        att = torch.sigmoid(self.att(x))\n",
    "        \n",
    "        if self.share_thetas:\n",
    "            theta_b = self.theta_fc(x)\n",
    "            theta_f = self.theta_fc(x)\n",
    "        else:\n",
    "            theta_b = self.theta_b_fc(x)\n",
    "            theta_f = self.theta_f_fc(x)\n",
    "            \n",
    "        theta_b = self.apply_range(theta_b) * att\n",
    "        theta_f = self.apply_range(theta_f) * att\n",
    "        backcast = self.fnc_b(theta_b, self.backcast_linspace)\n",
    "        forecast = self.fnc_f(theta_f, self.forecast_linspace)\n",
    "        return {'b':backcast,'f': forecast, 'theta': att*(theta_b + theta_f), 'attention': att}\n",
    "    \n",
    "    def apply_range(self, x): \n",
    "        if self.y_range is None:\n",
    "            return x\n",
    "        return (self.y_range[1]-self.y_range[0]) * torch.sigmoid(x) + self.y_range[0]"
   ]
  },
  {
   "cell_type": "code",
   "execution_count": null,
   "metadata": {},
   "outputs": [],
   "source": [
    "# export\n",
    "def trend_model(thetas, t):\n",
    "    p = thetas.size()[-1]\n",
    "    assert p <= 4, f\"thetas_dim is too big. p={p}\"\n",
    "    a = [torch.pow(t, i)[None,:] for i in range(p)]\n",
    "    T = torch.cat(a).float()\n",
    "    return thetas.mm(T)"
   ]
  },
  {
   "cell_type": "code",
   "execution_count": null,
   "metadata": {},
   "outputs": [
    {
     "data": {
      "text/plain": [
       "[<matplotlib.lines.Line2D at 0x7f53905f31d0>]"
      ]
     },
     "execution_count": null,
     "metadata": {},
     "output_type": "execute_result"
    },
    {
     "data": {
      "image/png": "[encoded data removed]",
      "text/plain": [
       "<Figure size 432x288 with 1 Axes>"
      ]
     },
     "metadata": {
      "needs_background": "light"
     },
     "output_type": "display_data"
    }
   ],
   "source": [
    "t = tensor([-14., -13., -12., -11., -10.,  -9.,  -8.,  -7.,  -6.,  -5.,  -4.,  -3.,\n",
    "         -2.,  -1.,   0., 1,2,3,4,5], device='cuda:0')\n",
    "theta = tensor([-0.0029, -0.0013, -0.0061,  0.0012], device='cuda:0')[None,:]\n",
    "plt.plot(trend_model(theta,t).cpu().T)"
   ]
  },
  {
   "cell_type": "code",
   "execution_count": null,
   "metadata": {},
   "outputs": [],
   "source": [
    "# export\n",
    "class TrendBlock(Block):\n",
    "    def __init__(\n",
    "        self, layers:L, device, thetas_dim, lookback=10, horizon=5, use_bn=True,\n",
    "        bn_final=False, ps:L=None, share_thetas=True, y_range=[-.05,.05]\n",
    "    ):\n",
    "        store_attr(self,\"y_range,device,layers,thetas_dim,use_bn,ps,lookback,horizon,bn_final,share_thetas\" ) \n",
    "        super().__init__(trend_model)        \n",
    "        self.to(device)\n",
    "        \n",
    "#     def forward(self,x):\n",
    "#         dct=super().forward(x[:,0,:])\n",
    "#         return dct['f'][:,None,:],dct['b'][:,None,:],dct"
   ]
  },
  {
   "cell_type": "code",
   "execution_count": null,
   "metadata": {},
   "outputs": [
    {
     "data": {
      "text/markdown": [
       "<h4 id=\"trend_model\" class=\"doc_header\"><code>trend_model</code><a href=\"__main__.py#L2\" class=\"source_link\" style=\"float:right\">[source]</a></h4>\n",
       "\n",
       "> <code>trend_model</code>(**`thetas`**, **`t`**)\n",
       "\n"
      ],
      "text/plain": [
       "<IPython.core.display.Markdown object>"
      ]
     },
     "metadata": {},
     "output_type": "display_data"
    }
   ],
   "source": [
    "show_doc(trend_model, name='trend_model')"
   ]
  },
  {
   "cell_type": "code",
   "execution_count": null,
   "metadata": {},
   "outputs": [],
   "source": [
    "mdl = TrendBlock([256], thetas_dim=4, device=device, lookback=100, horizon=10)\n",
    "dct = mdl(torch.randn(64,100).to(device))\n",
    "test_eq(dct['b'].shape, (64,100))\n",
    "test_eq(dct['f'].shape, (64,10))\n",
    "test_eq(dct['theta'].shape,(64,4))"
   ]
  },
  {
   "cell_type": "code",
   "execution_count": null,
   "metadata": {},
   "outputs": [],
   "source": [
    "# export\n",
    "def bias_model(thetas, t):\n",
    "    r= torch.mm(t[None,:].float().T,thetas[:,0][None,:]).T \n",
    "    if thetas.shape[-1]==2:\n",
    "        return r+thetas[:,1][:,None]\n",
    "    return r\n",
    "\n",
    "class BiasBlock(Block):\n",
    "    def __init__(\n",
    "        self, layers:L, device, thetas_dim=2, lookback=10, horizon=5, use_bn=True, bn_final=False, ps:L=None\n",
    "    ):\n",
    "        share_thetas=True\n",
    "        assert thetas_dim <= 2, f\"thetas_dim for BaisBlock must be < than 2, is now {thetas_dim}\"\n",
    "        store_attr(self,\"device,layers,thetas_dim,use_bn,ps,lookback,horizon,bn_final,share_thetas\" ) \n",
    "        self.layers=L(self.layers)\n",
    "        super().__init__(bias_model)        \n",
    "        self.to(device)"
   ]
  },
  {
   "cell_type": "code",
   "execution_count": null,
   "metadata": {},
   "outputs": [],
   "source": [
    "mdl = BiasBlock([300,200,50], device=device, lookback=100, horizon=10)\n",
    "dct = mdl(torch.randn(64,100).to(device))\n",
    "test_eq(dct['b'].shape, (64,100))\n",
    "test_eq(dct['f'].shape, (64,10))\n",
    "test_eq(dct['theta'].shape,(64,2))\n",
    "test_eq(dct['attention'].shape,(64,1))"
   ]
  },
  {
   "cell_type": "code",
   "execution_count": null,
   "metadata": {},
   "outputs": [],
   "source": [
    "# export\n",
    "class LinearD(nn.Linear):   \n",
    "    \"\"\"\"\"\"\n",
    "    def forward(self, x, *args, **kwargs):\n",
    "        return super().forward(x)\n",
    "        \n",
    "class GenericBlock(Block):\n",
    "    def __init__(\n",
    "        self, layers:L, thetas_dim:int, device, lookback=10, horizon=5, use_bn=True,\n",
    "        bn_final=False, ps:L=None, share_thetas=True, y_range=[-.05,.05]\n",
    "    ):\n",
    "        store_attr(self,\"y_range,device,layers,thetas_dim,use_bn,ps,lookback,horizon,bn_final,share_thetas\" ) \n",
    "        super().__init__(LinearD(self.thetas_dim, self.horizon),LinearD(self.thetas_dim, self.lookback))        \n",
    "        self.to(device)\n",
    "        "
   ]
  },
  {
   "cell_type": "code",
   "execution_count": null,
   "metadata": {},
   "outputs": [
    {
     "data": {
      "text/markdown": [
       "<h4 id=\"LinearD\" class=\"doc_header\"><code>class</code> <code>LinearD</code><a href=\"\" class=\"source_link\" style=\"float:right\">[source]</a></h4>\n",
       "\n",
       "> <code>LinearD</code>(**`in_features`**, **`out_features`**, **`bias`**=*`True`*) :: `Linear`\n",
       "\n"
      ],
      "text/plain": [
       "<IPython.core.display.Markdown object>"
      ]
     },
     "metadata": {},
     "output_type": "display_data"
    }
   ],
   "source": [
    "show_doc(LinearD, name='LinearD',title_level=4)"
   ]
  },
  {
   "cell_type": "code",
   "execution_count": null,
   "metadata": {},
   "outputs": [],
   "source": [
    "mdl = GenericBlock([256], thetas_dim=4, device=device, lookback=100, horizon=10)\n",
    "dct = mdl(torch.randn(64,100).to(device))\n",
    "test_eq(dct['b'].shape, (64,100))\n",
    "test_eq(dct['f'].shape, (64,10))"
   ]
  },
  {
   "cell_type": "code",
   "execution_count": null,
   "metadata": {},
   "outputs": [],
   "source": [
    "# export\n",
    "\n",
    "def seasonality_model(thetas, t):\n",
    "    p = thetas.size()[-1]\n",
    "    assert p < 10, \"thetas_dim is too big.\"\n",
    "    p1, p2 = (p // 2, p // 2) if p % 2 == 0 else (p // 2, p // 2 + 1)\n",
    "    s1 = [torch.cos(2 * np.pi * i * t)[None,:] for i in range(p1)] # H/2-1\n",
    "    s2 = [torch.sin(2 * np.pi * i * t)[None,:] for i in range(p2)]\n",
    "    S = torch.cat([*s1, *s2])\n",
    "    return thetas.mm(S)\n",
    "\n",
    "class SeasonalityBlock(Block):\n",
    "    def __init__(\n",
    "        self, layers:L, thetas_dim:int, device, lookback=10, horizon=5, use_bn=True,\n",
    "        bn_final=False, ps:L=None, share_thetas=True,y_range=[-.05,.05]\n",
    "    ):       \n",
    "        store_attr(self,\"y_range,device,layers,thetas_dim,use_bn,ps,lookback,horizon,bn_final,share_thetas\" ) \n",
    "        super().__init__(seasonality_model )        \n",
    "        self.to(device)"
   ]
  },
  {
   "cell_type": "code",
   "execution_count": null,
   "metadata": {},
   "outputs": [
    {
     "data": {
      "text/markdown": [
       "<h4 id=\"seasonality_model\" class=\"doc_header\"><code>seasonality_model</code><a href=\"__main__.py#L3\" class=\"source_link\" style=\"float:right\">[source]</a></h4>\n",
       "\n",
       "> <code>seasonality_model</code>(**`thetas`**, **`t`**)\n",
       "\n"
      ],
      "text/plain": [
       "<IPython.core.display.Markdown object>"
      ]
     },
     "metadata": {},
     "output_type": "display_data"
    }
   ],
   "source": [
    "show_doc(seasonality_model, name='seasonality_model')"
   ]
  },
  {
   "cell_type": "code",
   "execution_count": null,
   "metadata": {},
   "outputs": [],
   "source": [
    "mdl = SeasonalityBlock([256], thetas_dim=4, device=device, lookback=100, horizon=10)\n",
    "dct = mdl(torch.randn(64,100).to(device))\n",
    "test_eq(dct['b'].shape, (64,100))\n",
    "test_eq(dct['f'].shape, (64,10))"
   ]
  },
  {
   "cell_type": "code",
   "execution_count": null,
   "metadata": {},
   "outputs": [],
   "source": [
    "# export\n",
    "\n",
    "# not pritty but still works better\n",
    "def select_block(o):\n",
    "    if isinstance(o,int):\n",
    "        if o == 0:\n",
    "            return SeasonalityBlock\n",
    "        elif o == 1:\n",
    "            return TrendBlock\n",
    "        elif o == 2:\n",
    "            return BaisBlock\n",
    "        else:\n",
    "            return GenericBlock\n",
    "    else:\n",
    "        if o == 'seasonality':\n",
    "            return SeasonalityBlock\n",
    "        elif o == 'trend':\n",
    "            return TrendBlock\n",
    "        elif o =='bias':\n",
    "            return BiasBlock\n",
    "        else:\n",
    "            return GenericBlock\n",
    "        \n",
    "default_thetas={'seasonality':8,'trend':4,'bais':2}"
   ]
  },
  {
   "cell_type": "code",
   "execution_count": null,
   "metadata": {},
   "outputs": [],
   "source": [
    "# export\n",
    "class NBeatsNet(Module):\n",
    "    def __init__(\n",
    "        self,\n",
    "        device,\n",
    "        stack_types=('trend', 'seasonality'),\n",
    "        nb_blocks_per_stack=3,\n",
    "        horizon=5,\n",
    "        lookback=10,\n",
    "        thetas_dim=None,\n",
    "        share_weights_in_stack=False,\n",
    "        layers= [512,256],\n",
    "    ):        \n",
    "        thetas_dim = ifnone(thetas_dim,[default_thetas[o] for o in L(stack_types)])\n",
    "        stack_types= L(stack_types)\n",
    "        store_attr(self,'device,horizon,lookback,layers,nb_blocks_per_stack,share_weights_in_stack,stack_types,thetas_dim,device')\n",
    "        self.stacks = []\n",
    "        self._str = \"| N-Beats\\n\"\n",
    "        \n",
    "        self.bn = BatchNorm(lookback, ndim=2)        \n",
    "        stacks = OrderedDict()        \n",
    "        for stack_id in range(len(self.stack_types)):\n",
    "            \n",
    "            stacks[str(self.stack_types[stack_id]) + str(stack_id)] = self.create_stack(stack_id)\n",
    "        self.stacks = nn.Sequential(stacks)\n",
    "        \n",
    "    def create_stack(self, stack_id):\n",
    "        stack_type = self.stack_types[stack_id]\n",
    "        self._str += f\"| --  Stack {stack_type.title()} (#{stack_id}) (share_weights_in_stack={self.share_weights_in_stack})\\n\"\n",
    "        \n",
    "        blocks = []\n",
    "        for block_id in range(self.nb_blocks_per_stack):\n",
    "            block_init = select_block(stack_type)\n",
    "            if self.share_weights_in_stack and block_id != 0:\n",
    "                block = blocks[-1]  # pick up the last one when we share weights.\n",
    "            else:\n",
    "                block = block_init(\n",
    "                    layers = self.layers,\n",
    "                    thetas_dim = self.thetas_dim[stack_id],\n",
    "                    device = self.device,\n",
    "                    lookback = self.lookback,\n",
    "                    horizon = self.horizon,\n",
    "                )\n",
    "            self._str += f\"     | -- {block}\\n\"\n",
    "            blocks.append(block)\n",
    "            \n",
    "        return nn.Sequential(*blocks)\n",
    "\n",
    "    def forward(self, x):\n",
    "#         self.dct = None\n",
    "        backcast_res = x.view([-1,x.shape[-1]])\n",
    "        backcast = torch.zeros(\n",
    "            size=(backcast_res.size()[0], self.lookback,)\n",
    "        ) \n",
    "        forecast = torch.zeros(\n",
    "            size=(backcast.size()[0], self.horizon,)\n",
    "        )  # maybe batch size here.\n",
    "        \n",
    "        dct = defaultdict(dict)\n",
    "        for stack_id, names in enumerate(self.stacks.named_children()):\n",
    "            name = names[0]\n",
    "            for block_id in range(len(self.stacks[stack_id])):\n",
    "                dct[name+'_'+str(block_id)] = self.stacks[stack_id][block_id](backcast_res)\n",
    "                backcast_res = backcast_res.to(self.device) - dct[name+'_'+str(block_id)]['b']\n",
    "                \n",
    "                forecast = forecast.to(self.device) + dct[name+'_'+str(block_id)]['f']\n",
    "                backcast = backcast.to(self.device) + dct[name+'_'+str(block_id)]['b']\n",
    "#         self.dct = dct    \n",
    "        return torch.cat([backcast[:,None,:], forecast[:,None,:]], dim=-1)\n",
    "\n"
   ]
  },
  {
   "cell_type": "code",
   "execution_count": null,
   "metadata": {},
   "outputs": [
    {
     "data": {
      "text/markdown": [
       "<h4 id=\"select_block\" class=\"doc_header\"><code>select_block</code><a href=\"__main__.py#L4\" class=\"source_link\" style=\"float:right\">[source]</a></h4>\n",
       "\n",
       "> <code>select_block</code>(**`o`**)\n",
       "\n"
      ],
      "text/plain": [
       "<IPython.core.display.Markdown object>"
      ]
     },
     "metadata": {},
     "output_type": "display_data"
    }
   ],
   "source": [
    "show_doc(select_block, name='select_block')"
   ]
  },
  {
   "cell_type": "code",
   "execution_count": null,
   "metadata": {},
   "outputs": [],
   "source": [
    "mdl = NBeatsNet(torch.device('cpu'), stack_types=('seasonality'), )\n",
    "_ = mdl(torch.randn(64,1,10))\n",
    "# print(f.shape,b.shape)\n",
    "# print([(stack, o['theta']) for stack,o in dct.items()])"
   ]
  },
  {
   "cell_type": "markdown",
   "metadata": {},
   "source": [
    "# Examples"
   ]
  },
  {
   "cell_type": "code",
   "execution_count": null,
   "metadata": {},
   "outputs": [
    {
     "name": "stdout",
     "output_type": "stream",
     "text": [
      "Train:700; Valid: 100; Test 100\n"
     ]
    }
   ],
   "source": [
    "horizon, lookback = 7,10\n",
    "items = dummy_data_generator(60, 7, nrows=100)\n",
    "data = TSDataLoaders.from_items(items, horizon = horizon, lookback=lookback, step=5, after_batch = NormalizeTS(), valid_pct=.5\n",
    "                               ,num_workers=1)\n"
   ]
  },
  {
   "cell_type": "code",
   "execution_count": null,
   "metadata": {},
   "outputs": [
    {
     "data": {
      "text/html": [],
      "text/plain": [
       "<IPython.core.display.HTML object>"
      ]
     },
     "metadata": {},
     "output_type": "display_data"
    },
    {
     "data": {
      "image/png": "[encoded data removed]",
      "text/plain": [
       "<Figure size 432x288 with 1 Axes>"
      ]
     },
     "metadata": {
      "needs_background": "light"
     },
     "output_type": "display_data"
    }
   ],
   "source": [
    "mdl = NBeatsNet(device = data.train.device, stack_types=('trend','seasonality'), horizon=horizon, lookback=lookback)\n",
    "loss_func = F.mse_loss\n",
    "learn = Learner(data, mdl, loss_func=loss_func, opt_func= Adam, \n",
    "#                 cbs=L(NBeatsTrainer())\n",
    "               )\n",
    "learn.lr_find()"
   ]
  },
  {
   "cell_type": "code",
   "execution_count": null,
   "metadata": {},
   "outputs": [
    {
     "data": {
      "text/html": [
       "<table border=\"1\" class=\"dataframe\">\n",
       "  <thead>\n",
       "    <tr style=\"text-align: left;\">\n",
       "      <th>epoch</th>\n",
       "      <th>train_loss</th>\n",
       "      <th>valid_loss</th>\n",
       "      <th>time</th>\n",
       "    </tr>\n",
       "  </thead>\n",
       "  <tbody>\n",
       "    <tr>\n",
       "      <td>0</td>\n",
       "      <td>37.380318</td>\n",
       "      <td>9.212234</td>\n",
       "      <td>00:00</td>\n",
       "    </tr>\n",
       "    <tr>\n",
       "      <td>1</td>\n",
       "      <td>21.752281</td>\n",
       "      <td>8.150492</td>\n",
       "      <td>00:00</td>\n",
       "    </tr>\n",
       "    <tr>\n",
       "      <td>2</td>\n",
       "      <td>16.013813</td>\n",
       "      <td>7.745717</td>\n",
       "      <td>00:00</td>\n",
       "    </tr>\n",
       "    <tr>\n",
       "      <td>3</td>\n",
       "      <td>13.237556</td>\n",
       "      <td>6.835412</td>\n",
       "      <td>00:00</td>\n",
       "    </tr>\n",
       "    <tr>\n",
       "      <td>4</td>\n",
       "      <td>11.873879</td>\n",
       "      <td>10.168443</td>\n",
       "      <td>00:00</td>\n",
       "    </tr>\n",
       "    <tr>\n",
       "      <td>5</td>\n",
       "      <td>10.593583</td>\n",
       "      <td>8.106510</td>\n",
       "      <td>00:00</td>\n",
       "    </tr>\n",
       "    <tr>\n",
       "      <td>6</td>\n",
       "      <td>10.759980</td>\n",
       "      <td>10.066797</td>\n",
       "      <td>00:00</td>\n",
       "    </tr>\n",
       "    <tr>\n",
       "      <td>7</td>\n",
       "      <td>10.760771</td>\n",
       "      <td>9.562783</td>\n",
       "      <td>00:00</td>\n",
       "    </tr>\n",
       "    <tr>\n",
       "      <td>8</td>\n",
       "      <td>11.060717</td>\n",
       "      <td>10.045251</td>\n",
       "      <td>00:00</td>\n",
       "    </tr>\n",
       "    <tr>\n",
       "      <td>9</td>\n",
       "      <td>10.746140</td>\n",
       "      <td>9.503500</td>\n",
       "      <td>00:00</td>\n",
       "    </tr>\n",
       "    <tr>\n",
       "      <td>10</td>\n",
       "      <td>10.615976</td>\n",
       "      <td>9.682519</td>\n",
       "      <td>00:00</td>\n",
       "    </tr>\n",
       "    <tr>\n",
       "      <td>11</td>\n",
       "      <td>10.655617</td>\n",
       "      <td>9.714024</td>\n",
       "      <td>00:00</td>\n",
       "    </tr>\n",
       "    <tr>\n",
       "      <td>12</td>\n",
       "      <td>10.398576</td>\n",
       "      <td>9.203269</td>\n",
       "      <td>00:00</td>\n",
       "    </tr>\n",
       "    <tr>\n",
       "      <td>13</td>\n",
       "      <td>10.009817</td>\n",
       "      <td>9.348951</td>\n",
       "      <td>00:00</td>\n",
       "    </tr>\n",
       "    <tr>\n",
       "      <td>14</td>\n",
       "      <td>9.560108</td>\n",
       "      <td>7.460238</td>\n",
       "      <td>00:00</td>\n",
       "    </tr>\n",
       "    <tr>\n",
       "      <td>15</td>\n",
       "      <td>9.179042</td>\n",
       "      <td>6.464098</td>\n",
       "      <td>00:00</td>\n",
       "    </tr>\n",
       "    <tr>\n",
       "      <td>16</td>\n",
       "      <td>8.826833</td>\n",
       "      <td>5.987898</td>\n",
       "      <td>00:00</td>\n",
       "    </tr>\n",
       "    <tr>\n",
       "      <td>17</td>\n",
       "      <td>8.427105</td>\n",
       "      <td>5.355461</td>\n",
       "      <td>00:00</td>\n",
       "    </tr>\n",
       "    <tr>\n",
       "      <td>18</td>\n",
       "      <td>8.075771</td>\n",
       "      <td>7.148192</td>\n",
       "      <td>00:00</td>\n",
       "    </tr>\n",
       "    <tr>\n",
       "      <td>19</td>\n",
       "      <td>7.814024</td>\n",
       "      <td>6.669769</td>\n",
       "      <td>00:00</td>\n",
       "    </tr>\n",
       "    <tr>\n",
       "      <td>20</td>\n",
       "      <td>7.818860</td>\n",
       "      <td>9.875683</td>\n",
       "      <td>00:00</td>\n",
       "    </tr>\n",
       "    <tr>\n",
       "      <td>21</td>\n",
       "      <td>7.679983</td>\n",
       "      <td>6.791489</td>\n",
       "      <td>00:00</td>\n",
       "    </tr>\n",
       "    <tr>\n",
       "      <td>22</td>\n",
       "      <td>7.431922</td>\n",
       "      <td>7.243570</td>\n",
       "      <td>00:00</td>\n",
       "    </tr>\n",
       "    <tr>\n",
       "      <td>23</td>\n",
       "      <td>7.240549</td>\n",
       "      <td>7.724246</td>\n",
       "      <td>00:00</td>\n",
       "    </tr>\n",
       "    <tr>\n",
       "      <td>24</td>\n",
       "      <td>7.026857</td>\n",
       "      <td>7.605927</td>\n",
       "      <td>00:00</td>\n",
       "    </tr>\n",
       "    <tr>\n",
       "      <td>25</td>\n",
       "      <td>7.221375</td>\n",
       "      <td>6.835735</td>\n",
       "      <td>00:00</td>\n",
       "    </tr>\n",
       "    <tr>\n",
       "      <td>26</td>\n",
       "      <td>6.971645</td>\n",
       "      <td>7.124220</td>\n",
       "      <td>00:00</td>\n",
       "    </tr>\n",
       "    <tr>\n",
       "      <td>27</td>\n",
       "      <td>6.821836</td>\n",
       "      <td>7.145434</td>\n",
       "      <td>00:00</td>\n",
       "    </tr>\n",
       "    <tr>\n",
       "      <td>28</td>\n",
       "      <td>6.557066</td>\n",
       "      <td>5.486319</td>\n",
       "      <td>00:00</td>\n",
       "    </tr>\n",
       "    <tr>\n",
       "      <td>29</td>\n",
       "      <td>6.249479</td>\n",
       "      <td>4.348526</td>\n",
       "      <td>00:00</td>\n",
       "    </tr>\n",
       "    <tr>\n",
       "      <td>30</td>\n",
       "      <td>5.908557</td>\n",
       "      <td>4.384982</td>\n",
       "      <td>00:00</td>\n",
       "    </tr>\n",
       "    <tr>\n",
       "      <td>31</td>\n",
       "      <td>5.661883</td>\n",
       "      <td>5.692595</td>\n",
       "      <td>00:00</td>\n",
       "    </tr>\n",
       "    <tr>\n",
       "      <td>32</td>\n",
       "      <td>5.514817</td>\n",
       "      <td>4.275912</td>\n",
       "      <td>00:00</td>\n",
       "    </tr>\n",
       "    <tr>\n",
       "      <td>33</td>\n",
       "      <td>5.321906</td>\n",
       "      <td>6.226097</td>\n",
       "      <td>00:00</td>\n",
       "    </tr>\n",
       "    <tr>\n",
       "      <td>34</td>\n",
       "      <td>5.221790</td>\n",
       "      <td>7.309370</td>\n",
       "      <td>00:00</td>\n",
       "    </tr>\n",
       "    <tr>\n",
       "      <td>35</td>\n",
       "      <td>5.185457</td>\n",
       "      <td>5.841967</td>\n",
       "      <td>00:00</td>\n",
       "    </tr>\n",
       "    <tr>\n",
       "      <td>36</td>\n",
       "      <td>5.218190</td>\n",
       "      <td>5.979019</td>\n",
       "      <td>00:00</td>\n",
       "    </tr>\n",
       "    <tr>\n",
       "      <td>37</td>\n",
       "      <td>5.348048</td>\n",
       "      <td>7.064749</td>\n",
       "      <td>00:00</td>\n",
       "    </tr>\n",
       "    <tr>\n",
       "      <td>38</td>\n",
       "      <td>5.410911</td>\n",
       "      <td>7.208473</td>\n",
       "      <td>00:00</td>\n",
       "    </tr>\n",
       "    <tr>\n",
       "      <td>39</td>\n",
       "      <td>5.425902</td>\n",
       "      <td>7.057037</td>\n",
       "      <td>00:00</td>\n",
       "    </tr>\n",
       "    <tr>\n",
       "      <td>40</td>\n",
       "      <td>5.609514</td>\n",
       "      <td>6.823030</td>\n",
       "      <td>00:00</td>\n",
       "    </tr>\n",
       "    <tr>\n",
       "      <td>41</td>\n",
       "      <td>5.516186</td>\n",
       "      <td>6.873119</td>\n",
       "      <td>00:00</td>\n",
       "    </tr>\n",
       "    <tr>\n",
       "      <td>42</td>\n",
       "      <td>5.421271</td>\n",
       "      <td>6.581988</td>\n",
       "      <td>00:00</td>\n",
       "    </tr>\n",
       "    <tr>\n",
       "      <td>43</td>\n",
       "      <td>5.319158</td>\n",
       "      <td>6.623964</td>\n",
       "      <td>00:00</td>\n",
       "    </tr>\n",
       "    <tr>\n",
       "      <td>44</td>\n",
       "      <td>5.458880</td>\n",
       "      <td>6.810272</td>\n",
       "      <td>00:00</td>\n",
       "    </tr>\n",
       "    <tr>\n",
       "      <td>45</td>\n",
       "      <td>5.378881</td>\n",
       "      <td>6.578457</td>\n",
       "      <td>00:00</td>\n",
       "    </tr>\n",
       "    <tr>\n",
       "      <td>46</td>\n",
       "      <td>5.433697</td>\n",
       "      <td>6.283514</td>\n",
       "      <td>00:00</td>\n",
       "    </tr>\n",
       "    <tr>\n",
       "      <td>47</td>\n",
       "      <td>5.283352</td>\n",
       "      <td>6.021186</td>\n",
       "      <td>00:00</td>\n",
       "    </tr>\n",
       "    <tr>\n",
       "      <td>48</td>\n",
       "      <td>5.143013</td>\n",
       "      <td>6.237346</td>\n",
       "      <td>00:00</td>\n",
       "    </tr>\n",
       "    <tr>\n",
       "      <td>49</td>\n",
       "      <td>5.065248</td>\n",
       "      <td>6.243365</td>\n",
       "      <td>00:00</td>\n",
       "    </tr>\n",
       "  </tbody>\n",
       "</table>"
      ],
      "text/plain": [
       "<IPython.core.display.HTML object>"
      ]
     },
     "metadata": {},
     "output_type": "display_data"
    },
    {
     "data": {
      "image/png": "[encoded data removed]",
      "text/plain": [
       "<Figure size 432x288 with 1 Axes>"
      ]
     },
     "metadata": {
      "needs_background": "light"
     },
     "output_type": "display_data"
    }
   ],
   "source": [
    "learn.fit(50, 2e-2)\n",
    "learn.recorder.plot_loss()"
   ]
  },
  {
   "cell_type": "code",
   "execution_count": null,
   "metadata": {},
   "outputs": [
    {
     "data": {
      "text/html": [],
      "text/plain": [
       "<IPython.core.display.HTML object>"
      ]
     },
     "metadata": {},
     "output_type": "display_data"
    },
    {
     "data": {
      "image/png": "[encoded data removed]",
      "text/plain": [
       "<Figure size 648x720 with 9 Axes>"
      ]
     },
     "metadata": {
      "needs_background": "light"
     },
     "output_type": "display_data"
    }
   ],
   "source": [
    "learn.show_results(0)"
   ]
  },
  {
   "cell_type": "code",
   "execution_count": null,
   "metadata": {},
   "outputs": [
    {
     "data": {
      "text/html": [],
      "text/plain": [
       "<IPython.core.display.HTML object>"
      ]
     },
     "metadata": {},
     "output_type": "display_data"
    },
    {
     "data": {
      "image/png": "[encoded data removed]",
      "text/plain": [
       "<Figure size 648x720 with 9 Axes>"
      ]
     },
     "metadata": {
      "needs_background": "light"
     },
     "output_type": "display_data"
    }
   ],
   "source": [
    "learn.show_results(1)"
   ]
  },
  {
   "cell_type": "code",
   "execution_count": null,
   "metadata": {},
   "outputs": [
    {
     "name": "stdout",
     "output_type": "stream",
     "text": [
      "Converted 00_core.ipynb.\n",
      "Converted 01_data.external.ipynb.\n",
      "Converted 02_data.load.ipynb.\n",
      "Converted 03_data.core.ipynb.\n",
      "Converted 05_nbeats.models.ipynb.\n",
      "Converted 06_nbeats.metrics.ipynb.\n",
      "Converted 07_nbeats.learner.ipynb.\n",
      "Converted 08_nbeats.interpret.ipynb.\n",
      "Converted 11_metrics.ipynb.\n",
      "Converted index.ipynb.\n"
     ]
    }
   ],
   "source": [
    "# hide\n",
    "from nbdev.export import *\n",
    "notebook2script()"
   ]
  },
  {
   "cell_type": "code",
   "execution_count": null,
   "metadata": {},
   "outputs": [],
   "source": []
  }
 ],
 "metadata": {
  "kernelspec": {
   "display_name": "env37",
   "language": "python",
   "name": "env37"
  }
 },
 "nbformat": 4,
 "nbformat_minor": 4
}
