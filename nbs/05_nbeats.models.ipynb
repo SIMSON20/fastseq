{
 "cells": [
  {
   "cell_type": "code",
   "execution_count": 1,
   "metadata": {},
   "outputs": [],
   "source": [
    "# default_exp nbeats.model"
   ]
  },
  {
   "cell_type": "code",
   "execution_count": 2,
   "metadata": {},
   "outputs": [
    {
     "name": "stderr",
     "output_type": "stream",
     "text": [
      "/home/tako/dev/env3.7/lib/python3.7/site-packages/pandas/compat/__init__.py:85: UserWarning: Could not import the lzma module. Your installed Python is incomplete. Attempting to use lzma compression will result in a RuntimeError.\n",
      "  warnings.warn(msg)\n",
      "/home/tako/dev/env3.7/lib/python3.7/site-packages/pandas/compat/__init__.py:85: UserWarning: Could not import the lzma module. Your installed Python is incomplete. Attempting to use lzma compression will result in a RuntimeError.\n",
      "  warnings.warn(msg)\n"
     ]
    }
   ],
   "source": [
    "# hide\n",
    "import sys\n",
    "\n",
    "sys.path.append(\"..\")\n",
    "import pandas as pd\n",
    "%load_ext autoreload\n",
    "%autoreload 2"
   ]
  },
  {
   "cell_type": "markdown",
   "metadata": {},
   "source": [
    "# N-Beats model\n",
    "\n",
    "> A basic architecture for time series forecasting.\n",
    "\n",
    "\n",
    "The approach is based on https://arxiv.org/abs/1905.10437\n"
   ]
  },
  {
   "cell_type": "code",
   "execution_count": 4,
   "metadata": {},
   "outputs": [],
   "source": [
    "# hide\n",
    "from nbdev.showdoc import *\n",
    "from fastcore.test import *"
   ]
  },
  {
   "cell_type": "code",
   "execution_count": null,
   "metadata": {},
   "outputs": [],
   "source": []
  },
  {
   "cell_type": "code",
   "execution_count": 5,
   "metadata": {},
   "outputs": [],
   "source": [
    "#export\n",
    "from fastcore.utils import *\n",
    "from fastcore.imports import *\n",
    "from fastai2.basics import *\n",
    "from fastai2.callback.hook import num_features_model\n",
    "from fastai2.callback.all import *\n",
    "from fastai2.torch_core import *\n",
    "from torch.autograd import Variable\n",
    "from fastseq.all import *"
   ]
  },
  {
   "cell_type": "code",
   "execution_count": 6,
   "metadata": {},
   "outputs": [],
   "source": [
    "# export\n",
    "\n",
    "def linspace(lookback, horizon):\n",
    "    lin_space = torch.linspace(\n",
    "        -lookback, horizon, lookback + horizon\n",
    "    )\n",
    "    b_ls = lin_space[:lookback]\n",
    "    f_ls = lin_space[lookback:]\n",
    "    return b_ls, f_ls\n"
   ]
  },
  {
   "cell_type": "code",
   "execution_count": 7,
   "metadata": {},
   "outputs": [],
   "source": [
    "# export\n",
    "class Block(Module):\n",
    "    def __init__(self, fnc_f, fnc_b=None):\n",
    "        sizes = [self.lookback] + self.layers\n",
    "        ps = ifnone(self.ps, L([0])*len(self.layers))\n",
    "        actns = [nn.ReLU(inplace=True) for _ in range(len(sizes)-2)] + [None] # TODO swish\n",
    "        _layers = [LinBnDrop(sizes[i], sizes[i+1], bn=self.use_bn, p=p, act=a)\n",
    "                       for i,(p,a) in enumerate(zip(ps, actns))]\n",
    "        self.layers = nn.Sequential(*_layers)\n",
    "        self.att = LinBnDrop(sizes[-1], 1)\n",
    "        if self.share_thetas:\n",
    "            self.theta_f_fc = self.theta_b_fc = LinBnDrop(sizes[-1], self.thetas_dim)\n",
    "        else:\n",
    "            self.theta_b_fc = LinBnDrop(sizes[-1], self.thetas_dim)\n",
    "            self.theta_f_fc = LinBnDrop(sizes[-1], self.thetas_dim)\n",
    "            \n",
    "        b, f = linspace(self.lookback, self.horizon)\n",
    "        self.backcast_linspace = Variable(b, requires_grad=False).to(self.device)\n",
    "        self.forecast_linspace = Variable(f, requires_grad=False).to(self.device)\n",
    "        self.fnc_f = fnc_f\n",
    "        self.fnc_b = ifnone(fnc_b, fnc_f)\n",
    "        self.to(self.device)\n",
    "        self.y_range = getattr(self,'y_range', None)\n",
    "        \n",
    "    def forward(self, x):\n",
    "        # trend\n",
    "        x = self.layers(x)\n",
    "        att = torch.sigmoid(self.att(x))\n",
    "        theta_b = self.apply_range(self.theta_b_fc(x)) * att\n",
    "        theta_f = self.apply_range(self.theta_f_fc(x)) * att\n",
    "        backcast = self.fnc_b(theta_b, self.backcast_linspace)\n",
    "        forecast = self.fnc_f(theta_f, self.forecast_linspace)\n",
    "        return {'b':backcast,'f': forecast, 'theta': att*(theta_b + theta_f), 'attention': att}\n",
    "    \n",
    "    def apply_range(self, x): \n",
    "        if self.y_range is None:\n",
    "            return x\n",
    "        return (self.y_range[1]-self.y_range[0]) * torch.sigmoid(x) + self.y_range[0]"
   ]
  },
  {
   "cell_type": "code",
   "execution_count": 8,
   "metadata": {},
   "outputs": [],
   "source": [
    "# export\n",
    "def bias_model(thetas, t):\n",
    "    r= torch.mm(t[None,:].float().T,thetas[:,0][None,:]).T \n",
    "    if thetas.shape[-1]==2:\n",
    "        return r+thetas[:,1][:,None]\n",
    "    return r\n",
    "\n",
    "class BiasBlock(Block):\n",
    "    def __init__(\n",
    "        self, layers:L, device, thetas_dim=2, lookback=10, horizon=5, use_bn=True, bn_final=False, ps:L=None\n",
    "    ):\n",
    "        share_thetas=True\n",
    "        assert thetas_dim <= 2, f\"thetas_dim for BaisBlock must be < than 2, is now {thetas_dim}\"\n",
    "        store_attr(self,\"device,layers,thetas_dim,use_bn,ps,lookback,horizon,bn_final,share_thetas\" ) \n",
    "        self.layers=L(self.layers[-1])\n",
    "        super().__init__(bias_model)        \n",
    "        self.to(device)"
   ]
  },
  {
   "cell_type": "code",
   "execution_count": 15,
   "metadata": {},
   "outputs": [],
   "source": [
    "# hide\n",
    "device = default_device()"
   ]
  },
  {
   "cell_type": "code",
   "execution_count": 16,
   "metadata": {},
   "outputs": [],
   "source": [
    "mdl = BiasBlock([256], device=device, lookback=100, horizon=10)\n",
    "dct = mdl(torch.randn(64,100).to(device))\n",
    "test_eq(dct['b'].shape, (64,100))\n",
    "test_eq(dct['f'].shape, (64,10))\n",
    "test_eq(dct['theta'].shape,(64,2))\n",
    "test_eq(dct['attention'].shape,(64,1))"
   ]
  },
  {
   "cell_type": "code",
   "execution_count": 17,
   "metadata": {},
   "outputs": [],
   "source": [
    "# export\n",
    "class LinearD(nn.Linear):   \n",
    "    \"\"\"\"\"\"\n",
    "    def forward(self, x, *args, **kwargs):\n",
    "        return super().forward(x)\n",
    "        \n",
    "class GenericBlock(Block):\n",
    "    def __init__(\n",
    "        self, layers:L, thetas_dim:int, device, lookback=10, horizon=5, use_bn=True, bn_final=False, ps:L=None, share_thetas=True, y_range=[-.5,.5]\n",
    "    ):\n",
    "        store_attr(self,\"y_range,device,layers,thetas_dim,use_bn,ps,lookback,horizon,bn_final,share_thetas\" ) \n",
    "        super().__init__(LinearD(self.thetas_dim, self.horizon),LinearD(self.thetas_dim, self.lookback))        \n",
    "        self.to(device)\n",
    "        "
   ]
  },
  {
   "cell_type": "code",
   "execution_count": 18,
   "metadata": {},
   "outputs": [
    {
     "data": {
      "text/markdown": [
       "<h4 id=\"LinearD\" class=\"doc_header\"><code>class</code> <code>LinearD</code><a href=\"\" class=\"source_link\" style=\"float:right\">[source]</a></h4>\n",
       "\n",
       "> <code>LinearD</code>(**`in_features`**, **`out_features`**, **`bias`**=*`True`*) :: `Linear`\n",
       "\n"
      ],
      "text/plain": [
       "<IPython.core.display.Markdown object>"
      ]
     },
     "metadata": {},
     "output_type": "display_data"
    }
   ],
   "source": [
    "show_doc(LinearD, name='LinearD',title_level=4)"
   ]
  },
  {
   "cell_type": "code",
   "execution_count": 20,
   "metadata": {},
   "outputs": [],
   "source": [
    "mdl = GenericBlock([256], thetas_dim=4, device=device, lookback=100, horizon=10)\n",
    "dct = mdl(torch.randn(64,100).to(device))\n",
    "test_eq(dct['b'].shape, (64,100))\n",
    "test_eq(dct['f'].shape, (64,10))"
   ]
  },
  {
   "cell_type": "code",
   "execution_count": 21,
   "metadata": {},
   "outputs": [],
   "source": [
    "# export\n",
    "\n",
    "def seasonality_model(thetas, t):\n",
    "    p = thetas.size()[-1]\n",
    "    assert p < 10, \"thetas_dim is too big.\"\n",
    "    p1, p2 = (p // 2, p // 2) if p % 2 == 0 else (p // 2, p // 2 + 1)\n",
    "    s1 = [torch.cos(2 * np.pi * i * t)[None,:] for i in range(p1)] # H/2-1\n",
    "    s2 = [torch.sin(2 * np.pi * i * t)[None,:] for i in range(p2)]\n",
    "    S = torch.cat([*s1, *s2])\n",
    "    return thetas.mm(S)\n",
    "\n",
    "class SeasonalityBlock(Block):\n",
    "    def __init__(\n",
    "        self, layers:L, thetas_dim:int, device, lookback=10, horizon=5, use_bn=True, bn_final=False, ps:L=None, share_thetas=True,y_range=[-.5,.5]\n",
    "    ):       \n",
    "        store_attr(self,\"y_range,device,layers,thetas_dim,use_bn,ps,lookback,horizon,bn_final,share_thetas\" ) \n",
    "        super().__init__(seasonality_model )        \n",
    "        self.to(device)"
   ]
  },
  {
   "cell_type": "code",
   "execution_count": 22,
   "metadata": {},
   "outputs": [
    {
     "data": {
      "text/markdown": [
       "<h4 id=\"seasonality_model\" class=\"doc_header\"><code>seasonality_model</code><a href=\"__main__.py#L3\" class=\"source_link\" style=\"float:right\">[source]</a></h4>\n",
       "\n",
       "> <code>seasonality_model</code>(**`thetas`**, **`t`**)\n",
       "\n"
      ],
      "text/plain": [
       "<IPython.core.display.Markdown object>"
      ]
     },
     "metadata": {},
     "output_type": "display_data"
    }
   ],
   "source": [
    "show_doc(seasonality_model, name='seasonality_model')"
   ]
  },
  {
   "cell_type": "code",
   "execution_count": 23,
   "metadata": {},
   "outputs": [],
   "source": [
    "mdl = SeasonalityBlock([256], thetas_dim=4, device=device, lookback=100, horizon=10)\n",
    "dct = mdl(torch.randn(64,100).to(device))\n",
    "test_eq(dct['b'].shape, (64,100))\n",
    "test_eq(dct['f'].shape, (64,10))"
   ]
  },
  {
   "cell_type": "code",
   "execution_count": 24,
   "metadata": {},
   "outputs": [],
   "source": [
    "# export\n",
    "def trend_model(thetas, t):\n",
    "    p = thetas.size()[-1]\n",
    "    assert p <= 4, \"thetas_dim is too big.\"\n",
    "    a = [torch.pow(t, i)[None,:] for i in range(p)]\n",
    "    T = torch.cat(a).float()\n",
    "    return thetas.mm(T)\n",
    "\n",
    "class TrendBlock(Block):\n",
    "    def __init__(\n",
    "        self, layers:L, device, thetas_dim, lookback=10, horizon=5, use_bn=True, bn_final=False, ps:L=None, share_thetas=True, y_range=[-.05,.05]\n",
    "    ):\n",
    "        store_attr(self,\"y_range,device,layers,thetas_dim,use_bn,ps,lookback,horizon,bn_final,share_thetas\" ) \n",
    "        super().__init__(trend_model)        \n",
    "        self.to(device)"
   ]
  },
  {
   "cell_type": "code",
   "execution_count": 25,
   "metadata": {},
   "outputs": [
    {
     "data": {
      "text/markdown": [
       "<h4 id=\"trend_model\" class=\"doc_header\"><code>trend_model</code><a href=\"__main__.py#L2\" class=\"source_link\" style=\"float:right\">[source]</a></h4>\n",
       "\n",
       "> <code>trend_model</code>(**`thetas`**, **`t`**)\n",
       "\n"
      ],
      "text/plain": [
       "<IPython.core.display.Markdown object>"
      ]
     },
     "metadata": {},
     "output_type": "display_data"
    }
   ],
   "source": [
    "show_doc(trend_model, name='trend_model')"
   ]
  },
  {
   "cell_type": "code",
   "execution_count": 26,
   "metadata": {},
   "outputs": [],
   "source": [
    "mdl = TrendBlock([256], thetas_dim=4, device=device, lookback=100, horizon=10)\n",
    "dct = mdl(torch.randn(64,100).to(device))\n",
    "test_eq(dct['b'].shape, (64,100))\n",
    "test_eq(dct['f'].shape, (64,10))\n",
    "test_eq(dct['theta'].shape,(64,4))"
   ]
  },
  {
   "cell_type": "code",
   "execution_count": 27,
   "metadata": {},
   "outputs": [],
   "source": [
    "# export\n",
    "\n",
    "# not pritty but still works better\n",
    "def select_block(o):\n",
    "    if isinstance(o,int):\n",
    "        if o == 0:\n",
    "            return SeasonalityBlock\n",
    "        elif o == 1:\n",
    "            return TrendBlock\n",
    "        elif o == 2:\n",
    "            return BaisBlock\n",
    "        else:\n",
    "            return GenericBlock\n",
    "    else:\n",
    "        if o == 'seasonality':\n",
    "            return SeasonalityBlock\n",
    "        elif o == 'trend':\n",
    "            return TrendBlock\n",
    "        elif o =='bias':\n",
    "            return BiasBlock\n",
    "        else:\n",
    "            return GenericBlock"
   ]
  },
  {
   "cell_type": "code",
   "execution_count": 28,
   "metadata": {},
   "outputs": [],
   "source": [
    "# export\n",
    "class NBeatsNet(Module):\n",
    "    def __init__(\n",
    "        self,\n",
    "        device,\n",
    "        stack_types=('trend', 'seaonality'),\n",
    "        nb_blocks_per_stack=3,\n",
    "        horizon=5,\n",
    "        lookback=10,\n",
    "        thetas_dim=None,\n",
    "        share_weights_in_stack=False,\n",
    "        layers= [200,100],\n",
    "    ):\n",
    "        super(NBeatsNet, self).__init__()\n",
    "        thetas_dim = ifnone(thetas_dim,[3 if 'bias' not in o else 2 for o in stack_types  ])\n",
    "        stack_types= L(stack_types)\n",
    "        store_attr(self,'device,horizon,lookback,layers,nb_blocks_per_stack,share_weights_in_stack,stack_types,thetas_dim,device')\n",
    "        self.stacks = []\n",
    "        self._str = \"| N-Beats\\n\"\n",
    "        \n",
    "        self.bn = BatchNorm(lookback, ndim=2)        \n",
    "        stacks = OrderedDict()        \n",
    "        for stack_id in range(len(self.stack_types)):\n",
    "            \n",
    "            stacks[str(self.stack_types[stack_id]) + str(stack_id)] = self.create_stack(stack_id)\n",
    "        self.stacks = nn.Sequential(stacks)\n",
    "        \n",
    "    def create_stack(self, stack_id):\n",
    "        stack_type = self.stack_types[stack_id]\n",
    "        self._str += f\"| --  Stack {stack_type.title()} (#{stack_id}) (share_weights_in_stack={self.share_weights_in_stack})\\n\"\n",
    "        \n",
    "        blocks = []\n",
    "        for block_id in range(self.nb_blocks_per_stack):\n",
    "            block_init = select_block(stack_type)\n",
    "            if self.share_weights_in_stack and block_id != 0:\n",
    "                block = blocks[-1]  # pick up the last one when we share weights.\n",
    "            else:\n",
    "                block = block_init(\n",
    "                    layers = self.layers,\n",
    "                    thetas_dim = self.thetas_dim[stack_id],\n",
    "                    device = self.device,\n",
    "                    lookback = self.lookback,\n",
    "                    horizon = self.horizon,\n",
    "                )\n",
    "            self._str += f\"     | -- {block}\\n\"\n",
    "            blocks.append(block)\n",
    "            \n",
    "        return nn.Sequential(*blocks)\n",
    "\n",
    "    def forward(self, backcast):\n",
    "        backcast = backcast.view([-1,backcast.shape[-1]])\n",
    "        forecast = torch.zeros(\n",
    "            size=(backcast.size()[0], self.horizon,)\n",
    "        )  # maybe batch size here.\n",
    "        \n",
    "        dct = defaultdict(dict)\n",
    "        for stack_id, names in enumerate(self.stacks.named_children()):\n",
    "            name = names[0]\n",
    "            for block_id in range(len(self.stacks[stack_id])):\n",
    "                dct[name+'_'+str(block_id)] = self.stacks[stack_id][block_id](backcast)\n",
    "                backcast = backcast.to(self.device) - dct[name+'_'+str(block_id)]['b']\n",
    "                forecast = forecast.to(self.device) + dct[name+'_'+str(block_id)]['f']\n",
    "        \n",
    "        return forecast[:,None,:], backcast[:,None,:], dct\n",
    "\n"
   ]
  },
  {
   "cell_type": "code",
   "execution_count": 30,
   "metadata": {},
   "outputs": [
    {
     "data": {
      "text/markdown": [
       "<h4 id=\"select_block\" class=\"doc_header\"><code>select_block</code><a href=\"__main__.py#L4\" class=\"source_link\" style=\"float:right\">[source]</a></h4>\n",
       "\n",
       "> <code>select_block</code>(**`o`**)\n",
       "\n"
      ],
      "text/plain": [
       "<IPython.core.display.Markdown object>"
      ]
     },
     "metadata": {},
     "output_type": "display_data"
    }
   ],
   "source": [
    "show_doc(select_block, name='select_block')"
   ]
  },
  {
   "cell_type": "code",
   "execution_count": 29,
   "metadata": {},
   "outputs": [
    {
     "name": "stdout",
     "output_type": "stream",
     "text": [
      "torch.Size([64, 1, 5]) torch.Size([64, 1, 10])\n",
      "[('seaonality0_0', tensor([ 0.0228,  0.0102, -0.0124], grad_fn=<MeanBackward1>)), ('seaonality0_1', tensor([ 0.0069, -0.0140,  0.0026], grad_fn=<MeanBackward1>)), ('seaonality0_2', tensor([-0.0078, -0.0008,  0.0048], grad_fn=<MeanBackward1>))]\n"
     ]
    }
   ],
   "source": [
    "mdl = NBeatsNet(torch.device('cpu'), stack_types=('seaonality'), )\n",
    "f, b, dct = mdl(torch.randn(64,1,10))\n",
    "print(f.shape,b.shape)\n",
    "print([(stack, o['theta'].mean(0)) for stack,o in dct.items()])"
   ]
  },
  {
   "cell_type": "markdown",
   "metadata": {},
   "source": [
    "## Callback "
   ]
  },
  {
   "cell_type": "code",
   "execution_count": 61,
   "metadata": {},
   "outputs": [],
   "source": [
    "# export\n",
    "class NBeatsTrainer(Callback):\n",
    "    \"`Callback` that stores extra outputs of N-Beats training and make the output only the forecast.\"\n",
    "    def begin_train(self): \n",
    "        self.out = defaultdict(dict)\n",
    "    def begin_validate(self): \n",
    "        self.out = defaultdict(dict)\n",
    "        \n",
    "    def after_pred(self):\n",
    "        self.pred[2]['total_b'] = self.pred[1]\n",
    "        self.pred[2]['total_b_loss'] = self.learn.loss_func(self.pred[1].float(), *self.learn.xb, reduction='none').mean(-1)\n",
    "        self.out = concat_dct(self.pred[2], self.out)   \n",
    "        self.learn.pred = self.pred[0]\n"
   ]
  },
  {
   "cell_type": "code",
   "execution_count": 62,
   "metadata": {},
   "outputs": [
    {
     "name": "stdout",
     "output_type": "stream",
     "text": [
      "Train:1400; Valid: 300; Test 100\n"
     ]
    },
    {
     "data": {
      "text/html": [
       "<table border=\"1\" class=\"dataframe\">\n",
       "  <thead>\n",
       "    <tr style=\"text-align: left;\">\n",
       "      <th>epoch</th>\n",
       "      <th>train_loss</th>\n",
       "      <th>valid_loss</th>\n",
       "      <th>time</th>\n",
       "    </tr>\n",
       "  </thead>\n",
       "  <tbody>\n",
       "    <tr>\n",
       "      <td>0</td>\n",
       "      <td>8.107502</td>\n",
       "      <td>9.972239</td>\n",
       "      <td>00:01</td>\n",
       "    </tr>\n",
       "    <tr>\n",
       "      <td>1</td>\n",
       "      <td>6.501201</td>\n",
       "      <td>6.592690</td>\n",
       "      <td>00:01</td>\n",
       "    </tr>\n",
       "  </tbody>\n",
       "</table>"
      ],
      "text/plain": [
       "<IPython.core.display.HTML object>"
      ]
     },
     "metadata": {},
     "output_type": "display_data"
    }
   ],
   "source": [
    "# hide\n",
    "horizon, lookback = 7,10\n",
    "items = dummy_data_generator(100,10,nrows=100)\n",
    "data = TSDataLoaders.from_items(items, horizon = horizon, lookback=lookback, step=5, after_batch = NormalizeTS()\n",
    "                               )\n",
    "\n",
    "mdl = NBeatsNet(device = data.train.device, stack_types=('trend','seaonality'), horizon=horizon, lookback=lookback)\n",
    "loss_func = F.mse_loss\n",
    "learn = Learner(data, mdl, loss_func=loss_func, opt_func= Adam, \n",
    "                cbs=L(NBeatsTrainer())\n",
    "               )\n",
    "\n",
    "learn.fit(2,.1)"
   ]
  },
  {
   "cell_type": "code",
   "execution_count": 74,
   "metadata": {},
   "outputs": [],
   "source": [
    "test_eq(learn.n_beats_trainer.out['total_b_loss'].shape[0], data.valid.n)"
   ]
  },
  {
   "cell_type": "markdown",
   "metadata": {},
   "source": [
    "# Examples"
   ]
  },
  {
   "cell_type": "code",
   "execution_count": 86,
   "metadata": {},
   "outputs": [
    {
     "name": "stdout",
     "output_type": "stream",
     "text": [
      "Need to pad 1/3 time series due to length.\n",
      "Train:60; Valid: 48; Test 3\n"
     ]
    },
    {
     "data": {
      "text/html": [
       "<table border=\"1\" class=\"dataframe\">\n",
       "  <thead>\n",
       "    <tr style=\"text-align: left;\">\n",
       "      <th>epoch</th>\n",
       "      <th>train_loss</th>\n",
       "      <th>valid_loss</th>\n",
       "      <th>time</th>\n",
       "    </tr>\n",
       "  </thead>\n",
       "  <tbody>\n",
       "    <tr>\n",
       "      <td>0</td>\n",
       "      <td>8.051279</td>\n",
       "      <td>2.770303</td>\n",
       "      <td>00:00</td>\n",
       "    </tr>\n",
       "    <tr>\n",
       "      <td>1</td>\n",
       "      <td>4.432431</td>\n",
       "      <td>8.795813</td>\n",
       "      <td>00:00</td>\n",
       "    </tr>\n",
       "    <tr>\n",
       "      <td>2</td>\n",
       "      <td>4.399643</td>\n",
       "      <td>3.582074</td>\n",
       "      <td>00:00</td>\n",
       "    </tr>\n",
       "  </tbody>\n",
       "</table>"
      ],
      "text/plain": [
       "<IPython.core.display.HTML object>"
      ]
     },
     "metadata": {},
     "output_type": "display_data"
    },
    {
     "data": {
      "image/png": "[encoded data removed]",
      "text/plain": [
       "<Figure size 432x288 with 1 Axes>"
      ]
     },
     "metadata": {
      "needs_background": "light"
     },
     "output_type": "display_data"
    }
   ],
   "source": [
    "learn.fit(3,.2)\n",
    "learn.recorder.plot_loss()"
   ]
  },
  {
   "cell_type": "code",
   "execution_count": null,
   "metadata": {},
   "outputs": [],
   "source": []
  },
  {
   "cell_type": "code",
   "execution_count": 87,
   "metadata": {},
   "outputs": [
    {
     "data": {
      "text/html": [],
      "text/plain": [
       "<IPython.core.display.HTML object>"
      ]
     },
     "metadata": {},
     "output_type": "display_data"
    },
    {
     "data": {
      "image/png": "[encoded data removed]",
      "text/plain": [
       "<Figure size 648x720 with 9 Axes>"
      ]
     },
     "metadata": {
      "needs_background": "light"
     },
     "output_type": "display_data"
    }
   ],
   "source": [
    "learn.show_results()"
   ]
  },
  {
   "cell_type": "code",
   "execution_count": 77,
   "metadata": {},
   "outputs": [
    {
     "name": "stdout",
     "output_type": "stream",
     "text": [
      "Train:140; Valid: 30; Test 10\n"
     ]
    },
    {
     "data": {
      "text/html": [
       "<table border=\"1\" class=\"dataframe\">\n",
       "  <thead>\n",
       "    <tr style=\"text-align: left;\">\n",
       "      <th>epoch</th>\n",
       "      <th>train_loss</th>\n",
       "      <th>valid_loss</th>\n",
       "      <th>time</th>\n",
       "    </tr>\n",
       "  </thead>\n",
       "  <tbody>\n",
       "    <tr>\n",
       "      <td>0</td>\n",
       "      <td>13.087310</td>\n",
       "      <td>21.302925</td>\n",
       "      <td>00:00</td>\n",
       "    </tr>\n",
       "    <tr>\n",
       "      <td>1</td>\n",
       "      <td>10.658223</td>\n",
       "      <td>15.867182</td>\n",
       "      <td>00:00</td>\n",
       "    </tr>\n",
       "    <tr>\n",
       "      <td>2</td>\n",
       "      <td>8.882674</td>\n",
       "      <td>7.344645</td>\n",
       "      <td>00:00</td>\n",
       "    </tr>\n",
       "    <tr>\n",
       "      <td>3</td>\n",
       "      <td>7.749466</td>\n",
       "      <td>8.931475</td>\n",
       "      <td>00:00</td>\n",
       "    </tr>\n",
       "    <tr>\n",
       "      <td>4</td>\n",
       "      <td>6.901631</td>\n",
       "      <td>11.228990</td>\n",
       "      <td>00:00</td>\n",
       "    </tr>\n",
       "    <tr>\n",
       "      <td>5</td>\n",
       "      <td>6.306424</td>\n",
       "      <td>6.341413</td>\n",
       "      <td>00:00</td>\n",
       "    </tr>\n",
       "    <tr>\n",
       "      <td>6</td>\n",
       "      <td>5.774821</td>\n",
       "      <td>5.382730</td>\n",
       "      <td>00:00</td>\n",
       "    </tr>\n",
       "    <tr>\n",
       "      <td>7</td>\n",
       "      <td>5.379397</td>\n",
       "      <td>7.033385</td>\n",
       "      <td>00:00</td>\n",
       "    </tr>\n",
       "    <tr>\n",
       "      <td>8</td>\n",
       "      <td>5.057540</td>\n",
       "      <td>6.893814</td>\n",
       "      <td>00:00</td>\n",
       "    </tr>\n",
       "    <tr>\n",
       "      <td>9</td>\n",
       "      <td>4.833687</td>\n",
       "      <td>5.104048</td>\n",
       "      <td>00:00</td>\n",
       "    </tr>\n",
       "  </tbody>\n",
       "</table>"
      ],
      "text/plain": [
       "<IPython.core.display.HTML object>"
      ]
     },
     "metadata": {},
     "output_type": "display_data"
    },
    {
     "data": {
      "image/png": "[encoded data removed]",
      "text/plain": [
       "<Figure size 432x288 with 1 Axes>"
      ]
     },
     "metadata": {
      "needs_background": "light"
     },
     "output_type": "display_data"
    }
   ],
   "source": [
    "horizon, lookback = 7,10\n",
    "items = dummy_data_generator(100,10,nrows=10)\n",
    "data = TSDataLoaders.from_items(items, horizon = horizon, lookback=lookback, step=5, after_batch = NormalizeTS()\n",
    "                               )\n",
    "\n",
    "mdl = NBeatsNet(device = data.train.device, stack_types=('trend','seaonality'), horizon=horizon, lookback=lookback)\n",
    "loss_func = F.mse_loss\n",
    "learn = Learner(data, mdl, loss_func=loss_func, opt_func= Adam, \n",
    "                cbs=L(NBeatsTrainer())\n",
    "               )\n",
    "\n",
    "learn.fit(10,.1)\n",
    "learn.recorder.plot_loss()"
   ]
  },
  {
   "cell_type": "code",
   "execution_count": 78,
   "metadata": {},
   "outputs": [
    {
     "data": {
      "text/html": [],
      "text/plain": [
       "<IPython.core.display.HTML object>"
      ]
     },
     "metadata": {},
     "output_type": "display_data"
    },
    {
     "data": {
      "image/png": "[encoded data removed]",
      "text/plain": [
       "<Figure size 648x720 with 9 Axes>"
      ]
     },
     "metadata": {
      "needs_background": "light"
     },
     "output_type": "display_data"
    }
   ],
   "source": [
    "learn.show_results()"
   ]
  },
  {
   "cell_type": "code",
   "execution_count": 52,
   "metadata": {},
   "outputs": [
    {
     "name": "stdout",
     "output_type": "stream",
     "text": [
      "Converted 00_core.ipynb.\n",
      "Converted 01_data.external.ipynb.\n",
      "Converted 02_data.load.ipynb.\n",
      "Converted 03_data.core.ipynb.\n",
      "Converted 04_data.transforms.ipynb.\n",
      "Converted 05_nbeats.models.ipynb.\n",
      "Converted 06_nbeats.metrics.ipynb.\n",
      "Converted 07_nbeats.learner.ipynb.\n",
      "Converted 10_interpret.ipynb.\n",
      "Converted 11_metrics.ipynb.\n",
      "Converted index.ipynb.\n"
     ]
    }
   ],
   "source": [
    "# hide\n",
    "from nbdev.export import *\n",
    "notebook2script()"
   ]
  },
  {
   "cell_type": "code",
   "execution_count": null,
   "metadata": {},
   "outputs": [],
   "source": []
  }
 ],
 "metadata": {
  "kernelspec": {
   "display_name": "python37",
   "language": "python",
   "name": "python37"
  },
  "language_info": {
   "codemirror_mode": {
    "name": "ipython",
    "version": 3
   },
   "file_extension": ".py",
   "mimetype": "text/x-python",
   "name": "python",
   "nbconvert_exporter": "python",
   "pygments_lexer": "ipython3",
   "version": "3.7.3"
  }
 },
 "nbformat": 4,
 "nbformat_minor": 4
}
