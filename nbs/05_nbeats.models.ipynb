{
 "cells": [
  {
   "cell_type": "code",
   "execution_count": null,
   "metadata": {},
   "outputs": [],
   "source": [
    "# default_exp nbeats.model"
   ]
  },
  {
   "cell_type": "code",
   "execution_count": null,
   "metadata": {},
   "outputs": [
    {
     "name": "stderr",
     "output_type": "stream",
     "text": [
      "/home/tako/dev/env37/lib/python3.7/site-packages/pandas/compat/__init__.py:85: UserWarning: Could not import the lzma module. Your installed Python is incomplete. Attempting to use lzma compression will result in a RuntimeError.\n",
      "  warnings.warn(msg)\n",
      "/home/tako/dev/env37/lib/python3.7/site-packages/pandas/compat/__init__.py:85: UserWarning: Could not import the lzma module. Your installed Python is incomplete. Attempting to use lzma compression will result in a RuntimeError.\n",
      "  warnings.warn(msg)\n"
     ]
    }
   ],
   "source": [
    "# hide\n",
    "import sys\n",
    "\n",
    "sys.path.append(\"..\")\n",
    "import pandas as pd\n",
    "%load_ext autoreload\n",
    "%autoreload 2"
   ]
  },
  {
   "cell_type": "markdown",
   "metadata": {},
   "source": [
    "# N-Beats model\n",
    "\n",
    "> A basic architecture for time series forecasting.\n",
    "\n",
    "\n",
    "The approach is based on https://arxiv.org/abs/1905.10437\n"
   ]
  },
  {
   "cell_type": "code",
   "execution_count": null,
   "metadata": {},
   "outputs": [],
   "source": [
    "# hide\n",
    "from nbdev.showdoc import *\n",
    "from fastcore.test import *"
   ]
  },
  {
   "cell_type": "code",
   "execution_count": null,
   "metadata": {},
   "outputs": [],
   "source": [
    "#export\n",
    "from fastcore.utils import *\n",
    "from fastcore.imports import *\n",
    "from fastai2.basics import *\n",
    "from fastai2.callback.hook import num_features_model\n",
    "from fastai2.callback.all import *\n",
    "from fastai2.torch_core import *\n",
    "from torch.autograd import Variable\n",
    "from fastseq.all import *"
   ]
  },
  {
   "cell_type": "code",
   "execution_count": null,
   "metadata": {},
   "outputs": [],
   "source": [
    "# export\n",
    "\n",
    "def linspace(lookback, horizon):\n",
    "    lin_space = torch.linspace(\n",
    "        -lookback+1, horizon, lookback + horizon\n",
    "    )\n",
    "    b_ls = lin_space[:lookback]\n",
    "    f_ls = lin_space[lookback:]\n",
    "    return b_ls, f_ls"
   ]
  },
  {
   "cell_type": "code",
   "execution_count": null,
   "metadata": {},
   "outputs": [
    {
     "data": {
      "text/plain": [
       "(tensor([-9., -8., -7., -6., -5., -4., -3., -2., -1.,  0.]),\n",
       " tensor([1., 2., 3., 4., 5.]))"
      ]
     },
     "execution_count": null,
     "metadata": {},
     "output_type": "execute_result"
    }
   ],
   "source": [
    "linspace(10,5)"
   ]
  },
  {
   "cell_type": "code",
   "execution_count": null,
   "metadata": {},
   "outputs": [],
   "source": [
    "# hide\n",
    "device = default_device()"
   ]
  },
  {
   "cell_type": "code",
   "execution_count": null,
   "metadata": {},
   "outputs": [],
   "source": [
    "# export\n",
    "class Block(Module):\n",
    "    def __init__(self, fnc_f, fnc_b=None):\n",
    "        sizes = L(self.lookback) + self.layers\n",
    "        ps = ifnone(self.ps, L([0])*len(self.layers))\n",
    "        actns = [nn.ReLU(inplace=True) for _ in range(len(sizes)-1)] # TODO swish\n",
    "        _layers = [LinBnDrop(sizes[i], sizes[i+1], bn=self.use_bn, p=p, act=a)\n",
    "                       for i,(p,a) in enumerate(zip(ps, actns))]\n",
    "        self.layers = nn.Sequential(*_layers)\n",
    "        \n",
    "        self.att = LinBnDrop(sizes[-1], 1)\n",
    "        if self.share_thetas:\n",
    "            self.theta_fc = LinBnDrop(sizes[-1], self.thetas_dim)\n",
    "        else:\n",
    "            self.theta_b_fc = LinBnDrop(sizes[-1], self.thetas_dim)\n",
    "            self.theta_f_fc = LinBnDrop(sizes[-1], self.thetas_dim)\n",
    "            print('not going to share thetas')\n",
    "            \n",
    "        b, f = linspace(self.lookback, self.horizon)\n",
    "        self.backcast_linspace = Variable(b, requires_grad=False).to(self.device)\n",
    "        self.forecast_linspace = Variable(f, requires_grad=False).to(self.device)\n",
    "        self.fnc_f = fnc_f\n",
    "        self.fnc_b = ifnone(fnc_b, fnc_f)\n",
    "        self.to(self.device)\n",
    "        self.y_range = getattr(self,'y_range', None)\n",
    "        \n",
    "    def forward(self, x):\n",
    "        # trend\n",
    "        x = self.layers(x)\n",
    "        att = torch.sigmoid(self.att(x))\n",
    "        \n",
    "        if self.share_thetas:\n",
    "            theta_b = self.theta_fc(x)\n",
    "            theta_f = self.theta_fc(x)\n",
    "        else:\n",
    "            theta_b = self.theta_b_fc(x)\n",
    "            theta_f = self.theta_f_fc(x)\n",
    "            \n",
    "        theta_b = self.apply_range(theta_b) * att\n",
    "        theta_f = self.apply_range(theta_f) * att\n",
    "        backcast = self.fnc_b(theta_b, self.backcast_linspace)\n",
    "        forecast = self.fnc_f(theta_f, self.forecast_linspace)\n",
    "        return {'b':backcast,'f': forecast, 'theta': att*(theta_b + theta_f), 'attention': att}\n",
    "    \n",
    "    def apply_range(self, x): \n",
    "        if self.y_range is None:\n",
    "            return x\n",
    "        return (self.y_range[1]-self.y_range[0]) * torch.sigmoid(x) + self.y_range[0]"
   ]
  },
  {
   "cell_type": "code",
   "execution_count": null,
   "metadata": {},
   "outputs": [],
   "source": [
    "# export\n",
    "def trend_model(thetas, t):\n",
    "    p = thetas.size()[-1]\n",
    "    assert p <= 4, f\"thetas_dim is too big. p={p}\"\n",
    "    a = [torch.pow(t, i)[None,:] for i in range(p)]\n",
    "    T = torch.cat(a).float()\n",
    "    return thetas.mm(T)"
   ]
  },
  {
   "cell_type": "code",
   "execution_count": null,
   "metadata": {},
   "outputs": [
    {
     "data": {
      "text/plain": [
       "[<matplotlib.lines.Line2D at 0x7f451412e5d0>]"
      ]
     },
     "execution_count": null,
     "metadata": {},
     "output_type": "execute_result"
    },
    {
     "data": {
      "image/png": "[encoded data removed]",
      "text/plain": [
       "<Figure size 432x288 with 1 Axes>"
      ]
     },
     "metadata": {
      "needs_background": "light"
     },
     "output_type": "display_data"
    }
   ],
   "source": [
    "t = tensor([-14., -13., -12., -11., -10.,  -9.,  -8.,  -7.,  -6.,  -5.,  -4.,  -3.,\n",
    "         -2.,  -1.,   0., 1,2,3,4,5], device='cuda:0')\n",
    "theta = tensor([-0.0029, -0.0013, -0.0061,  0.0012], device='cuda:0')[None,:]\n",
    "plt.plot(trend_model(theta,t).cpu().T)"
   ]
  },
  {
   "cell_type": "code",
   "execution_count": null,
   "metadata": {},
   "outputs": [],
   "source": [
    "class TrendBlock(Block):\n",
    "    def __init__(\n",
    "        self, layers:L, device, thetas_dim, lookback=10, horizon=5, use_bn=True,\n",
    "        bn_final=False, ps:L=None, share_thetas=True, y_range=[-.05,.05]\n",
    "    ):\n",
    "        store_attr(self,\"y_range,device,layers,thetas_dim,use_bn,ps,lookback,horizon,bn_final,share_thetas\" ) \n",
    "        super().__init__(trend_model)        \n",
    "        self.to(device)\n",
    "        \n",
    "#     def forward(self,x):\n",
    "#         dct=super().forward(x[:,0,:])\n",
    "#         return dct['f'][:,None,:],dct['b'][:,None,:],dct"
   ]
  },
  {
   "cell_type": "code",
   "execution_count": null,
   "metadata": {},
   "outputs": [
    {
     "data": {
      "text/markdown": [
       "<h4 id=\"trend_model\" class=\"doc_header\"><code>trend_model</code><a href=\"__main__.py#L2\" class=\"source_link\" style=\"float:right\">[source]</a></h4>\n",
       "\n",
       "> <code>trend_model</code>(**`thetas`**, **`t`**)\n",
       "\n"
      ],
      "text/plain": [
       "<IPython.core.display.Markdown object>"
      ]
     },
     "metadata": {},
     "output_type": "display_data"
    }
   ],
   "source": [
    "show_doc(trend_model, name='trend_model')"
   ]
  },
  {
   "cell_type": "code",
   "execution_count": null,
   "metadata": {},
   "outputs": [],
   "source": [
    "mdl = TrendBlock([256], thetas_dim=4, device=device, lookback=100, horizon=10)\n",
    "dct = mdl(torch.randn(64,100).to(device))\n",
    "test_eq(dct['b'].shape, (64,100))\n",
    "test_eq(dct['f'].shape, (64,10))\n",
    "test_eq(dct['theta'].shape,(64,4))"
   ]
  },
  {
   "cell_type": "code",
   "execution_count": null,
   "metadata": {},
   "outputs": [],
   "source": [
    "# export\n",
    "def bias_model(thetas, t):\n",
    "    r= torch.mm(t[None,:].float().T,thetas[:,0][None,:]).T \n",
    "    if thetas.shape[-1]==2:\n",
    "        return r+thetas[:,1][:,None]\n",
    "    return r\n",
    "\n",
    "class BiasBlock(Block):\n",
    "    def __init__(\n",
    "        self, layers:L, device, thetas_dim=2, lookback=10, horizon=5, use_bn=True, bn_final=False, ps:L=None\n",
    "    ):\n",
    "        share_thetas=True\n",
    "        assert thetas_dim <= 2, f\"thetas_dim for BaisBlock must be < than 2, is now {thetas_dim}\"\n",
    "        store_attr(self,\"device,layers,thetas_dim,use_bn,ps,lookback,horizon,bn_final,share_thetas\" ) \n",
    "        self.layers=L(self.layers)\n",
    "        super().__init__(bias_model)        \n",
    "        self.to(device)"
   ]
  },
  {
   "cell_type": "code",
   "execution_count": null,
   "metadata": {},
   "outputs": [],
   "source": [
    "mdl = BiasBlock([300,200,50], device=device, lookback=100, horizon=10)\n",
    "dct = mdl(torch.randn(64,100).to(device))\n",
    "test_eq(dct['b'].shape, (64,100))\n",
    "test_eq(dct['f'].shape, (64,10))\n",
    "test_eq(dct['theta'].shape,(64,2))\n",
    "test_eq(dct['attention'].shape,(64,1))"
   ]
  },
  {
   "cell_type": "code",
   "execution_count": null,
   "metadata": {},
   "outputs": [],
   "source": [
    "# export\n",
    "class LinearD(nn.Linear):   \n",
    "    \"\"\"\"\"\"\n",
    "    def forward(self, x, *args, **kwargs):\n",
    "        return super().forward(x)\n",
    "        \n",
    "class GenericBlock(Block):\n",
    "    def __init__(\n",
    "        self, layers:L, thetas_dim:int, device, lookback=10, horizon=5, use_bn=True,\n",
    "        bn_final=False, ps:L=None, share_thetas=True, y_range=[-.05,.05]\n",
    "    ):\n",
    "        store_attr(self,\"y_range,device,layers,thetas_dim,use_bn,ps,lookback,horizon,bn_final,share_thetas\" ) \n",
    "        super().__init__(LinearD(self.thetas_dim, self.horizon),LinearD(self.thetas_dim, self.lookback))        \n",
    "        self.to(device)\n",
    "        "
   ]
  },
  {
   "cell_type": "code",
   "execution_count": null,
   "metadata": {},
   "outputs": [
    {
     "data": {
      "text/markdown": [
       "<h4 id=\"LinearD\" class=\"doc_header\"><code>class</code> <code>LinearD</code><a href=\"\" class=\"source_link\" style=\"float:right\">[source]</a></h4>\n",
       "\n",
       "> <code>LinearD</code>(**`in_features`**, **`out_features`**, **`bias`**=*`True`*) :: `Linear`\n",
       "\n"
      ],
      "text/plain": [
       "<IPython.core.display.Markdown object>"
      ]
     },
     "metadata": {},
     "output_type": "display_data"
    }
   ],
   "source": [
    "show_doc(LinearD, name='LinearD',title_level=4)"
   ]
  },
  {
   "cell_type": "code",
   "execution_count": null,
   "metadata": {},
   "outputs": [],
   "source": [
    "mdl = GenericBlock([256], thetas_dim=4, device=device, lookback=100, horizon=10)\n",
    "dct = mdl(torch.randn(64,100).to(device))\n",
    "test_eq(dct['b'].shape, (64,100))\n",
    "test_eq(dct['f'].shape, (64,10))"
   ]
  },
  {
   "cell_type": "code",
   "execution_count": null,
   "metadata": {},
   "outputs": [],
   "source": [
    "# export\n",
    "\n",
    "def seasonality_model(thetas, t):\n",
    "    p = thetas.size()[-1]\n",
    "    assert p < 10, \"thetas_dim is too big.\"\n",
    "    p1, p2 = (p // 2, p // 2) if p % 2 == 0 else (p // 2, p // 2 + 1)\n",
    "    s1 = [torch.cos(2 * np.pi * i * t)[None,:] for i in range(p1)] # H/2-1\n",
    "    s2 = [torch.sin(2 * np.pi * i * t)[None,:] for i in range(p2)]\n",
    "    S = torch.cat([*s1, *s2])\n",
    "    return thetas.mm(S)\n",
    "\n",
    "class SeasonalityBlock(Block):\n",
    "    def __init__(\n",
    "        self, layers:L, thetas_dim:int, device, lookback=10, horizon=5, use_bn=True,\n",
    "        bn_final=False, ps:L=None, share_thetas=True,y_range=[-.05,.05]\n",
    "    ):       \n",
    "        store_attr(self,\"y_range,device,layers,thetas_dim,use_bn,ps,lookback,horizon,bn_final,share_thetas\" ) \n",
    "        super().__init__(seasonality_model )        \n",
    "        self.to(device)"
   ]
  },
  {
   "cell_type": "code",
   "execution_count": null,
   "metadata": {},
   "outputs": [
    {
     "data": {
      "text/markdown": [
       "<h4 id=\"seasonality_model\" class=\"doc_header\"><code>seasonality_model</code><a href=\"__main__.py#L3\" class=\"source_link\" style=\"float:right\">[source]</a></h4>\n",
       "\n",
       "> <code>seasonality_model</code>(**`thetas`**, **`t`**)\n",
       "\n"
      ],
      "text/plain": [
       "<IPython.core.display.Markdown object>"
      ]
     },
     "metadata": {},
     "output_type": "display_data"
    }
   ],
   "source": [
    "show_doc(seasonality_model, name='seasonality_model')"
   ]
  },
  {
   "cell_type": "code",
   "execution_count": null,
   "metadata": {},
   "outputs": [],
   "source": [
    "mdl = SeasonalityBlock([256], thetas_dim=4, device=device, lookback=100, horizon=10)\n",
    "dct = mdl(torch.randn(64,100).to(device))\n",
    "test_eq(dct['b'].shape, (64,100))\n",
    "test_eq(dct['f'].shape, (64,10))"
   ]
  },
  {
   "cell_type": "code",
   "execution_count": null,
   "metadata": {},
   "outputs": [],
   "source": [
    "# export\n",
    "\n",
    "# not pritty but still works better\n",
    "def select_block(o):\n",
    "    if isinstance(o,int):\n",
    "        if o == 0:\n",
    "            return SeasonalityBlock\n",
    "        elif o == 1:\n",
    "            return TrendBlock\n",
    "        elif o == 2:\n",
    "            return BaisBlock\n",
    "        else:\n",
    "            return GenericBlock\n",
    "    else:\n",
    "        if o == 'seasonality':\n",
    "            return SeasonalityBlock\n",
    "        elif o == 'trend':\n",
    "            return TrendBlock\n",
    "        elif o =='bias':\n",
    "            return BiasBlock\n",
    "        else:\n",
    "            return GenericBlock\n",
    "        \n",
    "default_thetas={'seasonality':10,'trend':4,'bais':2}"
   ]
  },
  {
   "cell_type": "code",
   "execution_count": null,
   "metadata": {},
   "outputs": [],
   "source": [
    "# export\n",
    "class NBeatsNet(Module):\n",
    "    def __init__(\n",
    "        self,\n",
    "        device,\n",
    "        stack_types=('trend', 'seasonality'),\n",
    "        nb_blocks_per_stack=3,\n",
    "        horizon=5,\n",
    "        lookback=10,\n",
    "        thetas_dim=None,\n",
    "        share_weights_in_stack=False,\n",
    "        layers= [200,100],\n",
    "    ):        \n",
    "        thetas_dim = ifnone(thetas_dim,[default_thetas[o] for o in L(stack_types)])\n",
    "        stack_types= L(stack_types)\n",
    "        store_attr(self,'device,horizon,lookback,layers,nb_blocks_per_stack,share_weights_in_stack,stack_types,thetas_dim,device')\n",
    "        self.stacks = []\n",
    "        self._str = \"| N-Beats\\n\"\n",
    "        \n",
    "        self.bn = BatchNorm(lookback, ndim=2)        \n",
    "        stacks = OrderedDict()        \n",
    "        for stack_id in range(len(self.stack_types)):\n",
    "            \n",
    "            stacks[str(self.stack_types[stack_id]) + str(stack_id)] = self.create_stack(stack_id)\n",
    "        self.stacks = nn.Sequential(stacks)\n",
    "        \n",
    "    def create_stack(self, stack_id):\n",
    "        stack_type = self.stack_types[stack_id]\n",
    "        self._str += f\"| --  Stack {stack_type.title()} (#{stack_id}) (share_weights_in_stack={self.share_weights_in_stack})\\n\"\n",
    "        \n",
    "        blocks = []\n",
    "        for block_id in range(self.nb_blocks_per_stack):\n",
    "            block_init = select_block(stack_type)\n",
    "            if self.share_weights_in_stack and block_id != 0:\n",
    "                block = blocks[-1]  # pick up the last one when we share weights.\n",
    "            else:\n",
    "                block = block_init(\n",
    "                    layers = self.layers,\n",
    "                    thetas_dim = self.thetas_dim[stack_id],\n",
    "                    device = self.device,\n",
    "                    lookback = self.lookback,\n",
    "                    horizon = self.horizon,\n",
    "                )\n",
    "            self._str += f\"     | -- {block}\\n\"\n",
    "            blocks.append(block)\n",
    "            \n",
    "        return nn.Sequential(*blocks)\n",
    "\n",
    "    def forward(self, x):\n",
    "        backcast_res = x.view([-1,x.shape[-1]])\n",
    "        backcast = torch.zeros(\n",
    "            size=(backcast_res.size()[0], self.lookback,)\n",
    "        ) \n",
    "        forecast = torch.zeros(\n",
    "            size=(backcast.size()[0], self.horizon,)\n",
    "        )  # maybe batch size here.\n",
    "        \n",
    "        dct = defaultdict(dict)\n",
    "        for stack_id, names in enumerate(self.stacks.named_children()):\n",
    "            name = names[0]\n",
    "            for block_id in range(len(self.stacks[stack_id])):\n",
    "                dct[name+'_'+str(block_id)] = self.stacks[stack_id][block_id](backcast_res)\n",
    "                backcast_res = backcast_res.to(self.device) - dct[name+'_'+str(block_id)]['b']\n",
    "                \n",
    "                forecast = forecast.to(self.device) + dct[name+'_'+str(block_id)]['f']\n",
    "                backcast = backcast.to(self.device) + dct[name+'_'+str(block_id)]['b']\n",
    "                \n",
    "        return torch.cat([backcast[:,None,:], forecast[:,None,:]], dim=-1)\n",
    "\n"
   ]
  },
  {
   "cell_type": "code",
   "execution_count": null,
   "metadata": {},
   "outputs": [
    {
     "data": {
      "text/markdown": [
       "<h4 id=\"select_block\" class=\"doc_header\"><code>select_block</code><a href=\"__main__.py#L4\" class=\"source_link\" style=\"float:right\">[source]</a></h4>\n",
       "\n",
       "> <code>select_block</code>(**`o`**)\n",
       "\n"
      ],
      "text/plain": [
       "<IPython.core.display.Markdown object>"
      ]
     },
     "metadata": {},
     "output_type": "display_data"
    }
   ],
   "source": [
    "show_doc(select_block, name='select_block')"
   ]
  },
  {
   "cell_type": "code",
   "execution_count": null,
   "metadata": {},
   "outputs": [],
   "source": [
    "mdl = NBeatsNet(torch.device('cpu'), stack_types=('seasonality'), )\n",
    "_ = mdl(torch.randn(64,1,10))\n",
    "# print(f.shape,b.shape)\n",
    "# print([(stack, o['theta']) for stack,o in dct.items()])"
   ]
  },
  {
   "cell_type": "markdown",
   "metadata": {},
   "source": [
    "## Callback "
   ]
  },
  {
   "cell_type": "code",
   "execution_count": null,
   "metadata": {},
   "outputs": [],
   "source": [
    "# export\n",
    "class NBeatsTrainer(Callback):\n",
    "    \"`Callback` that stores extra outputs of N-Beats training and make the output only the forecast.\"\n",
    "    def __init__(self, store_b = True):\n",
    "        store_attr(self,'store_b')\n",
    "    \n",
    "    def begin_train(self): \n",
    "        self.out = defaultdict(dict)\n",
    "    def begin_validate(self): \n",
    "        self.out = defaultdict(dict)\n",
    "        \n",
    "    def after_pred(self):        \n",
    "        self.total_b = self.pred[1]   # first_item(self.learn.dls).after_batch.decode((,))[0].detach()\n",
    "        if self.store_b:                  \n",
    "            self.pred[2]['total_b'] = self.total_b.detach()  \n",
    "            \n",
    "        self.pred[2]['total_b_loss'] = self.learn.loss_func(self.learn.pred[1].float(), *self.learn.xb, reduction='none').mean(-1)\n",
    "        \n",
    "        self.out = concat_dct(self.pred[2], self.out)  \n",
    "        \n",
    "        self.learn.pred = self.pred[0].float()    \n",
    "#         print(self.learn.pred[0])\n",
    "#         print('after pred', self.pred.shape, self.yb[0].shape, type(self.pred))\n",
    "\n",
    "    def after_batch(self):\n",
    "# #         print('after_batch',self.learn.pred.shape, self.total_b.shape)\n",
    "        self.learn.pred =torch.cat([self.total_b,self.pred,], dim=2)"
   ]
  },
  {
   "cell_type": "markdown",
   "metadata": {},
   "source": [
    "# Examples"
   ]
  },
  {
   "cell_type": "code",
   "execution_count": null,
   "metadata": {},
   "outputs": [
    {
     "name": "stdout",
     "output_type": "stream",
     "text": [
      "Train:400; Valid: 300; Test 100\n"
     ]
    }
   ],
   "source": [
    "horizon, lookback = 7,10\n",
    "items = dummy_data_generator(50, 7, nrows=100)\n",
    "data = TSDataLoaders.from_items(items, horizon = horizon, lookback=lookback, step=5, after_batch = NormalizeTS()\n",
    "                               ,num_workers=1)\n"
   ]
  },
  {
   "cell_type": "code",
   "execution_count": null,
   "metadata": {},
   "outputs": [
    {
     "data": {
      "text/html": [],
      "text/plain": [
       "<IPython.core.display.HTML object>"
      ]
     },
     "metadata": {},
     "output_type": "display_data"
    },
    {
     "data": {
      "image/png": "[encoded data removed]",
      "text/plain": [
       "<Figure size 432x288 with 1 Axes>"
      ]
     },
     "metadata": {
      "needs_background": "light"
     },
     "output_type": "display_data"
    }
   ],
   "source": [
    "mdl = NBeatsNet(device = data.train.device, stack_types=('trend','seasonality'), horizon=horizon, lookback=lookback)\n",
    "loss_func = F.mse_loss\n",
    "learn = Learner(data, mdl, loss_func=loss_func, opt_func= Adam, \n",
    "#                 cbs=L(NBeatsTrainer())\n",
    "               )\n",
    "learn.lr_find()"
   ]
  },
  {
   "cell_type": "code",
   "execution_count": null,
   "metadata": {},
   "outputs": [
    {
     "data": {
      "text/html": [
       "<table border=\"1\" class=\"dataframe\">\n",
       "  <thead>\n",
       "    <tr style=\"text-align: left;\">\n",
       "      <th>epoch</th>\n",
       "      <th>train_loss</th>\n",
       "      <th>valid_loss</th>\n",
       "      <th>time</th>\n",
       "    </tr>\n",
       "  </thead>\n",
       "  <tbody>\n",
       "    <tr>\n",
       "      <td>0</td>\n",
       "      <td>30.212767</td>\n",
       "      <td>5.205967</td>\n",
       "      <td>00:00</td>\n",
       "    </tr>\n",
       "    <tr>\n",
       "      <td>1</td>\n",
       "      <td>20.296621</td>\n",
       "      <td>7.346617</td>\n",
       "      <td>00:00</td>\n",
       "    </tr>\n",
       "    <tr>\n",
       "      <td>2</td>\n",
       "      <td>15.547908</td>\n",
       "      <td>4.900046</td>\n",
       "      <td>00:00</td>\n",
       "    </tr>\n",
       "    <tr>\n",
       "      <td>3</td>\n",
       "      <td>12.738256</td>\n",
       "      <td>7.059474</td>\n",
       "      <td>00:00</td>\n",
       "    </tr>\n",
       "    <tr>\n",
       "      <td>4</td>\n",
       "      <td>10.728261</td>\n",
       "      <td>4.606760</td>\n",
       "      <td>00:00</td>\n",
       "    </tr>\n",
       "    <tr>\n",
       "      <td>5</td>\n",
       "      <td>9.273032</td>\n",
       "      <td>4.421799</td>\n",
       "      <td>00:00</td>\n",
       "    </tr>\n",
       "    <tr>\n",
       "      <td>6</td>\n",
       "      <td>8.254078</td>\n",
       "      <td>3.699112</td>\n",
       "      <td>00:00</td>\n",
       "    </tr>\n",
       "    <tr>\n",
       "      <td>7</td>\n",
       "      <td>7.496712</td>\n",
       "      <td>3.758857</td>\n",
       "      <td>00:00</td>\n",
       "    </tr>\n",
       "    <tr>\n",
       "      <td>8</td>\n",
       "      <td>6.892990</td>\n",
       "      <td>3.726312</td>\n",
       "      <td>00:00</td>\n",
       "    </tr>\n",
       "    <tr>\n",
       "      <td>9</td>\n",
       "      <td>6.434099</td>\n",
       "      <td>3.020206</td>\n",
       "      <td>00:00</td>\n",
       "    </tr>\n",
       "    <tr>\n",
       "      <td>10</td>\n",
       "      <td>5.999091</td>\n",
       "      <td>2.930697</td>\n",
       "      <td>00:00</td>\n",
       "    </tr>\n",
       "    <tr>\n",
       "      <td>11</td>\n",
       "      <td>5.623688</td>\n",
       "      <td>2.977422</td>\n",
       "      <td>00:00</td>\n",
       "    </tr>\n",
       "    <tr>\n",
       "      <td>12</td>\n",
       "      <td>5.253571</td>\n",
       "      <td>2.714086</td>\n",
       "      <td>00:00</td>\n",
       "    </tr>\n",
       "    <tr>\n",
       "      <td>13</td>\n",
       "      <td>4.902924</td>\n",
       "      <td>2.579070</td>\n",
       "      <td>00:00</td>\n",
       "    </tr>\n",
       "    <tr>\n",
       "      <td>14</td>\n",
       "      <td>4.618225</td>\n",
       "      <td>2.768253</td>\n",
       "      <td>00:00</td>\n",
       "    </tr>\n",
       "    <tr>\n",
       "      <td>15</td>\n",
       "      <td>4.478089</td>\n",
       "      <td>2.541455</td>\n",
       "      <td>00:00</td>\n",
       "    </tr>\n",
       "    <tr>\n",
       "      <td>16</td>\n",
       "      <td>4.313628</td>\n",
       "      <td>2.273268</td>\n",
       "      <td>00:00</td>\n",
       "    </tr>\n",
       "    <tr>\n",
       "      <td>17</td>\n",
       "      <td>4.214715</td>\n",
       "      <td>3.454518</td>\n",
       "      <td>00:00</td>\n",
       "    </tr>\n",
       "    <tr>\n",
       "      <td>18</td>\n",
       "      <td>4.151527</td>\n",
       "      <td>2.612848</td>\n",
       "      <td>00:00</td>\n",
       "    </tr>\n",
       "    <tr>\n",
       "      <td>19</td>\n",
       "      <td>4.003870</td>\n",
       "      <td>2.293509</td>\n",
       "      <td>00:00</td>\n",
       "    </tr>\n",
       "    <tr>\n",
       "      <td>20</td>\n",
       "      <td>3.821458</td>\n",
       "      <td>2.102560</td>\n",
       "      <td>00:00</td>\n",
       "    </tr>\n",
       "    <tr>\n",
       "      <td>21</td>\n",
       "      <td>3.650134</td>\n",
       "      <td>1.985568</td>\n",
       "      <td>00:00</td>\n",
       "    </tr>\n",
       "    <tr>\n",
       "      <td>22</td>\n",
       "      <td>3.469506</td>\n",
       "      <td>2.045150</td>\n",
       "      <td>00:00</td>\n",
       "    </tr>\n",
       "    <tr>\n",
       "      <td>23</td>\n",
       "      <td>3.324492</td>\n",
       "      <td>2.275604</td>\n",
       "      <td>00:00</td>\n",
       "    </tr>\n",
       "    <tr>\n",
       "      <td>24</td>\n",
       "      <td>3.278497</td>\n",
       "      <td>2.086094</td>\n",
       "      <td>00:00</td>\n",
       "    </tr>\n",
       "    <tr>\n",
       "      <td>25</td>\n",
       "      <td>3.279482</td>\n",
       "      <td>2.073675</td>\n",
       "      <td>00:00</td>\n",
       "    </tr>\n",
       "    <tr>\n",
       "      <td>26</td>\n",
       "      <td>3.250132</td>\n",
       "      <td>2.558891</td>\n",
       "      <td>00:00</td>\n",
       "    </tr>\n",
       "    <tr>\n",
       "      <td>27</td>\n",
       "      <td>3.281789</td>\n",
       "      <td>1.867282</td>\n",
       "      <td>00:00</td>\n",
       "    </tr>\n",
       "    <tr>\n",
       "      <td>28</td>\n",
       "      <td>3.196884</td>\n",
       "      <td>2.043183</td>\n",
       "      <td>00:00</td>\n",
       "    </tr>\n",
       "    <tr>\n",
       "      <td>29</td>\n",
       "      <td>3.095504</td>\n",
       "      <td>2.262816</td>\n",
       "      <td>00:00</td>\n",
       "    </tr>\n",
       "    <tr>\n",
       "      <td>30</td>\n",
       "      <td>2.994524</td>\n",
       "      <td>1.943048</td>\n",
       "      <td>00:00</td>\n",
       "    </tr>\n",
       "    <tr>\n",
       "      <td>31</td>\n",
       "      <td>2.880324</td>\n",
       "      <td>1.884636</td>\n",
       "      <td>00:00</td>\n",
       "    </tr>\n",
       "    <tr>\n",
       "      <td>32</td>\n",
       "      <td>2.792640</td>\n",
       "      <td>1.951110</td>\n",
       "      <td>00:00</td>\n",
       "    </tr>\n",
       "    <tr>\n",
       "      <td>33</td>\n",
       "      <td>2.717974</td>\n",
       "      <td>2.409398</td>\n",
       "      <td>00:00</td>\n",
       "    </tr>\n",
       "    <tr>\n",
       "      <td>34</td>\n",
       "      <td>2.620853</td>\n",
       "      <td>2.340362</td>\n",
       "      <td>00:00</td>\n",
       "    </tr>\n",
       "    <tr>\n",
       "      <td>35</td>\n",
       "      <td>2.532119</td>\n",
       "      <td>1.955377</td>\n",
       "      <td>00:00</td>\n",
       "    </tr>\n",
       "    <tr>\n",
       "      <td>36</td>\n",
       "      <td>2.442961</td>\n",
       "      <td>1.862545</td>\n",
       "      <td>00:00</td>\n",
       "    </tr>\n",
       "    <tr>\n",
       "      <td>37</td>\n",
       "      <td>2.360268</td>\n",
       "      <td>2.239686</td>\n",
       "      <td>00:00</td>\n",
       "    </tr>\n",
       "    <tr>\n",
       "      <td>38</td>\n",
       "      <td>2.311444</td>\n",
       "      <td>1.932620</td>\n",
       "      <td>00:00</td>\n",
       "    </tr>\n",
       "    <tr>\n",
       "      <td>39</td>\n",
       "      <td>2.277398</td>\n",
       "      <td>2.016017</td>\n",
       "      <td>00:00</td>\n",
       "    </tr>\n",
       "    <tr>\n",
       "      <td>40</td>\n",
       "      <td>2.392263</td>\n",
       "      <td>1.886031</td>\n",
       "      <td>00:00</td>\n",
       "    </tr>\n",
       "    <tr>\n",
       "      <td>41</td>\n",
       "      <td>2.512575</td>\n",
       "      <td>1.887277</td>\n",
       "      <td>00:00</td>\n",
       "    </tr>\n",
       "    <tr>\n",
       "      <td>42</td>\n",
       "      <td>2.632322</td>\n",
       "      <td>5.313272</td>\n",
       "      <td>00:00</td>\n",
       "    </tr>\n",
       "    <tr>\n",
       "      <td>43</td>\n",
       "      <td>2.764252</td>\n",
       "      <td>3.934500</td>\n",
       "      <td>00:00</td>\n",
       "    </tr>\n",
       "    <tr>\n",
       "      <td>44</td>\n",
       "      <td>2.772037</td>\n",
       "      <td>2.443802</td>\n",
       "      <td>00:00</td>\n",
       "    </tr>\n",
       "    <tr>\n",
       "      <td>45</td>\n",
       "      <td>2.730939</td>\n",
       "      <td>2.139733</td>\n",
       "      <td>00:00</td>\n",
       "    </tr>\n",
       "    <tr>\n",
       "      <td>46</td>\n",
       "      <td>2.689724</td>\n",
       "      <td>2.080009</td>\n",
       "      <td>00:00</td>\n",
       "    </tr>\n",
       "    <tr>\n",
       "      <td>47</td>\n",
       "      <td>2.636587</td>\n",
       "      <td>2.360197</td>\n",
       "      <td>00:00</td>\n",
       "    </tr>\n",
       "    <tr>\n",
       "      <td>48</td>\n",
       "      <td>2.588927</td>\n",
       "      <td>1.786892</td>\n",
       "      <td>00:00</td>\n",
       "    </tr>\n",
       "    <tr>\n",
       "      <td>49</td>\n",
       "      <td>2.520792</td>\n",
       "      <td>1.697928</td>\n",
       "      <td>00:00</td>\n",
       "    </tr>\n",
       "  </tbody>\n",
       "</table>"
      ],
      "text/plain": [
       "<IPython.core.display.HTML object>"
      ]
     },
     "metadata": {},
     "output_type": "display_data"
    },
    {
     "data": {
      "image/png": "[encoded data removed]",
      "text/plain": [
       "<Figure size 432x288 with 1 Axes>"
      ]
     },
     "metadata": {
      "needs_background": "light"
     },
     "output_type": "display_data"
    }
   ],
   "source": [
    "learn.fit(50,1e-2)\n",
    "learn.recorder.plot_loss()"
   ]
  },
  {
   "cell_type": "code",
   "execution_count": null,
   "metadata": {},
   "outputs": [
    {
     "data": {
      "text/html": [],
      "text/plain": [
       "<IPython.core.display.HTML object>"
      ]
     },
     "metadata": {},
     "output_type": "display_data"
    },
    {
     "data": {
      "image/png": "[encoded data removed]",
      "text/plain": [
       "<Figure size 648x720 with 9 Axes>"
      ]
     },
     "metadata": {
      "needs_background": "light"
     },
     "output_type": "display_data"
    }
   ],
   "source": [
    "learn.show_results(0)"
   ]
  },
  {
   "cell_type": "code",
   "execution_count": null,
   "metadata": {},
   "outputs": [
    {
     "data": {
      "text/html": [],
      "text/plain": [
       "<IPython.core.display.HTML object>"
      ]
     },
     "metadata": {},
     "output_type": "display_data"
    },
    {
     "data": {
      "image/png": "[encoded data removed]",
      "text/plain": [
       "<Figure size 648x720 with 9 Axes>"
      ]
     },
     "metadata": {
      "needs_background": "light"
     },
     "output_type": "display_data"
    }
   ],
   "source": [
    "learn.show_results(1)"
   ]
  },
  {
   "cell_type": "code",
   "execution_count": null,
   "metadata": {},
   "outputs": [
    {
     "name": "stdout",
     "output_type": "stream",
     "text": [
      "Converted 00_core.ipynb.\n",
      "Converted 01_data.external.ipynb.\n",
      "Converted 02_data.load.ipynb.\n",
      "Converted 03_data.core.ipynb.\n",
      "Converted 05_nbeats.models.ipynb.\n",
      "Converted 06_nbeats.metrics.ipynb.\n",
      "Converted 07_nbeats.learner.ipynb.\n",
      "Converted 08_nbeats.interpret.ipynb.\n",
      "Converted 11_metrics.ipynb.\n",
      "Converted index.ipynb.\n"
     ]
    }
   ],
   "source": [
    "# hide\n",
    "from nbdev.export import *\n",
    "notebook2script()"
   ]
  },
  {
   "cell_type": "code",
   "execution_count": null,
   "metadata": {},
   "outputs": [],
   "source": []
  }
 ],
 "metadata": {
  "kernelspec": {
   "display_name": "env37",
   "language": "python",
   "name": "env37"
  }
 },
 "nbformat": 4,
 "nbformat_minor": 4
}
