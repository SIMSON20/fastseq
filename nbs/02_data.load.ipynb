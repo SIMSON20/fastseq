{
 "cells": [
  {
   "cell_type": "code",
   "execution_count": 2,
   "metadata": {},
   "outputs": [],
   "source": [
    "# default_exp data.load "
   ]
  },
  {
   "cell_type": "code",
   "execution_count": 3,
   "metadata": {
    "Collapsed": "false"
   },
   "outputs": [],
   "source": [
    "# hide\n",
    "import sys\n",
    "\n",
    "sys.path.append(\"..\")"
   ]
  },
  {
   "cell_type": "code",
   "execution_count": 6,
   "metadata": {},
   "outputs": [],
   "source": [
    "# export\n",
    "\n",
    "# note this is still the https://github.com/MSRDL/Deep4Cast/blob/master/deep4cast/datasets.py needs some tweaks to work with fastai\n",
    "\n",
    "import numpy as np\n",
    "from torch.utils.data import Dataset\n",
    "\n",
    "# from deep4cast import transforms\n",
    "\n",
    "\n",
    "class TimeSeriesDataset(Dataset):\n",
    "    \"\"\"Takes a list of time series and provides access to windowed subseries for\n",
    "    training.\n",
    "    Arguments:\n",
    "        * time_series (list): List of time series ``numpy`` arrays.\n",
    "        * lookback (int): Number of time steps used as input for forecasting.\n",
    "        * horizon (int): Number of time steps to forecast.\n",
    "        * step (int): Time step size between consecutive examples.\n",
    "        * transform (``transforms.Compose``): Specific transformations to apply to time series examples.\n",
    "        * static_covs (list): Static covariates for each item in ``time_series`` list.\n",
    "        * thinning (float): Fraction of examples to include.\n",
    "    \"\"\"\n",
    "    def __init__(self, \n",
    "                 time_series,\n",
    "                 lookback,\n",
    "                 horizon,\n",
    "                 step, \n",
    "                 transform,\n",
    "                 static_covs=None,\n",
    "                 thinning=1.0):\n",
    "        self.time_series = time_series\n",
    "        self.lookback = lookback\n",
    "        self.horizon = horizon\n",
    "        self.step = step\n",
    "        self.transform = transform\n",
    "        self.static_covs = static_covs\n",
    "\n",
    "        # Slice each time series into examples, assigning IDs to each\n",
    "        last_id = 0\n",
    "        n_dropped = 0\n",
    "        self.example_ids = {}\n",
    "        for i, ts in enumerate(self.time_series):\n",
    "            num_examples = (ts.shape[-1] - self.lookback - self.horizon + self.step) // self.step\n",
    "            # Time series shorter than the forecast horizon need to be dropped.\n",
    "            if ts.shape[-1] < self.horizon:\n",
    "                n_dropped += 1\n",
    "                continue\n",
    "            # For short time series zero pad the input\n",
    "            if ts.shape[-1] < self.lookback + self.horizon:\n",
    "                num_examples = 1\n",
    "            for j in range(num_examples):\n",
    "                self.example_ids[last_id + j] = (i, j * self.step)\n",
    "            last_id += num_examples\n",
    "\n",
    "        # Inform user about time series that were too short\n",
    "        if n_dropped > 0:\n",
    "            print(\"Dropped {}/{} time series due to length.\".format(\n",
    "                    n_dropped, len(self.time_series)\n",
    "                    )\n",
    "                 )\n",
    "\n",
    "        # Store the number of training examples\n",
    "        self._len = int(self.example_ids.__len__() * thinning)\n",
    "\n",
    "    def __len__(self):\n",
    "        return self._len\n",
    "\n",
    "    def __getitem__(self, idx):\n",
    "        # Get time series\n",
    "        ts_id, lookback_id = self.example_ids[idx]\n",
    "        ts = self.time_series[ts_id]\n",
    "\n",
    "        # Prepare input and target. Zero pad if necessary.\n",
    "        if ts.shape[-1] < self.lookback + self.horizon:\n",
    "            # If the time series is too short, we zero pad\n",
    "            X = ts[:, :-self.horizon]\n",
    "            X = np.pad(\n",
    "                X, \n",
    "                pad_width=((0, 0), (self.lookback - X.shape[-1], 0)), \n",
    "                mode='constant', \n",
    "                constant_values=0\n",
    "            )\n",
    "            y = ts[:, -self.horizon:]\n",
    "        else:\n",
    "            X = ts[:, lookback_id:lookback_id + self.lookback]\n",
    "            y = ts[:, lookback_id + self.lookback:lookback_id + self.lookback + self.horizon]\n",
    "\n",
    "        # Create the input and output for the sample\n",
    "        sample = {'X': X, 'y': y}\n",
    "        sample = self.transform(sample)\n",
    "\n",
    "        # Static covariates can be attached\n",
    "        if self.static_covs is not None:\n",
    "            sample['X_stat'] = self.static_covs[ts_id]\n",
    "\n",
    "        return sample"
   ]
  },
  {
   "cell_type": "code",
   "execution_count": 7,
   "metadata": {
    "Collapsed": "false"
   },
   "outputs": [
    {
     "name": "stdout",
     "output_type": "stream",
     "text": [
      "Converted 00_core.ipynb.\n",
      "Converted 01_data.external.ipynb.\n",
      "Converted 02_data.load.ipynb.\n",
      "Converted index.ipynb.\n"
     ]
    }
   ],
   "source": [
    "# hide\n",
    "from nbdev.export import *\n",
    "\n",
    "notebook2script()"
   ]
  },
  {
   "cell_type": "code",
   "execution_count": null,
   "metadata": {},
   "outputs": [],
   "source": []
  }
 ],
 "metadata": {
  "kernelspec": {
   "display_name": "python37",
   "language": "python",
   "name": "python37"
  },
  "language_info": {
   "codemirror_mode": {
    "name": "ipython",
    "version": 3
   },
   "file_extension": ".py",
   "mimetype": "text/x-python",
   "name": "python",
   "nbconvert_exporter": "python",
   "pygments_lexer": "ipython3",
   "version": "3.7.3"
  }
 },
 "nbformat": 4,
 "nbformat_minor": 2
}
