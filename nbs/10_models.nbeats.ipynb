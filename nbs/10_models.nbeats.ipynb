{
 "cells": [
  {
   "cell_type": "code",
   "execution_count": null,
   "metadata": {},
   "outputs": [],
   "source": [
    "# default_exp models.nbeats"
   ]
  },
  {
   "cell_type": "code",
   "execution_count": null,
   "metadata": {},
   "outputs": [],
   "source": [
    "# hide\n",
    "import sys\n",
    "\n",
    "sys.path.append(\"..\")"
   ]
  },
  {
   "cell_type": "markdown",
   "metadata": {},
   "source": [
    "# N-Beats model\n",
    "\n",
    "> A basic architecture for time series forecasting.\n"
   ]
  },
  {
   "cell_type": "code",
   "execution_count": null,
   "metadata": {},
   "outputs": [],
   "source": [
    "# hide\n",
    "from nbdev.showdoc import *\n",
    "from fastcore.test import *"
   ]
  },
  {
   "cell_type": "code",
   "execution_count": null,
   "metadata": {},
   "outputs": [
    {
     "name": "stderr",
     "output_type": "stream",
     "text": [
      "/home/tako/dev/env37/lib/python3.7/site-packages/pandas/compat/__init__.py:85: UserWarning: Could not import the lzma module. Your installed Python is incomplete. Attempting to use lzma compression will result in a RuntimeError.\n",
      "  warnings.warn(msg)\n"
     ]
    }
   ],
   "source": [
    "#export\n",
    "from fastcore.utils import *\n",
    "from fastcore.imports import *\n",
    "from fastai2.basics import *\n",
    "from fastai2.callback.hook import num_features_model\n",
    "from fastai2.callback.all import *\n",
    "from fastai2.torch_core import *\n",
    "from torch.autograd import Variable\n",
    "from fastseq.all import *"
   ]
  },
  {
   "cell_type": "code",
   "execution_count": null,
   "metadata": {},
   "outputs": [
    {
     "data": {
      "text/plain": [
       "tensor([-10.0000,  -8.9286,  -7.8571,  -6.7857,  -5.7143,  -4.6429,  -3.5714,\n",
       "         -2.5000,  -1.4286,  -0.3571,   0.7143,   1.7857,   2.8571,   3.9286,\n",
       "          5.0000])"
      ]
     },
     "execution_count": null,
     "metadata": {},
     "output_type": "execute_result"
    }
   ],
   "source": [
    "torch.linspace(-10,5,15)"
   ]
  },
  {
   "cell_type": "code",
   "execution_count": null,
   "metadata": {},
   "outputs": [],
   "source": [
    "# export\n",
    "\n",
    "def linspace(lookback, horizon):\n",
    "    lin_space = torch.linspace(\n",
    "        -lookback, horizon, lookback + horizon\n",
    "    )\n",
    "    b_ls = lin_space[:lookback]\n",
    "    f_ls = lin_space[lookback:]\n",
    "    return b_ls, f_ls\n"
   ]
  },
  {
   "cell_type": "code",
   "execution_count": null,
   "metadata": {},
   "outputs": [],
   "source": [
    "# export\n",
    "class GenericBlock(Module):\n",
    "    def __init__(\n",
    "        self, layers:L, thetas_dim:int, device, lookback=10, horizon=5, use_bn=True, bn_final=False, ps:L=None, share_thetas=False\n",
    "    ):\n",
    "        ps = ifnone(ps, L([0])*len(layers))\n",
    "        sizes = [lookback] + layers\n",
    "        actns = [nn.ReLU(inplace=True) for _ in range(len(sizes)-2)] + [None]\n",
    "        _layers = [LinBnDrop(sizes[i], sizes[i+1], bn=use_bn, p=p, act=a)\n",
    "                       for i,(p,a) in enumerate(zip(ps, actns))]\n",
    "        self.layers = nn.Sequential(*_layers)\n",
    "        \n",
    "        if share_thetas:\n",
    "            self.theta_f_fc = self.theta_b_fc = LinBnDrop(layers[-1], thetas_dim).to(device)\n",
    "        else:\n",
    "            self.theta_b_fc = LinBnDrop(layers[-1], thetas_dim).to(device)\n",
    "            self.theta_f_fc = LinBnDrop(layers[-1], thetas_dim).to(device)\n",
    "        \n",
    "        self.backcast_fc = nn.Linear(thetas_dim, lookback).to(device)\n",
    "        self.forecast_fc = nn.Linear(thetas_dim, horizon).to(device)\n",
    "        \n",
    "        b,f = linspace(lookback, horizon)\n",
    "        self.backcast_linspace, self.forecast_linspace = Variable(b, requires_grad=False).to(device), Variable(f, requires_grad=False).to(device)\n",
    "        self.to(device)\n",
    "        \n",
    "    def forward(self, x):\n",
    "        # general\n",
    "        x = self.layers(x)\n",
    "        theta_b = self.theta_b_fc(x)\n",
    "        theta_f = self.theta_f_fc(x)\n",
    "        backcast = self.backcast_fc(theta_b)\n",
    "        forecast = self.forecast_fc(theta_f)\n",
    "        return {'b':backcast,'f': forecast,'theta': theta_b+theta_f}\n",
    "    \n"
   ]
  },
  {
   "cell_type": "code",
   "execution_count": null,
   "metadata": {},
   "outputs": [],
   "source": [
    "mdl = GenericBlock([256], thetas_dim=4, device=torch.device('cuda'), lookback=100, horizon=10)\n",
    "dct = mdl(torch.randn(64,100).to(torch.device('cuda')))\n",
    "test_eq(dct['b'].shape, (64,100))\n",
    "test_eq(dct['f'].shape, (64,10))"
   ]
  },
  {
   "cell_type": "code",
   "execution_count": null,
   "metadata": {},
   "outputs": [],
   "source": [
    "# export\n",
    "\n",
    "def seasonality_model(thetas, t):\n",
    "    p = thetas.size()[-1]\n",
    "    assert p < 10, \"thetas_dim is too big.\"\n",
    "    p1, p2 = (p // 2, p // 2) if p % 2 == 0 else (p // 2, p // 2 + 1)\n",
    "    s1 = [torch.cos(2 * np.pi * i * t)[None,:] for i in range(p1)] # H/2-1\n",
    "    s2 = [torch.sin(2 * np.pi * i * t)[None,:] for i in range(p2)]\n",
    "    S = torch.cat([*s1, *s2])\n",
    "    return thetas.mm(S)\n",
    "\n",
    "class SeasonalityBlock(Module):\n",
    "    def __init__(\n",
    "        self, layers:L, thetas_dim:int, device, lookback=10, horizon=5, use_bn=True, bn_final=False, ps:L=None, share_thetas=False\n",
    "    ):\n",
    "        ps = ifnone(ps, L([0])*len(layers))\n",
    "        sizes = [lookback] + layers\n",
    "        actns = [nn.ReLU(inplace=True) for _ in range(len(sizes)-2)] + [None]\n",
    "        _layers = [LinBnDrop(sizes[i], sizes[i+1], bn=use_bn, p=p, act=a)\n",
    "                       for i,(p,a) in enumerate(zip(ps, actns))]\n",
    "        self.layers = nn.Sequential(*_layers)\n",
    "        \n",
    "        if share_thetas:\n",
    "            self.theta_f_fc = self.theta_b_fc = LinBnDrop(layers[-1], thetas_dim).to(device)\n",
    "        else:\n",
    "            self.theta_b_fc = LinBnDrop(layers[-1], thetas_dim).to(device)\n",
    "            self.theta_f_fc = LinBnDrop(layers[-1], thetas_dim).to(device)\n",
    "            \n",
    "        b,f = linspace(lookback, horizon)\n",
    "        self.backcast_linspace, self.forecast_linspace = Variable(b, requires_grad=False).to(device), Variable(f, requires_grad=False).to(device)\n",
    "        self.to(device)\n",
    "        \n",
    "    def forward(self, x):\n",
    "        # season\n",
    "        x = self.layers(x)\n",
    "        theta_b = self.theta_b_fc(x)\n",
    "        theta_f = self.theta_f_fc(x)\n",
    "        backcast = seasonality_model(theta_b, self.backcast_linspace)\n",
    "        forecast = seasonality_model(theta_f, self.forecast_linspace)        \n",
    "        return {'b':backcast,'f': forecast,'theta': theta_b+theta_f}\n",
    "    "
   ]
  },
  {
   "cell_type": "code",
   "execution_count": null,
   "metadata": {},
   "outputs": [],
   "source": [
    "mdl = SeasonalityBlock([256], thetas_dim=4, device=torch.device('cuda'), lookback=100, horizon=10)\n",
    "dct = mdl(torch.randn(64,100).to(torch.device('cuda')))\n",
    "test_eq(dct['b'].shape, (64,100))\n",
    "test_eq(dct['f'].shape, (64,10))"
   ]
  },
  {
   "cell_type": "code",
   "execution_count": null,
   "metadata": {},
   "outputs": [],
   "source": [
    "# export\n",
    "def trend_model(thetas, t):\n",
    "    p = thetas.size()[-1]\n",
    "    assert p <= 4, \"thetas_dim is too big.\"\n",
    "    a = [torch.pow(t, i)[None,:] for i in range(p)]\n",
    "    T = torch.cat(a).float()\n",
    "    return thetas.mm(T)\n",
    "\n",
    "class TrendBlock(Module):\n",
    "    def __init__(\n",
    "        self, layers:L, thetas_dim:int, device, lookback=10, horizon=5, use_bn=True, bn_final=False, ps:L=None, share_thetas=False\n",
    "    ):\n",
    "        ps = ifnone(ps, L([0])*len(layers))\n",
    "        sizes = [lookback] + layers\n",
    "        actns = [nn.ReLU(inplace=True) for _ in range(len(sizes)-2)] + [None]\n",
    "        _layers = [LinBnDrop(sizes[i], sizes[i+1], bn=use_bn, p=p, act=a)\n",
    "                       for i,(p,a) in enumerate(zip(ps, actns))]\n",
    "        self.layers = nn.Sequential(*_layers)\n",
    "        \n",
    "        if share_thetas:\n",
    "            self.theta_f_fc = self.theta_b_fc = LinBnDrop(layers[-1], thetas_dim)\n",
    "        else:\n",
    "            self.theta_b_fc = LinBnDrop(layers[-1], thetas_dim)\n",
    "            self.theta_f_fc = LinBnDrop(layers[-1], thetas_dim)\n",
    "            \n",
    "        b,f = linspace(lookback, horizon)\n",
    "        self.backcast_linspace, self.forecast_linspace = Variable(b, requires_grad=False).to(device), Variable(f, requires_grad=False).to(device)\n",
    "        self.to(device)\n",
    "        \n",
    "    def forward(self, x):\n",
    "        # trend\n",
    "        x = self.layers(x)\n",
    "        theta_b = self.theta_b_fc(x)\n",
    "        theta_f = self.theta_f_fc(x)\n",
    "        backcast = trend_model(theta_b, self.backcast_linspace)\n",
    "        forecast = trend_model(theta_f, self.forecast_linspace)\n",
    "        return {'b':backcast,'f': forecast, 'theta': theta_b + theta_f}\n",
    "    "
   ]
  },
  {
   "cell_type": "code",
   "execution_count": null,
   "metadata": {},
   "outputs": [],
   "source": [
    "mdl = TrendBlock([256], thetas_dim=4, device=torch.device('cuda'), lookback=100, horizon=10)\n",
    "dct = mdl(torch.randn(64,100).to(torch.device('cuda')))\n",
    "test_eq(dct['b'].shape, (64,100))\n",
    "test_eq(dct['f'].shape, (64,10))\n",
    "test_eq(dct['theta'].shape,(64,4))"
   ]
  },
  {
   "cell_type": "code",
   "execution_count": null,
   "metadata": {},
   "outputs": [],
   "source": [
    "# export\n",
    "import numpy as np\n",
    "import torch\n",
    "from torch import nn\n",
    "from torch.nn import functional as F\n",
    "\n",
    "\n",
    "class NBeatsNet(Module):\n",
    "    SEASONALITY_BLOCK = \"seasonality\"\n",
    "    TREND_BLOCK = \"trend\"\n",
    "    GENERIC_BLOCK = \"generic\"\n",
    "\n",
    "    def __init__(\n",
    "        self,\n",
    "        device,\n",
    "        stack_types=(TREND_BLOCK, SEASONALITY_BLOCK),\n",
    "        nb_blocks_per_stack=3,\n",
    "        horizon=5,\n",
    "        lookback=10,\n",
    "        thetas_dims=(4, 3),\n",
    "        share_weights_in_stack=True,\n",
    "        layers= [200,100],\n",
    "    ):\n",
    "        super(NBeatsNet, self).__init__()\n",
    "        self.horizon = horizon\n",
    "        self.lookback = lookback\n",
    "        self.layers = layers\n",
    "        self.nb_blocks_per_stack = nb_blocks_per_stack\n",
    "        self.share_weights_in_stack = share_weights_in_stack\n",
    "        self.stack_types = stack_types\n",
    "        self.stacks = []\n",
    "        self.thetas_dim = thetas_dims\n",
    "        self.device = device\n",
    "        self._str = \"| N-Beats\\n\"\n",
    "        \n",
    "        self.bn = BatchNorm(lookback, ndim=2)        \n",
    "        stacks = OrderedDict()\n",
    "        \n",
    "        for stack_id in range(len(self.stack_types)):\n",
    "            stacks[str(self.stack_types[stack_id]) + str(stack_id)] = self.create_stack(stack_id)\n",
    "        self.stacks = nn.Sequential(stacks)\n",
    "    def create_stack(self, stack_id):\n",
    "        stack_type = self.stack_types[stack_id]\n",
    "        self._str += f\"| --  Stack {stack_type.title()} (#{stack_id}) (share_weights_in_stack={self.share_weights_in_stack})\\n\"\n",
    "        \n",
    "        blocks = []\n",
    "        for block_id in range(self.nb_blocks_per_stack):\n",
    "            block_init = NBeatsNet.select_block(stack_type)\n",
    "            if self.share_weights_in_stack and block_id != 0:\n",
    "                block = blocks[-1]  # pick up the last one when we share weights.\n",
    "            else:\n",
    "                block = block_init(\n",
    "                    self.layers,\n",
    "                    self.thetas_dim[stack_id],\n",
    "                    self.device,\n",
    "                    self.lookback,\n",
    "                    self.horizon,\n",
    "                )\n",
    "            self._str += f\"     | -- {block}\\n\"\n",
    "            blocks.append(block)\n",
    "            \n",
    "        return nn.Sequential(*blocks)\n",
    "\n",
    "    @staticmethod\n",
    "    def select_block(block_type):\n",
    "        if block_type == NBeatsNet.SEASONALITY_BLOCK:\n",
    "            return SeasonalityBlock\n",
    "        elif block_type == NBeatsNet.TREND_BLOCK:\n",
    "            return TrendBlock\n",
    "        else:\n",
    "            return GenericBlock\n",
    "\n",
    "    def forward(self, backcast):\n",
    "        backcast = backcast.view([-1,backcast.shape[-1]])\n",
    "        forecast = torch.zeros(\n",
    "            size=(backcast.size()[0], self.horizon,)\n",
    "        )  # maybe batch size here.\n",
    "        \n",
    "        dct = defaultdict(dict)\n",
    "        for stack_id, names in enumerate(self.stacks.named_children()):\n",
    "            name = names[0]\n",
    "            for block_id in range(len(self.stacks[stack_id])):\n",
    "                dct[name] = self.stacks[stack_id][block_id](backcast)\n",
    "                backcast = backcast.to(self.device) - dct[name]['b']\n",
    "                forecast = forecast.to(self.device) + dct[name]['f']\n",
    "        return forecast[:,None,:], backcast[:,None,:], dct\n",
    "\n"
   ]
  },
  {
   "cell_type": "code",
   "execution_count": null,
   "metadata": {},
   "outputs": [
    {
     "name": "stdout",
     "output_type": "stream",
     "text": [
      "dict_keys(['trend0', 'seasonality1'])\n"
     ]
    },
    {
     "data": {
      "text/plain": [
       "(tensor([-0.0013, -0.0011, -0.0004, -0.0011], grad_fn=<MeanBackward1>),\n",
       " tensor([0.5034, 0.7009, 0.7322, 0.6759], grad_fn=<StdBackward1>))"
      ]
     },
     "execution_count": null,
     "metadata": {},
     "output_type": "execute_result"
    }
   ],
   "source": [
    "mdl = NBeatsNet(torch.device('cpu'))\n",
    "f, b, dct = mdl(torch.randn(64,1,10))\n",
    "print(dct.keys())\n",
    "dct['trend0']['theta'].mean(0), dct['trend0']['theta'].std(0)"
   ]
  },
  {
   "cell_type": "code",
   "execution_count": null,
   "metadata": {},
   "outputs": [],
   "source": [
    "# export\n",
    "from fastai2.data.all import *\n",
    "from fastai2.optimizer import *\n",
    "from fastai2.learner import *"
   ]
  },
  {
   "cell_type": "code",
   "execution_count": null,
   "metadata": {},
   "outputs": [],
   "source": [
    "# export\n",
    "class NBeatsTrainer(Callback):\n",
    "    \"`Callback` that adds weights regularization the thetas in N-Beats training.\"\n",
    "    def __init__(self, alpha=0., beta=0.): \n",
    "        self.alpha,self.beta = alpha,beta\n",
    "        self.ratio = [0,0,0]\n",
    "\n",
    "    def begin_train(self): \n",
    "        self.ratio = [0,0,0]   \n",
    "        \n",
    "    def begin_validate(self): \n",
    "        self.out = []\n",
    "        self.ratio = [0,0,0] \n",
    "        \n",
    "    def after_pred(self):\n",
    "        if not self.training:\n",
    "            self.out.append(self.pred[2])\n",
    "        else:\n",
    "            self.out = self.pred[2]\n",
    "        self.learn.pred = self.pred[0]\n",
    "\n",
    "    def after_loss(self):\n",
    "        if not self.training: return\n",
    "        self.ratio[0] += self.learn.loss.clone().detach()\n",
    "        if self.alpha != 0.:     \n",
    "            self.learn.loss += self.alpha * self.out['trend0']['theta'][:,1:].float().pow(2).sum()\n",
    "            self.learn.loss += self.alpha * self.out['seasonality1']['theta'].float().pow(2).sum()    \n",
    "            self.ratio[1] += self.learn.loss.clone().detach()\n",
    "        if self.beta != 0.:\n",
    "            self.learn.loss += self.beta * self.loss(self.out['b'].float(), self.xb, reduction='mean')\n",
    "            self.ratio[2] += self.learn.loss.clone().detach()\n",
    "            \n"
   ]
  },
  {
   "cell_type": "code",
   "execution_count": null,
   "metadata": {},
   "outputs": [],
   "source": [
    "net = NBeatsNet(stack_types=[NBeatsNet.TREND_BLOCK, NBeatsNet.SEASONALITY_BLOCK],\n",
    "                horizon=14,\n",
    "                thetas_dims=[7, 8],\n",
    "                nb_blocks_per_stack=3,\n",
    "                lookback=140,\n",
    "                layers=[32],\n",
    "                share_weights_in_stack=True,\n",
    "                device=torch.device('cuda'))"
   ]
  },
  {
   "cell_type": "code",
   "execution_count": null,
   "metadata": {},
   "outputs": [],
   "source": [
    "# export\n",
    "from fastai2.basics import *\n",
    "from fastseq.all import *\n",
    "\n",
    "\n",
    "@delegates(NBeatsNet.__init__)\n",
    "def nbeats_learner(dbunch:TSDataBunch, output_channels=None, metrics=None,cbs=None, alpha=0., beta=0., **kwargs):\n",
    "    \"Build a N-Beats style learner\"    \n",
    "    model = NBeatsNet(\n",
    "        device = dbunch.train_dl.device,\n",
    "        horizon = dbunch.train_dl.horizon,\n",
    "        lookback = dbunch.train_dl.lookback, \n",
    "        **kwargs\n",
    "       )\n",
    "    model = model.to(dbunch.train_dl.device)\n",
    "    \n",
    "    learn = Learner(dbunch, model, loss_func=F.mse_loss, opt_func= Adam, metrics=L(metrics)+L(mae, smape), cbs=L(NBeatsTrainer(alpha,beta))+L(cbs))\n",
    "    return learn"
   ]
  },
  {
   "cell_type": "code",
   "execution_count": null,
   "metadata": {},
   "outputs": [
    {
     "name": "stdout",
     "output_type": "stream",
     "text": [
      "Train:500; Valid: 800; Test 100\n"
     ]
    },
    {
     "data": {
      "image/png": "[encoded data removed]",
      "text/plain": [
       "<Figure size 648x720 with 9 Axes>"
      ]
     },
     "metadata": {
      "needs_background": "light"
     },
     "output_type": "display_data"
    }
   ],
   "source": [
    "from fastseq.data.external import *\n",
    "items = dummy_data_generator(50, 10, nrows=100)\n",
    "data = TSDataBunch.from_items(items, horizon = 7)\n",
    "data.show_batch()"
   ]
  },
  {
   "cell_type": "code",
   "execution_count": null,
   "metadata": {},
   "outputs": [],
   "source": [
    "learn = nbeats_learner(data,layers=[200,200,100], alpha = 1)"
   ]
  },
  {
   "cell_type": "code",
   "execution_count": null,
   "metadata": {},
   "outputs": [
    {
     "data": {
      "text/html": [],
      "text/plain": [
       "<IPython.core.display.HTML object>"
      ]
     },
     "metadata": {},
     "output_type": "display_data"
    },
    {
     "data": {
      "image/png": "[encoded data removed]",
      "text/plain": [
       "<Figure size 432x288 with 1 Axes>"
      ]
     },
     "metadata": {
      "needs_background": "light"
     },
     "output_type": "display_data"
    }
   ],
   "source": [
    "from fastai2.callback.all import *\n",
    "learn.lr_find()"
   ]
  },
  {
   "cell_type": "code",
   "execution_count": null,
   "metadata": {},
   "outputs": [
    {
     "data": {
      "text/html": [
       "<table border=\"1\" class=\"dataframe\">\n",
       "  <thead>\n",
       "    <tr style=\"text-align: left;\">\n",
       "      <th>epoch</th>\n",
       "      <th>train_loss</th>\n",
       "      <th>valid_loss</th>\n",
       "      <th>mae</th>\n",
       "      <th>smape</th>\n",
       "      <th>time</th>\n",
       "    </tr>\n",
       "  </thead>\n",
       "  <tbody>\n",
       "    <tr>\n",
       "      <td>0</td>\n",
       "      <td>37337.316406</td>\n",
       "      <td>1003.056335</td>\n",
       "      <td>18.009150</td>\n",
       "      <td>102038.328125</td>\n",
       "      <td>00:00</td>\n",
       "    </tr>\n",
       "    <tr>\n",
       "      <td>1</td>\n",
       "      <td>28616.556641</td>\n",
       "      <td>2195.589600</td>\n",
       "      <td>30.391373</td>\n",
       "      <td>111898.398438</td>\n",
       "      <td>00:00</td>\n",
       "    </tr>\n",
       "    <tr>\n",
       "      <td>2</td>\n",
       "      <td>20836.496094</td>\n",
       "      <td>4279.601562</td>\n",
       "      <td>38.663826</td>\n",
       "      <td>121063.140625</td>\n",
       "      <td>00:00</td>\n",
       "    </tr>\n",
       "    <tr>\n",
       "      <td>3</td>\n",
       "      <td>16755.166016</td>\n",
       "      <td>1155.305786</td>\n",
       "      <td>17.526976</td>\n",
       "      <td>110780.328125</td>\n",
       "      <td>00:00</td>\n",
       "    </tr>\n",
       "    <tr>\n",
       "      <td>4</td>\n",
       "      <td>13512.844727</td>\n",
       "      <td>1411.743164</td>\n",
       "      <td>21.076302</td>\n",
       "      <td>110840.390625</td>\n",
       "      <td>00:00</td>\n",
       "    </tr>\n",
       "    <tr>\n",
       "      <td>5</td>\n",
       "      <td>11326.991211</td>\n",
       "      <td>2607.845947</td>\n",
       "      <td>28.585655</td>\n",
       "      <td>121555.289062</td>\n",
       "      <td>00:00</td>\n",
       "    </tr>\n",
       "    <tr>\n",
       "      <td>6</td>\n",
       "      <td>9723.626953</td>\n",
       "      <td>830.675781</td>\n",
       "      <td>15.847630</td>\n",
       "      <td>109151.046875</td>\n",
       "      <td>00:00</td>\n",
       "    </tr>\n",
       "    <tr>\n",
       "      <td>7</td>\n",
       "      <td>8208.509766</td>\n",
       "      <td>58.352798</td>\n",
       "      <td>5.191528</td>\n",
       "      <td>102457.117188</td>\n",
       "      <td>00:00</td>\n",
       "    </tr>\n",
       "    <tr>\n",
       "      <td>8</td>\n",
       "      <td>6802.168945</td>\n",
       "      <td>266.905457</td>\n",
       "      <td>10.813123</td>\n",
       "      <td>104900.421875</td>\n",
       "      <td>00:00</td>\n",
       "    </tr>\n",
       "    <tr>\n",
       "      <td>9</td>\n",
       "      <td>5685.326660</td>\n",
       "      <td>150.858734</td>\n",
       "      <td>7.026835</td>\n",
       "      <td>105225.093750</td>\n",
       "      <td>00:00</td>\n",
       "    </tr>\n",
       "    <tr>\n",
       "      <td>10</td>\n",
       "      <td>4769.517090</td>\n",
       "      <td>40.134983</td>\n",
       "      <td>4.551025</td>\n",
       "      <td>101841.367188</td>\n",
       "      <td>00:00</td>\n",
       "    </tr>\n",
       "    <tr>\n",
       "      <td>11</td>\n",
       "      <td>4024.266846</td>\n",
       "      <td>47.238678</td>\n",
       "      <td>4.377653</td>\n",
       "      <td>99393.070312</td>\n",
       "      <td>00:00</td>\n",
       "    </tr>\n",
       "    <tr>\n",
       "      <td>12</td>\n",
       "      <td>3414.162842</td>\n",
       "      <td>36.094803</td>\n",
       "      <td>4.249643</td>\n",
       "      <td>100047.437500</td>\n",
       "      <td>00:00</td>\n",
       "    </tr>\n",
       "    <tr>\n",
       "      <td>13</td>\n",
       "      <td>2910.074219</td>\n",
       "      <td>39.817997</td>\n",
       "      <td>4.428239</td>\n",
       "      <td>100158.562500</td>\n",
       "      <td>00:00</td>\n",
       "    </tr>\n",
       "    <tr>\n",
       "      <td>14</td>\n",
       "      <td>2491.143799</td>\n",
       "      <td>40.902817</td>\n",
       "      <td>4.465151</td>\n",
       "      <td>100132.078125</td>\n",
       "      <td>00:00</td>\n",
       "    </tr>\n",
       "  </tbody>\n",
       "</table>"
      ],
      "text/plain": [
       "<IPython.core.display.HTML object>"
      ]
     },
     "metadata": {},
     "output_type": "display_data"
    }
   ],
   "source": [
    "learn.fit_one_cycle(15, 1e-3)"
   ]
  },
  {
   "cell_type": "code",
   "execution_count": null,
   "metadata": {},
   "outputs": [
    {
     "data": {
      "text/html": [],
      "text/plain": [
       "<IPython.core.display.HTML object>"
      ]
     },
     "metadata": {},
     "output_type": "display_data"
    },
    {
     "data": {
      "image/png": "[encoded data removed]",
      "text/plain": [
       "<Figure size 648x720 with 9 Axes>"
      ]
     },
     "metadata": {
      "needs_background": "light"
     },
     "output_type": "display_data"
    }
   ],
   "source": [
    "learn.show_results(max_n=9)"
   ]
  },
  {
   "cell_type": "code",
   "execution_count": null,
   "metadata": {},
   "outputs": [
    {
     "data": {
      "text/plain": [
       "[0, 0, 0]"
      ]
     },
     "execution_count": null,
     "metadata": {},
     "output_type": "execute_result"
    }
   ],
   "source": [
    "learn.n_beats_trainer.ratio"
   ]
  },
  {
   "cell_type": "code",
   "execution_count": null,
   "metadata": {},
   "outputs": [
    {
     "name": "stdout",
     "output_type": "stream",
     "text": [
      "NBeatsNet (Input shape: ['64 x 1 x 28'])\n",
      "================================================================\n",
      "Layer (type)         Output Shape         Param #    Trainable \n",
      "================================================================\n",
      "BatchNorm1d          64 x 28              56         True      \n",
      "________________________________________________________________\n",
      "Linear               64 x 200             5,600      True      \n",
      "________________________________________________________________\n",
      "ReLU                 64 x 200             0          False     \n",
      "________________________________________________________________\n",
      "BatchNorm1d          64 x 200             400        True      \n",
      "________________________________________________________________\n",
      "Linear               64 x 200             40,000     True      \n",
      "________________________________________________________________\n",
      "ReLU                 64 x 200             0          False     \n",
      "________________________________________________________________\n",
      "BatchNorm1d          64 x 200             400        True      \n",
      "________________________________________________________________\n",
      "Linear               64 x 100             20,000     True      \n",
      "________________________________________________________________\n",
      "BatchNorm1d          64 x 100             200        True      \n",
      "________________________________________________________________\n",
      "Linear               64 x 4               400        True      \n",
      "________________________________________________________________\n",
      "BatchNorm1d          64 x 100             200        True      \n",
      "________________________________________________________________\n",
      "Linear               64 x 4               400        True      \n",
      "________________________________________________________________\n",
      "BatchNorm1d          64 x 28              56         True      \n",
      "________________________________________________________________\n",
      "Linear               64 x 200             5,600      True      \n",
      "________________________________________________________________\n",
      "ReLU                 64 x 200             0          False     \n",
      "________________________________________________________________\n",
      "BatchNorm1d          64 x 200             400        True      \n",
      "________________________________________________________________\n",
      "Linear               64 x 200             40,000     True      \n",
      "________________________________________________________________\n",
      "ReLU                 64 x 200             0          False     \n",
      "________________________________________________________________\n",
      "BatchNorm1d          64 x 200             400        True      \n",
      "________________________________________________________________\n",
      "Linear               64 x 100             20,000     True      \n",
      "________________________________________________________________\n",
      "BatchNorm1d          64 x 100             200        True      \n",
      "________________________________________________________________\n",
      "Linear               64 x 3               300        True      \n",
      "________________________________________________________________\n",
      "BatchNorm1d          64 x 100             200        True      \n",
      "________________________________________________________________\n",
      "Linear               64 x 3               300        True      \n",
      "________________________________________________________________\n",
      "\n",
      "Total params: 135,112\n",
      "Total trainable params: 135,112\n",
      "Total non-trainable params: 0\n",
      "\n",
      "Optimizer used: <function Adam at 0x7f158a68f170>\n",
      "Loss function: <function mse_loss at 0x7f159de5fb90>\n",
      "\n",
      "Model unfrozen\n",
      "\n",
      "Callbacks:\n",
      "  - TrainEvalCallback\n",
      "  - Recorder\n",
      "  - ProgressCallback\n",
      "  - NBeatsTrainer\n",
      "NBeatsNet(\n",
      "  (bn): BatchNorm2d(28, eps=1e-05, momentum=0.1, affine=True, track_running_stats=True)\n",
      "  (stacks): Sequential(\n",
      "    (trend0): Sequential(\n",
      "      (0): TrendBlock(\n",
      "        (layers): Sequential(\n",
      "          (0): LinBnDrop(\n",
      "            (0): BatchNorm1d(28, eps=1e-05, momentum=0.1, affine=True, track_running_stats=True)\n",
      "            (1): Linear(in_features=28, out_features=200, bias=False)\n",
      "            (2): ReLU(inplace=True)\n",
      "          )\n",
      "          (1): LinBnDrop(\n",
      "            (0): BatchNorm1d(200, eps=1e-05, momentum=0.1, affine=True, track_running_stats=True)\n",
      "            (1): Linear(in_features=200, out_features=200, bias=False)\n",
      "            (2): ReLU(inplace=True)\n",
      "          )\n",
      "          (2): LinBnDrop(\n",
      "            (0): BatchNorm1d(200, eps=1e-05, momentum=0.1, affine=True, track_running_stats=True)\n",
      "            (1): Linear(in_features=200, out_features=100, bias=False)\n",
      "          )\n",
      "        )\n",
      "        (theta_b_fc): LinBnDrop(\n",
      "          (0): BatchNorm1d(100, eps=1e-05, momentum=0.1, affine=True, track_running_stats=True)\n",
      "          (1): Linear(in_features=100, out_features=4, bias=False)\n",
      "        )\n",
      "        (theta_f_fc): LinBnDrop(\n",
      "          (0): BatchNorm1d(100, eps=1e-05, momentum=0.1, affine=True, track_running_stats=True)\n",
      "          (1): Linear(in_features=100, out_features=4, bias=False)\n",
      "        )\n",
      "      )\n",
      "      (1): TrendBlock(\n",
      "        (layers): Sequential(\n",
      "          (0): LinBnDrop(\n",
      "            (0): BatchNorm1d(28, eps=1e-05, momentum=0.1, affine=True, track_running_stats=True)\n",
      "            (1): Linear(in_features=28, out_features=200, bias=False)\n",
      "            (2): ReLU(inplace=True)\n",
      "          )\n",
      "          (1): LinBnDrop(\n",
      "            (0): BatchNorm1d(200, eps=1e-05, momentum=0.1, affine=True, track_running_stats=True)\n",
      "            (1): Linear(in_features=200, out_features=200, bias=False)\n",
      "            (2): ReLU(inplace=True)\n",
      "          )\n",
      "          (2): LinBnDrop(\n",
      "            (0): BatchNorm1d(200, eps=1e-05, momentum=0.1, affine=True, track_running_stats=True)\n",
      "            (1): Linear(in_features=200, out_features=100, bias=False)\n",
      "          )\n",
      "        )\n",
      "        (theta_b_fc): LinBnDrop(\n",
      "          (0): BatchNorm1d(100, eps=1e-05, momentum=0.1, affine=True, track_running_stats=True)\n",
      "          (1): Linear(in_features=100, out_features=4, bias=False)\n",
      "        )\n",
      "        (theta_f_fc): LinBnDrop(\n",
      "          (0): BatchNorm1d(100, eps=1e-05, momentum=0.1, affine=True, track_running_stats=True)\n",
      "          (1): Linear(in_features=100, out_features=4, bias=False)\n",
      "        )\n",
      "      )\n",
      "      (2): TrendBlock(\n",
      "        (layers): Sequential(\n",
      "          (0): LinBnDrop(\n",
      "            (0): BatchNorm1d(28, eps=1e-05, momentum=0.1, affine=True, track_running_stats=True)\n",
      "            (1): Linear(in_features=28, out_features=200, bias=False)\n",
      "            (2): ReLU(inplace=True)\n",
      "          )\n",
      "          (1): LinBnDrop(\n",
      "            (0): BatchNorm1d(200, eps=1e-05, momentum=0.1, affine=True, track_running_stats=True)\n",
      "            (1): Linear(in_features=200, out_features=200, bias=False)\n",
      "            (2): ReLU(inplace=True)\n",
      "          )\n",
      "          (2): LinBnDrop(\n",
      "            (0): BatchNorm1d(200, eps=1e-05, momentum=0.1, affine=True, track_running_stats=True)\n",
      "            (1): Linear(in_features=200, out_features=100, bias=False)\n",
      "          )\n",
      "        )\n",
      "        (theta_b_fc): LinBnDrop(\n",
      "          (0): BatchNorm1d(100, eps=1e-05, momentum=0.1, affine=True, track_running_stats=True)\n",
      "          (1): Linear(in_features=100, out_features=4, bias=False)\n",
      "        )\n",
      "        (theta_f_fc): LinBnDrop(\n",
      "          (0): BatchNorm1d(100, eps=1e-05, momentum=0.1, affine=True, track_running_stats=True)\n",
      "          (1): Linear(in_features=100, out_features=4, bias=False)\n",
      "        )\n",
      "      )\n",
      "    )\n",
      "    (seasonality1): Sequential(\n",
      "      (0): SeasonalityBlock(\n",
      "        (layers): Sequential(\n",
      "          (0): LinBnDrop(\n",
      "            (0): BatchNorm1d(28, eps=1e-05, momentum=0.1, affine=True, track_running_stats=True)\n",
      "            (1): Linear(in_features=28, out_features=200, bias=False)\n",
      "            (2): ReLU(inplace=True)\n",
      "          )\n",
      "          (1): LinBnDrop(\n",
      "            (0): BatchNorm1d(200, eps=1e-05, momentum=0.1, affine=True, track_running_stats=True)\n",
      "            (1): Linear(in_features=200, out_features=200, bias=False)\n",
      "            (2): ReLU(inplace=True)\n",
      "          )\n",
      "          (2): LinBnDrop(\n",
      "            (0): BatchNorm1d(200, eps=1e-05, momentum=0.1, affine=True, track_running_stats=True)\n",
      "            (1): Linear(in_features=200, out_features=100, bias=False)\n",
      "          )\n",
      "        )\n",
      "        (theta_b_fc): LinBnDrop(\n",
      "          (0): BatchNorm1d(100, eps=1e-05, momentum=0.1, affine=True, track_running_stats=True)\n",
      "          (1): Linear(in_features=100, out_features=3, bias=False)\n",
      "        )\n",
      "        (theta_f_fc): LinBnDrop(\n",
      "          (0): BatchNorm1d(100, eps=1e-05, momentum=0.1, affine=True, track_running_stats=True)\n",
      "          (1): Linear(in_features=100, out_features=3, bias=False)\n",
      "        )\n",
      "      )\n",
      "      (1): SeasonalityBlock(\n",
      "        (layers): Sequential(\n",
      "          (0): LinBnDrop(\n",
      "            (0): BatchNorm1d(28, eps=1e-05, momentum=0.1, affine=True, track_running_stats=True)\n",
      "            (1): Linear(in_features=28, out_features=200, bias=False)\n",
      "            (2): ReLU(inplace=True)\n",
      "          )\n",
      "          (1): LinBnDrop(\n",
      "            (0): BatchNorm1d(200, eps=1e-05, momentum=0.1, affine=True, track_running_stats=True)\n",
      "            (1): Linear(in_features=200, out_features=200, bias=False)\n",
      "            (2): ReLU(inplace=True)\n",
      "          )\n",
      "          (2): LinBnDrop(\n",
      "            (0): BatchNorm1d(200, eps=1e-05, momentum=0.1, affine=True, track_running_stats=True)\n",
      "            (1): Linear(in_features=200, out_features=100, bias=False)\n",
      "          )\n",
      "        )\n",
      "        (theta_b_fc): LinBnDrop(\n",
      "          (0): BatchNorm1d(100, eps=1e-05, momentum=0.1, affine=True, track_running_stats=True)\n",
      "          (1): Linear(in_features=100, out_features=3, bias=False)\n",
      "        )\n",
      "        (theta_f_fc): LinBnDrop(\n",
      "          (0): BatchNorm1d(100, eps=1e-05, momentum=0.1, affine=True, track_running_stats=True)\n",
      "          (1): Linear(in_features=100, out_features=3, bias=False)\n",
      "        )\n",
      "      )\n",
      "      (2): SeasonalityBlock(\n",
      "        (layers): Sequential(\n",
      "          (0): LinBnDrop(\n",
      "            (0): BatchNorm1d(28, eps=1e-05, momentum=0.1, affine=True, track_running_stats=True)\n",
      "            (1): Linear(in_features=28, out_features=200, bias=False)\n",
      "            (2): ReLU(inplace=True)\n",
      "          )\n",
      "          (1): LinBnDrop(\n",
      "            (0): BatchNorm1d(200, eps=1e-05, momentum=0.1, affine=True, track_running_stats=True)\n",
      "            (1): Linear(in_features=200, out_features=200, bias=False)\n",
      "            (2): ReLU(inplace=True)\n",
      "          )\n",
      "          (2): LinBnDrop(\n",
      "            (0): BatchNorm1d(200, eps=1e-05, momentum=0.1, affine=True, track_running_stats=True)\n",
      "            (1): Linear(in_features=200, out_features=100, bias=False)\n",
      "          )\n",
      "        )\n",
      "        (theta_b_fc): LinBnDrop(\n",
      "          (0): BatchNorm1d(100, eps=1e-05, momentum=0.1, affine=True, track_running_stats=True)\n",
      "          (1): Linear(in_features=100, out_features=3, bias=False)\n",
      "        )\n",
      "        (theta_f_fc): LinBnDrop(\n",
      "          (0): BatchNorm1d(100, eps=1e-05, momentum=0.1, affine=True, track_running_stats=True)\n",
      "          (1): Linear(in_features=100, out_features=3, bias=False)\n",
      "        )\n",
      "      )\n",
      "    )\n",
      "  )\n",
      ")\n"
     ]
    }
   ],
   "source": [
    "# hide\n",
    "print(learn.summary())\n",
    "print(learn.model)"
   ]
  },
  {
   "cell_type": "code",
   "execution_count": null,
   "metadata": {},
   "outputs": [
    {
     "name": "stdout",
     "output_type": "stream",
     "text": [
      "Converted 00_core.ipynb.\n",
      "Converted 01_data.external.ipynb.\n",
      "Converted 03_data.load.ipynb.\n",
      "Converted 04_data.transforms.ipynb.\n",
      "Converted 05_models.wavenet.ipynb.\n",
      "Converted 06_models.dnn.ipynb.\n",
      "Converted 07_interpret.ipynb.\n",
      "Converted 08_metrics.ipynb.\n",
      "Converted 09_learner.ipynb.\n",
      "Converted 10_models.nbeats.ipynb.\n",
      "Converted 20_models.cnn.learner.ipynb.\n",
      "Converted 21_models.cnn.transforms.ipynb.\n",
      "Converted index.ipynb.\n"
     ]
    }
   ],
   "source": [
    "# hide\n",
    "from nbdev.export import *\n",
    "\n",
    "notebook2script()"
   ]
  },
  {
   "cell_type": "code",
   "execution_count": null,
   "metadata": {},
   "outputs": [],
   "source": []
  }
 ],
 "metadata": {
  "kernelspec": {
   "display_name": "env37",
   "language": "python",
   "name": "env37"
  }
 },
 "nbformat": 4,
 "nbformat_minor": 4
}
