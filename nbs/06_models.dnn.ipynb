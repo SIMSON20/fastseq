{
 "cells": [
  {
   "cell_type": "code",
   "execution_count": null,
   "metadata": {},
   "outputs": [],
   "source": [
    "# default_exp models.dnn"
   ]
  },
  {
   "cell_type": "code",
   "execution_count": null,
   "metadata": {},
   "outputs": [],
   "source": [
    "# hide\n",
    "import sys\n",
    "\n",
    "sys.path.append(\"..\")"
   ]
  },
  {
   "cell_type": "markdown",
   "metadata": {},
   "source": [
    "# DNN model\n",
    "\n",
    "> A basic architecture for time series forecasting.\n"
   ]
  },
  {
   "cell_type": "code",
   "execution_count": null,
   "metadata": {},
   "outputs": [],
   "source": [
    "# hide\n",
    "from nbdev.showdoc import *\n",
    "from fastcore.test import *"
   ]
  },
  {
   "cell_type": "code",
   "execution_count": null,
   "metadata": {},
   "outputs": [
    {
     "name": "stderr",
     "output_type": "stream",
     "text": [
      "/home/tako/dev/env37/lib/python3.7/site-packages/pandas/compat/__init__.py:85: UserWarning: Could not import the lzma module. Your installed Python is incomplete. Attempting to use lzma compression will result in a RuntimeError.\n",
      "  warnings.warn(msg)\n"
     ]
    }
   ],
   "source": [
    "#export\n",
    "from fastcore.utils import *\n",
    "from fastcore.imports import *\n",
    "from fastai2.basics import *\n",
    "from fastai2.callback.hook import num_features_model\n",
    "from fastai2.callback.all import *"
   ]
  },
  {
   "cell_type": "code",
   "execution_count": null,
   "metadata": {},
   "outputs": [],
   "source": [
    "\n",
    "def ChannelPool(o, kernel_size, stride=None, padding=0, dilation=1, return_indices=False, ceil_mode=False):\n",
    "    n, c, w = o.size()\n",
    "    print(o.shape)\n",
    "    pooled =  F.max_pool1d(o, kernel_size, stride,\n",
    "                    padding, dilation, ceil_mode,\n",
    "                    return_indices)\n",
    "\n",
    "    return o\n"
   ]
  },
  {
   "cell_type": "code",
   "execution_count": null,
   "metadata": {},
   "outputs": [
    {
     "name": "stdout",
     "output_type": "stream",
     "text": [
      "torch.Size([64, 64, 50])\n"
     ]
    }
   ],
   "source": [
    "\n",
    "o = torch.randn(64, 64, 50)\n",
    "output = ChannelPool(o, 16, 2)"
   ]
  },
  {
   "cell_type": "code",
   "execution_count": null,
   "metadata": {},
   "outputs": [],
   "source": [
    "# export\n",
    "class DNN(torch.nn.Module):\n",
    "    \"\"\"Implements a simple `DNN` architecture for time series forecasting. Inherits \n",
    "    from pytorch `Module <https://pytorch.org/docs/stable/nn.html#torch.nn.Module>`_.\n",
    "    \n",
    "    Arguments:\n",
    "        * input_channels (int): Number of covariates in input time series.\n",
    "        * output_channels (int): Number of target time series.\n",
    "        * horizon (int): Number of time steps to forecast.\n",
    "        * lookback (int): Number of time steps to lookback.\n",
    "        * hidden_channels (int): Number of channels in convolutional hidden layers.\n",
    "        * p_dropout (float): Probality of dropout.\n",
    "    \"\"\"\n",
    "    split = -1\n",
    "    def __init__(self,\n",
    "                 input_channels,\n",
    "                 output_channels,\n",
    "                 horizon,\n",
    "                 lookback,\n",
    "                 hidden_channels=64,\n",
    "                 p_dropout=.2,\n",
    "                 ks=3,\n",
    "                ):\n",
    "        \"\"\"Inititalize variables.\"\"\"\n",
    "        super(DNN, self).__init__()        \n",
    "        self.output_channels = output_channels\n",
    "        self.horizon = horizon\n",
    "        self.hidden_channels = hidden_channels\n",
    "\n",
    "        # Set up first layer for input\n",
    "        conv_input = ConvLayer(input_channels, hidden_channels//4, ks=ks, ndim=1, stride = 2)\n",
    "        conv_2 = ConvLayer(hidden_channels//4, hidden_channels//2, ks=ks, ndim=1, stride = 2)\n",
    "        conv_3 = ConvLayer(hidden_channels//2, hidden_channels, ks=ks, ndim=1, stride = 2)\n",
    "#         adaptive_pool()\n",
    "        # Set up nonlinear output layers\n",
    "        self.body = nn.Sequential(conv_input,conv_2, conv_3, Flatten())\n",
    "        out = int((hidden_channels/8)*lookback)\n",
    "        self.dnn = LinBnDrop(out,horizon*output_channels)\n",
    "\n",
    "    def forward(self, inputs):\n",
    "        \"\"\"Forward function.\"\"\"\n",
    "        hid = self.body(inputs.float())\n",
    "        out= self.dnn(hid).view(hid.size(0),self.output_channels,-1).float()\n",
    "        return out\n",
    "    \n",
    "    @property\n",
    "    def n_parameters(self):\n",
    "        \"\"\"Returns the number of model parameters.\"\"\"\n",
    "        par = list(self.parameters())\n",
    "        s = sum([np.prod(list(d.size())) for d in par])\n",
    "        return s\n"
   ]
  },
  {
   "cell_type": "code",
   "execution_count": null,
   "metadata": {},
   "outputs": [],
   "source": [
    "# hide\n",
    "x = torch.randn(64,1,128)\n",
    "mdl = DNN(1,1,14,128)\n",
    "test_eq(mdl(x).shape,(64,1,14))"
   ]
  },
  {
   "cell_type": "code",
   "execution_count": null,
   "metadata": {},
   "outputs": [],
   "source": [
    "#export\n",
    "from fastai2.basics import *\n",
    "from fastseq.all import *\n",
    "\n",
    "@delegates(DNN.__init__)\n",
    "def dnn_learner(dbunch, output_channels=None, metrics=None, **kwargs):\n",
    "    \"Build a dnn style learner\"\n",
    "    output_channels = ifnone(output_channels,dbunch.train[0][0].shape[0])\n",
    "    \n",
    "    model = DNN(input_channels=dbunch.train[0][0].shape[0],\n",
    "        output_channels=output_channels, \n",
    "        horizon = dbunch.train_dl.horizon,\n",
    "        lookback = dbunch.train_dl.lookback, \n",
    "        **kwargs\n",
    "       )\n",
    "    \n",
    "    learn = Learner(dbunch, model, loss_func=F.mse_loss, opt_func= Adam, metrics=L(metrics)+L(mae, smape))\n",
    "    return learn"
   ]
  },
  {
   "cell_type": "code",
   "execution_count": null,
   "metadata": {},
   "outputs": [
    {
     "name": "stdout",
     "output_type": "stream",
     "text": [
      "Need to pad 25/100 time series due to length.\n",
      "Need to pad 8/100 time series due to length.\n",
      "Need to pad 5/100 time series due to length.\n",
      "Need to pad 5/100 time series due to length.\n",
      "Train:36867; Valid: 4174; Test 100\n"
     ]
    }
   ],
   "source": [
    "\n",
    "path = untar_data(URLs.m4_daily)\n",
    "data = TSDataBunch.from_folder(path, horizon = 14, lookback = 128, bs = 64, nrows=100)\n",
    "learn = dnn_learner(data)"
   ]
  },
  {
   "cell_type": "code",
   "execution_count": null,
   "metadata": {},
   "outputs": [
    {
     "name": "stdout",
     "output_type": "stream",
     "text": [
      "DNN(\n",
      "  (body): Sequential(\n",
      "    (0): ConvLayer(\n",
      "      (0): Conv1d(1, 16, kernel_size=(3,), stride=(2,), padding=(1,), bias=False)\n",
      "      (1): BatchNorm1d(16, eps=1e-05, momentum=0.1, affine=True, track_running_stats=True)\n",
      "      (2): ReLU()\n",
      "    )\n",
      "    (1): ConvLayer(\n",
      "      (0): Conv1d(16, 32, kernel_size=(3,), stride=(2,), padding=(1,), bias=False)\n",
      "      (1): BatchNorm1d(32, eps=1e-05, momentum=0.1, affine=True, track_running_stats=True)\n",
      "      (2): ReLU()\n",
      "    )\n",
      "    (2): ConvLayer(\n",
      "      (0): Conv1d(32, 64, kernel_size=(3,), stride=(2,), padding=(1,), bias=False)\n",
      "      (1): BatchNorm1d(64, eps=1e-05, momentum=0.1, affine=True, track_running_stats=True)\n",
      "      (2): ReLU()\n",
      "    )\n",
      "    (3): full: False\n",
      "  )\n",
      "  (dnn): LinBnDrop(\n",
      "    (0): BatchNorm1d(1024, eps=1e-05, momentum=0.1, affine=True, track_running_stats=True)\n",
      "    (1): Linear(in_features=1024, out_features=14, bias=False)\n",
      "  )\n",
      ")\n",
      "DNN (Input shape: ['64 x 1 x 128'])\n",
      "================================================================\n",
      "Layer (type)         Output Shape         Param #    Trainable \n",
      "================================================================\n",
      "Conv1d               64 x 16 x 64         48         True      \n",
      "________________________________________________________________\n",
      "BatchNorm1d          64 x 16 x 64         32         True      \n",
      "________________________________________________________________\n",
      "ReLU                 64 x 16 x 64         0          False     \n",
      "________________________________________________________________\n",
      "Conv1d               64 x 32 x 32         1,536      True      \n",
      "________________________________________________________________\n",
      "BatchNorm1d          64 x 32 x 32         64         True      \n",
      "________________________________________________________________\n",
      "ReLU                 64 x 32 x 32         0          False     \n",
      "________________________________________________________________\n",
      "Conv1d               64 x 64 x 16         6,144      True      \n",
      "________________________________________________________________\n",
      "BatchNorm1d          64 x 64 x 16         128        True      \n",
      "________________________________________________________________\n",
      "ReLU                 64 x 64 x 16         0          False     \n",
      "________________________________________________________________\n",
      "Flatten              64 x 1024            0          False     \n",
      "________________________________________________________________\n",
      "BatchNorm1d          64 x 1024            2,048      True      \n",
      "________________________________________________________________\n",
      "Linear               64 x 14              14,336     True      \n",
      "________________________________________________________________\n",
      "\n",
      "Total params: 24,336\n",
      "Total trainable params: 24,336\n",
      "Total non-trainable params: 0\n",
      "\n",
      "Optimizer used: <function Adam at 0x7f5b23d52cb0>\n",
      "Loss function: <function mse_loss at 0x7f5b33ca39e0>\n",
      "\n",
      "Callbacks:\n",
      "  - TrainEvalCallback\n",
      "  - Recorder\n",
      "  - ProgressCallback\n"
     ]
    }
   ],
   "source": [
    "print(learn.model)\n",
    "print(learn.summary())"
   ]
  },
  {
   "cell_type": "code",
   "execution_count": null,
   "metadata": {},
   "outputs": [
    {
     "data": {
      "text/html": [],
      "text/plain": [
       "<IPython.core.display.HTML object>"
      ]
     },
     "metadata": {},
     "output_type": "display_data"
    },
    {
     "data": {
      "image/png": "[encoded data removed]",
      "text/plain": [
       "<Figure size 432x288 with 1 Axes>"
      ]
     },
     "metadata": {
      "needs_background": "light"
     },
     "output_type": "display_data"
    }
   ],
   "source": [
    "from fastai2.callback.all import *\n",
    "learn.lr_find()"
   ]
  },
  {
   "cell_type": "code",
   "execution_count": null,
   "metadata": {},
   "outputs": [
    {
     "data": {
      "text/html": [
       "<table border=\"1\" class=\"dataframe\">\n",
       "  <thead>\n",
       "    <tr style=\"text-align: left;\">\n",
       "      <th>epoch</th>\n",
       "      <th>train_loss</th>\n",
       "      <th>valid_loss</th>\n",
       "      <th>mae</th>\n",
       "      <th>smape</th>\n",
       "      <th>time</th>\n",
       "    </tr>\n",
       "  </thead>\n",
       "  <tbody>\n",
       "    <tr>\n",
       "      <td>0</td>\n",
       "      <td>1.172901</td>\n",
       "      <td>2.536149</td>\n",
       "      <td>1.265911</td>\n",
       "      <td>136.325821</td>\n",
       "      <td>00:17</td>\n",
       "    </tr>\n",
       "    <tr>\n",
       "      <td>1</td>\n",
       "      <td>1.171882</td>\n",
       "      <td>2.529189</td>\n",
       "      <td>1.264294</td>\n",
       "      <td>136.330383</td>\n",
       "      <td>00:17</td>\n",
       "    </tr>\n",
       "  </tbody>\n",
       "</table>"
      ],
      "text/plain": [
       "<IPython.core.display.HTML object>"
      ]
     },
     "metadata": {},
     "output_type": "display_data"
    }
   ],
   "source": [
    "learn.fit(2,1e-7)"
   ]
  },
  {
   "cell_type": "code",
   "execution_count": null,
   "metadata": {},
   "outputs": [
    {
     "name": "stdout",
     "output_type": "stream",
     "text": [
      "Converted 00_core.ipynb.\n",
      "Converted 01_data.external.ipynb.\n",
      "Converted 03_data.load.ipynb.\n",
      "Converted 04_data.transforms.ipynb.\n",
      "Converted 05_models.wavenet.ipynb.\n",
      "Converted 06_models.dnn.ipynb.\n",
      "Converted 07_interpret.ipynb.\n",
      "Converted 08_metrics.ipynb.\n",
      "Converted 09_learner.ipynb.\n",
      "Converted 10_models.nbeats.ipynb.\n",
      "Converted 20_models.cnn.learner.ipynb.\n",
      "Converted 21_models.cnn.transforms.ipynb.\n",
      "Converted index.ipynb.\n"
     ]
    }
   ],
   "source": [
    "# hide\n",
    "from nbdev.export import *\n",
    "\n",
    "notebook2script()"
   ]
  },
  {
   "cell_type": "code",
   "execution_count": null,
   "metadata": {},
   "outputs": [],
   "source": []
  },
  {
   "cell_type": "code",
   "execution_count": null,
   "metadata": {},
   "outputs": [],
   "source": []
  }
 ],
 "metadata": {
  "kernelspec": {
   "display_name": "env37",
   "language": "python",
   "name": "env37"
  }
 },
 "nbformat": 4,
 "nbformat_minor": 4
}
