{
 "cells": [
  {
   "cell_type": "code",
   "execution_count": null,
   "metadata": {},
   "outputs": [],
   "source": [
    "# default_exp models.dnn"
   ]
  },
  {
   "cell_type": "code",
   "execution_count": null,
   "metadata": {},
   "outputs": [],
   "source": [
    "# hide\n",
    "import sys\n",
    "\n",
    "sys.path.append(\"..\")"
   ]
  },
  {
   "cell_type": "markdown",
   "metadata": {},
   "source": [
    "# DNN model\n",
    "\n",
    "> A basic architecture for time series forecasting.\n"
   ]
  },
  {
   "cell_type": "code",
   "execution_count": null,
   "metadata": {},
   "outputs": [],
   "source": [
    "# hide\n",
    "from nbdev.showdoc import *\n",
    "from fastcore.test import *"
   ]
  },
  {
   "cell_type": "code",
   "execution_count": null,
   "metadata": {},
   "outputs": [
    {
     "name": "stderr",
     "output_type": "stream",
     "text": [
      "/home/tako/dev/env37/lib/python3.7/site-packages/pandas/compat/__init__.py:85: UserWarning: Could not import the lzma module. Your installed Python is incomplete. Attempting to use lzma compression will result in a RuntimeError.\n",
      "  warnings.warn(msg)\n"
     ]
    }
   ],
   "source": [
    "#export\n",
    "from fastcore.utils import *\n",
    "from fastcore.imports import *\n",
    "from fastai2.basics import *\n",
    "from fastai2.callback.hook import num_features_model\n",
    "from fastai2.callback.all import *"
   ]
  },
  {
   "cell_type": "code",
   "execution_count": null,
   "metadata": {},
   "outputs": [],
   "source": [
    "# export\n",
    "class DNN(torch.nn.Module):\n",
    "    \"\"\"Implements a simple `DNN` architecture for time series forecasting. Inherits \n",
    "    from pytorch `Module <https://pytorch.org/docs/stable/nn.html#torch.nn.Module>`_.\n",
    "    \n",
    "    Arguments:\n",
    "        * input_channels (int): Number of covariates in input time series.\n",
    "        * output_channels (int): Number of target time series.\n",
    "        * horizon (int): Number of time steps to forecast.\n",
    "        * lookback (int): Number of time steps to lookback.\n",
    "        * hidden_channels (int): Number of channels in convolutional hidden layers.\n",
    "        * p_dropout (float): Probality of dropout.\n",
    "    \"\"\"\n",
    "    split = -1\n",
    "    def __init__(self,\n",
    "                 input_channels,\n",
    "                 output_channels,\n",
    "                 horizon,\n",
    "                 lookback,\n",
    "                 hidden_channels=64,\n",
    "                 p_dropout=.2,\n",
    "                 ks=3,\n",
    "                ):\n",
    "        \"\"\"Inititalize variables.\"\"\"\n",
    "        super(DNN, self).__init__()        \n",
    "        self.output_channels = output_channels\n",
    "        self.horizon = horizon\n",
    "        self.hidden_channels = hidden_channels\n",
    "\n",
    "        # Set up first layer for input\n",
    "        conv_input = ConvLayer(input_channels, hidden_channels, ks=ks, ndim=1)\n",
    "#         conv_input = torch.nn.Conv1d(\n",
    "#             in_channels=input_channels,\n",
    "#             out_channels=hidden_channels,\n",
    "#             kernel_size=ks,\n",
    "#             padding=(ks-1)//2\n",
    "#         )\n",
    "        \n",
    "        # Set up nonlinear output layers\n",
    "        self.body = nn.Sequential(conv_input,Flatten())          \n",
    "        self.dnn = LinBnDrop((hidden_channels*lookback),horizon*output_channels)\n",
    "\n",
    "    def forward(self, inputs):\n",
    "        \"\"\"Forward function.\"\"\"\n",
    "        hid = self.body(inputs.float())\n",
    "        out= self.dnn(hid).view(hid.size(0),self.output_channels,-1).float()\n",
    "        return out\n",
    "    \n",
    "    @property\n",
    "    def n_parameters(self):\n",
    "        \"\"\"Returns the number of model parameters.\"\"\"\n",
    "        par = list(self.parameters())\n",
    "        s = sum([np.prod(list(d.size())) for d in par])\n",
    "        return s\n"
   ]
  },
  {
   "cell_type": "code",
   "execution_count": null,
   "metadata": {},
   "outputs": [],
   "source": [
    "#export\n",
    "@delegates(DNN.__init__)\n",
    "def dnn_learner(dbunch, output_channels=None, metrics=None, **kwargs):\n",
    "    \"Build a dnn style learner\"\n",
    "    output_channels = ifnone(output_channels,dbunch.train[0][0].shape[0])\n",
    "    \n",
    "    model = DNN(input_channels=dbunch.train[0][0].shape[0],\n",
    "        output_channels=output_channels, \n",
    "        horizon = dbunch.train_dl.horizon,\n",
    "        lookback = dbunch.train_dl.lookback, \n",
    "        **kwargs\n",
    "       )\n",
    "    \n",
    "    learn = Learner(dbunch, model, loss_func=F.mse_loss, opt_func= Adam, metrics=L(metrics)+L(mae, smape))\n",
    "    return learn"
   ]
  },
  {
   "cell_type": "code",
   "execution_count": null,
   "metadata": {},
   "outputs": [],
   "source": [
    "from fastseq.all import *\n",
    "from fastai2.basics import *\n",
    "\n",
    "path = untar_data(URLs.m4_daily)\n",
    "data = TSDataBunch.from_folder(path, horizon = 14, lookback = 128, bs = 64, nrows=100)\n",
    "learn = dnn_learner(data)"
   ]
  },
  {
   "cell_type": "code",
   "execution_count": null,
   "metadata": {},
   "outputs": [
    {
     "data": {
      "text/html": [],
      "text/plain": [
       "<IPython.core.display.HTML object>"
      ]
     },
     "metadata": {},
     "output_type": "display_data"
    },
    {
     "data": {
      "image/png": "[encoded data removed]",
      "text/plain": [
       "<Figure size 432x288 with 1 Axes>"
      ]
     },
     "metadata": {
      "needs_background": "light"
     },
     "output_type": "display_data"
    }
   ],
   "source": [
    "from fastai2.callback.all import *\n",
    "learn.lr_find()"
   ]
  },
  {
   "cell_type": "code",
   "execution_count": null,
   "metadata": {},
   "outputs": [
    {
     "data": {
      "text/html": [
       "<table border=\"1\" class=\"dataframe\">\n",
       "  <thead>\n",
       "    <tr style=\"text-align: left;\">\n",
       "      <th>epoch</th>\n",
       "      <th>train_loss</th>\n",
       "      <th>valid_loss</th>\n",
       "      <th>mae</th>\n",
       "      <th>smape</th>\n",
       "      <th>time</th>\n",
       "    </tr>\n",
       "  </thead>\n",
       "  <tbody>\n",
       "    <tr>\n",
       "      <td>0</td>\n",
       "      <td>17949754.000000</td>\n",
       "      <td>24625564.000000</td>\n",
       "      <td>3965.501953</td>\n",
       "      <td>199.880798</td>\n",
       "      <td>00:16</td>\n",
       "    </tr>\n",
       "    <tr>\n",
       "      <td>1</td>\n",
       "      <td>17949742.000000</td>\n",
       "      <td>24622114.000000</td>\n",
       "      <td>3965.427246</td>\n",
       "      <td>199.888702</td>\n",
       "      <td>00:16</td>\n",
       "    </tr>\n",
       "  </tbody>\n",
       "</table>"
      ],
      "text/plain": [
       "<IPython.core.display.HTML object>"
      ]
     },
     "metadata": {},
     "output_type": "display_data"
    }
   ],
   "source": [
    "learn.fit(2,1e-7)"
   ]
  },
  {
   "cell_type": "code",
   "execution_count": null,
   "metadata": {},
   "outputs": [
    {
     "name": "stdout",
     "output_type": "stream",
     "text": [
      "Converted 00_core.ipynb.\n",
      "Converted 01_data.external.ipynb.\n",
      "Converted 03_data.load.ipynb.\n",
      "Converted 04_data.transforms.ipynb.\n",
      "Converted 05_models.wavenet.ipynb.\n",
      "Converted 06_models.dnn.ipynb.\n",
      "Converted 08_metrics.ipynb.\n",
      "Converted 09_learner.ipynb.\n",
      "Converted 20_models.cnn.learner.ipynb.\n",
      "Converted 21_models.cnn.transforms.ipynb.\n",
      "Converted index.ipynb.\n"
     ]
    }
   ],
   "source": [
    "# hide\n",
    "from nbdev.export import *\n",
    "\n",
    "notebook2script()"
   ]
  },
  {
   "cell_type": "code",
   "execution_count": null,
   "metadata": {},
   "outputs": [],
   "source": []
  },
  {
   "cell_type": "code",
   "execution_count": null,
   "metadata": {},
   "outputs": [],
   "source": []
  }
 ],
 "metadata": {
  "kernelspec": {
   "display_name": "env37",
   "language": "python",
   "name": "env37"
  }
 },
 "nbformat": 4,
 "nbformat_minor": 4
}
