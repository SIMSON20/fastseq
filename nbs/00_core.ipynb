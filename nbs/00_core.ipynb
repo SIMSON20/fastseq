{
 "cells": [
  {
   "cell_type": "code",
   "execution_count": null,
   "metadata": {},
   "outputs": [],
   "source": [
    "# default_exp core"
   ]
  },
  {
   "cell_type": "code",
   "execution_count": null,
   "metadata": {},
   "outputs": [
    {
     "name": "stderr",
     "output_type": "stream",
     "text": [
      "/home/tako/dev/env37/lib/python3.7/site-packages/pandas/compat/__init__.py:117: UserWarning: Could not import the lzma module. Your installed Python is incomplete. Attempting to use lzma compression will result in a RuntimeError.\n",
      "  warnings.warn(msg)\n"
     ]
    }
   ],
   "source": [
    "#hide\n",
    "import sys\n",
    "sys.path.append('..')\n",
    "import pandas as pd"
   ]
  },
  {
   "cell_type": "code",
   "execution_count": null,
   "metadata": {},
   "outputs": [],
   "source": [
    "# hide\n",
    "from nbdev.showdoc import *\n",
    "from fastcore.test import *"
   ]
  },
  {
   "cell_type": "code",
   "execution_count": null,
   "metadata": {},
   "outputs": [],
   "source": [
    "#export\n",
    "from fastcore.all import *\n",
    "from fastai2.basics import *\n",
    "import pandas as pd\n",
    "import numpy as np"
   ]
  },
  {
   "cell_type": "markdown",
   "metadata": {},
   "source": [
    "# Core functions\n",
    "\n",
    "> API details."
   ]
  },
  {
   "cell_type": "markdown",
   "metadata": {},
   "source": [
    "## Utils"
   ]
  },
  {
   "cell_type": "code",
   "execution_count": null,
   "metadata": {},
   "outputs": [],
   "source": [
    "# export\n",
    "from git import Repo\n",
    "from nbdev.export import Config as nb_Config\n",
    "from nbdev.export import *\n",
    "\n",
    "def git_add(fname, commit_msg='.'):\n",
    "    repo = Repo(nb_Config().nbs_path.parent)\n",
    "    notebook2script(fname)\n",
    "    nb = read_nb(fname)\n",
    "    default = find_default_export(nb['cells'])\n",
    "    py = [os.path.join(nb_Config().lib_path,*default.split('.'))+'.py',\n",
    "          os.path.join(nb_Config().nbs_path,fname)\n",
    "         ]\n",
    "    repo.index.add(py)\n",
    "    repo.index.commit(commit_msg)\n",
    "    return py\n",
    "    "
   ]
  },
  {
   "cell_type": "code",
   "execution_count": null,
   "metadata": {},
   "outputs": [
    {
     "name": "stdout",
     "output_type": "stream",
     "text": [
      "Converted 00_core.ipynb.\n"
     ]
    },
    {
     "data": {
      "text/plain": [
       "['/home/tako/dev/fastseq/fastseq/core.py',\n",
       " '/home/tako/dev/fastseq/nbs/00_core.ipynb']"
      ]
     },
     "execution_count": null,
     "metadata": {},
     "output_type": "execute_result"
    }
   ],
   "source": [
    "fname = '00_core.ipynb'\n",
    "git_add(fname)"
   ]
  },
  {
   "cell_type": "code",
   "execution_count": null,
   "metadata": {},
   "outputs": [],
   "source": [
    "# export\n",
    "from typing import List\n",
    "def same_size_ts(ts:pd.Series, ts_names:List[str]):    \n",
    "    all_same = [[(ts[c].shape == ts[a].shape) for c in ts_names] for a in ts_names]\n",
    "    mask = np.array(all_same)    \n",
    "    return np.sum(mask) == len(ts_names)**2\n",
    "    \n",
    "    \n",
    "    "
   ]
  },
  {
   "cell_type": "code",
   "execution_count": null,
   "metadata": {},
   "outputs": [],
   "source": [
    "df = pd.DataFrame(data={'ts_0':[pd.Series(np.arange(10)),\n",
    "                           pd.Series(np.arange(10))],\n",
    "                   'ts_1':[pd.Series(np.arange(1,11)),\n",
    "                           pd.Series(np.arange(1,12))],\n",
    "                   'var_0':[0.,1.],\n",
    "                   'con_0':[0,1]})\n",
    "for i, row in df.iterrows():\n",
    "    if i == 0:\n",
    "        test_eq(same_size_ts(row,['ts_0','ts_1']),True)\n",
    "    if i == 1:\n",
    "        test_eq(same_size_ts(row,['ts_0','ts_1']),False)"
   ]
  },
  {
   "cell_type": "code",
   "execution_count": null,
   "metadata": {},
   "outputs": [],
   "source": [
    "# export\n",
    "def get_part_of_ts(x, lookback_id, length, pad=np.mean):\n",
    "    if len(x.shape) == 1:\n",
    "        x = x[None,:]\n",
    "    if isinstance(x[0,0],int):\n",
    "        x = x.astype(float)\n",
    "    if x.shape[-1] < length:\n",
    "        # If the time series is too short, we pad\n",
    "        padding = pad(x, -1)\n",
    "        x = tensor(np.pad(\n",
    "            x, # report issue https://github.com/numpy/numpy/issues/15606\n",
    "            pad_width=((0, 0), (length - x.shape[-1], 0)),\n",
    "            mode='constant',\n",
    "            constant_values=padding\n",
    "        )).float()\n",
    "        assert x.shape == (x.shape[0],length), f\"{x.shape}\\t,{lookback_id}, 'tsshape':{x.shape}\"\n",
    "    else:\n",
    "        x = tensor(x[:,lookback_id:lookback_id + length]).float()\n",
    "    return x\n"
   ]
  },
  {
   "cell_type": "code",
   "execution_count": null,
   "metadata": {},
   "outputs": [],
   "source": [
    "x = np.arange(10)\n",
    "test_eq(get_part_of_ts(x, 2, 5), torch.arange(2,7.)[None,:])\n",
    "x = np.arange(10)[None,:]\n",
    "test_eq(get_part_of_ts(x, 2, 5), torch.arange(2,7.)[None,:])\n",
    "test_eq(get_part_of_ts(x, 0, 11), tensor([[4., 0, 1, 2, 3, 4, 5, 6, 7, 8, 9]]))\n",
    "x = np.vstack([np.arange(10)]*2)\n",
    "test_eq(get_part_of_ts(x, 2, 5), torch.cat([torch.arange(2,7.)[None,:]]*2))\n",
    "test_eq(get_part_of_ts(x, 0, 11), tensor([[4., 0, 1, 2, 3, 4, 5, 6, 7, 8, 9],\n",
    "                                          [4, 0, 1, 2, 3, 4, 5, 6, 7, 8, 9]]))\n",
    "\n",
    "# report issue https://github.com/numpy/numpy/issues/15606\n",
    "x = np.arange(10)[None,:]\n",
    "# test_eq(get_part_of_ts(x, 0, 11), tensor([[4.5, 0, 1, 2, 3, 4, 5, 6, 7, 8, 9]]))"
   ]
  },
  {
   "cell_type": "code",
   "execution_count": null,
   "metadata": {},
   "outputs": [],
   "source": [
    "# export\n",
    "def first_item(lst):\n",
    "    if type(lst)==list or type(lst) == L:\n",
    "        return lst[0]\n",
    "    return lst"
   ]
  },
  {
   "cell_type": "code",
   "execution_count": null,
   "metadata": {},
   "outputs": [],
   "source": [
    "l = L(1,2,3)\n",
    "test_eq(first_item(l),1)\n",
    "l = [1,2,3]\n",
    "test_eq(first_item(l),1)\n",
    "test_eq(1,1)"
   ]
  },
  {
   "cell_type": "code",
   "execution_count": null,
   "metadata": {},
   "outputs": [],
   "source": [
    "# export\n",
    "\n",
    "def concat_dct(new_dct, expand_dct):\n",
    "    \"\"\"Concatanates `torch.tensor`'s in `new_dct` to the same `key` in expand_dct'.\"\"\"\n",
    "    for k,v in new_dct.items():\n",
    "        if isinstance(v,torch.Tensor):\n",
    "            if k in expand_dct:\n",
    "                expand_dct[k] = torch.cat([expand_dct[k],v], axis = 0)\n",
    "            else:\n",
    "                expand_dct[k] = v\n",
    "        else:\n",
    "            if k in expand_dct:\n",
    "                expand_dct[k] = concat_dct(new_dct[k], expand_dct[k])\n",
    "            else:\n",
    "                expand_dct[k] = concat_dct(new_dct[k], {})\n",
    "\n",
    "    return expand_dct"
   ]
  },
  {
   "cell_type": "code",
   "execution_count": null,
   "metadata": {},
   "outputs": [
    {
     "name": "stdout",
     "output_type": "stream",
     "text": [
      "torch.Size([4, 4])\n",
      "torch.Size([8, 4])\n",
      "torch.Size([16, 4])\n"
     ]
    }
   ],
   "source": [
    "dct = defaultdict(dict)\n",
    "new_d = {'foo':{'bar':torch.randn(4,4)}}\n",
    "dct = concat_dct(new_d, dct)\n",
    "print(dct['foo']['bar'].shape)\n",
    "new_d = {'foo':{'bar':torch.randn(4,4)+10}}\n",
    "dct = concat_dct(new_d, dct)\n",
    "print(dct['foo']['bar'].shape)\n",
    "new_d = {'foo':{'bar':torch.randn(8,4)+10}}\n",
    "dct = concat_dct(new_d, dct)\n",
    "print(dct['foo']['bar'].shape)"
   ]
  },
  {
   "cell_type": "code",
   "execution_count": null,
   "metadata": {},
   "outputs": [],
   "source": [
    "# export\n",
    "def pad_zeros(X, lenght):\n",
    "    return  np.pad(\n",
    "                X,\n",
    "                pad_width=((0, 0), (lenght - X.shape[-1], 0)),\n",
    "                mode='constant',\n",
    "                constant_values=0\n",
    "            )"
   ]
  },
  {
   "cell_type": "code",
   "execution_count": null,
   "metadata": {},
   "outputs": [],
   "source": [
    "# export\n",
    "def Skip(percentage_remove):\n",
    "    \"\"\"Helper function for `pd.read_csv` and will randomly not load `percentage_remove`% of the whole dataset \"\"\"\n",
    "\n",
    "    def skip(x):\n",
    "        if (np.random.rand() < percentage_remove or x == 0):\n",
    "            return False\n",
    "        return True\n",
    "    return skip"
   ]
  },
  {
   "cell_type": "code",
   "execution_count": null,
   "metadata": {},
   "outputs": [],
   "source": [
    "l = []\n",
    "skip = Skip(.9)\n",
    "for i in range(10000):\n",
    "    if not skip(i):\n",
    "        l.append(1)\n",
    "    else:\n",
    "        l.append(0)    \n",
    "test_eq(l[0],1)\n",
    "test_close(np.mean(l),.9,.01)"
   ]
  },
  {
   "cell_type": "code",
   "execution_count": null,
   "metadata": {},
   "outputs": [
    {
     "data": {
      "text/html": [
       "<div>\n",
       "<style scoped>\n",
       "    .dataframe tbody tr th:only-of-type {\n",
       "        vertical-align: middle;\n",
       "    }\n",
       "\n",
       "    .dataframe tbody tr th {\n",
       "        vertical-align: top;\n",
       "    }\n",
       "\n",
       "    .dataframe thead th {\n",
       "        text-align: right;\n",
       "    }\n",
       "</style>\n",
       "<table border=\"1\" class=\"dataframe\">\n",
       "  <thead>\n",
       "    <tr style=\"text-align: right;\">\n",
       "      <th></th>\n",
       "      <th>V1</th>\n",
       "      <th>V2</th>\n",
       "      <th>V3</th>\n",
       "      <th>V4</th>\n",
       "      <th>V5</th>\n",
       "      <th>V6</th>\n",
       "      <th>V7</th>\n",
       "      <th>V8</th>\n",
       "      <th>V9</th>\n",
       "      <th>V10</th>\n",
       "      <th>V11</th>\n",
       "      <th>V12</th>\n",
       "      <th>V13</th>\n",
       "      <th>V14</th>\n",
       "      <th>V15</th>\n",
       "    </tr>\n",
       "  </thead>\n",
       "  <tbody>\n",
       "    <tr>\n",
       "      <th>0</th>\n",
       "      <td>D1</td>\n",
       "      <td>2039.2000</td>\n",
       "      <td>2035.0000</td>\n",
       "      <td>2051.8000</td>\n",
       "      <td>2061.8000</td>\n",
       "      <td>2063.5000</td>\n",
       "      <td>2069.5000</td>\n",
       "      <td>2054.0000</td>\n",
       "      <td>2057.0000</td>\n",
       "      <td>2062.8000</td>\n",
       "      <td>2066.4000</td>\n",
       "      <td>2067.4000</td>\n",
       "      <td>2071.4000</td>\n",
       "      <td>2083.800</td>\n",
       "      <td>2080.6000</td>\n",
       "    </tr>\n",
       "    <tr>\n",
       "      <th>1</th>\n",
       "      <td>D2</td>\n",
       "      <td>2986.0000</td>\n",
       "      <td>3001.2000</td>\n",
       "      <td>2975.9000</td>\n",
       "      <td>2996.1000</td>\n",
       "      <td>2981.9000</td>\n",
       "      <td>2985.5000</td>\n",
       "      <td>2975.8000</td>\n",
       "      <td>2956.2000</td>\n",
       "      <td>2964.7000</td>\n",
       "      <td>2989.0000</td>\n",
       "      <td>2991.4000</td>\n",
       "      <td>3024.9000</td>\n",
       "      <td>3070.800</td>\n",
       "      <td>3076.9000</td>\n",
       "    </tr>\n",
       "    <tr>\n",
       "      <th>2</th>\n",
       "      <td>D3</td>\n",
       "      <td>1120.7000</td>\n",
       "      <td>1117.9000</td>\n",
       "      <td>1115.1000</td>\n",
       "      <td>1112.3000</td>\n",
       "      <td>1109.5000</td>\n",
       "      <td>1106.7000</td>\n",
       "      <td>1103.9000</td>\n",
       "      <td>1101.1000</td>\n",
       "      <td>1098.3000</td>\n",
       "      <td>1095.5000</td>\n",
       "      <td>1092.7000</td>\n",
       "      <td>1089.9000</td>\n",
       "      <td>1087.100</td>\n",
       "      <td>1084.3000</td>\n",
       "    </tr>\n",
       "    <tr>\n",
       "      <th>3</th>\n",
       "      <td>D4</td>\n",
       "      <td>1190.0000</td>\n",
       "      <td>1162.0000</td>\n",
       "      <td>1134.0000</td>\n",
       "      <td>1106.0000</td>\n",
       "      <td>1078.0000</td>\n",
       "      <td>1050.0000</td>\n",
       "      <td>1022.0000</td>\n",
       "      <td>994.0000</td>\n",
       "      <td>966.0000</td>\n",
       "      <td>938.0000</td>\n",
       "      <td>910.0000</td>\n",
       "      <td>1428.0000</td>\n",
       "      <td>1400.000</td>\n",
       "      <td>1372.0000</td>\n",
       "    </tr>\n",
       "    <tr>\n",
       "      <th>4</th>\n",
       "      <td>D6</td>\n",
       "      <td>3182.0525</td>\n",
       "      <td>3147.0985</td>\n",
       "      <td>3143.8503</td>\n",
       "      <td>3128.2005</td>\n",
       "      <td>3229.8279</td>\n",
       "      <td>3263.2599</td>\n",
       "      <td>3303.5956</td>\n",
       "      <td>3314.0879</td>\n",
       "      <td>3335.8389</td>\n",
       "      <td>3314.8839</td>\n",
       "      <td>3403.4529</td>\n",
       "      <td>3424.7502</td>\n",
       "      <td>3280.184</td>\n",
       "      <td>3338.7257</td>\n",
       "    </tr>\n",
       "    <tr>\n",
       "      <th>...</th>\n",
       "      <td>...</td>\n",
       "      <td>...</td>\n",
       "      <td>...</td>\n",
       "      <td>...</td>\n",
       "      <td>...</td>\n",
       "      <td>...</td>\n",
       "      <td>...</td>\n",
       "      <td>...</td>\n",
       "      <td>...</td>\n",
       "      <td>...</td>\n",
       "      <td>...</td>\n",
       "      <td>...</td>\n",
       "      <td>...</td>\n",
       "      <td>...</td>\n",
       "      <td>...</td>\n",
       "    </tr>\n",
       "    <tr>\n",
       "      <th>3793</th>\n",
       "      <td>D4223</td>\n",
       "      <td>3050.0000</td>\n",
       "      <td>3125.0000</td>\n",
       "      <td>3262.0000</td>\n",
       "      <td>3262.0000</td>\n",
       "      <td>3520.0000</td>\n",
       "      <td>3520.0000</td>\n",
       "      <td>3515.0000</td>\n",
       "      <td>3494.0000</td>\n",
       "      <td>3494.0000</td>\n",
       "      <td>3494.0000</td>\n",
       "      <td>3494.0000</td>\n",
       "      <td>3494.0000</td>\n",
       "      <td>3494.000</td>\n",
       "      <td>3494.0000</td>\n",
       "    </tr>\n",
       "    <tr>\n",
       "      <th>3794</th>\n",
       "      <td>D4224</td>\n",
       "      <td>3719.0000</td>\n",
       "      <td>3754.0000</td>\n",
       "      <td>3754.0000</td>\n",
       "      <td>3721.0000</td>\n",
       "      <td>3730.0000</td>\n",
       "      <td>3727.0000</td>\n",
       "      <td>3700.0000</td>\n",
       "      <td>3700.0000</td>\n",
       "      <td>3708.0000</td>\n",
       "      <td>3708.0000</td>\n",
       "      <td>3708.0000</td>\n",
       "      <td>3708.0000</td>\n",
       "      <td>3708.000</td>\n",
       "      <td>3708.0000</td>\n",
       "    </tr>\n",
       "    <tr>\n",
       "      <th>3795</th>\n",
       "      <td>D4225</td>\n",
       "      <td>4014.0000</td>\n",
       "      <td>4023.0000</td>\n",
       "      <td>4056.0000</td>\n",
       "      <td>4070.0000</td>\n",
       "      <td>4085.0000</td>\n",
       "      <td>4095.0000</td>\n",
       "      <td>4118.0000</td>\n",
       "      <td>4110.0000</td>\n",
       "      <td>4159.0000</td>\n",
       "      <td>4167.0000</td>\n",
       "      <td>4145.0000</td>\n",
       "      <td>4168.0000</td>\n",
       "      <td>4068.000</td>\n",
       "      <td>4066.0000</td>\n",
       "    </tr>\n",
       "    <tr>\n",
       "      <th>3796</th>\n",
       "      <td>D4226</td>\n",
       "      <td>1486.2200</td>\n",
       "      <td>1501.3900</td>\n",
       "      <td>1502.1500</td>\n",
       "      <td>1497.6400</td>\n",
       "      <td>1489.7200</td>\n",
       "      <td>1494.7500</td>\n",
       "      <td>1497.4100</td>\n",
       "      <td>1500.5700</td>\n",
       "      <td>1492.2000</td>\n",
       "      <td>1489.0800</td>\n",
       "      <td>1495.5600</td>\n",
       "      <td>1488.2100</td>\n",
       "      <td>1493.630</td>\n",
       "      <td>1487.3000</td>\n",
       "    </tr>\n",
       "    <tr>\n",
       "      <th>3797</th>\n",
       "      <td>D4227</td>\n",
       "      <td>15454.8000</td>\n",
       "      <td>15455.7000</td>\n",
       "      <td>15576.3000</td>\n",
       "      <td>15391.7000</td>\n",
       "      <td>15483.6000</td>\n",
       "      <td>15596.0000</td>\n",
       "      <td>15389.6000</td>\n",
       "      <td>15330.5000</td>\n",
       "      <td>15285.4000</td>\n",
       "      <td>14614.6000</td>\n",
       "      <td>14285.9000</td>\n",
       "      <td>14574.7000</td>\n",
       "      <td>14800.700</td>\n",
       "      <td>14619.3000</td>\n",
       "    </tr>\n",
       "  </tbody>\n",
       "</table>\n",
       "<p>3798 rows × 15 columns</p>\n",
       "</div>"
      ],
      "text/plain": [
       "         V1          V2          V3          V4          V5          V6  \\\n",
       "0        D1   2039.2000   2035.0000   2051.8000   2061.8000   2063.5000   \n",
       "1        D2   2986.0000   3001.2000   2975.9000   2996.1000   2981.9000   \n",
       "2        D3   1120.7000   1117.9000   1115.1000   1112.3000   1109.5000   \n",
       "3        D4   1190.0000   1162.0000   1134.0000   1106.0000   1078.0000   \n",
       "4        D6   3182.0525   3147.0985   3143.8503   3128.2005   3229.8279   \n",
       "...     ...         ...         ...         ...         ...         ...   \n",
       "3793  D4223   3050.0000   3125.0000   3262.0000   3262.0000   3520.0000   \n",
       "3794  D4224   3719.0000   3754.0000   3754.0000   3721.0000   3730.0000   \n",
       "3795  D4225   4014.0000   4023.0000   4056.0000   4070.0000   4085.0000   \n",
       "3796  D4226   1486.2200   1501.3900   1502.1500   1497.6400   1489.7200   \n",
       "3797  D4227  15454.8000  15455.7000  15576.3000  15391.7000  15483.6000   \n",
       "\n",
       "              V7          V8          V9         V10         V11         V12  \\\n",
       "0      2069.5000   2054.0000   2057.0000   2062.8000   2066.4000   2067.4000   \n",
       "1      2985.5000   2975.8000   2956.2000   2964.7000   2989.0000   2991.4000   \n",
       "2      1106.7000   1103.9000   1101.1000   1098.3000   1095.5000   1092.7000   \n",
       "3      1050.0000   1022.0000    994.0000    966.0000    938.0000    910.0000   \n",
       "4      3263.2599   3303.5956   3314.0879   3335.8389   3314.8839   3403.4529   \n",
       "...          ...         ...         ...         ...         ...         ...   \n",
       "3793   3520.0000   3515.0000   3494.0000   3494.0000   3494.0000   3494.0000   \n",
       "3794   3727.0000   3700.0000   3700.0000   3708.0000   3708.0000   3708.0000   \n",
       "3795   4095.0000   4118.0000   4110.0000   4159.0000   4167.0000   4145.0000   \n",
       "3796   1494.7500   1497.4100   1500.5700   1492.2000   1489.0800   1495.5600   \n",
       "3797  15596.0000  15389.6000  15330.5000  15285.4000  14614.6000  14285.9000   \n",
       "\n",
       "             V13        V14         V15  \n",
       "0      2071.4000   2083.800   2080.6000  \n",
       "1      3024.9000   3070.800   3076.9000  \n",
       "2      1089.9000   1087.100   1084.3000  \n",
       "3      1428.0000   1400.000   1372.0000  \n",
       "4      3424.7502   3280.184   3338.7257  \n",
       "...          ...        ...         ...  \n",
       "3793   3494.0000   3494.000   3494.0000  \n",
       "3794   3708.0000   3708.000   3708.0000  \n",
       "3795   4168.0000   4068.000   4066.0000  \n",
       "3796   1488.2100   1493.630   1487.3000  \n",
       "3797  14574.7000  14800.700  14619.3000  \n",
       "\n",
       "[3798 rows x 15 columns]"
      ]
     },
     "execution_count": null,
     "metadata": {},
     "output_type": "execute_result"
    }
   ],
   "source": [
    "from fastseq.data.external import *\n",
    "from fastai2.basics import *\n",
    "path = untar_data(URLs.m4_daily)\n",
    "pd.read_csv(path/'val.csv',skiprows = Skip(.9))"
   ]
  },
  {
   "cell_type": "code",
   "execution_count": null,
   "metadata": {},
   "outputs": [],
   "source": [
    "#export\n",
    "# TODO skip will skip different rows for train and val\n",
    "\n",
    "def get_ts_files(path, recurse=True, folders=None, **kwargs):\n",
    "    \"Get image files in `path` recursively, only in `folders`, if specified.\"\n",
    "    items = []\n",
    "    for f in get_files(path, extensions=['.csv'], recurse=recurse, folders=folders):\n",
    "        df = pd.read_csv(f, **kwargs)\n",
    "        items.append(ts_lists(df.iloc[:, 1:].values))\n",
    "    return items"
   ]
  },
  {
   "cell_type": "code",
   "execution_count": null,
   "metadata": {},
   "outputs": [],
   "source": [
    "# train, val = get_ts_files(path, nrows=1000)"
   ]
  },
  {
   "cell_type": "code",
   "execution_count": null,
   "metadata": {},
   "outputs": [],
   "source": [
    "# export\n",
    "def IndexsSplitter(train_idx, val_idx=None, test=None):\n",
    "    \"\"\"Split `items` from 0 to `train_idx` in the training set, from `train_idx` to `val_idx` (or the end) in the validation set.\n",
    "\n",
    "    Optionly if `test` will  in test set will also make test from val_idx to end.\n",
    "    \"\"\"\n",
    "    _val_idx = ifnone(val_idx,-1)\n",
    "    do_test = ifnone(test, False)\n",
    "    def _inner(items, **kwargs):\n",
    "        if _val_idx == -1:\n",
    "            val_idx = len(items)\n",
    "        else:\n",
    "            val_idx = _val_idx\n",
    "        train = L(np.arange(0, train_idx), use_list=True)\n",
    "        valid = L(np.arange(train_idx, val_idx), use_list=True)\n",
    "        if do_test:\n",
    "            test = L(np.arange(val_idx,len(items)), use_list=True)\n",
    "            return train, valid, test\n",
    "        if not val_idx == len(items):\n",
    "            warnings.warn(\"You lose data\")\n",
    "        return train, valid\n",
    "    return _inner"
   ]
  },
  {
   "cell_type": "code",
   "execution_count": null,
   "metadata": {},
   "outputs": [
    {
     "name": "stderr",
     "output_type": "stream",
     "text": [
      "/home/tako/dev/env37/lib/python3.7/site-packages/ipykernel_launcher.py:20: UserWarning: You lose data\n"
     ]
    }
   ],
   "source": [
    "items = list(range(10))\n",
    "splitter = IndexsSplitter(5,8)\n",
    "test_eq(splitter(items),(L(0,1,2,3,4),L(5,6,7)))"
   ]
  },
  {
   "cell_type": "code",
   "execution_count": null,
   "metadata": {},
   "outputs": [],
   "source": [
    "splitter = IndexsSplitter(5,8,True)\n",
    "test_eq(splitter(items),(L(0,1,2,3,4),L(5,6,7),L(8,9)))"
   ]
  },
  {
   "cell_type": "markdown",
   "metadata": {},
   "source": [
    "## Uni Types"
   ]
  },
  {
   "cell_type": "code",
   "execution_count": null,
   "metadata": {},
   "outputs": [],
   "source": [
    "# export\n",
    "class TSeries(TensorBase):pass"
   ]
  },
  {
   "cell_type": "code",
   "execution_count": null,
   "metadata": {},
   "outputs": [],
   "source": [
    "#export\n",
    "\n",
    "def no_emp_dim(x):\n",
    "    if len(x.shape)==1 :\n",
    "        x = x[None,:]\n",
    "    return np.vstack(x)\n",
    "\n",
    "def show_graph(array, ax=None, figsize=None, title=None, ctx=None, tx=None, **kwargs):\n",
    "    \"Show an array on `ax`.\"\n",
    "    # Handle pytorch axis order\n",
    "    if hasattrs(array, ('data','cpu','permute')):\n",
    "        array = array.data.cpu()\n",
    "    elif not isinstance(array,np.ndarray):\n",
    "        array=array(array)\n",
    "    arrays = no_emp_dim(array)\n",
    "    ax = ifnone(ax,ctx)\n",
    "    if figsize is None: figsize = (5,5)\n",
    "    if ax is None: _,ax = plt.subplots(figsize=figsize)\n",
    "    tx = ifnone(tx,np.arange(arrays[0].shape[0]))\n",
    "    label = kwargs.pop('label', 'x')\n",
    "    for a, c in zip(arrays, ['b', 'c', 'm', 'y', 'k',]):\n",
    "        ax.plot(tx, a, '-*'+c,label=label, **kwargs)\n",
    "\n",
    "    if title is not None: ax.set_title(title)\n",
    "\n",
    "    ax.legend()\n",
    "#     ax.axis('off')\n",
    "    return ax"
   ]
  },
  {
   "cell_type": "code",
   "execution_count": null,
   "metadata": {},
   "outputs": [],
   "source": [
    "# export\n",
    "def test_graph_exists(ax):\n",
    "    \"Test there is a graph displayed in `ax`\"\n",
    "    assert ax"
   ]
  },
  {
   "cell_type": "code",
   "execution_count": null,
   "metadata": {},
   "outputs": [
    {
     "data": {
      "image/png": "[encoded data removed]",
      "text/plain": [
       "<Figure size 360x360 with 1 Axes>"
      ]
     },
     "metadata": {
      "needs_background": "light"
     },
     "output_type": "display_data"
    },
    {
     "data": {
      "image/png": "[encoded data removed]",
      "text/plain": [
       "<Figure size 360x360 with 1 Axes>"
      ]
     },
     "metadata": {
      "needs_background": "light"
     },
     "output_type": "display_data"
    }
   ],
   "source": [
    "# hide\n",
    "a = TSeries(np.arange(10))\n",
    "ax = show_graph(a)\n",
    "test_graph_exists(ax)\n",
    "\n",
    "a = TSeries(np.random.randn(2,10))[None,:]\n",
    "ax = show_graph(a)\n",
    "test_graph_exists(ax)"
   ]
  },
  {
   "cell_type": "markdown",
   "metadata": {},
   "source": [
    "show_graph can show an array..."
   ]
  },
  {
   "cell_type": "code",
   "execution_count": null,
   "metadata": {},
   "outputs": [
    {
     "data": {
      "image/png": "[encoded data removed]",
      "text/plain": [
       "<Figure size 360x360 with 1 Axes>"
      ]
     },
     "metadata": {
      "needs_background": "light"
     },
     "output_type": "display_data"
    }
   ],
   "source": [
    "a = np.arange(10)\n",
    "ax = show_graph(a)"
   ]
  },
  {
   "cell_type": "code",
   "execution_count": null,
   "metadata": {},
   "outputs": [
    {
     "data": {
      "image/png": "[encoded data removed]",
      "text/plain": [
       "<Figure size 360x360 with 1 Axes>"
      ]
     },
     "metadata": {
      "needs_background": "light"
     },
     "output_type": "display_data"
    }
   ],
   "source": [
    "a = tensor(np.arange(10)+np.random.randn(2,10))[None,:]\n",
    "ax = show_graph(a)"
   ]
  },
  {
   "cell_type": "code",
   "execution_count": null,
   "metadata": {},
   "outputs": [],
   "source": [
    "# export\n",
    "class TensorSeq(TensorBase):\n",
    "    def show(self, ctx=None, **kwargs):\n",
    "        return show_graph(self, ctx=ctx, **kwargs)"
   ]
  },
  {
   "cell_type": "code",
   "execution_count": null,
   "metadata": {},
   "outputs": [
    {
     "data": {
      "image/png": "[encoded data removed]",
      "text/plain": [
       "<Figure size 360x360 with 1 Axes>"
      ]
     },
     "metadata": {
      "needs_background": "light"
     },
     "output_type": "display_data"
    }
   ],
   "source": [
    "ax = TensorSeq(np.arange(10)).show()"
   ]
  },
  {
   "cell_type": "code",
   "execution_count": null,
   "metadata": {},
   "outputs": [],
   "source": [
    "# export\n",
    "class TSTensorSeq(TensorSeq): pass\n",
    "class TSTensorSeqy(TensorSeq):\n",
    "\n",
    "    @classmethod\n",
    "    def create(cls, t)->None:\n",
    "        \"Convert an array or a list of points `t` to a `Tensor`\"\n",
    "        return cls(tensor(t).float())\n",
    "\n",
    "    def show(self, ctx=None, **kwargs):\n",
    "        if 'figsize' in kwargs:\n",
    "            del kwargs['figsize']\n",
    "        array = np.array(self.cpu())\n",
    "        array = no_emp_dim(array)\n",
    "        x_len = self._meta.get('x_len',0)\n",
    "        m = self._meta.get('m','*g')\n",
    "        label = self._meta.get('label','y')\n",
    "        t = np.arange(x_len,x_len+array.shape[1])[None,:]\n",
    "        ctx.plot(t.T, array.T, m, label=label, **kwargs)\n",
    "        ctx.legend()\n",
    "        return ctx\n",
    "\n",
    "TSTensorSeqy.loss_func = MSELossFlat()"
   ]
  },
  {
   "cell_type": "code",
   "execution_count": null,
   "metadata": {},
   "outputs": [
    {
     "data": {
      "text/plain": [
       "<matplotlib.axes._subplots.AxesSubplot at 0x7f2803829a90>"
      ]
     },
     "execution_count": null,
     "metadata": {},
     "output_type": "execute_result"
    },
    {
     "data": {
      "image/png": "[encoded data removed]",
      "text/plain": [
       "<Figure size 360x360 with 1 Axes>"
      ]
     },
     "metadata": {
      "needs_background": "light"
     },
     "output_type": "display_data"
    }
   ],
   "source": [
    "ts = TSTensorSeq(np.arange(10))\n",
    "ctx = ts.show()\n",
    "\n",
    "y = TSTensorSeqy(np.arange(12))\n",
    "y.show(ctx=ctx)"
   ]
  },
  {
   "cell_type": "code",
   "execution_count": null,
   "metadata": {},
   "outputs": [],
   "source": [
    "#export\n",
    "from fastai2.vision.data import *\n",
    "\n",
    "@delegates(subplots)\n",
    "def show_graphs(arrays, rows=None, cols=None, figsize=None, titles=None, **kwargs):\n",
    "    \"Show all images `arrays` as subplots with `rows` using `titles`\"\n",
    "    if titles is None: titles = [None]*len(arrays)\n",
    "    axs = get_grid(len(arrays), rows=rows, cols=cols, add_vert=1, figsize=figsize)\n",
    "    for a,t,ax in zip(arrays, titles, axs):\n",
    "        ctx = show_graph(a[0], ax=ax, title=t)\n",
    "        for y in a[1:]:\n",
    "            ctx = y.show(ctx=ctx)\n",
    "    return axs"
   ]
  },
  {
   "cell_type": "code",
   "execution_count": null,
   "metadata": {},
   "outputs": [
    {
     "data": {
      "text/plain": [
       "[<matplotlib.axes._subplots.AxesSubplot at 0x7f2803736f90>,\n",
       " <matplotlib.axes._subplots.AxesSubplot at 0x7f28037623d0>]"
      ]
     },
     "execution_count": null,
     "metadata": {},
     "output_type": "execute_result"
    },
    {
     "data": {
      "image/png": "[encoded data removed]",
      "text/plain": [
       "<Figure size 720x720 with 2 Axes>"
      ]
     },
     "metadata": {
      "needs_background": "light"
     },
     "output_type": "display_data"
    }
   ],
   "source": [
    "y_hat = TSTensorSeqy(np.array([10.3,10.8,12.2]), x_len=10, m='*r', label='pred')\n",
    "\n",
    "show_graphs(((a, y, y_hat), (a*.7, y*.7, y_hat*.7)), titles=('y','y * .7'), figsize=(10,10))"
   ]
  },
  {
   "cell_type": "code",
   "execution_count": null,
   "metadata": {},
   "outputs": [],
   "source": [
    "# hide\n",
    "test_graph_exists(ax)"
   ]
  },
  {
   "cell_type": "markdown",
   "metadata": {},
   "source": [
    "## Multi Types"
   ]
  },
  {
   "cell_type": "code",
   "execution_count": null,
   "metadata": {},
   "outputs": [],
   "source": [
    "class TSeries(TensorBase):pass"
   ]
  },
  {
   "cell_type": "code",
   "execution_count": null,
   "metadata": {},
   "outputs": [],
   "source": [
    "def no_emp_dim(x):\n",
    "    if len(x.shape)==1 :\n",
    "        x = x[None,:]\n",
    "    return np.vstack(x)\n",
    "\n",
    "def show_graph(array, ax=None, figsize=None, title=None, ctx=None, tx=None, **kwargs):\n",
    "    \"Show an array on `ax`.\"\n",
    "    if hasattrs(array, ('data','cpu','permute')):\n",
    "        array = array.data.cpu()\n",
    "    elif not isinstance(array,np.ndarray):\n",
    "        array=array(array)\n",
    "    arrays = no_emp_dim(array)\n",
    "    ax = ifnone(ax,ctx)\n",
    "    if figsize is None: figsize = (5,5)\n",
    "    if ax is None: _,ax = plt.subplots(figsize=figsize)\n",
    "    tx = ifnone(tx,np.arange(arrays[0].shape[0]))\n",
    "    label = kwargs.pop('label', 'x')\n",
    "    for a, c in zip(arrays, ['b', 'c', 'm', 'y', 'k',]):\n",
    "        ax.plot(tx, a, '-*'+c,label=label, **kwargs)\n",
    "\n",
    "    if title is not None: ax.set_title(title)\n",
    "\n",
    "    ax.legend()\n",
    "#     ax.axis('off')\n",
    "    return ax"
   ]
  },
  {
   "cell_type": "code",
   "execution_count": null,
   "metadata": {},
   "outputs": [],
   "source": [
    "# export\n",
    "import matplotlib.colors as mcolors\n",
    "_colors = [v for k,v in mcolors.TABLEAU_COLORS.items()]\n",
    "_colors += [v for k,v in mcolors.TABLEAU_COLORS.items()]# could be done better but ...\n",
    "class TensorSeqs(TSeries):\n",
    "    \n",
    "    def show(self, ax = None, ctx=None, **kwargs):\n",
    "        ctx = ifnone(ctx, ax)\n",
    "        if ctx is None: _, ctx = plt.subplots(figsize=(5,5))\n",
    "        array = np.array(self.cpu())\n",
    "        arrays = no_emp_dim(array)\n",
    "        m = L(self._meta.get('m',_colors[:len(arrays)]))\n",
    "        labels = L(self._meta.get('label',['x']*len(arrays)))\n",
    "        if arrays.shape[-1] == 0:\n",
    "            if len(labels):\n",
    "                ctx.set_title(ctx.title._text +f\"{labels} is empty\")\n",
    "            return ctx\n",
    "        assert len(m)==len(labels)==len(arrays),f\"{len(m)}=={len(labels)}=={len(arrays)}\" \n",
    "        t = np.arange(array.shape[-1])        \n",
    "        for a, c, label in zip(arrays, m, labels):            \n",
    "            ls = ('-',None) if 'y' not in label else ('None','*' )\n",
    "            ctx.plot(t, a, ls = ls[0], marker = ls[1], c=c, \n",
    "                     **kwargs, label=label)\n",
    "        ctx.legend()\n",
    "        return ctx\n",
    "class TensorSeqsX(TensorSeqs):pass"
   ]
  },
  {
   "cell_type": "code",
   "execution_count": null,
   "metadata": {},
   "outputs": [
    {
     "name": "stdout",
     "output_type": "stream",
     "text": [
      "tensor([[ 0,  1,  2,  3,  4,  5,  6,  7,  8,  9],\n",
      "        [ 2,  3,  4,  5,  6,  7,  8,  9, 10, 11]]) torch.Size([2, 10])\n"
     ]
    }
   ],
   "source": [
    "a = torch.cat([i+torch.arange(10)[None,:] for i in [0,2]])\n",
    "print(a, a.shape)"
   ]
  },
  {
   "cell_type": "code",
   "execution_count": null,
   "metadata": {},
   "outputs": [
    {
     "data": {
      "image/png": "[encoded data removed]",
      "text/plain": [
       "<Figure size 360x360 with 1 Axes>"
      ]
     },
     "metadata": {
      "needs_background": "light"
     },
     "output_type": "display_data"
    }
   ],
   "source": [
    "_, ctx = plt.subplots(figsize=[5,5])\n",
    "ax = TensorSeqs(a, m=['b','k'], label = ['x1','x2y']).show(ctx=ctx)"
   ]
  },
  {
   "cell_type": "code",
   "execution_count": null,
   "metadata": {},
   "outputs": [
    {
     "data": {
      "text/plain": [
       "<matplotlib.axes._subplots.AxesSubplot at 0x7f2800da9290>"
      ]
     },
     "execution_count": null,
     "metadata": {},
     "output_type": "execute_result"
    },
    {
     "data": {
      "image/png": "[encoded data removed]",
      "text/plain": [
       "<Figure size 360x360 with 1 Axes>"
      ]
     },
     "metadata": {
      "needs_background": "light"
     },
     "output_type": "display_data"
    }
   ],
   "source": [
    "# hide\n",
    "# adding extra dim before to see if it than still works\n",
    "TensorSeqs(a[None,:], label = ['x1','x2y']).show()"
   ]
  },
  {
   "cell_type": "code",
   "execution_count": null,
   "metadata": {},
   "outputs": [
    {
     "data": {
      "text/plain": [
       "<matplotlib.axes._subplots.AxesSubplot at 0x7f28030d14d0>"
      ]
     },
     "execution_count": null,
     "metadata": {},
     "output_type": "execute_result"
    },
    {
     "data": {
      "image/png": "[encoded data removed]",
      "text/plain": [
       "<Figure size 360x360 with 1 Axes>"
      ]
     },
     "metadata": {
      "needs_background": "light"
     },
     "output_type": "display_data"
    }
   ],
   "source": [
    "# hide\n",
    "# empty\n",
    "TensorSeqs(np.ones([1,10,0]), label = ['x1','x2y']).show()"
   ]
  },
  {
   "cell_type": "code",
   "execution_count": null,
   "metadata": {},
   "outputs": [
    {
     "data": {
      "image/png": "[encoded data removed]",
      "text/plain": [
       "<Figure size 360x360 with 1 Axes>"
      ]
     },
     "metadata": {
      "needs_background": "light"
     },
     "output_type": "display_data"
    }
   ],
   "source": [
    "# hide\n",
    "test_fail(TensorSeqs(torch.randn(2,10), m='b', label = ['x1','y2']).show)"
   ]
  },
  {
   "cell_type": "code",
   "execution_count": null,
   "metadata": {},
   "outputs": [],
   "source": [
    "# export\n",
    "def _get_its_shape(o):    \n",
    "    if len(o.shape) == 0: return 1, o[None]\n",
    "    return len(o), o\n",
    "    \n",
    "\n",
    "class TensorCon(TSeries):\n",
    "    _name = 'Constant'\n",
    "    def show(self, ax = None, ctx=None):\n",
    "        ax = ifnone(ax,ctx)\n",
    "        if ax is None:\n",
    "            _, ax = plt.subplots(figsize=(5,5))\n",
    "        l, its = _get_its_shape(self)\n",
    "        dct = {k:np.round(its[i].item(),2) for k,i in zip(L(self._meta.get('label',self._name)),range(l))}\n",
    "        if dct == {}:\n",
    "            dct = ''\n",
    "        ax.set_title(ax.title._text +f\"{dct}\")\n",
    "        return ax"
   ]
  },
  {
   "cell_type": "code",
   "execution_count": null,
   "metadata": {},
   "outputs": [
    {
     "data": {
      "text/plain": [
       "<matplotlib.axes._subplots.AxesSubplot at 0x7f2803522d50>"
      ]
     },
     "execution_count": null,
     "metadata": {},
     "output_type": "execute_result"
    },
    {
     "data": {
      "image/png": "[encoded data removed]",
      "text/plain": [
       "<Figure size 360x360 with 1 Axes>"
      ]
     },
     "metadata": {
      "needs_background": "light"
     },
     "output_type": "display_data"
    }
   ],
   "source": [
    "TensorCon([1, 2.5555555555555], label=['a','b']).show()"
   ]
  },
  {
   "cell_type": "code",
   "execution_count": null,
   "metadata": {},
   "outputs": [
    {
     "data": {
      "text/plain": [
       "<matplotlib.axes._subplots.AxesSubplot at 0x7f280347ea50>"
      ]
     },
     "execution_count": null,
     "metadata": {},
     "output_type": "execute_result"
    },
    {
     "data": {
      "image/png": "[encoded data removed]",
      "text/plain": [
       "<Figure size 360x360 with 1 Axes>"
      ]
     },
     "metadata": {
      "needs_background": "light"
     },
     "output_type": "display_data"
    }
   ],
   "source": [
    "TensorCon([[-1.5607],\n",
    "        [-1.5607],\n",
    "        [-1.5607],\n",
    "        [-1.5607],\n",
    "        [ 0.8909],\n",
    "        [ 0.8909],\n",
    "        [ 0.8909],\n",
    "        [ 0.8909],\n",
    "        [-0.0499],\n",
    "        [-0.0499],\n",
    "        [-0.0499],\n",
    "        [-0.0499],\n",
    "        [ 0.7197],\n",
    "        [ 0.7197],\n",
    "        [ 0.7197],\n",
    "        [ 0.7197]]).show()"
   ]
  },
  {
   "cell_type": "code",
   "execution_count": null,
   "metadata": {},
   "outputs": [],
   "source": [
    "# export\n",
    "class TensorCat():  \n",
    "    _name = 'Catagory' \n",
    "    def __init__(self, o, label= None):\n",
    "        if isinstance(o, TensorCat):\n",
    "            o, label = o.o, o._meta['label']\n",
    "        self.o = L(o)    \n",
    "        self._meta ={'label': ifnone(label, ['Catagory_'+str(i) for i in range(len(self.o))])}\n",
    "        self.shape = (len(o),)\n",
    "    def _dct(self):\n",
    "        return {k:v for k,v in zip(self._meta['label'],self.o)}\n",
    "    \n",
    "    def __repr__(self):\n",
    "        return f\"TensorCat({list(self.o)}, label = {list(self._meta['label'])})\"\n",
    "    \n",
    "    def __eq__(self, o):\n",
    "        if isinstance(o, TensorCat):\n",
    "            return self.o == self.o\n",
    "        return False\n",
    "    \n",
    "    def show(self, ax = None, ctx=None):\n",
    "        ax = ifnone(ax,ctx)\n",
    "        if ax is None:\n",
    "            _, ax = plt.subplots(figsize=(5,5))            \n",
    "        dct = self._dct()\n",
    "        if dct == {}:\n",
    "            dct = ''\n",
    "        ax.set_title(ax.title._text +f\"{dct}\")\n",
    "        return ax\n",
    "    \n"
   ]
  },
  {
   "cell_type": "code",
   "execution_count": null,
   "metadata": {},
   "outputs": [
    {
     "name": "stdout",
     "output_type": "stream",
     "text": [
      "2\n"
     ]
    },
    {
     "data": {
      "text/plain": [
       "<matplotlib.axes._subplots.AxesSubplot at 0x7f2803909250>"
      ]
     },
     "execution_count": null,
     "metadata": {},
     "output_type": "execute_result"
    },
    {
     "data": {
      "image/png": "[encoded data removed]",
      "text/plain": [
       "<Figure size 360x360 with 1 Axes>"
      ]
     },
     "metadata": {
      "needs_background": "light"
     },
     "output_type": "display_data"
    }
   ],
   "source": [
    "a =  TensorCat(TensorCat(['a','b'], label=['a','b']))\n",
    "a.show()"
   ]
  },
  {
   "cell_type": "code",
   "execution_count": null,
   "metadata": {},
   "outputs": [
    {
     "data": {
      "text/plain": [
       "True"
      ]
     },
     "execution_count": null,
     "metadata": {},
     "output_type": "execute_result"
    }
   ],
   "source": [
    "a == TensorCat(['a','b'], label=['a','b'])"
   ]
  },
  {
   "cell_type": "code",
   "execution_count": null,
   "metadata": {},
   "outputs": [
    {
     "data": {
      "text/plain": [
       "<matplotlib.axes._subplots.AxesSubplot at 0x7f2803e7b650>"
      ]
     },
     "execution_count": null,
     "metadata": {},
     "output_type": "execute_result"
    },
    {
     "data": {
      "image/png": "[encoded data removed]",
      "text/plain": [
       "<Figure size 360x360 with 1 Axes>"
      ]
     },
     "metadata": {
      "needs_background": "light"
     },
     "output_type": "display_data"
    }
   ],
   "source": [
    "a = TensorCat(['a','b'])\n",
    "a.show()"
   ]
  },
  {
   "cell_type": "code",
   "execution_count": null,
   "metadata": {},
   "outputs": [
    {
     "name": "stdout",
     "output_type": "stream",
     "text": [
      "TensorCat(['a', 'b'], label = ['Catagory_0', 'Catagory_1'])\n"
     ]
    }
   ],
   "source": [
    "print(a)"
   ]
  },
  {
   "cell_type": "markdown",
   "metadata": {},
   "source": [
    "## MultiTuple"
   ]
  },
  {
   "cell_type": "code",
   "execution_count": null,
   "metadata": {},
   "outputs": [],
   "source": [
    "# export\n",
    "class MultiTuple(Tuple):\n",
    "    \"\"\"The same as `Tuple` only stores the types in `_types` and if _meta stores those in `_meta`\"\"\"\n",
    "    def __new__(cls, x, *rest, **kwargs):\n",
    "        r = Tuple.__new__(cls,x, *rest)\n",
    "        r._meta = {i:a._meta for i,a in enumerate(L(r)) if hasattr(a,'_meta')}\n",
    "        r._types = [type(a) for a in L(r)]\n",
    "        return r"
   ]
  },
  {
   "cell_type": "code",
   "execution_count": null,
   "metadata": {},
   "outputs": [
    {
     "data": {
      "text/plain": [
       "((1), {}, [int])"
      ]
     },
     "execution_count": null,
     "metadata": {},
     "output_type": "execute_result"
    }
   ],
   "source": [
    "o = MultiTuple(1)\n",
    "o, o._meta, o._types"
   ]
  },
  {
   "cell_type": "code",
   "execution_count": null,
   "metadata": {},
   "outputs": [
    {
     "name": "stdout",
     "output_type": "stream",
     "text": [
      "{'label': 'x'}\n"
     ]
    },
    {
     "data": {
      "text/plain": [
       "((TensorBase(1), TensorBase(1)),\n",
       " {0: {'label': 'x'}, 1: {'label': 'y'}},\n",
       " [fastai2.torch_core.TensorBase, fastai2.torch_core.TensorBase])"
      ]
     },
     "execution_count": null,
     "metadata": {},
     "output_type": "execute_result"
    }
   ],
   "source": [
    "a = TensorBase(tensor(1), label='x')\n",
    "b = TensorBase(tensor(1), label='y')\n",
    "print(a._meta)\n",
    "o = MultiTuple((a,b))\n",
    "o, getattr(o,'_meta',None), o._types"
   ]
  },
  {
   "cell_type": "code",
   "execution_count": null,
   "metadata": {},
   "outputs": [],
   "source": [
    "# hide\n",
    "test_eq(o._meta,{0: {'label': 'x'}, 1: {'label': 'y'}})\n",
    "test_eq(o._types,[TensorBase, TensorBase])\n",
    "o = MultiTuple(1)\n",
    "test_eq(o._meta,{})\n",
    "test_eq(o._types,[int])"
   ]
  },
  {
   "cell_type": "code",
   "execution_count": null,
   "metadata": {},
   "outputs": [],
   "source": [
    "# export\n",
    "from fastai2.vision.data import get_grid\n",
    "def _show_multituple(t, ax):\n",
    "    for o in t:\n",
    "        ax = o.show(ctx = ax)\n",
    "    return ax\n",
    "\n",
    "def get_ax(ax, ctx, figsize, **kwargs):\n",
    "    ax = ifnone(ax,ctx)\n",
    "    if ax is None:\n",
    "        _, ax = plt.subplots(figsize=figsize, **kwargs)\n",
    "    return ax\n",
    "\n",
    "@delegates(plt.subplots)\n",
    "def show_mt(self, ax = None, ctx=None, figsize = (10,10), **kwargs):\n",
    "    ax = get_ax(ax, ctx, figsize, **kwargs)\n",
    "    return _show_multituple(self, ax)   \n",
    "MultiTuple.show = show_mt"
   ]
  },
  {
   "cell_type": "code",
   "execution_count": null,
   "metadata": {},
   "outputs": [
    {
     "data": {
      "text/markdown": [
       "<h4 id=\"MultiTuple.show\" class=\"doc_header\"><code>MultiTuple.show</code><a href=\"__main__.py#L14\" class=\"source_link\" style=\"float:right\">[source]</a></h4>\n",
       "\n",
       "> <code>MultiTuple.show</code>(**`ax`**=*`None`*, **`ctx`**=*`None`*, **`figsize`**=*`(10, 10)`*, **`nrows`**=*`1`*, **`ncols`**=*`1`*, **`sharex`**=*`False`*, **`sharey`**=*`False`*, **`squeeze`**=*`True`*, **`subplot_kw`**=*`None`*, **`gridspec_kw`**=*`None`*)\n",
       "\n"
      ],
      "text/plain": [
       "<IPython.core.display.Markdown object>"
      ]
     },
     "metadata": {},
     "output_type": "display_data"
    }
   ],
   "source": [
    "show_doc(MultiTuple.show,name='MultiTuple.show')"
   ]
  },
  {
   "cell_type": "code",
   "execution_count": null,
   "metadata": {},
   "outputs": [
    {
     "data": {
      "text/plain": [
       "<matplotlib.axes._subplots.AxesSubplot at 0x7f2803e51490>"
      ]
     },
     "execution_count": null,
     "metadata": {},
     "output_type": "execute_result"
    },
    {
     "data": {
      "image/png": "[encoded data removed]",
      "text/plain": [
       "<Figure size 360x360 with 1 Axes>"
      ]
     },
     "metadata": {
      "needs_background": "light"
     },
     "output_type": "display_data"
    }
   ],
   "source": [
    "x,xts,a,b = TensorSeqs(np.arange(9)[None,:],label=['x'],m=['g']),TensorSeqs(np.arange(1,11)[None,:],label=['tsx']), TensorCon(1,label=['con0']),TensorCon(1, label=['con1'], m='r')\n",
    "y = TensorSeqs(np.arange(10)[None,:],label=['y'])\n",
    "MultiTuple(x,xts,a,b,y).show(figsize = (5,5))"
   ]
  },
  {
   "cell_type": "markdown",
   "metadata": {},
   "source": [
    "# Preprocces functions"
   ]
  },
  {
   "cell_type": "markdown",
   "metadata": {},
   "source": [
    "## M4"
   ]
  },
  {
   "cell_type": "code",
   "execution_count": null,
   "metadata": {},
   "outputs": [],
   "source": [
    "# export\n",
    "def ts_lists(ts:np.ndarray)-> L:\n",
    "    \"\"\"Transforms a `np.ndarray` of shape (timeseries, max_time) to a list of timeseries with shape (1,time).\n",
    "\n",
    "    where:\n",
    "\n",
    "    max_time = the length of the longest timeserie\n",
    "\n",
    "    time = the length of the non-nan values of that specific timeserie\n",
    "    \"\"\"\n",
    "    lst = L()\n",
    "    for time_series in ts:\n",
    "        lst.append(time_series[~np.isnan(time_series)][None,:])\n",
    "    return lst"
   ]
  },
  {
   "cell_type": "code",
   "execution_count": null,
   "metadata": {},
   "outputs": [],
   "source": [
    "# hide\n",
    "ts = np.array([np.arange(0,10.),\n",
    "               np.arange(0,10.)\n",
    "              ])\n",
    "ts[1,-1] = np.NaN\n",
    "\n",
    "r = ts_lists(ts)\n",
    "test_eq(r[0],np.arange(0,10.)[None,:])\n",
    "test_eq(r[1],np.arange(0,9.)[None,:])\n",
    "test_eq(r[0].shape,(1,10))"
   ]
  },
  {
   "cell_type": "code",
   "execution_count": null,
   "metadata": {},
   "outputs": [
    {
     "data": {
      "text/plain": [
       "array([[ 0.,  1.,  2.,  3.,  4.,  5.,  6.,  7.,  8.,  9.],\n",
       "       [ 0.,  1.,  2.,  3.,  4.,  5.,  6.,  7.,  8., nan]])"
      ]
     },
     "execution_count": null,
     "metadata": {},
     "output_type": "execute_result"
    }
   ],
   "source": [
    "ts"
   ]
  },
  {
   "cell_type": "code",
   "execution_count": null,
   "metadata": {},
   "outputs": [
    {
     "data": {
      "text/plain": [
       "(#2) [array([[0., 1., 2., 3., 4., 5., 6., 7., 8., 9.]]),array([[0., 1., 2., 3., 4., 5., 6., 7., 8.]])]"
      ]
     },
     "execution_count": null,
     "metadata": {},
     "output_type": "execute_result"
    }
   ],
   "source": [
    "ts_lists(ts)"
   ]
  },
  {
   "cell_type": "code",
   "execution_count": null,
   "metadata": {},
   "outputs": [
    {
     "name": "stdout",
     "output_type": "stream",
     "text": [
      "Converted 00_core.ipynb.\n",
      "Converted 01_data.external.ipynb.\n",
      "Converted 020_data.load_pd.ipynb.\n",
      "Converted 02_data.load.ipynb.\n",
      "Converted 030_data.core_pd.ipynb.\n",
      "Converted 03_data.core.ipynb.\n",
      "Converted 050_nbeats.models_multi.ipynb.\n",
      "Converted 05_nbeats.models.ipynb.\n",
      "Converted 06_nbeats.callbacks.ipynb.\n",
      "Converted 07_nbeats.learner.ipynb.\n",
      "Converted 08_nbeats.interpret.ipynb.\n",
      "Converted 11_metrics.ipynb.\n",
      "Converted 12_compare.ipynb.\n",
      "Converted index.ipynb.\n"
     ]
    }
   ],
   "source": [
    "# hide\n",
    "from nbdev.export import *\n",
    "notebook2script()"
   ]
  },
  {
   "cell_type": "code",
   "execution_count": null,
   "metadata": {},
   "outputs": [],
   "source": []
  },
  {
   "cell_type": "code",
   "execution_count": null,
   "metadata": {},
   "outputs": [],
   "source": []
  }
 ],
 "metadata": {
  "kernelspec": {
   "display_name": "env37",
   "language": "python",
   "name": "env37"
  }
 },
 "nbformat": 4,
 "nbformat_minor": 4
}
