{
 "cells": [
  {
   "cell_type": "code",
   "execution_count": null,
   "metadata": {},
   "outputs": [],
   "source": [
    "# default_exp core"
   ]
  },
  {
   "cell_type": "markdown",
   "metadata": {},
   "source": [
    "# Core functions\n",
    "\n",
    "> API details."
   ]
  },
  {
   "cell_type": "code",
   "execution_count": null,
   "metadata": {},
   "outputs": [],
   "source": [
    "# hide\n",
    "from nbdev.showdoc import *\n",
    "from fastcore.test import *"
   ]
  },
  {
   "cell_type": "code",
   "execution_count": null,
   "metadata": {},
   "outputs": [
    {
     "name": "stderr",
     "output_type": "stream",
     "text": [
      "/home/tako/dev/env37/lib/python3.7/site-packages/pandas/compat/__init__.py:85: UserWarning: Could not import the lzma module. Your installed Python is incomplete. Attempting to use lzma compression will result in a RuntimeError.\n",
      "  warnings.warn(msg)\n"
     ]
    }
   ],
   "source": [
    "#export\n",
    "from fastcore.all import *\n",
    "import pandas as pd"
   ]
  },
  {
   "cell_type": "markdown",
   "metadata": {},
   "source": [
    "# Preprocces functions"
   ]
  },
  {
   "cell_type": "markdown",
   "metadata": {},
   "source": [
    "## M4"
   ]
  },
  {
   "cell_type": "code",
   "execution_count": null,
   "metadata": {},
   "outputs": [],
   "source": [
    "# export\n",
    "def ts_lists(ts:np.ndarray)-> L:\n",
    "    \"\"\"Transforms a `np.ndarray` of shape (timeseries, max_time) to a list of timeseries with shape (1,time).\n",
    "    \n",
    "    where:\n",
    "    \n",
    "    max_time = the length of the longest timeserie\n",
    "    \n",
    "    time = the length of the non-nan values of that specific timeserie    \n",
    "    \"\"\"\n",
    "    lst = L()\n",
    "    for time_series in ts:\n",
    "        lst.append(time_series[~np.isnan(time_series)][None,:])\n",
    "    return lst"
   ]
  },
  {
   "cell_type": "code",
   "execution_count": null,
   "metadata": {},
   "outputs": [],
   "source": [
    "# hide\n",
    "ts = np.array([np.arange(0,10.),\n",
    "               np.arange(0,10.)\n",
    "              ])\n",
    "ts[1,-1] = np.NaN\n",
    "\n",
    "r = ts_lists(ts)\n",
    "test_eq(r[0],np.arange(0,10.)[None,:])\n",
    "test_eq(r[1],np.arange(0,9.)[None,:])\n",
    "test_eq(r[0].shape,(1,10))"
   ]
  },
  {
   "cell_type": "code",
   "execution_count": null,
   "metadata": {},
   "outputs": [
    {
     "data": {
      "text/plain": [
       "array([[ 0.,  1.,  2.,  3.,  4.,  5.,  6.,  7.,  8.,  9.],\n",
       "       [ 0.,  1.,  2.,  3.,  4.,  5.,  6.,  7.,  8., nan]])"
      ]
     },
     "execution_count": null,
     "metadata": {},
     "output_type": "execute_result"
    }
   ],
   "source": [
    "ts"
   ]
  },
  {
   "cell_type": "code",
   "execution_count": null,
   "metadata": {},
   "outputs": [
    {
     "data": {
      "text/plain": [
       "(#2) [array([[0., 1., 2., 3., 4., 5., 6., 7., 8., 9.]]),array([[0., 1., 2., 3., 4., 5., 6., 7., 8.]])]"
      ]
     },
     "execution_count": null,
     "metadata": {},
     "output_type": "execute_result"
    }
   ],
   "source": [
    "ts_lists(ts)"
   ]
  },
  {
   "cell_type": "markdown",
   "metadata": {},
   "source": [
    "## Gas-usage\n"
   ]
  },
  {
   "cell_type": "code",
   "execution_count": null,
   "metadata": {},
   "outputs": [],
   "source": [
    "# export \n",
    "class ToElapsed():\n",
    "    changed = False    \n",
    "    def __call__(self, s):\n",
    "        if pd.api.types.is_datetime64_any_dtype(s.dtype):            \n",
    "            self.changed = True\n",
    "            return s.astype(np.int64) // 10 ** 9\n",
    "        return s\n",
    "    \n",
    "    def decode(self, s):\n",
    "        if self.changed:    \n",
    "            return pd.Series(pd.to_datetime(s *(10 ** 9)))\n",
    "        return s\n",
    "    "
   ]
  },
  {
   "cell_type": "code",
   "execution_count": null,
   "metadata": {},
   "outputs": [],
   "source": [
    "# hide\n",
    "s = pd.Series([pd.Timestamp('1970')+pd.Timedelta(hours=1)*x for x in range(24)])"
   ]
  },
  {
   "cell_type": "code",
   "execution_count": null,
   "metadata": {},
   "outputs": [
    {
     "data": {
      "text/plain": [
       "0    1970-01-01 00:00:00\n",
       "1    1970-01-01 01:00:00\n",
       "2    1970-01-01 02:00:00\n",
       "3    1970-01-01 03:00:00\n",
       "4    1970-01-01 04:00:00\n",
       "5    1970-01-01 05:00:00\n",
       "6    1970-01-01 06:00:00\n",
       "7    1970-01-01 07:00:00\n",
       "8    1970-01-01 08:00:00\n",
       "9    1970-01-01 09:00:00\n",
       "10   1970-01-01 10:00:00\n",
       "11   1970-01-01 11:00:00\n",
       "12   1970-01-01 12:00:00\n",
       "13   1970-01-01 13:00:00\n",
       "14   1970-01-01 14:00:00\n",
       "15   1970-01-01 15:00:00\n",
       "16   1970-01-01 16:00:00\n",
       "17   1970-01-01 17:00:00\n",
       "18   1970-01-01 18:00:00\n",
       "19   1970-01-01 19:00:00\n",
       "20   1970-01-01 20:00:00\n",
       "21   1970-01-01 21:00:00\n",
       "22   1970-01-01 22:00:00\n",
       "23   1970-01-01 23:00:00\n",
       "dtype: datetime64[ns]"
      ]
     },
     "execution_count": null,
     "metadata": {},
     "output_type": "execute_result"
    }
   ],
   "source": [
    "s"
   ]
  },
  {
   "cell_type": "code",
   "execution_count": null,
   "metadata": {},
   "outputs": [
    {
     "data": {
      "text/plain": [
       "0         0\n",
       "1      3600\n",
       "2      7200\n",
       "3     10800\n",
       "4     14400\n",
       "5     18000\n",
       "6     21600\n",
       "7     25200\n",
       "8     28800\n",
       "9     32400\n",
       "10    36000\n",
       "11    39600\n",
       "12    43200\n",
       "13    46800\n",
       "14    50400\n",
       "15    54000\n",
       "16    57600\n",
       "17    61200\n",
       "18    64800\n",
       "19    68400\n",
       "20    72000\n",
       "21    75600\n",
       "22    79200\n",
       "23    82800\n",
       "dtype: int64"
      ]
     },
     "execution_count": null,
     "metadata": {},
     "output_type": "execute_result"
    }
   ],
   "source": [
    "tmf = ToElapsed()\n",
    "tmf(s)"
   ]
  },
  {
   "cell_type": "code",
   "execution_count": null,
   "metadata": {},
   "outputs": [
    {
     "data": {
      "text/plain": [
       "0    1970-01-01 00:00:00\n",
       "1    1970-01-01 01:00:00\n",
       "2    1970-01-01 02:00:00\n",
       "3    1970-01-01 03:00:00\n",
       "4    1970-01-01 04:00:00\n",
       "5    1970-01-01 05:00:00\n",
       "6    1970-01-01 06:00:00\n",
       "7    1970-01-01 07:00:00\n",
       "8    1970-01-01 08:00:00\n",
       "9    1970-01-01 09:00:00\n",
       "10   1970-01-01 10:00:00\n",
       "11   1970-01-01 11:00:00\n",
       "12   1970-01-01 12:00:00\n",
       "13   1970-01-01 13:00:00\n",
       "14   1970-01-01 14:00:00\n",
       "15   1970-01-01 15:00:00\n",
       "16   1970-01-01 16:00:00\n",
       "17   1970-01-01 17:00:00\n",
       "18   1970-01-01 18:00:00\n",
       "19   1970-01-01 19:00:00\n",
       "20   1970-01-01 20:00:00\n",
       "21   1970-01-01 21:00:00\n",
       "22   1970-01-01 22:00:00\n",
       "23   1970-01-01 23:00:00\n",
       "dtype: datetime64[ns]"
      ]
     },
     "execution_count": null,
     "metadata": {},
     "output_type": "execute_result"
    }
   ],
   "source": [
    "tmf.decode(tmf(s))"
   ]
  },
  {
   "cell_type": "code",
   "execution_count": null,
   "metadata": {},
   "outputs": [],
   "source": [
    "# hide\n",
    "test_eq(tmf(s),\n",
    "       np.arange(0,3600*24,3600))\n",
    "\n",
    "test_eq(tmf.decode(pd.Series(np.arange(0,3600*24,3600))).values,s.values)\n",
    "test_eq_type(tmf.decode(pd.Series(np.arange(0,3600*24,3600))), s)"
   ]
  },
  {
   "cell_type": "code",
   "execution_count": null,
   "metadata": {},
   "outputs": [],
   "source": [
    "# hide\n",
    "tmf = ToElapsed()\n",
    "test_eq(tmf(pd.Series(np.arange(0,3600*24,3600))),\n",
    "       np.arange(0,3600*24,3600))\n",
    "\n",
    "test_eq(tmf.decode(pd.Series(np.arange(0,3600*24,3600))),\n",
    "       np.arange(0,3600*24,3600))"
   ]
  },
  {
   "cell_type": "code",
   "execution_count": null,
   "metadata": {},
   "outputs": [],
   "source": [
    "# export\n",
    "def make_interval(\n",
    "    df: pd.DataFrame,\n",
    "    to_split_col:str='datetime',\n",
    "    interval=3600,\n",
    "    max_splits=100000,\n",
    "    callback_error=None,\n",
    ") -> L(pd.DataFrame):\n",
    "    \"\"\"Will check if column `to_split_col` in `df` has interval size of `interval`, \n",
    "    if not will make it happen and return a list where this is done.\n",
    "    \n",
    "    This works both when type of `to_split_col` is numeric or `pd.Timestamp`\n",
    "    \n",
    "    \"\"\"\n",
    "    tmf = ToElapsed()\n",
    "    df[to_split_col] = tmf(df[to_split_col])    \n",
    "    df.index = df[to_split_col]\n",
    "    df = df.sort_index()\n",
    "    index = df.index.to_numpy()\n",
    "    df[\"delta\"] = abs(\n",
    "        (df[to_split_col] - df[to_split_col].shift(1))\n",
    "    )    \n",
    "    mask = df[\"delta\"] != interval\n",
    "    starts = np.arange(len(mask))[mask]\n",
    "    ends = list(starts[1:])+L(len(mask))\n",
    "    \n",
    "    del df[\"delta\"]\n",
    "\n",
    "    if len(ends) > max_splits:\n",
    "        if callback_error:\n",
    "            callback_error()\n",
    "        raise Exception(\n",
    "            f\"number of splits {len(not_hour)} > {max_splits}: \\n{not_hour}\"\n",
    "        )\n",
    "#     print(starts,ends)\n",
    "    dfs = L()\n",
    "    for start, end in zip(starts, ends):\n",
    "        _df = df.iloc[start: end,:]\n",
    "        _df.loc[:,to_split_col] = tmf.decode(_df[to_split_col])\n",
    "        dfs.append(_df)\n",
    "\n",
    "    return dfs"
   ]
  },
  {
   "cell_type": "code",
   "execution_count": null,
   "metadata": {},
   "outputs": [],
   "source": [
    "# hide\n",
    "df_start = pd.DataFrame({'dt':np.arange(0,10),\n",
    "                  'x':np.arange(0,10),\n",
    "                  })\n",
    "df_end = pd.DataFrame({'dt':np.arange(15,20),\n",
    "                  'x':np.arange(0,5) ,\n",
    "                  })\n",
    "df = df_start.append(df_end)"
   ]
  },
  {
   "cell_type": "code",
   "execution_count": null,
   "metadata": {},
   "outputs": [
    {
     "data": {
      "text/html": [
       "<div>\n",
       "<style scoped>\n",
       "    .dataframe tbody tr th:only-of-type {\n",
       "        vertical-align: middle;\n",
       "    }\n",
       "\n",
       "    .dataframe tbody tr th {\n",
       "        vertical-align: top;\n",
       "    }\n",
       "\n",
       "    .dataframe thead th {\n",
       "        text-align: right;\n",
       "    }\n",
       "</style>\n",
       "<table border=\"1\" class=\"dataframe\">\n",
       "  <thead>\n",
       "    <tr style=\"text-align: right;\">\n",
       "      <th></th>\n",
       "      <th>0</th>\n",
       "      <th>1</th>\n",
       "      <th>2</th>\n",
       "      <th>3</th>\n",
       "      <th>4</th>\n",
       "      <th>5</th>\n",
       "      <th>6</th>\n",
       "      <th>7</th>\n",
       "      <th>8</th>\n",
       "      <th>9</th>\n",
       "      <th>0</th>\n",
       "      <th>1</th>\n",
       "      <th>2</th>\n",
       "      <th>3</th>\n",
       "      <th>4</th>\n",
       "    </tr>\n",
       "  </thead>\n",
       "  <tbody>\n",
       "    <tr>\n",
       "      <th>dt</th>\n",
       "      <td>0</td>\n",
       "      <td>1</td>\n",
       "      <td>2</td>\n",
       "      <td>3</td>\n",
       "      <td>4</td>\n",
       "      <td>5</td>\n",
       "      <td>6</td>\n",
       "      <td>7</td>\n",
       "      <td>8</td>\n",
       "      <td>9</td>\n",
       "      <td>15</td>\n",
       "      <td>16</td>\n",
       "      <td>17</td>\n",
       "      <td>18</td>\n",
       "      <td>19</td>\n",
       "    </tr>\n",
       "    <tr>\n",
       "      <th>x</th>\n",
       "      <td>0</td>\n",
       "      <td>1</td>\n",
       "      <td>2</td>\n",
       "      <td>3</td>\n",
       "      <td>4</td>\n",
       "      <td>5</td>\n",
       "      <td>6</td>\n",
       "      <td>7</td>\n",
       "      <td>8</td>\n",
       "      <td>9</td>\n",
       "      <td>0</td>\n",
       "      <td>1</td>\n",
       "      <td>2</td>\n",
       "      <td>3</td>\n",
       "      <td>4</td>\n",
       "    </tr>\n",
       "  </tbody>\n",
       "</table>\n",
       "</div>"
      ],
      "text/plain": [
       "    0  1  2  3  4  5  6  7  8  9   0   1   2   3   4\n",
       "dt  0  1  2  3  4  5  6  7  8  9  15  16  17  18  19\n",
       "x   0  1  2  3  4  5  6  7  8  9   0   1   2   3   4"
      ]
     },
     "execution_count": null,
     "metadata": {},
     "output_type": "execute_result"
    }
   ],
   "source": [
    "df.T"
   ]
  },
  {
   "cell_type": "code",
   "execution_count": null,
   "metadata": {},
   "outputs": [
    {
     "data": {
      "text/html": [
       "<div>\n",
       "<style scoped>\n",
       "    .dataframe tbody tr th:only-of-type {\n",
       "        vertical-align: middle;\n",
       "    }\n",
       "\n",
       "    .dataframe tbody tr th {\n",
       "        vertical-align: top;\n",
       "    }\n",
       "\n",
       "    .dataframe thead th {\n",
       "        text-align: right;\n",
       "    }\n",
       "</style>\n",
       "<table border=\"1\" class=\"dataframe\">\n",
       "  <thead>\n",
       "    <tr style=\"text-align: right;\">\n",
       "      <th></th>\n",
       "      <th>dt</th>\n",
       "      <th>x</th>\n",
       "    </tr>\n",
       "    <tr>\n",
       "      <th>dt</th>\n",
       "      <th></th>\n",
       "      <th></th>\n",
       "    </tr>\n",
       "  </thead>\n",
       "  <tbody>\n",
       "    <tr>\n",
       "      <th>0</th>\n",
       "      <td>0</td>\n",
       "      <td>0</td>\n",
       "    </tr>\n",
       "    <tr>\n",
       "      <th>1</th>\n",
       "      <td>1</td>\n",
       "      <td>1</td>\n",
       "    </tr>\n",
       "    <tr>\n",
       "      <th>2</th>\n",
       "      <td>2</td>\n",
       "      <td>2</td>\n",
       "    </tr>\n",
       "    <tr>\n",
       "      <th>3</th>\n",
       "      <td>3</td>\n",
       "      <td>3</td>\n",
       "    </tr>\n",
       "    <tr>\n",
       "      <th>4</th>\n",
       "      <td>4</td>\n",
       "      <td>4</td>\n",
       "    </tr>\n",
       "    <tr>\n",
       "      <th>5</th>\n",
       "      <td>5</td>\n",
       "      <td>5</td>\n",
       "    </tr>\n",
       "    <tr>\n",
       "      <th>6</th>\n",
       "      <td>6</td>\n",
       "      <td>6</td>\n",
       "    </tr>\n",
       "    <tr>\n",
       "      <th>7</th>\n",
       "      <td>7</td>\n",
       "      <td>7</td>\n",
       "    </tr>\n",
       "    <tr>\n",
       "      <th>8</th>\n",
       "      <td>8</td>\n",
       "      <td>8</td>\n",
       "    </tr>\n",
       "    <tr>\n",
       "      <th>9</th>\n",
       "      <td>9</td>\n",
       "      <td>9</td>\n",
       "    </tr>\n",
       "  </tbody>\n",
       "</table>\n",
       "</div>"
      ],
      "text/plain": [
       "    dt  x\n",
       "dt       \n",
       "0    0  0\n",
       "1    1  1\n",
       "2    2  2\n",
       "3    3  3\n",
       "4    4  4\n",
       "5    5  5\n",
       "6    6  6\n",
       "7    7  7\n",
       "8    8  8\n",
       "9    9  9"
      ]
     },
     "execution_count": null,
     "metadata": {},
     "output_type": "execute_result"
    }
   ],
   "source": [
    "r = make_interval(df,'dt',1)\n",
    "r[0]"
   ]
  },
  {
   "cell_type": "code",
   "execution_count": null,
   "metadata": {},
   "outputs": [
    {
     "data": {
      "text/html": [
       "<div>\n",
       "<style scoped>\n",
       "    .dataframe tbody tr th:only-of-type {\n",
       "        vertical-align: middle;\n",
       "    }\n",
       "\n",
       "    .dataframe tbody tr th {\n",
       "        vertical-align: top;\n",
       "    }\n",
       "\n",
       "    .dataframe thead th {\n",
       "        text-align: right;\n",
       "    }\n",
       "</style>\n",
       "<table border=\"1\" class=\"dataframe\">\n",
       "  <thead>\n",
       "    <tr style=\"text-align: right;\">\n",
       "      <th></th>\n",
       "      <th>dt</th>\n",
       "      <th>x</th>\n",
       "    </tr>\n",
       "    <tr>\n",
       "      <th>dt</th>\n",
       "      <th></th>\n",
       "      <th></th>\n",
       "    </tr>\n",
       "  </thead>\n",
       "  <tbody>\n",
       "    <tr>\n",
       "      <th>15</th>\n",
       "      <td>15</td>\n",
       "      <td>0</td>\n",
       "    </tr>\n",
       "    <tr>\n",
       "      <th>16</th>\n",
       "      <td>16</td>\n",
       "      <td>1</td>\n",
       "    </tr>\n",
       "    <tr>\n",
       "      <th>17</th>\n",
       "      <td>17</td>\n",
       "      <td>2</td>\n",
       "    </tr>\n",
       "    <tr>\n",
       "      <th>18</th>\n",
       "      <td>18</td>\n",
       "      <td>3</td>\n",
       "    </tr>\n",
       "    <tr>\n",
       "      <th>19</th>\n",
       "      <td>19</td>\n",
       "      <td>4</td>\n",
       "    </tr>\n",
       "  </tbody>\n",
       "</table>\n",
       "</div>"
      ],
      "text/plain": [
       "    dt  x\n",
       "dt       \n",
       "15  15  0\n",
       "16  16  1\n",
       "17  17  2\n",
       "18  18  3\n",
       "19  19  4"
      ]
     },
     "execution_count": null,
     "metadata": {},
     "output_type": "execute_result"
    }
   ],
   "source": [
    "r[1]"
   ]
  },
  {
   "cell_type": "code",
   "execution_count": null,
   "metadata": {},
   "outputs": [],
   "source": [
    "# hide\n",
    "r = make_interval(df,'dt',1)\n",
    "test_eq(len(r),2)\n",
    "\n",
    "test_eq(r[0],df_start)\n",
    "test_eq(r[1],df_end)\n",
    "\n",
    "test_eq(r[0].shape,df_start.shape)\n",
    "test_eq(r[1].shape,df_end.shape)"
   ]
  },
  {
   "cell_type": "code",
   "execution_count": null,
   "metadata": {},
   "outputs": [],
   "source": [
    "# hide\n",
    "df_start = pd.DataFrame({'datetime':[pd.Timestamp('1970-01-01')+pd.Timedelta(hours=1)*x for x in range(48)],\n",
    "                  'x':np.arange(0,48),\n",
    "                  })\n",
    "df_end = pd.DataFrame({'datetime':[pd.Timestamp('1970-01-04')+pd.Timedelta(hours=1)*x for x in range(24)],\n",
    "                  'x':np.arange(0,24),\n",
    "                  })\n",
    "df = df_start.append(df_end)\n",
    "\n",
    "r = make_interval(df,'datetime', 3600)\n",
    "test_eq(len(r),2)\n",
    "\n",
    "test_eq(r[0].values, df_start.values)\n",
    "test_eq(r[1].values, df_end.values)\n",
    "\n",
    "test_eq(r[0].shape,df_start.shape)\n",
    "test_eq(r[1].shape,df_end.shape)\n"
   ]
  },
  {
   "cell_type": "code",
   "execution_count": null,
   "metadata": {},
   "outputs": [],
   "source": [
    "# export\n",
    "def melted_ts_2_lists(ts:pd.DataFrame, melted_col_name:str, **kwargs)->L:\n",
    "    dfs = L()\n",
    "    for c in set(ts[melted_col_name]):\n",
    "        _df = ts[ts[melted_col_name] == c]\n",
    "        r = make_interval(_df,**kwargs)\n",
    "        dfs += r\n",
    "    return dfs"
   ]
  },
  {
   "cell_type": "code",
   "execution_count": null,
   "metadata": {},
   "outputs": [
    {
     "data": {
      "text/plain": [
       "<matplotlib.axes._subplots.AxesSubplot at 0x7fd2dd3bfc90>"
      ]
     },
     "execution_count": null,
     "metadata": {},
     "output_type": "execute_result"
    },
    {
     "data": {
      "image/png": "[encoded data removed]",
      "text/plain": [
       "<Figure size 432x288 with 1 Axes>"
      ]
     },
     "metadata": {
      "needs_background": "light"
     },
     "output_type": "display_data"
    }
   ],
   "source": [
    "df_start = pd.DataFrame({'dt':np.arange(0,100),\n",
    "                  'x':L([1]*50) + L([2]*50),\n",
    "                  })\n",
    "df_end = pd.DataFrame({'dt':np.arange(102,152),\n",
    "                  'x':L([2]*50) ,\n",
    "                  })\n",
    "df = df_start.append(df_end)\n",
    "df.plot(x='dt',y='x',marker='*')"
   ]
  },
  {
   "cell_type": "code",
   "execution_count": null,
   "metadata": {},
   "outputs": [
    {
     "name": "stdout",
     "output_type": "stream",
     "text": [
      "[0] (#1) [50]\n",
      "[ 0 50] (#2) [50,100]\n"
     ]
    },
    {
     "name": "stderr",
     "output_type": "stream",
     "text": [
      "/home/tako/dev/env37/lib/python3.7/site-packages/ipykernel_launcher.py:14: SettingWithCopyWarning: \n",
      "A value is trying to be set on a copy of a slice from a DataFrame.\n",
      "Try using .loc[row_indexer,col_indexer] = value instead\n",
      "\n",
      "See the caveats in the documentation: http://pandas.pydata.org/pandas-docs/stable/user_guide/indexing.html#returning-a-view-versus-a-copy\n",
      "  \n"
     ]
    }
   ],
   "source": [
    "r = melted_ts_2_lists(df,'x',to_split_col='dt',interval=1)\n",
    "test_eq(type(r), type(L(0)))\n",
    "test_eq(len(r), 3)\n",
    "\n",
    "test_eq_type(r[2], df_end)\n",
    "\n",
    "test_eq(r[0].shape, (50,2))\n",
    "test_eq(r[1].shape, (50,2))\n",
    "test_eq(r[2].shape, (50,2))"
   ]
  },
  {
   "cell_type": "code",
   "execution_count": null,
   "metadata": {},
   "outputs": [
    {
     "ename": "TypeError",
     "evalue": "test_nb() missing 1 required positional argument: 'fn'",
     "output_type": "error",
     "traceback": [
      "\u001b[0;31m---------------------------------------------------------------------------\u001b[0m",
      "\u001b[0;31mTypeError\u001b[0m                                 Traceback (most recent call last)",
      "\u001b[0;32m<ipython-input-288-31893d17bf20>\u001b[0m in \u001b[0;36m<module>\u001b[0;34m\u001b[0m\n\u001b[1;32m      1\u001b[0m \u001b[0;31m# hide\u001b[0m\u001b[0;34m\u001b[0m\u001b[0;34m\u001b[0m\u001b[0;34m\u001b[0m\u001b[0m\n\u001b[1;32m      2\u001b[0m \u001b[0;32mfrom\u001b[0m \u001b[0mnbdev\u001b[0m\u001b[0;34m.\u001b[0m\u001b[0mtest\u001b[0m \u001b[0;32mimport\u001b[0m \u001b[0;34m*\u001b[0m\u001b[0;34m\u001b[0m\u001b[0;34m\u001b[0m\u001b[0m\n\u001b[0;32m----> 3\u001b[0;31m \u001b[0mtest_nb\u001b[0m\u001b[0;34m(\u001b[0m\u001b[0;34m)\u001b[0m\u001b[0;34m\u001b[0m\u001b[0;34m\u001b[0m\u001b[0m\n\u001b[0m\u001b[1;32m      4\u001b[0m \u001b[0;34m\u001b[0m\u001b[0m\n\u001b[1;32m      5\u001b[0m \u001b[0;32mfrom\u001b[0m \u001b[0mnbdev\u001b[0m\u001b[0;34m.\u001b[0m\u001b[0mexport\u001b[0m \u001b[0;32mimport\u001b[0m \u001b[0;34m*\u001b[0m\u001b[0;34m\u001b[0m\u001b[0;34m\u001b[0m\u001b[0m\n",
      "\u001b[0;31mTypeError\u001b[0m: test_nb() missing 1 required positional argument: 'fn'"
     ]
    }
   ],
   "source": [
    "# hide\n",
    "from nbdev.test import *\n",
    "test_nb()\n",
    "\n",
    "from nbdev.export import *\n",
    "notebook2script()\n",
    "\n"
   ]
  },
  {
   "cell_type": "code",
   "execution_count": null,
   "metadata": {},
   "outputs": [],
   "source": [
    "from nbdev import export"
   ]
  },
  {
   "cell_type": "code",
   "execution_count": null,
   "metadata": {},
   "outputs": [
    {
     "data": {
      "text/plain": [
       "['Config',\n",
       " 'ConfigParser',\n",
       " 'DocsTestClass',\n",
       " 'IN_COLAB',\n",
       " 'IN_IPYTHON',\n",
       " 'IN_NOTEBOOK',\n",
       " 'NotebookNotary',\n",
       " 'Optional',\n",
       " 'Param',\n",
       " 'Path',\n",
       " 'Process',\n",
       " 'ProcessPoolExecutor',\n",
       " 'Queue',\n",
       " 'ReLibName',\n",
       " 'TextWrapper',\n",
       " 'Union',\n",
       " '_EmptyModule',\n",
       " '__all__',\n",
       " '__builtins__',\n",
       " '__cached__',\n",
       " '__doc__',\n",
       " '__file__',\n",
       " '__loader__',\n",
       " '__name__',\n",
       " '__package__',\n",
       " '__spec__',\n",
       " '_add2add',\n",
       " '_deal_import',\n",
       " '_not_private',\n",
       " '_notebook2script',\n",
       " '_re__all__def',\n",
       " '_re_all_def',\n",
       " '_re_baseurl',\n",
       " '_re_blank_export',\n",
       " '_re_class_func_def',\n",
       " '_re_default_exp',\n",
       " '_re_import',\n",
       " '_re_import1',\n",
       " '_re_index_custom',\n",
       " '_re_index_idx',\n",
       " '_re_index_mod',\n",
       " '_re_mod_export',\n",
       " '_re_obj_def',\n",
       " '_re_patch_func',\n",
       " '_re_typedispatch_func',\n",
       " '_re_version',\n",
       " 'add_init',\n",
       " 'add_new_defaults',\n",
       " 'anno_parser',\n",
       " 'args_from_prog',\n",
       " 'bool_arg',\n",
       " 'call_parse',\n",
       " 'check_re',\n",
       " 'collections',\n",
       " 'compose',\n",
       " 'concurrent',\n",
       " 'core',\n",
       " 'create_config',\n",
       " 'create_mod_file',\n",
       " 'enum',\n",
       " 'export_names',\n",
       " 'extra_add',\n",
       " 'find_default_export',\n",
       " 'get_nbdev_module',\n",
       " 'glob',\n",
       " 'importlib',\n",
       " 'in_colab',\n",
       " 'in_ipython',\n",
       " 'in_notebook',\n",
       " 'inspect',\n",
       " 'is_export',\n",
       " 'json',\n",
       " 'last_index',\n",
       " 'lru_cache',\n",
       " 'nbformat',\n",
       " 'notebook2script',\n",
       " 'num_cpus',\n",
       " 'os',\n",
       " 'parallel',\n",
       " 'partial',\n",
       " 'pickle',\n",
       " 'random',\n",
       " 're',\n",
       " 'read_config_file',\n",
       " 'read_nb',\n",
       " 'relative_import',\n",
       " 'reset_nbdev_module',\n",
       " 'save_config_file',\n",
       " 'save_nbdev_module',\n",
       " 'set_trace',\n",
       " 'shutil',\n",
       " 'stat',\n",
       " 'tempfile',\n",
       " 'test_eq',\n",
       " 'time',\n",
       " 'update_baseurl',\n",
       " 'update_version',\n",
       " 'yaml']"
      ]
     },
     "execution_count": null,
     "metadata": {},
     "output_type": "execute_result"
    }
   ],
   "source": [
    "dir(export)"
   ]
  },
  {
   "cell_type": "code",
   "execution_count": null,
   "metadata": {},
   "outputs": [],
   "source": []
  }
 ],
 "metadata": {
  "kernelspec": {
   "display_name": "env37",
   "language": "python",
   "name": "env37"
  }
 },
 "nbformat": 4,
 "nbformat_minor": 4
}
