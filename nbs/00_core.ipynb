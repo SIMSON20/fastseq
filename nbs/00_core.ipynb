{
 "cells": [
  {
   "cell_type": "code",
   "execution_count": null,
   "metadata": {},
   "outputs": [],
   "source": [
    "# default_exp core"
   ]
  },
  {
   "cell_type": "markdown",
   "metadata": {},
   "source": [
    "# Core functions\n",
    "\n",
    "> API details."
   ]
  },
  {
   "cell_type": "code",
   "execution_count": null,
   "metadata": {},
   "outputs": [],
   "source": [
    "# hide\n",
    "from nbdev.showdoc import *\n",
    "from fastcore.test import *"
   ]
  },
  {
   "cell_type": "code",
   "execution_count": null,
   "metadata": {},
   "outputs": [
    {
     "name": "stderr",
     "output_type": "stream",
     "text": [
      "/home/tako/dev/env37/lib/python3.7/site-packages/pandas/compat/__init__.py:85: UserWarning: Could not import the lzma module. Your installed Python is incomplete. Attempting to use lzma compression will result in a RuntimeError.\n",
      "  warnings.warn(msg)\n"
     ]
    }
   ],
   "source": [
    "#export\n",
    "from fastcore.all import *\n",
    "import pandas as pd"
   ]
  },
  {
   "cell_type": "markdown",
   "metadata": {},
   "source": [
    "# Preprocces functions"
   ]
  },
  {
   "cell_type": "markdown",
   "metadata": {},
   "source": [
    "## M4"
   ]
  },
  {
   "cell_type": "code",
   "execution_count": null,
   "metadata": {},
   "outputs": [],
   "source": [
    "# export\n",
    "def ts_lists(ts:np.ndarray)-> L:\n",
    "    \"\"\"From a `ndarray` of shape (timeseries, max_time) to a list of timeseries with shape (1,time).\n",
    "    \n",
    "    max_time = the lenght of the longest timeserie\n",
    "    time = the lenght of the non-nan values of that specific timeserie    \n",
    "    \"\"\"\n",
    "    lst = L()\n",
    "    for time_series in ts:\n",
    "        lst.append(time_series[~np.isnan(time_series)][None,:])\n",
    "    return lst"
   ]
  },
  {
   "cell_type": "code",
   "execution_count": null,
   "metadata": {},
   "outputs": [],
   "source": [
    "ts = np.array([np.arange(0,10.),\n",
    "               np.arange(0,10.)\n",
    "              ])\n",
    "ts[1,-1] = np.NaN\n",
    "\n",
    "test_eq(ts_lists(ts)[0],np.arange(0,10.)[None,:])\n",
    "test_eq(ts_lists(ts)[1],np.arange(0,9.)[None,:])\n",
    "test_eq(ts_lists(ts)[0].shape,(1,10))"
   ]
  },
  {
   "cell_type": "markdown",
   "metadata": {},
   "source": [
    "## Gas-usage\n"
   ]
  },
  {
   "cell_type": "code",
   "execution_count": null,
   "metadata": {},
   "outputs": [],
   "source": [
    "# export \n",
    "\n",
    "class ToElapsed():\n",
    "    changed = False    \n",
    "    def __call__(self, s):\n",
    "        if pd.api.types.is_datetime64_any_dtype(s.dtype):            \n",
    "            self.changed = True\n",
    "            return s.astype(np.int64) // 10 ** 9\n",
    "        return s\n",
    "    \n",
    "    def decode(self, s):\n",
    "        if self.changed:    \n",
    "            return pd.Series(pd.to_datetime(s *(10 ** 9)))\n",
    "        return s\n",
    "    "
   ]
  },
  {
   "cell_type": "code",
   "execution_count": null,
   "metadata": {},
   "outputs": [
    {
     "data": {
      "text/plain": [
       "False"
      ]
     },
     "execution_count": null,
     "metadata": {},
     "output_type": "execute_result"
    }
   ],
   "source": [
    "pd.Series(pd.Timestamp('1970')).astype(np.int64)// 10 ** 9\n",
    "s = pd.Series(pd.Timestamp('1970-1-1 01:00')).astype(np.int64)// 10 ** 9\n",
    "pd.api.types.is_datetime64_any_dtype(s.dtype)"
   ]
  },
  {
   "cell_type": "code",
   "execution_count": null,
   "metadata": {},
   "outputs": [],
   "source": [
    "tmf = ToElapsed()\n",
    "test_eq(tmf(pd.Series([pd.Timestamp('1970')+pd.Timedelta(hours=1)*x for x in range(24)])),\n",
    "       np.arange(0,3600*24,3600))\n",
    "\n",
    "test_eq(tmf.decode(pd.Series(np.arange(0,3600*24,3600))),\n",
    "        pd.Series([pd.Timestamp('1970')+pd.Timedelta(hours=1)*x for x in range(24)]))\n",
    "\n",
    "test_eq_type(tmf.decode(pd.Series(np.arange(0,3600*24,3600)))[0], pd.Timestamp('1970'))\n"
   ]
  },
  {
   "cell_type": "code",
   "execution_count": null,
   "metadata": {},
   "outputs": [],
   "source": [
    "tmf = ToElapsed()\n",
    "test_eq(tmf(pd.Series(np.arange(0,3600*24,3600))),\n",
    "       np.arange(0,3600*24,3600))\n",
    "\n",
    "test_eq(tmf.decode(pd.Series(np.arange(0,3600*24,3600))),\n",
    "       np.arange(0,3600*24,3600))"
   ]
  },
  {
   "cell_type": "code",
   "execution_count": null,
   "metadata": {},
   "outputs": [],
   "source": [
    "# export\n",
    "def make_interval(\n",
    "    df: pd.DataFrame,\n",
    "    to_split_col:str='datetime',\n",
    "    interval=3600,\n",
    "    max_splits=100000,\n",
    "    callback_error=None,\n",
    ") -> L(pd.DataFrame):\n",
    "    \"\"\"Will check if `df.datetime` has interval of `interval` in seconds. \n",
    "    \n",
    "    if not will make it happen and return a list where this is done.\n",
    "    \"\"\"\n",
    "    tmf = ToElapsed()\n",
    "    df[to_split_col] = tmf(df[to_split_col])    \n",
    "    df.index = df[to_split_col]\n",
    "    df = df.sort_index()\n",
    "    index = df.index.to_numpy()\n",
    "    df[\"delta\"] = abs(\n",
    "        (df[to_split_col] - df[to_split_col].shift(1))\n",
    "    )    \n",
    "    mask = df[\"delta\"] != interval\n",
    "    starts = np.arange(len(mask))[mask]\n",
    "    ends = list(starts[1:])+L(len(mask))\n",
    "    \n",
    "    del df[\"delta\"]\n",
    "\n",
    "    if len(ends) > max_splits:\n",
    "        if callback_error:\n",
    "            callback_error()\n",
    "        raise Exception(\n",
    "            f\"number of splits {len(not_hour)} > {max_splits}: \\n{not_hour}\"\n",
    "        )\n",
    "    print(starts,ends)\n",
    "    dfs = L()\n",
    "    for start, end in zip(starts, ends):\n",
    "        _df = df.iloc[start: end,:]\n",
    "        _df.loc[:,to_split_col] = tmf.decode(_df[to_split_col])\n",
    "        dfs.append(_df)\n",
    "\n",
    "    return dfs"
   ]
  },
  {
   "cell_type": "code",
   "execution_count": null,
   "metadata": {},
   "outputs": [
    {
     "name": "stdout",
     "output_type": "stream",
     "text": [
      "[ 0 10] (#2) [10,15]\n"
     ]
    }
   ],
   "source": [
    "df_start = pd.DataFrame({'dt':np.arange(0,10),\n",
    "                  'x':np.arange(0,10),\n",
    "                  })\n",
    "df_end = pd.DataFrame({'dt':np.arange(15,20),\n",
    "                  'x':np.arange(0,5) ,\n",
    "                  })\n",
    "df = df_start.append(df_end)\n",
    "\n",
    "r = make_interval(df,'dt',1)\n",
    "\n",
    "test_eq(len(r),2)\n",
    "\n",
    "test_eq(r[0],df_start)\n",
    "test_eq(r[1],df_end)\n",
    "\n",
    "test_eq(r[0].shape,df_start.shape)\n",
    "test_eq(r[1].shape,df_end.shape)\n"
   ]
  },
  {
   "cell_type": "code",
   "execution_count": null,
   "metadata": {},
   "outputs": [
    {
     "name": "stdout",
     "output_type": "stream",
     "text": [
      "[ 0 48] (#2) [48,72]\n"
     ]
    }
   ],
   "source": [
    "df_start = pd.DataFrame({'datetime':[pd.Timestamp('1970-01-01')+pd.Timedelta(hours=1)*x for x in range(48)],\n",
    "                  'x':np.arange(0,48),\n",
    "                  })\n",
    "df_end = pd.DataFrame({'datetime':[pd.Timestamp('1970-01-04')+pd.Timedelta(hours=1)*x for x in range(24)],\n",
    "                  'x':np.arange(0,24),\n",
    "                  })\n",
    "df = df_start.append(df_end)\n",
    "\n",
    "r = make_interval(df,'datetime', 3600)\n",
    "test_eq(len(r),2)\n",
    "\n",
    "test_eq(r[0].values, df_start.values)\n",
    "test_eq(r[1].values, df_end.values)\n",
    "\n",
    "test_eq(r[0].shape,df_start.shape)\n",
    "test_eq(r[1].shape,df_end.shape)\n"
   ]
  },
  {
   "cell_type": "code",
   "execution_count": null,
   "metadata": {},
   "outputs": [],
   "source": [
    "# export\n",
    "def melted_ts_2_lists(ts:pd.DataFrame, melted_col_name:str, **kwargs)->L:\n",
    "    dfs = L()\n",
    "    for c in set(ts[melted_col_name]):\n",
    "        _df = ts[ts[melted_col_name] == c]\n",
    "        r = make_interval(_df,**kwargs)\n",
    "        dfs += r\n",
    "    return dfs"
   ]
  },
  {
   "cell_type": "code",
   "execution_count": null,
   "metadata": {},
   "outputs": [
    {
     "data": {
      "text/plain": [
       "<matplotlib.axes._subplots.AxesSubplot at 0x7fd2dd3bfc90>"
      ]
     },
     "execution_count": null,
     "metadata": {},
     "output_type": "execute_result"
    },
    {
     "data": {
      "image/png": "[encoded data removed]",
      "text/plain": [
       "<Figure size 432x288 with 1 Axes>"
      ]
     },
     "metadata": {
      "needs_background": "light"
     },
     "output_type": "display_data"
    }
   ],
   "source": [
    "df_start = pd.DataFrame({'dt':np.arange(0,100),\n",
    "                  'x':L([1]*50) + L([2]*50),\n",
    "                  })\n",
    "df_end = pd.DataFrame({'dt':np.arange(102,152),\n",
    "                  'x':L([2]*50) ,\n",
    "                  })\n",
    "df = df_start.append(df_end)\n",
    "df.plot(x='dt',y='x',marker='*')"
   ]
  },
  {
   "cell_type": "code",
   "execution_count": null,
   "metadata": {},
   "outputs": [
    {
     "name": "stdout",
     "output_type": "stream",
     "text": [
      "[0] (#1) [50]\n",
      "[ 0 50] (#2) [50,100]\n"
     ]
    },
    {
     "name": "stderr",
     "output_type": "stream",
     "text": [
      "/home/tako/dev/env37/lib/python3.7/site-packages/ipykernel_launcher.py:14: SettingWithCopyWarning: \n",
      "A value is trying to be set on a copy of a slice from a DataFrame.\n",
      "Try using .loc[row_indexer,col_indexer] = value instead\n",
      "\n",
      "See the caveats in the documentation: http://pandas.pydata.org/pandas-docs/stable/user_guide/indexing.html#returning-a-view-versus-a-copy\n",
      "  \n"
     ]
    }
   ],
   "source": [
    "r = melted_ts_2_lists(df,'x',to_split_col='dt',interval=1)\n",
    "test_eq(type(r), type(L(0)))\n",
    "test_eq(len(r), 3)\n",
    "\n",
    "test_eq_type(r[2], df_end)\n",
    "\n",
    "test_eq(r[0].shape, (50,2))\n",
    "test_eq(r[1].shape, (50,2))\n",
    "test_eq(r[2].shape, (50,2))"
   ]
  },
  {
   "cell_type": "markdown",
   "metadata": {},
   "source": [
    "# Fin"
   ]
  },
  {
   "cell_type": "code",
   "execution_count": null,
   "metadata": {},
   "outputs": [
    {
     "name": "stdout",
     "output_type": "stream",
     "text": [
      "Converted 00_core.ipynb.\n",
      "Converted 01_data.external.ipynb.\n",
      "This cell doesn't have an export destination and was ignored:\n",
      " \n",
      "Converted 02_deep4cast_m4_example.ipynb.\n",
      "Converted 03_data.load.ipynb.\n",
      "Converted 04_data.transforms.ipynb.\n",
      "Converted 05_models.wavenet.ipynb.\n",
      "Converted index.ipynb.\n"
     ]
    }
   ],
   "source": [
    "# hide\n",
    "from nbdev.export import *\n",
    "\n",
    "notebook2script()"
   ]
  },
  {
   "cell_type": "code",
   "execution_count": null,
   "metadata": {},
   "outputs": [],
   "source": []
  }
 ],
 "metadata": {
  "kernelspec": {
   "display_name": "env37",
   "language": "python",
   "name": "env37"
  }
 },
 "nbformat": 4,
 "nbformat_minor": 4
}
