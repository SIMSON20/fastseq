{
 "cells": [
  {
   "cell_type": "code",
   "execution_count": 1,
   "metadata": {
    "Collapsed": "false"
   },
   "outputs": [],
   "source": [
    "# default_exp core"
   ]
  },
  {
   "cell_type": "code",
   "execution_count": 2,
   "metadata": {
    "Collapsed": "false"
   },
   "outputs": [
    {
     "name": "stderr",
     "output_type": "stream",
     "text": [
      "/home/tako/dev/env37/lib/python3.7/site-packages/pandas/compat/__init__.py:117: UserWarning: Could not import the lzma module. Your installed Python is incomplete. Attempting to use lzma compression will result in a RuntimeError.\n",
      "  warnings.warn(msg)\n"
     ]
    }
   ],
   "source": [
    "#hide\n",
    "import sys\n",
    "sys.path.append('..')\n",
    "import pandas as pd"
   ]
  },
  {
   "cell_type": "code",
   "execution_count": 3,
   "metadata": {
    "Collapsed": "false"
   },
   "outputs": [],
   "source": [
    "# hide\n",
    "from nbdev.showdoc import *\n",
    "from fastcore.test import *"
   ]
  },
  {
   "cell_type": "code",
   "execution_count": 4,
   "metadata": {
    "Collapsed": "false"
   },
   "outputs": [],
   "source": [
    "#export\n",
    "from fastcore.all import *\n",
    "from fastai2.basics import *\n",
    "import pandas as pd\n",
    "import numpy as np"
   ]
  },
  {
   "cell_type": "markdown",
   "metadata": {
    "Collapsed": "false"
   },
   "source": [
    "# Core functions\n",
    "\n",
    "> API details."
   ]
  },
  {
   "cell_type": "markdown",
   "metadata": {
    "Collapsed": "false"
   },
   "source": [
    "## Utils"
   ]
  },
  {
   "cell_type": "code",
   "execution_count": 5,
   "metadata": {
    "Collapsed": "false"
   },
   "outputs": [],
   "source": [
    "# export\n",
    "from git import Repo\n",
    "from nbdev.export import Config as nb_Config\n",
    "from nbdev.export import *\n",
    "\n",
    "def git_add(fname, commit_msg='.'):\n",
    "    repo = Repo(nb_Config().nbs_path.parent)\n",
    "    notebook2script(fname)\n",
    "    nb = read_nb(fname)\n",
    "    default = find_default_export(nb['cells'])\n",
    "    py = [os.path.join(nb_Config().lib_path,*default.split('.'))+'.py',\n",
    "          os.path.join(nb_Config().nbs_path,fname)\n",
    "         ]\n",
    "    repo.index.add(py)\n",
    "    repo.index.commit(commit_msg)\n",
    "    return py\n",
    "    "
   ]
  },
  {
   "cell_type": "code",
   "execution_count": 6,
   "metadata": {
    "Collapsed": "false"
   },
   "outputs": [
    {
     "name": "stdout",
     "output_type": "stream",
     "text": [
      "Converted 00_core.ipynb.\n"
     ]
    },
    {
     "data": {
      "text/plain": [
       "['/home/tako/dev/fastseq/fastseq/core.py',\n",
       " '/home/tako/dev/fastseq/nbs/00_core.ipynb']"
      ]
     },
     "execution_count": 6,
     "metadata": {},
     "output_type": "execute_result"
    }
   ],
   "source": [
    "fname = '00_core.ipynb'\n",
    "git_add(fname)"
   ]
  },
  {
   "cell_type": "code",
   "execution_count": 7,
   "metadata": {
    "Collapsed": "false"
   },
   "outputs": [],
   "source": [
    "# export\n",
    "from typing import List\n",
    "def same_size_ts(ts:pd.Series, ts_names:List[str]):    \n",
    "    all_same = [[(ts[c].shape == ts[a].shape) for c in ts_names] for a in ts_names]\n",
    "    mask = np.array(all_same)    \n",
    "    return np.sum(mask) == len(ts_names)**2\n",
    "    \n",
    "    \n",
    "    "
   ]
  },
  {
   "cell_type": "code",
   "execution_count": 8,
   "metadata": {
    "Collapsed": "false"
   },
   "outputs": [],
   "source": [
    "df = pd.DataFrame(data={'ts_0':[pd.Series(np.arange(10)),\n",
    "                           pd.Series(np.arange(10))],\n",
    "                   'ts_1':[pd.Series(np.arange(1,11)),\n",
    "                           pd.Series(np.arange(1,12))],\n",
    "                   'var_0':[0.,1.],\n",
    "                   'con_0':[0,1]})\n",
    "for i, row in df.iterrows():\n",
    "    if i == 0:\n",
    "        test_eq(same_size_ts(row,['ts_0','ts_1']),True)\n",
    "    if i == 1:\n",
    "        test_eq(same_size_ts(row,['ts_0','ts_1']),False)"
   ]
  },
  {
   "cell_type": "code",
   "execution_count": 9,
   "metadata": {
    "Collapsed": "false"
   },
   "outputs": [],
   "source": [
    "# export\n",
    "def get_part_of_ts(x, lookback_id, length, pad=np.mean):\n",
    "    if len(x.shape) == 1:\n",
    "        x = x[None,:]\n",
    "    if isinstance(x[0,0],int):\n",
    "        x = x.astype(float)\n",
    "    if x.shape[-1] < length:\n",
    "        # If the time series is too short, we pad\n",
    "        padding = pad(x, -1)\n",
    "        x = tensor(np.pad(\n",
    "            x, # report issue https://github.com/numpy/numpy/issues/15606\n",
    "            pad_width=((0, 0), (length - x.shape[-1], 0)),\n",
    "            mode='constant',\n",
    "            constant_values=padding\n",
    "        )).float()\n",
    "        assert x.shape == (x.shape[0],length), f\"{x.shape}\\t,{lookback_id}, 'tsshape':{x.shape}\"\n",
    "    else:\n",
    "        x = tensor(x[:,lookback_id:lookback_id + length]).float()\n",
    "    return x\n"
   ]
  },
  {
   "cell_type": "code",
   "execution_count": 10,
   "metadata": {
    "Collapsed": "false"
   },
   "outputs": [],
   "source": [
    "x = np.arange(10)\n",
    "test_eq(get_part_of_ts(x, 2, 5), torch.arange(2,7.)[None,:])\n",
    "x = np.arange(10)[None,:]\n",
    "test_eq(get_part_of_ts(x, 2, 5), torch.arange(2,7.)[None,:])\n",
    "test_eq(get_part_of_ts(x, 0, 11), tensor([[4., 0, 1, 2, 3, 4, 5, 6, 7, 8, 9]]))\n",
    "x = np.vstack([np.arange(10)]*2)\n",
    "test_eq(get_part_of_ts(x, 2, 5), torch.cat([torch.arange(2,7.)[None,:]]*2))\n",
    "test_eq(get_part_of_ts(x, 0, 11), tensor([[4., 0, 1, 2, 3, 4, 5, 6, 7, 8, 9],\n",
    "                                          [4, 0, 1, 2, 3, 4, 5, 6, 7, 8, 9]]))\n",
    "\n",
    "# report issue https://github.com/numpy/numpy/issues/15606\n",
    "x = np.arange(10)[None,:]\n",
    "# test_eq(get_part_of_ts(x, 0, 11), tensor([[4.5, 0, 1, 2, 3, 4, 5, 6, 7, 8, 9]]))"
   ]
  },
  {
   "cell_type": "code",
   "execution_count": 11,
   "metadata": {
    "Collapsed": "false"
   },
   "outputs": [],
   "source": [
    "# export\n",
    "def first_item(lst):\n",
    "    if type(lst)==list or type(lst) == L:\n",
    "        return lst[0]\n",
    "    return lst"
   ]
  },
  {
   "cell_type": "code",
   "execution_count": 12,
   "metadata": {
    "Collapsed": "false"
   },
   "outputs": [],
   "source": [
    "l = L(1,2,3)\n",
    "test_eq(first_item(l),1)\n",
    "l = [1,2,3]\n",
    "test_eq(first_item(l),1)\n",
    "test_eq(1,1)"
   ]
  },
  {
   "cell_type": "code",
   "execution_count": 13,
   "metadata": {
    "Collapsed": "false"
   },
   "outputs": [],
   "source": [
    "# export\n",
    "\n",
    "def concat_dct(new_dct, expand_dct):\n",
    "    \"\"\"Concatanates `torch.tensor`'s in `new_dct` to the same `key` in expand_dct'.\"\"\"\n",
    "    for k,v in new_dct.items():\n",
    "        if isinstance(v,torch.Tensor):\n",
    "            if k in expand_dct:\n",
    "                expand_dct[k] = torch.cat([expand_dct[k],v], axis = 0)\n",
    "            else:\n",
    "                expand_dct[k] = v\n",
    "        else:\n",
    "            if k in expand_dct:\n",
    "                expand_dct[k] = concat_dct(new_dct[k], expand_dct[k])\n",
    "            else:\n",
    "                expand_dct[k] = concat_dct(new_dct[k], {})\n",
    "\n",
    "    return expand_dct"
   ]
  },
  {
   "cell_type": "code",
   "execution_count": 14,
   "metadata": {
    "Collapsed": "false"
   },
   "outputs": [
    {
     "name": "stdout",
     "output_type": "stream",
     "text": [
      "torch.Size([4, 4])\n",
      "torch.Size([8, 4])\n",
      "torch.Size([16, 4])\n"
     ]
    }
   ],
   "source": [
    "dct = defaultdict(dict)\n",
    "new_d = {'foo':{'bar':torch.randn(4,4)}}\n",
    "dct = concat_dct(new_d, dct)\n",
    "print(dct['foo']['bar'].shape)\n",
    "new_d = {'foo':{'bar':torch.randn(4,4)+10}}\n",
    "dct = concat_dct(new_d, dct)\n",
    "print(dct['foo']['bar'].shape)\n",
    "new_d = {'foo':{'bar':torch.randn(8,4)+10}}\n",
    "dct = concat_dct(new_d, dct)\n",
    "print(dct['foo']['bar'].shape)"
   ]
  },
  {
   "cell_type": "code",
   "execution_count": 15,
   "metadata": {
    "Collapsed": "false"
   },
   "outputs": [],
   "source": [
    "# export\n",
    "def pad_zeros(X, lenght):\n",
    "    return  np.pad(\n",
    "                X,\n",
    "                pad_width=((0, 0), (lenght - X.shape[-1], 0)),\n",
    "                mode='constant',\n",
    "                constant_values=0\n",
    "            )"
   ]
  },
  {
   "cell_type": "code",
   "execution_count": 16,
   "metadata": {
    "Collapsed": "false"
   },
   "outputs": [],
   "source": [
    "# export\n",
    "def Skip(percentage_remove):\n",
    "    \"\"\"Helper function for `pd.read_csv` and will randomly not load `percentage_remove`% of the whole dataset \"\"\"\n",
    "\n",
    "    def skip(x):\n",
    "        if (np.random.rand() < percentage_remove or x == 0):\n",
    "            return False\n",
    "        return True\n",
    "    return skip"
   ]
  },
  {
   "cell_type": "code",
   "execution_count": 17,
   "metadata": {
    "Collapsed": "false"
   },
   "outputs": [],
   "source": [
    "l = []\n",
    "skip = Skip(.9)\n",
    "for i in range(10000):\n",
    "    if not skip(i):\n",
    "        l.append(1)\n",
    "    else:\n",
    "        l.append(0)    \n",
    "test_eq(l[0],1)\n",
    "test_close(np.mean(l),.9,.01)"
   ]
  },
  {
   "cell_type": "code",
   "execution_count": 18,
   "metadata": {
    "Collapsed": "false"
   },
   "outputs": [
    {
     "data": {
      "text/html": [
       "<div>\n",
       "<style scoped>\n",
       "    .dataframe tbody tr th:only-of-type {\n",
       "        vertical-align: middle;\n",
       "    }\n",
       "\n",
       "    .dataframe tbody tr th {\n",
       "        vertical-align: top;\n",
       "    }\n",
       "\n",
       "    .dataframe thead th {\n",
       "        text-align: right;\n",
       "    }\n",
       "</style>\n",
       "<table border=\"1\" class=\"dataframe\">\n",
       "  <thead>\n",
       "    <tr style=\"text-align: right;\">\n",
       "      <th></th>\n",
       "      <th>V1</th>\n",
       "      <th>V2</th>\n",
       "      <th>V3</th>\n",
       "      <th>V4</th>\n",
       "      <th>V5</th>\n",
       "      <th>V6</th>\n",
       "      <th>V7</th>\n",
       "      <th>V8</th>\n",
       "      <th>V9</th>\n",
       "      <th>V10</th>\n",
       "      <th>V11</th>\n",
       "      <th>V12</th>\n",
       "      <th>V13</th>\n",
       "      <th>V14</th>\n",
       "      <th>V15</th>\n",
       "    </tr>\n",
       "  </thead>\n",
       "  <tbody>\n",
       "    <tr>\n",
       "      <th>0</th>\n",
       "      <td>D1</td>\n",
       "      <td>2039.2000</td>\n",
       "      <td>2035.0000</td>\n",
       "      <td>2051.8000</td>\n",
       "      <td>2061.8000</td>\n",
       "      <td>2063.5000</td>\n",
       "      <td>2069.5000</td>\n",
       "      <td>2054.0000</td>\n",
       "      <td>2057.0000</td>\n",
       "      <td>2062.8000</td>\n",
       "      <td>2066.4000</td>\n",
       "      <td>2067.4000</td>\n",
       "      <td>2071.4000</td>\n",
       "      <td>2083.800</td>\n",
       "      <td>2080.6000</td>\n",
       "    </tr>\n",
       "    <tr>\n",
       "      <th>1</th>\n",
       "      <td>D2</td>\n",
       "      <td>2986.0000</td>\n",
       "      <td>3001.2000</td>\n",
       "      <td>2975.9000</td>\n",
       "      <td>2996.1000</td>\n",
       "      <td>2981.9000</td>\n",
       "      <td>2985.5000</td>\n",
       "      <td>2975.8000</td>\n",
       "      <td>2956.2000</td>\n",
       "      <td>2964.7000</td>\n",
       "      <td>2989.0000</td>\n",
       "      <td>2991.4000</td>\n",
       "      <td>3024.9000</td>\n",
       "      <td>3070.800</td>\n",
       "      <td>3076.9000</td>\n",
       "    </tr>\n",
       "    <tr>\n",
       "      <th>2</th>\n",
       "      <td>D3</td>\n",
       "      <td>1120.7000</td>\n",
       "      <td>1117.9000</td>\n",
       "      <td>1115.1000</td>\n",
       "      <td>1112.3000</td>\n",
       "      <td>1109.5000</td>\n",
       "      <td>1106.7000</td>\n",
       "      <td>1103.9000</td>\n",
       "      <td>1101.1000</td>\n",
       "      <td>1098.3000</td>\n",
       "      <td>1095.5000</td>\n",
       "      <td>1092.7000</td>\n",
       "      <td>1089.9000</td>\n",
       "      <td>1087.100</td>\n",
       "      <td>1084.3000</td>\n",
       "    </tr>\n",
       "    <tr>\n",
       "      <th>3</th>\n",
       "      <td>D5</td>\n",
       "      <td>5904.6700</td>\n",
       "      <td>5917.0500</td>\n",
       "      <td>5922.5800</td>\n",
       "      <td>5928.8000</td>\n",
       "      <td>5935.2900</td>\n",
       "      <td>6002.8000</td>\n",
       "      <td>6009.4700</td>\n",
       "      <td>6014.8200</td>\n",
       "      <td>6020.1900</td>\n",
       "      <td>6072.4900</td>\n",
       "      <td>6077.7200</td>\n",
       "      <td>6080.2300</td>\n",
       "      <td>6082.750</td>\n",
       "      <td>6108.0700</td>\n",
       "    </tr>\n",
       "    <tr>\n",
       "      <th>4</th>\n",
       "      <td>D6</td>\n",
       "      <td>3182.0525</td>\n",
       "      <td>3147.0985</td>\n",
       "      <td>3143.8503</td>\n",
       "      <td>3128.2005</td>\n",
       "      <td>3229.8279</td>\n",
       "      <td>3263.2599</td>\n",
       "      <td>3303.5956</td>\n",
       "      <td>3314.0879</td>\n",
       "      <td>3335.8389</td>\n",
       "      <td>3314.8839</td>\n",
       "      <td>3403.4529</td>\n",
       "      <td>3424.7502</td>\n",
       "      <td>3280.184</td>\n",
       "      <td>3338.7257</td>\n",
       "    </tr>\n",
       "    <tr>\n",
       "      <th>...</th>\n",
       "      <td>...</td>\n",
       "      <td>...</td>\n",
       "      <td>...</td>\n",
       "      <td>...</td>\n",
       "      <td>...</td>\n",
       "      <td>...</td>\n",
       "      <td>...</td>\n",
       "      <td>...</td>\n",
       "      <td>...</td>\n",
       "      <td>...</td>\n",
       "      <td>...</td>\n",
       "      <td>...</td>\n",
       "      <td>...</td>\n",
       "      <td>...</td>\n",
       "      <td>...</td>\n",
       "    </tr>\n",
       "    <tr>\n",
       "      <th>3797</th>\n",
       "      <td>D4220</td>\n",
       "      <td>4263.0000</td>\n",
       "      <td>4257.0000</td>\n",
       "      <td>4267.0000</td>\n",
       "      <td>4267.0000</td>\n",
       "      <td>4174.0000</td>\n",
       "      <td>4175.0000</td>\n",
       "      <td>4176.0000</td>\n",
       "      <td>4195.0000</td>\n",
       "      <td>4207.0000</td>\n",
       "      <td>4218.0000</td>\n",
       "      <td>4219.0000</td>\n",
       "      <td>4214.0000</td>\n",
       "      <td>4204.000</td>\n",
       "      <td>4203.0000</td>\n",
       "    </tr>\n",
       "    <tr>\n",
       "      <th>3798</th>\n",
       "      <td>D4221</td>\n",
       "      <td>1969.5000</td>\n",
       "      <td>1978.0000</td>\n",
       "      <td>1973.5000</td>\n",
       "      <td>1981.5000</td>\n",
       "      <td>1971.5000</td>\n",
       "      <td>1962.0000</td>\n",
       "      <td>1967.5000</td>\n",
       "      <td>1993.5000</td>\n",
       "      <td>2016.0000</td>\n",
       "      <td>2015.0000</td>\n",
       "      <td>1994.5000</td>\n",
       "      <td>1999.0000</td>\n",
       "      <td>2003.000</td>\n",
       "      <td>1999.7630</td>\n",
       "    </tr>\n",
       "    <tr>\n",
       "      <th>3799</th>\n",
       "      <td>D4223</td>\n",
       "      <td>3050.0000</td>\n",
       "      <td>3125.0000</td>\n",
       "      <td>3262.0000</td>\n",
       "      <td>3262.0000</td>\n",
       "      <td>3520.0000</td>\n",
       "      <td>3520.0000</td>\n",
       "      <td>3515.0000</td>\n",
       "      <td>3494.0000</td>\n",
       "      <td>3494.0000</td>\n",
       "      <td>3494.0000</td>\n",
       "      <td>3494.0000</td>\n",
       "      <td>3494.0000</td>\n",
       "      <td>3494.000</td>\n",
       "      <td>3494.0000</td>\n",
       "    </tr>\n",
       "    <tr>\n",
       "      <th>3800</th>\n",
       "      <td>D4225</td>\n",
       "      <td>4014.0000</td>\n",
       "      <td>4023.0000</td>\n",
       "      <td>4056.0000</td>\n",
       "      <td>4070.0000</td>\n",
       "      <td>4085.0000</td>\n",
       "      <td>4095.0000</td>\n",
       "      <td>4118.0000</td>\n",
       "      <td>4110.0000</td>\n",
       "      <td>4159.0000</td>\n",
       "      <td>4167.0000</td>\n",
       "      <td>4145.0000</td>\n",
       "      <td>4168.0000</td>\n",
       "      <td>4068.000</td>\n",
       "      <td>4066.0000</td>\n",
       "    </tr>\n",
       "    <tr>\n",
       "      <th>3801</th>\n",
       "      <td>D4226</td>\n",
       "      <td>1486.2200</td>\n",
       "      <td>1501.3900</td>\n",
       "      <td>1502.1500</td>\n",
       "      <td>1497.6400</td>\n",
       "      <td>1489.7200</td>\n",
       "      <td>1494.7500</td>\n",
       "      <td>1497.4100</td>\n",
       "      <td>1500.5700</td>\n",
       "      <td>1492.2000</td>\n",
       "      <td>1489.0800</td>\n",
       "      <td>1495.5600</td>\n",
       "      <td>1488.2100</td>\n",
       "      <td>1493.630</td>\n",
       "      <td>1487.3000</td>\n",
       "    </tr>\n",
       "  </tbody>\n",
       "</table>\n",
       "<p>3802 rows × 15 columns</p>\n",
       "</div>"
      ],
      "text/plain": [
       "         V1         V2         V3         V4         V5         V6         V7  \\\n",
       "0        D1  2039.2000  2035.0000  2051.8000  2061.8000  2063.5000  2069.5000   \n",
       "1        D2  2986.0000  3001.2000  2975.9000  2996.1000  2981.9000  2985.5000   \n",
       "2        D3  1120.7000  1117.9000  1115.1000  1112.3000  1109.5000  1106.7000   \n",
       "3        D5  5904.6700  5917.0500  5922.5800  5928.8000  5935.2900  6002.8000   \n",
       "4        D6  3182.0525  3147.0985  3143.8503  3128.2005  3229.8279  3263.2599   \n",
       "...     ...        ...        ...        ...        ...        ...        ...   \n",
       "3797  D4220  4263.0000  4257.0000  4267.0000  4267.0000  4174.0000  4175.0000   \n",
       "3798  D4221  1969.5000  1978.0000  1973.5000  1981.5000  1971.5000  1962.0000   \n",
       "3799  D4223  3050.0000  3125.0000  3262.0000  3262.0000  3520.0000  3520.0000   \n",
       "3800  D4225  4014.0000  4023.0000  4056.0000  4070.0000  4085.0000  4095.0000   \n",
       "3801  D4226  1486.2200  1501.3900  1502.1500  1497.6400  1489.7200  1494.7500   \n",
       "\n",
       "             V8         V9        V10        V11        V12        V13  \\\n",
       "0     2054.0000  2057.0000  2062.8000  2066.4000  2067.4000  2071.4000   \n",
       "1     2975.8000  2956.2000  2964.7000  2989.0000  2991.4000  3024.9000   \n",
       "2     1103.9000  1101.1000  1098.3000  1095.5000  1092.7000  1089.9000   \n",
       "3     6009.4700  6014.8200  6020.1900  6072.4900  6077.7200  6080.2300   \n",
       "4     3303.5956  3314.0879  3335.8389  3314.8839  3403.4529  3424.7502   \n",
       "...         ...        ...        ...        ...        ...        ...   \n",
       "3797  4176.0000  4195.0000  4207.0000  4218.0000  4219.0000  4214.0000   \n",
       "3798  1967.5000  1993.5000  2016.0000  2015.0000  1994.5000  1999.0000   \n",
       "3799  3515.0000  3494.0000  3494.0000  3494.0000  3494.0000  3494.0000   \n",
       "3800  4118.0000  4110.0000  4159.0000  4167.0000  4145.0000  4168.0000   \n",
       "3801  1497.4100  1500.5700  1492.2000  1489.0800  1495.5600  1488.2100   \n",
       "\n",
       "           V14        V15  \n",
       "0     2083.800  2080.6000  \n",
       "1     3070.800  3076.9000  \n",
       "2     1087.100  1084.3000  \n",
       "3     6082.750  6108.0700  \n",
       "4     3280.184  3338.7257  \n",
       "...        ...        ...  \n",
       "3797  4204.000  4203.0000  \n",
       "3798  2003.000  1999.7630  \n",
       "3799  3494.000  3494.0000  \n",
       "3800  4068.000  4066.0000  \n",
       "3801  1493.630  1487.3000  \n",
       "\n",
       "[3802 rows x 15 columns]"
      ]
     },
     "execution_count": 18,
     "metadata": {},
     "output_type": "execute_result"
    }
   ],
   "source": [
    "from fastseq.data.external import *\n",
    "from fastai2.basics import *\n",
    "path = untar_data(URLs.m4_daily)\n",
    "pd.read_csv(path/'val.csv',skiprows = Skip(.9))"
   ]
  },
  {
   "cell_type": "code",
   "execution_count": 19,
   "metadata": {
    "Collapsed": "false"
   },
   "outputs": [],
   "source": [
    "#export\n",
    "# TODO skip will skip different rows for train and val\n",
    "\n",
    "def get_ts_files(path, recurse=True, folders=None, **kwargs):\n",
    "    \"Get image files in `path` recursively, only in `folders`, if specified.\"\n",
    "    items = []\n",
    "    for f in get_files(path, extensions=['.csv'], recurse=recurse, folders=folders):\n",
    "        df = pd.read_csv(f, **kwargs)\n",
    "        items.append(ts_lists(df.iloc[:, 1:].values))\n",
    "    return items"
   ]
  },
  {
   "cell_type": "code",
   "execution_count": 20,
   "metadata": {
    "Collapsed": "false"
   },
   "outputs": [],
   "source": [
    "# train, val = get_ts_files(path, nrows=1000)"
   ]
  },
  {
   "cell_type": "code",
   "execution_count": 21,
   "metadata": {
    "Collapsed": "false"
   },
   "outputs": [],
   "source": [
    "# export\n",
    "def IndexsSplitter(train_idx, val_idx=None, test=None):\n",
    "    \"\"\"Split `items` from 0 to `train_idx` in the training set, from `train_idx` to `val_idx` (or the end) in the validation set.\n",
    "\n",
    "    Optionly if `test` will  in test set will also make test from val_idx to end.\n",
    "    \"\"\"\n",
    "    _val_idx = ifnone(val_idx,-1)\n",
    "    do_test = ifnone(test, False)\n",
    "    def _inner(items, **kwargs):\n",
    "        if _val_idx == -1:\n",
    "            val_idx = len(items)\n",
    "        else:\n",
    "            val_idx = _val_idx\n",
    "        train = L(np.arange(0, train_idx), use_list=True)\n",
    "        valid = L(np.arange(train_idx, val_idx), use_list=True)\n",
    "        if do_test:\n",
    "            test = L(np.arange(val_idx,len(items)), use_list=True)\n",
    "            return train, valid, test\n",
    "        if not val_idx == len(items):\n",
    "            warnings.warn(\"You lose data\")\n",
    "        return train, valid\n",
    "    return _inner"
   ]
  },
  {
   "cell_type": "code",
   "execution_count": 22,
   "metadata": {
    "Collapsed": "false"
   },
   "outputs": [
    {
     "name": "stderr",
     "output_type": "stream",
     "text": [
      "/home/tako/dev/env37/lib/python3.7/site-packages/ipykernel_launcher.py:20: UserWarning: You lose data\n"
     ]
    }
   ],
   "source": [
    "items = list(range(10))\n",
    "splitter = IndexsSplitter(5,8)\n",
    "test_eq(splitter(items),(L(0,1,2,3,4),L(5,6,7)))"
   ]
  },
  {
   "cell_type": "code",
   "execution_count": 23,
   "metadata": {
    "Collapsed": "false"
   },
   "outputs": [],
   "source": [
    "splitter = IndexsSplitter(5,8,True)\n",
    "test_eq(splitter(items),(L(0,1,2,3,4),L(5,6,7),L(8,9)))"
   ]
  },
  {
   "cell_type": "markdown",
   "metadata": {
    "Collapsed": "false"
   },
   "source": [
    "## Uni Types"
   ]
  },
  {
   "cell_type": "code",
   "execution_count": 24,
   "metadata": {
    "Collapsed": "false"
   },
   "outputs": [],
   "source": [
    "# export\n",
    "class TSeries(TensorBase):pass"
   ]
  },
  {
   "cell_type": "code",
   "execution_count": 25,
   "metadata": {
    "Collapsed": "false"
   },
   "outputs": [],
   "source": [
    "#export\n",
    "\n",
    "def no_emp_dim(x):\n",
    "    if len(x.shape)==1 :\n",
    "        x = x[None,:]\n",
    "    return np.vstack(x)\n",
    "\n",
    "def show_graph(array, ax=None, figsize=None, title=None, ctx=None, tx=None, **kwargs):\n",
    "    \"Show an array on `ax`.\"\n",
    "    # Handle pytorch axis order\n",
    "    if hasattrs(array, ('data','cpu','permute')):\n",
    "        array = array.data.cpu()\n",
    "    elif not isinstance(array,np.ndarray):\n",
    "        array=array(array)\n",
    "    arrays = no_emp_dim(array)\n",
    "    ax = ifnone(ax,ctx)\n",
    "    if figsize is None: figsize = (5,5)\n",
    "    if ax is None: _,ax = plt.subplots(figsize=figsize)\n",
    "    tx = ifnone(tx,np.arange(arrays[0].shape[0]))\n",
    "    label = kwargs.pop('label', 'x')\n",
    "    for a, c in zip(arrays, ['b', 'c', 'm', 'y', 'k',]):\n",
    "        ax.plot(tx, a, '-*'+c,label=label, **kwargs)\n",
    "\n",
    "    if title is not None: ax.set_title(title)\n",
    "\n",
    "    ax.legend()\n",
    "#     ax.axis('off')\n",
    "    return ax"
   ]
  },
  {
   "cell_type": "code",
   "execution_count": 26,
   "metadata": {
    "Collapsed": "false"
   },
   "outputs": [],
   "source": [
    "# export\n",
    "def test_graph_exists(ax):\n",
    "    \"Test there is a graph displayed in `ax`\"\n",
    "    assert ax"
   ]
  },
  {
   "cell_type": "code",
   "execution_count": 27,
   "metadata": {
    "Collapsed": "false"
   },
   "outputs": [
    {
     "data": {
      "image/png": "[encoded data removed]",
      "text/plain": [
       "<Figure size 360x360 with 1 Axes>"
      ]
     },
     "metadata": {
      "needs_background": "light"
     },
     "output_type": "display_data"
    },
    {
     "data": {
      "image/png": "[encoded data removed]",
      "text/plain": [
       "<Figure size 360x360 with 1 Axes>"
      ]
     },
     "metadata": {
      "needs_background": "light"
     },
     "output_type": "display_data"
    }
   ],
   "source": [
    "# hide\n",
    "a = TSeries(np.arange(10))\n",
    "ax = show_graph(a)\n",
    "test_graph_exists(ax)\n",
    "\n",
    "a = TSeries(np.random.randn(2,10))[None,:]\n",
    "ax = show_graph(a)\n",
    "test_graph_exists(ax)"
   ]
  },
  {
   "cell_type": "markdown",
   "metadata": {
    "Collapsed": "false"
   },
   "source": [
    "show_graph can show an array..."
   ]
  },
  {
   "cell_type": "code",
   "execution_count": 28,
   "metadata": {
    "Collapsed": "false"
   },
   "outputs": [
    {
     "data": {
      "image/png": "[encoded data removed]",
      "text/plain": [
       "<Figure size 360x360 with 1 Axes>"
      ]
     },
     "metadata": {
      "needs_background": "light"
     },
     "output_type": "display_data"
    }
   ],
   "source": [
    "a = np.arange(10)\n",
    "ax = show_graph(a)"
   ]
  },
  {
   "cell_type": "code",
   "execution_count": 29,
   "metadata": {
    "Collapsed": "false"
   },
   "outputs": [
    {
     "data": {
      "image/png": "[encoded data removed]",
      "text/plain": [
       "<Figure size 360x360 with 1 Axes>"
      ]
     },
     "metadata": {
      "needs_background": "light"
     },
     "output_type": "display_data"
    }
   ],
   "source": [
    "a = tensor(np.arange(10)+np.random.randn(2,10))[None,:]\n",
    "ax = show_graph(a)"
   ]
  },
  {
   "cell_type": "code",
   "execution_count": 30,
   "metadata": {
    "Collapsed": "false"
   },
   "outputs": [],
   "source": [
    "# export\n",
    "class TensorSeq(TensorBase):\n",
    "    def show(self, ctx=None, **kwargs):\n",
    "        return show_graph(self, ctx=ctx, **kwargs)"
   ]
  },
  {
   "cell_type": "code",
   "execution_count": 31,
   "metadata": {
    "Collapsed": "false"
   },
   "outputs": [
    {
     "data": {
      "image/png": "[encoded data removed]",
      "text/plain": [
       "<Figure size 360x360 with 1 Axes>"
      ]
     },
     "metadata": {
      "needs_background": "light"
     },
     "output_type": "display_data"
    }
   ],
   "source": [
    "ax = TensorSeq(np.arange(10)).show()"
   ]
  },
  {
   "cell_type": "code",
   "execution_count": 32,
   "metadata": {
    "Collapsed": "false"
   },
   "outputs": [],
   "source": [
    "# export\n",
    "class TSTensorSeq(TensorSeq): pass\n",
    "class TSTensorSeqy(TensorSeq):\n",
    "\n",
    "    @classmethod\n",
    "    def create(cls, t)->None:\n",
    "        \"Convert an array or a list of points `t` to a `Tensor`\"\n",
    "        return cls(tensor(t).float())\n",
    "\n",
    "    def show(self, ctx=None, **kwargs):\n",
    "        if 'figsize' in kwargs:\n",
    "            del kwargs['figsize']\n",
    "        array = np.array(self.cpu())\n",
    "        array = no_emp_dim(array)\n",
    "        x_len = self._meta.get('x_len',0)\n",
    "        m = self._meta.get('m','*g')\n",
    "        label = self._meta.get('label','y')\n",
    "        t = np.arange(x_len,x_len+array.shape[1])[None,:]\n",
    "        ctx.plot(t.T, array.T, m, label=label, **kwargs)\n",
    "        ctx.legend()\n",
    "        return ctx\n",
    "\n",
    "TSTensorSeqy.loss_func = MSELossFlat()"
   ]
  },
  {
   "cell_type": "code",
   "execution_count": 33,
   "metadata": {
    "Collapsed": "false"
   },
   "outputs": [
    {
     "data": {
      "text/plain": [
       "<matplotlib.axes._subplots.AxesSubplot at 0x7fceada83dd0>"
      ]
     },
     "execution_count": 33,
     "metadata": {},
     "output_type": "execute_result"
    },
    {
     "data": {
      "image/png": "[encoded data removed]",
      "text/plain": [
       "<Figure size 360x360 with 1 Axes>"
      ]
     },
     "metadata": {
      "needs_background": "light"
     },
     "output_type": "display_data"
    }
   ],
   "source": [
    "ts = TSTensorSeq(np.arange(10))\n",
    "ctx = ts.show()\n",
    "\n",
    "y = TSTensorSeqy(np.arange(12))\n",
    "y.show(ctx=ctx)"
   ]
  },
  {
   "cell_type": "code",
   "execution_count": 34,
   "metadata": {
    "Collapsed": "false"
   },
   "outputs": [],
   "source": [
    "#export\n",
    "from fastai2.vision.data import *\n",
    "\n",
    "@delegates(subplots)\n",
    "def show_graphs(arrays, rows=None, cols=None, figsize=None, titles=None, **kwargs):\n",
    "    \"Show all images `arrays` as subplots with `rows` using `titles`\"\n",
    "    if titles is None: titles = [None]*len(arrays)\n",
    "    axs = get_grid(len(arrays), rows=rows, cols=cols, add_vert=1, figsize=figsize)\n",
    "    for a,t,ax in zip(arrays, titles, axs):\n",
    "        ctx = show_graph(a[0], ax=ax, title=t)\n",
    "        for y in a[1:]:\n",
    "            ctx = y.show(ctx=ctx)\n",
    "    return axs"
   ]
  },
  {
   "cell_type": "code",
   "execution_count": 35,
   "metadata": {
    "Collapsed": "false"
   },
   "outputs": [
    {
     "data": {
      "text/plain": [
       "[<matplotlib.axes._subplots.AxesSubplot at 0x7fceada03b90>,\n",
       " <matplotlib.axes._subplots.AxesSubplot at 0x7fcead9d4410>]"
      ]
     },
     "execution_count": 35,
     "metadata": {},
     "output_type": "execute_result"
    },
    {
     "data": {
      "image/png": "[encoded data removed]",
      "text/plain": [
       "<Figure size 720x720 with 2 Axes>"
      ]
     },
     "metadata": {
      "needs_background": "light"
     },
     "output_type": "display_data"
    }
   ],
   "source": [
    "y_hat = TSTensorSeqy(np.array([10.3,10.8,12.2]), x_len=10, m='*r', label='pred')\n",
    "\n",
    "show_graphs(((a, y, y_hat), (a*.7, y*.7, y_hat*.7)), titles=('y','y * .7'), figsize=(10,10))"
   ]
  },
  {
   "cell_type": "code",
   "execution_count": 36,
   "metadata": {
    "Collapsed": "false"
   },
   "outputs": [],
   "source": [
    "# hide\n",
    "test_graph_exists(ax)"
   ]
  },
  {
   "cell_type": "markdown",
   "metadata": {
    "Collapsed": "false"
   },
   "source": [
    "## Multi Types"
   ]
  },
  {
   "cell_type": "code",
   "execution_count": 37,
   "metadata": {
    "Collapsed": "false"
   },
   "outputs": [],
   "source": [
    "class TSeries(TensorBase):pass"
   ]
  },
  {
   "cell_type": "code",
   "execution_count": 38,
   "metadata": {
    "Collapsed": "false"
   },
   "outputs": [],
   "source": [
    "def no_emp_dim(x):\n",
    "    if len(x.shape)==1 :\n",
    "        x = x[None,:]\n",
    "    return np.vstack(x)\n",
    "\n",
    "def show_graph(array, ax=None, figsize=None, title=None, ctx=None, tx=None, **kwargs):\n",
    "    \"Show an array on `ax`.\"\n",
    "    if hasattrs(array, ('data','cpu','permute')):\n",
    "        array = array.data.cpu()\n",
    "    elif not isinstance(array,np.ndarray):\n",
    "        array=array(array)\n",
    "    arrays = no_emp_dim(array)\n",
    "    ax = ifnone(ax,ctx)\n",
    "    if figsize is None: figsize = (5,5)\n",
    "    if ax is None: _,ax = plt.subplots(figsize=figsize)\n",
    "    tx = ifnone(tx,np.arange(arrays[0].shape[0]))\n",
    "    label = kwargs.pop('label', 'x')\n",
    "    for a, c in zip(arrays, ['b', 'c', 'm', 'y', 'k',]):\n",
    "        ax.plot(tx, a, '-*'+c,label=label, **kwargs)\n",
    "\n",
    "    if title is not None: ax.set_title(title)\n",
    "\n",
    "    ax.legend()\n",
    "#     ax.axis('off')\n",
    "    return ax"
   ]
  },
  {
   "cell_type": "code",
   "execution_count": 39,
   "metadata": {
    "Collapsed": "false"
   },
   "outputs": [],
   "source": [
    "# export\n",
    "class TensorSeqs(TSeries):\n",
    "    \n",
    "    def show(self, ax = None, ctx=None, **kwargs):\n",
    "        ctx = ifnone(ctx, ax)\n",
    "        if ctx is None: _, ctx = plt.subplots(figsize=(5,5))\n",
    "        array = np.array(self.cpu())\n",
    "        arrays = no_emp_dim(array)\n",
    "        m = L(self._meta.get('m',['b', 'c', 'm', 'y', 'k',][:len(arrays)]))\n",
    "        labels = L(self._meta.get('label',['x']*len(arrays)))\n",
    "        assert len(m)==len(labels)==len(arrays),f\"{len(m)}=={len(labels)}=={len(arrays)}\" \n",
    "        t = np.arange(array.shape[1])        \n",
    "        for a, c, label in zip(arrays, m, labels):            \n",
    "            mark = '-' if 'y' not in label else ''                \n",
    "            ctx.plot(t, a, mark + '*' +c, **kwargs, label=label)\n",
    "        ctx.legend()\n",
    "        return ctx\n",
    "class TensorSeqsX(TensorSeqs):pass"
   ]
  },
  {
   "cell_type": "code",
   "execution_count": 40,
   "metadata": {
    "Collapsed": "false"
   },
   "outputs": [],
   "source": [
    "a = torch.cat([i+torch.arange(10)[None,:] for i in [0,2]])"
   ]
  },
  {
   "cell_type": "code",
   "execution_count": 41,
   "metadata": {
    "Collapsed": "false"
   },
   "outputs": [
    {
     "data": {
      "image/png": "[encoded data removed]",
      "text/plain": [
       "<Figure size 360x360 with 1 Axes>"
      ]
     },
     "metadata": {
      "needs_background": "light"
     },
     "output_type": "display_data"
    }
   ],
   "source": [
    "_, ctx = plt.subplots(figsize=[5,5])\n",
    "ax = TensorSeqs(a, m=['b','k'], label = ['x1','x2y']).show(ctx=ctx)"
   ]
  },
  {
   "cell_type": "code",
   "execution_count": 42,
   "metadata": {
    "Collapsed": "false"
   },
   "outputs": [
    {
     "data": {
      "image/png": "[encoded data removed]",
      "text/plain": [
       "<Figure size 360x360 with 1 Axes>"
      ]
     },
     "metadata": {
      "needs_background": "light"
     },
     "output_type": "display_data"
    }
   ],
   "source": [
    "# hide\n",
    "test_fail(TensorSeqs(torch.randn(2,10), m='b', label = ['x1','y2']).show)"
   ]
  },
  {
   "cell_type": "code",
   "execution_count": 43,
   "metadata": {
    "Collapsed": "false"
   },
   "outputs": [],
   "source": [
    "# export\n",
    "def _get_its_shape(o):    \n",
    "    if len(o.shape) == 0: return 1, o[None]\n",
    "    return len(o), o\n",
    "    \n",
    "class TensorCon(TSeries):\n",
    "    _name = 'Constant'\n",
    "    def show(self, ax = None, ctx=None):\n",
    "        ax = ifnone(ax,ctx)\n",
    "        if ax is None:\n",
    "            _, ax = plt.subplots(figsize=(5,5))\n",
    "        l, its = _get_its_shape(self)\n",
    "        dct = {k:np.round(its[i].item(),2) for k,i in zip(L(self._meta.get('label',self._name)),range(l))}\n",
    "        if dct == {}:\n",
    "            dct = ''\n",
    "        ax.set_title(ax.title._text +f\"{dct}\")\n",
    "        return ax"
   ]
  },
  {
   "cell_type": "code",
   "execution_count": 44,
   "metadata": {
    "Collapsed": "false"
   },
   "outputs": [
    {
     "data": {
      "text/plain": [
       "<matplotlib.axes._subplots.AxesSubplot at 0x7fcead7fe390>"
      ]
     },
     "execution_count": 44,
     "metadata": {},
     "output_type": "execute_result"
    },
    {
     "data": {
      "image/png": "[encoded data removed]",
      "text/plain": [
       "<Figure size 360x360 with 1 Axes>"
      ]
     },
     "metadata": {
      "needs_background": "light"
     },
     "output_type": "display_data"
    }
   ],
   "source": [
    "TensorCon([1,2.5555555555555], label=['a','b']).show()"
   ]
  },
  {
   "cell_type": "code",
   "execution_count": 45,
   "metadata": {
    "Collapsed": "false"
   },
   "outputs": [
    {
     "data": {
      "text/plain": [
       "<matplotlib.axes._subplots.AxesSubplot at 0x7fcead7dfd50>"
      ]
     },
     "execution_count": 45,
     "metadata": {},
     "output_type": "execute_result"
    },
    {
     "data": {
      "image/png": "[encoded data removed]",
      "text/plain": [
       "<Figure size 360x360 with 1 Axes>"
      ]
     },
     "metadata": {
      "needs_background": "light"
     },
     "output_type": "display_data"
    }
   ],
   "source": [
    "TensorCon(1).show()"
   ]
  },
  {
   "cell_type": "code",
   "execution_count": 46,
   "metadata": {
    "Collapsed": "false"
   },
   "outputs": [],
   "source": [
    "# export\n",
    "class TensorCat(TensorCon):\n",
    "    _name = 'Catagory'"
   ]
  },
  {
   "cell_type": "code",
   "execution_count": 47,
   "metadata": {
    "Collapsed": "false"
   },
   "outputs": [
    {
     "data": {
      "text/plain": [
       "<matplotlib.axes._subplots.AxesSubplot at 0x7fcead7ca9d0>"
      ]
     },
     "execution_count": 47,
     "metadata": {},
     "output_type": "execute_result"
    },
    {
     "data": {
      "image/png": "[encoded data removed]",
      "text/plain": [
       "<Figure size 360x360 with 1 Axes>"
      ]
     },
     "metadata": {
      "needs_background": "light"
     },
     "output_type": "display_data"
    }
   ],
   "source": [
    "TensorCat(1).show()"
   ]
  },
  {
   "cell_type": "markdown",
   "metadata": {
    "Collapsed": "false"
   },
   "source": [
    "## MultiTuple"
   ]
  },
  {
   "cell_type": "code",
   "execution_count": null,
   "metadata": {
    "Collapsed": "false"
   },
   "outputs": [],
   "source": [
    "# export\n",
    "class MultiTuple(Tuple):\n",
    "    \"\"\"The same as `Tuple` only stores the types in `_types` and if _meta stores those in `_meta`\"\"\"\n",
    "    def __new__(cls, x, *rest, **kwargs):\n",
    "        r = Tuple.__new__(cls,x, *rest)\n",
    "        r._meta = {i:a._meta for i,a in enumerate(L(r)) if hasattr(a,'_meta')}\n",
    "        r._types = [type(a) for a in L(r)]\n",
    "        return r"
   ]
  },
  {
   "cell_type": "code",
   "execution_count": null,
   "metadata": {
    "Collapsed": "false"
   },
   "outputs": [
    {
     "data": {
      "text/plain": [
       "((1), {}, [int])"
      ]
     },
     "execution_count": null,
     "metadata": {},
     "output_type": "execute_result"
    }
   ],
   "source": [
    "o = MultiTuple(1)\n",
    "o, o._meta, o._types"
   ]
  },
  {
   "cell_type": "code",
   "execution_count": null,
   "metadata": {
    "Collapsed": "false"
   },
   "outputs": [
    {
     "name": "stdout",
     "output_type": "stream",
     "text": [
      "{'label': 'x'}\n"
     ]
    },
    {
     "data": {
      "text/plain": [
       "((TensorBase(1), TensorBase(1)),\n",
       " {0: {'label': 'x'}, 1: {'label': 'y'}},\n",
       " [fastai2.torch_core.TensorBase, fastai2.torch_core.TensorBase])"
      ]
     },
     "execution_count": null,
     "metadata": {},
     "output_type": "execute_result"
    }
   ],
   "source": [
    "a = TensorBase(tensor(1), label='x')\n",
    "b = TensorBase(tensor(1), label='y')\n",
    "print(a._meta)\n",
    "o = MultiTuple((a,b))\n",
    "o, getattr(o,'_meta',None), o._types"
   ]
  },
  {
   "cell_type": "code",
   "execution_count": null,
   "metadata": {
    "Collapsed": "false"
   },
   "outputs": [],
   "source": [
    "# hide\n",
    "test_eq(o._meta,{0: {'label': 'x'}, 1: {'label': 'y'}})\n",
    "test_eq(o._types,[TensorBase, TensorBase])\n",
    "o = MultiTuple(1)\n",
    "test_eq(o._meta,{})\n",
    "test_eq(o._types,[int])"
   ]
  },
  {
   "cell_type": "code",
   "execution_count": null,
   "metadata": {
    "Collapsed": "false"
   },
   "outputs": [],
   "source": [
    "# export\n",
    "from fastai2.vision.data import get_grid\n",
    "def _show_multituple(t, ax):\n",
    "    for o in t:\n",
    "        ax = o.show(ctx = ax)\n",
    "    return ax\n",
    "\n",
    "def get_ax(ax, ctx, figsize, **kwargs):\n",
    "    ax = ifnone(ax,ctx)\n",
    "    if ax is None:\n",
    "        _, ax = plt.subplots(figsize=figsize, **kwargs)\n",
    "    return ax\n",
    "\n",
    "@delegates(plt.subplots)\n",
    "def show_mt(self, ax = None, ctx=None, figsize = (10,10), **kwargs):\n",
    "    ax = get_ax(ax, ctx, figsize, **kwargs)\n",
    "    return _show_multituple(self, ax)   \n",
    "MultiTuple.show = show_mt"
   ]
  },
  {
   "cell_type": "code",
   "execution_count": null,
   "metadata": {
    "Collapsed": "false"
   },
   "outputs": [
    {
     "data": {
      "text/markdown": [
       "<h4 id=\"MultiTuple.show\" class=\"doc_header\"><code>MultiTuple.show</code><a href=\"__main__.py#L14\" class=\"source_link\" style=\"float:right\">[source]</a></h4>\n",
       "\n",
       "> <code>MultiTuple.show</code>(**`ax`**=*`None`*, **`ctx`**=*`None`*, **`figsize`**=*`(10, 10)`*, **`nrows`**=*`1`*, **`ncols`**=*`1`*, **`sharex`**=*`False`*, **`sharey`**=*`False`*, **`squeeze`**=*`True`*, **`subplot_kw`**=*`None`*, **`gridspec_kw`**=*`None`*)\n",
       "\n"
      ],
      "text/plain": [
       "<IPython.core.display.Markdown object>"
      ]
     },
     "metadata": {},
     "output_type": "display_data"
    }
   ],
   "source": [
    "show_doc(MultiTuple.show,name='MultiTuple.show')"
   ]
  },
  {
   "cell_type": "code",
   "execution_count": null,
   "metadata": {
    "Collapsed": "false"
   },
   "outputs": [
    {
     "data": {
      "text/plain": [
       "<matplotlib.axes._subplots.AxesSubplot at 0x7f258d7a34d0>"
      ]
     },
     "execution_count": null,
     "metadata": {},
     "output_type": "execute_result"
    },
    {
     "data": {
      "image/png": "[encoded data removed]",
      "text/plain": [
       "<Figure size 360x360 with 1 Axes>"
      ]
     },
     "metadata": {
      "needs_background": "light"
     },
     "output_type": "display_data"
    }
   ],
   "source": [
    "x,xts,a,b = TensorSeqs(np.arange(9)[None,:],label=['x'],m=['g']),TensorSeqs(np.arange(1,11)[None,:],label=['tsx']), TensorCon(1,label=['con0']),TensorCon(1, label=['con1'], m='r')\n",
    "y = TensorSeqs(np.arange(10)[None,:],label=['y'])\n",
    "MultiTuple(x,xts,a,b,y).show(figsize = (5,5))"
   ]
  },
  {
   "cell_type": "markdown",
   "metadata": {
    "Collapsed": "false"
   },
   "source": [
    "# Preprocces functions"
   ]
  },
  {
   "cell_type": "markdown",
   "metadata": {
    "Collapsed": "false"
   },
   "source": [
    "## M4"
   ]
  },
  {
   "cell_type": "code",
   "execution_count": null,
   "metadata": {
    "Collapsed": "false"
   },
   "outputs": [],
   "source": [
    "# export\n",
    "def ts_lists(ts:np.ndarray)-> L:\n",
    "    \"\"\"Transforms a `np.ndarray` of shape (timeseries, max_time) to a list of timeseries with shape (1,time).\n",
    "\n",
    "    where:\n",
    "\n",
    "    max_time = the length of the longest timeserie\n",
    "\n",
    "    time = the length of the non-nan values of that specific timeserie\n",
    "    \"\"\"\n",
    "    lst = L()\n",
    "    for time_series in ts:\n",
    "        lst.append(time_series[~np.isnan(time_series)][None,:])\n",
    "    return lst"
   ]
  },
  {
   "cell_type": "code",
   "execution_count": null,
   "metadata": {
    "Collapsed": "false"
   },
   "outputs": [],
   "source": [
    "# hide\n",
    "ts = np.array([np.arange(0,10.),\n",
    "               np.arange(0,10.)\n",
    "              ])\n",
    "ts[1,-1] = np.NaN\n",
    "\n",
    "r = ts_lists(ts)\n",
    "test_eq(r[0],np.arange(0,10.)[None,:])\n",
    "test_eq(r[1],np.arange(0,9.)[None,:])\n",
    "test_eq(r[0].shape,(1,10))"
   ]
  },
  {
   "cell_type": "code",
   "execution_count": null,
   "metadata": {
    "Collapsed": "false"
   },
   "outputs": [
    {
     "data": {
      "text/plain": [
       "array([[ 0.,  1.,  2.,  3.,  4.,  5.,  6.,  7.,  8.,  9.],\n",
       "       [ 0.,  1.,  2.,  3.,  4.,  5.,  6.,  7.,  8., nan]])"
      ]
     },
     "execution_count": null,
     "metadata": {},
     "output_type": "execute_result"
    }
   ],
   "source": [
    "ts"
   ]
  },
  {
   "cell_type": "code",
   "execution_count": null,
   "metadata": {
    "Collapsed": "false"
   },
   "outputs": [
    {
     "data": {
      "text/plain": [
       "(#2) [array([[0., 1., 2., 3., 4., 5., 6., 7., 8., 9.]]),array([[0., 1., 2., 3., 4., 5., 6., 7., 8.]])]"
      ]
     },
     "execution_count": null,
     "metadata": {},
     "output_type": "execute_result"
    }
   ],
   "source": [
    "ts_lists(ts)"
   ]
  },
  {
   "cell_type": "code",
   "execution_count": 48,
   "metadata": {
    "Collapsed": "false"
   },
   "outputs": [
    {
     "name": "stdout",
     "output_type": "stream",
     "text": [
      "Converted 00_core.ipynb.\n",
      "Converted 01_data.external.ipynb.\n",
      "Converted 020_data.load_pd.ipynb.\n",
      "Converted 02_data.load.ipynb.\n",
      "Converted 030_data.core_pd.ipynb.\n",
      "Converted 03_data.core.ipynb.\n",
      "Converted 050_nbeats.models_multi.ipynb.\n",
      "Converted 05_nbeats.models.ipynb.\n",
      "Converted 06_nbeats.callbacks.ipynb.\n",
      "Converted 07_nbeats.learner.ipynb.\n",
      "Converted 08_nbeats.interpret.ipynb.\n",
      "Converted 11_metrics.ipynb.\n",
      "Converted 12_compare.ipynb.\n",
      "Converted index.ipynb.\n"
     ]
    }
   ],
   "source": [
    "# hide\n",
    "from nbdev.export import *\n",
    "notebook2script()"
   ]
  },
  {
   "cell_type": "code",
   "execution_count": null,
   "metadata": {
    "Collapsed": "false"
   },
   "outputs": [],
   "source": []
  },
  {
   "cell_type": "code",
   "execution_count": null,
   "metadata": {
    "Collapsed": "false"
   },
   "outputs": [],
   "source": []
  }
 ],
 "metadata": {
  "kernelspec": {
   "display_name": "env37",
   "language": "python",
   "name": "env37"
  },
  "language_info": {
   "codemirror_mode": {
    "name": "ipython",
    "version": 3
   },
   "file_extension": ".py",
   "mimetype": "text/x-python",
   "name": "python",
   "nbconvert_exporter": "python",
   "pygments_lexer": "ipython3",
   "version": "3.7.4"
  }
 },
 "nbformat": 4,
 "nbformat_minor": 4
}
