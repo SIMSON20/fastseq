{
 "cells": [
  {
   "cell_type": "code",
   "execution_count": 4,
   "metadata": {
    "Collapsed": "false"
   },
   "outputs": [],
   "source": [
    "# default_exp data.core_pd"
   ]
  },
  {
   "cell_type": "code",
   "execution_count": 5,
   "metadata": {
    "Collapsed": "false"
   },
   "outputs": [],
   "source": [
    "# hide\n",
    "import sys\n",
    "\n",
    "sys.path.append(\"..\")\n",
    "import pandas as pd"
   ]
  },
  {
   "cell_type": "code",
   "execution_count": 6,
   "metadata": {
    "Collapsed": "false"
   },
   "outputs": [],
   "source": [
    "# hide\n",
    "from nbdev.showdoc import *"
   ]
  },
  {
   "cell_type": "markdown",
   "metadata": {
    "Collapsed": "false"
   },
   "source": [
    "# Data Core\n",
    "\n",
    "> Using the fastai2 `Datasets` to make an time series dataset.\n",
    "\n",
    "For now all is univerable but in the future I would also like to add multiplevariable. \n"
   ]
  },
  {
   "cell_type": "code",
   "execution_count": 7,
   "metadata": {
    "Collapsed": "false"
   },
   "outputs": [],
   "source": [
    "# export\n",
    "from fastseq.data.load import *\n",
    "from fastseq.core import *\n",
    "from fastcore.all import *\n",
    "from fastcore.imports import *\n",
    "from fastai2.basics import *\n",
    "from fastai2.data.transforms import *\n",
    "from fastai2.tabular.core import *\n",
    "from fastseq.data.load_pd import *"
   ]
  },
  {
   "cell_type": "markdown",
   "metadata": {
    "Collapsed": "false"
   },
   "source": [
    "# Transforms\n",
    "\n",
    "> Basic function to process time-series data before assembling it in a `DataLoaders`."
   ]
  },
  {
   "cell_type": "markdown",
   "metadata": {
    "Collapsed": "true"
   },
   "source": [
    "## Normalize"
   ]
  },
  {
   "cell_type": "code",
   "execution_count": 8,
   "metadata": {
    "Collapsed": "false"
   },
   "outputs": [],
   "source": [
    "# export\n",
    "def _zeros_2_ones(o, eps=1e-8):\n",
    "    nan_mask = o!=o\n",
    "    o[o < eps ] = 1    \n",
    "    o[nan_mask ] = 1    \n",
    "    return o\n",
    "    "
   ]
  },
  {
   "cell_type": "code",
   "execution_count": 9,
   "metadata": {
    "Collapsed": "false"
   },
   "outputs": [
    {
     "name": "stderr",
     "output_type": "stream",
     "text": [
      "/home/tako/dev/env37/lib/python3.7/site-packages/ipykernel_launcher.py:4: RuntimeWarning: invalid value encountered in less\n",
      "  after removing the cwd from sys.path.\n"
     ]
    }
   ],
   "source": [
    "o = np.arange(0,1,.1)\n",
    "test_close(list(_zeros_2_ones(o,.5)),[1. , 1. , 1. , 1. , 1. , 0.5, 0.6, 0.7, 0.8, 0.9])\n",
    "\n",
    "o = np.arange(0,1,.1)[None,:]\n",
    "test_close(list(_zeros_2_ones(o,.5)),[[1. , 1. , 1. , 1. , 1. , 0.5, 0.6, 0.7, 0.8, 0.9]])\n",
    "\n",
    "o = torch.arange(0,1,.1)[None,:]\n",
    "test_close(_zeros_2_ones(o,.5),tensor([[1. , 1. , 1. , 1. , 1. , 0.5, 0.6, 0.7, 0.8, 0.9]]))\n",
    "\n",
    "o = torch.arange(0,1,.1)[None,:]\n",
    "o[:,-1]= torch.tensor(float('nan'))\n",
    "test_close(_zeros_2_ones(o,.5),tensor([[1. , 1. , 1. , 1. , 1. , 0.5, 0.6, 0.7, 0.8, 1]]))\n",
    "\n",
    "o = np.arange(0,1,.1)[None,:]\n",
    "o[:,-1]= np.nan\n",
    "test_close(list(_zeros_2_ones(o,.5)),[[1. , 1. , 1. , 1. , 1. , 0.5, 0.6, 0.7, 0.8, 1]])"
   ]
  },
  {
   "cell_type": "markdown",
   "metadata": {
    "Collapsed": "true"
   },
   "source": [
    "### old"
   ]
  },
  {
   "cell_type": "code",
   "execution_count": 10,
   "metadata": {
    "Collapsed": "false"
   },
   "outputs": [],
   "source": [
    "# export\n",
    "import warnings\n",
    "class NormalizeTSMulti(ItemTransform):\n",
    "    \"Normalize the Time-Series.\"\n",
    "    def __init__(self, to_norm=['TensorCon','TensorSeqs'], verbose=False, make_ones=True, eps=1e-7, mean = None):\n",
    "        \"\"\"\n",
    "        `make_ones` will make the std 1 if the std is smaller than `10*eps`.\n",
    "        This is for blok seqences to not magnify the `y` part of the data.\n",
    "\n",
    "        `mean` will set a mean instead of the mean of the x value.\n",
    "        (\n",
    "            TensorSeqs(x, label=[self.y_name + '_x'], m=['g']),\n",
    "            TensorSeqs(tsx,label=self.ts_names),\n",
    "            TensorCon(cat,label=self.cat_names).long(),\n",
    "            TensorCon(con,label=self.con_names),\n",
    "            TensorSeqs(y, label=[self.y_name+ '_y'], m=['r'])\n",
    "        )\n",
    "        \"\"\"\n",
    "        store_attr(self,'verbose, make_ones, eps, mean,to_norm')\n",
    "        self.m, self.s = {}, {}\n",
    "        warnings.warn(\"NormalizeTSMulti is depricated. Please use `NormalizeSeqsMulti`\")\n",
    "\n",
    "    def encodes(self, o):\n",
    "        for i in range(len(o)-1):\n",
    "            self.m[i], self.s[i] = 0, 1\n",
    "            if type(o[i]) == TensorCon and o[i].shape[-1]>0: # if tensor has shape (bs,0) than ignore\n",
    "                if 'TensorCon' in self.to_norm:\n",
    "                    self.m[i] = torch.mean(o[i])\n",
    "                    self.s[i] = torch.std(o[i]) + self.eps \n",
    "            elif type(o[i]) == TensorSeqs:\n",
    "                if 'TensorSeqs' in self.to_norm:\n",
    "                    self.m[i] = torch.mean(o[i], -1, keepdim=True)\n",
    "                    self.s[i] = torch.std(o[i],  -1, keepdim=True) +self.eps\n",
    "                    self.s[i] = _zeros_2_ones(self.s[i], self.eps*10)\n",
    "            elif self.verbose:\n",
    "                if o[i].shape[-1]>0 and not type(o[i]) == TensorCatI:\n",
    "                    print(f'NormalizeTSMulti:type {type(o[i])} on location:{i}/{len(o)} of tuple not found')\n",
    "                \n",
    "        # y must be scaled with m\n",
    "        self.m[len(o)-1], self.s[len(o)-1] = self.m[0],self.s[0] \n",
    "        # TODO make y its own type\n",
    "        if self.verbose:\n",
    "            print('encodes',[a.shape for a in o],'m shape', {k:o.shape for k,o in self.m.items()},'s shape',{k:o.shape for k,o in self.s.items()})\n",
    "        \n",
    "        return TSMulti_([(o[i]-self.m[i]) / self.s[i] for i in range(len(o))])       \n",
    "    \n",
    "    def decodes(self, o):\n",
    "        if o[0].is_cuda:\n",
    "            self.m, self.s = to_device(self.m,'cuda'), to_device(self.s,'cuda')\n",
    "            if sum([a.is_cuda for a in o]) != len(o):\n",
    "                o = Tuple([to_device(a,'cuda') for a in o])\n",
    "        else:\n",
    "            if sum([a.is_cuda==False for a in o]) != len(o):\n",
    "                o = Tuple([to_cpu(a) for a in o])\n",
    "            self.m, self.s = to_cpu(self.m), to_cpu(self.s)\n",
    "        if self.verbose:\n",
    "            print('decodes',[a.shape for a in o],  {k:o.shape for k,o in self.m.items()},'s shape',{k:o.shape for k,o in self.s.items()})\n",
    "        return TSMulti_([(o[i]*self.s[i])+self.m[i] for i in range(len(o))])"
   ]
  },
  {
   "cell_type": "code",
   "execution_count": 11,
   "metadata": {
    "Collapsed": "false"
   },
   "outputs": [
    {
     "name": "stderr",
     "output_type": "stream",
     "text": [
      "/home/tako/dev/env37/lib/python3.7/site-packages/ipykernel_launcher.py:21: UserWarning: NormalizeTSMulti is depricated. Please use `NormalizeSeqsMulti`\n"
     ]
    }
   ],
   "source": [
    "o = TSMulti_(TensorSeqs(np.arange(12.)),1,2,TensorSeqs(np.arange(-1,11.)))\n",
    "tmf = NormalizeTSMulti()\n",
    "o_tmf = tmf(o)\n"
   ]
  },
  {
   "cell_type": "code",
   "execution_count": 12,
   "metadata": {
    "Collapsed": "false"
   },
   "outputs": [
    {
     "name": "stdout",
     "output_type": "stream",
     "text": [
      "405 µs ± 7.32 µs per loop (mean ± std. dev. of 7 runs, 1000 loops each)\n"
     ]
    }
   ],
   "source": [
    "%%timeit\n",
    "o_tmf = tmf(o)"
   ]
  },
  {
   "cell_type": "markdown",
   "metadata": {
    "Collapsed": "true"
   },
   "source": [
    "### new"
   ]
  },
  {
   "cell_type": "code",
   "execution_count": 13,
   "metadata": {
    "Collapsed": "false"
   },
   "outputs": [
    {
     "data": {
      "text/plain": [
       "TensorSeqs([-5.0000, -2.5000,  0.0000,  2.5000,  5.0000,  7.5000, 10.0000, 12.5000,\n",
       "        15.0000, 17.5000, 20.0000, 22.5000])"
      ]
     },
     "execution_count": 13,
     "metadata": {},
     "output_type": "execute_result"
    }
   ],
   "source": [
    "a = TensorSeqs(np.arange(12))\n",
    "a = (a-2)*2.5\n",
    "a"
   ]
  },
  {
   "cell_type": "code",
   "execution_count": 14,
   "metadata": {
    "Collapsed": "false"
   },
   "outputs": [],
   "source": [
    "# export\n",
    "class NormalizeSeqs(Transform):\n",
    "    def __init__(self, verbose=False, make_ones=True, eps=1e-7, mean = None):\n",
    "        store_attr(self,'verbose, make_ones, eps, mean')\n",
    "        self.m, self.s = 0, 1\n",
    "        \n",
    "    def to_same_device(self, o):    \n",
    "        if o.is_cuda:\n",
    "            self.m, self.s = to_device(self.m,'cuda'), to_device(self.s,'cuda')\n",
    "        else:\n",
    "            self.m, self.s = to_cpu(self.m), to_cpu(self.s)     \n",
    "            \n",
    "    def encodes(self, o: TensorSeqs):\n",
    "        self.m = torch.mean(o, -1, keepdim=True)\n",
    "        self.s = torch.std(o,  -1, keepdim=True) +self.eps\n",
    "        if (self.s < self.eps*10).sum():\n",
    "            self.s = _zeros_2_ones(self.s, self.eps*10)\n",
    "        if self.verbose:\n",
    "            print('encodes',[a.shape for a in o],\n",
    "                  'm shape', {k:o.shape for k,o in self.m.items()},\n",
    "                  's shape',{k:o.shape for k,o in self.s.items()})\n",
    "        \n",
    "        return self.norm(o)\n",
    "    \n",
    "    def norm(self, o):\n",
    "        return (o - self.m)/self.s\n",
    "    \n",
    "    def decodes(self, o: TensorSeqs):\n",
    "        if self.verbose:\n",
    "            print('decodes',o.shape,  \n",
    "                  'm shape',self.m.shape,\n",
    "                  's shape',self.s.shape)\n",
    "        return self.denorm(o)\n",
    "    \n",
    "    def denorm(self, o):\n",
    "        self.to_same_device(o)\n",
    "        return (o*self.s)+self.m "
   ]
  },
  {
   "cell_type": "code",
   "execution_count": 15,
   "metadata": {
    "Collapsed": "false"
   },
   "outputs": [],
   "source": [
    "tmf = NormalizeSeqs()\n",
    "o = TensorSeqs(TensorSeqs([np.arange(12.)]*16))\n",
    "o_tmf = tmf(o)\n",
    "test_eq(tmf.decode(o_tmf),TensorSeqs([np.arange(12.)]*16))\n",
    "def func():\n",
    "    o_tmf = tmf(o)"
   ]
  },
  {
   "cell_type": "code",
   "execution_count": 16,
   "metadata": {
    "Collapsed": "false"
   },
   "outputs": [],
   "source": [
    "# export\n",
    "class NormalizeSeqsMulti(ItemTransform):\n",
    "    \"\"\"A shell Transformer to normalize `TensorSeqs` inside `TSMulti_` with `NormalizeSeqs`. \"\"\"\n",
    "    @delegates(NormalizeSeqs.__init__)\n",
    "    def __init__(self, n_its=4, **kwargs):\n",
    "        \"\"\"`n_its` does not include the ts to predict.\"\"\"\n",
    "        self.f = {i:NormalizeSeqs(**kwargs) for i in range(n_its)}\n",
    "        self.n = n_its\n",
    "        \n",
    "    def encodes(self, o:TSMulti_):\n",
    "        r = L()\n",
    "        for i,a in enumerate(o):\n",
    "            if type(a) is not TensorSeqs:\n",
    "                r.append(a)\n",
    "            elif i < (self.n-1):\n",
    "                r.append(self.f[i](a))\n",
    "            else:\n",
    "                r.append(self.f[0].norm(o[i]))\n",
    "        return TSMulti_(r)\n",
    "    \n",
    "    def decodes(self, o:TSMulti_): \n",
    "        r = L(self.f[i].decode(a) for i,a in enumerate(o[:-1]))\n",
    "        r.append(self.f[0].denorm(o[-1]))\n",
    "        return TSMulti_(r)\n",
    "    "
   ]
  },
  {
   "cell_type": "code",
   "execution_count": 17,
   "metadata": {
    "Collapsed": "false"
   },
   "outputs": [],
   "source": [
    "o = TSMulti_(TensorSeqs([np.arange(12.)]*16),[1]*16,[2]*16,TensorSeqs([np.arange(-1,11.)]*16))\n",
    "tmf = NormalizeSeqsMulti(len(o))\n",
    "o_tmf = tmf(o)\n",
    "def func():\n",
    "    o_tmf = tmf(o)\n",
    "    "
   ]
  },
  {
   "cell_type": "code",
   "execution_count": 18,
   "metadata": {
    "Collapsed": "false"
   },
   "outputs": [],
   "source": [
    "o = TSMulti_(TensorSeqs(np.arange(12.)),1,2,TensorSeqs(np.arange(-1,11.)))\n",
    "tmf = NormalizeSeqsMulti(len(o))\n",
    "o_tmf = tmf(o)\n",
    "\n",
    "test_close(o_tmf[0].mean(),0);test_close(o_tmf[0].std(),1);\n",
    "test_eq(o_tmf[1],1)\n",
    "test_eq(o_tmf[2],2)\n",
    "# Note the y has not mean 0 because it is normalized with the stats of the first item in the tuple\n",
    "test_close(o_tmf[3].mean(),-0.27,.1); test_close(o_tmf[3].std(),1); \n",
    "test_eq(tmf.decode(o_tmf), o)\n",
    "def prof_func():\n",
    "    tmf(o)"
   ]
  },
  {
   "cell_type": "code",
   "execution_count": 19,
   "metadata": {
    "Collapsed": "false"
   },
   "outputs": [
    {
     "data": {
      "text/html": [
       "<div>\n",
       "<style scoped>\n",
       "    .dataframe tbody tr th:only-of-type {\n",
       "        vertical-align: middle;\n",
       "    }\n",
       "\n",
       "    .dataframe tbody tr th {\n",
       "        vertical-align: top;\n",
       "    }\n",
       "\n",
       "    .dataframe thead th {\n",
       "        text-align: right;\n",
       "    }\n",
       "</style>\n",
       "<table border=\"1\" class=\"dataframe\">\n",
       "  <thead>\n",
       "    <tr style=\"text-align: right;\">\n",
       "      <th></th>\n",
       "      <th>x</th>\n",
       "      <th>a</th>\n",
       "      <th>b</th>\n",
       "      <th>cat</th>\n",
       "    </tr>\n",
       "  </thead>\n",
       "  <tbody>\n",
       "    <tr>\n",
       "      <th>0</th>\n",
       "      <td>[0.7123227176010585, 0.7729592514076216, 1.0423360024179602, 1.2727892280477044, 1.252441295442369, 1.0, 0.7475587045576311, 0.7272107719522956, 0.9576639975820398, 1.2270407485923784]</td>\n",
       "      <td>[1.9589242746631386, 1.7568024953079282, 0.8588799919401328, 0.09070257317431829, 0.1585290151921035, 1.0, 1.8414709848078965, 1.9092974268256817, 1.1411200080598671, 0.2431975046920718]</td>\n",
       "      <td>-0.084192</td>\n",
       "      <td>a</td>\n",
       "    </tr>\n",
       "    <tr>\n",
       "      <th>1</th>\n",
       "      <td>[1.424645435202117, 1.5459185028152431, 2.0846720048359204, 2.545578456095409, 2.504882590884738, 2.0, 1.4951174091152621, 1.454421543904591, 1.9153279951640796, 2.454081497184757]</td>\n",
       "      <td>[2.9589242746631386, 2.7568024953079284, 1.8588799919401329, 1.0907025731743183, 1.1585290151921035, 2.0, 2.8414709848078967, 2.909297426825682, 2.1411200080598674, 1.2431975046920718]</td>\n",
       "      <td>1.674260</td>\n",
       "      <td>a</td>\n",
       "    </tr>\n",
       "    <tr>\n",
       "      <th>2</th>\n",
       "      <td>[2.1369681528031754, 2.3188777542228647, 3.1270080072538806, 3.8183676841431136, 3.757323886327107, 3.0, 2.242676113672893, 2.1816323158568864, 2.8729919927461194, 3.6811222457771353]</td>\n",
       "      <td>[3.9589242746631386, 3.7568024953079284, 2.8588799919401326, 2.090702573174318, 2.1585290151921033, 3.0, 3.8414709848078967, 3.909297426825682, 3.1411200080598674, 2.2431975046920716]</td>\n",
       "      <td>1.726198</td>\n",
       "      <td>b</td>\n",
       "    </tr>\n",
       "    <tr>\n",
       "      <th>3</th>\n",
       "      <td>[2.849290870404234, 3.0918370056304862, 4.169344009671841, 5.091156912190818, 5.009765181769476, 4.0, 2.9902348182305243, 2.908843087809182, 3.830655990328159, 4.908162994369514]</td>\n",
       "      <td>[4.958924274663138, 4.756802495307928, 3.8588799919401326, 3.090702573174318, 3.1585290151921033, 4.0, 4.841470984807897, 4.909297426825682, 4.141120008059867, 3.2431975046920716]</td>\n",
       "      <td>4.670081</td>\n",
       "      <td>b</td>\n",
       "    </tr>\n",
       "  </tbody>\n",
       "</table>\n",
       "</div>"
      ],
      "text/plain": [
       "                                                                                                                                                                                          x  \\\n",
       "0  [0.7123227176010585, 0.7729592514076216, 1.0423360024179602, 1.2727892280477044, 1.252441295442369, 1.0, 0.7475587045576311, 0.7272107719522956, 0.9576639975820398, 1.2270407485923784]   \n",
       "1      [1.424645435202117, 1.5459185028152431, 2.0846720048359204, 2.545578456095409, 2.504882590884738, 2.0, 1.4951174091152621, 1.454421543904591, 1.9153279951640796, 2.454081497184757]   \n",
       "2   [2.1369681528031754, 2.3188777542228647, 3.1270080072538806, 3.8183676841431136, 3.757323886327107, 3.0, 2.242676113672893, 2.1816323158568864, 2.8729919927461194, 3.6811222457771353]   \n",
       "3        [2.849290870404234, 3.0918370056304862, 4.169344009671841, 5.091156912190818, 5.009765181769476, 4.0, 2.9902348182305243, 2.908843087809182, 3.830655990328159, 4.908162994369514]   \n",
       "\n",
       "                                                                                                                                                                                            a  \\\n",
       "0  [1.9589242746631386, 1.7568024953079282, 0.8588799919401328, 0.09070257317431829, 0.1585290151921035, 1.0, 1.8414709848078965, 1.9092974268256817, 1.1411200080598671, 0.2431975046920718]   \n",
       "1    [2.9589242746631386, 2.7568024953079284, 1.8588799919401329, 1.0907025731743183, 1.1585290151921035, 2.0, 2.8414709848078967, 2.909297426825682, 2.1411200080598674, 1.2431975046920718]   \n",
       "2     [3.9589242746631386, 3.7568024953079284, 2.8588799919401326, 2.090702573174318, 2.1585290151921033, 3.0, 3.8414709848078967, 3.909297426825682, 3.1411200080598674, 2.2431975046920716]   \n",
       "3         [4.958924274663138, 4.756802495307928, 3.8588799919401326, 3.090702573174318, 3.1585290151921033, 4.0, 4.841470984807897, 4.909297426825682, 4.141120008059867, 3.2431975046920716]   \n",
       "\n",
       "          b cat  \n",
       "0 -0.084192   a  \n",
       "1  1.674260   a  \n",
       "2  1.726198   b  \n",
       "3  4.670081   b  "
      ]
     },
     "execution_count": 19,
     "metadata": {},
     "output_type": "execute_result"
    }
   ],
   "source": [
    "from fastseq.data.load import *\n",
    "horizon,lookback = 2,5\n",
    "def get_df():\n",
    "    t = np.arange(-5,5.)\n",
    "    a = np.sin(t)\n",
    "    return pd.DataFrame({'x':[i + (i*.6)*a*-.5 for i in range(1,5)],\n",
    "                   'a':[i+a for i in range(1,5)],\n",
    "                   'b':[i+torch.randn(1).numpy()[0] for i in range(1,5)],\n",
    "                   'cat':[i for i in 'aabb'],                  \n",
    "                  })\n",
    "df = get_df()\n",
    "df"
   ]
  },
  {
   "cell_type": "code",
   "execution_count": 20,
   "metadata": {
    "Collapsed": "false"
   },
   "outputs": [
    {
     "data": {
      "text/html": [
       "<div>\n",
       "<style scoped>\n",
       "    .dataframe tbody tr th:only-of-type {\n",
       "        vertical-align: middle;\n",
       "    }\n",
       "\n",
       "    .dataframe tbody tr th {\n",
       "        vertical-align: top;\n",
       "    }\n",
       "\n",
       "    .dataframe thead th {\n",
       "        text-align: right;\n",
       "    }\n",
       "</style>\n",
       "<table border=\"1\" class=\"dataframe\">\n",
       "  <thead>\n",
       "    <tr style=\"text-align: right;\">\n",
       "      <th></th>\n",
       "      <th>x</th>\n",
       "      <th>a</th>\n",
       "      <th>b</th>\n",
       "      <th>cat</th>\n",
       "    </tr>\n",
       "  </thead>\n",
       "  <tbody>\n",
       "    <tr>\n",
       "      <th>0</th>\n",
       "      <td>[0.7123227176010585, 0.7729592514076216, 1.0423360024179602, 1.2727892280477044, 1.252441295442369, 1.0, 0.7475587045576311, 0.7272107719522956, 0.9576639975820398, 1.2270407485923784]</td>\n",
       "      <td>[1.9589242746631386, 1.7568024953079282, 0.8588799919401328, 0.09070257317431829, 0.1585290151921035, 1.0, 1.8414709848078965, 1.9092974268256817, 1.1411200080598671, 0.2431975046920718]</td>\n",
       "      <td>-0.084192</td>\n",
       "      <td>a</td>\n",
       "    </tr>\n",
       "    <tr>\n",
       "      <th>1</th>\n",
       "      <td>[1.424645435202117, 1.5459185028152431, 2.0846720048359204, 2.545578456095409, 2.504882590884738, 2.0, 1.4951174091152621, 1.454421543904591, 1.9153279951640796, 2.454081497184757]</td>\n",
       "      <td>[2.9589242746631386, 2.7568024953079284, 1.8588799919401329, 1.0907025731743183, 1.1585290151921035, 2.0, 2.8414709848078967, 2.909297426825682, 2.1411200080598674, 1.2431975046920718]</td>\n",
       "      <td>1.674260</td>\n",
       "      <td>a</td>\n",
       "    </tr>\n",
       "    <tr>\n",
       "      <th>2</th>\n",
       "      <td>[2.1369681528031754, 2.3188777542228647, 3.1270080072538806, 3.8183676841431136, 3.757323886327107, 3.0, 2.242676113672893, 2.1816323158568864, 2.8729919927461194, 3.6811222457771353]</td>\n",
       "      <td>[3.9589242746631386, 3.7568024953079284, 2.8588799919401326, 2.090702573174318, 2.1585290151921033, 3.0, 3.8414709848078967, 3.909297426825682, 3.1411200080598674, 2.2431975046920716]</td>\n",
       "      <td>1.726198</td>\n",
       "      <td>b</td>\n",
       "    </tr>\n",
       "    <tr>\n",
       "      <th>3</th>\n",
       "      <td>[2.849290870404234, 3.0918370056304862, 4.169344009671841, 5.091156912190818, 5.009765181769476, 4.0, 2.9902348182305243, 2.908843087809182, 3.830655990328159, 4.908162994369514]</td>\n",
       "      <td>[4.958924274663138, 4.756802495307928, 3.8588799919401326, 3.090702573174318, 3.1585290151921033, 4.0, 4.841470984807897, 4.909297426825682, 4.141120008059867, 3.2431975046920716]</td>\n",
       "      <td>4.670081</td>\n",
       "      <td>b</td>\n",
       "    </tr>\n",
       "  </tbody>\n",
       "</table>\n",
       "</div>"
      ],
      "text/plain": [
       "                                                                                                                                                                                          x  \\\n",
       "0  [0.7123227176010585, 0.7729592514076216, 1.0423360024179602, 1.2727892280477044, 1.252441295442369, 1.0, 0.7475587045576311, 0.7272107719522956, 0.9576639975820398, 1.2270407485923784]   \n",
       "1      [1.424645435202117, 1.5459185028152431, 2.0846720048359204, 2.545578456095409, 2.504882590884738, 2.0, 1.4951174091152621, 1.454421543904591, 1.9153279951640796, 2.454081497184757]   \n",
       "2   [2.1369681528031754, 2.3188777542228647, 3.1270080072538806, 3.8183676841431136, 3.757323886327107, 3.0, 2.242676113672893, 2.1816323158568864, 2.8729919927461194, 3.6811222457771353]   \n",
       "3        [2.849290870404234, 3.0918370056304862, 4.169344009671841, 5.091156912190818, 5.009765181769476, 4.0, 2.9902348182305243, 2.908843087809182, 3.830655990328159, 4.908162994369514]   \n",
       "\n",
       "                                                                                                                                                                                            a  \\\n",
       "0  [1.9589242746631386, 1.7568024953079282, 0.8588799919401328, 0.09070257317431829, 0.1585290151921035, 1.0, 1.8414709848078965, 1.9092974268256817, 1.1411200080598671, 0.2431975046920718]   \n",
       "1    [2.9589242746631386, 2.7568024953079284, 1.8588799919401329, 1.0907025731743183, 1.1585290151921035, 2.0, 2.8414709848078967, 2.909297426825682, 2.1411200080598674, 1.2431975046920718]   \n",
       "2     [3.9589242746631386, 3.7568024953079284, 2.8588799919401326, 2.090702573174318, 2.1585290151921033, 3.0, 3.8414709848078967, 3.909297426825682, 3.1411200080598674, 2.2431975046920716]   \n",
       "3         [4.958924274663138, 4.756802495307928, 3.8588799919401326, 3.090702573174318, 3.1585290151921033, 4.0, 4.841470984807897, 4.909297426825682, 4.141120008059867, 3.2431975046920716]   \n",
       "\n",
       "          b cat  \n",
       "0 -0.084192   a  \n",
       "1  1.674260   a  \n",
       "2  1.726198   b  \n",
       "3  4.670081   b  "
      ]
     },
     "execution_count": 20,
     "metadata": {},
     "output_type": "execute_result"
    }
   ],
   "source": [
    "df"
   ]
  },
  {
   "cell_type": "code",
   "execution_count": 21,
   "metadata": {
    "Collapsed": "false"
   },
   "outputs": [
    {
     "data": {
      "image/png": "[encoded data removed]",
      "text/plain": [
       "<Figure size 648x720 with 9 Axes>"
      ]
     },
     "metadata": {
      "needs_background": "light"
     },
     "output_type": "display_data"
    }
   ],
   "source": [
    "dl = DfDataLoader(df, 'x', horizon = horizon, lookback = lookback, \n",
    "                  after_batch = NormalizeSeqsMulti(),\n",
    "                  num_workers = 0)\n",
    "dl.show_batch()"
   ]
  },
  {
   "cell_type": "code",
   "execution_count": 22,
   "metadata": {
    "Collapsed": "false"
   },
   "outputs": [],
   "source": [
    "# hide\n",
    "for o in dl:\n",
    "    for a in o[:-1]:\n",
    "        if a.shape[-1] > 0 and type(a) is TensorSeqs:\n",
    "            test_close(a.mean(),0)\n",
    "            test_close(a.std(),1,.1)\n",
    "    test_close(o[0][:,:,:lookback],o[-1][:,:,:lookback],.1)\n",
    "    test_eq(type(o),TSMulti_)\n",
    "    o_new = dl.after_batch[0].decode(o)\n",
    "    test_eq(o_new[0].mean()!=0, True)\n",
    "    test_eq(o_new[0].std()!=1, True)\n",
    "    break\n",
    "    \n",
    "test_eq(type(dl.one_batch()), TSMulti_)"
   ]
  },
  {
   "cell_type": "code",
   "execution_count": 23,
   "metadata": {
    "Collapsed": "false"
   },
   "outputs": [
    {
     "data": {
      "image/png": "[encoded data removed]",
      "text/plain": [
       "<Figure size 432x504 with 4 Axes>"
      ]
     },
     "metadata": {
      "needs_background": "light"
     },
     "output_type": "display_data"
    }
   ],
   "source": [
    "# hide\n",
    "# basic\n",
    "from fastseq.data.load import *\n",
    "horizon,lookback = 2,5\n",
    "t = np.arange(-5,5.)\n",
    "a = np.sin(t)\n",
    "df = pd.DataFrame({'pred':[i + (i*.6)*a*-.5 for i in range(1,5)],'a':[i+a for i in range(1,5)],'b':[a for _ in range(1,5)],\n",
    "                  'cat_1':[i for i in 'abbc'],'cat_2':[i for i in 'aabb']})\n",
    "dl = DfDataLoader(df,'pred', horizon = horizon, lookback = lookback,after_batch=NormalizeSeqsMulti(),\n",
    "                  num_workers = 1)\n",
    "for o in dl:\n",
    "    for a in o[:-1]:\n",
    "        for i in range(a.shape[0]):\n",
    "            if a.shape[-1]>0 and type(a) is not TensorCatI:\n",
    "                test_close(a[i].mean(),0)\n",
    "                test_close(a[i].std(),1,.1)\n",
    "    test_close(o[0][:,:,:lookback],o[-1][:,:,:lookback],.1)\n",
    "    test_eq(type(o),TSMulti_)\n",
    "    o_new = dl.after_batch[0].decode(o)\n",
    "    test_eq(o_new[0].mean()!=0, True)\n",
    "    test_eq(o_new[0].std()!=1, True)\n",
    "    break\n",
    "    \n",
    "test_eq(type(dl.one_batch()),TSMulti_)\n",
    "\n",
    "dl.show_batch(max_n = 4)"
   ]
  },
  {
   "cell_type": "markdown",
   "metadata": {
    "Collapsed": "false"
   },
   "source": [
    "# TSDataLoaders"
   ]
  },
  {
   "cell_type": "markdown",
   "metadata": {
    "Collapsed": "true"
   },
   "source": [
    "## Utils"
   ]
  },
  {
   "cell_type": "code",
   "execution_count": 24,
   "metadata": {
    "Collapsed": "false"
   },
   "outputs": [],
   "source": [
    "def concat_ts_list(train, val):\n",
    "    items=L()\n",
    "    assert len(train) == len(val)\n",
    "    for t, v in zip(train, val):\n",
    "        items.append(np.concatenate([t,v],1))\n",
    "    return items"
   ]
  },
  {
   "cell_type": "code",
   "execution_count": 25,
   "metadata": {
    "Collapsed": "false"
   },
   "outputs": [],
   "source": [
    "a = [np.random.randn(3,10)]*50\n",
    "b = [np.random.randn(3,5)]*50\n",
    "r = concat_ts_list(a,b)\n",
    "test_eq(r[0].shape,(3,15))\n",
    "test_eq(r[0], np.concatenate([a[0],b[0]],1))"
   ]
  },
  {
   "cell_type": "code",
   "execution_count": 26,
   "metadata": {
    "Collapsed": "false"
   },
   "outputs": [],
   "source": [
    "# export\n",
    "def make_test_df(df:L(), horizon:int, lookback:int, keep_lookback:bool = False):\n",
    "    \"\"\"Splits the series in `df` based on `horizon + lookback`*, where the last part will go into `val` and the first in `train`.\n",
    "\n",
    "    *if `keep_lookback`:\n",
    "        it will only remove `horizon` from `train` otherwise also lookback.\n",
    "    \"\"\"\n",
    "    train, val = {}, {}  \n",
    "    for col in df:\n",
    "        train[col], val[col] = [], []        \n",
    "        if type(df.loc[0, col])==pd.Series or type(df.loc[0, col]) == np.ndarray:\n",
    "            for row in df[col]:\n",
    "                row = pd.Series(row.flatten()) if isinstance(row, np.ndarray) else row\n",
    "                val[col].append(row.iloc[-(horizon+lookback):])\n",
    "                if keep_lookback:\n",
    "                    train[col].append(row.iloc[:-(horizon)])\n",
    "                else:\n",
    "                    train[col].append(row.iloc[:-(horizon+lookback)])\n",
    "        else:\n",
    "            val[col]   = df[col]\n",
    "            train[col] = df[col]\n",
    "\n",
    "    return pd.DataFrame(train), pd.DataFrame(val)\n"
   ]
  },
  {
   "cell_type": "code",
   "execution_count": 27,
   "metadata": {
    "Collapsed": "false"
   },
   "outputs": [],
   "source": [
    "# hide\n",
    "# series\n",
    "horizon,lookback = 2,5\n",
    "t = np.arange(-5,25)\n",
    "a = np.sin(t)\n",
    "df = pd.DataFrame({'x':[pd.Series(i + (i*.6)*a*-.5) for i in range(1,100)],\n",
    "                   'a':[i+a for i in range(1,100)]})\n",
    "train, val = make_test_df(df, lookback, horizon)\n",
    "test_eq(val.loc[0,'x'].shape, (lookback+horizon,))\n",
    "test_eq(train.loc[0,'x'].shape, (23,))"
   ]
  },
  {
   "cell_type": "code",
   "execution_count": 28,
   "metadata": {
    "Collapsed": "false"
   },
   "outputs": [
    {
     "data": {
      "text/html": [
       "<div>\n",
       "<style scoped>\n",
       "    .dataframe tbody tr th:only-of-type {\n",
       "        vertical-align: middle;\n",
       "    }\n",
       "\n",
       "    .dataframe tbody tr th {\n",
       "        vertical-align: top;\n",
       "    }\n",
       "\n",
       "    .dataframe thead th {\n",
       "        text-align: right;\n",
       "    }\n",
       "</style>\n",
       "<table border=\"1\" class=\"dataframe\">\n",
       "  <thead>\n",
       "    <tr style=\"text-align: right;\">\n",
       "      <th></th>\n",
       "      <th>x</th>\n",
       "      <th>weather</th>\n",
       "      <th>city</th>\n",
       "      <th>cont</th>\n",
       "    </tr>\n",
       "  </thead>\n",
       "  <tbody>\n",
       "    <tr>\n",
       "      <th>0</th>\n",
       "      <td>0    -1.827020\n",
       "1    -1.679740\n",
       "2    -1.781345\n",
       "3    -1.650074\n",
       "4    -1.727194\n",
       "        ...   \n",
       "58    0.838547\n",
       "59    0.763282\n",
       "60    0.723505\n",
       "61    1.024151\n",
       "62    1.110090\n",
       "Length: 63, dtype: float64</td>\n",
       "      <td>0     7.779832\n",
       "1     7.437992\n",
       "2     7.175400\n",
       "3     7.110185\n",
       "4     7.287688\n",
       "        ...   \n",
       "58    6.440103\n",
       "59    5.838441\n",
       "60    5.532047\n",
       "61    5.616020\n",
       "62    6.088842\n",
       "Length: 63, dtype: float64</td>\n",
       "      <td>adam</td>\n",
       "      <td>1.431858</td>\n",
       "    </tr>\n",
       "  </tbody>\n",
       "</table>\n",
       "</div>"
      ],
      "text/plain": [
       "                                                                                                                                                                                                 x  \\\n",
       "0  0    -1.827020\n",
       "1    -1.679740\n",
       "2    -1.781345\n",
       "3    -1.650074\n",
       "4    -1.727194\n",
       "        ...   \n",
       "58    0.838547\n",
       "59    0.763282\n",
       "60    0.723505\n",
       "61    1.024151\n",
       "62    1.110090\n",
       "Length: 63, dtype: float64   \n",
       "\n",
       "                                                                                                                                                                                           weather  \\\n",
       "0  0     7.779832\n",
       "1     7.437992\n",
       "2     7.175400\n",
       "3     7.110185\n",
       "4     7.287688\n",
       "        ...   \n",
       "58    6.440103\n",
       "59    5.838441\n",
       "60    5.532047\n",
       "61    5.616020\n",
       "62    6.088842\n",
       "Length: 63, dtype: float64   \n",
       "\n",
       "   city      cont  \n",
       "0  adam  1.431858  "
      ]
     },
     "execution_count": 28,
     "metadata": {},
     "output_type": "execute_result"
    }
   ],
   "source": [
    "# hide\n",
    "from fastseq.data.external import *\n",
    "horizon,lookback = 5,10\n",
    "df = dummy_data_generator_multi(70)\n",
    "train, val = make_test_df(df, 5, 2)\n",
    "test_eq(train.loc[0,'x'].shape, (63,))\n",
    "train.head(1)"
   ]
  },
  {
   "cell_type": "code",
   "execution_count": 29,
   "metadata": {
    "Collapsed": "false"
   },
   "outputs": [
    {
     "data": {
      "text/html": [
       "<div>\n",
       "<style scoped>\n",
       "    .dataframe tbody tr th:only-of-type {\n",
       "        vertical-align: middle;\n",
       "    }\n",
       "\n",
       "    .dataframe tbody tr th {\n",
       "        vertical-align: top;\n",
       "    }\n",
       "\n",
       "    .dataframe thead th {\n",
       "        text-align: right;\n",
       "    }\n",
       "</style>\n",
       "<table border=\"1\" class=\"dataframe\">\n",
       "  <thead>\n",
       "    <tr style=\"text-align: right;\">\n",
       "      <th></th>\n",
       "      <th>a</th>\n",
       "      <th>b</th>\n",
       "      <th>c</th>\n",
       "    </tr>\n",
       "  </thead>\n",
       "  <tbody>\n",
       "    <tr>\n",
       "      <th>0</th>\n",
       "      <td>0    0\n",
       "1    1\n",
       "2    2\n",
       "3    3\n",
       "4    4\n",
       "5    5\n",
       "6    6\n",
       "7    7\n",
       "dtype: int64</td>\n",
       "      <td>0    0\n",
       "1    1\n",
       "2    2\n",
       "3    3\n",
       "4    4\n",
       "5    5\n",
       "6    6\n",
       "7    7\n",
       "dtype: int64</td>\n",
       "      <td>3</td>\n",
       "    </tr>\n",
       "    <tr>\n",
       "      <th>1</th>\n",
       "      <td>0    0\n",
       "1    1\n",
       "2    2\n",
       "3    3\n",
       "4    4\n",
       "5    5\n",
       "6    6\n",
       "7    7\n",
       "dtype: int64</td>\n",
       "      <td>0    0\n",
       "1    1\n",
       "2    2\n",
       "3    3\n",
       "4    4\n",
       "5    5\n",
       "6    6\n",
       "7    7\n",
       "dtype: int64</td>\n",
       "      <td>3</td>\n",
       "    </tr>\n",
       "    <tr>\n",
       "      <th>2</th>\n",
       "      <td>0    0\n",
       "1    1\n",
       "2    2\n",
       "3    3\n",
       "4    4\n",
       "5    5\n",
       "6    6\n",
       "7    7\n",
       "dtype: int64</td>\n",
       "      <td>0    0\n",
       "1    1\n",
       "2    2\n",
       "3    3\n",
       "4    4\n",
       "5    5\n",
       "6    6\n",
       "7    7\n",
       "dtype: int64</td>\n",
       "      <td>3</td>\n",
       "    </tr>\n",
       "    <tr>\n",
       "      <th>3</th>\n",
       "      <td>0    0\n",
       "1    1\n",
       "2    2\n",
       "3    3\n",
       "4    4\n",
       "5    5\n",
       "6    6\n",
       "7    7\n",
       "dtype: int64</td>\n",
       "      <td>0    0\n",
       "1    1\n",
       "2    2\n",
       "3    3\n",
       "4    4\n",
       "5    5\n",
       "6    6\n",
       "7    7\n",
       "dtype: int64</td>\n",
       "      <td>3</td>\n",
       "    </tr>\n",
       "    <tr>\n",
       "      <th>4</th>\n",
       "      <td>0    0\n",
       "1    1\n",
       "2    2\n",
       "3    3\n",
       "4    4\n",
       "5    5\n",
       "6    6\n",
       "7    7\n",
       "dtype: int64</td>\n",
       "      <td>0    0\n",
       "1    1\n",
       "2    2\n",
       "3    3\n",
       "4    4\n",
       "5    5\n",
       "6    6\n",
       "7    7\n",
       "dtype: int64</td>\n",
       "      <td>3</td>\n",
       "    </tr>\n",
       "  </tbody>\n",
       "</table>\n",
       "</div>"
      ],
      "text/plain": [
       "                                                                      a  \\\n",
       "0  0    0\n",
       "1    1\n",
       "2    2\n",
       "3    3\n",
       "4    4\n",
       "5    5\n",
       "6    6\n",
       "7    7\n",
       "dtype: int64   \n",
       "1  0    0\n",
       "1    1\n",
       "2    2\n",
       "3    3\n",
       "4    4\n",
       "5    5\n",
       "6    6\n",
       "7    7\n",
       "dtype: int64   \n",
       "2  0    0\n",
       "1    1\n",
       "2    2\n",
       "3    3\n",
       "4    4\n",
       "5    5\n",
       "6    6\n",
       "7    7\n",
       "dtype: int64   \n",
       "3  0    0\n",
       "1    1\n",
       "2    2\n",
       "3    3\n",
       "4    4\n",
       "5    5\n",
       "6    6\n",
       "7    7\n",
       "dtype: int64   \n",
       "4  0    0\n",
       "1    1\n",
       "2    2\n",
       "3    3\n",
       "4    4\n",
       "5    5\n",
       "6    6\n",
       "7    7\n",
       "dtype: int64   \n",
       "\n",
       "                                                                      b  c  \n",
       "0  0    0\n",
       "1    1\n",
       "2    2\n",
       "3    3\n",
       "4    4\n",
       "5    5\n",
       "6    6\n",
       "7    7\n",
       "dtype: int64  3  \n",
       "1  0    0\n",
       "1    1\n",
       "2    2\n",
       "3    3\n",
       "4    4\n",
       "5    5\n",
       "6    6\n",
       "7    7\n",
       "dtype: int64  3  \n",
       "2  0    0\n",
       "1    1\n",
       "2    2\n",
       "3    3\n",
       "4    4\n",
       "5    5\n",
       "6    6\n",
       "7    7\n",
       "dtype: int64  3  \n",
       "3  0    0\n",
       "1    1\n",
       "2    2\n",
       "3    3\n",
       "4    4\n",
       "5    5\n",
       "6    6\n",
       "7    7\n",
       "dtype: int64  3  \n",
       "4  0    0\n",
       "1    1\n",
       "2    2\n",
       "3    3\n",
       "4    4\n",
       "5    5\n",
       "6    6\n",
       "7    7\n",
       "dtype: int64  3  "
      ]
     },
     "execution_count": 29,
     "metadata": {},
     "output_type": "execute_result"
    }
   ],
   "source": [
    "a = pd.DataFrame({'a':[np.arange(0,15)]*50,'b':[np.arange(0,15)]*50, 'c':[3]*50})\n",
    "train, val = make_test_df(a,5,2)\n",
    "test_eq(train['a'][0].max(),7)\n",
    "test_eq(val['a'][0].min(),8)\n",
    "test_eq(val['c'][0],val['c'][1])\n",
    "train.head()"
   ]
  },
  {
   "cell_type": "code",
   "execution_count": 30,
   "metadata": {
    "Collapsed": "false"
   },
   "outputs": [
    {
     "data": {
      "text/html": [
       "<div>\n",
       "<style scoped>\n",
       "    .dataframe tbody tr th:only-of-type {\n",
       "        vertical-align: middle;\n",
       "    }\n",
       "\n",
       "    .dataframe tbody tr th {\n",
       "        vertical-align: top;\n",
       "    }\n",
       "\n",
       "    .dataframe thead th {\n",
       "        text-align: right;\n",
       "    }\n",
       "</style>\n",
       "<table border=\"1\" class=\"dataframe\">\n",
       "  <thead>\n",
       "    <tr style=\"text-align: right;\">\n",
       "      <th></th>\n",
       "      <th>a</th>\n",
       "      <th>b</th>\n",
       "      <th>c</th>\n",
       "    </tr>\n",
       "  </thead>\n",
       "  <tbody>\n",
       "    <tr>\n",
       "      <th>0</th>\n",
       "      <td>0    0\n",
       "1    1\n",
       "2    2\n",
       "3    3\n",
       "4    4\n",
       "5    5\n",
       "6    6\n",
       "7    7\n",
       "8    8\n",
       "9    9\n",
       "dtype: int64</td>\n",
       "      <td>0    0\n",
       "1    1\n",
       "2    2\n",
       "3    3\n",
       "4    4\n",
       "5    5\n",
       "6    6\n",
       "7    7\n",
       "8    8\n",
       "9    9\n",
       "dtype: int64</td>\n",
       "      <td>3</td>\n",
       "    </tr>\n",
       "    <tr>\n",
       "      <th>1</th>\n",
       "      <td>0    0\n",
       "1    1\n",
       "2    2\n",
       "3    3\n",
       "4    4\n",
       "5    5\n",
       "6    6\n",
       "7    7\n",
       "8    8\n",
       "9    9\n",
       "dtype: int64</td>\n",
       "      <td>0    0\n",
       "1    1\n",
       "2    2\n",
       "3    3\n",
       "4    4\n",
       "5    5\n",
       "6    6\n",
       "7    7\n",
       "8    8\n",
       "9    9\n",
       "dtype: int64</td>\n",
       "      <td>3</td>\n",
       "    </tr>\n",
       "    <tr>\n",
       "      <th>2</th>\n",
       "      <td>0    0\n",
       "1    1\n",
       "2    2\n",
       "3    3\n",
       "4    4\n",
       "5    5\n",
       "6    6\n",
       "7    7\n",
       "8    8\n",
       "9    9\n",
       "dtype: int64</td>\n",
       "      <td>0    0\n",
       "1    1\n",
       "2    2\n",
       "3    3\n",
       "4    4\n",
       "5    5\n",
       "6    6\n",
       "7    7\n",
       "8    8\n",
       "9    9\n",
       "dtype: int64</td>\n",
       "      <td>3</td>\n",
       "    </tr>\n",
       "    <tr>\n",
       "      <th>3</th>\n",
       "      <td>0    0\n",
       "1    1\n",
       "2    2\n",
       "3    3\n",
       "4    4\n",
       "5    5\n",
       "6    6\n",
       "7    7\n",
       "8    8\n",
       "9    9\n",
       "dtype: int64</td>\n",
       "      <td>0    0\n",
       "1    1\n",
       "2    2\n",
       "3    3\n",
       "4    4\n",
       "5    5\n",
       "6    6\n",
       "7    7\n",
       "8    8\n",
       "9    9\n",
       "dtype: int64</td>\n",
       "      <td>3</td>\n",
       "    </tr>\n",
       "    <tr>\n",
       "      <th>4</th>\n",
       "      <td>0    0\n",
       "1    1\n",
       "2    2\n",
       "3    3\n",
       "4    4\n",
       "5    5\n",
       "6    6\n",
       "7    7\n",
       "8    8\n",
       "9    9\n",
       "dtype: int64</td>\n",
       "      <td>0    0\n",
       "1    1\n",
       "2    2\n",
       "3    3\n",
       "4    4\n",
       "5    5\n",
       "6    6\n",
       "7    7\n",
       "8    8\n",
       "9    9\n",
       "dtype: int64</td>\n",
       "      <td>3</td>\n",
       "    </tr>\n",
       "  </tbody>\n",
       "</table>\n",
       "</div>"
      ],
      "text/plain": [
       "                                                                                    a  \\\n",
       "0  0    0\n",
       "1    1\n",
       "2    2\n",
       "3    3\n",
       "4    4\n",
       "5    5\n",
       "6    6\n",
       "7    7\n",
       "8    8\n",
       "9    9\n",
       "dtype: int64   \n",
       "1  0    0\n",
       "1    1\n",
       "2    2\n",
       "3    3\n",
       "4    4\n",
       "5    5\n",
       "6    6\n",
       "7    7\n",
       "8    8\n",
       "9    9\n",
       "dtype: int64   \n",
       "2  0    0\n",
       "1    1\n",
       "2    2\n",
       "3    3\n",
       "4    4\n",
       "5    5\n",
       "6    6\n",
       "7    7\n",
       "8    8\n",
       "9    9\n",
       "dtype: int64   \n",
       "3  0    0\n",
       "1    1\n",
       "2    2\n",
       "3    3\n",
       "4    4\n",
       "5    5\n",
       "6    6\n",
       "7    7\n",
       "8    8\n",
       "9    9\n",
       "dtype: int64   \n",
       "4  0    0\n",
       "1    1\n",
       "2    2\n",
       "3    3\n",
       "4    4\n",
       "5    5\n",
       "6    6\n",
       "7    7\n",
       "8    8\n",
       "9    9\n",
       "dtype: int64   \n",
       "\n",
       "                                                                                    b  \\\n",
       "0  0    0\n",
       "1    1\n",
       "2    2\n",
       "3    3\n",
       "4    4\n",
       "5    5\n",
       "6    6\n",
       "7    7\n",
       "8    8\n",
       "9    9\n",
       "dtype: int64   \n",
       "1  0    0\n",
       "1    1\n",
       "2    2\n",
       "3    3\n",
       "4    4\n",
       "5    5\n",
       "6    6\n",
       "7    7\n",
       "8    8\n",
       "9    9\n",
       "dtype: int64   \n",
       "2  0    0\n",
       "1    1\n",
       "2    2\n",
       "3    3\n",
       "4    4\n",
       "5    5\n",
       "6    6\n",
       "7    7\n",
       "8    8\n",
       "9    9\n",
       "dtype: int64   \n",
       "3  0    0\n",
       "1    1\n",
       "2    2\n",
       "3    3\n",
       "4    4\n",
       "5    5\n",
       "6    6\n",
       "7    7\n",
       "8    8\n",
       "9    9\n",
       "dtype: int64   \n",
       "4  0    0\n",
       "1    1\n",
       "2    2\n",
       "3    3\n",
       "4    4\n",
       "5    5\n",
       "6    6\n",
       "7    7\n",
       "8    8\n",
       "9    9\n",
       "dtype: int64   \n",
       "\n",
       "   c  \n",
       "0  3  \n",
       "1  3  \n",
       "2  3  \n",
       "3  3  \n",
       "4  3  "
      ]
     },
     "execution_count": 30,
     "metadata": {},
     "output_type": "execute_result"
    }
   ],
   "source": [
    "# hide\n",
    "train, val = make_test_df(a,5,2,True)\n",
    "test_eq(train['a'][0].max(),9)\n",
    "test_eq(val['a'][0].min(),8)\n",
    "test_eq(val['c'][0],val['c'][1])\n",
    "train.head()"
   ]
  },
  {
   "cell_type": "markdown",
   "metadata": {
    "Collapsed": "false"
   },
   "source": [
    "## Dataloaders"
   ]
  },
  {
   "cell_type": "code",
   "execution_count": 159,
   "metadata": {
    "Collapsed": "false"
   },
   "outputs": [],
   "source": [
    "#export\n",
    "class DfDataLoaders(DataLoaders):\n",
    "    @classmethod\n",
    "    @delegates(DfDataLoader.__init__)\n",
    "    def from_df(cls, dataset:pd.DataFrame, y_name:str, horizon:int, valid_pct=1.5, seed=None, lookback=None, step=1,\n",
    "                   incl_test = True, path:Path='.', device=None, norm=True, **kwargs):\n",
    "        \"\"\"Create an list of time series.\n",
    "        The `DataLoader` for the test set will be save as an attribute under `test`\n",
    "        \"\"\"\n",
    "        lookback = ifnone(lookback, horizon * 4)\n",
    "        device = ifnone(device, default_device())\n",
    "        if incl_test:\n",
    "            dataset, test = make_test_df(dataset, horizon, lookback, keep_lookback = True)\n",
    "        train, valid = make_test_df(dataset, horizon + int(valid_pct*horizon), lookback , keep_lookback = True)\n",
    "        if norm and 'after_batch' not in kwargs:\n",
    "            kwargs.update({'after_batch':L(NormalizeSeqsMulti(n_its=4))})\n",
    "        db = DataLoaders(*[DfDataLoader(ds, y_name, horizon=horizon, lookback=lookback, step=step,\n",
    "                                        device=device, **kwargs)\n",
    "                           for ds in [train,valid]], path=path, device=device)\n",
    "        if incl_test:\n",
    "            db.test = DfDataLoader(test, y_name, horizon=horizon, lookback=lookback, step=step, device=device, **kwargs)\n",
    "\n",
    "            print(f\"Train:{db.train.n}; Valid: {db.valid.n}; Test {db.test.n}\")\n",
    "        else:\n",
    "            print(f\"Train:{db.train.n}; Valid: {db.valid.n}\")\n",
    "\n",
    "        return db"
   ]
  },
  {
   "cell_type": "code",
   "execution_count": 158,
   "metadata": {
    "Collapsed": "false"
   },
   "outputs": [
    {
     "data": {
      "text/html": [
       "<div>\n",
       "<style scoped>\n",
       "    .dataframe tbody tr th:only-of-type {\n",
       "        vertical-align: middle;\n",
       "    }\n",
       "\n",
       "    .dataframe tbody tr th {\n",
       "        vertical-align: top;\n",
       "    }\n",
       "\n",
       "    .dataframe thead th {\n",
       "        text-align: right;\n",
       "    }\n",
       "</style>\n",
       "<table border=\"1\" class=\"dataframe\">\n",
       "  <thead>\n",
       "    <tr style=\"text-align: right;\">\n",
       "      <th></th>\n",
       "      <th>pred</th>\n",
       "      <th>a</th>\n",
       "    </tr>\n",
       "  </thead>\n",
       "  <tbody>\n",
       "    <tr>\n",
       "      <th>0</th>\n",
       "      <td>0     0.712323\n",
       "1     0.772959\n",
       "2     1.042336\n",
       "3     1.272789\n",
       "4     1.252441\n",
       "5     1.000000\n",
       "6     0.747559\n",
       "7     0.727211\n",
       "8     0.957664\n",
       "9     1.227041\n",
       "10    1.287677\n",
       "11    1.083825\n",
       "12    0.802904\n",
       "13    0.703193\n",
       "14    0.876364\n",
       "15    1.163206\n",
       "16    1.299997\n",
       "17    1.160972\n",
       "18    0.873950\n",
       "19    0.702818\n",
       "20    0.804914\n",
       "21    1.086371\n",
       "22    1.288419\n",
       "23    1.225296\n",
       "24    0.955037\n",
       "25    0.726116\n",
       "26    0.749003\n",
       "27    1.002655\n",
       "28    1.253866\n",
       "29    1.271674\n",
       "dtype: float64</td>\n",
       "      <td>[1.9589242746631386, 1.7568024953079282, 0.8588799919401328, 0.09070257317431829, 0.1585290151921035, 1.0, 1.8414709848078965, 1.9092974268256817, 1.1411200080598671, 0.2431975046920718, 0.041075725336861546, 0.7205845018010741, 1.656986598718789, 1.989358246623382, 1.4121184852417565, 0.4559788891106302, 9.793449296524592e-06, 0.46342708199956506, 1.420167036826641, 1.9906073556948702, 1.6502878401571168, 0.7120966833349347, 0.03860250812044319, 0.24901275322832395, 1.1498772096629524, 1.9129452507276277, 1.836655638536056, 0.9911486907095961, 0.15377959582482936, 0.0944216379933761]</td>\n",
       "    </tr>\n",
       "  </tbody>\n",
       "</table>\n",
       "</div>"
      ],
      "text/plain": [
       "                                                                                                                                                                                                                                                                                                                                                                                                                                                                               pred  \\\n",
       "0  0     0.712323\n",
       "1     0.772959\n",
       "2     1.042336\n",
       "3     1.272789\n",
       "4     1.252441\n",
       "5     1.000000\n",
       "6     0.747559\n",
       "7     0.727211\n",
       "8     0.957664\n",
       "9     1.227041\n",
       "10    1.287677\n",
       "11    1.083825\n",
       "12    0.802904\n",
       "13    0.703193\n",
       "14    0.876364\n",
       "15    1.163206\n",
       "16    1.299997\n",
       "17    1.160972\n",
       "18    0.873950\n",
       "19    0.702818\n",
       "20    0.804914\n",
       "21    1.086371\n",
       "22    1.288419\n",
       "23    1.225296\n",
       "24    0.955037\n",
       "25    0.726116\n",
       "26    0.749003\n",
       "27    1.002655\n",
       "28    1.253866\n",
       "29    1.271674\n",
       "dtype: float64   \n",
       "\n",
       "                                                                                                                                                                                                                                                                                                                                                                                                                                                                                                                                                                                                                 a  \n",
       "0  [1.9589242746631386, 1.7568024953079282, 0.8588799919401328, 0.09070257317431829, 0.1585290151921035, 1.0, 1.8414709848078965, 1.9092974268256817, 1.1411200080598671, 0.2431975046920718, 0.041075725336861546, 0.7205845018010741, 1.656986598718789, 1.989358246623382, 1.4121184852417565, 0.4559788891106302, 9.793449296524592e-06, 0.46342708199956506, 1.420167036826641, 1.9906073556948702, 1.6502878401571168, 0.7120966833349347, 0.03860250812044319, 0.24901275322832395, 1.1498772096629524, 1.9129452507276277, 1.836655638536056, 0.9911486907095961, 0.15377959582482936, 0.0944216379933761]  "
      ]
     },
     "execution_count": 158,
     "metadata": {},
     "output_type": "execute_result"
    }
   ],
   "source": [
    "# hide\n",
    "# device series\n",
    "horizon,lookback = 2,5\n",
    "t = np.arange(-5,25)\n",
    "a = np.sin(t)\n",
    "df = pd.DataFrame({'pred':[pd.Series(i + (i*.6)*a*-.5) for i in range(1,100)],\n",
    "                   'a':[i+a for i in range(1,100)]})\n",
    "df.head(1)"
   ]
  },
  {
   "cell_type": "code",
   "execution_count": 33,
   "metadata": {
    "Collapsed": "false"
   },
   "outputs": [
    {
     "name": "stdout",
     "output_type": "stream",
     "text": [
      "Train:396; Valid: 99; Test 99\n"
     ]
    }
   ],
   "source": [
    "# hide\n",
    "data = DfDataLoaders.from_df(df, 'pred', horizon = horizon, lookback=lookback, step=5, device = torch.device('cpu'))\n",
    "\n",
    "test_eq(data.valid.dataset.iloc[0,0].shape[-1], data.valid.dataset.iloc[0,1].shape[-1])\n",
    "test_eq(data.valid.dataset.iloc[0,0].shape[-1]>lookback+horizon, True)\n",
    "test_eq(hasattr(data,'test'),True)\n",
    "test_eq([o[0].device for o in data.train][0], torch.device('cpu'))\n",
    "test_eq([o[0].device for o in data.test][0], torch.device('cpu'))"
   ]
  },
  {
   "cell_type": "code",
   "execution_count": 34,
   "metadata": {
    "Collapsed": "false"
   },
   "outputs": [],
   "source": [
    "# hide\n",
    "# device `cpu`\n",
    "horizon,lookback = 2,5\n",
    "t = np.arange(-5,25)\n",
    "a = np.sin(t)\n",
    "df = pd.DataFrame({'pred':[i + (i*.6)*a*-.5 for i in range(1,100)],'a':[i+a for i in range(1,100)]})\n"
   ]
  },
  {
   "cell_type": "code",
   "execution_count": 35,
   "metadata": {
    "Collapsed": "false"
   },
   "outputs": [
    {
     "name": "stdout",
     "output_type": "stream",
     "text": [
      "Train:396; Valid: 99; Test 99\n"
     ]
    }
   ],
   "source": [
    "# hide\n",
    "data = DfDataLoaders.from_df(df, 'pred', horizon = horizon, lookback=lookback, step=5, device = torch.device('cpu'))\n",
    "test_eq(data.valid.dataset.iloc[0,0].shape[-1],data.valid.dataset.iloc[0,1].shape[-1])\n",
    "test_eq(data.valid.dataset.iloc[0,0].shape[-1]>lookback+horizon, True)\n",
    "test_eq(hasattr(data,'test'),True)\n",
    "test_eq([o[0].device for o in data.train][0], torch.device('cpu'))\n",
    "test_eq([o[0].device for o in data.test][0], torch.device('cpu'))"
   ]
  },
  {
   "cell_type": "code",
   "execution_count": 36,
   "metadata": {
    "Collapsed": "false"
   },
   "outputs": [
    {
     "name": "stdout",
     "output_type": "stream",
     "text": [
      "Train:396; Valid: 99; Test 99\n"
     ]
    }
   ],
   "source": [
    "# hide\n",
    "# default device\n",
    "\n",
    "data = DfDataLoaders.from_df(df,'pred', horizon = horizon, lookback=lookback, step=5)\n",
    "test_eq(data.valid.dataset.iloc[0,0].shape[-1]>lookback+horizon, True)\n",
    "test_eq(hasattr(data,'test'),True)\n",
    "test_eq([o[0].device for o in data.train][0], default_device())\n",
    "test_eq([o[0].device for o in data.test][0], default_device())"
   ]
  },
  {
   "cell_type": "code",
   "execution_count": 37,
   "metadata": {
    "Collapsed": "false"
   },
   "outputs": [
    {
     "name": "stdout",
     "output_type": "stream",
     "text": [
      "Train:1881; Valid: 396\n"
     ]
    }
   ],
   "source": [
    "# hide\n",
    "dbunch = DfDataLoaders.from_df(df,'pred',horizon=horizon, lookback = lookback, incl_test=False)\n",
    "test_eq(hasattr(dbunch,'test'),False)"
   ]
  },
  {
   "cell_type": "code",
   "execution_count": 38,
   "metadata": {
    "Collapsed": "false"
   },
   "outputs": [
    {
     "data": {
      "text/markdown": [
       "<h4 id=\"DfDataLoaders.from_df\" class=\"doc_header\"><code>DfDataLoaders.from_df</code><a href=\"__main__.py#L3\" class=\"source_link\" style=\"float:right\">[source]</a></h4>\n",
       "\n",
       "> <code>DfDataLoaders.from_df</code>(**`dataset`**:`DataFrame`, **`y_name`**:`str`, **`horizon`**:`int`, **`valid_pct`**=*`1.5`*, **`seed`**=*`None`*, **`lookback`**=*`None`*, **`step`**=*`1`*, **`incl_test`**=*`True`*, **`path`**:`Path`=*`'.'`*, **`device`**=*`None`*, **`norm`**=*`True`*, **`dl_kwargs`**=*`{}`*, **`min_seq_len`**=*`None`*, **`procs`**=*`None`*, **`train`**=*`True`*, **`bs`**=*`64`*, **`shuffle`**=*`False`*, **`num_workers`**=*`None`*, **`verbose`**=*`False`*, **`do_setup`**=*`True`*, **`pin_memory`**=*`False`*, **`timeout`**=*`0`*, **`batch_size`**=*`None`*, **`drop_last`**=*`False`*, **`indexed`**=*`None`*, **`n`**=*`None`*, **`wif`**=*`None`*, **`before_iter`**=*`None`*, **`after_item`**=*`None`*, **`before_batch`**=*`None`*, **`after_batch`**=*`None`*, **`after_iter`**=*`None`*, **`create_batches`**=*`None`*, **`create_item`**=*`None`*, **`create_batch`**=*`None`*, **`retain`**=*`None`*, **`get_idxs`**=*`None`*, **`sample`**=*`None`*, **`shuffle_fn`**=*`None`*, **`do_batch`**=*`None`*)\n",
       "\n",
       "Create an list of time series.\n",
       "The `DataLoader` for the test set will be save as an attribute under `test`"
      ],
      "text/plain": [
       "<IPython.core.display.Markdown object>"
      ]
     },
     "metadata": {},
     "output_type": "display_data"
    }
   ],
   "source": [
    "show_doc(DfDataLoaders.from_df, name='DfDataLoaders.from_df')"
   ]
  },
  {
   "cell_type": "code",
   "execution_count": 39,
   "metadata": {
    "Collapsed": "false"
   },
   "outputs": [
    {
     "data": {
      "text/html": [
       "<div>\n",
       "<style scoped>\n",
       "    .dataframe tbody tr th:only-of-type {\n",
       "        vertical-align: middle;\n",
       "    }\n",
       "\n",
       "    .dataframe tbody tr th {\n",
       "        vertical-align: top;\n",
       "    }\n",
       "\n",
       "    .dataframe thead th {\n",
       "        text-align: right;\n",
       "    }\n",
       "</style>\n",
       "<table border=\"1\" class=\"dataframe\">\n",
       "  <thead>\n",
       "    <tr style=\"text-align: right;\">\n",
       "      <th></th>\n",
       "      <th>x</th>\n",
       "      <th>weather</th>\n",
       "      <th>city</th>\n",
       "      <th>cont</th>\n",
       "    </tr>\n",
       "  </thead>\n",
       "  <tbody>\n",
       "    <tr>\n",
       "      <th>0</th>\n",
       "      <td>[[1.4091950170814123, 1.6182611627585288, 1.580179518903698, 1.4965531933473262, 1.667799054149489, 1.5416804283923364, 1.552490032982681, 1.5018210018033793, 1.576901028248017, 1.516088606738185, 1.1572268038479716, 1.1331368860174027, 1.1220720494184468, 0.650030407353214, 0.5942428156391164, 0.4280711198273244, 0.4793345559322588, 0.7199293251222901, 0.7064705215663685, 0.6533132791912053, 0.9887756816845817, 0.8491274274830294, 0.6666340897029757, 0.6177263603762753, 0.3560112510717748, 0.3861022693262093, 0.2525213435249387, 0.13497130494106674, 0.1113503774817321, -0.0288394143351087...</td>\n",
       "      <td>[[3.269069711539428, 3.0934441166288456, 3.1162775443232382, 3.3872522043641315, 3.8784223661624395, 4.483032289023361, 5.039677986868572, 5.375630735588269, 5.357023089586325, 4.9310737580092425, 4.147415522001777, 3.1513920525885917, 2.1502289310702394, 1.3609013500770013, 0.9539723662708433, 1.0090324097590933, 1.4942063450956098, 2.2754146804926956, 3.1526534113367655, 3.912949095986582, 4.385065525907481, 4.480801789676182, 4.211860590350914, 3.6785239201888373, 3.034584417248519, 2.439716772193994, 2.0137674406169364, 1.8063692036619936, 1.7902379859086694, 1.8790572323977923, 1.9632...</td>\n",
       "      <td>adam</td>\n",
       "      <td>1.851320</td>\n",
       "    </tr>\n",
       "    <tr>\n",
       "      <th>1</th>\n",
       "      <td>[[0.7931524038064169, 0.7395138562243321, 0.6792442562898613, 0.7759667774413794, 0.5146312075602772, 0.7208881619978409, 0.894058286482978, 0.9834549915772365, 0.9665654031320094, 0.9142041241373389, 1.0196927541670553, 1.2327457504010895, 1.0756174163617422, 1.377073204919228, 1.2476913983302038, 1.2990136756901114, 1.0979216409292423, 1.3148601963806736, 1.1286604024544173, 1.3323056051672029, 1.0218775452145759, 1.3181223421267263, 1.0827497880325079, 1.1710784639528624, 1.2360597333709495, 1.2023047818306578, 1.462190657818934, 1.011799240142149, 1.0438632230808955, 0.8963894651013267...</td>\n",
       "      <td>[[-2.2792204885323155, -2.353145905881631, -2.3243416643363197, -2.1631766528528074, -1.8554760595470732, -1.4053269834995314, -0.835469726592911, -0.18518979707817718, 0.49403747940368803, 1.1445938845002759, 1.7096709190501982, 2.140217345672024, 2.4009680387490544, 2.4747602011740772, 2.364569225042647, 2.0929988475870007, 1.6992981374578344, 1.2343058087611183, 0.7539963140460064, 0.3124853171108989, -0.044580049635253416, -0.2853772603265211, -0.39531497917883085, -0.378060424024691, -0.2540808808806677, -0.05692914695779161, 0.17219306380755173, 0.3908286882873422, 0.5617241358094697...</td>\n",
       "      <td>adam</td>\n",
       "      <td>0.918613</td>\n",
       "    </tr>\n",
       "    <tr>\n",
       "      <th>2</th>\n",
       "      <td>[[1.1888693840347948, 1.1587261687607573, 1.0575912798292635, 1.0976945568614664, 0.8896164198690948, 1.081040078600613, 1.1304370489747506, 1.197757910103437, 1.374358959106694, 1.4627593310824516, 1.5640598572818674, 1.619541891059408, 1.6888390345103146, 1.676641301109491, 1.6525178124302837, 1.482509145397807, 1.4438579886577507, 1.3518635107175332, 1.0972600659149088, 0.806369988995618, 0.697539871532054, 0.49319343261438653, 0.25938821429497655, 0.05156117054162366, 0.026961825718059274, -0.08624519747837375, -0.1378990257321735, -0.20297033383414975, -0.15656720659053697, -0.3203418...</td>\n",
       "      <td>[[-3.455656099525695, -3.4294003997089186, -3.322285612207613, -3.1061095834068624, -2.7686419728898866, -2.3158442002615978, -1.7715708341289496, -1.1747755036615284, -0.5745841283430599, -0.02388947503093153, 0.4276756751301418, 0.740441708826379, 0.8901764098368721, 0.871586938810943, 0.6993687937720239, 0.40664870491225025, 0.041017197850090836, -0.3413305989830912, -0.6825739347994304, -0.9304434440392542, -1.0446484086189547, -1.0017077596403952, -0.7975531542794894, -0.4475719162965208, 0.015898710535436678, 0.5482730196094818, 1.098967672921581, 1.6183498893270685, 2.06444062665884...</td>\n",
       "      <td>adam</td>\n",
       "      <td>-0.027241</td>\n",
       "    </tr>\n",
       "  </tbody>\n",
       "</table>\n",
       "</div>"
      ],
      "text/plain": [
       "                                                                                                                                                                                                                                                                                                                                                                                                                                                                                                                                                                                                                         x  \\\n",
       "0  [[1.4091950170814123, 1.6182611627585288, 1.580179518903698, 1.4965531933473262, 1.667799054149489, 1.5416804283923364, 1.552490032982681, 1.5018210018033793, 1.576901028248017, 1.516088606738185, 1.1572268038479716, 1.1331368860174027, 1.1220720494184468, 0.650030407353214, 0.5942428156391164, 0.4280711198273244, 0.4793345559322588, 0.7199293251222901, 0.7064705215663685, 0.6533132791912053, 0.9887756816845817, 0.8491274274830294, 0.6666340897029757, 0.6177263603762753, 0.3560112510717748, 0.3861022693262093, 0.2525213435249387, 0.13497130494106674, 0.1113503774817321, -0.0288394143351087...   \n",
       "1  [[0.7931524038064169, 0.7395138562243321, 0.6792442562898613, 0.7759667774413794, 0.5146312075602772, 0.7208881619978409, 0.894058286482978, 0.9834549915772365, 0.9665654031320094, 0.9142041241373389, 1.0196927541670553, 1.2327457504010895, 1.0756174163617422, 1.377073204919228, 1.2476913983302038, 1.2990136756901114, 1.0979216409292423, 1.3148601963806736, 1.1286604024544173, 1.3323056051672029, 1.0218775452145759, 1.3181223421267263, 1.0827497880325079, 1.1710784639528624, 1.2360597333709495, 1.2023047818306578, 1.462190657818934, 1.011799240142149, 1.0438632230808955, 0.8963894651013267...   \n",
       "2  [[1.1888693840347948, 1.1587261687607573, 1.0575912798292635, 1.0976945568614664, 0.8896164198690948, 1.081040078600613, 1.1304370489747506, 1.197757910103437, 1.374358959106694, 1.4627593310824516, 1.5640598572818674, 1.619541891059408, 1.6888390345103146, 1.676641301109491, 1.6525178124302837, 1.482509145397807, 1.4438579886577507, 1.3518635107175332, 1.0972600659149088, 0.806369988995618, 0.697539871532054, 0.49319343261438653, 0.25938821429497655, 0.05156117054162366, 0.026961825718059274, -0.08624519747837375, -0.1378990257321735, -0.20297033383414975, -0.15656720659053697, -0.3203418...   \n",
       "\n",
       "                                                                                                                                                                                                                                                                                                                                                                                                                                                                                                                                                                                                                   weather  \\\n",
       "0  [[3.269069711539428, 3.0934441166288456, 3.1162775443232382, 3.3872522043641315, 3.8784223661624395, 4.483032289023361, 5.039677986868572, 5.375630735588269, 5.357023089586325, 4.9310737580092425, 4.147415522001777, 3.1513920525885917, 2.1502289310702394, 1.3609013500770013, 0.9539723662708433, 1.0090324097590933, 1.4942063450956098, 2.2754146804926956, 3.1526534113367655, 3.912949095986582, 4.385065525907481, 4.480801789676182, 4.211860590350914, 3.6785239201888373, 3.034584417248519, 2.439716772193994, 2.0137674406169364, 1.8063692036619936, 1.7902379859086694, 1.8790572323977923, 1.9632...   \n",
       "1  [[-2.2792204885323155, -2.353145905881631, -2.3243416643363197, -2.1631766528528074, -1.8554760595470732, -1.4053269834995314, -0.835469726592911, -0.18518979707817718, 0.49403747940368803, 1.1445938845002759, 1.7096709190501982, 2.140217345672024, 2.4009680387490544, 2.4747602011740772, 2.364569225042647, 2.0929988475870007, 1.6992981374578344, 1.2343058087611183, 0.7539963140460064, 0.3124853171108989, -0.044580049635253416, -0.2853772603265211, -0.39531497917883085, -0.378060424024691, -0.2540808808806677, -0.05692914695779161, 0.17219306380755173, 0.3908286882873422, 0.5617241358094697...   \n",
       "2  [[-3.455656099525695, -3.4294003997089186, -3.322285612207613, -3.1061095834068624, -2.7686419728898866, -2.3158442002615978, -1.7715708341289496, -1.1747755036615284, -0.5745841283430599, -0.02388947503093153, 0.4276756751301418, 0.740441708826379, 0.8901764098368721, 0.871586938810943, 0.6993687937720239, 0.40664870491225025, 0.041017197850090836, -0.3413305989830912, -0.6825739347994304, -0.9304434440392542, -1.0446484086189547, -1.0017077596403952, -0.7975531542794894, -0.4475719162965208, 0.015898710535436678, 0.5482730196094818, 1.098967672921581, 1.6183498893270685, 2.06444062665884...   \n",
       "\n",
       "   city      cont  \n",
       "0  adam  1.851320  \n",
       "1  adam  0.918613  \n",
       "2  adam -0.027241  "
      ]
     },
     "execution_count": 39,
     "metadata": {},
     "output_type": "execute_result"
    }
   ],
   "source": [
    "from fastseq.data.external import *\n",
    "horizon,lookback = 5,10\n",
    "df = dummy_data_generator_multi(70)\n",
    "df.head(3)"
   ]
  },
  {
   "cell_type": "code",
   "execution_count": 40,
   "metadata": {
    "Collapsed": "false"
   },
   "outputs": [
    {
     "name": "stdout",
     "output_type": "stream",
     "text": [
      "Train:130; Valid: 60; Test 10\n"
     ]
    },
    {
     "data": {
      "image/png": "[encoded data removed]",
      "text/plain": [
       "<Figure size 648x720 with 9 Axes>"
      ]
     },
     "metadata": {
      "needs_background": "light"
     },
     "output_type": "display_data"
    }
   ],
   "source": [
    "dbunch =  DfDataLoaders.from_df(df, 'x', horizon = 7, lookback=14, step=2, bs=32)\n",
    "dbunch.train.show_batch(max_n=9)"
   ]
  },
  {
   "cell_type": "code",
   "execution_count": 41,
   "metadata": {
    "Collapsed": "false"
   },
   "outputs": [
    {
     "data": {
      "image/png": "[encoded data removed]",
      "text/plain": [
       "<Figure size 648x720 with 9 Axes>"
      ]
     },
     "metadata": {
      "needs_background": "light"
     },
     "output_type": "display_data"
    }
   ],
   "source": [
    "dbunch.test.show_batch(max_n=9)"
   ]
  },
  {
   "cell_type": "markdown",
   "metadata": {
    "Collapsed": "false"
   },
   "source": [
    "## M5"
   ]
  },
  {
   "cell_type": "code",
   "execution_count": 42,
   "metadata": {
    "Collapsed": "false"
   },
   "outputs": [
    {
     "data": {
      "text/plain": [
       "(#5) [Path('../data/m5_tiny/sales_train_validation.csv'),Path('../data/m5_tiny/sample_submission.csv'),Path('../data/m5_tiny/calendar.csv'),Path('../data/m5_tiny/sales_train_preped.csv'),Path('../data/m5_tiny/sell_prices.csv')]"
      ]
     },
     "execution_count": 42,
     "metadata": {},
     "output_type": "execute_result"
    }
   ],
   "source": [
    "path = Path('../data/m5_tiny')\n",
    "path.ls()"
   ]
  },
  {
   "cell_type": "code",
   "execution_count": 43,
   "metadata": {
    "Collapsed": "false"
   },
   "outputs": [
    {
     "data": {
      "text/html": [
       "<div>\n",
       "<style scoped>\n",
       "    .dataframe tbody tr th:only-of-type {\n",
       "        vertical-align: middle;\n",
       "    }\n",
       "\n",
       "    .dataframe tbody tr th {\n",
       "        vertical-align: top;\n",
       "    }\n",
       "\n",
       "    .dataframe thead th {\n",
       "        text-align: right;\n",
       "    }\n",
       "</style>\n",
       "<table border=\"1\" class=\"dataframe\">\n",
       "  <thead>\n",
       "    <tr style=\"text-align: right;\">\n",
       "      <th></th>\n",
       "      <th>id</th>\n",
       "      <th>item_id</th>\n",
       "      <th>dept_id</th>\n",
       "      <th>cat_id</th>\n",
       "      <th>store_id</th>\n",
       "      <th>state_id</th>\n",
       "      <th>d_1</th>\n",
       "      <th>d_2</th>\n",
       "      <th>d_3</th>\n",
       "      <th>d_4</th>\n",
       "      <th>...</th>\n",
       "      <th>d_1904</th>\n",
       "      <th>d_1905</th>\n",
       "      <th>d_1906</th>\n",
       "      <th>d_1907</th>\n",
       "      <th>d_1908</th>\n",
       "      <th>d_1909</th>\n",
       "      <th>d_1910</th>\n",
       "      <th>d_1911</th>\n",
       "      <th>d_1912</th>\n",
       "      <th>d_1913</th>\n",
       "    </tr>\n",
       "  </thead>\n",
       "  <tbody>\n",
       "    <tr>\n",
       "      <th>0</th>\n",
       "      <td>HOBBIES_1_001_CA_1_validation</td>\n",
       "      <td>HOBBIES_1_001</td>\n",
       "      <td>HOBBIES_1</td>\n",
       "      <td>HOBBIES</td>\n",
       "      <td>CA_1</td>\n",
       "      <td>CA</td>\n",
       "      <td>0</td>\n",
       "      <td>0</td>\n",
       "      <td>0</td>\n",
       "      <td>0</td>\n",
       "      <td>...</td>\n",
       "      <td>1</td>\n",
       "      <td>3</td>\n",
       "      <td>0</td>\n",
       "      <td>1</td>\n",
       "      <td>1</td>\n",
       "      <td>1</td>\n",
       "      <td>3</td>\n",
       "      <td>0</td>\n",
       "      <td>1</td>\n",
       "      <td>1</td>\n",
       "    </tr>\n",
       "    <tr>\n",
       "      <th>1</th>\n",
       "      <td>HOBBIES_1_002_CA_1_validation</td>\n",
       "      <td>HOBBIES_1_002</td>\n",
       "      <td>HOBBIES_1</td>\n",
       "      <td>HOBBIES</td>\n",
       "      <td>CA_1</td>\n",
       "      <td>CA</td>\n",
       "      <td>0</td>\n",
       "      <td>0</td>\n",
       "      <td>0</td>\n",
       "      <td>0</td>\n",
       "      <td>...</td>\n",
       "      <td>0</td>\n",
       "      <td>0</td>\n",
       "      <td>0</td>\n",
       "      <td>0</td>\n",
       "      <td>0</td>\n",
       "      <td>1</td>\n",
       "      <td>0</td>\n",
       "      <td>0</td>\n",
       "      <td>0</td>\n",
       "      <td>0</td>\n",
       "    </tr>\n",
       "    <tr>\n",
       "      <th>2</th>\n",
       "      <td>HOBBIES_1_003_CA_1_validation</td>\n",
       "      <td>HOBBIES_1_003</td>\n",
       "      <td>HOBBIES_1</td>\n",
       "      <td>HOBBIES</td>\n",
       "      <td>CA_1</td>\n",
       "      <td>CA</td>\n",
       "      <td>0</td>\n",
       "      <td>0</td>\n",
       "      <td>0</td>\n",
       "      <td>0</td>\n",
       "      <td>...</td>\n",
       "      <td>2</td>\n",
       "      <td>1</td>\n",
       "      <td>2</td>\n",
       "      <td>1</td>\n",
       "      <td>1</td>\n",
       "      <td>1</td>\n",
       "      <td>0</td>\n",
       "      <td>1</td>\n",
       "      <td>1</td>\n",
       "      <td>1</td>\n",
       "    </tr>\n",
       "    <tr>\n",
       "      <th>3</th>\n",
       "      <td>HOBBIES_1_004_CA_1_validation</td>\n",
       "      <td>HOBBIES_1_004</td>\n",
       "      <td>HOBBIES_1</td>\n",
       "      <td>HOBBIES</td>\n",
       "      <td>CA_1</td>\n",
       "      <td>CA</td>\n",
       "      <td>0</td>\n",
       "      <td>0</td>\n",
       "      <td>0</td>\n",
       "      <td>0</td>\n",
       "      <td>...</td>\n",
       "      <td>1</td>\n",
       "      <td>0</td>\n",
       "      <td>5</td>\n",
       "      <td>4</td>\n",
       "      <td>1</td>\n",
       "      <td>0</td>\n",
       "      <td>1</td>\n",
       "      <td>3</td>\n",
       "      <td>7</td>\n",
       "      <td>2</td>\n",
       "    </tr>\n",
       "    <tr>\n",
       "      <th>4</th>\n",
       "      <td>HOBBIES_1_005_CA_1_validation</td>\n",
       "      <td>HOBBIES_1_005</td>\n",
       "      <td>HOBBIES_1</td>\n",
       "      <td>HOBBIES</td>\n",
       "      <td>CA_1</td>\n",
       "      <td>CA</td>\n",
       "      <td>0</td>\n",
       "      <td>0</td>\n",
       "      <td>0</td>\n",
       "      <td>0</td>\n",
       "      <td>...</td>\n",
       "      <td>2</td>\n",
       "      <td>1</td>\n",
       "      <td>1</td>\n",
       "      <td>0</td>\n",
       "      <td>1</td>\n",
       "      <td>1</td>\n",
       "      <td>2</td>\n",
       "      <td>2</td>\n",
       "      <td>2</td>\n",
       "      <td>4</td>\n",
       "    </tr>\n",
       "  </tbody>\n",
       "</table>\n",
       "<p>5 rows × 1919 columns</p>\n",
       "</div>"
      ],
      "text/plain": [
       "                              id        item_id    dept_id   cat_id store_id  \\\n",
       "0  HOBBIES_1_001_CA_1_validation  HOBBIES_1_001  HOBBIES_1  HOBBIES     CA_1   \n",
       "1  HOBBIES_1_002_CA_1_validation  HOBBIES_1_002  HOBBIES_1  HOBBIES     CA_1   \n",
       "2  HOBBIES_1_003_CA_1_validation  HOBBIES_1_003  HOBBIES_1  HOBBIES     CA_1   \n",
       "3  HOBBIES_1_004_CA_1_validation  HOBBIES_1_004  HOBBIES_1  HOBBIES     CA_1   \n",
       "4  HOBBIES_1_005_CA_1_validation  HOBBIES_1_005  HOBBIES_1  HOBBIES     CA_1   \n",
       "\n",
       "  state_id  d_1  d_2  d_3  d_4  ...  d_1904  d_1905  d_1906  d_1907  d_1908  \\\n",
       "0       CA    0    0    0    0  ...       1       3       0       1       1   \n",
       "1       CA    0    0    0    0  ...       0       0       0       0       0   \n",
       "2       CA    0    0    0    0  ...       2       1       2       1       1   \n",
       "3       CA    0    0    0    0  ...       1       0       5       4       1   \n",
       "4       CA    0    0    0    0  ...       2       1       1       0       1   \n",
       "\n",
       "   d_1909  d_1910  d_1911  d_1912  d_1913  \n",
       "0       1       3       0       1       1  \n",
       "1       1       0       0       0       0  \n",
       "2       1       0       1       1       1  \n",
       "3       0       1       3       7       2  \n",
       "4       1       2       2       2       4  \n",
       "\n",
       "[5 rows x 1919 columns]"
      ]
     },
     "execution_count": 43,
     "metadata": {},
     "output_type": "execute_result"
    }
   ],
   "source": [
    "df_sales = pd.read_csv(path / 'sales_train_validation.csv',)\n",
    "df_sales.head()"
   ]
  },
  {
   "cell_type": "code",
   "execution_count": 85,
   "metadata": {
    "Collapsed": "false"
   },
   "outputs": [],
   "source": [
    "# export\n",
    "def _del_key_and_move_others(dct:dict, key:int):\n",
    "    \"\"\"Assuming keys of dict are intergers and the next one is +1.\"\"\"\n",
    "    r = {}\n",
    "    for k,v in dct.items():\n",
    "        if k < key:\n",
    "            r[k] = dct[k]\n",
    "        elif k > key:\n",
    "            r[k-1] = dct[k]\n",
    "    return r           "
   ]
  },
  {
   "cell_type": "code",
   "execution_count": 86,
   "metadata": {
    "Collapsed": "false"
   },
   "outputs": [],
   "source": [
    "dct = {i:i for i in range(5)} \n",
    "test_eq(_del_key_and_move_others(dct,3),{0: 0, 1: 1, 2: 2, 3: 4})"
   ]
  },
  {
   "cell_type": "code",
   "execution_count": 144,
   "metadata": {
    "Collapsed": "false"
   },
   "outputs": [],
   "source": [
    "# export\n",
    "from fastai2.tabular.core import *\n",
    "class SkipZeros(TabularProc):\n",
    "    def __init__(self, p_stay):\n",
    "        self.p_stay = p_stay\n",
    "        self.skipped = {'all':0,'out':[]}\n",
    "        \n",
    "    def setup(self, dl, train_setup):\n",
    "        self.skipped = {'all':0,'out':[]}\n",
    "        for i in range(dl.n):\n",
    "            o = dl.create_item(i)\n",
    "            if o[-1].mean()==0 and o[-1].std() == 0:\n",
    "                self.skipped['all'] += 1\n",
    "                if np.random.rand() > self.p_stay and train_setup:\n",
    "                    self.skipped['out'].append(i)\n",
    "                    \n",
    "        for removed, i in enumerate(self.skipped['out']):\n",
    "            dl._ids = _del_key_and_move_others(dl._ids,i - removed)\n",
    "        dl.n = int(dl._ids.__len__())      \n",
    "        \n",
    "        return dl"
   ]
  },
  {
   "cell_type": "code",
   "execution_count": 146,
   "metadata": {
    "Collapsed": "false"
   },
   "outputs": [],
   "source": [
    "class test_dl(object):\n",
    "    def __init__(self, n):\n",
    "        self.n = n\n",
    "        self._ids = {i:(np.array([i]),) if i%2!=0 else (np.array([0]),) for i in range(n)}\n",
    "    def create_item(self,i):\n",
    "        return self._ids[i]\n",
    "dl = SkipZeros(0).setup(test_dl(8),True)\n",
    "test_eq(np.array([v==(array([0]),) for k,v in dl._ids.items()]).sum(),0)\n",
    "test_eq(dl.n,len(dl._ids))"
   ]
  },
  {
   "cell_type": "code",
   "execution_count": 147,
   "metadata": {
    "Collapsed": "false"
   },
   "outputs": [],
   "source": [
    "# export\n",
    "def get_per_zeros(dl, name = ''):\n",
    "    zeros = L()\n",
    "    for i,o in enumerate(dl):\n",
    "        zeros += [int(a) for a in o[-1].mean(-1)==0]\n",
    "    print(f'{name}:num of zeros {np.round(np.array(zeros).mean()*100,2)}% over {len(zeros)} batchs')\n",
    "    return zeros\n",
    "    \n",
    "DfDataLoader.per_zeros = get_per_zeros"
   ]
  },
  {
   "cell_type": "code",
   "execution_count": 148,
   "metadata": {
    "Collapsed": "false"
   },
   "outputs": [
    {
     "name": "stdout",
     "output_type": "stream",
     "text": [
      "Train:744; Valid: 21; Test 3\n",
      "wo train:num of zeros 36.56% over 744 batchs\n",
      "Train:495; Valid: 21; Test 3\n",
      "train:num of zeros 4.65% over 495 batchs\n",
      "valid:num of zeros 0.0% over 21 batchs\n",
      "test:num of zeros 0.0% over 3 batchs\n"
     ]
    }
   ],
   "source": [
    "df_sales = to_contained_series(pd.read_csv(path / 'sales_train_validation.csv').iloc[:3])\n",
    "dbunch = DfDataLoaders.from_df(df_sales, 'sales', horizon = 28, lookback=28*2, step=7, bs=32)\n",
    "wo_proc = dbunch.train.per_zeros('wo train')\n",
    "\n",
    "\n",
    "df_sales = to_contained_series(pd.read_csv(path / 'sales_train_validation.csv').iloc[:3])\n",
    "skip = .1\n",
    "dbunch = DfDataLoaders.from_df(df_sales, 'sales', horizon = 28, lookback=28*2, step=7, bs=32, procs = SkipZeros(skip),)\n",
    "\n",
    "w_proc = dbunch.train.per_zeros('train')\n",
    "dbunch.valid.per_zeros('valid')\n",
    "dbunch.test.per_zeros('test')\n",
    "test_close(np.array(wo_proc).sum()*skip, np.array(w_proc).sum(), np.array(w_proc).sum() *.3)"
   ]
  },
  {
   "cell_type": "code",
   "execution_count": 149,
   "metadata": {
    "Collapsed": "false"
   },
   "outputs": [],
   "source": [
    "# export\n",
    "@delegates(DfDataLoaders.from_df)\n",
    "def from_m5_folder(cls, path:pd.DataFrame, cols = ['sales'], p_stay=.2, **kwargs):\n",
    "    df_sales = to_contained_series(pd.read_csv(path / 'sales_train_validation.csv'))\n",
    "    dl = cls.from_df(df_sales.loc[:20,cols], y_name = 'sales', procs = SkipZeros(p_stay), **kwargs)\n",
    "    return dl\n",
    "\n",
    "DfDataLoaders.from_m5_folder = classmethod(from_m5_folder)"
   ]
  },
  {
   "cell_type": "code",
   "execution_count": 153,
   "metadata": {
    "Collapsed": "false"
   },
   "outputs": [
    {
     "name": "stdout",
     "output_type": "stream",
     "text": [
      "Train:4413; Valid: 147; Test 21\n"
     ]
    }
   ],
   "source": [
    "dl = DfDataLoaders.from_m5_folder(path, horizon=28, lookback=28*2, step=7, p_stay = 0)"
   ]
  },
  {
   "cell_type": "code",
   "execution_count": 154,
   "metadata": {
    "Collapsed": "false"
   },
   "outputs": [
    {
     "data": {
      "image/png": "[encoded data removed]",
      "text/plain": [
       "<Figure size 648x720 with 9 Axes>"
      ]
     },
     "metadata": {
      "needs_background": "light"
     },
     "output_type": "display_data"
    }
   ],
   "source": [
    "dl.show_batch(max_n=9)"
   ]
  },
  {
   "cell_type": "code",
   "execution_count": 162,
   "metadata": {
    "Collapsed": "false"
   },
   "outputs": [
    {
     "name": "stdout",
     "output_type": "stream",
     "text": [
      "Converted 00_core.ipynb.\n",
      "Converted 01_data.external.ipynb.\n",
      "Converted 020_data.load_pd.ipynb.\n",
      "Converted 02_data.load.ipynb.\n",
      "Converted 030_data.core_pd.ipynb.\n",
      "Converted 03_data.core.ipynb.\n",
      "Converted 050_nbeats.models_multi.ipynb.\n",
      "Converted 05_nbeats.model_M5.ipynb.\n",
      "Converted 05_nbeats.models.ipynb.\n",
      "Converted 06_nbeats.callbacks.ipynb.\n",
      "Converted 07_nbeats.learner.ipynb.\n",
      "Converted 08_nbeats.interpret.ipynb.\n",
      "Converted 11_metrics.ipynb.\n",
      "Converted 12_compare.ipynb.\n",
      "Converted index.ipynb.\n"
     ]
    }
   ],
   "source": [
    "# hide\n",
    "from nbdev.export import *\n",
    "\n",
    "notebook2script()"
   ]
  },
  {
   "cell_type": "code",
   "execution_count": null,
   "metadata": {
    "Collapsed": "false"
   },
   "outputs": [],
   "source": []
  },
  {
   "cell_type": "code",
   "execution_count": null,
   "metadata": {
    "Collapsed": "false"
   },
   "outputs": [],
   "source": []
  }
 ],
 "metadata": {
  "kernelspec": {
   "display_name": "env37",
   "language": "python",
   "name": "env37"
  },
  "language_info": {
   "codemirror_mode": {
    "name": "ipython",
    "version": 3
   },
   "file_extension": ".py",
   "mimetype": "text/x-python",
   "name": "python",
   "nbconvert_exporter": "python",
   "pygments_lexer": "ipython3",
   "version": "3.7.4"
  }
 },
 "nbformat": 4,
 "nbformat_minor": 4
}
