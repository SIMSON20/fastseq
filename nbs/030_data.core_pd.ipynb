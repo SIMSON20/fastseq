{
 "cells": [
  {
   "cell_type": "code",
   "execution_count": 1,
   "metadata": {
    "Collapsed": "false"
   },
   "outputs": [],
   "source": [
    "# default_exp data.core_pd"
   ]
  },
  {
   "cell_type": "code",
   "execution_count": 2,
   "metadata": {
    "Collapsed": "false"
   },
   "outputs": [
    {
     "name": "stderr",
     "output_type": "stream",
     "text": [
      "/home/tako/dev/env37/lib/python3.7/site-packages/pandas/compat/__init__.py:117: UserWarning: Could not import the lzma module. Your installed Python is incomplete. Attempting to use lzma compression will result in a RuntimeError.\n",
      "  warnings.warn(msg)\n"
     ]
    }
   ],
   "source": [
    "# hide\n",
    "import sys\n",
    "\n",
    "sys.path.append(\"..\")\n",
    "import pandas as pd"
   ]
  },
  {
   "cell_type": "code",
   "execution_count": 3,
   "metadata": {
    "Collapsed": "false"
   },
   "outputs": [],
   "source": [
    "# hide\n",
    "from nbdev.showdoc import *"
   ]
  },
  {
   "cell_type": "markdown",
   "metadata": {
    "Collapsed": "false"
   },
   "source": [
    "# Data Core\n",
    "\n",
    "> Using the fastai2 `Datasets` to make an time series dataset.\n",
    "\n",
    "For now all is univerable but in the future I would also like to add multiplevariable. \n"
   ]
  },
  {
   "cell_type": "code",
   "execution_count": 4,
   "metadata": {
    "Collapsed": "false"
   },
   "outputs": [],
   "source": [
    "# export\n",
    "from fastseq.data.load import *\n",
    "from fastseq.core import *\n",
    "from fastcore.all import *\n",
    "from fastcore.imports import *\n",
    "from fastai2.basics import *\n",
    "from fastai2.data.transforms import *\n",
    "from fastai2.tabular.core import *\n",
    "from fastseq.data.load_pd import *"
   ]
  },
  {
   "cell_type": "markdown",
   "metadata": {
    "Collapsed": "false"
   },
   "source": [
    "# Transforms\n",
    "\n",
    "> Basic function to process time-series data before assembling it in a `DataLoaders`."
   ]
  },
  {
   "cell_type": "markdown",
   "metadata": {
    "Collapsed": "false"
   },
   "source": [
    "## Normalize"
   ]
  },
  {
   "cell_type": "markdown",
   "metadata": {
    "Collapsed": "true"
   },
   "source": [
    "### old"
   ]
  },
  {
   "cell_type": "code",
   "execution_count": 92,
   "metadata": {
    "Collapsed": "false"
   },
   "outputs": [],
   "source": [
    "# export\n",
    "import warnings\n",
    "class NormalizeTSMulti(ItemTransform):\n",
    "    \"Normalize the Time-Series.\"\n",
    "    def __init__(self, to_norm=['TensorCon','TensorSeqs'], verbose=False, make_ones=True, eps=1e-7, mean = None):\n",
    "        \"\"\"\n",
    "        `make_ones` will make the std 1 if the std is smaller than `10*eps`.\n",
    "        This is for blok seqences to not magnify the `y` part of the data.\n",
    "\n",
    "        `mean` will set a mean instead of the mean of the x value.\n",
    "        (\n",
    "            TensorSeqs(x, label=[self.y_name + '_x'], m=['g']),\n",
    "            TensorSeqs(tsx,label=self.ts_names),\n",
    "            TensorCon(cat,label=self.cat_names).long(),\n",
    "            TensorCon(con,label=self.con_names),\n",
    "            TensorSeqs(y, label=[self.y_name+ '_y'], m=['r'])\n",
    "        )\n",
    "        \"\"\"\n",
    "        store_attr(self,'verbose, make_ones, eps, mean,to_norm')\n",
    "        self.m, self.s = {}, {}\n",
    "        warnings.warn(\"NormalizeTSMulti is depricated. Please use `NormalizeSeqsMulti`\")\n",
    "\n",
    "    def encodes(self, o):\n",
    "        for i in range(len(o)-1):\n",
    "            self.m[i], self.s[i] = 0, 1\n",
    "            if type(o[i]) == TensorCon and o[i].shape[-1]>0: # if tensor has shape (bs,0) than ignore\n",
    "                if 'TensorCon' in self.to_norm:\n",
    "                    self.m[i] = torch.mean(o[i])\n",
    "                    self.s[i] = torch.std(o[i]) + self.eps \n",
    "            elif type(o[i]) == TensorSeqs:\n",
    "                if 'TensorSeqs' in self.to_norm:\n",
    "                    self.m[i] = torch.mean(o[i], -1, keepdim=True)\n",
    "                    self.s[i] = torch.std(o[i],  -1, keepdim=True) +self.eps\n",
    "                    self.s[i] = _zeros_2_ones(self.s[i], self.eps*10)\n",
    "            elif self.verbose:\n",
    "                if o[i].shape[-1]>0 and not type(o[i]) == TensorCatI:\n",
    "                    print(f'NormalizeTSMulti:type {type(o[i])} on location:{i}/{len(o)} of tuple not found')\n",
    "                \n",
    "        # y must be scaled with m\n",
    "        self.m[len(o)-1], self.s[len(o)-1] = self.m[0],self.s[0] \n",
    "        # TODO make y its own type\n",
    "        if self.verbose:\n",
    "            print('encodes',[a.shape for a in o],'m shape', {k:o.shape for k,o in self.m.items()},'s shape',{k:o.shape for k,o in self.s.items()})\n",
    "        \n",
    "        return TSMulti_([(o[i]-self.m[i]) / self.s[i] for i in range(len(o))])       \n",
    "    \n",
    "    def decodes(self, o):\n",
    "        if o[0].is_cuda:\n",
    "            self.m, self.s = to_device(self.m,'cuda'), to_device(self.s,'cuda')\n",
    "            if sum([a.is_cuda for a in o]) != len(o):\n",
    "                o = Tuple([to_device(a,'cuda') for a in o])\n",
    "        else:\n",
    "            if sum([a.is_cuda==False for a in o]) != len(o):\n",
    "                o = Tuple([to_cpu(a) for a in o])\n",
    "            self.m, self.s = to_cpu(self.m), to_cpu(self.s)\n",
    "        if self.verbose:\n",
    "            print('decodes',[a.shape for a in o],  {k:o.shape for k,o in self.m.items()},'s shape',{k:o.shape for k,o in self.s.items()})\n",
    "        return TSMulti_([(o[i]*self.s[i])+self.m[i] for i in range(len(o))])"
   ]
  },
  {
   "cell_type": "markdown",
   "metadata": {
    "Collapsed": "false"
   },
   "source": [
    "### new"
   ]
  },
  {
   "cell_type": "code",
   "execution_count": 93,
   "metadata": {
    "Collapsed": "false"
   },
   "outputs": [],
   "source": [
    "# export\n",
    "def _zeros_2_ones(o, eps=1e-8):\n",
    "    nan_mask = o!=o\n",
    "    o[o < eps ] = 1    \n",
    "    o[nan_mask ] = 1    \n",
    "    return o\n",
    "    "
   ]
  },
  {
   "cell_type": "code",
   "execution_count": 6,
   "metadata": {
    "Collapsed": "false"
   },
   "outputs": [
    {
     "name": "stderr",
     "output_type": "stream",
     "text": [
      "/home/tako/dev/env37/lib/python3.7/site-packages/ipykernel_launcher.py:4: RuntimeWarning: invalid value encountered in less\n",
      "  after removing the cwd from sys.path.\n"
     ]
    }
   ],
   "source": [
    "o = np.arange(0,1,.1)\n",
    "test_close(list(_zeros_2_ones(o,.5)),[1. , 1. , 1. , 1. , 1. , 0.5, 0.6, 0.7, 0.8, 0.9])\n",
    "\n",
    "o = np.arange(0,1,.1)[None,:]\n",
    "test_close(list(_zeros_2_ones(o,.5)),[[1. , 1. , 1. , 1. , 1. , 0.5, 0.6, 0.7, 0.8, 0.9]])\n",
    "\n",
    "o = torch.arange(0,1,.1)[None,:]\n",
    "test_close(_zeros_2_ones(o,.5),tensor([[1. , 1. , 1. , 1. , 1. , 0.5, 0.6, 0.7, 0.8, 0.9]]))\n",
    "\n",
    "o = torch.arange(0,1,.1)[None,:]\n",
    "o[:,-1]= torch.tensor(float('nan'))\n",
    "test_close(_zeros_2_ones(o,.5),tensor([[1. , 1. , 1. , 1. , 1. , 0.5, 0.6, 0.7, 0.8, 1]]))\n",
    "\n",
    "o = np.arange(0,1,.1)[None,:]\n",
    "o[:,-1]= np.nan\n",
    "test_close(list(_zeros_2_ones(o,.5)),[[1. , 1. , 1. , 1. , 1. , 0.5, 0.6, 0.7, 0.8, 1]])"
   ]
  },
  {
   "cell_type": "code",
   "execution_count": 47,
   "metadata": {
    "Collapsed": "false"
   },
   "outputs": [
    {
     "data": {
      "text/plain": [
       "TensorSeqs([-5.0000, -2.5000,  0.0000,  2.5000,  5.0000,  7.5000, 10.0000, 12.5000,\n",
       "        15.0000, 17.5000, 20.0000, 22.5000])"
      ]
     },
     "execution_count": 47,
     "metadata": {},
     "output_type": "execute_result"
    }
   ],
   "source": [
    "a = TensorSeqs(np.arange(12))\n",
    "a = (a-2)*2.5\n",
    "a"
   ]
  },
  {
   "cell_type": "code",
   "execution_count": 85,
   "metadata": {
    "Collapsed": "false"
   },
   "outputs": [],
   "source": [
    "# export\n",
    "class NormalizeSeqs(Transform):\n",
    "    def __init__(self, verbose=False, make_ones=True, eps=1e-7, mean = None):\n",
    "        store_attr(self,'verbose, make_ones, eps, mean')\n",
    "        self.m, self.s = 0, 1\n",
    "        \n",
    "    def to_same_device(self, o):    \n",
    "        if o.is_cuda:\n",
    "            self.m, self.s = to_device(self.m,'cuda'), to_device(self.s,'cuda')\n",
    "        else:\n",
    "            self.m, self.s = to_cpu(self.m), to_cpu(self.s)     \n",
    "            \n",
    "    def encodes(self, o: TensorSeqs):\n",
    "        self.m = torch.mean(o, -1, keepdim=True)\n",
    "        self.s = torch.std(o,  -1, keepdim=True) +self.eps\n",
    "        self.s = _zeros_2_ones(self.s, self.eps*10)\n",
    "        if self.verbose:\n",
    "            print('encodes',[a.shape for a in o],\n",
    "                  'm shape', {k:o.shape for k,o in self.m.items()},\n",
    "                  's shape',{k:o.shape for k,o in self.s.items()})\n",
    "        \n",
    "        return self.norm(o)\n",
    "    \n",
    "    def norm(self, o):\n",
    "        return (o-self.m) / self.s\n",
    "        \n",
    "    def decodes(self, o: TensorSeqs):\n",
    "        if self.verbose:\n",
    "            print('decodes',o.shape,  \n",
    "                  'm shape',self.m.shape,\n",
    "                  's shape',self.s.shape)\n",
    "        return self.denorm(o)\n",
    "    \n",
    "    def denorm(self, o):\n",
    "        self.to_same_device(o)\n",
    "        return (o*self.s)+self.m "
   ]
  },
  {
   "cell_type": "code",
   "execution_count": 86,
   "metadata": {
    "Collapsed": "false"
   },
   "outputs": [],
   "source": [
    "tmf = NormalizeSeqs()\n",
    "o = TensorSeqs(np.arange(12.))\n",
    "o_tmf = tmf(o)\n",
    "test_eq(tmf.decode(o_tmf),TensorSeqs(np.arange(12.)))"
   ]
  },
  {
   "cell_type": "code",
   "execution_count": 97,
   "metadata": {
    "Collapsed": "false"
   },
   "outputs": [],
   "source": [
    "# export\n",
    "class NormalizeSeqsMulti(ItemTransform):\n",
    "    \"\"\"A shell Transformer to normalize `TensorSeqs` inside `TSMulti_` with `NormalizeSeqs`. \"\"\"\n",
    "    @delegates(NormalizeSeqs.__init__)\n",
    "    def __init__(self, n_its=4, **kwargs):\n",
    "        \"\"\"`n_its` does not include the ts to predict.\"\"\"\n",
    "        self.f = {i:NormalizeSeqs(**kwargs) for i in range(n_its)}\n",
    "        \n",
    "    def encodes(self, o:TSMulti_):\n",
    "        r = L(self.f[i](a) for i,a in enumerate(o[:-1]))\n",
    "        r.append(self.f[0].norm(o[-1]))\n",
    "        return TSMulti_(r)\n",
    "    \n",
    "    def decodes(self, o:TSMulti_): \n",
    "        r = L(self.f[i].decode(a) for i,a in enumerate(o[:-1]))\n",
    "        r.append(self.f[0].denorm(o[-1]))\n",
    "        return TSMulti_(r)\n",
    "    "
   ]
  },
  {
   "cell_type": "code",
   "execution_count": 98,
   "metadata": {
    "Collapsed": "false"
   },
   "outputs": [],
   "source": [
    "o = TSMulti_(TensorSeqs(np.arange(12.)),1,2,TensorSeqs(np.arange(-1,11.)))\n",
    "tmf = NormalizeSeqsMulti(len(o))\n",
    "o_tmf = tmf(o)\n",
    "test_close(o_tmf[0].mean(),0);test_close(o_tmf[0].std(),1);\n",
    "test_eq(o_tmf[1],1)\n",
    "test_eq(o_tmf[2],2)\n",
    "# Note the y has not mean 0 because it is normalized with the stats of the first item in the tuple\n",
    "test_close(o_tmf[3].mean(),-0.27,.1); test_close(o_tmf[3].std(),1); \n",
    "test_eq(tmf.decode(o_tmf), o)"
   ]
  },
  {
   "cell_type": "code",
   "execution_count": 99,
   "metadata": {
    "Collapsed": "false"
   },
   "outputs": [
    {
     "data": {
      "text/html": [
       "<div>\n",
       "<style scoped>\n",
       "    .dataframe tbody tr th:only-of-type {\n",
       "        vertical-align: middle;\n",
       "    }\n",
       "\n",
       "    .dataframe tbody tr th {\n",
       "        vertical-align: top;\n",
       "    }\n",
       "\n",
       "    .dataframe thead th {\n",
       "        text-align: right;\n",
       "    }\n",
       "</style>\n",
       "<table border=\"1\" class=\"dataframe\">\n",
       "  <thead>\n",
       "    <tr style=\"text-align: right;\">\n",
       "      <th></th>\n",
       "      <th>x</th>\n",
       "      <th>a</th>\n",
       "      <th>b</th>\n",
       "      <th>cat</th>\n",
       "    </tr>\n",
       "  </thead>\n",
       "  <tbody>\n",
       "    <tr>\n",
       "      <th>0</th>\n",
       "      <td>[0.7123227176010585, 0.7729592514076216, 1.0423360024179602, 1.2727892280477044, 1.252441295442369, 1.0, 0.7475587045576311, 0.7272107719522956, 0.9576639975820398, 1.2270407485923784]</td>\n",
       "      <td>[1.9589242746631386, 1.7568024953079282, 0.8588799919401328, 0.09070257317431829, 0.1585290151921035, 1.0, 1.8414709848078965, 1.9092974268256817, 1.1411200080598671, 0.2431975046920718]</td>\n",
       "      <td>2.443859</td>\n",
       "      <td>a</td>\n",
       "    </tr>\n",
       "    <tr>\n",
       "      <th>1</th>\n",
       "      <td>[1.424645435202117, 1.5459185028152431, 2.0846720048359204, 2.545578456095409, 2.504882590884738, 2.0, 1.4951174091152621, 1.454421543904591, 1.9153279951640796, 2.454081497184757]</td>\n",
       "      <td>[2.9589242746631386, 2.7568024953079284, 1.8588799919401329, 1.0907025731743183, 1.1585290151921035, 2.0, 2.8414709848078967, 2.909297426825682, 2.1411200080598674, 1.2431975046920718]</td>\n",
       "      <td>3.996792</td>\n",
       "      <td>a</td>\n",
       "    </tr>\n",
       "    <tr>\n",
       "      <th>2</th>\n",
       "      <td>[2.1369681528031754, 2.3188777542228647, 3.1270080072538806, 3.8183676841431136, 3.757323886327107, 3.0, 2.242676113672893, 2.1816323158568864, 2.8729919927461194, 3.6811222457771353]</td>\n",
       "      <td>[3.9589242746631386, 3.7568024953079284, 2.8588799919401326, 2.090702573174318, 2.1585290151921033, 3.0, 3.8414709848078967, 3.909297426825682, 3.1411200080598674, 2.2431975046920716]</td>\n",
       "      <td>2.003071</td>\n",
       "      <td>b</td>\n",
       "    </tr>\n",
       "    <tr>\n",
       "      <th>3</th>\n",
       "      <td>[2.849290870404234, 3.0918370056304862, 4.169344009671841, 5.091156912190818, 5.009765181769476, 4.0, 2.9902348182305243, 2.908843087809182, 3.830655990328159, 4.908162994369514]</td>\n",
       "      <td>[4.958924274663138, 4.756802495307928, 3.8588799919401326, 3.090702573174318, 3.1585290151921033, 4.0, 4.841470984807897, 4.909297426825682, 4.141120008059867, 3.2431975046920716]</td>\n",
       "      <td>5.598238</td>\n",
       "      <td>b</td>\n",
       "    </tr>\n",
       "  </tbody>\n",
       "</table>\n",
       "</div>"
      ],
      "text/plain": [
       "                                                                                                                                                                                          x  \\\n",
       "0  [0.7123227176010585, 0.7729592514076216, 1.0423360024179602, 1.2727892280477044, 1.252441295442369, 1.0, 0.7475587045576311, 0.7272107719522956, 0.9576639975820398, 1.2270407485923784]   \n",
       "1      [1.424645435202117, 1.5459185028152431, 2.0846720048359204, 2.545578456095409, 2.504882590884738, 2.0, 1.4951174091152621, 1.454421543904591, 1.9153279951640796, 2.454081497184757]   \n",
       "2   [2.1369681528031754, 2.3188777542228647, 3.1270080072538806, 3.8183676841431136, 3.757323886327107, 3.0, 2.242676113672893, 2.1816323158568864, 2.8729919927461194, 3.6811222457771353]   \n",
       "3        [2.849290870404234, 3.0918370056304862, 4.169344009671841, 5.091156912190818, 5.009765181769476, 4.0, 2.9902348182305243, 2.908843087809182, 3.830655990328159, 4.908162994369514]   \n",
       "\n",
       "                                                                                                                                                                                            a  \\\n",
       "0  [1.9589242746631386, 1.7568024953079282, 0.8588799919401328, 0.09070257317431829, 0.1585290151921035, 1.0, 1.8414709848078965, 1.9092974268256817, 1.1411200080598671, 0.2431975046920718]   \n",
       "1    [2.9589242746631386, 2.7568024953079284, 1.8588799919401329, 1.0907025731743183, 1.1585290151921035, 2.0, 2.8414709848078967, 2.909297426825682, 2.1411200080598674, 1.2431975046920718]   \n",
       "2     [3.9589242746631386, 3.7568024953079284, 2.8588799919401326, 2.090702573174318, 2.1585290151921033, 3.0, 3.8414709848078967, 3.909297426825682, 3.1411200080598674, 2.2431975046920716]   \n",
       "3         [4.958924274663138, 4.756802495307928, 3.8588799919401326, 3.090702573174318, 3.1585290151921033, 4.0, 4.841470984807897, 4.909297426825682, 4.141120008059867, 3.2431975046920716]   \n",
       "\n",
       "          b cat  \n",
       "0  2.443859   a  \n",
       "1  3.996792   a  \n",
       "2  2.003071   b  \n",
       "3  5.598238   b  "
      ]
     },
     "execution_count": 99,
     "metadata": {},
     "output_type": "execute_result"
    }
   ],
   "source": [
    "from fastseq.data.load import *\n",
    "horizon,lookback = 2,5\n",
    "t = np.arange(-5,5.)\n",
    "a = np.sin(t)\n",
    "df = pd.DataFrame({'x':[i + (i*.6)*a*-.5 for i in range(1,5)],\n",
    "                   'a':[i+a for i in range(1,5)],\n",
    "                   'b':[i+torch.randn(1).numpy()[0] for i in range(1,5)],\n",
    "                   'cat':[i for i in 'aabb'],                  \n",
    "                  })\n",
    "df"
   ]
  },
  {
   "cell_type": "code",
   "execution_count": 103,
   "metadata": {
    "Collapsed": "false"
   },
   "outputs": [],
   "source": [
    "dl = DfDataLoader(df, 'x', horizon = horizon, lookback = lookback, \n",
    "                  after_batch = NormalizeSeqsMulti(),\n",
    "                  num_workers = 0)"
   ]
  },
  {
   "cell_type": "code",
   "execution_count": 104,
   "metadata": {
    "Collapsed": "false"
   },
   "outputs": [
    {
     "data": {
      "image/png": "[encoded data removed]",
      "text/plain": [
       "<Figure size 432x504 with 4 Axes>"
      ]
     },
     "metadata": {
      "needs_background": "light"
     },
     "output_type": "display_data"
    }
   ],
   "source": [
    "dl.show_batch(max_n = 4)"
   ]
  },
  {
   "cell_type": "code",
   "execution_count": 107,
   "metadata": {
    "Collapsed": "false"
   },
   "outputs": [],
   "source": [
    "# hide\n",
    "for o in dl:\n",
    "    for a in o[:-1]:\n",
    "        if a.shape[-1] > 0 and type(a) is TensorSeqs:\n",
    "            test_close(a.mean(),0)\n",
    "            test_close(a.std(),1,.1)\n",
    "    test_close(o[0][:,:,:lookback],o[-1][:,:,:lookback],.1)\n",
    "    test_eq(type(o),TSMulti_)\n",
    "    o_new = dl.after_batch[0].decode(o)\n",
    "    test_eq(o_new[0].mean()!=0, True)\n",
    "    test_eq(o_new[0].std()!=1, True)\n",
    "    break\n",
    "    \n",
    "test_eq(type(dl.one_batch()), TSMulti_)"
   ]
  },
  {
   "cell_type": "code",
   "execution_count": 108,
   "metadata": {
    "Collapsed": "false"
   },
   "outputs": [
    {
     "name": "stderr",
     "output_type": "stream",
     "text": [
      "/home/tako/dev/env37/lib/python3.7/site-packages/ipykernel_launcher.py:21: UserWarning: NormalizeTSMulti is depricated. Please use `NormalizeSeqsMulti`\n"
     ]
    },
    {
     "data": {
      "image/png": "[encoded data removed]",
      "text/plain": [
       "<Figure size 432x504 with 4 Axes>"
      ]
     },
     "metadata": {
      "needs_background": "light"
     },
     "output_type": "display_data"
    }
   ],
   "source": [
    "# hide\n",
    "# basic\n",
    "from fastseq.data.load import *\n",
    "horizon,lookback = 2,5\n",
    "t = np.arange(-5,5.)\n",
    "a = np.sin(t)\n",
    "df = pd.DataFrame({'pred':[i + (i*.6)*a*-.5 for i in range(1,5)],'a':[i+a for i in range(1,5)],'b':[a for _ in range(1,5)],\n",
    "                  'cat_1':[i for i in 'abbc'],'cat_2':[i for i in 'aabb']})\n",
    "dl = DfDataLoader(df,'pred', horizon = horizon, lookback = lookback,after_batch=NormalizeTSMulti(),\n",
    "                  num_workers = 1)\n",
    "for o in dl:\n",
    "    for a in o[:-1]:\n",
    "        for i in range(a.shape[0]):\n",
    "            if a.shape[-1]>0 and type(a) is not TensorCatI:\n",
    "                test_close(a[i].mean(),0)\n",
    "                test_close(a[i].std(),1,.1)\n",
    "    test_eq(dl.after_batch[0].s[0], dl.after_batch[0].s[len(o)-1])\n",
    "    test_close(o[0][:,:,:lookback],o[-1][:,:,:lookback],.1)\n",
    "    test_eq(type(o),TSMulti_)\n",
    "    o_new = dl.after_batch[0].decode(o)\n",
    "    test_eq(o_new[0].mean()!=0, True)\n",
    "    test_eq(o_new[0].std()!=1, True)\n",
    "    break\n",
    "    \n",
    "test_eq(type(dl.one_batch()),TSMulti_)\n",
    "\n",
    "dl.show_batch(max_n = 4)"
   ]
  },
  {
   "cell_type": "markdown",
   "metadata": {
    "Collapsed": "true"
   },
   "source": [
    "# TSDataLoaders"
   ]
  },
  {
   "cell_type": "markdown",
   "metadata": {
    "Collapsed": "true"
   },
   "source": [
    "## Utils"
   ]
  },
  {
   "cell_type": "code",
   "execution_count": 13,
   "metadata": {
    "Collapsed": "false"
   },
   "outputs": [],
   "source": [
    "def concat_ts_list(train, val):\n",
    "    items=L()\n",
    "    assert len(train) == len(val)\n",
    "    for t, v in zip(train, val):\n",
    "        items.append(np.concatenate([t,v],1))\n",
    "    return items"
   ]
  },
  {
   "cell_type": "code",
   "execution_count": 14,
   "metadata": {
    "Collapsed": "false"
   },
   "outputs": [],
   "source": [
    "a = [np.random.randn(3,10)]*50\n",
    "b = [np.random.randn(3,5)]*50\n",
    "r = concat_ts_list(a,b)\n",
    "test_eq(r[0].shape,(3,15))\n",
    "test_eq(r[0], np.concatenate([a[0],b[0]],1))"
   ]
  },
  {
   "cell_type": "code",
   "execution_count": 15,
   "metadata": {
    "Collapsed": "false"
   },
   "outputs": [],
   "source": [
    "# export\n",
    "def make_test_df(df:L(), horizon:int, lookback:int, keep_lookback:bool = False):\n",
    "    \"\"\"Splits the series in `df` based on `horizon + lookback`*, where the last part will go into `val` and the first in `train`.\n",
    "\n",
    "    *if `keep_lookback`:\n",
    "        it will only remove `horizon` from `train` otherwise also lookback.\n",
    "    \"\"\"\n",
    "    train, val = {}, {}  \n",
    "    for col in df:\n",
    "        train[col], val[col] = [], []        \n",
    "        if type(df.loc[0, col])==pd.Series or type(df.loc[0, col]) == np.ndarray:\n",
    "            for row in df[col]:\n",
    "                val[col].append(row.flatten()[-(horizon+lookback):])\n",
    "                if keep_lookback:\n",
    "                    train[col].append(row.flatten()[:-(horizon)])\n",
    "                else:\n",
    "                    train[col].append(row.flatten()[:-(horizon+lookback)])\n",
    "        else:\n",
    "            val[col]   = df[col]\n",
    "            train[col] = df[col]\n",
    "\n",
    "    return pd.DataFrame(train), pd.DataFrame(val)\n"
   ]
  },
  {
   "cell_type": "code",
   "execution_count": 16,
   "metadata": {
    "Collapsed": "false"
   },
   "outputs": [
    {
     "data": {
      "text/html": [
       "<div>\n",
       "<style scoped>\n",
       "    .dataframe tbody tr th:only-of-type {\n",
       "        vertical-align: middle;\n",
       "    }\n",
       "\n",
       "    .dataframe tbody tr th {\n",
       "        vertical-align: top;\n",
       "    }\n",
       "\n",
       "    .dataframe thead th {\n",
       "        text-align: right;\n",
       "    }\n",
       "</style>\n",
       "<table border=\"1\" class=\"dataframe\">\n",
       "  <thead>\n",
       "    <tr style=\"text-align: right;\">\n",
       "      <th></th>\n",
       "      <th>x</th>\n",
       "      <th>weather</th>\n",
       "      <th>city</th>\n",
       "      <th>cont</th>\n",
       "    </tr>\n",
       "  </thead>\n",
       "  <tbody>\n",
       "    <tr>\n",
       "      <th>0</th>\n",
       "      <td>[-1.4783384525723018, -1.4240868221838523, -1.6136560029173608, -1.5703763071681953, -1.6394281604986138, -1.5080329286398604, -1.6407020675475192, -1.5506139270850179, -1.2796478722768596, -1.3864282015016591, -1.0404515899904598, -1.0567946113703093, -0.8874416823506762, -0.7149783501655758, -0.6187640076950734, -0.2727276879186953, -0.5451346234265697, -0.38487492592167755, -0.2502984197922143, -0.21115810548520597, -0.3802156375488671, -0.4412852423835646, -0.3908629573629556, -0.696221653034824, -0.46543581066535766, -0.4913586958580071, -0.7832616355213236, -0.73679273437071, -0.4895...</td>\n",
       "      <td>[13.192539591888476, 13.052185658822392, 12.845445076236977, 12.595801538352676, 12.334784093747611, 12.092946148519243, 11.89128599205222, 11.735659439508716, 11.615834431689821, 11.509443258987911, 11.38961825116901, 11.233991698625506, 11.03233154215848, 10.790493596930098, 10.529476152325042, 10.27983261444073, 10.073092031855335, 9.932738098789248, 9.867434577467815, 9.868517705665685, 9.912503789162502, 9.967863779380055, 10.004044270220907, 10.000046972300419, 9.950016070456426, 9.864183623887808, 9.764917342202217, 9.679084895633592, 9.62905399378959, 9.625056695869105, 9.661237186...</td>\n",
       "      <td>adam</td>\n",
       "      <td>-0.199511</td>\n",
       "    </tr>\n",
       "    <tr>\n",
       "      <th>1</th>\n",
       "      <td>[-2.442497633960548, -2.34587566574614, -2.1377491108681537, -1.977351306644492, -1.899047972058812, -1.709034805353743, -1.686083761666061, -1.423940123841227, -1.3626396621563701, -1.2661272074533405, -1.2129528099260642, -1.1951174397163742, -1.1198859788942275, -1.0701960472063496, -0.9158311787831961, -0.8818720252144413, -0.6374510524597976, -0.5051384661490185, -0.34837971698203124, -0.3349108425516317, -0.0909458041746632, -0.08706942177478819, -0.07307300112741666, -0.05242116620701835, -0.11361611174430714, -0.050900888692573976, 0.021545813851697234, 0.03222778194250637, 0.03942...</td>\n",
       "      <td>[-0.7090011635587998, -0.8690031508725897, -0.9740058637421758, -0.944562990966403, -0.7635009345785678, -0.4831944949575121, -0.20874955343048118, -0.06228293592620093, -0.13957181372944272, -0.47297312986306117, -1.0128541031822964, -1.6342954104931344, -2.168161744806375, -2.4480898116727476, -2.359814659181562, -1.878126797541234, -1.08002069075381, -0.12933993206658956, 0.7635224063742905, 1.3959819504601871, 1.626566593115905, 1.4121947514741344, 0.8189500689090303, 0.0034126424287918566, -0.8300129917269993, -1.4835618685828322, -1.8169631847164305, -1.780584158983174, -1.4221332146...</td>\n",
       "      <td>adam</td>\n",
       "      <td>-0.831751</td>\n",
       "    </tr>\n",
       "    <tr>\n",
       "      <th>2</th>\n",
       "      <td>[-0.47399049141776367, -0.8620593361155051, -1.3107438957223605, -1.0589743757170584, -1.3733042111034675, -0.9025183623956589, -0.9389474021588238, -0.7437562636519461, 0.06922852884028799, 0.005871167490189263, 0.8363142708574055, 1.1687028406759024, 1.5058813971487726, 1.931987598351601, 2.098132854668203, 1.9678884114846704, 1.842169389902352, 1.3796338299328368, 1.038064548296246, 0.8094605666373197, 0.7038352455698252, 0.3437358701023316, 0.25813723004915545, -0.4726746699465776, -0.584099660148665, -0.6143895406387687, -0.39248385497651045, -0.06974467653388354, 0.28212521229183496,...</td>\n",
       "      <td>[1.0171144778514658, 0.9379147581950051, 0.858967864949747, 0.825360179970214, 0.8749108383765853, 1.0324871796895267, 1.3061280105270052, 1.6855159026213815, 2.1430199031202717, 2.6371797765642953, 3.1181696396952905, 3.534507719435449, 3.8401067082160676, 4.000709208332959, 3.998831934216982, 3.836540116890977, 3.535663341232855, 3.135406817630879, 2.6876616466763457, 2.25062684412552, 1.8815830461050358, 1.6297722622536235, 1.530324334564768, 1.6000307228706268, 1.835518741751634, 2.2140577759487554, 2.6968766472219583, 3.2345356765400117, 3.7736232903378575, 4.263872092886183, 4.664736...</td>\n",
       "      <td>adam</td>\n",
       "      <td>0.996369</td>\n",
       "    </tr>\n",
       "    <tr>\n",
       "      <th>3</th>\n",
       "      <td>[2.692359927286532, 2.427513474249867, 2.153136361299251, 2.050578448968825, 1.8264637489865474, 1.7092049234754063, 1.5415089610695067, 1.376228685188565, 1.2740778138159847, 1.116073917311882, 0.9600045637878505, 0.7813141861562974, 0.6159212772665452, 0.43026037109994536, 0.37044382792052183, 0.2375525798445546, 0.19692974096751847, 0.20462573884543314, 0.16076224300681918, 0.09893938461894969, 0.13559043785526226, 0.1951324016673959, 0.0684596982187075, 0.2072378658079809, 0.16491286234652056, 0.23271996455883265, 0.23341559743453433, 0.28547884477894275, 0.26454778754362507, 0.3088219...</td>\n",
       "      <td>[4.025870562851314, 3.655707942716341, 3.5391832642170398, 3.7575464077220246, 4.300256674970111, 5.060988156564796, 5.861370589641166, 6.496352816292436, 6.7886226650638, 6.636692275754749, 6.042921801277979, 5.113439035482557, 4.02995770391943, 3.00154224939417, 2.210051282868715, 1.7646553335239554, 1.6779991209784075, 1.87012453786978, 2.1981168191942833, 2.5020034000484226, 2.652912533987098, 2.589195049038977, 2.330168622204945, 1.964127865705342, 1.6151460842996996, 1.3995919015738403, 1.386274698977212, 1.572834323597151, 1.8858214603357086, 2.204465931510707, 2.400681147463943, 2....</td>\n",
       "      <td>adam</td>\n",
       "      <td>-0.763267</td>\n",
       "    </tr>\n",
       "    <tr>\n",
       "      <th>4</th>\n",
       "      <td>[-1.4121969483566534, -1.5927589831076883, -0.9482595184274965, -1.5328002722601592, -1.2562892045927732, -1.0475123058724498, -0.9605774933813415, -0.9222930022610433, -0.682373208238969, -0.4347601406695258, 0.1564865657774295, 0.3549929901168379, 0.5646792353869574, 0.8117980996366874, 1.0006942253444855, 1.773279326892134, 1.7213067509579474, 1.7686525764280288, 1.6471958912235494, 1.1188750437538553, 1.450796590529382, 1.606132601325947, 1.2511301006111881, 1.177583108958972, 0.8045132103877817, 0.2626484246661037, 0.3086577299944527, -0.40007615873798597, -0.23402376940726477, -0.378...</td>\n",
       "      <td>[7.806094658222673, 7.784922600726819, 7.7691263636549, 7.757590606525851, 7.748624587434198, 7.7401905071131, 7.730178725017179, 7.716692677968094, 7.698305021520997, 7.674250400740997, 7.644528815628092, 7.609905621117178, 7.571808161653097, 7.532133000414191, 7.492989777945845, 7.456416293514892, 7.424103289026811, 7.397166104962664, 7.3759940474668095, 7.3601978103948875, 7.3486620532658415, 7.339696034174189, 7.331261953853089, 7.321250171757168, 7.3077641247080845, 7.289376468260988, 7.265321847480989, 7.235600262368084, 7.200977067857169, 7.162879608393087, 7.123204447154186, 7.0840...</td>\n",
       "      <td>adam</td>\n",
       "      <td>-0.854309</td>\n",
       "    </tr>\n",
       "  </tbody>\n",
       "</table>\n",
       "</div>"
      ],
      "text/plain": [
       "                                                                                                                                                                                                                                                                                                                                                                                                                                                                                                                                                                                                                         x  \\\n",
       "0  [-1.4783384525723018, -1.4240868221838523, -1.6136560029173608, -1.5703763071681953, -1.6394281604986138, -1.5080329286398604, -1.6407020675475192, -1.5506139270850179, -1.2796478722768596, -1.3864282015016591, -1.0404515899904598, -1.0567946113703093, -0.8874416823506762, -0.7149783501655758, -0.6187640076950734, -0.2727276879186953, -0.5451346234265697, -0.38487492592167755, -0.2502984197922143, -0.21115810548520597, -0.3802156375488671, -0.4412852423835646, -0.3908629573629556, -0.696221653034824, -0.46543581066535766, -0.4913586958580071, -0.7832616355213236, -0.73679273437071, -0.4895...   \n",
       "1  [-2.442497633960548, -2.34587566574614, -2.1377491108681537, -1.977351306644492, -1.899047972058812, -1.709034805353743, -1.686083761666061, -1.423940123841227, -1.3626396621563701, -1.2661272074533405, -1.2129528099260642, -1.1951174397163742, -1.1198859788942275, -1.0701960472063496, -0.9158311787831961, -0.8818720252144413, -0.6374510524597976, -0.5051384661490185, -0.34837971698203124, -0.3349108425516317, -0.0909458041746632, -0.08706942177478819, -0.07307300112741666, -0.05242116620701835, -0.11361611174430714, -0.050900888692573976, 0.021545813851697234, 0.03222778194250637, 0.03942...   \n",
       "2  [-0.47399049141776367, -0.8620593361155051, -1.3107438957223605, -1.0589743757170584, -1.3733042111034675, -0.9025183623956589, -0.9389474021588238, -0.7437562636519461, 0.06922852884028799, 0.005871167490189263, 0.8363142708574055, 1.1687028406759024, 1.5058813971487726, 1.931987598351601, 2.098132854668203, 1.9678884114846704, 1.842169389902352, 1.3796338299328368, 1.038064548296246, 0.8094605666373197, 0.7038352455698252, 0.3437358701023316, 0.25813723004915545, -0.4726746699465776, -0.584099660148665, -0.6143895406387687, -0.39248385497651045, -0.06974467653388354, 0.28212521229183496,...   \n",
       "3  [2.692359927286532, 2.427513474249867, 2.153136361299251, 2.050578448968825, 1.8264637489865474, 1.7092049234754063, 1.5415089610695067, 1.376228685188565, 1.2740778138159847, 1.116073917311882, 0.9600045637878505, 0.7813141861562974, 0.6159212772665452, 0.43026037109994536, 0.37044382792052183, 0.2375525798445546, 0.19692974096751847, 0.20462573884543314, 0.16076224300681918, 0.09893938461894969, 0.13559043785526226, 0.1951324016673959, 0.0684596982187075, 0.2072378658079809, 0.16491286234652056, 0.23271996455883265, 0.23341559743453433, 0.28547884477894275, 0.26454778754362507, 0.3088219...   \n",
       "4  [-1.4121969483566534, -1.5927589831076883, -0.9482595184274965, -1.5328002722601592, -1.2562892045927732, -1.0475123058724498, -0.9605774933813415, -0.9222930022610433, -0.682373208238969, -0.4347601406695258, 0.1564865657774295, 0.3549929901168379, 0.5646792353869574, 0.8117980996366874, 1.0006942253444855, 1.773279326892134, 1.7213067509579474, 1.7686525764280288, 1.6471958912235494, 1.1188750437538553, 1.450796590529382, 1.606132601325947, 1.2511301006111881, 1.177583108958972, 0.8045132103877817, 0.2626484246661037, 0.3086577299944527, -0.40007615873798597, -0.23402376940726477, -0.378...   \n",
       "\n",
       "                                                                                                                                                                                                                                                                                                                                                                                                                                                                                                                                                                                                                   weather  \\\n",
       "0  [13.192539591888476, 13.052185658822392, 12.845445076236977, 12.595801538352676, 12.334784093747611, 12.092946148519243, 11.89128599205222, 11.735659439508716, 11.615834431689821, 11.509443258987911, 11.38961825116901, 11.233991698625506, 11.03233154215848, 10.790493596930098, 10.529476152325042, 10.27983261444073, 10.073092031855335, 9.932738098789248, 9.867434577467815, 9.868517705665685, 9.912503789162502, 9.967863779380055, 10.004044270220907, 10.000046972300419, 9.950016070456426, 9.864183623887808, 9.764917342202217, 9.679084895633592, 9.62905399378959, 9.625056695869105, 9.661237186...   \n",
       "1  [-0.7090011635587998, -0.8690031508725897, -0.9740058637421758, -0.944562990966403, -0.7635009345785678, -0.4831944949575121, -0.20874955343048118, -0.06228293592620093, -0.13957181372944272, -0.47297312986306117, -1.0128541031822964, -1.6342954104931344, -2.168161744806375, -2.4480898116727476, -2.359814659181562, -1.878126797541234, -1.08002069075381, -0.12933993206658956, 0.7635224063742905, 1.3959819504601871, 1.626566593115905, 1.4121947514741344, 0.8189500689090303, 0.0034126424287918566, -0.8300129917269993, -1.4835618685828322, -1.8169631847164305, -1.780584158983174, -1.4221332146...   \n",
       "2  [1.0171144778514658, 0.9379147581950051, 0.858967864949747, 0.825360179970214, 0.8749108383765853, 1.0324871796895267, 1.3061280105270052, 1.6855159026213815, 2.1430199031202717, 2.6371797765642953, 3.1181696396952905, 3.534507719435449, 3.8401067082160676, 4.000709208332959, 3.998831934216982, 3.836540116890977, 3.535663341232855, 3.135406817630879, 2.6876616466763457, 2.25062684412552, 1.8815830461050358, 1.6297722622536235, 1.530324334564768, 1.6000307228706268, 1.835518741751634, 2.2140577759487554, 2.6968766472219583, 3.2345356765400117, 3.7736232903378575, 4.263872092886183, 4.664736...   \n",
       "3  [4.025870562851314, 3.655707942716341, 3.5391832642170398, 3.7575464077220246, 4.300256674970111, 5.060988156564796, 5.861370589641166, 6.496352816292436, 6.7886226650638, 6.636692275754749, 6.042921801277979, 5.113439035482557, 4.02995770391943, 3.00154224939417, 2.210051282868715, 1.7646553335239554, 1.6779991209784075, 1.87012453786978, 2.1981168191942833, 2.5020034000484226, 2.652912533987098, 2.589195049038977, 2.330168622204945, 1.964127865705342, 1.6151460842996996, 1.3995919015738403, 1.386274698977212, 1.572834323597151, 1.8858214603357086, 2.204465931510707, 2.400681147463943, 2....   \n",
       "4  [7.806094658222673, 7.784922600726819, 7.7691263636549, 7.757590606525851, 7.748624587434198, 7.7401905071131, 7.730178725017179, 7.716692677968094, 7.698305021520997, 7.674250400740997, 7.644528815628092, 7.609905621117178, 7.571808161653097, 7.532133000414191, 7.492989777945845, 7.456416293514892, 7.424103289026811, 7.397166104962664, 7.3759940474668095, 7.3601978103948875, 7.3486620532658415, 7.339696034174189, 7.331261953853089, 7.321250171757168, 7.3077641247080845, 7.289376468260988, 7.265321847480989, 7.235600262368084, 7.200977067857169, 7.162879608393087, 7.123204447154186, 7.0840...   \n",
       "\n",
       "   city      cont  \n",
       "0  adam -0.199511  \n",
       "1  adam -0.831751  \n",
       "2  adam  0.996369  \n",
       "3  adam -0.763267  \n",
       "4  adam -0.854309  "
      ]
     },
     "execution_count": 16,
     "metadata": {},
     "output_type": "execute_result"
    }
   ],
   "source": [
    "# hide\n",
    "from fastseq.data.external import *\n",
    "horizon,lookback = 5,10\n",
    "df = dummy_data_generator_multi(70)\n",
    "train, val = make_test_df(df, 5, 2)\n",
    "test_eq(train.loc[0,'x'].shape, (63,))\n",
    "train.head()"
   ]
  },
  {
   "cell_type": "code",
   "execution_count": 17,
   "metadata": {
    "Collapsed": "false"
   },
   "outputs": [
    {
     "data": {
      "text/plain": [
       "(                          a                         b  c\n",
       " 0  [0, 1, 2, 3, 4, 5, 6, 7]  [0, 1, 2, 3, 4, 5, 6, 7]  3\n",
       " 1  [0, 1, 2, 3, 4, 5, 6, 7]  [0, 1, 2, 3, 4, 5, 6, 7]  3\n",
       " 2  [0, 1, 2, 3, 4, 5, 6, 7]  [0, 1, 2, 3, 4, 5, 6, 7]  3\n",
       " 3  [0, 1, 2, 3, 4, 5, 6, 7]  [0, 1, 2, 3, 4, 5, 6, 7]  3\n",
       " 4  [0, 1, 2, 3, 4, 5, 6, 7]  [0, 1, 2, 3, 4, 5, 6, 7]  3,\n",
       "                             a                           b  c\n",
       " 0  [8, 9, 10, 11, 12, 13, 14]  [8, 9, 10, 11, 12, 13, 14]  3\n",
       " 1  [8, 9, 10, 11, 12, 13, 14]  [8, 9, 10, 11, 12, 13, 14]  3\n",
       " 2  [8, 9, 10, 11, 12, 13, 14]  [8, 9, 10, 11, 12, 13, 14]  3\n",
       " 3  [8, 9, 10, 11, 12, 13, 14]  [8, 9, 10, 11, 12, 13, 14]  3\n",
       " 4  [8, 9, 10, 11, 12, 13, 14]  [8, 9, 10, 11, 12, 13, 14]  3)"
      ]
     },
     "execution_count": 17,
     "metadata": {},
     "output_type": "execute_result"
    }
   ],
   "source": [
    "a = pd.DataFrame({'a':[np.arange(0,15)]*50,'b':[np.arange(0,15)]*50, 'c':[3]*50})\n",
    "train, val = make_test_df(a,5,2)\n",
    "test_eq(train['a'][0].max(),7)\n",
    "test_eq(val['a'][0].min(),8)\n",
    "test_eq(val['c'][0],val['c'][1])\n",
    "train.head(), val.head()"
   ]
  },
  {
   "cell_type": "code",
   "execution_count": 18,
   "metadata": {
    "Collapsed": "false"
   },
   "outputs": [
    {
     "data": {
      "text/plain": [
       "(                                a                               b  c\n",
       " 0  [0, 1, 2, 3, 4, 5, 6, 7, 8, 9]  [0, 1, 2, 3, 4, 5, 6, 7, 8, 9]  3\n",
       " 1  [0, 1, 2, 3, 4, 5, 6, 7, 8, 9]  [0, 1, 2, 3, 4, 5, 6, 7, 8, 9]  3\n",
       " 2  [0, 1, 2, 3, 4, 5, 6, 7, 8, 9]  [0, 1, 2, 3, 4, 5, 6, 7, 8, 9]  3\n",
       " 3  [0, 1, 2, 3, 4, 5, 6, 7, 8, 9]  [0, 1, 2, 3, 4, 5, 6, 7, 8, 9]  3\n",
       " 4  [0, 1, 2, 3, 4, 5, 6, 7, 8, 9]  [0, 1, 2, 3, 4, 5, 6, 7, 8, 9]  3,\n",
       "                             a                           b  c\n",
       " 0  [8, 9, 10, 11, 12, 13, 14]  [8, 9, 10, 11, 12, 13, 14]  3\n",
       " 1  [8, 9, 10, 11, 12, 13, 14]  [8, 9, 10, 11, 12, 13, 14]  3\n",
       " 2  [8, 9, 10, 11, 12, 13, 14]  [8, 9, 10, 11, 12, 13, 14]  3\n",
       " 3  [8, 9, 10, 11, 12, 13, 14]  [8, 9, 10, 11, 12, 13, 14]  3\n",
       " 4  [8, 9, 10, 11, 12, 13, 14]  [8, 9, 10, 11, 12, 13, 14]  3)"
      ]
     },
     "execution_count": 18,
     "metadata": {},
     "output_type": "execute_result"
    }
   ],
   "source": [
    "# hide\n",
    "train, val = make_test_df(a,5,2,True)\n",
    "test_eq(train['a'][0].max(),9)\n",
    "test_eq(val['a'][0].min(),8)\n",
    "test_eq(val['c'][0],val['c'][1])\n",
    "train.head(), val.head()"
   ]
  },
  {
   "cell_type": "markdown",
   "metadata": {
    "Collapsed": "true"
   },
   "source": [
    "## Dataloaders"
   ]
  },
  {
   "cell_type": "code",
   "execution_count": 19,
   "metadata": {
    "Collapsed": "false"
   },
   "outputs": [],
   "source": [
    "#export\n",
    "class DfDataLoaders(DataLoaders):\n",
    "    @classmethod\n",
    "    @delegates(DfDataLoader.__init__)\n",
    "    def from_df(cls, dataset:pd.DataFrame, y_name:str, horizon:int, valid_pct=1.5, seed=None, lookback=None, step=1,\n",
    "                   incl_test = True, path:Path='.', device=None, norm=True, **kwargs):\n",
    "        \"\"\"Create an list of time series.\n",
    "        The `DataLoader` for the test set will be save as an attribute under `test`\n",
    "        \"\"\"\n",
    "        lookback = ifnone(lookback, horizon * 4)\n",
    "        device = ifnone(device, default_device())\n",
    "        if incl_test:\n",
    "            dataset, test = make_test_df(dataset, horizon, lookback, keep_lookback = True)\n",
    "        train, valid = make_test_df(dataset, horizon + int(valid_pct*horizon), lookback , keep_lookback = True)\n",
    "        if norm and 'after_batch' not in kwargs:\n",
    "            make_ones = kwargs.pop('make_ones', True)\n",
    "            kwargs.update({'after_batch':L(NormalizeTSMulti(make_ones=make_ones))})\n",
    "        db = DataLoaders(*[DfDataLoader(ds, y_name, horizon=horizon, lookback=lookback, step=step, device=device, norm = False, **kwargs)\n",
    "                           for ds in [train,valid]], path=path, device=device)\n",
    "        if incl_test:\n",
    "            db.test = DfDataLoader(test, y_name, horizon=horizon, lookback=lookback, step=step, name='test', device=device, **kwargs)\n",
    "\n",
    "            print(f\"Train:{db.train.n}; Valid: {db.valid.n}; Test {db.test.n}\")\n",
    "        else:\n",
    "            print(f\"Train:{db.train.n}; Valid: {db.valid.n}\")\n",
    "\n",
    "        return db"
   ]
  },
  {
   "cell_type": "code",
   "execution_count": 20,
   "metadata": {
    "Collapsed": "false"
   },
   "outputs": [],
   "source": [
    "# hide\n",
    "# device `cpu`\n",
    "horizon,lookback = 2,5\n",
    "t = np.arange(-5,25)\n",
    "a = np.sin(t)\n",
    "df = pd.DataFrame({'pred':[i + (i*.6)*a*-.5 for i in range(1,100)],'a':[i+a for i in range(1,100)]})\n"
   ]
  },
  {
   "cell_type": "code",
   "execution_count": 21,
   "metadata": {
    "Collapsed": "false"
   },
   "outputs": [
    {
     "name": "stdout",
     "output_type": "stream",
     "text": [
      "Train:396; Valid: 99; Test 99\n"
     ]
    }
   ],
   "source": [
    "# hide\n",
    "data = DfDataLoaders.from_df(df, 'pred', horizon = horizon, lookback=lookback, step=5, device = torch.device('cpu'))\n",
    "test_eq(data.valid.dataset.iloc[0,0].shape[-1],data.valid.dataset.iloc[0,1].shape[-1])\n",
    "test_eq(data.valid.dataset.iloc[0,0].shape[-1]>lookback+horizon, True)\n",
    "test_eq(hasattr(data,'test'),True)\n",
    "test_eq([o[0].device for o in data.train][0], torch.device('cpu'))\n",
    "test_eq([o[0].device for o in data.test][0], torch.device('cpu'))"
   ]
  },
  {
   "cell_type": "code",
   "execution_count": 22,
   "metadata": {
    "Collapsed": "false"
   },
   "outputs": [
    {
     "name": "stdout",
     "output_type": "stream",
     "text": [
      "Train:396; Valid: 99; Test 99\n"
     ]
    }
   ],
   "source": [
    "# hide\n",
    "# default device\n",
    "\n",
    "data = DfDataLoaders.from_df(df,'pred', horizon = horizon, lookback=lookback, step=5)\n",
    "test_eq(data.valid.dataset.iloc[0,0].shape[-1]>lookback+horizon, True)\n",
    "test_eq(hasattr(data,'test'),True)\n",
    "test_eq([o[0].device for o in data.train][0], default_device())\n",
    "test_eq([o[0].device for o in data.test][0], default_device())"
   ]
  },
  {
   "cell_type": "code",
   "execution_count": 23,
   "metadata": {
    "Collapsed": "false"
   },
   "outputs": [
    {
     "name": "stdout",
     "output_type": "stream",
     "text": [
      "Train:1881; Valid: 396\n"
     ]
    }
   ],
   "source": [
    "# hide\n",
    "dbunch = DfDataLoaders.from_df(df,'pred',horizon=horizon, lookback = lookback, incl_test=False)\n",
    "test_eq(hasattr(dbunch,'test'),False)"
   ]
  },
  {
   "cell_type": "code",
   "execution_count": 24,
   "metadata": {
    "Collapsed": "false"
   },
   "outputs": [
    {
     "data": {
      "text/markdown": [
       "<h4 id=\"DfDataLoaders.from_df\" class=\"doc_header\"><code>DfDataLoaders.from_df</code><a href=\"__main__.py#L3\" class=\"source_link\" style=\"float:right\">[source]</a></h4>\n",
       "\n",
       "> <code>DfDataLoaders.from_df</code>(**`dataset`**:`DataFrame`, **`y_name`**:`str`, **`horizon`**:`int`, **`valid_pct`**=*`1.5`*, **`seed`**=*`None`*, **`lookback`**=*`None`*, **`step`**=*`1`*, **`incl_test`**=*`True`*, **`path`**:`Path`=*`'.'`*, **`device`**=*`None`*, **`norm`**=*`True`*, **`min_seq_len`**=*`None`*, **`max_std`**=*`None`*, **`bs`**=*`64`*, **`shuffle`**=*`False`*, **`num_workers`**=*`None`*, **`verbose`**=*`False`*, **`do_setup`**=*`True`*, **`pin_memory`**=*`False`*, **`timeout`**=*`0`*, **`batch_size`**=*`None`*, **`drop_last`**=*`False`*, **`indexed`**=*`None`*, **`n`**=*`None`*, **`wif`**=*`None`*, **`before_iter`**=*`None`*, **`after_item`**=*`None`*, **`before_batch`**=*`None`*, **`after_batch`**=*`None`*, **`after_iter`**=*`None`*, **`create_batches`**=*`None`*, **`create_item`**=*`None`*, **`create_batch`**=*`None`*, **`retain`**=*`None`*, **`get_idxs`**=*`None`*, **`sample`**=*`None`*, **`shuffle_fn`**=*`None`*, **`do_batch`**=*`None`*)\n",
       "\n",
       "Create an list of time series.\n",
       "The `DataLoader` for the test set will be save as an attribute under `test`"
      ],
      "text/plain": [
       "<IPython.core.display.Markdown object>"
      ]
     },
     "metadata": {},
     "output_type": "display_data"
    }
   ],
   "source": [
    "show_doc(DfDataLoaders.from_df, name='DfDataLoaders.from_df')"
   ]
  },
  {
   "cell_type": "code",
   "execution_count": 26,
   "metadata": {
    "Collapsed": "false"
   },
   "outputs": [
    {
     "data": {
      "text/html": [
       "<div>\n",
       "<style scoped>\n",
       "    .dataframe tbody tr th:only-of-type {\n",
       "        vertical-align: middle;\n",
       "    }\n",
       "\n",
       "    .dataframe tbody tr th {\n",
       "        vertical-align: top;\n",
       "    }\n",
       "\n",
       "    .dataframe thead th {\n",
       "        text-align: right;\n",
       "    }\n",
       "</style>\n",
       "<table border=\"1\" class=\"dataframe\">\n",
       "  <thead>\n",
       "    <tr style=\"text-align: right;\">\n",
       "      <th></th>\n",
       "      <th>x</th>\n",
       "      <th>weather</th>\n",
       "      <th>city</th>\n",
       "      <th>cont</th>\n",
       "    </tr>\n",
       "  </thead>\n",
       "  <tbody>\n",
       "    <tr>\n",
       "      <th>0</th>\n",
       "      <td>[[0.3499817652112622, 0.22287298833808405, 0.3833310966032255, 0.0361281371909635, 0.3940890076512866, 0.3435985677698597, 0.48474513823414167, 0.6161005478047001, 0.9239871675999375, 0.819758379419906, 0.9236493473400123, 0.8275746904478541, 1.092983850981239, 1.1808712217206137, 1.2010371205071007, 1.5078615551290568, 1.712245632736618, 1.91173172939488, 2.2430523078542204, 2.2039242415853666, 1.9682861970526948, 1.9666998408834104, 1.7367915402528353, 1.451104221988865, 1.0408330283496683, 0.7913514946341493, 0.3360183672349563, 0.07195157773523013, -0.11095599151543348, -0.319359866531...</td>\n",
       "      <td>[[9.148751288601497, 8.913057444493193, 8.719020866899665, 8.658101400645753, 8.761692180812451, 8.987255326720362, 9.229453037992705, 9.353220172439837, 9.238743143126314, 8.824349547591561, 8.133612519225492, 7.277487402012668, 6.429702745277641, 5.781714768999325, 5.489871651136406, 5.630093954762371, 6.173519634124332, 6.990690115770793, 7.883672314439498, 8.637421869137905, 9.076081652995091, 9.108437664894538, 8.749862474928397, 8.114852954057016, 7.382720712990327, 6.746637474368401, 6.360838020823031, 6.3010147812536506, 6.54877479184693, 7.003747638982945, 7.518723571202935, 7.946...</td>\n",
       "      <td>adam</td>\n",
       "      <td>0.293366</td>\n",
       "    </tr>\n",
       "    <tr>\n",
       "      <th>1</th>\n",
       "      <td>[[1.7730313448830919, 1.6160952842154572, 1.3482499989532435, 1.336950214647062, 1.2472297608842795, 1.2114779515601928, 1.2107482018137772, 1.2308461073077372, 1.421392393869819, 1.4243541169993865, 1.4552705782538644, 1.4691089170090665, 1.2944323177091897, 1.1469051379283983, 0.9271387058798399, 0.9010740051058557, 0.8825298105799287, 0.5793283387404403, 0.5768507847766191, 0.5751259877216753, 0.427656586139614, 0.28848298638865055, 0.07962140603833508, -0.3170323137334511, -0.38072470024151756, -0.6814049599853678, -0.8557054705420234, -1.035654598453132, -0.9376912498038924, -1.027457...</td>\n",
       "      <td>[[7.1823864683239576, 6.713028285106601, 6.37191857627651, 6.308754297122282, 6.603347810380141, 7.233618955076376, 8.072916852710613, 8.91859428528125, 9.544426121643486, 9.762199616319377, 9.474799868042057, 8.705302115906111, 7.593355818232023, 6.359529458260226, 5.247523520915066, 4.460532064155397, 4.109665396292236, 4.1887641180996695, 4.582206436906672, 5.102726815476994, 5.54765479922919, 5.756875627499357, 5.655683448510444, 5.270531000520408, 4.713987547853872, 4.144485981327103, 3.7138882371441864, 3.519309216571843, 3.5740244897895734, 3.8061768388052806, 4.085275734055544, 4.2...</td>\n",
       "      <td>adam</td>\n",
       "      <td>0.432122</td>\n",
       "    </tr>\n",
       "    <tr>\n",
       "      <th>2</th>\n",
       "      <td>[[-2.4486849449937664, -2.2354714573727392, -2.0767913967064953, -1.9622972574703275, -1.9469247590351875, -1.8453721340418117, -1.5161792260882474, -1.4813609052500947, -1.3663229112755906, -1.2340623205069745, -1.0941751709018415, -0.9413369604794268, -0.8596501224331555, -0.6667447165066248, -0.5727183164651054, -0.4370001031439625, -0.3720590734626109, -0.29259195445720715, -0.17762875808616665, -0.04285483492146252, -0.01892461734142401, 0.02678721970221048, -0.057924197042005535, 0.067282905949809, 0.07027462350824722, 0.36043598003592053, 0.28163052687001205, 0.3305501409240203, 0.3...</td>\n",
       "      <td>[[7.637286759413509, 7.40077128100839, 7.195848080888238, 7.061474201817185, 7.026163478883017, 7.103538539698661, 7.289945440140781, 7.564471670437221, 7.891381291659334, 8.224651578151903, 8.514008332389599, 8.711650909760785, 8.778760907564665, 8.690913680657278, 8.44165607772851, 8.043757702298143, 7.527953777547868, 6.939333478910644, 6.331843145077061, 5.761626553704083, 5.28008037587367, 4.927540982920764, 4.7284338443418745, 4.688520285710174, 4.79459486904587, 5.016658074221996, 5.312257594532361, 5.632402065212902, 5.928242402894381, 6.157616197923765, 6.290573106156588, 6.313140...</td>\n",
       "      <td>adam</td>\n",
       "      <td>-0.028223</td>\n",
       "    </tr>\n",
       "  </tbody>\n",
       "</table>\n",
       "</div>"
      ],
      "text/plain": [
       "                                                                                                                                                                                                                                                                                                                                                                                                                                                                                                                                                                                                                         x  \\\n",
       "0  [[0.3499817652112622, 0.22287298833808405, 0.3833310966032255, 0.0361281371909635, 0.3940890076512866, 0.3435985677698597, 0.48474513823414167, 0.6161005478047001, 0.9239871675999375, 0.819758379419906, 0.9236493473400123, 0.8275746904478541, 1.092983850981239, 1.1808712217206137, 1.2010371205071007, 1.5078615551290568, 1.712245632736618, 1.91173172939488, 2.2430523078542204, 2.2039242415853666, 1.9682861970526948, 1.9666998408834104, 1.7367915402528353, 1.451104221988865, 1.0408330283496683, 0.7913514946341493, 0.3360183672349563, 0.07195157773523013, -0.11095599151543348, -0.319359866531...   \n",
       "1  [[1.7730313448830919, 1.6160952842154572, 1.3482499989532435, 1.336950214647062, 1.2472297608842795, 1.2114779515601928, 1.2107482018137772, 1.2308461073077372, 1.421392393869819, 1.4243541169993865, 1.4552705782538644, 1.4691089170090665, 1.2944323177091897, 1.1469051379283983, 0.9271387058798399, 0.9010740051058557, 0.8825298105799287, 0.5793283387404403, 0.5768507847766191, 0.5751259877216753, 0.427656586139614, 0.28848298638865055, 0.07962140603833508, -0.3170323137334511, -0.38072470024151756, -0.6814049599853678, -0.8557054705420234, -1.035654598453132, -0.9376912498038924, -1.027457...   \n",
       "2  [[-2.4486849449937664, -2.2354714573727392, -2.0767913967064953, -1.9622972574703275, -1.9469247590351875, -1.8453721340418117, -1.5161792260882474, -1.4813609052500947, -1.3663229112755906, -1.2340623205069745, -1.0941751709018415, -0.9413369604794268, -0.8596501224331555, -0.6667447165066248, -0.5727183164651054, -0.4370001031439625, -0.3720590734626109, -0.29259195445720715, -0.17762875808616665, -0.04285483492146252, -0.01892461734142401, 0.02678721970221048, -0.057924197042005535, 0.067282905949809, 0.07027462350824722, 0.36043598003592053, 0.28163052687001205, 0.3305501409240203, 0.3...   \n",
       "\n",
       "                                                                                                                                                                                                                                                                                                                                                                                                                                                                                                                                                                                                                   weather  \\\n",
       "0  [[9.148751288601497, 8.913057444493193, 8.719020866899665, 8.658101400645753, 8.761692180812451, 8.987255326720362, 9.229453037992705, 9.353220172439837, 9.238743143126314, 8.824349547591561, 8.133612519225492, 7.277487402012668, 6.429702745277641, 5.781714768999325, 5.489871651136406, 5.630093954762371, 6.173519634124332, 6.990690115770793, 7.883672314439498, 8.637421869137905, 9.076081652995091, 9.108437664894538, 8.749862474928397, 8.114852954057016, 7.382720712990327, 6.746637474368401, 6.360838020823031, 6.3010147812536506, 6.54877479184693, 7.003747638982945, 7.518723571202935, 7.946...   \n",
       "1  [[7.1823864683239576, 6.713028285106601, 6.37191857627651, 6.308754297122282, 6.603347810380141, 7.233618955076376, 8.072916852710613, 8.91859428528125, 9.544426121643486, 9.762199616319377, 9.474799868042057, 8.705302115906111, 7.593355818232023, 6.359529458260226, 5.247523520915066, 4.460532064155397, 4.109665396292236, 4.1887641180996695, 4.582206436906672, 5.102726815476994, 5.54765479922919, 5.756875627499357, 5.655683448510444, 5.270531000520408, 4.713987547853872, 4.144485981327103, 3.7138882371441864, 3.519309216571843, 3.5740244897895734, 3.8061768388052806, 4.085275734055544, 4.2...   \n",
       "2  [[7.637286759413509, 7.40077128100839, 7.195848080888238, 7.061474201817185, 7.026163478883017, 7.103538539698661, 7.289945440140781, 7.564471670437221, 7.891381291659334, 8.224651578151903, 8.514008332389599, 8.711650909760785, 8.778760907564665, 8.690913680657278, 8.44165607772851, 8.043757702298143, 7.527953777547868, 6.939333478910644, 6.331843145077061, 5.761626553704083, 5.28008037587367, 4.927540982920764, 4.7284338443418745, 4.688520285710174, 4.79459486904587, 5.016658074221996, 5.312257594532361, 5.632402065212902, 5.928242402894381, 6.157616197923765, 6.290573106156588, 6.313140...   \n",
       "\n",
       "   city      cont  \n",
       "0  adam  0.293366  \n",
       "1  adam  0.432122  \n",
       "2  adam -0.028223  "
      ]
     },
     "execution_count": 26,
     "metadata": {},
     "output_type": "execute_result"
    }
   ],
   "source": [
    "from fastseq.data.external import *\n",
    "horizon,lookback = 5,10\n",
    "df = dummy_data_generator_multi(70)\n",
    "df.head(3)"
   ]
  },
  {
   "cell_type": "code",
   "execution_count": 27,
   "metadata": {
    "Collapsed": "false"
   },
   "outputs": [
    {
     "name": "stdout",
     "output_type": "stream",
     "text": [
      "Train:130; Valid: 60; Test 10\n"
     ]
    },
    {
     "data": {
      "image/png": "[encoded data removed]",
      "text/plain": [
       "<Figure size 648x720 with 9 Axes>"
      ]
     },
     "metadata": {
      "needs_background": "light"
     },
     "output_type": "display_data"
    }
   ],
   "source": [
    "dbunch =  DfDataLoaders.from_df(df, 'x', horizon = 7, lookback=14, step=2, bs=32)\n",
    "dbunch.train.show_batch(max_n=9)"
   ]
  },
  {
   "cell_type": "code",
   "execution_count": 28,
   "metadata": {
    "Collapsed": "false"
   },
   "outputs": [
    {
     "data": {
      "image/png": "[encoded data removed]",
      "text/plain": [
       "<Figure size 648x720 with 9 Axes>"
      ]
     },
     "metadata": {
      "needs_background": "light"
     },
     "output_type": "display_data"
    }
   ],
   "source": [
    "dbunch.test.show_batch(max_n=9)"
   ]
  },
  {
   "cell_type": "markdown",
   "metadata": {
    "Collapsed": "true"
   },
   "source": [
    "# M5 Example"
   ]
  },
  {
   "cell_type": "code",
   "execution_count": 66,
   "metadata": {
    "Collapsed": "false"
   },
   "outputs": [
    {
     "data": {
      "text/plain": [
       "(#5) [Path('../data/m5/sales_train_validation.csv'),Path('../data/m5/sample_submission.csv'),Path('../data/m5/calendar.csv'),Path('../data/m5/m5-forecasting-accuracy.zip'),Path('../data/m5/sell_prices.csv')]"
      ]
     },
     "execution_count": 66,
     "metadata": {},
     "output_type": "execute_result"
    }
   ],
   "source": [
    "path = Path('../data/m5')\n",
    "path.ls()"
   ]
  },
  {
   "cell_type": "code",
   "execution_count": 109,
   "metadata": {
    "Collapsed": "false"
   },
   "outputs": [
    {
     "data": {
      "text/html": [
       "<div>\n",
       "<style scoped>\n",
       "    .dataframe tbody tr th:only-of-type {\n",
       "        vertical-align: middle;\n",
       "    }\n",
       "\n",
       "    .dataframe tbody tr th {\n",
       "        vertical-align: top;\n",
       "    }\n",
       "\n",
       "    .dataframe thead th {\n",
       "        text-align: right;\n",
       "    }\n",
       "</style>\n",
       "<table border=\"1\" class=\"dataframe\">\n",
       "  <thead>\n",
       "    <tr style=\"text-align: right;\">\n",
       "      <th></th>\n",
       "      <th>id</th>\n",
       "      <th>item_id</th>\n",
       "      <th>dept_id</th>\n",
       "      <th>cat_id</th>\n",
       "      <th>store_id</th>\n",
       "      <th>state_id</th>\n",
       "      <th>d_1</th>\n",
       "      <th>d_2</th>\n",
       "      <th>d_3</th>\n",
       "      <th>d_4</th>\n",
       "      <th>...</th>\n",
       "      <th>d_1904</th>\n",
       "      <th>d_1905</th>\n",
       "      <th>d_1906</th>\n",
       "      <th>d_1907</th>\n",
       "      <th>d_1908</th>\n",
       "      <th>d_1909</th>\n",
       "      <th>d_1910</th>\n",
       "      <th>d_1911</th>\n",
       "      <th>d_1912</th>\n",
       "      <th>d_1913</th>\n",
       "    </tr>\n",
       "  </thead>\n",
       "  <tbody>\n",
       "    <tr>\n",
       "      <th>0</th>\n",
       "      <td>HOBBIES_1_001_CA_1_validation</td>\n",
       "      <td>HOBBIES_1_001</td>\n",
       "      <td>HOBBIES_1</td>\n",
       "      <td>HOBBIES</td>\n",
       "      <td>CA_1</td>\n",
       "      <td>CA</td>\n",
       "      <td>0</td>\n",
       "      <td>0</td>\n",
       "      <td>0</td>\n",
       "      <td>0</td>\n",
       "      <td>...</td>\n",
       "      <td>1</td>\n",
       "      <td>3</td>\n",
       "      <td>0</td>\n",
       "      <td>1</td>\n",
       "      <td>1</td>\n",
       "      <td>1</td>\n",
       "      <td>3</td>\n",
       "      <td>0</td>\n",
       "      <td>1</td>\n",
       "      <td>1</td>\n",
       "    </tr>\n",
       "    <tr>\n",
       "      <th>1</th>\n",
       "      <td>HOBBIES_1_002_CA_1_validation</td>\n",
       "      <td>HOBBIES_1_002</td>\n",
       "      <td>HOBBIES_1</td>\n",
       "      <td>HOBBIES</td>\n",
       "      <td>CA_1</td>\n",
       "      <td>CA</td>\n",
       "      <td>0</td>\n",
       "      <td>0</td>\n",
       "      <td>0</td>\n",
       "      <td>0</td>\n",
       "      <td>...</td>\n",
       "      <td>0</td>\n",
       "      <td>0</td>\n",
       "      <td>0</td>\n",
       "      <td>0</td>\n",
       "      <td>0</td>\n",
       "      <td>1</td>\n",
       "      <td>0</td>\n",
       "      <td>0</td>\n",
       "      <td>0</td>\n",
       "      <td>0</td>\n",
       "    </tr>\n",
       "    <tr>\n",
       "      <th>2</th>\n",
       "      <td>HOBBIES_1_003_CA_1_validation</td>\n",
       "      <td>HOBBIES_1_003</td>\n",
       "      <td>HOBBIES_1</td>\n",
       "      <td>HOBBIES</td>\n",
       "      <td>CA_1</td>\n",
       "      <td>CA</td>\n",
       "      <td>0</td>\n",
       "      <td>0</td>\n",
       "      <td>0</td>\n",
       "      <td>0</td>\n",
       "      <td>...</td>\n",
       "      <td>2</td>\n",
       "      <td>1</td>\n",
       "      <td>2</td>\n",
       "      <td>1</td>\n",
       "      <td>1</td>\n",
       "      <td>1</td>\n",
       "      <td>0</td>\n",
       "      <td>1</td>\n",
       "      <td>1</td>\n",
       "      <td>1</td>\n",
       "    </tr>\n",
       "    <tr>\n",
       "      <th>3</th>\n",
       "      <td>HOBBIES_1_004_CA_1_validation</td>\n",
       "      <td>HOBBIES_1_004</td>\n",
       "      <td>HOBBIES_1</td>\n",
       "      <td>HOBBIES</td>\n",
       "      <td>CA_1</td>\n",
       "      <td>CA</td>\n",
       "      <td>0</td>\n",
       "      <td>0</td>\n",
       "      <td>0</td>\n",
       "      <td>0</td>\n",
       "      <td>...</td>\n",
       "      <td>1</td>\n",
       "      <td>0</td>\n",
       "      <td>5</td>\n",
       "      <td>4</td>\n",
       "      <td>1</td>\n",
       "      <td>0</td>\n",
       "      <td>1</td>\n",
       "      <td>3</td>\n",
       "      <td>7</td>\n",
       "      <td>2</td>\n",
       "    </tr>\n",
       "    <tr>\n",
       "      <th>4</th>\n",
       "      <td>HOBBIES_1_005_CA_1_validation</td>\n",
       "      <td>HOBBIES_1_005</td>\n",
       "      <td>HOBBIES_1</td>\n",
       "      <td>HOBBIES</td>\n",
       "      <td>CA_1</td>\n",
       "      <td>CA</td>\n",
       "      <td>0</td>\n",
       "      <td>0</td>\n",
       "      <td>0</td>\n",
       "      <td>0</td>\n",
       "      <td>...</td>\n",
       "      <td>2</td>\n",
       "      <td>1</td>\n",
       "      <td>1</td>\n",
       "      <td>0</td>\n",
       "      <td>1</td>\n",
       "      <td>1</td>\n",
       "      <td>2</td>\n",
       "      <td>2</td>\n",
       "      <td>2</td>\n",
       "      <td>4</td>\n",
       "    </tr>\n",
       "  </tbody>\n",
       "</table>\n",
       "<p>5 rows × 1919 columns</p>\n",
       "</div>"
      ],
      "text/plain": [
       "                              id        item_id    dept_id   cat_id store_id  \\\n",
       "0  HOBBIES_1_001_CA_1_validation  HOBBIES_1_001  HOBBIES_1  HOBBIES     CA_1   \n",
       "1  HOBBIES_1_002_CA_1_validation  HOBBIES_1_002  HOBBIES_1  HOBBIES     CA_1   \n",
       "2  HOBBIES_1_003_CA_1_validation  HOBBIES_1_003  HOBBIES_1  HOBBIES     CA_1   \n",
       "3  HOBBIES_1_004_CA_1_validation  HOBBIES_1_004  HOBBIES_1  HOBBIES     CA_1   \n",
       "4  HOBBIES_1_005_CA_1_validation  HOBBIES_1_005  HOBBIES_1  HOBBIES     CA_1   \n",
       "\n",
       "  state_id  d_1  d_2  d_3  d_4  ...  d_1904  d_1905  d_1906  d_1907  d_1908  \\\n",
       "0       CA    0    0    0    0  ...       1       3       0       1       1   \n",
       "1       CA    0    0    0    0  ...       0       0       0       0       0   \n",
       "2       CA    0    0    0    0  ...       2       1       2       1       1   \n",
       "3       CA    0    0    0    0  ...       1       0       5       4       1   \n",
       "4       CA    0    0    0    0  ...       2       1       1       0       1   \n",
       "\n",
       "   d_1909  d_1910  d_1911  d_1912  d_1913  \n",
       "0       1       3       0       1       1  \n",
       "1       1       0       0       0       0  \n",
       "2       1       0       1       1       1  \n",
       "3       0       1       3       7       2  \n",
       "4       1       2       2       2       4  \n",
       "\n",
       "[5 rows x 1919 columns]"
      ]
     },
     "execution_count": 109,
     "metadata": {},
     "output_type": "execute_result"
    }
   ],
   "source": [
    "df_sales = pd.read_csv(path / 'sales_train_validation.csv',).iloc[:1000,:]\n",
    "df_sales.head()"
   ]
  },
  {
   "cell_type": "code",
   "execution_count": 110,
   "metadata": {
    "Collapsed": "false"
   },
   "outputs": [
    {
     "data": {
      "text/html": [
       "<div>\n",
       "<style scoped>\n",
       "    .dataframe tbody tr th:only-of-type {\n",
       "        vertical-align: middle;\n",
       "    }\n",
       "\n",
       "    .dataframe tbody tr th {\n",
       "        vertical-align: top;\n",
       "    }\n",
       "\n",
       "    .dataframe thead th {\n",
       "        text-align: right;\n",
       "    }\n",
       "</style>\n",
       "<table border=\"1\" class=\"dataframe\">\n",
       "  <thead>\n",
       "    <tr style=\"text-align: right;\">\n",
       "      <th></th>\n",
       "      <th>id</th>\n",
       "      <th>item_id</th>\n",
       "      <th>dept_id</th>\n",
       "      <th>cat_id</th>\n",
       "      <th>store_id</th>\n",
       "      <th>state_id</th>\n",
       "      <th>sales</th>\n",
       "    </tr>\n",
       "  </thead>\n",
       "  <tbody>\n",
       "    <tr>\n",
       "      <th>0</th>\n",
       "      <td>HOBBIES_1_001_CA_1_validation</td>\n",
       "      <td>HOBBIES_1_001</td>\n",
       "      <td>HOBBIES_1</td>\n",
       "      <td>HOBBIES</td>\n",
       "      <td>CA_1</td>\n",
       "      <td>CA</td>\n",
       "      <td>(0, 0, 0, 0, 0, 0, 0, 0, 0, 0, 0, 0, 0, 0, 0, 0, 0, 0, 0, 0, 0, 0, 0, 0, 0, 0, 0, 0, 0, 0, 0, 0, 0, 0, 0, 0, 0, 0, 0, 0, 0, 0, 0, 0, 0, 0, 0, 0, 0, 0, 0, 0, 0, 0, 0, 0, 0, 0, 0, 0, 0, 0, 0, 0, 0, 0, 0, 0, 0, 0, 0, 0, 0, 0, 0, 0, 0, 0, 0, 0, 0, 0, 0, 0, 0, 0, 0, 0, 0, 0, 0, 0, 0, 0, 0, 0, 0, 0, 0, 0, ...)</td>\n",
       "    </tr>\n",
       "    <tr>\n",
       "      <th>1</th>\n",
       "      <td>HOBBIES_1_002_CA_1_validation</td>\n",
       "      <td>HOBBIES_1_002</td>\n",
       "      <td>HOBBIES_1</td>\n",
       "      <td>HOBBIES</td>\n",
       "      <td>CA_1</td>\n",
       "      <td>CA</td>\n",
       "      <td>(0, 0, 0, 0, 0, 0, 0, 0, 0, 0, 0, 0, 0, 0, 0, 0, 0, 0, 0, 0, 0, 0, 0, 0, 0, 0, 0, 0, 0, 0, 0, 0, 0, 0, 0, 0, 0, 0, 0, 0, 0, 0, 0, 0, 0, 0, 0, 0, 0, 0, 0, 0, 0, 0, 0, 0, 0, 0, 0, 0, 0, 0, 0, 0, 0, 0, 0, 0, 0, 0, 0, 0, 0, 0, 0, 0, 0, 0, 0, 0, 0, 0, 0, 0, 0, 0, 0, 0, 0, 0, 0, 0, 0, 0, 0, 0, 0, 0, 0, 0, ...)</td>\n",
       "    </tr>\n",
       "    <tr>\n",
       "      <th>2</th>\n",
       "      <td>HOBBIES_1_003_CA_1_validation</td>\n",
       "      <td>HOBBIES_1_003</td>\n",
       "      <td>HOBBIES_1</td>\n",
       "      <td>HOBBIES</td>\n",
       "      <td>CA_1</td>\n",
       "      <td>CA</td>\n",
       "      <td>(0, 0, 0, 0, 0, 0, 0, 0, 0, 0, 0, 0, 0, 0, 0, 0, 0, 0, 0, 0, 0, 0, 0, 0, 0, 0, 0, 0, 0, 0, 0, 0, 0, 0, 0, 0, 0, 0, 0, 0, 0, 0, 0, 0, 0, 0, 0, 0, 0, 0, 0, 0, 0, 0, 0, 0, 0, 0, 0, 0, 0, 0, 0, 0, 0, 0, 0, 0, 0, 0, 0, 0, 0, 0, 0, 0, 0, 0, 0, 0, 0, 0, 0, 0, 0, 0, 0, 0, 0, 0, 0, 0, 0, 0, 0, 0, 0, 0, 0, 0, ...)</td>\n",
       "    </tr>\n",
       "    <tr>\n",
       "      <th>3</th>\n",
       "      <td>HOBBIES_1_004_CA_1_validation</td>\n",
       "      <td>HOBBIES_1_004</td>\n",
       "      <td>HOBBIES_1</td>\n",
       "      <td>HOBBIES</td>\n",
       "      <td>CA_1</td>\n",
       "      <td>CA</td>\n",
       "      <td>(0, 0, 0, 0, 0, 0, 0, 0, 0, 0, 0, 0, 0, 0, 0, 0, 0, 0, 0, 0, 0, 0, 0, 0, 0, 0, 0, 0, 0, 0, 0, 0, 0, 0, 0, 0, 2, 0, 0, 0, 2, 0, 1, 0, 0, 0, 0, 0, 0, 2, 0, 1, 0, 0, 1, 1, 1, 0, 2, 3, 1, 0, 0, 0, 0, 0, 1, 0, 0, 1, 1, 0, 0, 1, 0, 0, 1, 2, 3, 0, 2, 0, 0, 2, 2, 0, 0, 2, 1, 2, 1, 1, 1, 2, 0, 0, 1, 0, 1, 3, ...)</td>\n",
       "    </tr>\n",
       "    <tr>\n",
       "      <th>4</th>\n",
       "      <td>HOBBIES_1_005_CA_1_validation</td>\n",
       "      <td>HOBBIES_1_005</td>\n",
       "      <td>HOBBIES_1</td>\n",
       "      <td>HOBBIES</td>\n",
       "      <td>CA_1</td>\n",
       "      <td>CA</td>\n",
       "      <td>(0, 0, 0, 0, 0, 0, 0, 0, 0, 0, 0, 0, 0, 0, 0, 0, 0, 0, 0, 0, 0, 0, 0, 0, 0, 0, 0, 0, 0, 0, 0, 0, 0, 0, 0, 0, 0, 0, 0, 0, 0, 0, 0, 0, 0, 0, 0, 0, 0, 0, 0, 0, 0, 0, 0, 0, 0, 0, 0, 0, 0, 0, 0, 0, 0, 0, 0, 0, 0, 0, 0, 0, 0, 0, 0, 0, 0, 0, 0, 0, 0, 0, 0, 0, 0, 0, 0, 0, 0, 0, 0, 0, 0, 0, 0, 0, 0, 0, 0, 0, ...)</td>\n",
       "    </tr>\n",
       "    <tr>\n",
       "      <th>...</th>\n",
       "      <td>...</td>\n",
       "      <td>...</td>\n",
       "      <td>...</td>\n",
       "      <td>...</td>\n",
       "      <td>...</td>\n",
       "      <td>...</td>\n",
       "      <td>...</td>\n",
       "    </tr>\n",
       "    <tr>\n",
       "      <th>995</th>\n",
       "      <td>HOUSEHOLD_1_440_CA_1_validation</td>\n",
       "      <td>HOUSEHOLD_1_440</td>\n",
       "      <td>HOUSEHOLD_1</td>\n",
       "      <td>HOUSEHOLD</td>\n",
       "      <td>CA_1</td>\n",
       "      <td>CA</td>\n",
       "      <td>(0, 0, 0, 0, 1, 2, 2, 1, 1, 2, 2, 0, 1, 1, 3, 2, 2, 1, 0, 2, 1, 2, 0, 5, 2, 0, 0, 1, 7, 0, 0, 0, 0, 0, 0, 0, 4, 3, 1, 1, 1, 4, 2, 2, 4, 3, 1, 1, 4, 5, 11, 2, 2, 0, 3, 2, 7, 7, 2, 3, 0, 0, 5, 7, 9, 5, 3, 4, 4, 0, 5, 3, 4, 3, 1, 2, 3, 3, 9, 4, 3, 2, 1, 5, 0, 8, 3, 3, 3, 3, 5, 3, 4, 3, 3, 0, 2, 4, 3, 7, ...)</td>\n",
       "    </tr>\n",
       "    <tr>\n",
       "      <th>996</th>\n",
       "      <td>HOUSEHOLD_1_441_CA_1_validation</td>\n",
       "      <td>HOUSEHOLD_1_441</td>\n",
       "      <td>HOUSEHOLD_1</td>\n",
       "      <td>HOUSEHOLD</td>\n",
       "      <td>CA_1</td>\n",
       "      <td>CA</td>\n",
       "      <td>(0, 0, 0, 0, 0, 0, 0, 0, 0, 0, 0, 0, 0, 0, 0, 0, 0, 0, 0, 0, 0, 0, 0, 0, 0, 0, 0, 0, 0, 0, 0, 0, 0, 0, 0, 0, 0, 0, 0, 0, 0, 0, 0, 0, 0, 0, 0, 0, 0, 0, 0, 0, 0, 0, 0, 0, 0, 0, 0, 0, 0, 0, 0, 0, 0, 0, 0, 0, 0, 0, 0, 0, 0, 0, 0, 0, 0, 0, 0, 0, 0, 0, 0, 0, 0, 0, 0, 0, 0, 0, 0, 0, 0, 0, 0, 0, 0, 0, 0, 0, ...)</td>\n",
       "    </tr>\n",
       "    <tr>\n",
       "      <th>997</th>\n",
       "      <td>HOUSEHOLD_1_442_CA_1_validation</td>\n",
       "      <td>HOUSEHOLD_1_442</td>\n",
       "      <td>HOUSEHOLD_1</td>\n",
       "      <td>HOUSEHOLD</td>\n",
       "      <td>CA_1</td>\n",
       "      <td>CA</td>\n",
       "      <td>(0, 0, 0, 0, 0, 0, 0, 0, 0, 0, 0, 0, 0, 0, 0, 0, 0, 0, 0, 0, 0, 0, 0, 0, 0, 0, 0, 0, 0, 0, 0, 0, 0, 0, 0, 0, 0, 0, 0, 0, 0, 0, 0, 0, 0, 0, 0, 0, 0, 0, 0, 0, 0, 0, 0, 0, 0, 0, 0, 0, 0, 0, 0, 0, 0, 0, 0, 0, 0, 0, 0, 0, 0, 0, 0, 0, 0, 0, 0, 0, 0, 0, 0, 0, 0, 0, 0, 0, 0, 0, 0, 0, 0, 0, 0, 0, 0, 0, 0, 0, ...)</td>\n",
       "    </tr>\n",
       "    <tr>\n",
       "      <th>998</th>\n",
       "      <td>HOUSEHOLD_1_443_CA_1_validation</td>\n",
       "      <td>HOUSEHOLD_1_443</td>\n",
       "      <td>HOUSEHOLD_1</td>\n",
       "      <td>HOUSEHOLD</td>\n",
       "      <td>CA_1</td>\n",
       "      <td>CA</td>\n",
       "      <td>(0, 0, 0, 0, 0, 0, 0, 0, 0, 0, 0, 0, 0, 0, 0, 0, 0, 0, 0, 0, 0, 4, 1, 2, 0, 0, 0, 0, 0, 0, 0, 0, 0, 0, 1, 2, 0, 0, 0, 2, 1, 1, 0, 0, 1, 1, 2, 2, 3, 6, 0, 0, 0, 0, 1, 0, 0, 0, 2, 4, 2, 1, 2, 8, 0, 0, 0, 0, 0, 0, 0, 8, 3, 5, 3, 2, 1, 2, 5, 2, 1, 2, 7, 3, 2, 1, 0, 0, 0, 2, 0, 0, 2, 0, 0, 0, 0, 0, 0, 1, ...)</td>\n",
       "    </tr>\n",
       "    <tr>\n",
       "      <th>999</th>\n",
       "      <td>HOUSEHOLD_1_444_CA_1_validation</td>\n",
       "      <td>HOUSEHOLD_1_444</td>\n",
       "      <td>HOUSEHOLD_1</td>\n",
       "      <td>HOUSEHOLD</td>\n",
       "      <td>CA_1</td>\n",
       "      <td>CA</td>\n",
       "      <td>(0, 0, 0, 0, 0, 0, 0, 0, 0, 0, 0, 0, 0, 0, 0, 0, 0, 0, 0, 0, 0, 0, 0, 0, 0, 0, 0, 0, 0, 0, 0, 0, 0, 0, 0, 0, 0, 0, 0, 0, 0, 0, 0, 0, 0, 0, 0, 0, 0, 0, 0, 0, 0, 0, 0, 0, 0, 0, 0, 0, 0, 0, 0, 0, 0, 0, 0, 0, 0, 0, 0, 0, 0, 0, 0, 0, 0, 0, 0, 0, 0, 0, 0, 0, 0, 0, 0, 0, 0, 0, 0, 0, 0, 0, 0, 0, 0, 0, 0, 0, ...)</td>\n",
       "    </tr>\n",
       "  </tbody>\n",
       "</table>\n",
       "<p>1000 rows × 7 columns</p>\n",
       "</div>"
      ],
      "text/plain": [
       "                                  id          item_id      dept_id     cat_id  \\\n",
       "0      HOBBIES_1_001_CA_1_validation    HOBBIES_1_001    HOBBIES_1    HOBBIES   \n",
       "1      HOBBIES_1_002_CA_1_validation    HOBBIES_1_002    HOBBIES_1    HOBBIES   \n",
       "2      HOBBIES_1_003_CA_1_validation    HOBBIES_1_003    HOBBIES_1    HOBBIES   \n",
       "3      HOBBIES_1_004_CA_1_validation    HOBBIES_1_004    HOBBIES_1    HOBBIES   \n",
       "4      HOBBIES_1_005_CA_1_validation    HOBBIES_1_005    HOBBIES_1    HOBBIES   \n",
       "..                               ...              ...          ...        ...   \n",
       "995  HOUSEHOLD_1_440_CA_1_validation  HOUSEHOLD_1_440  HOUSEHOLD_1  HOUSEHOLD   \n",
       "996  HOUSEHOLD_1_441_CA_1_validation  HOUSEHOLD_1_441  HOUSEHOLD_1  HOUSEHOLD   \n",
       "997  HOUSEHOLD_1_442_CA_1_validation  HOUSEHOLD_1_442  HOUSEHOLD_1  HOUSEHOLD   \n",
       "998  HOUSEHOLD_1_443_CA_1_validation  HOUSEHOLD_1_443  HOUSEHOLD_1  HOUSEHOLD   \n",
       "999  HOUSEHOLD_1_444_CA_1_validation  HOUSEHOLD_1_444  HOUSEHOLD_1  HOUSEHOLD   \n",
       "\n",
       "    store_id state_id  \\\n",
       "0       CA_1       CA   \n",
       "1       CA_1       CA   \n",
       "2       CA_1       CA   \n",
       "3       CA_1       CA   \n",
       "4       CA_1       CA   \n",
       "..       ...      ...   \n",
       "995     CA_1       CA   \n",
       "996     CA_1       CA   \n",
       "997     CA_1       CA   \n",
       "998     CA_1       CA   \n",
       "999     CA_1       CA   \n",
       "\n",
       "                                                                                                                                                                                                                                                                                                                  sales  \n",
       "0     (0, 0, 0, 0, 0, 0, 0, 0, 0, 0, 0, 0, 0, 0, 0, 0, 0, 0, 0, 0, 0, 0, 0, 0, 0, 0, 0, 0, 0, 0, 0, 0, 0, 0, 0, 0, 0, 0, 0, 0, 0, 0, 0, 0, 0, 0, 0, 0, 0, 0, 0, 0, 0, 0, 0, 0, 0, 0, 0, 0, 0, 0, 0, 0, 0, 0, 0, 0, 0, 0, 0, 0, 0, 0, 0, 0, 0, 0, 0, 0, 0, 0, 0, 0, 0, 0, 0, 0, 0, 0, 0, 0, 0, 0, 0, 0, 0, 0, 0, 0, ...)  \n",
       "1     (0, 0, 0, 0, 0, 0, 0, 0, 0, 0, 0, 0, 0, 0, 0, 0, 0, 0, 0, 0, 0, 0, 0, 0, 0, 0, 0, 0, 0, 0, 0, 0, 0, 0, 0, 0, 0, 0, 0, 0, 0, 0, 0, 0, 0, 0, 0, 0, 0, 0, 0, 0, 0, 0, 0, 0, 0, 0, 0, 0, 0, 0, 0, 0, 0, 0, 0, 0, 0, 0, 0, 0, 0, 0, 0, 0, 0, 0, 0, 0, 0, 0, 0, 0, 0, 0, 0, 0, 0, 0, 0, 0, 0, 0, 0, 0, 0, 0, 0, 0, ...)  \n",
       "2     (0, 0, 0, 0, 0, 0, 0, 0, 0, 0, 0, 0, 0, 0, 0, 0, 0, 0, 0, 0, 0, 0, 0, 0, 0, 0, 0, 0, 0, 0, 0, 0, 0, 0, 0, 0, 0, 0, 0, 0, 0, 0, 0, 0, 0, 0, 0, 0, 0, 0, 0, 0, 0, 0, 0, 0, 0, 0, 0, 0, 0, 0, 0, 0, 0, 0, 0, 0, 0, 0, 0, 0, 0, 0, 0, 0, 0, 0, 0, 0, 0, 0, 0, 0, 0, 0, 0, 0, 0, 0, 0, 0, 0, 0, 0, 0, 0, 0, 0, 0, ...)  \n",
       "3     (0, 0, 0, 0, 0, 0, 0, 0, 0, 0, 0, 0, 0, 0, 0, 0, 0, 0, 0, 0, 0, 0, 0, 0, 0, 0, 0, 0, 0, 0, 0, 0, 0, 0, 0, 0, 2, 0, 0, 0, 2, 0, 1, 0, 0, 0, 0, 0, 0, 2, 0, 1, 0, 0, 1, 1, 1, 0, 2, 3, 1, 0, 0, 0, 0, 0, 1, 0, 0, 1, 1, 0, 0, 1, 0, 0, 1, 2, 3, 0, 2, 0, 0, 2, 2, 0, 0, 2, 1, 2, 1, 1, 1, 2, 0, 0, 1, 0, 1, 3, ...)  \n",
       "4     (0, 0, 0, 0, 0, 0, 0, 0, 0, 0, 0, 0, 0, 0, 0, 0, 0, 0, 0, 0, 0, 0, 0, 0, 0, 0, 0, 0, 0, 0, 0, 0, 0, 0, 0, 0, 0, 0, 0, 0, 0, 0, 0, 0, 0, 0, 0, 0, 0, 0, 0, 0, 0, 0, 0, 0, 0, 0, 0, 0, 0, 0, 0, 0, 0, 0, 0, 0, 0, 0, 0, 0, 0, 0, 0, 0, 0, 0, 0, 0, 0, 0, 0, 0, 0, 0, 0, 0, 0, 0, 0, 0, 0, 0, 0, 0, 0, 0, 0, 0, ...)  \n",
       "..                                                                                                                                                                                                                                                                                                                  ...  \n",
       "995  (0, 0, 0, 0, 1, 2, 2, 1, 1, 2, 2, 0, 1, 1, 3, 2, 2, 1, 0, 2, 1, 2, 0, 5, 2, 0, 0, 1, 7, 0, 0, 0, 0, 0, 0, 0, 4, 3, 1, 1, 1, 4, 2, 2, 4, 3, 1, 1, 4, 5, 11, 2, 2, 0, 3, 2, 7, 7, 2, 3, 0, 0, 5, 7, 9, 5, 3, 4, 4, 0, 5, 3, 4, 3, 1, 2, 3, 3, 9, 4, 3, 2, 1, 5, 0, 8, 3, 3, 3, 3, 5, 3, 4, 3, 3, 0, 2, 4, 3, 7, ...)  \n",
       "996   (0, 0, 0, 0, 0, 0, 0, 0, 0, 0, 0, 0, 0, 0, 0, 0, 0, 0, 0, 0, 0, 0, 0, 0, 0, 0, 0, 0, 0, 0, 0, 0, 0, 0, 0, 0, 0, 0, 0, 0, 0, 0, 0, 0, 0, 0, 0, 0, 0, 0, 0, 0, 0, 0, 0, 0, 0, 0, 0, 0, 0, 0, 0, 0, 0, 0, 0, 0, 0, 0, 0, 0, 0, 0, 0, 0, 0, 0, 0, 0, 0, 0, 0, 0, 0, 0, 0, 0, 0, 0, 0, 0, 0, 0, 0, 0, 0, 0, 0, 0, ...)  \n",
       "997   (0, 0, 0, 0, 0, 0, 0, 0, 0, 0, 0, 0, 0, 0, 0, 0, 0, 0, 0, 0, 0, 0, 0, 0, 0, 0, 0, 0, 0, 0, 0, 0, 0, 0, 0, 0, 0, 0, 0, 0, 0, 0, 0, 0, 0, 0, 0, 0, 0, 0, 0, 0, 0, 0, 0, 0, 0, 0, 0, 0, 0, 0, 0, 0, 0, 0, 0, 0, 0, 0, 0, 0, 0, 0, 0, 0, 0, 0, 0, 0, 0, 0, 0, 0, 0, 0, 0, 0, 0, 0, 0, 0, 0, 0, 0, 0, 0, 0, 0, 0, ...)  \n",
       "998   (0, 0, 0, 0, 0, 0, 0, 0, 0, 0, 0, 0, 0, 0, 0, 0, 0, 0, 0, 0, 0, 4, 1, 2, 0, 0, 0, 0, 0, 0, 0, 0, 0, 0, 1, 2, 0, 0, 0, 2, 1, 1, 0, 0, 1, 1, 2, 2, 3, 6, 0, 0, 0, 0, 1, 0, 0, 0, 2, 4, 2, 1, 2, 8, 0, 0, 0, 0, 0, 0, 0, 8, 3, 5, 3, 2, 1, 2, 5, 2, 1, 2, 7, 3, 2, 1, 0, 0, 0, 2, 0, 0, 2, 0, 0, 0, 0, 0, 0, 1, ...)  \n",
       "999   (0, 0, 0, 0, 0, 0, 0, 0, 0, 0, 0, 0, 0, 0, 0, 0, 0, 0, 0, 0, 0, 0, 0, 0, 0, 0, 0, 0, 0, 0, 0, 0, 0, 0, 0, 0, 0, 0, 0, 0, 0, 0, 0, 0, 0, 0, 0, 0, 0, 0, 0, 0, 0, 0, 0, 0, 0, 0, 0, 0, 0, 0, 0, 0, 0, 0, 0, 0, 0, 0, 0, 0, 0, 0, 0, 0, 0, 0, 0, 0, 0, 0, 0, 0, 0, 0, 0, 0, 0, 0, 0, 0, 0, 0, 0, 0, 0, 0, 0, 0, ...)  \n",
       "\n",
       "[1000 rows x 7 columns]"
      ]
     },
     "execution_count": 110,
     "metadata": {},
     "output_type": "execute_result"
    }
   ],
   "source": [
    "def _to_series(df):\n",
    "    r = L()\n",
    "    for i in range(df.shape[0]):\n",
    "        r.append(pd.Series(df.iloc[i,6:]))\n",
    "    return r\n",
    "\n",
    "def to_contained_series(df):    \n",
    "    data={k:v for k,v in dict(df).items() if 'd_' not in k}\n",
    "    data['sales'] = _to_series(df)\n",
    "    df = pd.DataFrame(data=data)\n",
    "    return df\n",
    "df_sales = to_contained_series(df_sales)\n",
    "df_sales"
   ]
  },
  {
   "cell_type": "code",
   "execution_count": 111,
   "metadata": {
    "Collapsed": "false"
   },
   "outputs": [
    {
     "ename": "Exception",
     "evalue": "<class 'str'>",
     "output_type": "error",
     "traceback": [
      "\u001b[0;31m---------------------------------------------------------------------------\u001b[0m",
      "\u001b[0;31mException\u001b[0m                                 Traceback (most recent call last)",
      "\u001b[0;32m<ipython-input-111-0197198dcce5>\u001b[0m in \u001b[0;36m<module>\u001b[0;34m\u001b[0m\n\u001b[0;32m----> 1\u001b[0;31m \u001b[0mdbunch\u001b[0m \u001b[0;34m=\u001b[0m  \u001b[0mDfDataLoaders\u001b[0m\u001b[0;34m.\u001b[0m\u001b[0mfrom_df\u001b[0m\u001b[0;34m(\u001b[0m\u001b[0mdf_sales\u001b[0m\u001b[0;34m,\u001b[0m \u001b[0;34m'sales'\u001b[0m\u001b[0;34m,\u001b[0m \u001b[0mhorizon\u001b[0m \u001b[0;34m=\u001b[0m \u001b[0;36m28\u001b[0m\u001b[0;34m,\u001b[0m \u001b[0mlookback\u001b[0m\u001b[0;34m=\u001b[0m\u001b[0;36m28\u001b[0m\u001b[0;34m*\u001b[0m\u001b[0;36m3\u001b[0m\u001b[0;34m,\u001b[0m \u001b[0mstep\u001b[0m\u001b[0;34m=\u001b[0m\u001b[0;36m2\u001b[0m\u001b[0;34m)\u001b[0m\u001b[0;34m\u001b[0m\u001b[0;34m\u001b[0m\u001b[0m\n\u001b[0m\u001b[1;32m      2\u001b[0m \u001b[0mdbunch\u001b[0m\u001b[0;34m.\u001b[0m\u001b[0mtrain\u001b[0m\u001b[0;34m.\u001b[0m\u001b[0mshow_batch\u001b[0m\u001b[0;34m(\u001b[0m\u001b[0mmax_n\u001b[0m\u001b[0;34m=\u001b[0m\u001b[0;36m9\u001b[0m\u001b[0;34m)\u001b[0m\u001b[0;34m\u001b[0m\u001b[0;34m\u001b[0m\u001b[0m\n",
      "\u001b[0;32m<ipython-input-54-26adc760288e>\u001b[0m in \u001b[0;36mfrom_df\u001b[0;34m(cls, dataset, y_name, horizon, valid_pct, seed, lookback, step, incl_test, path, device, norm, **kwargs)\u001b[0m\n\u001b[1;32m     17\u001b[0m             \u001b[0mkwargs\u001b[0m\u001b[0;34m.\u001b[0m\u001b[0mupdate\u001b[0m\u001b[0;34m(\u001b[0m\u001b[0;34m{\u001b[0m\u001b[0;34m'after_batch'\u001b[0m\u001b[0;34m:\u001b[0m\u001b[0mL\u001b[0m\u001b[0;34m(\u001b[0m\u001b[0mNormalizeTSMulti\u001b[0m\u001b[0;34m(\u001b[0m\u001b[0mmake_ones\u001b[0m\u001b[0;34m=\u001b[0m\u001b[0mmake_ones\u001b[0m\u001b[0;34m)\u001b[0m\u001b[0;34m)\u001b[0m\u001b[0;34m}\u001b[0m\u001b[0;34m)\u001b[0m\u001b[0;34m\u001b[0m\u001b[0;34m\u001b[0m\u001b[0m\n\u001b[1;32m     18\u001b[0m         db = DataLoaders(*[DfDataLoader(ds, y_name, horizon=horizon, lookback=lookback, step=step, device=device, norm = False, **kwargs)\n\u001b[0;32m---> 19\u001b[0;31m                            for ds in [train,valid]], path=path, device=device)\n\u001b[0m\u001b[1;32m     20\u001b[0m         \u001b[0;32mif\u001b[0m \u001b[0mincl_test\u001b[0m\u001b[0;34m:\u001b[0m\u001b[0;34m\u001b[0m\u001b[0;34m\u001b[0m\u001b[0m\n\u001b[1;32m     21\u001b[0m             \u001b[0mdb\u001b[0m\u001b[0;34m.\u001b[0m\u001b[0mtest\u001b[0m \u001b[0;34m=\u001b[0m \u001b[0mDfDataLoader\u001b[0m\u001b[0;34m(\u001b[0m\u001b[0mtest\u001b[0m\u001b[0;34m,\u001b[0m \u001b[0my_name\u001b[0m\u001b[0;34m,\u001b[0m \u001b[0mhorizon\u001b[0m\u001b[0;34m=\u001b[0m\u001b[0mhorizon\u001b[0m\u001b[0;34m,\u001b[0m \u001b[0mlookback\u001b[0m\u001b[0;34m=\u001b[0m\u001b[0mlookback\u001b[0m\u001b[0;34m,\u001b[0m \u001b[0mstep\u001b[0m\u001b[0;34m=\u001b[0m\u001b[0mstep\u001b[0m\u001b[0;34m,\u001b[0m \u001b[0mname\u001b[0m\u001b[0;34m=\u001b[0m\u001b[0;34m'test'\u001b[0m\u001b[0;34m,\u001b[0m \u001b[0mdevice\u001b[0m\u001b[0;34m=\u001b[0m\u001b[0mdevice\u001b[0m\u001b[0;34m,\u001b[0m \u001b[0;34m**\u001b[0m\u001b[0mkwargs\u001b[0m\u001b[0;34m)\u001b[0m\u001b[0;34m\u001b[0m\u001b[0;34m\u001b[0m\u001b[0m\n",
      "\u001b[0;32m<ipython-input-54-26adc760288e>\u001b[0m in \u001b[0;36m<listcomp>\u001b[0;34m(.0)\u001b[0m\n\u001b[1;32m     17\u001b[0m             \u001b[0mkwargs\u001b[0m\u001b[0;34m.\u001b[0m\u001b[0mupdate\u001b[0m\u001b[0;34m(\u001b[0m\u001b[0;34m{\u001b[0m\u001b[0;34m'after_batch'\u001b[0m\u001b[0;34m:\u001b[0m\u001b[0mL\u001b[0m\u001b[0;34m(\u001b[0m\u001b[0mNormalizeTSMulti\u001b[0m\u001b[0;34m(\u001b[0m\u001b[0mmake_ones\u001b[0m\u001b[0;34m=\u001b[0m\u001b[0mmake_ones\u001b[0m\u001b[0;34m)\u001b[0m\u001b[0;34m)\u001b[0m\u001b[0;34m}\u001b[0m\u001b[0;34m)\u001b[0m\u001b[0;34m\u001b[0m\u001b[0;34m\u001b[0m\u001b[0m\n\u001b[1;32m     18\u001b[0m         db = DataLoaders(*[DfDataLoader(ds, y_name, horizon=horizon, lookback=lookback, step=step, device=device, norm = False, **kwargs)\n\u001b[0;32m---> 19\u001b[0;31m                            for ds in [train,valid]], path=path, device=device)\n\u001b[0m\u001b[1;32m     20\u001b[0m         \u001b[0;32mif\u001b[0m \u001b[0mincl_test\u001b[0m\u001b[0;34m:\u001b[0m\u001b[0;34m\u001b[0m\u001b[0;34m\u001b[0m\u001b[0m\n\u001b[1;32m     21\u001b[0m             \u001b[0mdb\u001b[0m\u001b[0;34m.\u001b[0m\u001b[0mtest\u001b[0m \u001b[0;34m=\u001b[0m \u001b[0mDfDataLoader\u001b[0m\u001b[0;34m(\u001b[0m\u001b[0mtest\u001b[0m\u001b[0;34m,\u001b[0m \u001b[0my_name\u001b[0m\u001b[0;34m,\u001b[0m \u001b[0mhorizon\u001b[0m\u001b[0;34m=\u001b[0m\u001b[0mhorizon\u001b[0m\u001b[0;34m,\u001b[0m \u001b[0mlookback\u001b[0m\u001b[0;34m=\u001b[0m\u001b[0mlookback\u001b[0m\u001b[0;34m,\u001b[0m \u001b[0mstep\u001b[0m\u001b[0;34m=\u001b[0m\u001b[0mstep\u001b[0m\u001b[0;34m,\u001b[0m \u001b[0mname\u001b[0m\u001b[0;34m=\u001b[0m\u001b[0;34m'test'\u001b[0m\u001b[0;34m,\u001b[0m \u001b[0mdevice\u001b[0m\u001b[0;34m=\u001b[0m\u001b[0mdevice\u001b[0m\u001b[0;34m,\u001b[0m \u001b[0;34m**\u001b[0m\u001b[0mkwargs\u001b[0m\u001b[0;34m)\u001b[0m\u001b[0;34m\u001b[0m\u001b[0;34m\u001b[0m\u001b[0m\n",
      "\u001b[0;32m~/dev/fastseq/fastseq/data/load_pd.py\u001b[0m in \u001b[0;36m__init__\u001b[0;34m(self, dataset, y_name, horizon, lookback, step, min_seq_len, max_std, norm, **kwargs)\u001b[0m\n\u001b[1;32m     39\u001b[0m                 \u001b[0mself\u001b[0m\u001b[0;34m.\u001b[0m\u001b[0mcat_names\u001b[0m\u001b[0;34m.\u001b[0m\u001b[0mappend\u001b[0m\u001b[0;34m(\u001b[0m\u001b[0mcol\u001b[0m\u001b[0;34m)\u001b[0m\u001b[0;34m\u001b[0m\u001b[0;34m\u001b[0m\u001b[0m\n\u001b[1;32m     40\u001b[0m             \u001b[0;32melse\u001b[0m\u001b[0;34m:\u001b[0m\u001b[0;34m\u001b[0m\u001b[0;34m\u001b[0m\u001b[0m\n\u001b[0;32m---> 41\u001b[0;31m                 \u001b[0;32mraise\u001b[0m \u001b[0mException\u001b[0m\u001b[0;34m(\u001b[0m\u001b[0mt\u001b[0m\u001b[0;34m)\u001b[0m\u001b[0;34m\u001b[0m\u001b[0;34m\u001b[0m\u001b[0m\n\u001b[0m\u001b[1;32m     42\u001b[0m         \u001b[0;32massert\u001b[0m \u001b[0my_name\u001b[0m \u001b[0;32min\u001b[0m \u001b[0mself\u001b[0m\u001b[0;34m.\u001b[0m\u001b[0mts_names\u001b[0m\u001b[0;34m\u001b[0m\u001b[0;34m\u001b[0m\u001b[0m\n\u001b[1;32m     43\u001b[0m         \u001b[0mself\u001b[0m\u001b[0;34m.\u001b[0m\u001b[0mts_names\u001b[0m\u001b[0;34m.\u001b[0m\u001b[0mremove\u001b[0m\u001b[0;34m(\u001b[0m\u001b[0my_name\u001b[0m\u001b[0;34m)\u001b[0m\u001b[0;34m\u001b[0m\u001b[0;34m\u001b[0m\u001b[0m\n",
      "\u001b[0;31mException\u001b[0m: <class 'str'>"
     ]
    }
   ],
   "source": [
    "dbunch =  DfDataLoaders.from_df(df_sales, 'sales', horizon = 28, lookback=28*3, step=2)\n",
    "dbunch.train.show_batch(max_n=9)"
   ]
  },
  {
   "cell_type": "code",
   "execution_count": 107,
   "metadata": {
    "Collapsed": "false"
   },
   "outputs": [
    {
     "data": {
      "text/html": [
       "<div>\n",
       "<style scoped>\n",
       "    .dataframe tbody tr th:only-of-type {\n",
       "        vertical-align: middle;\n",
       "    }\n",
       "\n",
       "    .dataframe tbody tr th {\n",
       "        vertical-align: top;\n",
       "    }\n",
       "\n",
       "    .dataframe thead th {\n",
       "        text-align: right;\n",
       "    }\n",
       "</style>\n",
       "<table border=\"1\" class=\"dataframe\">\n",
       "  <thead>\n",
       "    <tr style=\"text-align: right;\">\n",
       "      <th></th>\n",
       "      <th>store_id</th>\n",
       "      <th>item_id</th>\n",
       "      <th>wm_yr_wk</th>\n",
       "      <th>sell_price</th>\n",
       "    </tr>\n",
       "  </thead>\n",
       "  <tbody>\n",
       "    <tr>\n",
       "      <th>0</th>\n",
       "      <td>CA_1</td>\n",
       "      <td>HOBBIES_1_001</td>\n",
       "      <td>11325</td>\n",
       "      <td>9.58</td>\n",
       "    </tr>\n",
       "    <tr>\n",
       "      <th>1</th>\n",
       "      <td>CA_1</td>\n",
       "      <td>HOBBIES_1_001</td>\n",
       "      <td>11326</td>\n",
       "      <td>9.58</td>\n",
       "    </tr>\n",
       "    <tr>\n",
       "      <th>2</th>\n",
       "      <td>CA_1</td>\n",
       "      <td>HOBBIES_1_001</td>\n",
       "      <td>11327</td>\n",
       "      <td>8.26</td>\n",
       "    </tr>\n",
       "    <tr>\n",
       "      <th>3</th>\n",
       "      <td>CA_1</td>\n",
       "      <td>HOBBIES_1_001</td>\n",
       "      <td>11328</td>\n",
       "      <td>8.26</td>\n",
       "    </tr>\n",
       "    <tr>\n",
       "      <th>4</th>\n",
       "      <td>CA_1</td>\n",
       "      <td>HOBBIES_1_001</td>\n",
       "      <td>11329</td>\n",
       "      <td>8.26</td>\n",
       "    </tr>\n",
       "    <tr>\n",
       "      <th>...</th>\n",
       "      <td>...</td>\n",
       "      <td>...</td>\n",
       "      <td>...</td>\n",
       "      <td>...</td>\n",
       "    </tr>\n",
       "    <tr>\n",
       "      <th>6841116</th>\n",
       "      <td>WI_3</td>\n",
       "      <td>FOODS_3_827</td>\n",
       "      <td>11617</td>\n",
       "      <td>1.00</td>\n",
       "    </tr>\n",
       "    <tr>\n",
       "      <th>6841117</th>\n",
       "      <td>WI_3</td>\n",
       "      <td>FOODS_3_827</td>\n",
       "      <td>11618</td>\n",
       "      <td>1.00</td>\n",
       "    </tr>\n",
       "    <tr>\n",
       "      <th>6841118</th>\n",
       "      <td>WI_3</td>\n",
       "      <td>FOODS_3_827</td>\n",
       "      <td>11619</td>\n",
       "      <td>1.00</td>\n",
       "    </tr>\n",
       "    <tr>\n",
       "      <th>6841119</th>\n",
       "      <td>WI_3</td>\n",
       "      <td>FOODS_3_827</td>\n",
       "      <td>11620</td>\n",
       "      <td>1.00</td>\n",
       "    </tr>\n",
       "    <tr>\n",
       "      <th>6841120</th>\n",
       "      <td>WI_3</td>\n",
       "      <td>FOODS_3_827</td>\n",
       "      <td>11621</td>\n",
       "      <td>1.00</td>\n",
       "    </tr>\n",
       "  </tbody>\n",
       "</table>\n",
       "<p>6841121 rows × 4 columns</p>\n",
       "</div>"
      ],
      "text/plain": [
       "        store_id        item_id  wm_yr_wk  sell_price\n",
       "0           CA_1  HOBBIES_1_001     11325        9.58\n",
       "1           CA_1  HOBBIES_1_001     11326        9.58\n",
       "2           CA_1  HOBBIES_1_001     11327        8.26\n",
       "3           CA_1  HOBBIES_1_001     11328        8.26\n",
       "4           CA_1  HOBBIES_1_001     11329        8.26\n",
       "...          ...            ...       ...         ...\n",
       "6841116     WI_3    FOODS_3_827     11617        1.00\n",
       "6841117     WI_3    FOODS_3_827     11618        1.00\n",
       "6841118     WI_3    FOODS_3_827     11619        1.00\n",
       "6841119     WI_3    FOODS_3_827     11620        1.00\n",
       "6841120     WI_3    FOODS_3_827     11621        1.00\n",
       "\n",
       "[6841121 rows x 4 columns]"
      ]
     },
     "execution_count": 107,
     "metadata": {},
     "output_type": "execute_result"
    }
   ],
   "source": [
    "df_prices = pd.read_csv(path / 'sell_prices.csv')\n",
    "df_prices"
   ]
  },
  {
   "cell_type": "code",
   "execution_count": 106,
   "metadata": {
    "Collapsed": "false"
   },
   "outputs": [
    {
     "data": {
      "text/html": [
       "<div>\n",
       "<style scoped>\n",
       "    .dataframe tbody tr th:only-of-type {\n",
       "        vertical-align: middle;\n",
       "    }\n",
       "\n",
       "    .dataframe tbody tr th {\n",
       "        vertical-align: top;\n",
       "    }\n",
       "\n",
       "    .dataframe thead th {\n",
       "        text-align: right;\n",
       "    }\n",
       "</style>\n",
       "<table border=\"1\" class=\"dataframe\">\n",
       "  <thead>\n",
       "    <tr style=\"text-align: right;\">\n",
       "      <th></th>\n",
       "      <th>date</th>\n",
       "      <th>wm_yr_wk</th>\n",
       "      <th>weekday</th>\n",
       "      <th>wday</th>\n",
       "      <th>month</th>\n",
       "      <th>year</th>\n",
       "      <th>d</th>\n",
       "      <th>event_name_1</th>\n",
       "      <th>event_type_1</th>\n",
       "      <th>event_name_2</th>\n",
       "      <th>event_type_2</th>\n",
       "      <th>snap_CA</th>\n",
       "      <th>snap_TX</th>\n",
       "      <th>snap_WI</th>\n",
       "    </tr>\n",
       "  </thead>\n",
       "  <tbody>\n",
       "    <tr>\n",
       "      <th>0</th>\n",
       "      <td>2011-01-29</td>\n",
       "      <td>11101</td>\n",
       "      <td>Saturday</td>\n",
       "      <td>1</td>\n",
       "      <td>1</td>\n",
       "      <td>2011</td>\n",
       "      <td>d_1</td>\n",
       "      <td>NaN</td>\n",
       "      <td>NaN</td>\n",
       "      <td>NaN</td>\n",
       "      <td>NaN</td>\n",
       "      <td>0</td>\n",
       "      <td>0</td>\n",
       "      <td>0</td>\n",
       "    </tr>\n",
       "    <tr>\n",
       "      <th>1</th>\n",
       "      <td>2011-01-30</td>\n",
       "      <td>11101</td>\n",
       "      <td>Sunday</td>\n",
       "      <td>2</td>\n",
       "      <td>1</td>\n",
       "      <td>2011</td>\n",
       "      <td>d_2</td>\n",
       "      <td>NaN</td>\n",
       "      <td>NaN</td>\n",
       "      <td>NaN</td>\n",
       "      <td>NaN</td>\n",
       "      <td>0</td>\n",
       "      <td>0</td>\n",
       "      <td>0</td>\n",
       "    </tr>\n",
       "    <tr>\n",
       "      <th>2</th>\n",
       "      <td>2011-01-31</td>\n",
       "      <td>11101</td>\n",
       "      <td>Monday</td>\n",
       "      <td>3</td>\n",
       "      <td>1</td>\n",
       "      <td>2011</td>\n",
       "      <td>d_3</td>\n",
       "      <td>NaN</td>\n",
       "      <td>NaN</td>\n",
       "      <td>NaN</td>\n",
       "      <td>NaN</td>\n",
       "      <td>0</td>\n",
       "      <td>0</td>\n",
       "      <td>0</td>\n",
       "    </tr>\n",
       "    <tr>\n",
       "      <th>3</th>\n",
       "      <td>2011-02-01</td>\n",
       "      <td>11101</td>\n",
       "      <td>Tuesday</td>\n",
       "      <td>4</td>\n",
       "      <td>2</td>\n",
       "      <td>2011</td>\n",
       "      <td>d_4</td>\n",
       "      <td>NaN</td>\n",
       "      <td>NaN</td>\n",
       "      <td>NaN</td>\n",
       "      <td>NaN</td>\n",
       "      <td>1</td>\n",
       "      <td>1</td>\n",
       "      <td>0</td>\n",
       "    </tr>\n",
       "    <tr>\n",
       "      <th>4</th>\n",
       "      <td>2011-02-02</td>\n",
       "      <td>11101</td>\n",
       "      <td>Wednesday</td>\n",
       "      <td>5</td>\n",
       "      <td>2</td>\n",
       "      <td>2011</td>\n",
       "      <td>d_5</td>\n",
       "      <td>NaN</td>\n",
       "      <td>NaN</td>\n",
       "      <td>NaN</td>\n",
       "      <td>NaN</td>\n",
       "      <td>1</td>\n",
       "      <td>0</td>\n",
       "      <td>1</td>\n",
       "    </tr>\n",
       "    <tr>\n",
       "      <th>...</th>\n",
       "      <td>...</td>\n",
       "      <td>...</td>\n",
       "      <td>...</td>\n",
       "      <td>...</td>\n",
       "      <td>...</td>\n",
       "      <td>...</td>\n",
       "      <td>...</td>\n",
       "      <td>...</td>\n",
       "      <td>...</td>\n",
       "      <td>...</td>\n",
       "      <td>...</td>\n",
       "      <td>...</td>\n",
       "      <td>...</td>\n",
       "      <td>...</td>\n",
       "    </tr>\n",
       "    <tr>\n",
       "      <th>1964</th>\n",
       "      <td>2016-06-15</td>\n",
       "      <td>11620</td>\n",
       "      <td>Wednesday</td>\n",
       "      <td>5</td>\n",
       "      <td>6</td>\n",
       "      <td>2016</td>\n",
       "      <td>d_1965</td>\n",
       "      <td>NaN</td>\n",
       "      <td>NaN</td>\n",
       "      <td>NaN</td>\n",
       "      <td>NaN</td>\n",
       "      <td>0</td>\n",
       "      <td>1</td>\n",
       "      <td>1</td>\n",
       "    </tr>\n",
       "    <tr>\n",
       "      <th>1965</th>\n",
       "      <td>2016-06-16</td>\n",
       "      <td>11620</td>\n",
       "      <td>Thursday</td>\n",
       "      <td>6</td>\n",
       "      <td>6</td>\n",
       "      <td>2016</td>\n",
       "      <td>d_1966</td>\n",
       "      <td>NaN</td>\n",
       "      <td>NaN</td>\n",
       "      <td>NaN</td>\n",
       "      <td>NaN</td>\n",
       "      <td>0</td>\n",
       "      <td>0</td>\n",
       "      <td>0</td>\n",
       "    </tr>\n",
       "    <tr>\n",
       "      <th>1966</th>\n",
       "      <td>2016-06-17</td>\n",
       "      <td>11620</td>\n",
       "      <td>Friday</td>\n",
       "      <td>7</td>\n",
       "      <td>6</td>\n",
       "      <td>2016</td>\n",
       "      <td>d_1967</td>\n",
       "      <td>NaN</td>\n",
       "      <td>NaN</td>\n",
       "      <td>NaN</td>\n",
       "      <td>NaN</td>\n",
       "      <td>0</td>\n",
       "      <td>0</td>\n",
       "      <td>0</td>\n",
       "    </tr>\n",
       "    <tr>\n",
       "      <th>1967</th>\n",
       "      <td>2016-06-18</td>\n",
       "      <td>11621</td>\n",
       "      <td>Saturday</td>\n",
       "      <td>1</td>\n",
       "      <td>6</td>\n",
       "      <td>2016</td>\n",
       "      <td>d_1968</td>\n",
       "      <td>NaN</td>\n",
       "      <td>NaN</td>\n",
       "      <td>NaN</td>\n",
       "      <td>NaN</td>\n",
       "      <td>0</td>\n",
       "      <td>0</td>\n",
       "      <td>0</td>\n",
       "    </tr>\n",
       "    <tr>\n",
       "      <th>1968</th>\n",
       "      <td>2016-06-19</td>\n",
       "      <td>11621</td>\n",
       "      <td>Sunday</td>\n",
       "      <td>2</td>\n",
       "      <td>6</td>\n",
       "      <td>2016</td>\n",
       "      <td>d_1969</td>\n",
       "      <td>NBAFinalsEnd</td>\n",
       "      <td>Sporting</td>\n",
       "      <td>Father's day</td>\n",
       "      <td>Cultural</td>\n",
       "      <td>0</td>\n",
       "      <td>0</td>\n",
       "      <td>0</td>\n",
       "    </tr>\n",
       "  </tbody>\n",
       "</table>\n",
       "<p>1969 rows × 14 columns</p>\n",
       "</div>"
      ],
      "text/plain": [
       "            date  wm_yr_wk    weekday  wday  month  year       d  \\\n",
       "0     2011-01-29     11101   Saturday     1      1  2011     d_1   \n",
       "1     2011-01-30     11101     Sunday     2      1  2011     d_2   \n",
       "2     2011-01-31     11101     Monday     3      1  2011     d_3   \n",
       "3     2011-02-01     11101    Tuesday     4      2  2011     d_4   \n",
       "4     2011-02-02     11101  Wednesday     5      2  2011     d_5   \n",
       "...          ...       ...        ...   ...    ...   ...     ...   \n",
       "1964  2016-06-15     11620  Wednesday     5      6  2016  d_1965   \n",
       "1965  2016-06-16     11620   Thursday     6      6  2016  d_1966   \n",
       "1966  2016-06-17     11620     Friday     7      6  2016  d_1967   \n",
       "1967  2016-06-18     11621   Saturday     1      6  2016  d_1968   \n",
       "1968  2016-06-19     11621     Sunday     2      6  2016  d_1969   \n",
       "\n",
       "      event_name_1 event_type_1  event_name_2 event_type_2  snap_CA  snap_TX  \\\n",
       "0              NaN          NaN           NaN          NaN        0        0   \n",
       "1              NaN          NaN           NaN          NaN        0        0   \n",
       "2              NaN          NaN           NaN          NaN        0        0   \n",
       "3              NaN          NaN           NaN          NaN        1        1   \n",
       "4              NaN          NaN           NaN          NaN        1        0   \n",
       "...            ...          ...           ...          ...      ...      ...   \n",
       "1964           NaN          NaN           NaN          NaN        0        1   \n",
       "1965           NaN          NaN           NaN          NaN        0        0   \n",
       "1966           NaN          NaN           NaN          NaN        0        0   \n",
       "1967           NaN          NaN           NaN          NaN        0        0   \n",
       "1968  NBAFinalsEnd     Sporting  Father's day     Cultural        0        0   \n",
       "\n",
       "      snap_WI  \n",
       "0           0  \n",
       "1           0  \n",
       "2           0  \n",
       "3           0  \n",
       "4           1  \n",
       "...       ...  \n",
       "1964        1  \n",
       "1965        0  \n",
       "1966        0  \n",
       "1967        0  \n",
       "1968        0  \n",
       "\n",
       "[1969 rows x 14 columns]"
      ]
     },
     "execution_count": 106,
     "metadata": {},
     "output_type": "execute_result"
    }
   ],
   "source": [
    "df_cal = pd.read_csv(path / 'calendar.csv')\n",
    "df_cal"
   ]
  },
  {
   "cell_type": "code",
   "execution_count": 40,
   "metadata": {
    "Collapsed": "false"
   },
   "outputs": [
    {
     "name": "stdout",
     "output_type": "stream",
     "text": [
      "Converted 00_core.ipynb.\n",
      "Converted 01_data.external.ipynb.\n",
      "Converted 020_data.load_pd.ipynb.\n",
      "Converted 02_data.load.ipynb.\n",
      "Converted 030_data.core_pd.ipynb.\n",
      "Converted 03_data.core.ipynb.\n",
      "Converted 050_nbeats.models_multi.ipynb.\n",
      "Converted 05_nbeats.models.ipynb.\n",
      "Converted 06_nbeats.callbacks.ipynb.\n",
      "Converted 07_nbeats.learner.ipynb.\n",
      "Converted 08_nbeats.interpret.ipynb.\n",
      "Converted 11_metrics.ipynb.\n",
      "Converted 12_compare.ipynb.\n",
      "Converted index.ipynb.\n"
     ]
    }
   ],
   "source": [
    "# hide\n",
    "from nbdev.export import *\n",
    "\n",
    "notebook2script()"
   ]
  },
  {
   "cell_type": "code",
   "execution_count": null,
   "metadata": {
    "Collapsed": "false"
   },
   "outputs": [],
   "source": []
  },
  {
   "cell_type": "code",
   "execution_count": null,
   "metadata": {
    "Collapsed": "false"
   },
   "outputs": [],
   "source": []
  }
 ],
 "metadata": {
  "kernelspec": {
   "display_name": "env37",
   "language": "python",
   "name": "env37"
  },
  "language_info": {
   "codemirror_mode": {
    "name": "ipython",
    "version": 3
   },
   "file_extension": ".py",
   "mimetype": "text/x-python",
   "name": "python",
   "nbconvert_exporter": "python",
   "pygments_lexer": "ipython3",
   "version": "3.7.4"
  }
 },
 "nbformat": 4,
 "nbformat_minor": 4
}
